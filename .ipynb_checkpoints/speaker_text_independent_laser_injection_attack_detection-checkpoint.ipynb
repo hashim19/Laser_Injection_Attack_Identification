{
 "cells": [
  {
   "cell_type": "code",
   "execution_count": 1,
   "id": "512b88a4",
   "metadata": {},
   "outputs": [],
   "source": [
    "import pywt\n",
    "import os\n",
    "import pandas as pd\n",
    "import librosa\n",
    "import librosa.display\n",
    "import glob \n",
    "import numpy as np\n",
    "import matplotlib.pyplot as plt\n",
    "from matplotlib import cm\n",
    "import seaborn as sns\n",
    "from fitter import Fitter, get_common_distributions, get_distributions\n",
    "from matplotlib.ticker import FormatStrFormatter\n",
    "\n",
    "from sklearn.preprocessing import StandardScaler\n",
    "import sklearn\n",
    "import pickle\n",
    "\n",
    "from utils import plot_projections\n",
    "\n",
    "from scipy.stats import kurtosis, skew\n",
    "\n",
    "%matplotlib widget"
   ]
  },
  {
   "cell_type": "code",
   "execution_count": 2,
   "id": "bc58ec2c",
   "metadata": {},
   "outputs": [],
   "source": [
    "def extract_speaker_num(f):\n",
    "    \n",
    "    substr = f.split('/')[7].split('_')\n",
    "    \n",
    "    speaker_str = re.split('(\\d+)', substr[2])\n",
    "    \n",
    "    return int(speaker_str[1])"
   ]
  },
  {
   "cell_type": "code",
   "execution_count": 29,
   "id": "38fcb711",
   "metadata": {},
   "outputs": [
    {
     "name": "stdout",
     "output_type": "stream",
     "text": [
      "['/home/hashim/PHD/audio_data/AllAudioSamples/train/laser/speaker10_001.wav', '/home/hashim/PHD/audio_data/AllAudioSamples/train/laser/speaker10_002.wav', '/home/hashim/PHD/audio_data/AllAudioSamples/train/laser/speaker10_003.wav', '/home/hashim/PHD/audio_data/AllAudioSamples/train/laser/speaker10_004.wav', '/home/hashim/PHD/audio_data/AllAudioSamples/train/laser/speaker10_005.wav', '/home/hashim/PHD/audio_data/AllAudioSamples/train/laser/speaker11_001.wav', '/home/hashim/PHD/audio_data/AllAudioSamples/train/laser/speaker11_002.wav', '/home/hashim/PHD/audio_data/AllAudioSamples/train/laser/speaker11_003.wav', '/home/hashim/PHD/audio_data/AllAudioSamples/train/laser/speaker11_004.wav', '/home/hashim/PHD/audio_data/AllAudioSamples/train/laser/speaker11_005.wav', '/home/hashim/PHD/audio_data/AllAudioSamples/train/laser/speaker12_001.wav', '/home/hashim/PHD/audio_data/AllAudioSamples/train/laser/speaker12_002.wav', '/home/hashim/PHD/audio_data/AllAudioSamples/train/laser/speaker12_003.wav', '/home/hashim/PHD/audio_data/AllAudioSamples/train/laser/speaker12_004.wav', '/home/hashim/PHD/audio_data/AllAudioSamples/train/laser/speaker12_005.wav', '/home/hashim/PHD/audio_data/AllAudioSamples/train/laser/speaker13_001.wav', '/home/hashim/PHD/audio_data/AllAudioSamples/train/laser/speaker13_002.wav', '/home/hashim/PHD/audio_data/AllAudioSamples/train/laser/speaker13_003.wav', '/home/hashim/PHD/audio_data/AllAudioSamples/train/laser/speaker13_004.wav', '/home/hashim/PHD/audio_data/AllAudioSamples/train/laser/speaker13_005.wav', '/home/hashim/PHD/audio_data/AllAudioSamples/train/laser/speaker14_001.wav', '/home/hashim/PHD/audio_data/AllAudioSamples/train/laser/speaker14_002.wav', '/home/hashim/PHD/audio_data/AllAudioSamples/train/laser/speaker14_003.wav', '/home/hashim/PHD/audio_data/AllAudioSamples/train/laser/speaker14_004.wav', '/home/hashim/PHD/audio_data/AllAudioSamples/train/laser/speaker14_005.wav', '/home/hashim/PHD/audio_data/AllAudioSamples/train/laser/speaker1_001.wav', '/home/hashim/PHD/audio_data/AllAudioSamples/train/laser/speaker1_002.wav', '/home/hashim/PHD/audio_data/AllAudioSamples/train/laser/speaker1_003.wav', '/home/hashim/PHD/audio_data/AllAudioSamples/train/laser/speaker1_004.wav', '/home/hashim/PHD/audio_data/AllAudioSamples/train/laser/speaker1_005.wav', '/home/hashim/PHD/audio_data/AllAudioSamples/train/laser/speaker2_001.wav', '/home/hashim/PHD/audio_data/AllAudioSamples/train/laser/speaker2_002.wav', '/home/hashim/PHD/audio_data/AllAudioSamples/train/laser/speaker2_003.wav', '/home/hashim/PHD/audio_data/AllAudioSamples/train/laser/speaker2_004.wav', '/home/hashim/PHD/audio_data/AllAudioSamples/train/laser/speaker2_005.wav', '/home/hashim/PHD/audio_data/AllAudioSamples/train/laser/speaker3_001.wav', '/home/hashim/PHD/audio_data/AllAudioSamples/train/laser/speaker3_002.wav', '/home/hashim/PHD/audio_data/AllAudioSamples/train/laser/speaker3_003.wav', '/home/hashim/PHD/audio_data/AllAudioSamples/train/laser/speaker3_004.wav', '/home/hashim/PHD/audio_data/AllAudioSamples/train/laser/speaker3_005.wav', '/home/hashim/PHD/audio_data/AllAudioSamples/train/laser/speaker4_001.wav', '/home/hashim/PHD/audio_data/AllAudioSamples/train/laser/speaker4_002.wav', '/home/hashim/PHD/audio_data/AllAudioSamples/train/laser/speaker4_003.wav', '/home/hashim/PHD/audio_data/AllAudioSamples/train/laser/speaker4_004.wav', '/home/hashim/PHD/audio_data/AllAudioSamples/train/laser/speaker4_005.wav', '/home/hashim/PHD/audio_data/AllAudioSamples/train/laser/speaker5_001.wav', '/home/hashim/PHD/audio_data/AllAudioSamples/train/laser/speaker5_002.wav', '/home/hashim/PHD/audio_data/AllAudioSamples/train/laser/speaker5_003.wav', '/home/hashim/PHD/audio_data/AllAudioSamples/train/laser/speaker5_004.wav', '/home/hashim/PHD/audio_data/AllAudioSamples/train/laser/speaker5_005.wav', '/home/hashim/PHD/audio_data/AllAudioSamples/train/laser/speaker6_001.wav', '/home/hashim/PHD/audio_data/AllAudioSamples/train/laser/speaker6_002.wav', '/home/hashim/PHD/audio_data/AllAudioSamples/train/laser/speaker6_003.wav', '/home/hashim/PHD/audio_data/AllAudioSamples/train/laser/speaker6_004.wav', '/home/hashim/PHD/audio_data/AllAudioSamples/train/laser/speaker6_005.wav', '/home/hashim/PHD/audio_data/AllAudioSamples/train/laser/speaker7_001.wav', '/home/hashim/PHD/audio_data/AllAudioSamples/train/laser/speaker7_002.wav', '/home/hashim/PHD/audio_data/AllAudioSamples/train/laser/speaker7_003.wav', '/home/hashim/PHD/audio_data/AllAudioSamples/train/laser/speaker7_004.wav', '/home/hashim/PHD/audio_data/AllAudioSamples/train/laser/speaker7_005.wav', '/home/hashim/PHD/audio_data/AllAudioSamples/train/laser/speaker8_001.wav', '/home/hashim/PHD/audio_data/AllAudioSamples/train/laser/speaker8_002.wav', '/home/hashim/PHD/audio_data/AllAudioSamples/train/laser/speaker8_003.wav', '/home/hashim/PHD/audio_data/AllAudioSamples/train/laser/speaker8_004.wav', '/home/hashim/PHD/audio_data/AllAudioSamples/train/laser/speaker8_005.wav', '/home/hashim/PHD/audio_data/AllAudioSamples/train/laser/speaker9_001.wav', '/home/hashim/PHD/audio_data/AllAudioSamples/train/laser/speaker9_002.wav', '/home/hashim/PHD/audio_data/AllAudioSamples/train/laser/speaker9_003.wav', '/home/hashim/PHD/audio_data/AllAudioSamples/train/laser/speaker9_004.wav', '/home/hashim/PHD/audio_data/AllAudioSamples/train/laser/speaker9_005.wav']\n",
      "70\n"
     ]
    }
   ],
   "source": [
    "# train_dir = '/home/hashim/PHD/audio_data/AllAudioSamples/train_text_independent/'\n",
    "train_dir = '/home/hashim/PHD/audio_data/AllAudioSamples/train/'\n",
    "train_files_laser = list(glob.glob(os.path.join(train_dir + 'laser/', '*.wav')))\n",
    "train_files_laser.sort()\n",
    "print(train_files_laser)\n",
    "print(len(train_files_laser))"
   ]
  },
  {
   "cell_type": "code",
   "execution_count": 30,
   "id": "235b52cc",
   "metadata": {},
   "outputs": [
    {
     "name": "stdout",
     "output_type": "stream",
     "text": [
      "['/home/hashim/PHD/audio_data/AllAudioSamples/train/original/speaker10_001.wav', '/home/hashim/PHD/audio_data/AllAudioSamples/train/original/speaker10_002.wav', '/home/hashim/PHD/audio_data/AllAudioSamples/train/original/speaker10_003.wav', '/home/hashim/PHD/audio_data/AllAudioSamples/train/original/speaker10_004.wav', '/home/hashim/PHD/audio_data/AllAudioSamples/train/original/speaker10_005.wav', '/home/hashim/PHD/audio_data/AllAudioSamples/train/original/speaker11_001.wav', '/home/hashim/PHD/audio_data/AllAudioSamples/train/original/speaker11_002.wav', '/home/hashim/PHD/audio_data/AllAudioSamples/train/original/speaker11_003.wav', '/home/hashim/PHD/audio_data/AllAudioSamples/train/original/speaker11_004.wav', '/home/hashim/PHD/audio_data/AllAudioSamples/train/original/speaker11_005.wav', '/home/hashim/PHD/audio_data/AllAudioSamples/train/original/speaker12_001.wav', '/home/hashim/PHD/audio_data/AllAudioSamples/train/original/speaker12_002.wav', '/home/hashim/PHD/audio_data/AllAudioSamples/train/original/speaker12_003.wav', '/home/hashim/PHD/audio_data/AllAudioSamples/train/original/speaker12_004.wav', '/home/hashim/PHD/audio_data/AllAudioSamples/train/original/speaker12_005.wav', '/home/hashim/PHD/audio_data/AllAudioSamples/train/original/speaker13_001.wav', '/home/hashim/PHD/audio_data/AllAudioSamples/train/original/speaker13_002.wav', '/home/hashim/PHD/audio_data/AllAudioSamples/train/original/speaker13_003.wav', '/home/hashim/PHD/audio_data/AllAudioSamples/train/original/speaker13_004.wav', '/home/hashim/PHD/audio_data/AllAudioSamples/train/original/speaker13_005.wav', '/home/hashim/PHD/audio_data/AllAudioSamples/train/original/speaker14_001.wav', '/home/hashim/PHD/audio_data/AllAudioSamples/train/original/speaker14_002.wav', '/home/hashim/PHD/audio_data/AllAudioSamples/train/original/speaker14_003.wav', '/home/hashim/PHD/audio_data/AllAudioSamples/train/original/speaker14_004.wav', '/home/hashim/PHD/audio_data/AllAudioSamples/train/original/speaker14_005.wav', '/home/hashim/PHD/audio_data/AllAudioSamples/train/original/speaker1_001.wav', '/home/hashim/PHD/audio_data/AllAudioSamples/train/original/speaker1_002.wav', '/home/hashim/PHD/audio_data/AllAudioSamples/train/original/speaker1_003.wav', '/home/hashim/PHD/audio_data/AllAudioSamples/train/original/speaker1_004.wav', '/home/hashim/PHD/audio_data/AllAudioSamples/train/original/speaker1_005.wav', '/home/hashim/PHD/audio_data/AllAudioSamples/train/original/speaker2_001.wav', '/home/hashim/PHD/audio_data/AllAudioSamples/train/original/speaker2_002.wav', '/home/hashim/PHD/audio_data/AllAudioSamples/train/original/speaker2_003.wav', '/home/hashim/PHD/audio_data/AllAudioSamples/train/original/speaker2_004.wav', '/home/hashim/PHD/audio_data/AllAudioSamples/train/original/speaker2_005.wav', '/home/hashim/PHD/audio_data/AllAudioSamples/train/original/speaker3_001.wav', '/home/hashim/PHD/audio_data/AllAudioSamples/train/original/speaker3_002.wav', '/home/hashim/PHD/audio_data/AllAudioSamples/train/original/speaker3_003.wav', '/home/hashim/PHD/audio_data/AllAudioSamples/train/original/speaker3_004.wav', '/home/hashim/PHD/audio_data/AllAudioSamples/train/original/speaker3_005.wav', '/home/hashim/PHD/audio_data/AllAudioSamples/train/original/speaker4_001.wav', '/home/hashim/PHD/audio_data/AllAudioSamples/train/original/speaker4_002.wav', '/home/hashim/PHD/audio_data/AllAudioSamples/train/original/speaker4_003.wav', '/home/hashim/PHD/audio_data/AllAudioSamples/train/original/speaker4_004.wav', '/home/hashim/PHD/audio_data/AllAudioSamples/train/original/speaker4_005.wav', '/home/hashim/PHD/audio_data/AllAudioSamples/train/original/speaker5_001.wav', '/home/hashim/PHD/audio_data/AllAudioSamples/train/original/speaker5_002.wav', '/home/hashim/PHD/audio_data/AllAudioSamples/train/original/speaker5_003.wav', '/home/hashim/PHD/audio_data/AllAudioSamples/train/original/speaker5_004.wav', '/home/hashim/PHD/audio_data/AllAudioSamples/train/original/speaker5_005.wav', '/home/hashim/PHD/audio_data/AllAudioSamples/train/original/speaker6_001.wav', '/home/hashim/PHD/audio_data/AllAudioSamples/train/original/speaker6_002.wav', '/home/hashim/PHD/audio_data/AllAudioSamples/train/original/speaker6_003.wav', '/home/hashim/PHD/audio_data/AllAudioSamples/train/original/speaker6_004.wav', '/home/hashim/PHD/audio_data/AllAudioSamples/train/original/speaker6_005.wav', '/home/hashim/PHD/audio_data/AllAudioSamples/train/original/speaker7_001.wav', '/home/hashim/PHD/audio_data/AllAudioSamples/train/original/speaker7_002.wav', '/home/hashim/PHD/audio_data/AllAudioSamples/train/original/speaker7_003.wav', '/home/hashim/PHD/audio_data/AllAudioSamples/train/original/speaker7_004.wav', '/home/hashim/PHD/audio_data/AllAudioSamples/train/original/speaker7_005.wav', '/home/hashim/PHD/audio_data/AllAudioSamples/train/original/speaker8_001.wav', '/home/hashim/PHD/audio_data/AllAudioSamples/train/original/speaker8_002.wav', '/home/hashim/PHD/audio_data/AllAudioSamples/train/original/speaker8_003.wav', '/home/hashim/PHD/audio_data/AllAudioSamples/train/original/speaker8_004.wav', '/home/hashim/PHD/audio_data/AllAudioSamples/train/original/speaker8_005.wav', '/home/hashim/PHD/audio_data/AllAudioSamples/train/original/speaker9_001.wav', '/home/hashim/PHD/audio_data/AllAudioSamples/train/original/speaker9_002.wav', '/home/hashim/PHD/audio_data/AllAudioSamples/train/original/speaker9_003.wav', '/home/hashim/PHD/audio_data/AllAudioSamples/train/original/speaker9_004.wav', '/home/hashim/PHD/audio_data/AllAudioSamples/train/original/speaker9_005.wav']\n",
      "70\n"
     ]
    }
   ],
   "source": [
    "train_files_original = list(glob.glob(os.path.join(train_dir + 'original/', '*.wav')))\n",
    "train_files_original.sort()\n",
    "print(train_files_original)\n",
    "print(len(train_files_original))"
   ]
  },
  {
   "cell_type": "code",
   "execution_count": 31,
   "id": "ffc4508b",
   "metadata": {},
   "outputs": [],
   "source": [
    "# test_dir = '/home/hashim/PHD/audio_data/AllAudioSamples/test_text_independent/'\n",
    "test_dir = '/home/hashim/PHD/audio_data/AllAudioSamples/test/'"
   ]
  },
  {
   "cell_type": "code",
   "execution_count": 32,
   "id": "7e54dc2b",
   "metadata": {},
   "outputs": [
    {
     "name": "stdout",
     "output_type": "stream",
     "text": [
      "['/home/hashim/PHD/audio_data/AllAudioSamples/test/laser/speaker15_001.wav', '/home/hashim/PHD/audio_data/AllAudioSamples/test/laser/speaker15_002.wav', '/home/hashim/PHD/audio_data/AllAudioSamples/test/laser/speaker15_003.wav', '/home/hashim/PHD/audio_data/AllAudioSamples/test/laser/speaker15_004.wav', '/home/hashim/PHD/audio_data/AllAudioSamples/test/laser/speaker15_005.wav', '/home/hashim/PHD/audio_data/AllAudioSamples/test/laser/speaker16_001.wav', '/home/hashim/PHD/audio_data/AllAudioSamples/test/laser/speaker16_002.wav', '/home/hashim/PHD/audio_data/AllAudioSamples/test/laser/speaker16_003.wav', '/home/hashim/PHD/audio_data/AllAudioSamples/test/laser/speaker16_004.wav', '/home/hashim/PHD/audio_data/AllAudioSamples/test/laser/speaker16_005.wav', '/home/hashim/PHD/audio_data/AllAudioSamples/test/laser/speaker17_001.wav', '/home/hashim/PHD/audio_data/AllAudioSamples/test/laser/speaker17_002.wav', '/home/hashim/PHD/audio_data/AllAudioSamples/test/laser/speaker17_003.wav', '/home/hashim/PHD/audio_data/AllAudioSamples/test/laser/speaker17_004.wav', '/home/hashim/PHD/audio_data/AllAudioSamples/test/laser/speaker17_005.wav', '/home/hashim/PHD/audio_data/AllAudioSamples/test/laser/speaker18_001.wav', '/home/hashim/PHD/audio_data/AllAudioSamples/test/laser/speaker18_002.wav', '/home/hashim/PHD/audio_data/AllAudioSamples/test/laser/speaker18_003.wav', '/home/hashim/PHD/audio_data/AllAudioSamples/test/laser/speaker18_004.wav', '/home/hashim/PHD/audio_data/AllAudioSamples/test/laser/speaker18_005.wav', '/home/hashim/PHD/audio_data/AllAudioSamples/test/laser/speaker19_001.wav', '/home/hashim/PHD/audio_data/AllAudioSamples/test/laser/speaker19_002.wav', '/home/hashim/PHD/audio_data/AllAudioSamples/test/laser/speaker19_003.wav', '/home/hashim/PHD/audio_data/AllAudioSamples/test/laser/speaker19_004.wav', '/home/hashim/PHD/audio_data/AllAudioSamples/test/laser/speaker19_005.wav']\n",
      "25\n"
     ]
    }
   ],
   "source": [
    "test_files_laser = list(glob.glob(os.path.join(test_dir + 'laser/', '*.wav')))\n",
    "test_files_laser.sort()\n",
    "print(test_files_laser)\n",
    "print(len(test_files_laser))"
   ]
  },
  {
   "cell_type": "code",
   "execution_count": 33,
   "id": "8ebdc4d0",
   "metadata": {},
   "outputs": [
    {
     "name": "stdout",
     "output_type": "stream",
     "text": [
      "['/home/hashim/PHD/audio_data/AllAudioSamples/test/original/speaker15_001.wav', '/home/hashim/PHD/audio_data/AllAudioSamples/test/original/speaker15_002.wav', '/home/hashim/PHD/audio_data/AllAudioSamples/test/original/speaker15_003.wav', '/home/hashim/PHD/audio_data/AllAudioSamples/test/original/speaker15_004.wav', '/home/hashim/PHD/audio_data/AllAudioSamples/test/original/speaker15_005.wav', '/home/hashim/PHD/audio_data/AllAudioSamples/test/original/speaker16_001.wav', '/home/hashim/PHD/audio_data/AllAudioSamples/test/original/speaker16_002.wav', '/home/hashim/PHD/audio_data/AllAudioSamples/test/original/speaker16_003.wav', '/home/hashim/PHD/audio_data/AllAudioSamples/test/original/speaker16_004.wav', '/home/hashim/PHD/audio_data/AllAudioSamples/test/original/speaker16_005.wav', '/home/hashim/PHD/audio_data/AllAudioSamples/test/original/speaker17_001.wav', '/home/hashim/PHD/audio_data/AllAudioSamples/test/original/speaker17_002.wav', '/home/hashim/PHD/audio_data/AllAudioSamples/test/original/speaker17_003.wav', '/home/hashim/PHD/audio_data/AllAudioSamples/test/original/speaker17_004.wav', '/home/hashim/PHD/audio_data/AllAudioSamples/test/original/speaker17_005.wav', '/home/hashim/PHD/audio_data/AllAudioSamples/test/original/speaker18_001.wav', '/home/hashim/PHD/audio_data/AllAudioSamples/test/original/speaker18_002.wav', '/home/hashim/PHD/audio_data/AllAudioSamples/test/original/speaker18_003.wav', '/home/hashim/PHD/audio_data/AllAudioSamples/test/original/speaker18_004.wav', '/home/hashim/PHD/audio_data/AllAudioSamples/test/original/speaker18_005.wav', '/home/hashim/PHD/audio_data/AllAudioSamples/test/original/speaker19_001.wav', '/home/hashim/PHD/audio_data/AllAudioSamples/test/original/speaker19_002.wav', '/home/hashim/PHD/audio_data/AllAudioSamples/test/original/speaker19_003.wav', '/home/hashim/PHD/audio_data/AllAudioSamples/test/original/speaker19_004.wav', '/home/hashim/PHD/audio_data/AllAudioSamples/test/original/speaker19_005.wav']\n",
      "25\n"
     ]
    }
   ],
   "source": [
    "test_files_original = list(glob.glob(os.path.join(test_dir + 'original/', '*.wav')))\n",
    "test_files_original.sort()\n",
    "print(test_files_original)\n",
    "print(len(test_files_original))"
   ]
  },
  {
   "cell_type": "markdown",
   "id": "3c6ff5c4",
   "metadata": {},
   "source": [
    "### Computing Coefficients"
   ]
  },
  {
   "cell_type": "code",
   "execution_count": 34,
   "id": "cbd28c80",
   "metadata": {},
   "outputs": [],
   "source": [
    "def compute_coefficients(files_ls):\n",
    "    \n",
    "    db1 = pywt.Wavelet('db1')\n",
    "    \n",
    "    sigma_feat_ls = []\n",
    "    skew_feat_ls = []\n",
    "    kurt_feat_ls = []\n",
    "\n",
    "    for af in files_ls:\n",
    "        audio_data, sr = librosa.load(af, res_type='kaiser_fast')\n",
    "        audio_data = librosa.util.normalize(audio_data)\n",
    "        \n",
    "        coeffs = pywt.wavedec(audio_data, db1, mode='constant', level=5)\n",
    "\n",
    "\n",
    "        sigma_feat = []\n",
    "        skew_feat = []\n",
    "        kurt_feat = []\n",
    "\n",
    "        for cf in coeffs:\n",
    "\n",
    "#             sigma_feat.append(np.var(cf, ddof=1))\n",
    "            sigma_feat.append(np.log(np.var(cf)))\n",
    "            skew_feat.append(skew(cf))\n",
    "            kurt_feat.append(kurtosis(cf))\n",
    "\n",
    "        sigma_feat_ls.append(sigma_feat)\n",
    "        skew_feat_ls.append(skew_feat)\n",
    "        kurt_feat_ls.append(kurt_feat)    \n",
    "\n",
    "    sigma_feat = np.array(sigma_feat_ls)\n",
    "    skew_feat = np.array(skew_feat_ls)\n",
    "    kurt_feat = np.array(kurt_feat_ls)\n",
    "    \n",
    "    return sigma_feat, skew_feat, kurt_feat"
   ]
  },
  {
   "cell_type": "code",
   "execution_count": 35,
   "id": "f2a480fa",
   "metadata": {},
   "outputs": [],
   "source": [
    "laser_train_sigma, laser_train_skew, laser_train_kurt = compute_coefficients(train_files_laser)\n",
    "original_train_sigma, original_train_skew, original_train_kurt = compute_coefficients(train_files_original) "
   ]
  },
  {
   "cell_type": "code",
   "execution_count": 36,
   "id": "9690a44e",
   "metadata": {},
   "outputs": [],
   "source": [
    "laser_test_sigma, laser_test_skew, laser_test_kurt = compute_coefficients(test_files_laser)\n",
    "original_test_sigma, original_test_skew, original_test_kurt = compute_coefficients(test_files_original)"
   ]
  },
  {
   "cell_type": "code",
   "execution_count": 37,
   "id": "5e848469",
   "metadata": {},
   "outputs": [
    {
     "name": "stdout",
     "output_type": "stream",
     "text": [
      "(70, 6)\n",
      "(70, 6)\n"
     ]
    }
   ],
   "source": [
    "print(laser_train_sigma.shape)\n",
    "print(original_train_sigma.shape)"
   ]
  },
  {
   "cell_type": "code",
   "execution_count": 38,
   "id": "56f96a28",
   "metadata": {},
   "outputs": [
    {
     "name": "stdout",
     "output_type": "stream",
     "text": [
      "(25, 6)\n",
      "(25, 6)\n"
     ]
    }
   ],
   "source": [
    "print(laser_test_sigma.shape)\n",
    "print(original_test_sigma.shape)"
   ]
  },
  {
   "cell_type": "markdown",
   "id": "97b07d92",
   "metadata": {},
   "source": [
    "## SVM with Linear Kernel"
   ]
  },
  {
   "cell_type": "code",
   "execution_count": 136,
   "id": "35434fc4",
   "metadata": {},
   "outputs": [],
   "source": [
    "import sklearn\n",
    "\n",
    "from sklearn.svm import LinearSVC\n",
    "from sklearn.pipeline import make_pipeline\n",
    "from sklearn.preprocessing import StandardScaler\n",
    "from sklearn.svm import SVC\n",
    "\n",
    "from sklearn.model_selection import train_test_split\n",
    "from sklearn.metrics import accuracy_score\n",
    "from sklearn.metrics import confusion_matrix, ConfusionMatrixDisplay\n",
    "from sklearn.metrics import plot_confusion_matrix"
   ]
  },
  {
   "cell_type": "code",
   "execution_count": 137,
   "id": "4486bb8d",
   "metadata": {},
   "outputs": [
    {
     "name": "stdout",
     "output_type": "stream",
     "text": [
      "['laser' 'laser' 'laser' 'laser' 'laser' 'laser' 'laser' 'laser' 'laser'\n",
      " 'laser' 'laser' 'laser' 'laser' 'laser' 'laser' 'laser' 'laser' 'laser'\n",
      " 'laser' 'laser' 'laser' 'laser' 'laser' 'laser' 'laser' 'laser' 'laser'\n",
      " 'laser' 'laser' 'laser' 'laser' 'laser' 'laser' 'laser' 'laser' 'laser'\n",
      " 'laser' 'laser' 'laser' 'laser' 'laser' 'laser' 'laser' 'laser' 'laser'\n",
      " 'laser' 'laser' 'laser' 'laser' 'laser' 'laser' 'laser' 'laser' 'laser'\n",
      " 'laser' 'laser' 'laser' 'laser' 'laser' 'laser' 'laser' 'laser' 'laser'\n",
      " 'laser' 'laser' 'laser' 'laser' 'laser' 'laser' 'laser']\n",
      "(70,)\n"
     ]
    },
    {
     "data": {
      "text/plain": [
       "(70, 18)"
      ]
     },
     "execution_count": 137,
     "metadata": {},
     "output_type": "execute_result"
    }
   ],
   "source": [
    "X_train_laser = np.concatenate((laser_train_sigma, laser_train_skew, laser_train_kurt), axis=1)\n",
    "train_laser_label = np.array(['laser']*X_train_laser.shape[0])\n",
    "print(train_laser_label)\n",
    "print(train_laser_label.shape)\n",
    "X_train_laser.shape"
   ]
  },
  {
   "cell_type": "code",
   "execution_count": 138,
   "id": "d1c4906e",
   "metadata": {},
   "outputs": [
    {
     "name": "stdout",
     "output_type": "stream",
     "text": [
      "['original' 'original' 'original' 'original' 'original' 'original'\n",
      " 'original' 'original' 'original' 'original' 'original' 'original'\n",
      " 'original' 'original' 'original' 'original' 'original' 'original'\n",
      " 'original' 'original' 'original' 'original' 'original' 'original'\n",
      " 'original' 'original' 'original' 'original' 'original' 'original'\n",
      " 'original' 'original' 'original' 'original' 'original' 'original'\n",
      " 'original' 'original' 'original' 'original' 'original' 'original'\n",
      " 'original' 'original' 'original' 'original' 'original' 'original'\n",
      " 'original' 'original' 'original' 'original' 'original' 'original'\n",
      " 'original' 'original' 'original' 'original' 'original' 'original'\n",
      " 'original' 'original' 'original' 'original' 'original' 'original'\n",
      " 'original' 'original' 'original' 'original']\n",
      "(70,)\n"
     ]
    },
    {
     "data": {
      "text/plain": [
       "(70, 18)"
      ]
     },
     "execution_count": 138,
     "metadata": {},
     "output_type": "execute_result"
    }
   ],
   "source": [
    "X_train_orig = np.concatenate((original_train_sigma, original_train_skew, original_train_kurt), axis=1)\n",
    "train_orig_label = np.array(['original']*X_train_orig.shape[0])\n",
    "print(train_orig_label)\n",
    "print(train_orig_label.shape)\n",
    "X_train_orig.shape"
   ]
  },
  {
   "cell_type": "code",
   "execution_count": 139,
   "id": "5a336c12",
   "metadata": {},
   "outputs": [
    {
     "name": "stdout",
     "output_type": "stream",
     "text": [
      "['laser' 'laser' 'laser' 'laser' 'laser' 'laser' 'laser' 'laser' 'laser'\n",
      " 'laser' 'laser' 'laser' 'laser' 'laser' 'laser' 'laser' 'laser' 'laser'\n",
      " 'laser' 'laser' 'laser' 'laser' 'laser' 'laser' 'laser']\n",
      "(25,)\n"
     ]
    },
    {
     "data": {
      "text/plain": [
       "(25, 18)"
      ]
     },
     "execution_count": 139,
     "metadata": {},
     "output_type": "execute_result"
    }
   ],
   "source": [
    "X_test_laser = np.concatenate((laser_test_sigma, laser_test_skew, laser_test_kurt), axis=1)\n",
    "test_laser_label = np.array(['laser']*X_test_laser.shape[0])\n",
    "print(test_laser_label)\n",
    "print(test_laser_label.shape)\n",
    "X_test_laser.shape"
   ]
  },
  {
   "cell_type": "code",
   "execution_count": 140,
   "id": "187edfd0",
   "metadata": {},
   "outputs": [
    {
     "name": "stdout",
     "output_type": "stream",
     "text": [
      "['original' 'original' 'original' 'original' 'original' 'original'\n",
      " 'original' 'original' 'original' 'original' 'original' 'original'\n",
      " 'original' 'original' 'original' 'original' 'original' 'original'\n",
      " 'original' 'original' 'original' 'original' 'original' 'original'\n",
      " 'original']\n",
      "(25,)\n"
     ]
    },
    {
     "data": {
      "text/plain": [
       "(25, 18)"
      ]
     },
     "execution_count": 140,
     "metadata": {},
     "output_type": "execute_result"
    }
   ],
   "source": [
    "X_test_orig = np.concatenate((original_test_sigma, original_test_skew, original_test_kurt), axis=1)\n",
    "test_orig_label = np.array(['original']*X_test_orig.shape[0])\n",
    "print(test_orig_label)\n",
    "print(test_orig_label.shape)\n",
    "X_test_orig.shape"
   ]
  },
  {
   "cell_type": "code",
   "execution_count": 141,
   "id": "b2e9f920",
   "metadata": {},
   "outputs": [],
   "source": [
    "svm_clf = make_pipeline(StandardScaler(), LinearSVC())"
   ]
  },
  {
   "cell_type": "code",
   "execution_count": 142,
   "id": "8629f3dc",
   "metadata": {},
   "outputs": [
    {
     "data": {
      "text/plain": [
       "(140, 18)"
      ]
     },
     "execution_count": 142,
     "metadata": {},
     "output_type": "execute_result"
    }
   ],
   "source": [
    "X_train = np.concatenate((X_train_laser, X_train_orig))\n",
    "X_train.shape"
   ]
  },
  {
   "cell_type": "code",
   "execution_count": 143,
   "id": "410aa824",
   "metadata": {},
   "outputs": [
    {
     "data": {
      "text/plain": [
       "(50, 18)"
      ]
     },
     "execution_count": 143,
     "metadata": {},
     "output_type": "execute_result"
    }
   ],
   "source": [
    "X_test = np.concatenate((X_test_laser, X_test_orig))\n",
    "X_test.shape"
   ]
  },
  {
   "cell_type": "code",
   "execution_count": 144,
   "id": "0bbf0ad9",
   "metadata": {},
   "outputs": [
    {
     "data": {
      "text/plain": [
       "(140,)"
      ]
     },
     "execution_count": 144,
     "metadata": {},
     "output_type": "execute_result"
    }
   ],
   "source": [
    "y_train = np.concatenate((train_laser_label, train_orig_label))\n",
    "y_train.shape"
   ]
  },
  {
   "cell_type": "code",
   "execution_count": 145,
   "id": "b83b4899",
   "metadata": {},
   "outputs": [
    {
     "data": {
      "text/plain": [
       "(50,)"
      ]
     },
     "execution_count": 145,
     "metadata": {},
     "output_type": "execute_result"
    }
   ],
   "source": [
    "y_test = np.concatenate((test_laser_label, test_orig_label))\n",
    "y_test.shape"
   ]
  },
  {
   "cell_type": "code",
   "execution_count": 146,
   "id": "caae1792",
   "metadata": {},
   "outputs": [
    {
     "data": {
      "text/plain": [
       "Pipeline(steps=[('standardscaler', StandardScaler()),\n",
       "                ('linearsvc', LinearSVC())])"
      ]
     },
     "execution_count": 146,
     "metadata": {},
     "output_type": "execute_result"
    }
   ],
   "source": [
    "svm_clf.fit(X_train, y_train)"
   ]
  },
  {
   "cell_type": "code",
   "execution_count": 147,
   "id": "8c47ce4d",
   "metadata": {},
   "outputs": [],
   "source": [
    "y_pred = clf.predict(X_test)"
   ]
  },
  {
   "cell_type": "code",
   "execution_count": 148,
   "id": "1cf1f72f",
   "metadata": {},
   "outputs": [
    {
     "data": {
      "text/plain": [
       "array(['laser', 'laser', 'laser', 'laser', 'laser', 'laser', 'laser',\n",
       "       'laser', 'laser', 'laser', 'laser', 'laser', 'laser', 'laser',\n",
       "       'laser', 'laser', 'laser', 'laser', 'laser', 'laser', 'original',\n",
       "       'original', 'laser', 'original', 'original', 'original',\n",
       "       'original', 'original', 'original', 'original', 'original',\n",
       "       'original', 'original', 'original', 'original', 'original',\n",
       "       'original', 'original', 'original', 'original', 'original',\n",
       "       'original', 'original', 'original', 'original', 'original',\n",
       "       'original', 'original', 'original', 'original'], dtype='<U8')"
      ]
     },
     "execution_count": 148,
     "metadata": {},
     "output_type": "execute_result"
    }
   ],
   "source": [
    "y_pred"
   ]
  },
  {
   "cell_type": "code",
   "execution_count": 149,
   "id": "ab7e5b1e",
   "metadata": {},
   "outputs": [
    {
     "name": "stdout",
     "output_type": "stream",
     "text": [
      "accuracy =  0.92\n"
     ]
    }
   ],
   "source": [
    "print(\"accuracy = \", accuracy_score(y_test, y_pred))"
   ]
  },
  {
   "cell_type": "code",
   "execution_count": 62,
   "id": "0c4dce35",
   "metadata": {},
   "outputs": [],
   "source": [
    "cm = confusion_matrix(y_test, y_pred)"
   ]
  },
  {
   "cell_type": "code",
   "execution_count": 151,
   "id": "c634c013",
   "metadata": {},
   "outputs": [
    {
     "data": {
      "application/vnd.jupyter.widget-view+json": {
       "model_id": "347871a17d7542999e571a35d8caee68",
       "version_major": 2,
       "version_minor": 0
      },
      "text/plain": [
       "Canvas(toolbar=Toolbar(toolitems=[('Home', 'Reset original view', 'home', 'home'), ('Back', 'Back to previous …"
      ]
     },
     "metadata": {},
     "output_type": "display_data"
    },
    {
     "data": {
      "text/plain": [
       "<sklearn.metrics._plot.confusion_matrix.ConfusionMatrixDisplay at 0x7fefe32f1820>"
      ]
     },
     "execution_count": 151,
     "metadata": {},
     "output_type": "execute_result"
    }
   ],
   "source": [
    "disp = ConfusionMatrixDisplay(confusion_matrix=cm, display_labels=clf.classes_)\n",
    "disp.plot()"
   ]
  },
  {
   "cell_type": "markdown",
   "id": "fe289304",
   "metadata": {},
   "source": [
    "### GMM as classifier"
   ]
  },
  {
   "cell_type": "code",
   "execution_count": 152,
   "id": "2fcd054d",
   "metadata": {},
   "outputs": [],
   "source": [
    "label_map = {'laser': 0, 'original': 1}"
   ]
  },
  {
   "cell_type": "code",
   "execution_count": 164,
   "id": "73c4bff3",
   "metadata": {},
   "outputs": [
    {
     "data": {
      "text/plain": [
       "array([0, 0, 0, 0, 0, 0, 0, 0, 0, 0, 0, 0, 0, 0, 0, 0, 0, 0, 0, 0, 0, 0,\n",
       "       0, 0, 0, 0, 0, 0, 0, 0, 0, 0, 0, 0, 0, 0, 0, 0, 0, 0, 0, 0, 0, 0,\n",
       "       0, 0, 0, 0, 0, 0, 0, 0, 0, 0, 0, 0, 0, 0, 0, 0, 0, 0, 0, 0, 0, 0,\n",
       "       0, 0, 0, 0, 1, 1, 1, 1, 1, 1, 1, 1, 1, 1, 1, 1, 1, 1, 1, 1, 1, 1,\n",
       "       1, 1, 1, 1, 1, 1, 1, 1, 1, 1, 1, 1, 1, 1, 1, 1, 1, 1, 1, 1, 1, 1,\n",
       "       1, 1, 1, 1, 1, 1, 1, 1, 1, 1, 1, 1, 1, 1, 1, 1, 1, 1, 1, 1, 1, 1,\n",
       "       1, 1, 1, 1, 1, 1, 1, 1])"
      ]
     },
     "execution_count": 164,
     "metadata": {},
     "output_type": "execute_result"
    }
   ],
   "source": [
    "y_train_num = np.array([label_map[x] for x in y_train])\n",
    "y_train_num"
   ]
  },
  {
   "cell_type": "code",
   "execution_count": 165,
   "id": "575dbfb7",
   "metadata": {},
   "outputs": [
    {
     "data": {
      "text/plain": [
       "array([0, 0, 0, 0, 0, 0, 0, 0, 0, 0, 0, 0, 0, 0, 0, 0, 0, 0, 0, 0, 0, 0,\n",
       "       0, 0, 0, 1, 1, 1, 1, 1, 1, 1, 1, 1, 1, 1, 1, 1, 1, 1, 1, 1, 1, 1,\n",
       "       1, 1, 1, 1, 1, 1])"
      ]
     },
     "execution_count": 165,
     "metadata": {},
     "output_type": "execute_result"
    }
   ],
   "source": [
    "y_test_num = np.array([label_map[x] for x in y_test])\n",
    "y_test_num"
   ]
  },
  {
   "cell_type": "code",
   "execution_count": 166,
   "id": "317c74b9",
   "metadata": {},
   "outputs": [],
   "source": [
    "from sklearn.mixture import GaussianMixture"
   ]
  },
  {
   "cell_type": "code",
   "execution_count": 243,
   "id": "809540bb",
   "metadata": {},
   "outputs": [],
   "source": [
    "gmm_clf = make_pipeline(StandardScaler(), GaussianMixture(n_components=2, random_state=0))\n",
    "# gmm_clf = GaussianMixture(n_components=2)"
   ]
  },
  {
   "cell_type": "code",
   "execution_count": 244,
   "id": "d54ce1c3",
   "metadata": {},
   "outputs": [
    {
     "data": {
      "text/plain": [
       "Pipeline(steps=[('standardscaler', StandardScaler()),\n",
       "                ('gaussianmixture', GaussianMixture(n_components=2))])"
      ]
     },
     "execution_count": 244,
     "metadata": {},
     "output_type": "execute_result"
    }
   ],
   "source": [
    "# means = []\n",
    "# for i in range(len(label_map.keys())):\n",
    "#     print(i)\n",
    "# #     ids = y_train_num == i\n",
    "# #     print(ids)\n",
    "#     m = X_train[y_train_num == i].mean(axis=0)\n",
    "#     means.append(m)\n",
    "\n",
    "gmm_clf"
   ]
  },
  {
   "cell_type": "code",
   "execution_count": 245,
   "id": "a5bd6cff",
   "metadata": {},
   "outputs": [],
   "source": [
    "gmm_clf.means_init = np.array(\n",
    "        [X_train[y_train_num == i].mean(axis=0) for i in range(len(label_map.keys()))])"
   ]
  },
  {
   "cell_type": "code",
   "execution_count": 246,
   "id": "34b7aca0",
   "metadata": {},
   "outputs": [
    {
     "data": {
      "text/plain": [
       "(2, 18)"
      ]
     },
     "execution_count": 246,
     "metadata": {},
     "output_type": "execute_result"
    }
   ],
   "source": [
    "gmm_clf.means_init.shape"
   ]
  },
  {
   "cell_type": "code",
   "execution_count": 247,
   "id": "2babf3b9",
   "metadata": {},
   "outputs": [
    {
     "data": {
      "text/plain": [
       "Pipeline(steps=[('standardscaler', StandardScaler()),\n",
       "                ('gaussianmixture', GaussianMixture(n_components=2))])"
      ]
     },
     "execution_count": 247,
     "metadata": {},
     "output_type": "execute_result"
    }
   ],
   "source": [
    "gmm_clf.fit(X_train)"
   ]
  },
  {
   "cell_type": "code",
   "execution_count": 248,
   "id": "eda17da5",
   "metadata": {},
   "outputs": [],
   "source": [
    "y_pred_gmm = gmm_clf.predict(X_test)"
   ]
  },
  {
   "cell_type": "code",
   "execution_count": 249,
   "id": "9f284c05",
   "metadata": {},
   "outputs": [
    {
     "data": {
      "text/plain": [
       "array([0, 1, 1, 0, 1, 0, 0, 0, 0, 1, 1, 0, 0, 1, 0, 1, 1, 1, 1, 1, 1, 1,\n",
       "       1, 1, 1, 0, 1, 1, 1, 0, 0, 0, 0, 0, 0, 0, 0, 0, 0, 0, 0, 1, 0, 1,\n",
       "       0, 0, 0, 0, 0, 0])"
      ]
     },
     "execution_count": 249,
     "metadata": {},
     "output_type": "execute_result"
    }
   ],
   "source": [
    "y_pred_gmm"
   ]
  },
  {
   "cell_type": "code",
   "execution_count": 250,
   "id": "a7257bf8",
   "metadata": {},
   "outputs": [
    {
     "name": "stdout",
     "output_type": "stream",
     "text": [
      "[[0. 1.]\n",
      " [0. 1.]\n",
      " [0. 1.]\n",
      " [0. 1.]\n",
      " [0. 1.]\n",
      " [0. 1.]\n",
      " [0. 1.]\n",
      " [0. 1.]\n",
      " [0. 1.]\n",
      " [0. 1.]\n",
      " [0. 1.]\n",
      " [0. 1.]\n",
      " [0. 1.]\n",
      " [0. 1.]\n",
      " [0. 1.]\n",
      " [0. 1.]\n",
      " [0. 1.]\n",
      " [0. 1.]\n",
      " [0. 1.]\n",
      " [0. 1.]\n",
      " [0. 1.]\n",
      " [0. 1.]\n",
      " [0. 1.]\n",
      " [0. 1.]\n",
      " [0. 1.]\n",
      " [1. 0.]\n",
      " [1. 0.]\n",
      " [1. 0.]\n",
      " [1. 0.]\n",
      " [1. 0.]\n",
      " [1. 0.]\n",
      " [1. 0.]\n",
      " [1. 0.]\n",
      " [1. 0.]\n",
      " [1. 0.]\n",
      " [1. 0.]\n",
      " [1. 0.]\n",
      " [1. 0.]\n",
      " [1. 0.]\n",
      " [1. 0.]\n",
      " [1. 0.]\n",
      " [1. 0.]\n",
      " [1. 0.]\n",
      " [1. 0.]\n",
      " [1. 0.]\n",
      " [1. 0.]\n",
      " [1. 0.]\n",
      " [1. 0.]\n",
      " [1. 0.]\n",
      " [1. 0.]\n",
      " [1. 0.]\n",
      " [1. 0.]\n",
      " [1. 0.]\n",
      " [1. 0.]\n",
      " [1. 0.]\n",
      " [1. 0.]\n",
      " [1. 0.]\n",
      " [1. 0.]\n",
      " [1. 0.]\n",
      " [1. 0.]\n",
      " [1. 0.]\n",
      " [1. 0.]\n",
      " [1. 0.]\n",
      " [1. 0.]\n",
      " [1. 0.]\n",
      " [1. 0.]\n",
      " [1. 0.]\n",
      " [1. 0.]\n",
      " [1. 0.]\n",
      " [1. 0.]\n",
      " [0. 1.]\n",
      " [0. 1.]\n",
      " [0. 1.]\n",
      " [0. 1.]\n",
      " [0. 1.]\n",
      " [0. 1.]\n",
      " [0. 1.]\n",
      " [0. 1.]\n",
      " [0. 1.]\n",
      " [0. 1.]\n",
      " [0. 1.]\n",
      " [0. 1.]\n",
      " [0. 1.]\n",
      " [0. 1.]\n",
      " [0. 1.]\n",
      " [0. 1.]\n",
      " [0. 1.]\n",
      " [0. 1.]\n",
      " [0. 1.]\n",
      " [0. 1.]\n",
      " [0. 1.]\n",
      " [1. 0.]\n",
      " [0. 1.]\n",
      " [1. 0.]\n",
      " [1. 0.]\n",
      " [1. 0.]\n",
      " [1. 0.]\n",
      " [1. 0.]\n",
      " [1. 0.]\n",
      " [1. 0.]\n",
      " [1. 0.]\n",
      " [1. 0.]\n",
      " [1. 0.]\n",
      " [1. 0.]\n",
      " [1. 0.]\n",
      " [1. 0.]\n",
      " [1. 0.]\n",
      " [1. 0.]\n",
      " [1. 0.]\n",
      " [1. 0.]\n",
      " [1. 0.]\n",
      " [1. 0.]\n",
      " [1. 0.]\n",
      " [1. 0.]\n",
      " [1. 0.]\n",
      " [1. 0.]\n",
      " [1. 0.]\n",
      " [1. 0.]\n",
      " [1. 0.]\n",
      " [1. 0.]\n",
      " [1. 0.]\n",
      " [1. 0.]\n",
      " [1. 0.]\n",
      " [1. 0.]\n",
      " [1. 0.]\n",
      " [1. 0.]\n",
      " [1. 0.]\n",
      " [1. 0.]\n",
      " [1. 0.]\n",
      " [1. 0.]\n",
      " [1. 0.]\n",
      " [1. 0.]\n",
      " [1. 0.]\n",
      " [1. 0.]\n",
      " [1. 0.]\n",
      " [1. 0.]\n",
      " [1. 0.]\n",
      " [1. 0.]\n",
      " [1. 0.]\n",
      " [1. 0.]]\n"
     ]
    }
   ],
   "source": [
    "probs = gmm_clf.predict_proba(X_train)\n",
    "print(probs.round(3))"
   ]
  },
  {
   "cell_type": "code",
   "execution_count": 251,
   "id": "6a1f31c9",
   "metadata": {},
   "outputs": [
    {
     "name": "stdout",
     "output_type": "stream",
     "text": [
      "accuracy =  0.28\n"
     ]
    }
   ],
   "source": [
    "print(\"accuracy = \", accuracy_score(y_test_num, y_pred_gmm))"
   ]
  },
  {
   "cell_type": "code",
   "execution_count": 252,
   "id": "0cd5802c",
   "metadata": {},
   "outputs": [],
   "source": [
    "y_pred_gmm_label = np.array(['laser' if x == 0 else 'original' for x in y_pred_gmm])"
   ]
  },
  {
   "cell_type": "code",
   "execution_count": 213,
   "id": "380eda68",
   "metadata": {},
   "outputs": [],
   "source": [
    "cm = confusion_matrix(y_test, y_pred_gmm_label)"
   ]
  },
  {
   "cell_type": "code",
   "execution_count": 214,
   "id": "5b618197",
   "metadata": {},
   "outputs": [
    {
     "data": {
      "application/vnd.jupyter.widget-view+json": {
       "model_id": "6aaac47977c74324ad30dd3770cc657f",
       "version_major": 2,
       "version_minor": 0
      },
      "text/plain": [
       "Canvas(toolbar=Toolbar(toolitems=[('Home', 'Reset original view', 'home', 'home'), ('Back', 'Back to previous …"
      ]
     },
     "metadata": {},
     "output_type": "display_data"
    },
    {
     "data": {
      "text/plain": [
       "<sklearn.metrics._plot.confusion_matrix.ConfusionMatrixDisplay at 0x7fefda150e80>"
      ]
     },
     "execution_count": 214,
     "metadata": {},
     "output_type": "execute_result"
    }
   ],
   "source": [
    "disp = ConfusionMatrixDisplay(confusion_matrix=cm, display_labels=clf.classes_)\n",
    "disp.plot()"
   ]
  },
  {
   "cell_type": "code",
   "execution_count": 130,
   "id": "99ff7fca",
   "metadata": {},
   "outputs": [],
   "source": []
  },
  {
   "cell_type": "code",
   "execution_count": null,
   "id": "f2d82a06",
   "metadata": {},
   "outputs": [],
   "source": []
  },
  {
   "cell_type": "code",
   "execution_count": 132,
   "id": "ca943dd9",
   "metadata": {},
   "outputs": [],
   "source": []
  },
  {
   "cell_type": "code",
   "execution_count": null,
   "id": "8daf442a",
   "metadata": {},
   "outputs": [],
   "source": []
  },
  {
   "cell_type": "code",
   "execution_count": null,
   "id": "fdbdd4e9",
   "metadata": {},
   "outputs": [],
   "source": []
  },
  {
   "cell_type": "code",
   "execution_count": null,
   "id": "deb8873a",
   "metadata": {},
   "outputs": [],
   "source": []
  },
  {
   "cell_type": "code",
   "execution_count": null,
   "id": "27b72f41",
   "metadata": {},
   "outputs": [],
   "source": []
  }
 ],
 "metadata": {
  "kernelspec": {
   "display_name": "laser_injection",
   "language": "python",
   "name": "laser_injection"
  },
  "language_info": {
   "codemirror_mode": {
    "name": "ipython",
    "version": 3
   },
   "file_extension": ".py",
   "mimetype": "text/x-python",
   "name": "python",
   "nbconvert_exporter": "python",
   "pygments_lexer": "ipython3",
   "version": "3.8.10"
  }
 },
 "nbformat": 4,
 "nbformat_minor": 5
}
