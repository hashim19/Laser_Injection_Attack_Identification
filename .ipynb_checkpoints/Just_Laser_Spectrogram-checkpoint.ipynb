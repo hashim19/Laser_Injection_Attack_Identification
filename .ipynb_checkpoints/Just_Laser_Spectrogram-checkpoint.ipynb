{
 "cells": [
  {
   "cell_type": "code",
   "execution_count": 1,
   "id": "d3b9242e",
   "metadata": {},
   "outputs": [],
   "source": [
    "import pywt\n",
    "import os\n",
    "import pandas as pd\n",
    "import librosa\n",
    "import librosa.display\n",
    "import glob \n",
    "import numpy as np\n",
    "import matplotlib.pyplot as plt\n",
    "from matplotlib import cm\n",
    "import seaborn as sns\n",
    "from fitter import Fitter, get_common_distributions, get_distributions\n",
    "from matplotlib.ticker import FormatStrFormatter\n",
    "\n",
    "from sklearn.preprocessing import StandardScaler\n",
    "import sklearn\n",
    "\n",
    "from utils import plot_projections\n",
    "\n",
    "from scipy.stats import kurtosis, skew\n",
    "import librosa.display as ld\n",
    "\n",
    "\n",
    "%matplotlib widget"
   ]
  },
  {
   "cell_type": "code",
   "execution_count": 2,
   "id": "fd4565f1",
   "metadata": {},
   "outputs": [
    {
     "name": "stdout",
     "output_type": "stream",
     "text": [
      "10\n"
     ]
    }
   ],
   "source": [
    "laser_dir = '/home/hashim/PHD/audio_data/Just_Laser/'\n",
    "laser_files = list(glob.glob(os.path.join(laser_dir, '*.mp3')))\n",
    "laser_files.sort()\n",
    "# print(laser_files)\n",
    "print(len(laser_files))"
   ]
  },
  {
   "cell_type": "code",
   "execution_count": 3,
   "id": "db466754",
   "metadata": {},
   "outputs": [],
   "source": [
    "sample_id = 5"
   ]
  },
  {
   "cell_type": "code",
   "execution_count": 4,
   "id": "9eee91f5",
   "metadata": {},
   "outputs": [
    {
     "name": "stdout",
     "output_type": "stream",
     "text": [
      "22050\n"
     ]
    }
   ],
   "source": [
    "laser_sample = laser_files[sample_id]\n",
    "\n",
    "laser_audio, sr = librosa.load(laser_sample, res_type='kaiser_fast', offset=1, duration=48)\n",
    "# laser_audio, sr = librosa.load(laser_sample, res_type='kaiser_fast')\n",
    "laser_audio = librosa.util.normalize(laser_audio)\n",
    "print(sr)"
   ]
  },
  {
   "cell_type": "code",
   "execution_count": 5,
   "id": "75f7ea5a",
   "metadata": {},
   "outputs": [
    {
     "data": {
      "application/vnd.jupyter.widget-view+json": {
       "model_id": "66bc60e24fa344d4b041b71f55e5d682",
       "version_major": 2,
       "version_minor": 0
      },
      "text/plain": [
       "Canvas(toolbar=Toolbar(toolitems=[('Home', 'Reset original view', 'home', 'home'), ('Back', 'Back to previous …"
      ]
     },
     "metadata": {},
     "output_type": "display_data"
    }
   ],
   "source": [
    "fig, ax = plt.subplots(figsize=(9,6))\n",
    "\n",
    "ld.waveplot(laser_audio, sr=sr, ax=ax, x_axis='s')\n",
    "ax.grid()"
   ]
  },
  {
   "cell_type": "code",
   "execution_count": 6,
   "id": "0c254c4a",
   "metadata": {},
   "outputs": [],
   "source": [
    "# stft_laser = librosa.stft(laser_audio, n_fft=256)\n",
    "stft_laser = librosa.stft(laser_audio, n_fft=512)\n",
    "S_db_laser = librosa.amplitude_to_db(np.abs(stft_laser), ref=np.max)"
   ]
  },
  {
   "cell_type": "code",
   "execution_count": 7,
   "id": "a90a7b34",
   "metadata": {},
   "outputs": [
    {
     "data": {
      "application/vnd.jupyter.widget-view+json": {
       "model_id": "fc62af91cc06401baff9f9b906f0d87e",
       "version_major": 2,
       "version_minor": 0
      },
      "text/plain": [
       "Canvas(toolbar=Toolbar(toolitems=[('Home', 'Reset original view', 'home', 'home'), ('Back', 'Back to previous …"
      ]
     },
     "metadata": {},
     "output_type": "display_data"
    },
    {
     "data": {
      "text/plain": [
       "<matplotlib.colorbar.Colorbar at 0x7f4fef71e9d0>"
      ]
     },
     "execution_count": 7,
     "metadata": {},
     "output_type": "execute_result"
    }
   ],
   "source": [
    "fig, axes = plt.subplots(figsize=(9,6))\n",
    "# ax = axes.flatten()\n",
    "# fig = plt.figure(figsize=(9,6))\n",
    "\n",
    "img_laser = librosa.display.specshow(S_db_laser, x_axis='time', y_axis='log',  sr=sr, ax=axes)\n",
    "# plt.title('Laser Induced Response without any audio modulation')\n",
    "axes.set(title='Laser Induced Response')\n",
    "# plt.label_outer()\n",
    "\n",
    "fig.colorbar(img_laser, ax=axes, format=\"%+2.f dB\")\n",
    "# fig.savefig('just_laser_spectrogram.png')"
   ]
  },
  {
   "cell_type": "code",
   "execution_count": 8,
   "id": "714c5f98",
   "metadata": {},
   "outputs": [
    {
     "name": "stdout",
     "output_type": "stream",
     "text": [
      "22050\n"
     ]
    }
   ],
   "source": [
    "laser_audio, sr = librosa.load(laser_sample, res_type='kaiser_fast', offset=0.5)\n",
    "# laser_audio = librosa.util.normalize(laser_audio)\n",
    "print(sr)"
   ]
  },
  {
   "cell_type": "markdown",
   "id": "c16a884c",
   "metadata": {},
   "source": [
    "## Silence Spectrogram"
   ]
  },
  {
   "cell_type": "code",
   "execution_count": 12,
   "id": "da7e759a",
   "metadata": {},
   "outputs": [
    {
     "name": "stdout",
     "output_type": "stream",
     "text": [
      "['/home/hashim/PHD/audio_data/Silence/silence1_output_channel1.mp3', '/home/hashim/PHD/audio_data/Silence/silence1_output_channel2.mp3', '/home/hashim/PHD/audio_data/Silence/silence2_output_channel1.mp3', '/home/hashim/PHD/audio_data/Silence/silence2_output_channel2.mp3']\n",
      "4\n"
     ]
    }
   ],
   "source": [
    "Silence_dir = '/home/hashim/PHD/audio_data/Silence/'\n",
    "Silence_files = list(glob.glob(os.path.join(Silence_dir, '*.mp3')))\n",
    "Silence_files.sort()\n",
    "print(Silence_files)\n",
    "print(len(Silence_files))"
   ]
  },
  {
   "cell_type": "code",
   "execution_count": 16,
   "id": "4cd748a2",
   "metadata": {},
   "outputs": [],
   "source": [
    "sample_id = 2"
   ]
  },
  {
   "cell_type": "code",
   "execution_count": 17,
   "id": "119d6423",
   "metadata": {},
   "outputs": [
    {
     "name": "stdout",
     "output_type": "stream",
     "text": [
      "22050\n"
     ]
    }
   ],
   "source": [
    "silence_sample = Silence_files[sample_id]\n",
    "\n",
    "silence_audio, sr = librosa.load(silence_sample, res_type='kaiser_fast', offset=1, duration=48)\n",
    "# laser_audio, sr = librosa.load(laser_sample, res_type='kaiser_fast')\n",
    "silence_audio = librosa.util.normalize(silence_audio)\n",
    "print(sr)"
   ]
  },
  {
   "cell_type": "code",
   "execution_count": 18,
   "id": "0d8489e7",
   "metadata": {},
   "outputs": [
    {
     "data": {
      "application/vnd.jupyter.widget-view+json": {
       "model_id": "c1498ca9e3f542669dad2013a073105e",
       "version_major": 2,
       "version_minor": 0
      },
      "text/plain": [
       "Canvas(toolbar=Toolbar(toolitems=[('Home', 'Reset original view', 'home', 'home'), ('Back', 'Back to previous …"
      ]
     },
     "metadata": {},
     "output_type": "display_data"
    }
   ],
   "source": [
    "fig, ax = plt.subplots(figsize=(9,6))\n",
    "\n",
    "ld.waveplot(silence_audio, sr=sr, ax=ax, x_axis='s')\n",
    "ax.grid()"
   ]
  },
  {
   "cell_type": "code",
   "execution_count": 19,
   "id": "1e2dd03d",
   "metadata": {},
   "outputs": [],
   "source": [
    "# stft_laser = librosa.stft(laser_audio, n_fft=256)\n",
    "stft_silence = librosa.stft(silence_audio, n_fft=512)\n",
    "S_db_silence = librosa.amplitude_to_db(np.abs(stft_silence), ref=np.max)"
   ]
  },
  {
   "cell_type": "code",
   "execution_count": null,
   "id": "b6a337c8",
   "metadata": {},
   "outputs": [],
   "source": [
    "fig, axes = plt.subplots(figsize=(9,6))\n",
    "# ax = axes.flatten()\n",
    "# fig = plt.figure(figsize=(9,6))\n",
    "\n",
    "img_laser = librosa.display.specshow(S_db_silence, x_axis='time', y_axis='log',  sr=sr, ax=axes)\n",
    "# plt.title('Laser Induced Response without any audio modulation')\n",
    "axes.set(title='Laser Induced Response')\n",
    "# plt.label_outer()\n",
    "\n",
    "fig.colorbar(img_laser, ax=axes, format=\"%+2.f dB\")\n",
    "# fig.savefig('just_laser_spectrogram.png')"
   ]
  }
 ],
 "metadata": {
  "kernelspec": {
   "display_name": "laser_injection",
   "language": "python",
   "name": "laser_injection"
  },
  "language_info": {
   "codemirror_mode": {
    "name": "ipython",
    "version": 3
   },
   "file_extension": ".py",
   "mimetype": "text/x-python",
   "name": "python",
   "nbconvert_exporter": "python",
   "pygments_lexer": "ipython3",
   "version": "3.8.10"
  }
 },
 "nbformat": 4,
 "nbformat_minor": 5
}
