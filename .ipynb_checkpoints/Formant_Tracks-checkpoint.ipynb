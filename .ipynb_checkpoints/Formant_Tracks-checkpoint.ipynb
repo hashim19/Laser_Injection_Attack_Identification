{
 "cells": [
  {
   "cell_type": "code",
   "execution_count": 6,
   "id": "3eec7135",
   "metadata": {},
   "outputs": [],
   "source": [
    "import pywt\n",
    "import os\n",
    "import pandas as pd\n",
    "import librosa\n",
    "import librosa.display\n",
    "import glob \n",
    "import numpy as np\n",
    "import matplotlib.pyplot as plt\n",
    "from matplotlib import cm\n",
    "import seaborn as sns\n",
    "from fitter import Fitter, get_common_distributions, get_distributions\n",
    "import random\n",
    "\n",
    "from sklearn.preprocessing import StandardScaler\n",
    "import sklearn\n",
    "\n",
    "from utils import plot_projections\n",
    "\n",
    "from scipy.stats import kurtosis, skew\n",
    "\n",
    "#parselmouth\n",
    "import parselmouth \n",
    "import statistics\n",
    "from parselmouth.praat import call\n",
    "\n",
    "%matplotlib widget"
   ]
  },
  {
   "cell_type": "code",
   "execution_count": 7,
   "id": "f04ed866",
   "metadata": {},
   "outputs": [
    {
     "name": "stdout",
     "output_type": "stream",
     "text": [
      "['/home/hashim/PHD/audio_data/AllAudioSamples/Laser/laser001 (2).wav', '/home/hashim/PHD/audio_data/AllAudioSamples/Laser/laser001.wav', '/home/hashim/PHD/audio_data/AllAudioSamples/Laser/laser002 (2).wav', '/home/hashim/PHD/audio_data/AllAudioSamples/Laser/laser002.wav', '/home/hashim/PHD/audio_data/AllAudioSamples/Laser/laser003 (2).wav', '/home/hashim/PHD/audio_data/AllAudioSamples/Laser/laser003.wav', '/home/hashim/PHD/audio_data/AllAudioSamples/Laser/laser004 (2).wav', '/home/hashim/PHD/audio_data/AllAudioSamples/Laser/laser004.wav', '/home/hashim/PHD/audio_data/AllAudioSamples/Laser/laser005 (2).wav', '/home/hashim/PHD/audio_data/AllAudioSamples/Laser/laser005.wav', '/home/hashim/PHD/audio_data/AllAudioSamples/Laser/laser006 (2).wav', '/home/hashim/PHD/audio_data/AllAudioSamples/Laser/laser006.wav', '/home/hashim/PHD/audio_data/AllAudioSamples/Laser/laser007 (2).wav', '/home/hashim/PHD/audio_data/AllAudioSamples/Laser/laser007.wav', '/home/hashim/PHD/audio_data/AllAudioSamples/Laser/laser008 (2).wav', '/home/hashim/PHD/audio_data/AllAudioSamples/Laser/laser008.wav', '/home/hashim/PHD/audio_data/AllAudioSamples/Laser/laser009 (2).wav', '/home/hashim/PHD/audio_data/AllAudioSamples/Laser/laser009.wav', '/home/hashim/PHD/audio_data/AllAudioSamples/Laser/laser010 (2).wav', '/home/hashim/PHD/audio_data/AllAudioSamples/Laser/laser010.wav', '/home/hashim/PHD/audio_data/AllAudioSamples/Laser/laser011 (2).wav', '/home/hashim/PHD/audio_data/AllAudioSamples/Laser/laser011.wav', '/home/hashim/PHD/audio_data/AllAudioSamples/Laser/laser012 (2).wav', '/home/hashim/PHD/audio_data/AllAudioSamples/Laser/laser012.wav', '/home/hashim/PHD/audio_data/AllAudioSamples/Laser/laser013 (2).wav', '/home/hashim/PHD/audio_data/AllAudioSamples/Laser/laser013.wav', '/home/hashim/PHD/audio_data/AllAudioSamples/Laser/laser014 (2).wav', '/home/hashim/PHD/audio_data/AllAudioSamples/Laser/laser014.wav', '/home/hashim/PHD/audio_data/AllAudioSamples/Laser/laser015 (2).wav', '/home/hashim/PHD/audio_data/AllAudioSamples/Laser/laser015.wav', '/home/hashim/PHD/audio_data/AllAudioSamples/Laser/laser016 (2).wav', '/home/hashim/PHD/audio_data/AllAudioSamples/Laser/laser016.wav', '/home/hashim/PHD/audio_data/AllAudioSamples/Laser/laser017 (2).wav', '/home/hashim/PHD/audio_data/AllAudioSamples/Laser/laser017.wav', '/home/hashim/PHD/audio_data/AllAudioSamples/Laser/laser018 (2).wav', '/home/hashim/PHD/audio_data/AllAudioSamples/Laser/laser018.wav', '/home/hashim/PHD/audio_data/AllAudioSamples/Laser/laser019 (2).wav', '/home/hashim/PHD/audio_data/AllAudioSamples/Laser/laser019.wav', '/home/hashim/PHD/audio_data/AllAudioSamples/Laser/laser020 (2).wav', '/home/hashim/PHD/audio_data/AllAudioSamples/Laser/laser020.wav', '/home/hashim/PHD/audio_data/AllAudioSamples/Laser/output_channel1.1 (2).wav', '/home/hashim/PHD/audio_data/AllAudioSamples/Laser/output_channel1.1 (3).wav', '/home/hashim/PHD/audio_data/AllAudioSamples/Laser/output_channel1.1 (4).wav', '/home/hashim/PHD/audio_data/AllAudioSamples/Laser/output_channel1.1.wav', '/home/hashim/PHD/audio_data/AllAudioSamples/Laser/output_channel1.2 (2).wav', '/home/hashim/PHD/audio_data/AllAudioSamples/Laser/output_channel1.2 (3).wav', '/home/hashim/PHD/audio_data/AllAudioSamples/Laser/output_channel1.2 (4).wav', '/home/hashim/PHD/audio_data/AllAudioSamples/Laser/output_channel1.2.wav', '/home/hashim/PHD/audio_data/AllAudioSamples/Laser/output_channel1.3 (2).wav', '/home/hashim/PHD/audio_data/AllAudioSamples/Laser/output_channel1.3 (3).wav', '/home/hashim/PHD/audio_data/AllAudioSamples/Laser/output_channel1.3 (4).wav', '/home/hashim/PHD/audio_data/AllAudioSamples/Laser/output_channel1.3.wav', '/home/hashim/PHD/audio_data/AllAudioSamples/Laser/output_channel1.4 (2).wav', '/home/hashim/PHD/audio_data/AllAudioSamples/Laser/output_channel1.4 (3).wav', '/home/hashim/PHD/audio_data/AllAudioSamples/Laser/output_channel1.4 (4).wav', '/home/hashim/PHD/audio_data/AllAudioSamples/Laser/output_channel1.4.wav', '/home/hashim/PHD/audio_data/AllAudioSamples/Laser/output_channel1.5 (2).wav', '/home/hashim/PHD/audio_data/AllAudioSamples/Laser/output_channel1.5 (3).wav', '/home/hashim/PHD/audio_data/AllAudioSamples/Laser/output_channel1.5 (4).wav', '/home/hashim/PHD/audio_data/AllAudioSamples/Laser/output_channel1.5.wav', '/home/hashim/PHD/audio_data/AllAudioSamples/Laser/output_channel2.1 (2).wav', '/home/hashim/PHD/audio_data/AllAudioSamples/Laser/output_channel2.1 (3).wav', '/home/hashim/PHD/audio_data/AllAudioSamples/Laser/output_channel2.1 (4).wav', '/home/hashim/PHD/audio_data/AllAudioSamples/Laser/output_channel2.1.wav', '/home/hashim/PHD/audio_data/AllAudioSamples/Laser/output_channel2.2 (2).wav', '/home/hashim/PHD/audio_data/AllAudioSamples/Laser/output_channel2.2 (3).wav', '/home/hashim/PHD/audio_data/AllAudioSamples/Laser/output_channel2.2 (4).wav', '/home/hashim/PHD/audio_data/AllAudioSamples/Laser/output_channel2.2.wav', '/home/hashim/PHD/audio_data/AllAudioSamples/Laser/output_channel2.3 (2).wav', '/home/hashim/PHD/audio_data/AllAudioSamples/Laser/output_channel2.3 (3).wav', '/home/hashim/PHD/audio_data/AllAudioSamples/Laser/output_channel2.3 (4).wav', '/home/hashim/PHD/audio_data/AllAudioSamples/Laser/output_channel2.3.wav', '/home/hashim/PHD/audio_data/AllAudioSamples/Laser/output_channel2.4 (2).wav', '/home/hashim/PHD/audio_data/AllAudioSamples/Laser/output_channel2.4 (3).wav', '/home/hashim/PHD/audio_data/AllAudioSamples/Laser/output_channel2.4 (4).wav', '/home/hashim/PHD/audio_data/AllAudioSamples/Laser/output_channel2.4.wav', '/home/hashim/PHD/audio_data/AllAudioSamples/Laser/output_channel2.5 (2).wav', '/home/hashim/PHD/audio_data/AllAudioSamples/Laser/output_channel2.5 (3).wav', '/home/hashim/PHD/audio_data/AllAudioSamples/Laser/output_channel2.5 (4).wav', '/home/hashim/PHD/audio_data/AllAudioSamples/Laser/output_channel2.5.wav']\n",
      "80\n"
     ]
    }
   ],
   "source": [
    "laser_dir = '/home/hashim/PHD/audio_data/AllAudioSamples/Laser/'\n",
    "laser_files = list(glob.glob(os.path.join(laser_dir, '*.wav')))\n",
    "laser_files.sort()\n",
    "print(laser_files)\n",
    "print(len(laser_files))"
   ]
  },
  {
   "cell_type": "code",
   "execution_count": 8,
   "id": "471d7a88",
   "metadata": {},
   "outputs": [
    {
     "name": "stdout",
     "output_type": "stream",
     "text": [
      "['/home/hashim/PHD/audio_data/AllAudioSamples/Original/original001 (2).wav', '/home/hashim/PHD/audio_data/AllAudioSamples/Original/original001.wav', '/home/hashim/PHD/audio_data/AllAudioSamples/Original/original002 (2).wav', '/home/hashim/PHD/audio_data/AllAudioSamples/Original/original002.wav', '/home/hashim/PHD/audio_data/AllAudioSamples/Original/original003 (2).wav', '/home/hashim/PHD/audio_data/AllAudioSamples/Original/original003.wav', '/home/hashim/PHD/audio_data/AllAudioSamples/Original/original004 (2).wav', '/home/hashim/PHD/audio_data/AllAudioSamples/Original/original004.wav', '/home/hashim/PHD/audio_data/AllAudioSamples/Original/original005 (2).wav', '/home/hashim/PHD/audio_data/AllAudioSamples/Original/original005.wav', '/home/hashim/PHD/audio_data/AllAudioSamples/Original/original006 (2).wav', '/home/hashim/PHD/audio_data/AllAudioSamples/Original/original006.wav', '/home/hashim/PHD/audio_data/AllAudioSamples/Original/original007 (2).wav', '/home/hashim/PHD/audio_data/AllAudioSamples/Original/original007.wav', '/home/hashim/PHD/audio_data/AllAudioSamples/Original/original008 (2).wav', '/home/hashim/PHD/audio_data/AllAudioSamples/Original/original008.wav', '/home/hashim/PHD/audio_data/AllAudioSamples/Original/original009 (2).wav', '/home/hashim/PHD/audio_data/AllAudioSamples/Original/original009.wav', '/home/hashim/PHD/audio_data/AllAudioSamples/Original/original010 (2).wav', '/home/hashim/PHD/audio_data/AllAudioSamples/Original/original010.wav', '/home/hashim/PHD/audio_data/AllAudioSamples/Original/original011 (2).wav', '/home/hashim/PHD/audio_data/AllAudioSamples/Original/original011.wav', '/home/hashim/PHD/audio_data/AllAudioSamples/Original/original012 (2).wav', '/home/hashim/PHD/audio_data/AllAudioSamples/Original/original012.wav', '/home/hashim/PHD/audio_data/AllAudioSamples/Original/original013 (2).wav', '/home/hashim/PHD/audio_data/AllAudioSamples/Original/original013.wav', '/home/hashim/PHD/audio_data/AllAudioSamples/Original/original014 (2).wav', '/home/hashim/PHD/audio_data/AllAudioSamples/Original/original014.wav', '/home/hashim/PHD/audio_data/AllAudioSamples/Original/original015 (2).wav', '/home/hashim/PHD/audio_data/AllAudioSamples/Original/original015.wav', '/home/hashim/PHD/audio_data/AllAudioSamples/Original/original016 (2).wav', '/home/hashim/PHD/audio_data/AllAudioSamples/Original/original016.wav', '/home/hashim/PHD/audio_data/AllAudioSamples/Original/original017 (2).wav', '/home/hashim/PHD/audio_data/AllAudioSamples/Original/original017.wav', '/home/hashim/PHD/audio_data/AllAudioSamples/Original/original018 (2).wav', '/home/hashim/PHD/audio_data/AllAudioSamples/Original/original018.wav', '/home/hashim/PHD/audio_data/AllAudioSamples/Original/original019 (2).wav', '/home/hashim/PHD/audio_data/AllAudioSamples/Original/original019.wav', '/home/hashim/PHD/audio_data/AllAudioSamples/Original/original020 (2).wav', '/home/hashim/PHD/audio_data/AllAudioSamples/Original/original020.wav', '/home/hashim/PHD/audio_data/AllAudioSamples/Original/output_channel1.1 (2).wav', '/home/hashim/PHD/audio_data/AllAudioSamples/Original/output_channel1.1 (3).wav', '/home/hashim/PHD/audio_data/AllAudioSamples/Original/output_channel1.1 (4).wav', '/home/hashim/PHD/audio_data/AllAudioSamples/Original/output_channel1.1.wav', '/home/hashim/PHD/audio_data/AllAudioSamples/Original/output_channel1.2 (2).wav', '/home/hashim/PHD/audio_data/AllAudioSamples/Original/output_channel1.2 (3).wav', '/home/hashim/PHD/audio_data/AllAudioSamples/Original/output_channel1.2 (4).wav', '/home/hashim/PHD/audio_data/AllAudioSamples/Original/output_channel1.2.wav', '/home/hashim/PHD/audio_data/AllAudioSamples/Original/output_channel1.3 (2).wav', '/home/hashim/PHD/audio_data/AllAudioSamples/Original/output_channel1.3 (3).wav', '/home/hashim/PHD/audio_data/AllAudioSamples/Original/output_channel1.3 (4).wav', '/home/hashim/PHD/audio_data/AllAudioSamples/Original/output_channel1.3.wav', '/home/hashim/PHD/audio_data/AllAudioSamples/Original/output_channel1.4 (2).wav', '/home/hashim/PHD/audio_data/AllAudioSamples/Original/output_channel1.4 (3).wav', '/home/hashim/PHD/audio_data/AllAudioSamples/Original/output_channel1.4 (4).wav', '/home/hashim/PHD/audio_data/AllAudioSamples/Original/output_channel1.4.wav', '/home/hashim/PHD/audio_data/AllAudioSamples/Original/output_channel1.5 (2).wav', '/home/hashim/PHD/audio_data/AllAudioSamples/Original/output_channel1.5 (3).wav', '/home/hashim/PHD/audio_data/AllAudioSamples/Original/output_channel1.5 (4).wav', '/home/hashim/PHD/audio_data/AllAudioSamples/Original/output_channel1.5.wav', '/home/hashim/PHD/audio_data/AllAudioSamples/Original/output_channel2.1 (2).wav', '/home/hashim/PHD/audio_data/AllAudioSamples/Original/output_channel2.1 (3).wav', '/home/hashim/PHD/audio_data/AllAudioSamples/Original/output_channel2.1 (4).wav', '/home/hashim/PHD/audio_data/AllAudioSamples/Original/output_channel2.1.wav', '/home/hashim/PHD/audio_data/AllAudioSamples/Original/output_channel2.2 (2).wav', '/home/hashim/PHD/audio_data/AllAudioSamples/Original/output_channel2.2 (3).wav', '/home/hashim/PHD/audio_data/AllAudioSamples/Original/output_channel2.2 (4).wav', '/home/hashim/PHD/audio_data/AllAudioSamples/Original/output_channel2.2.wav', '/home/hashim/PHD/audio_data/AllAudioSamples/Original/output_channel2.3 (2).wav', '/home/hashim/PHD/audio_data/AllAudioSamples/Original/output_channel2.3 (3).wav', '/home/hashim/PHD/audio_data/AllAudioSamples/Original/output_channel2.3 (4).wav', '/home/hashim/PHD/audio_data/AllAudioSamples/Original/output_channel2.3.wav', '/home/hashim/PHD/audio_data/AllAudioSamples/Original/output_channel2.4 (2).wav', '/home/hashim/PHD/audio_data/AllAudioSamples/Original/output_channel2.4 (3).wav', '/home/hashim/PHD/audio_data/AllAudioSamples/Original/output_channel2.4 (4).wav', '/home/hashim/PHD/audio_data/AllAudioSamples/Original/output_channel2.4.wav', '/home/hashim/PHD/audio_data/AllAudioSamples/Original/output_channel2.5 (2).wav', '/home/hashim/PHD/audio_data/AllAudioSamples/Original/output_channel2.5 (3).wav', '/home/hashim/PHD/audio_data/AllAudioSamples/Original/output_channel2.5 (4).wav', '/home/hashim/PHD/audio_data/AllAudioSamples/Original/output_channel2.5.wav']\n",
      "80\n"
     ]
    }
   ],
   "source": [
    "orig_dir = '/home/hashim/PHD/audio_data/AllAudioSamples/Original/'\n",
    "orig_files = list(glob.glob(os.path.join(orig_dir, '*wav')))\n",
    "orig_files.sort()\n",
    "print(orig_files)\n",
    "print(len(orig_files))"
   ]
  },
  {
   "cell_type": "code",
   "execution_count": 9,
   "id": "2300f173",
   "metadata": {},
   "outputs": [
    {
     "data": {
      "text/plain": [
       "56"
      ]
     },
     "execution_count": 9,
     "metadata": {},
     "output_type": "execute_result"
    }
   ],
   "source": [
    "# generate a random integer between 0 and minimum of length of original and laser files. \n",
    "\n",
    "audio_idx = random.randint(0, min(len(laser_files), len(orig_files)))\n",
    "audio_idx"
   ]
  },
  {
   "cell_type": "code",
   "execution_count": 10,
   "id": "073ac210",
   "metadata": {},
   "outputs": [],
   "source": [
    "laser_audio, sr = librosa.load(laser_files[audio_idx], res_type='kaiser_fast')\n",
    "auth_audio, sr = librosa.load(orig_files[audio_idx], res_type='kaiser_fast')"
   ]
  },
  {
   "cell_type": "code",
   "execution_count": null,
   "id": "eb334555",
   "metadata": {},
   "outputs": [],
   "source": []
  }
 ],
 "metadata": {
  "kernelspec": {
   "display_name": "laser_injection",
   "language": "python",
   "name": "laser_injection"
  },
  "language_info": {
   "codemirror_mode": {
    "name": "ipython",
    "version": 3
   },
   "file_extension": ".py",
   "mimetype": "text/x-python",
   "name": "python",
   "nbconvert_exporter": "python",
   "pygments_lexer": "ipython3",
   "version": "3.8.10"
  }
 },
 "nbformat": 4,
 "nbformat_minor": 5
}
