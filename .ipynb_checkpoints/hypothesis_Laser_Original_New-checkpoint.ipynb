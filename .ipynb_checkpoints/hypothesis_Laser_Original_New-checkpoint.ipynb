{
 "cells": [
  {
   "cell_type": "code",
   "execution_count": 1,
   "id": "2510ea36",
   "metadata": {},
   "outputs": [],
   "source": [
    "import pywt\n",
    "import os\n",
    "import pandas as pd\n",
    "import librosa\n",
    "import librosa.display\n",
    "import glob \n",
    "import numpy as np\n",
    "import matplotlib.pyplot as plt\n",
    "from matplotlib import cm\n",
    "import seaborn as sns\n",
    "from fitter import Fitter, get_common_distributions, get_distributions\n",
    "from matplotlib.ticker import FormatStrFormatter\n",
    "\n",
    "from sklearn.preprocessing import StandardScaler\n",
    "import sklearn\n",
    "\n",
    "from utils import plot_projections\n",
    "\n",
    "from scipy.stats import kurtosis, skew\n",
    "import librosa.display as ld\n",
    "\n",
    "\n",
    "%matplotlib widget"
   ]
  },
  {
   "cell_type": "code",
   "execution_count": 2,
   "id": "fbbc0bd4",
   "metadata": {},
   "outputs": [
    {
     "name": "stdout",
     "output_type": "stream",
     "text": [
      "10\n"
     ]
    }
   ],
   "source": [
    "laser_dir = '/home/hashim/PHD/audio_data/Laser_Original_New/Laser/'\n",
    "laser_files = list(glob.glob(os.path.join(laser_dir, '*.mp3')))\n",
    "laser_files.sort()\n",
    "# print(laser_files)\n",
    "print(len(laser_files))"
   ]
  },
  {
   "cell_type": "code",
   "execution_count": 3,
   "id": "90b84d74",
   "metadata": {},
   "outputs": [
    {
     "name": "stdout",
     "output_type": "stream",
     "text": [
      "10\n"
     ]
    }
   ],
   "source": [
    "orig_dir = '/home/hashim/PHD/audio_data/Laser_Original_New/Original/'\n",
    "orig_files = list(glob.glob(os.path.join(orig_dir, '*.mp3')))\n",
    "orig_files.sort()\n",
    "# print(orig_files)\n",
    "print(len(orig_files))"
   ]
  },
  {
   "cell_type": "code",
   "execution_count": 4,
   "id": "7bc70eb6",
   "metadata": {},
   "outputs": [],
   "source": [
    "sample_id = 5"
   ]
  },
  {
   "cell_type": "markdown",
   "id": "26d65beb",
   "metadata": {},
   "source": [
    "## Time Domain Analysis"
   ]
  },
  {
   "cell_type": "code",
   "execution_count": 5,
   "id": "e5ecfb0c",
   "metadata": {},
   "outputs": [
    {
     "name": "stdout",
     "output_type": "stream",
     "text": [
      "22050\n",
      "22050\n"
     ]
    }
   ],
   "source": [
    "# time domain\n",
    "laser_sample = laser_files[sample_id]\n",
    "gen_sample = orig_files[sample_id]\n",
    "\n",
    "laser_audio, sr = librosa.load(laser_sample, res_type='kaiser_fast', offset=1.229)\n",
    "laser_audio = librosa.util.normalize(laser_audio)\n",
    "print(sr)\n",
    "gen_audio, sr = librosa.load(gen_sample, res_type='kaiser_fast')\n",
    "gen_audio = librosa.util.normalize(gen_audio)\n",
    "print(sr)"
   ]
  },
  {
   "cell_type": "code",
   "execution_count": 6,
   "id": "fcbbc459",
   "metadata": {},
   "outputs": [
    {
     "data": {
      "application/vnd.jupyter.widget-view+json": {
       "model_id": "190e27fd5f22403eac46bfbd11e3ae18",
       "version_major": 2,
       "version_minor": 0
      },
      "text/plain": [
       "Canvas(toolbar=Toolbar(toolitems=[('Home', 'Reset original view', 'home', 'home'), ('Back', 'Back to previous …"
      ]
     },
     "metadata": {},
     "output_type": "display_data"
    }
   ],
   "source": [
    "fig, ax = plt.subplots(2,1, figsize=(8,10))\n",
    "\n",
    "ax[0].set(title='Wave Form of Laser Audio')\n",
    "# ld.waveplot(laser_audio, sr=sr, ax=ax[0])\n",
    "ax[0].plot(laser_audio)\n",
    "# ax[0].set_xlim([2.5, 5])\n",
    "# ax[0].set_ylim([-1, 1])\n",
    "# ax[0].set_ylim([-0.03, 0.03])\n",
    "ax[0].grid()\n",
    "\n",
    "ax[1].set(title='Wave Form of Original Audio')\n",
    "# ld.waveplot(gen_audio, sr=sr, ax=ax[1])\n",
    "ax[1].plot(gen_audio)\n",
    "# ax[1].set_xlim([2.5, 5])\n",
    "# ax[1].set_ylim([-1, 1])\n",
    "# ax[1].set_ylim([-0.03, 0.03])\n",
    "ax[1].grid()"
   ]
  },
  {
   "cell_type": "markdown",
   "id": "a622cb82",
   "metadata": {},
   "source": [
    "## Aligning the two audios"
   ]
  },
  {
   "cell_type": "code",
   "execution_count": 7,
   "id": "d2f7edac",
   "metadata": {},
   "outputs": [
    {
     "data": {
      "application/vnd.jupyter.widget-view+json": {
       "model_id": "198465d449834e2d9eb1c164e2939bfc",
       "version_major": 2,
       "version_minor": 0
      },
      "text/plain": [
       "Canvas(toolbar=Toolbar(toolitems=[('Home', 'Reset original view', 'home', 'home'), ('Back', 'Back to previous …"
      ]
     },
     "metadata": {},
     "output_type": "display_data"
    }
   ],
   "source": [
    "n_fft = 44100\n",
    "hop_size = 22050\n",
    "\n",
    "laser_chroma = librosa.feature.chroma_stft(y=laser_audio, sr=sr, tuning=0, norm=2,\n",
    "                                         hop_length=hop_size, n_fft=n_fft)\n",
    "original_chroma = librosa.feature.chroma_stft(y=gen_audio, sr=sr, tuning=0, norm=2,\n",
    "                                         hop_length=hop_size, n_fft=n_fft)\n",
    "\n",
    "plt.figure(figsize=(16, 8))\n",
    "plt.subplot(2, 1, 1)\n",
    "plt.title('Chroma Representation of $X_1$')\n",
    "librosa.display.specshow(laser_chroma, x_axis='time',\n",
    "                         y_axis='chroma', cmap='gray_r', hop_length=hop_size)\n",
    "plt.colorbar()\n",
    "plt.subplot(2, 1, 2)\n",
    "plt.title('Chroma Representation of $X_2$')\n",
    "librosa.display.specshow(original_chroma, x_axis='time',\n",
    "                         y_axis='chroma', cmap='gray_r', hop_length=hop_size)\n",
    "plt.colorbar()\n",
    "plt.tight_layout()"
   ]
  },
  {
   "cell_type": "code",
   "execution_count": 8,
   "id": "7efeb558",
   "metadata": {},
   "outputs": [
    {
     "data": {
      "application/vnd.jupyter.widget-view+json": {
       "model_id": "942f5d05a51243578368c022cad5fddc",
       "version_major": 2,
       "version_minor": 0
      },
      "text/plain": [
       "Canvas(toolbar=Toolbar(toolitems=[('Home', 'Reset original view', 'home', 'home'), ('Back', 'Back to previous …"
      ]
     },
     "metadata": {},
     "output_type": "display_data"
    },
    {
     "data": {
      "text/plain": [
       "<matplotlib.colorbar.Colorbar at 0x7f2a59926e20>"
      ]
     },
     "execution_count": 8,
     "metadata": {},
     "output_type": "execute_result"
    }
   ],
   "source": [
    "D, wp = librosa.sequence.dtw(X=laser_chroma, Y=original_chroma, metric='cosine')\n",
    "wp_s = np.asarray(wp) * hop_size / sr\n",
    "\n",
    "fig = plt.figure(figsize=(10, 10))\n",
    "ax = fig.add_subplot(111)\n",
    "librosa.display.specshow(D, x_axis='time', y_axis='time',\n",
    "                         cmap='gray_r', hop_length=hop_size)\n",
    "imax = ax.imshow(D, cmap=plt.get_cmap('gray_r'),\n",
    "                 origin='lower', interpolation='nearest', aspect='auto')\n",
    "ax.plot(wp_s[:, 1], wp_s[:, 0], marker='o', color='r')\n",
    "plt.title('Warping Path on Acc. Cost Matrix $D$')\n",
    "plt.colorbar()"
   ]
  },
  {
   "cell_type": "code",
   "execution_count": 9,
   "id": "c2a62e66",
   "metadata": {},
   "outputs": [
    {
     "name": "stdout",
     "output_type": "stream",
     "text": [
      "Using matplotlib backend: module://ipympl.backend_nbagg\n"
     ]
    },
    {
     "data": {
      "application/vnd.jupyter.widget-view+json": {
       "model_id": "402d78e2a3ef4dc8ab6c218d60352fd9",
       "version_major": 2,
       "version_minor": 0
      },
      "text/plain": [
       "Canvas(toolbar=Toolbar(toolitems=[('Home', 'Reset original view', 'home', 'home'), ('Back', 'Back to previous …"
      ]
     },
     "metadata": {},
     "output_type": "display_data"
    }
   ],
   "source": [
    "%matplotlib\n",
    "\n",
    "fig, ax = plt.subplots(2,1, figsize=(8,10))\n",
    "\n",
    "ax[0].set(title='Wave Form of Laser Audio')\n",
    "ax[0].plot(laser_audio)\n",
    "# ld.waveplot(laser_audio, sr=sr, ax=ax[0])\n",
    "ax[0].set_xlim([62000, 62600])\n",
    "ax[0].set_ylim([-0.5, 0.5])\n",
    "ax[0].grid()\n",
    "\n",
    "ax[1].set(title='Wave Form of Original Audio')\n",
    "# ld.waveplot(gen_audio, sr=sr, ax=ax[1])\n",
    "ax[1].plot(gen_audio)\n",
    "ax[1].set_xlim([62000, 62600])\n",
    "# ax[1].set_xlim([-0.5, 0.5])\n",
    "ax[1].set_ylim([-0.5, 0.5])\n",
    "ax[1].grid()"
   ]
  },
  {
   "cell_type": "code",
   "execution_count": 10,
   "id": "9ead1549",
   "metadata": {},
   "outputs": [],
   "source": [
    "# fft_laser = np.fft.fft(laser_audio)\n",
    "# fft_orig = np.fft.fft(gen_audio)"
   ]
  },
  {
   "cell_type": "code",
   "execution_count": 11,
   "id": "7a8baac6",
   "metadata": {},
   "outputs": [],
   "source": [
    "# fig, ax = plt.subplots(2,1, figsize=(8,10))\n",
    "\n",
    "# ax[0].set(title='FFT of Laser Audio')\n",
    "# ax[0].plot(fft_laser[:1200])\n",
    "# # ld.waveplot(laser_audio, sr=sr, ax=ax[0])\n",
    "\n",
    "# ax[1].set(title='FFT of Original Audio')\n",
    "# ax[1].plot(fft_orig[:1200])\n",
    "# # ld.waveplot(gen_audio, sr=sr, ax=ax[1])"
   ]
  },
  {
   "cell_type": "code",
   "execution_count": 12,
   "id": "28a6b2af",
   "metadata": {},
   "outputs": [],
   "source": [
    "stft_laser = librosa.stft(laser_audio, n_fft=256)\n",
    "S_db_laser = librosa.amplitude_to_db(np.abs(stft_laser), ref=np.max)\n",
    "\n",
    "stft_gen = librosa.stft(gen_audio, n_fft=256)\n",
    "S_db_gen = librosa.amplitude_to_db(np.abs(stft_gen), ref=np.max)"
   ]
  },
  {
   "cell_type": "code",
   "execution_count": 13,
   "id": "131f871c",
   "metadata": {},
   "outputs": [
    {
     "data": {
      "application/vnd.jupyter.widget-view+json": {
       "model_id": "a9f303a17b9f45ca9b5a4c3726bbb88f",
       "version_major": 2,
       "version_minor": 0
      },
      "text/plain": [
       "Canvas(toolbar=Toolbar(toolitems=[('Home', 'Reset original view', 'home', 'home'), ('Back', 'Back to previous …"
      ]
     },
     "metadata": {},
     "output_type": "display_data"
    },
    {
     "data": {
      "text/plain": [
       "<matplotlib.colorbar.Colorbar at 0x7f2a5938e940>"
      ]
     },
     "execution_count": 13,
     "metadata": {},
     "output_type": "execute_result"
    }
   ],
   "source": [
    "fig, axes = plt.subplots(2, 1, figsize=(9,6))\n",
    "# ax = axes.flatten()\n",
    "\n",
    "img_laser = librosa.display.specshow(S_db_laser, x_axis='time', y_axis='log', sr=sr, ax=axes[0])\n",
    "axes[0].set(title='Laser Induced Response')\n",
    "axes[0].label_outer()\n",
    "\n",
    "\n",
    "img_gen = librosa.display.specshow(S_db_gen, x_axis='time', y_axis='log', sr=sr, ax=axes[1])\n",
    "axes[1].set(title='Acoustic Induced Response')\n",
    "axes[1].label_outer()\n",
    "\n",
    "fig.colorbar(img_laser, ax=axes, format=\"%+2.f dB\")\n",
    "\n",
    "# fig.savefig('spectrogram.png')"
   ]
  },
  {
   "cell_type": "code",
   "execution_count": 16,
   "id": "9bc8db0d",
   "metadata": {},
   "outputs": [
    {
     "data": {
      "application/vnd.jupyter.widget-view+json": {
       "model_id": "f0889dd98d8242ad85f422c48559d22e",
       "version_major": 2,
       "version_minor": 0
      },
      "text/plain": [
       "Canvas(toolbar=Toolbar(toolitems=[('Home', 'Reset original view', 'home', 'home'), ('Back', 'Back to previous …"
      ]
     },
     "metadata": {},
     "output_type": "display_data"
    }
   ],
   "source": [
    "fig, axes = plt.subplots(2, 1, figsize=(9,6))\n",
    "# ax = axes.flatten()\n",
    "\n",
    "img_laser = librosa.display.specshow(S_db_laser, x_axis='time', y_axis='log', sr=sr, ax=axes[0])\n",
    "axes[0].set(title='Laser Induced Response')\n",
    "axes[0].label_outer()\n",
    "axes[0].set_xlim([20, 40])\n",
    "# ax[0].set_ylim([-1, 1])\n",
    "# ax[0].grid()\n",
    "\n",
    "img_gen = librosa.display.specshow(S_db_gen, x_axis='time', y_axis='log', sr=sr, ax=axes[1])\n",
    "axes[1].set(title='Acoustic Induced Response')\n",
    "axes[1].label_outer()\n",
    "axes[1].set_xlim([20, 40])\n",
    "# ax[0].set_ylim([-1, 1])\n",
    "# ax[0].grid()\n",
    "\n",
    "fig.colorbar(img_laser, ax=axes, format=\"%+2.f dB\")\n",
    "\n",
    "# fig.savefig('spectrogram_zoomed_in.png')"
   ]
  },
  {
   "cell_type": "markdown",
   "id": "3904c02c",
   "metadata": {},
   "source": [
    "# Distrubtion of Low Frequency Regions"
   ]
  },
  {
   "cell_type": "code",
   "execution_count": 15,
   "id": "33880a34",
   "metadata": {},
   "outputs": [
    {
     "data": {
      "text/plain": [
       "(129,)"
      ]
     },
     "execution_count": 15,
     "metadata": {},
     "output_type": "execute_result"
    }
   ],
   "source": [
    "S_db_laser.shape\n",
    "S_db_laser[:,0].shape"
   ]
  },
  {
   "cell_type": "markdown",
   "id": "358821bf",
   "metadata": {},
   "source": [
    "### Coeff 0"
   ]
  },
  {
   "cell_type": "code",
   "execution_count": 16,
   "id": "fb10d16b",
   "metadata": {},
   "outputs": [
    {
     "data": {
      "application/vnd.jupyter.widget-view+json": {
       "model_id": "3eebd4365f5c4d74b541107b9772521a",
       "version_major": 2,
       "version_minor": 0
      },
      "text/plain": [
       "Canvas(toolbar=Toolbar(toolitems=[('Home', 'Reset original view', 'home', 'home'), ('Back', 'Back to previous …"
      ]
     },
     "metadata": {},
     "output_type": "display_data"
    }
   ],
   "source": [
    "fig, ax = plt.subplots(2, 1, figsize=(9,6))\n",
    "\n",
    "ax[0].hist(S_db_laser[:,0], bins='auto')\n",
    "ax[0].set(title='Laser Audio Distribution for Coeff 0')\n",
    "ax[0].label_outer()\n",
    "\n",
    "ax[1].hist(S_db_gen[:,0], bins='auto')\n",
    "ax[1].set(title='Genuine Audio Distribution for Coeff 0')\n",
    "ax[1].label_outer()"
   ]
  },
  {
   "cell_type": "markdown",
   "id": "b5fb53f3",
   "metadata": {},
   "source": [
    "### Coeff 1"
   ]
  },
  {
   "cell_type": "code",
   "execution_count": 17,
   "id": "25cc9bfb",
   "metadata": {},
   "outputs": [
    {
     "data": {
      "application/vnd.jupyter.widget-view+json": {
       "model_id": "ccf8387939a04426b8c714a52c56bf97",
       "version_major": 2,
       "version_minor": 0
      },
      "text/plain": [
       "Canvas(toolbar=Toolbar(toolitems=[('Home', 'Reset original view', 'home', 'home'), ('Back', 'Back to previous …"
      ]
     },
     "metadata": {},
     "output_type": "display_data"
    }
   ],
   "source": [
    "fig, ax = plt.subplots(2, 1, figsize=(9,6))\n",
    "\n",
    "ax[0].hist(S_db_laser[:,1], bins='auto')\n",
    "ax[0].set(title='Laser Audio Distribution for Coeff 1')\n",
    "ax[0].label_outer()\n",
    "\n",
    "ax[1].hist(S_db_gen[:,1], bins='auto')\n",
    "ax[0].set(title='Genuine Audio Distribution for Coeff 1')\n",
    "ax[0].label_outer()"
   ]
  },
  {
   "cell_type": "markdown",
   "id": "69552e74",
   "metadata": {},
   "source": [
    "### Coeff 2"
   ]
  },
  {
   "cell_type": "code",
   "execution_count": 18,
   "id": "692fccc5",
   "metadata": {},
   "outputs": [
    {
     "data": {
      "application/vnd.jupyter.widget-view+json": {
       "model_id": "feab3cba955c4d2992a54d7bca3d7ae6",
       "version_major": 2,
       "version_minor": 0
      },
      "text/plain": [
       "Canvas(toolbar=Toolbar(toolitems=[('Home', 'Reset original view', 'home', 'home'), ('Back', 'Back to previous …"
      ]
     },
     "metadata": {},
     "output_type": "display_data"
    }
   ],
   "source": [
    "fig, ax = plt.subplots(2, 1, figsize=(9,6))\n",
    "\n",
    "ax[0].hist(S_db_laser[:,2], bins='auto')\n",
    "ax[0].set(title='Laser Audio Distribution for Coeff 2')\n",
    "ax[0].label_outer()\n",
    "\n",
    "ax[1].hist(S_db_gen[:,2], bins='auto')\n",
    "ax[0].set(title='Genuine Audio Distribution for Coeff 2')\n",
    "ax[0].label_outer()"
   ]
  },
  {
   "cell_type": "markdown",
   "id": "14adca30",
   "metadata": {},
   "source": [
    "### Coeff 3"
   ]
  },
  {
   "cell_type": "code",
   "execution_count": 19,
   "id": "6fa2c5d9",
   "metadata": {},
   "outputs": [
    {
     "data": {
      "application/vnd.jupyter.widget-view+json": {
       "model_id": "332e220c3a2946839ba50cd7276d2c2a",
       "version_major": 2,
       "version_minor": 0
      },
      "text/plain": [
       "Canvas(toolbar=Toolbar(toolitems=[('Home', 'Reset original view', 'home', 'home'), ('Back', 'Back to previous …"
      ]
     },
     "metadata": {},
     "output_type": "display_data"
    }
   ],
   "source": [
    "fig, ax = plt.subplots(2, 1, figsize=(9,6))\n",
    "\n",
    "ax[0].hist(S_db_laser[:,3], bins='auto')\n",
    "ax[0].set(title='Laser Audio Distribution for Coeff 3')\n",
    "ax[0].label_outer()\n",
    "\n",
    "ax[1].hist(S_db_gen[:,3], bins='auto')\n",
    "ax[0].set(title='Genuine Audio Distribution for Coeff 3')\n",
    "ax[0].label_outer()"
   ]
  },
  {
   "cell_type": "markdown",
   "id": "b14659a8",
   "metadata": {},
   "source": [
    "### Coeff 4"
   ]
  },
  {
   "cell_type": "code",
   "execution_count": 20,
   "id": "2614d2bc",
   "metadata": {},
   "outputs": [
    {
     "data": {
      "application/vnd.jupyter.widget-view+json": {
       "model_id": "8b6a123cb48c4e5a8deef205830bbbc2",
       "version_major": 2,
       "version_minor": 0
      },
      "text/plain": [
       "Canvas(toolbar=Toolbar(toolitems=[('Home', 'Reset original view', 'home', 'home'), ('Back', 'Back to previous …"
      ]
     },
     "metadata": {},
     "output_type": "display_data"
    }
   ],
   "source": [
    "fig, ax = plt.subplots(2, 1, figsize=(9,6))\n",
    "\n",
    "ax[0].hist(S_db_laser[:,4], bins='auto')\n",
    "ax[0].set(title='Laser Audio Distribution for Coeff 3')\n",
    "ax[0].label_outer()\n",
    "\n",
    "ax[1].hist(S_db_gen[:,4], bins='auto')\n",
    "ax[0].set(title='Genuine Audio Distribution for Coeff 3')\n",
    "ax[0].label_outer()"
   ]
  },
  {
   "cell_type": "code",
   "execution_count": 21,
   "id": "403698a7",
   "metadata": {},
   "outputs": [
    {
     "data": {
      "application/vnd.jupyter.widget-view+json": {
       "model_id": "cbb0622ec784444ea64a870ce1503021",
       "version_major": 2,
       "version_minor": 0
      },
      "text/plain": [
       "Canvas(toolbar=Toolbar(toolitems=[('Home', 'Reset original view', 'home', 'home'), ('Back', 'Back to previous …"
      ]
     },
     "metadata": {},
     "output_type": "display_data"
    },
    {
     "data": {
      "text/plain": [
       "<matplotlib.colorbar.Colorbar at 0x7f2deb19a550>"
      ]
     },
     "execution_count": 21,
     "metadata": {},
     "output_type": "execute_result"
    }
   ],
   "source": [
    "fig, ax = plt.subplots(2, 2, figsize=(25,9))\n",
    "\n",
    "ax[0,0].set(title='Wave Form of Laser Audio')\n",
    "ld.waveplot(laser_audio, sr=sr, ax=ax[0,0])\n",
    "\n",
    "ax[1,0].set(title='Wave Form of Original Audio')\n",
    "ld.waveplot(gen_audio, sr=sr, ax=ax[1,0])\n",
    "\n",
    "# ax[0,1].set(title='FFT of Laser Audio')\n",
    "# ax[0,1].plot(fft_laser[:1200])\n",
    "# # ld.waveplot(laser_audio, sr=sr, ax=ax[0])\n",
    "\n",
    "# ax[1,1].set(title='FFT of Original Audio')\n",
    "# ax[1,1].plot(fft_orig[:1200])\n",
    "\n",
    "img_laser = librosa.display.specshow(S_db_laser, x_axis='time', y_axis='log', sr=sr, ax=ax[0,1])\n",
    "ax[0,1].set(title='Laser Audio Spectogram')\n",
    "ax[0,1].label_outer()\n",
    "\n",
    "img_gen = librosa.display.specshow(S_db_gen, x_axis='time', y_axis='log', sr=sr, ax=ax[1,1])\n",
    "ax[1,1].set(title='Genuine Audio Spectogram')\n",
    "ax[1,1].label_outer()\n",
    "\n",
    "fig.colorbar(img_laser, ax=ax, format=\"%+2.f dB\")\n",
    "# fig.savefig('time_frequncy_spectrogram.png')"
   ]
  },
  {
   "cell_type": "code",
   "execution_count": null,
   "id": "dc56c01b",
   "metadata": {},
   "outputs": [],
   "source": []
  },
  {
   "cell_type": "code",
   "execution_count": null,
   "id": "42ab6f0a",
   "metadata": {},
   "outputs": [],
   "source": []
  }
 ],
 "metadata": {
  "kernelspec": {
   "display_name": "laser_injection",
   "language": "python",
   "name": "laser_injection"
  },
  "language_info": {
   "codemirror_mode": {
    "name": "ipython",
    "version": 3
   },
   "file_extension": ".py",
   "mimetype": "text/x-python",
   "name": "python",
   "nbconvert_exporter": "python",
   "pygments_lexer": "ipython3",
   "version": "3.8.10"
  }
 },
 "nbformat": 4,
 "nbformat_minor": 5
}
