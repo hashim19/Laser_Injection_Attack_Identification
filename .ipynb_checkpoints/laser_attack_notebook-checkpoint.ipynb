{
 "cells": [
  {
   "cell_type": "code",
   "execution_count": 33,
   "id": "lesser-outside",
   "metadata": {},
   "outputs": [],
   "source": [
    "import os\n",
    "import pandas as pd\n",
    "import librosa\n",
    "import librosa.display\n",
    "import glob \n",
    "import numpy as np\n",
    "import matplotlib.pyplot as plt\n",
    "from matplotlib import cm\n",
    "import seaborn as sns\n",
    "from fitter import Fitter, get_common_distributions, get_distributions\n",
    "\n",
    "from sklearn.preprocessing import StandardScaler\n",
    "import sklearn\n",
    "\n",
    "from utils import plot_projections\n",
    "\n",
    "%matplotlib widget"
   ]
  },
  {
   "cell_type": "code",
   "execution_count": 2,
   "id": "developmental-cruise",
   "metadata": {},
   "outputs": [
    {
     "name": "stdout",
     "output_type": "stream",
     "text": [
      "['/home/hashim/PHD/audio_data/Laser_Original/Laser/laser_000.mp3', '/home/hashim/PHD/audio_data/Laser_Original/Laser/laser_001.mp3', '/home/hashim/PHD/audio_data/Laser_Original/Laser/laser_002.mp3', '/home/hashim/PHD/audio_data/Laser_Original/Laser/laser_003.mp3', '/home/hashim/PHD/audio_data/Laser_Original/Laser/laser_004.mp3', '/home/hashim/PHD/audio_data/Laser_Original/Laser/laser_005.mp3', '/home/hashim/PHD/audio_data/Laser_Original/Laser/laser_006.mp3', '/home/hashim/PHD/audio_data/Laser_Original/Laser/laser_007.mp3', '/home/hashim/PHD/audio_data/Laser_Original/Laser/laser_008.mp3', '/home/hashim/PHD/audio_data/Laser_Original/Laser/laser_009.mp3', '/home/hashim/PHD/audio_data/Laser_Original/Original/original_000.mp3', '/home/hashim/PHD/audio_data/Laser_Original/Original/original_001.mp3', '/home/hashim/PHD/audio_data/Laser_Original/Original/original_002.mp3', '/home/hashim/PHD/audio_data/Laser_Original/Original/original_003.mp3', '/home/hashim/PHD/audio_data/Laser_Original/Original/original_004.mp3', '/home/hashim/PHD/audio_data/Laser_Original/Original/original_005.mp3', '/home/hashim/PHD/audio_data/Laser_Original/Original/original_006.mp3', '/home/hashim/PHD/audio_data/Laser_Original/Original/original_007.mp3']\n",
      "18\n"
     ]
    }
   ],
   "source": [
    "audio_dir = '/home/hashim/PHD/audio_data/Laser_Original/'\n",
    "\n",
    "wav_files = list(glob.glob(os.path.join(audio_dir, '**/*.mp3')))\n",
    "wav_files.sort()\n",
    "print(wav_files)\n",
    "print(len(wav_files))"
   ]
  },
  {
   "cell_type": "code",
   "execution_count": 3,
   "id": "pregnant-vacation",
   "metadata": {},
   "outputs": [
    {
     "name": "stdout",
     "output_type": "stream",
     "text": [
      "['/home/hashim/PHD/audio_data/Laser_Original/Laser/laser_000.mp3', '/home/hashim/PHD/audio_data/Laser_Original/Laser/laser_001.mp3', '/home/hashim/PHD/audio_data/Laser_Original/Laser/laser_002.mp3', '/home/hashim/PHD/audio_data/Laser_Original/Laser/laser_003.mp3', '/home/hashim/PHD/audio_data/Laser_Original/Laser/laser_004.mp3', '/home/hashim/PHD/audio_data/Laser_Original/Laser/laser_005.mp3', '/home/hashim/PHD/audio_data/Laser_Original/Laser/laser_006.mp3', '/home/hashim/PHD/audio_data/Laser_Original/Laser/laser_007.mp3', '/home/hashim/PHD/audio_data/Laser_Original/Laser/laser_008.mp3', '/home/hashim/PHD/audio_data/Laser_Original/Laser/laser_009.mp3']\n",
      "10\n"
     ]
    }
   ],
   "source": [
    "laser_dir = '/home/hashim/PHD/audio_data/Laser_Original/Laser/'\n",
    "laser_files = list(glob.glob(os.path.join(laser_dir, '*.mp3')))\n",
    "laser_files.sort()\n",
    "print(laser_files)\n",
    "print(len(laser_files))"
   ]
  },
  {
   "cell_type": "code",
   "execution_count": 4,
   "id": "coated-gross",
   "metadata": {},
   "outputs": [
    {
     "name": "stdout",
     "output_type": "stream",
     "text": [
      "['/home/hashim/PHD/audio_data/Laser_Original/Original/original_000.mp3', '/home/hashim/PHD/audio_data/Laser_Original/Original/original_001.mp3', '/home/hashim/PHD/audio_data/Laser_Original/Original/original_002.mp3', '/home/hashim/PHD/audio_data/Laser_Original/Original/original_003.mp3', '/home/hashim/PHD/audio_data/Laser_Original/Original/original_004.mp3', '/home/hashim/PHD/audio_data/Laser_Original/Original/original_005.mp3', '/home/hashim/PHD/audio_data/Laser_Original/Original/original_006.mp3', '/home/hashim/PHD/audio_data/Laser_Original/Original/original_007.mp3']\n",
      "8\n"
     ]
    }
   ],
   "source": [
    "orig_dir = '/home/hashim/PHD/audio_data/Laser_Original/Original/'\n",
    "orig_files = list(glob.glob(os.path.join(orig_dir, '*.mp3')))\n",
    "orig_files.sort()\n",
    "print(orig_files)\n",
    "print(len(orig_files))"
   ]
  },
  {
   "cell_type": "code",
   "execution_count": 5,
   "id": "cef697f5",
   "metadata": {},
   "outputs": [
    {
     "data": {
      "text/plain": [
       "8"
      ]
     },
     "execution_count": 5,
     "metadata": {},
     "output_type": "execute_result"
    }
   ],
   "source": [
    "len(laser_files)\n",
    "len(orig_files)"
   ]
  },
  {
   "cell_type": "code",
   "execution_count": 6,
   "id": "cf5d27cc",
   "metadata": {},
   "outputs": [
    {
     "data": {
      "application/vnd.jupyter.widget-view+json": {
       "model_id": "4486097d13a744348f286a57e9f319ac",
       "version_major": 2,
       "version_minor": 0
      },
      "text/plain": [
       "Canvas(toolbar=Toolbar(toolitems=[('Home', 'Reset original view', 'home', 'home'), ('Back', 'Back to previous …"
      ]
     },
     "metadata": {},
     "output_type": "display_data"
    }
   ],
   "source": [
    "# laser spectograms\n",
    "nrows = int(len(laser_files)/2)\n",
    "fig, axes = plt.subplots(nrows, 2, figsize=(12,16))\n",
    "\n",
    "# print(axes)\n",
    "ax = axes.flatten()\n",
    "i = 0\n",
    "for lf in laser_files:\n",
    "    audio_data, sr = librosa.load(lf, res_type='kaiser_fast')\n",
    "    stft = librosa.stft(audio_data, n_fft=256)\n",
    "    S_db = librosa.amplitude_to_db(np.abs(stft), ref=np.max)\n",
    "    \n",
    "    img = librosa.display.specshow(S_db, x_axis='time', y_axis='log', sr=sr, ax=ax[i])\n",
    "#     librosa.display.specshow(S_db, x_axis='time', y_axis='log', sr=sr, ax=ax[i])\n",
    "    i+=1\n",
    "# plt.title('Mel-frequency spectrogram')\n",
    "fig.colorbar(img, ax=ax, format='%+2.0f dB')\n",
    "plt.show()"
   ]
  },
  {
   "cell_type": "code",
   "execution_count": 7,
   "id": "a4ba7e34",
   "metadata": {},
   "outputs": [
    {
     "data": {
      "application/vnd.jupyter.widget-view+json": {
       "model_id": "551b0f2b1f334fa688f45b1a1ab9e5fd",
       "version_major": 2,
       "version_minor": 0
      },
      "text/plain": [
       "Canvas(toolbar=Toolbar(toolitems=[('Home', 'Reset original view', 'home', 'home'), ('Back', 'Back to previous …"
      ]
     },
     "metadata": {},
     "output_type": "display_data"
    }
   ],
   "source": [
    "# Original spectograms\n",
    "nrows = int(len(orig_files)/2)\n",
    "fig, axes = plt.subplots(nrows, 2, figsize=(12,16))\n",
    "\n",
    "# print(axes)\n",
    "ax = axes.flatten()\n",
    "i = 0\n",
    "for of in orig_files:\n",
    "    audio_data, sr = librosa.load(of, res_type='kaiser_fast')\n",
    "    stft = librosa.stft(audio_data, n_fft=256)\n",
    "    S_db = librosa.amplitude_to_db(np.abs(stft), ref=np.max)\n",
    "    \n",
    "    img = librosa.display.specshow(S_db, x_axis='time', y_axis='log', sr=sr, ax=ax[i])\n",
    "#     librosa.display.specshow(S_db, x_axis='time', y_axis='log', sr=sr, ax=ax[i])\n",
    "    i+=1\n",
    "# plt.title('Mel-frequency spectrogram')\n",
    "fig.colorbar(img, ax=ax, format='%+2.0f dB')\n",
    "plt.show()"
   ]
  },
  {
   "cell_type": "code",
   "execution_count": null,
   "id": "fa1cc377",
   "metadata": {},
   "outputs": [],
   "source": []
  },
  {
   "cell_type": "code",
   "execution_count": null,
   "id": "03dc6eb1",
   "metadata": {},
   "outputs": [],
   "source": []
  },
  {
   "cell_type": "code",
   "execution_count": 8,
   "id": "tender-aviation",
   "metadata": {},
   "outputs": [],
   "source": [
    "%%capture\n",
    "# compute spectograms for both laser and original\n",
    "laser_spec = []\n",
    "\n",
    "laser_mu_feat = []\n",
    "laser_sigma_feat = []\n",
    "laser_beta_feat = []\n",
    "for lf in laser_files:\n",
    "    audio_data, sr = librosa.load(lf, res_type='kaiser_fast')\n",
    "    stft = librosa.stft(audio_data, n_fft=256)\n",
    "    S_db = librosa.amplitude_to_db(np.abs(stft), ref=np.max)\n",
    "    \n",
    "    mu_feat = []\n",
    "    sigma_feat = []\n",
    "    beta_feat = []\n",
    "    for row in S_db:\n",
    "        \n",
    "        f = Fitter(row, distributions=[\"gennorm\"])\n",
    "\n",
    "        f.fit()\n",
    "#         print(f.get_best(method = 'sumsquare_error'))\n",
    "\n",
    "        f_param = f.fitted_param[\"gennorm\"]\n",
    "    \n",
    "#         print(f_param)\n",
    "#         print(f.summary())\n",
    "\n",
    "        mu_feat.append(f_param[1])\n",
    "        sigma_feat.append(f_param[2])\n",
    "        beta_feat.append(f_param[0])\n",
    "        \n",
    "    laser_mu_feat.append(mu_feat)\n",
    "    laser_sigma_feat.append(sigma_feat)\n",
    "    laser_beta_feat.append(beta_feat)    \n",
    "    \n",
    "laser_mu_feat = np.array(laser_mu_feat)\n",
    "laser_sigma_feat = np.array(laser_sigma_feat)\n",
    "laser_beta_feat = np.array(laser_beta_feat)\n",
    "\n",
    "#     laser_spec.append(S_db)\n",
    "\n",
    "# laser_spec = np.array(laser_spec)\n",
    "# laser_spec"
   ]
  },
  {
   "cell_type": "code",
   "execution_count": 9,
   "id": "entertaining-union",
   "metadata": {},
   "outputs": [
    {
     "name": "stdout",
     "output_type": "stream",
     "text": [
      "(129, 8607)\n",
      "(10, 129)\n",
      "(10, 129)\n",
      "(10, 129)\n"
     ]
    }
   ],
   "source": [
    "print(S_db.shape)\n",
    "print(laser_mu_feat.shape)\n",
    "print(laser_sigma_feat.shape)\n",
    "print(laser_beta_feat.shape)"
   ]
  },
  {
   "cell_type": "code",
   "execution_count": null,
   "id": "advanced-stevens",
   "metadata": {},
   "outputs": [],
   "source": []
  },
  {
   "cell_type": "code",
   "execution_count": 10,
   "id": "executive-calculator",
   "metadata": {},
   "outputs": [],
   "source": [
    "%%capture\n",
    "orig_spec = []\n",
    "\n",
    "orig_mu_feat = []\n",
    "orig_sigma_feat = []\n",
    "orig_beta_feat = []\n",
    "for of in orig_files:\n",
    "    audio_data, sr = librosa.load(of, res_type='kaiser_fast')\n",
    "    stft = librosa.stft(audio_data, n_fft=256)\n",
    "    S_db = librosa.amplitude_to_db(np.abs(stft), ref=np.max)\n",
    "    \n",
    "    mu_feat = []\n",
    "    sigma_feat = []\n",
    "    beta_feat = []\n",
    "    for row in S_db:\n",
    "        \n",
    "        f = Fitter(row, distributions=[\"gennorm\"])\n",
    "\n",
    "        f.fit()\n",
    "#         print(f.get_best(method = 'sumsquare_error'))\n",
    "\n",
    "        f_param = f.fitted_param[\"gennorm\"]\n",
    "\n",
    "        mu_feat.append(f_param[1])\n",
    "        sigma_feat.append(f_param[2])\n",
    "        beta_feat.append(f_param[0])\n",
    "        \n",
    "    orig_mu_feat.append(mu_feat)\n",
    "    orig_sigma_feat.append(sigma_feat)\n",
    "    orig_beta_feat.append(beta_feat)\n",
    "    \n",
    "orig_mu_feat = np.array(orig_mu_feat)\n",
    "orig_sigma_feat = np.array(orig_sigma_feat)\n",
    "orig_beta_feat = np.array(orig_beta_feat)\n",
    "\n",
    "#     orig_spec.append(S_db)\n",
    "\n",
    "# orig_spec = np.array(orig_spec)\n",
    "# orig_spec"
   ]
  },
  {
   "cell_type": "code",
   "execution_count": 11,
   "id": "individual-green",
   "metadata": {},
   "outputs": [
    {
     "name": "stdout",
     "output_type": "stream",
     "text": [
      "(8, 129)\n",
      "(8, 129)\n",
      "(8, 129)\n"
     ]
    }
   ],
   "source": [
    "print(orig_mu_feat.shape)\n",
    "print(orig_sigma_feat.shape)\n",
    "print(orig_beta_feat.shape)"
   ]
  },
  {
   "cell_type": "code",
   "execution_count": 12,
   "id": "greater-earthquake",
   "metadata": {},
   "outputs": [],
   "source": [
    "def plot_clusters(band_num):\n",
    "    \n",
    "    plt.figure(figsize=(10,3))\n",
    "    \n",
    "#     mean vs sigma\n",
    "    plt.subplot(1, 3, 1)\n",
    "    plt.scatter(orig_mu_feat[:,band_num], orig_sigma_feat[:,band_num], marker='o', label=\"Original\")\n",
    "    plt.scatter(laser_mu_feat[:,band_num], laser_sigma_feat[:,band_num], marker='x', label=\"Laser\")\n",
    "    plt.xlabel(\"Mean\")\n",
    "    plt.ylabel(\"Variance\")\n",
    "    plt.legend()\n",
    "    \n",
    "#     sigma vs beta\n",
    "    plt.subplot(1, 3, 2)\n",
    "    plt.scatter(orig_beta_feat[:,band_num], orig_sigma_feat[:,band_num], marker='o', label=\"Original\")\n",
    "    plt.scatter(laser_beta_feat[:,band_num], laser_sigma_feat[:,band_num], marker='x', label=\"Laser\")\n",
    "    plt.xlabel(\"Beta\")\n",
    "    plt.ylabel(\"Variance\")\n",
    "    plt.legend()\n",
    "     \n",
    "#     beta vs mean\n",
    "    plt.subplot(1, 3, 3)\n",
    "    plt.scatter(orig_mu_feat[:,band_num], orig_beta_feat[:,band_num], marker='o', label=\"Original\")\n",
    "    plt.scatter(laser_mu_feat[:,band_num], laser_beta_feat[:,band_num], marker='x', label=\"Laser\")\n",
    "    plt.xlabel(\"Mean\")\n",
    "    plt.ylabel(\"Beta\")\n",
    "    plt.legend()\n",
    "    \n",
    "    plt.suptitle(\"Laser vs Original for {}th Band\".format(band_num))\n",
    "    \n",
    "    fig = plt.figure(figsize=(10,3))\n",
    "#     plt.figure(figsize=(20,6))\n",
    "    ax = fig.add_subplot(projection='3d')\n",
    "    ax.scatter(orig_mu_feat[:,band_num], orig_sigma_feat[:,band_num], orig_beta_feat[:,band_num], marker='o', label=\"Original\")\n",
    "    ax.scatter(laser_mu_feat[:,band_num], laser_sigma_feat[:,band_num], laser_beta_feat[:,band_num], marker='x', label=\"Laser\")\n",
    "    ax.set_xlabel('Mean')\n",
    "    ax.set_ylabel('Variance')\n",
    "    ax.set_zlabel('Beta')\n",
    "    ax.legend()"
   ]
  },
  {
   "cell_type": "code",
   "execution_count": 13,
   "id": "ethical-projector",
   "metadata": {},
   "outputs": [
    {
     "data": {
      "application/vnd.jupyter.widget-view+json": {
       "model_id": "a5e41231207b4f55ae29854e315131bb",
       "version_major": 2,
       "version_minor": 0
      },
      "text/plain": [
       "Canvas(toolbar=Toolbar(toolitems=[('Home', 'Reset original view', 'home', 'home'), ('Back', 'Back to previous …"
      ]
     },
     "metadata": {},
     "output_type": "display_data"
    },
    {
     "data": {
      "application/vnd.jupyter.widget-view+json": {
       "model_id": "f002122d5248431f830db56db83f803e",
       "version_major": 2,
       "version_minor": 0
      },
      "text/plain": [
       "Canvas(toolbar=Toolbar(toolitems=[('Home', 'Reset original view', 'home', 'home'), ('Back', 'Back to previous …"
      ]
     },
     "metadata": {},
     "output_type": "display_data"
    }
   ],
   "source": [
    "Band_num = 10 \n",
    "plot_clusters(Band_num)"
   ]
  },
  {
   "cell_type": "code",
   "execution_count": 14,
   "id": "happy-accordance",
   "metadata": {},
   "outputs": [
    {
     "data": {
      "application/vnd.jupyter.widget-view+json": {
       "model_id": "8977325d1b8e4935abde9e6f7b16acc0",
       "version_major": 2,
       "version_minor": 0
      },
      "text/plain": [
       "Canvas(toolbar=Toolbar(toolitems=[('Home', 'Reset original view', 'home', 'home'), ('Back', 'Back to previous …"
      ]
     },
     "metadata": {},
     "output_type": "display_data"
    },
    {
     "data": {
      "application/vnd.jupyter.widget-view+json": {
       "model_id": "e1e33e02550b467290c299c00167ff02",
       "version_major": 2,
       "version_minor": 0
      },
      "text/plain": [
       "Canvas(toolbar=Toolbar(toolitems=[('Home', 'Reset original view', 'home', 'home'), ('Back', 'Back to previous …"
      ]
     },
     "metadata": {},
     "output_type": "display_data"
    }
   ],
   "source": [
    "Band_num = 20\n",
    "plot_clusters(Band_num)"
   ]
  },
  {
   "cell_type": "code",
   "execution_count": 15,
   "id": "exotic-preservation",
   "metadata": {},
   "outputs": [
    {
     "data": {
      "application/vnd.jupyter.widget-view+json": {
       "model_id": "8dd4fb60a7ef4587bbb9166b8cfaa459",
       "version_major": 2,
       "version_minor": 0
      },
      "text/plain": [
       "Canvas(toolbar=Toolbar(toolitems=[('Home', 'Reset original view', 'home', 'home'), ('Back', 'Back to previous …"
      ]
     },
     "metadata": {},
     "output_type": "display_data"
    },
    {
     "data": {
      "application/vnd.jupyter.widget-view+json": {
       "model_id": "5f185453a7144002b489fa3c83a2f976",
       "version_major": 2,
       "version_minor": 0
      },
      "text/plain": [
       "Canvas(toolbar=Toolbar(toolitems=[('Home', 'Reset original view', 'home', 'home'), ('Back', 'Back to previous …"
      ]
     },
     "metadata": {},
     "output_type": "display_data"
    }
   ],
   "source": [
    "Band_num = 30\n",
    "plot_clusters(Band_num)"
   ]
  },
  {
   "cell_type": "code",
   "execution_count": 16,
   "id": "young-factory",
   "metadata": {},
   "outputs": [
    {
     "data": {
      "application/vnd.jupyter.widget-view+json": {
       "model_id": "ad85a43ad68d4c0d80e16ea4f331f741",
       "version_major": 2,
       "version_minor": 0
      },
      "text/plain": [
       "Canvas(toolbar=Toolbar(toolitems=[('Home', 'Reset original view', 'home', 'home'), ('Back', 'Back to previous …"
      ]
     },
     "metadata": {},
     "output_type": "display_data"
    },
    {
     "data": {
      "application/vnd.jupyter.widget-view+json": {
       "model_id": "5c7dd1a8d83f4ed2bce2e65d33911412",
       "version_major": 2,
       "version_minor": 0
      },
      "text/plain": [
       "Canvas(toolbar=Toolbar(toolitems=[('Home', 'Reset original view', 'home', 'home'), ('Back', 'Back to previous …"
      ]
     },
     "metadata": {},
     "output_type": "display_data"
    }
   ],
   "source": [
    "Band_num = 30\n",
    "plot_clusters(Band_num)"
   ]
  },
  {
   "cell_type": "code",
   "execution_count": 17,
   "id": "personal-eight",
   "metadata": {},
   "outputs": [
    {
     "data": {
      "application/vnd.jupyter.widget-view+json": {
       "model_id": "dee241757fca491a80b4d5360d7d22c9",
       "version_major": 2,
       "version_minor": 0
      },
      "text/plain": [
       "Canvas(toolbar=Toolbar(toolitems=[('Home', 'Reset original view', 'home', 'home'), ('Back', 'Back to previous …"
      ]
     },
     "metadata": {},
     "output_type": "display_data"
    },
    {
     "data": {
      "application/vnd.jupyter.widget-view+json": {
       "model_id": "265a1eae1cf8456b98e9a02fccfbff92",
       "version_major": 2,
       "version_minor": 0
      },
      "text/plain": [
       "Canvas(toolbar=Toolbar(toolitems=[('Home', 'Reset original view', 'home', 'home'), ('Back', 'Back to previous …"
      ]
     },
     "metadata": {},
     "output_type": "display_data"
    }
   ],
   "source": [
    "Band_num = 40\n",
    "plot_clusters(Band_num)"
   ]
  },
  {
   "cell_type": "code",
   "execution_count": 18,
   "id": "pleasant-today",
   "metadata": {},
   "outputs": [
    {
     "data": {
      "application/vnd.jupyter.widget-view+json": {
       "model_id": "20c17d4d10ea4700ad784f6fba92b388",
       "version_major": 2,
       "version_minor": 0
      },
      "text/plain": [
       "Canvas(toolbar=Toolbar(toolitems=[('Home', 'Reset original view', 'home', 'home'), ('Back', 'Back to previous …"
      ]
     },
     "metadata": {},
     "output_type": "display_data"
    },
    {
     "data": {
      "application/vnd.jupyter.widget-view+json": {
       "model_id": "8d62ff4cbf5945ee9ae91e2ca0219ed8",
       "version_major": 2,
       "version_minor": 0
      },
      "text/plain": [
       "Canvas(toolbar=Toolbar(toolitems=[('Home', 'Reset original view', 'home', 'home'), ('Back', 'Back to previous …"
      ]
     },
     "metadata": {},
     "output_type": "display_data"
    }
   ],
   "source": [
    "Band_num = 50\n",
    "plot_clusters(Band_num)"
   ]
  },
  {
   "cell_type": "code",
   "execution_count": 37,
   "id": "thermal-draft",
   "metadata": {},
   "outputs": [
    {
     "data": {
      "application/vnd.jupyter.widget-view+json": {
       "model_id": "f6f4d1b1f9154d4d85a604ebed52eda9",
       "version_major": 2,
       "version_minor": 0
      },
      "text/plain": [
       "Canvas(toolbar=Toolbar(toolitems=[('Home', 'Reset original view', 'home', 'home'), ('Back', 'Back to previous …"
      ]
     },
     "metadata": {},
     "output_type": "display_data"
    },
    {
     "data": {
      "application/vnd.jupyter.widget-view+json": {
       "model_id": "b805937f9b034bb38798b70fab074f5c",
       "version_major": 2,
       "version_minor": 0
      },
      "text/plain": [
       "Canvas(toolbar=Toolbar(toolitems=[('Home', 'Reset original view', 'home', 'home'), ('Back', 'Back to previous …"
      ]
     },
     "metadata": {},
     "output_type": "display_data"
    }
   ],
   "source": [
    "Band_num = 60\n",
    "plot_clusters(Band_num)"
   ]
  },
  {
   "cell_type": "code",
   "execution_count": 38,
   "id": "christian-dealing",
   "metadata": {},
   "outputs": [
    {
     "data": {
      "application/vnd.jupyter.widget-view+json": {
       "model_id": "6e94089c3fc24338ad7bde3efea51882",
       "version_major": 2,
       "version_minor": 0
      },
      "text/plain": [
       "Canvas(toolbar=Toolbar(toolitems=[('Home', 'Reset original view', 'home', 'home'), ('Back', 'Back to previous …"
      ]
     },
     "metadata": {},
     "output_type": "display_data"
    },
    {
     "data": {
      "application/vnd.jupyter.widget-view+json": {
       "model_id": "876e14e77a344270a7d3fc27cedf4b44",
       "version_major": 2,
       "version_minor": 0
      },
      "text/plain": [
       "Canvas(toolbar=Toolbar(toolitems=[('Home', 'Reset original view', 'home', 'home'), ('Back', 'Back to previous …"
      ]
     },
     "metadata": {},
     "output_type": "display_data"
    }
   ],
   "source": [
    "Band_num = 70\n",
    "plot_clusters(Band_num)"
   ]
  },
  {
   "cell_type": "code",
   "execution_count": 39,
   "id": "another-mercury",
   "metadata": {},
   "outputs": [
    {
     "data": {
      "application/vnd.jupyter.widget-view+json": {
       "model_id": "c59cfdb719cf4fd6a8f3b1d756e8401b",
       "version_major": 2,
       "version_minor": 0
      },
      "text/plain": [
       "Canvas(toolbar=Toolbar(toolitems=[('Home', 'Reset original view', 'home', 'home'), ('Back', 'Back to previous …"
      ]
     },
     "metadata": {},
     "output_type": "display_data"
    },
    {
     "data": {
      "application/vnd.jupyter.widget-view+json": {
       "model_id": "8873e801b85b4aae9c8e697213a6a674",
       "version_major": 2,
       "version_minor": 0
      },
      "text/plain": [
       "Canvas(toolbar=Toolbar(toolitems=[('Home', 'Reset original view', 'home', 'home'), ('Back', 'Back to previous …"
      ]
     },
     "metadata": {},
     "output_type": "display_data"
    }
   ],
   "source": [
    "Band_num = 80\n",
    "plot_clusters(Band_num)"
   ]
  },
  {
   "cell_type": "code",
   "execution_count": 40,
   "id": "peaceful-place",
   "metadata": {},
   "outputs": [
    {
     "data": {
      "application/vnd.jupyter.widget-view+json": {
       "model_id": "fe908a71bf57406e8935bd9fb5da7960",
       "version_major": 2,
       "version_minor": 0
      },
      "text/plain": [
       "Canvas(toolbar=Toolbar(toolitems=[('Home', 'Reset original view', 'home', 'home'), ('Back', 'Back to previous …"
      ]
     },
     "metadata": {},
     "output_type": "display_data"
    },
    {
     "data": {
      "application/vnd.jupyter.widget-view+json": {
       "model_id": "f44e9fdf748449838820a28ee59f86d2",
       "version_major": 2,
       "version_minor": 0
      },
      "text/plain": [
       "Canvas(toolbar=Toolbar(toolitems=[('Home', 'Reset original view', 'home', 'home'), ('Back', 'Back to previous …"
      ]
     },
     "metadata": {},
     "output_type": "display_data"
    }
   ],
   "source": [
    "Band_num = 90\n",
    "plot_clusters(Band_num)"
   ]
  },
  {
   "cell_type": "code",
   "execution_count": 41,
   "id": "manufactured-failing",
   "metadata": {},
   "outputs": [
    {
     "data": {
      "application/vnd.jupyter.widget-view+json": {
       "model_id": "f5742fa9788849af8b1cbc195d74b281",
       "version_major": 2,
       "version_minor": 0
      },
      "text/plain": [
       "Canvas(toolbar=Toolbar(toolitems=[('Home', 'Reset original view', 'home', 'home'), ('Back', 'Back to previous …"
      ]
     },
     "metadata": {},
     "output_type": "display_data"
    },
    {
     "data": {
      "application/vnd.jupyter.widget-view+json": {
       "model_id": "c69f8d4c0fb04d349b9844a7cb3b1df0",
       "version_major": 2,
       "version_minor": 0
      },
      "text/plain": [
       "Canvas(toolbar=Toolbar(toolitems=[('Home', 'Reset original view', 'home', 'home'), ('Back', 'Back to previous …"
      ]
     },
     "metadata": {},
     "output_type": "display_data"
    }
   ],
   "source": [
    "Band_num = 100\n",
    "plot_clusters(Band_num)"
   ]
  },
  {
   "cell_type": "code",
   "execution_count": 42,
   "id": "express-garbage",
   "metadata": {},
   "outputs": [
    {
     "data": {
      "application/vnd.jupyter.widget-view+json": {
       "model_id": "d817a059213a485c9203fd81dd800c1d",
       "version_major": 2,
       "version_minor": 0
      },
      "text/plain": [
       "Canvas(toolbar=Toolbar(toolitems=[('Home', 'Reset original view', 'home', 'home'), ('Back', 'Back to previous …"
      ]
     },
     "metadata": {},
     "output_type": "display_data"
    },
    {
     "data": {
      "application/vnd.jupyter.widget-view+json": {
       "model_id": "b9486c1b634e49a2b41cb50d74b00c3e",
       "version_major": 2,
       "version_minor": 0
      },
      "text/plain": [
       "Canvas(toolbar=Toolbar(toolitems=[('Home', 'Reset original view', 'home', 'home'), ('Back', 'Back to previous …"
      ]
     },
     "metadata": {},
     "output_type": "display_data"
    }
   ],
   "source": [
    "Band_num = 110\n",
    "plot_clusters(Band_num)"
   ]
  },
  {
   "cell_type": "code",
   "execution_count": 43,
   "id": "alpine-arizona",
   "metadata": {},
   "outputs": [
    {
     "data": {
      "application/vnd.jupyter.widget-view+json": {
       "model_id": "fd1792134d7b4bc699f9a1f9022b1cfe",
       "version_major": 2,
       "version_minor": 0
      },
      "text/plain": [
       "Canvas(toolbar=Toolbar(toolitems=[('Home', 'Reset original view', 'home', 'home'), ('Back', 'Back to previous …"
      ]
     },
     "metadata": {},
     "output_type": "display_data"
    },
    {
     "data": {
      "application/vnd.jupyter.widget-view+json": {
       "model_id": "1795c8b432a641e09b144a5fe6e48378",
       "version_major": 2,
       "version_minor": 0
      },
      "text/plain": [
       "Canvas(toolbar=Toolbar(toolitems=[('Home', 'Reset original view', 'home', 'home'), ('Back', 'Back to previous …"
      ]
     },
     "metadata": {},
     "output_type": "display_data"
    }
   ],
   "source": [
    "Band_num = 120\n",
    "plot_clusters(Band_num)"
   ]
  },
  {
   "cell_type": "code",
   "execution_count": 44,
   "id": "narrative-summary",
   "metadata": {},
   "outputs": [
    {
     "data": {
      "application/vnd.jupyter.widget-view+json": {
       "model_id": "9096eda8a5bd43f3902d250f5a26971f",
       "version_major": 2,
       "version_minor": 0
      },
      "text/plain": [
       "Canvas(toolbar=Toolbar(toolitems=[('Home', 'Reset original view', 'home', 'home'), ('Back', 'Back to previous …"
      ]
     },
     "metadata": {},
     "output_type": "display_data"
    },
    {
     "data": {
      "application/vnd.jupyter.widget-view+json": {
       "model_id": "c02ec643c530476eaad603bf54839ba9",
       "version_major": 2,
       "version_minor": 0
      },
      "text/plain": [
       "Canvas(toolbar=Toolbar(toolitems=[('Home', 'Reset original view', 'home', 'home'), ('Back', 'Back to previous …"
      ]
     },
     "metadata": {},
     "output_type": "display_data"
    }
   ],
   "source": [
    "Band_num = 125\n",
    "plot_clusters(Band_num)"
   ]
  },
  {
   "cell_type": "markdown",
   "id": "e2ed93e5",
   "metadata": {},
   "source": [
    "#######################  Below Results are for the VAD audios  #######################"
   ]
  },
  {
   "cell_type": "code",
   "execution_count": 58,
   "id": "bound-chair",
   "metadata": {},
   "outputs": [
    {
     "name": "stdout",
     "output_type": "stream",
     "text": [
      "70\n"
     ]
    }
   ],
   "source": [
    "laser_dir = '/home/hashim/PHD/audio_data/Laser_Original/Laser_cleaned/'\n",
    "laser_files = list(glob.glob(os.path.join(laser_dir, '*.mp3')))\n",
    "laser_files.sort()\n",
    "# print(laser_files)\n",
    "print(len(laser_files))"
   ]
  },
  {
   "cell_type": "code",
   "execution_count": 54,
   "id": "congressional-mortality",
   "metadata": {},
   "outputs": [
    {
     "name": "stdout",
     "output_type": "stream",
     "text": [
      "['/home/hashim/PHD/audio_data/Laser_Original/Original_cleaned/original_000_000.mp3', '/home/hashim/PHD/audio_data/Laser_Original/Original_cleaned/original_000_001.mp3', '/home/hashim/PHD/audio_data/Laser_Original/Original_cleaned/original_000_002.mp3', '/home/hashim/PHD/audio_data/Laser_Original/Original_cleaned/original_000_003.mp3', '/home/hashim/PHD/audio_data/Laser_Original/Original_cleaned/original_000_004.mp3', '/home/hashim/PHD/audio_data/Laser_Original/Original_cleaned/original_000_005.mp3', '/home/hashim/PHD/audio_data/Laser_Original/Original_cleaned/original_000_006.mp3', '/home/hashim/PHD/audio_data/Laser_Original/Original_cleaned/original_000_007.mp3', '/home/hashim/PHD/audio_data/Laser_Original/Original_cleaned/original_001_000.mp3', '/home/hashim/PHD/audio_data/Laser_Original/Original_cleaned/original_001_001.mp3', '/home/hashim/PHD/audio_data/Laser_Original/Original_cleaned/original_001_002.mp3', '/home/hashim/PHD/audio_data/Laser_Original/Original_cleaned/original_001_003.mp3', '/home/hashim/PHD/audio_data/Laser_Original/Original_cleaned/original_001_004.mp3', '/home/hashim/PHD/audio_data/Laser_Original/Original_cleaned/original_001_005.mp3', '/home/hashim/PHD/audio_data/Laser_Original/Original_cleaned/original_002_000.mp3', '/home/hashim/PHD/audio_data/Laser_Original/Original_cleaned/original_002_001.mp3', '/home/hashim/PHD/audio_data/Laser_Original/Original_cleaned/original_002_002.mp3', '/home/hashim/PHD/audio_data/Laser_Original/Original_cleaned/original_002_003.mp3', '/home/hashim/PHD/audio_data/Laser_Original/Original_cleaned/original_002_004.mp3', '/home/hashim/PHD/audio_data/Laser_Original/Original_cleaned/original_002_005.mp3', '/home/hashim/PHD/audio_data/Laser_Original/Original_cleaned/original_002_006.mp3', '/home/hashim/PHD/audio_data/Laser_Original/Original_cleaned/original_002_007.mp3', '/home/hashim/PHD/audio_data/Laser_Original/Original_cleaned/original_002_008.mp3', '/home/hashim/PHD/audio_data/Laser_Original/Original_cleaned/original_002_009.mp3', '/home/hashim/PHD/audio_data/Laser_Original/Original_cleaned/original_003_000.mp3', '/home/hashim/PHD/audio_data/Laser_Original/Original_cleaned/original_003_001.mp3', '/home/hashim/PHD/audio_data/Laser_Original/Original_cleaned/original_003_002.mp3', '/home/hashim/PHD/audio_data/Laser_Original/Original_cleaned/original_003_003.mp3', '/home/hashim/PHD/audio_data/Laser_Original/Original_cleaned/original_003_004.mp3', '/home/hashim/PHD/audio_data/Laser_Original/Original_cleaned/original_003_005.mp3', '/home/hashim/PHD/audio_data/Laser_Original/Original_cleaned/original_004_000.mp3', '/home/hashim/PHD/audio_data/Laser_Original/Original_cleaned/original_004_001.mp3', '/home/hashim/PHD/audio_data/Laser_Original/Original_cleaned/original_004_002.mp3', '/home/hashim/PHD/audio_data/Laser_Original/Original_cleaned/original_004_003.mp3', '/home/hashim/PHD/audio_data/Laser_Original/Original_cleaned/original_004_004.mp3', '/home/hashim/PHD/audio_data/Laser_Original/Original_cleaned/original_005_000.mp3', '/home/hashim/PHD/audio_data/Laser_Original/Original_cleaned/original_005_001.mp3', '/home/hashim/PHD/audio_data/Laser_Original/Original_cleaned/original_005_002.mp3', '/home/hashim/PHD/audio_data/Laser_Original/Original_cleaned/original_005_003.mp3', '/home/hashim/PHD/audio_data/Laser_Original/Original_cleaned/original_005_004.mp3', '/home/hashim/PHD/audio_data/Laser_Original/Original_cleaned/original_006_000.mp3', '/home/hashim/PHD/audio_data/Laser_Original/Original_cleaned/original_006_001.mp3', '/home/hashim/PHD/audio_data/Laser_Original/Original_cleaned/original_006_002.mp3', '/home/hashim/PHD/audio_data/Laser_Original/Original_cleaned/original_007_000.mp3', '/home/hashim/PHD/audio_data/Laser_Original/Original_cleaned/original_007_001.mp3', '/home/hashim/PHD/audio_data/Laser_Original/Original_cleaned/original_007_002.mp3', '/home/hashim/PHD/audio_data/Laser_Original/Original_cleaned/original_007_003.mp3', '/home/hashim/PHD/audio_data/Laser_Original/Original_cleaned/original_007_004.mp3']\n",
      "48\n"
     ]
    }
   ],
   "source": [
    "orig_dir = '/home/hashim/PHD/audio_data/Laser_Original/Original_cleaned/'\n",
    "orig_files = list(glob.glob(os.path.join(orig_dir, '*.mp3')))\n",
    "orig_files.sort()\n",
    "# print(orig_files)\n",
    "print(len(orig_files))"
   ]
  },
  {
   "cell_type": "code",
   "execution_count": 56,
   "id": "psychological-basis",
   "metadata": {},
   "outputs": [
    {
     "data": {
      "application/vnd.jupyter.widget-view+json": {
       "model_id": "bf792bca3d414f46adce41e7a94a5a46",
       "version_major": 2,
       "version_minor": 0
      },
      "text/plain": [
       "Canvas(toolbar=Toolbar(toolitems=[('Home', 'Reset original view', 'home', 'home'), ('Back', 'Back to previous …"
      ]
     },
     "metadata": {},
     "output_type": "display_data"
    }
   ],
   "source": [
    "# laser spectograms\n",
    "nrows = int(len(laser_files)/2)\n",
    "fig, axes = plt.subplots(nrows, 2, figsize=(12,72))\n",
    "\n",
    "# print(axes)\n",
    "ax = axes.flatten()\n",
    "i = 0\n",
    "for lf in laser_files:\n",
    "    audio_data, sr = librosa.load(lf, res_type='kaiser_fast')\n",
    "    stft = librosa.stft(audio_data, n_fft=256)\n",
    "    S_db = librosa.amplitude_to_db(np.abs(stft), ref=np.max)\n",
    "    \n",
    "    img = librosa.display.specshow(S_db, x_axis='time', y_axis='log', sr=sr, ax=ax[i])\n",
    "#     librosa.display.specshow(S_db, x_axis='time', y_axis='log', sr=sr, ax=ax[i])\n",
    "    i+=1\n",
    "# plt.title('Mel-frequency spectrogram')\n",
    "fig.colorbar(img, ax=ax, format='%+2.0f dB')\n",
    "plt.show()"
   ]
  },
  {
   "cell_type": "code",
   "execution_count": 57,
   "id": "65cfeda6",
   "metadata": {},
   "outputs": [
    {
     "data": {
      "application/vnd.jupyter.widget-view+json": {
       "model_id": "13a6341fde3c4fc689244c1dc022efc8",
       "version_major": 2,
       "version_minor": 0
      },
      "text/plain": [
       "Canvas(toolbar=Toolbar(toolitems=[('Home', 'Reset original view', 'home', 'home'), ('Back', 'Back to previous …"
      ]
     },
     "metadata": {},
     "output_type": "display_data"
    }
   ],
   "source": [
    "# Original spectograms\n",
    "nrows = int(len(orig_files)/2)\n",
    "fig, axes = plt.subplots(nrows, 2, figsize=(12,72))\n",
    "\n",
    "# print(axes)\n",
    "ax = axes.flatten()\n",
    "i = 0\n",
    "for of in orig_files:\n",
    "    audio_data, sr = librosa.load(of, res_type='kaiser_fast')\n",
    "    stft = librosa.stft(audio_data, n_fft=256)\n",
    "    S_db = librosa.amplitude_to_db(np.abs(stft), ref=np.max)\n",
    "    \n",
    "    img = librosa.display.specshow(S_db, x_axis='time', y_axis='log', sr=sr, ax=ax[i])\n",
    "#     librosa.display.specshow(S_db, x_axis='time', y_axis='log', sr=sr, ax=ax[i])\n",
    "    i+=1\n",
    "# plt.title('Mel-frequency spectrogram')\n",
    "fig.colorbar(img, ax=ax, format='%+2.0f dB')\n",
    "plt.show()"
   ]
  },
  {
   "cell_type": "code",
   "execution_count": null,
   "id": "099bcc5d",
   "metadata": {},
   "outputs": [],
   "source": []
  }
 ],
 "metadata": {
  "kernelspec": {
   "display_name": "laser_injection",
   "language": "python",
   "name": "laser_injection"
  },
  "language_info": {
   "codemirror_mode": {
    "name": "ipython",
    "version": 3
   },
   "file_extension": ".py",
   "mimetype": "text/x-python",
   "name": "python",
   "nbconvert_exporter": "python",
   "pygments_lexer": "ipython3",
   "version": "3.8.10"
  }
 },
 "nbformat": 4,
 "nbformat_minor": 5
}
