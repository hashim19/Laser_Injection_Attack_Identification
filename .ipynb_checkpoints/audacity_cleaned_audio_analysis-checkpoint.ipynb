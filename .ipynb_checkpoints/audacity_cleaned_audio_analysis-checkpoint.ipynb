{
 "cells": [
  {
   "cell_type": "code",
   "execution_count": 1,
   "id": "3662182b",
   "metadata": {
    "pycharm": {
     "name": "#%%\n"
    }
   },
   "outputs": [],
   "source": [
    "import pywt\n",
    "import os\n",
    "import pandas as pd\n",
    "import librosa\n",
    "import librosa.display\n",
    "import glob \n",
    "import numpy as np\n",
    "import matplotlib.pyplot as plt\n",
    "from matplotlib import cm\n",
    "import seaborn as sns\n",
    "from fitter import Fitter, get_common_distributions, get_distributions\n",
    "from matplotlib.ticker import FormatStrFormatter\n",
    "\n",
    "from sklearn.preprocessing import StandardScaler\n",
    "import sklearn\n",
    "import pickle\n",
    "\n",
    "from utils import plot_projections\n",
    "\n",
    "from scipy.stats import kurtosis, skew\n",
    "\n",
    "%matplotlib widget"
   ]
  },
  {
   "cell_type": "code",
   "execution_count": 2,
   "id": "56538db2",
   "metadata": {
    "pycharm": {
     "name": "#%%\n"
    }
   },
   "outputs": [
    {
     "name": "stdout",
     "output_type": "stream",
     "text": [
      "['/home/hashim/PHD/audio_data/AllAudioSamples/Laser/speaker10_001.wav', '/home/hashim/PHD/audio_data/AllAudioSamples/Laser/speaker10_002.wav', '/home/hashim/PHD/audio_data/AllAudioSamples/Laser/speaker10_003.wav', '/home/hashim/PHD/audio_data/AllAudioSamples/Laser/speaker10_004.wav', '/home/hashim/PHD/audio_data/AllAudioSamples/Laser/speaker10_005.wav', '/home/hashim/PHD/audio_data/AllAudioSamples/Laser/speaker1_001.wav', '/home/hashim/PHD/audio_data/AllAudioSamples/Laser/speaker1_002.wav', '/home/hashim/PHD/audio_data/AllAudioSamples/Laser/speaker1_003.wav', '/home/hashim/PHD/audio_data/AllAudioSamples/Laser/speaker1_004.wav', '/home/hashim/PHD/audio_data/AllAudioSamples/Laser/speaker1_005.wav', '/home/hashim/PHD/audio_data/AllAudioSamples/Laser/speaker2_001.wav', '/home/hashim/PHD/audio_data/AllAudioSamples/Laser/speaker2_002.wav', '/home/hashim/PHD/audio_data/AllAudioSamples/Laser/speaker2_003.wav', '/home/hashim/PHD/audio_data/AllAudioSamples/Laser/speaker2_004.wav', '/home/hashim/PHD/audio_data/AllAudioSamples/Laser/speaker2_005.wav', '/home/hashim/PHD/audio_data/AllAudioSamples/Laser/speaker3_001.wav', '/home/hashim/PHD/audio_data/AllAudioSamples/Laser/speaker3_002.wav', '/home/hashim/PHD/audio_data/AllAudioSamples/Laser/speaker3_003.wav', '/home/hashim/PHD/audio_data/AllAudioSamples/Laser/speaker3_004.wav', '/home/hashim/PHD/audio_data/AllAudioSamples/Laser/speaker3_005.wav', '/home/hashim/PHD/audio_data/AllAudioSamples/Laser/speaker4_001.wav', '/home/hashim/PHD/audio_data/AllAudioSamples/Laser/speaker4_002.wav', '/home/hashim/PHD/audio_data/AllAudioSamples/Laser/speaker4_003.wav', '/home/hashim/PHD/audio_data/AllAudioSamples/Laser/speaker4_004.wav', '/home/hashim/PHD/audio_data/AllAudioSamples/Laser/speaker4_005.wav', '/home/hashim/PHD/audio_data/AllAudioSamples/Laser/speaker5_001.wav', '/home/hashim/PHD/audio_data/AllAudioSamples/Laser/speaker5_002.wav', '/home/hashim/PHD/audio_data/AllAudioSamples/Laser/speaker5_003.wav', '/home/hashim/PHD/audio_data/AllAudioSamples/Laser/speaker5_004.wav', '/home/hashim/PHD/audio_data/AllAudioSamples/Laser/speaker5_005.wav', '/home/hashim/PHD/audio_data/AllAudioSamples/Laser/speaker6_001.wav', '/home/hashim/PHD/audio_data/AllAudioSamples/Laser/speaker6_002.wav', '/home/hashim/PHD/audio_data/AllAudioSamples/Laser/speaker6_003.wav', '/home/hashim/PHD/audio_data/AllAudioSamples/Laser/speaker6_004.wav', '/home/hashim/PHD/audio_data/AllAudioSamples/Laser/speaker6_005.wav', '/home/hashim/PHD/audio_data/AllAudioSamples/Laser/speaker7_001.wav', '/home/hashim/PHD/audio_data/AllAudioSamples/Laser/speaker7_002.wav', '/home/hashim/PHD/audio_data/AllAudioSamples/Laser/speaker7_003.wav', '/home/hashim/PHD/audio_data/AllAudioSamples/Laser/speaker7_004.wav', '/home/hashim/PHD/audio_data/AllAudioSamples/Laser/speaker7_005.wav', '/home/hashim/PHD/audio_data/AllAudioSamples/Laser/speaker8_001.wav', '/home/hashim/PHD/audio_data/AllAudioSamples/Laser/speaker8_002.wav', '/home/hashim/PHD/audio_data/AllAudioSamples/Laser/speaker8_003.wav', '/home/hashim/PHD/audio_data/AllAudioSamples/Laser/speaker8_004.wav', '/home/hashim/PHD/audio_data/AllAudioSamples/Laser/speaker8_005.wav', '/home/hashim/PHD/audio_data/AllAudioSamples/Laser/speaker9_001.wav', '/home/hashim/PHD/audio_data/AllAudioSamples/Laser/speaker9_002.wav', '/home/hashim/PHD/audio_data/AllAudioSamples/Laser/speaker9_003.wav', '/home/hashim/PHD/audio_data/AllAudioSamples/Laser/speaker9_004.wav', '/home/hashim/PHD/audio_data/AllAudioSamples/Laser/speaker9_005.wav']\n",
      "50\n"
     ]
    }
   ],
   "source": [
    "laser_dir = '/home/hashim/PHD/audio_data/AllAudioSamples/Laser/'\n",
    "laser_files = list(glob.glob(os.path.join(laser_dir, '*.wav')))\n",
    "laser_files.sort()\n",
    "print(laser_files)\n",
    "print(len(laser_files))"
   ]
  },
  {
   "cell_type": "code",
   "execution_count": 3,
   "id": "9591244d",
   "metadata": {
    "pycharm": {
     "name": "#%%\n"
    }
   },
   "outputs": [
    {
     "name": "stdout",
     "output_type": "stream",
     "text": [
      "['/home/hashim/PHD/audio_data/AllAudioSamples/Original/speaker10_001.wav', '/home/hashim/PHD/audio_data/AllAudioSamples/Original/speaker10_002.wav', '/home/hashim/PHD/audio_data/AllAudioSamples/Original/speaker10_003.wav', '/home/hashim/PHD/audio_data/AllAudioSamples/Original/speaker10_004.wav', '/home/hashim/PHD/audio_data/AllAudioSamples/Original/speaker10_005.wav', '/home/hashim/PHD/audio_data/AllAudioSamples/Original/speaker1_001.wav', '/home/hashim/PHD/audio_data/AllAudioSamples/Original/speaker1_002.wav', '/home/hashim/PHD/audio_data/AllAudioSamples/Original/speaker1_003.wav', '/home/hashim/PHD/audio_data/AllAudioSamples/Original/speaker1_004.wav', '/home/hashim/PHD/audio_data/AllAudioSamples/Original/speaker1_005.wav', '/home/hashim/PHD/audio_data/AllAudioSamples/Original/speaker2_001.wav', '/home/hashim/PHD/audio_data/AllAudioSamples/Original/speaker2_002.wav', '/home/hashim/PHD/audio_data/AllAudioSamples/Original/speaker2_003.wav', '/home/hashim/PHD/audio_data/AllAudioSamples/Original/speaker2_004.wav', '/home/hashim/PHD/audio_data/AllAudioSamples/Original/speaker2_005.wav', '/home/hashim/PHD/audio_data/AllAudioSamples/Original/speaker3_001.wav', '/home/hashim/PHD/audio_data/AllAudioSamples/Original/speaker3_002.wav', '/home/hashim/PHD/audio_data/AllAudioSamples/Original/speaker3_003.wav', '/home/hashim/PHD/audio_data/AllAudioSamples/Original/speaker3_004.wav', '/home/hashim/PHD/audio_data/AllAudioSamples/Original/speaker3_005.wav', '/home/hashim/PHD/audio_data/AllAudioSamples/Original/speaker4_001.wav', '/home/hashim/PHD/audio_data/AllAudioSamples/Original/speaker4_002.wav', '/home/hashim/PHD/audio_data/AllAudioSamples/Original/speaker4_003.wav', '/home/hashim/PHD/audio_data/AllAudioSamples/Original/speaker4_004.wav', '/home/hashim/PHD/audio_data/AllAudioSamples/Original/speaker4_005.wav', '/home/hashim/PHD/audio_data/AllAudioSamples/Original/speaker5_001.wav', '/home/hashim/PHD/audio_data/AllAudioSamples/Original/speaker5_002.wav', '/home/hashim/PHD/audio_data/AllAudioSamples/Original/speaker5_003.wav', '/home/hashim/PHD/audio_data/AllAudioSamples/Original/speaker5_004.wav', '/home/hashim/PHD/audio_data/AllAudioSamples/Original/speaker5_005.wav', '/home/hashim/PHD/audio_data/AllAudioSamples/Original/speaker6_001.wav', '/home/hashim/PHD/audio_data/AllAudioSamples/Original/speaker6_002.wav', '/home/hashim/PHD/audio_data/AllAudioSamples/Original/speaker6_003.wav', '/home/hashim/PHD/audio_data/AllAudioSamples/Original/speaker6_004.wav', '/home/hashim/PHD/audio_data/AllAudioSamples/Original/speaker6_005.wav', '/home/hashim/PHD/audio_data/AllAudioSamples/Original/speaker7_001.wav', '/home/hashim/PHD/audio_data/AllAudioSamples/Original/speaker7_002.wav', '/home/hashim/PHD/audio_data/AllAudioSamples/Original/speaker7_003.wav', '/home/hashim/PHD/audio_data/AllAudioSamples/Original/speaker7_004.wav', '/home/hashim/PHD/audio_data/AllAudioSamples/Original/speaker7_005.wav', '/home/hashim/PHD/audio_data/AllAudioSamples/Original/speaker8_001.wav', '/home/hashim/PHD/audio_data/AllAudioSamples/Original/speaker8_002.wav', '/home/hashim/PHD/audio_data/AllAudioSamples/Original/speaker8_003.wav', '/home/hashim/PHD/audio_data/AllAudioSamples/Original/speaker8_004.wav', '/home/hashim/PHD/audio_data/AllAudioSamples/Original/speaker8_005.wav', '/home/hashim/PHD/audio_data/AllAudioSamples/Original/speaker9_001.wav', '/home/hashim/PHD/audio_data/AllAudioSamples/Original/speaker9_002.wav', '/home/hashim/PHD/audio_data/AllAudioSamples/Original/speaker9_003.wav', '/home/hashim/PHD/audio_data/AllAudioSamples/Original/speaker9_004.wav', '/home/hashim/PHD/audio_data/AllAudioSamples/Original/speaker9_005.wav']\n",
      "50\n"
     ]
    }
   ],
   "source": [
    "orig_dir = '/home/hashim/PHD/audio_data/AllAudioSamples/Original/'\n",
    "orig_files = list(glob.glob(os.path.join(orig_dir, '*wav')))\n",
    "orig_files.sort()\n",
    "print(orig_files)\n",
    "print(len(orig_files))"
   ]
  },
  {
   "cell_type": "code",
   "execution_count": 4,
   "id": "744a103a",
   "metadata": {
    "pycharm": {
     "name": "#%%\n"
    }
   },
   "outputs": [],
   "source": [
    "db1 = pywt.Wavelet('db1')"
   ]
  },
  {
   "cell_type": "code",
   "execution_count": 5,
   "id": "8d4d1161",
   "metadata": {
    "pycharm": {
     "name": "#%%\n"
    }
   },
   "outputs": [],
   "source": [
    "sample_id = 10\n",
    "laser_sample = laser_files[sample_id]\n",
    "gen_sample = orig_files[sample_id]\n",
    "\n",
    "laser_audio, sr = librosa.load(laser_sample, res_type='kaiser_fast')\n",
    "gen_audio, sr = librosa.load(gen_sample, res_type='kaiser_fast')\n",
    "\n",
    "stft_laser = librosa.stft(laser_audio, n_fft=256)\n",
    "S_db_laser = librosa.amplitude_to_db(np.abs(stft_laser), ref=np.max)\n",
    "\n",
    "stft_gen = librosa.stft(gen_audio, n_fft=256)\n",
    "S_db_gen = librosa.amplitude_to_db(np.abs(stft_gen), ref=np.max)"
   ]
  },
  {
   "cell_type": "code",
   "execution_count": 6,
   "id": "ba86ed2e",
   "metadata": {
    "pycharm": {
     "name": "#%%\n"
    }
   },
   "outputs": [],
   "source": [
    "# fig, axes = plt.subplots(2, 1, figsize=(9,6))\n",
    "# # ax = axes.flatten()\n",
    "\n",
    "# img_laser = librosa.display.specshow(S_db_laser, x_axis='time', y_axis='log', sr=sr, ax=axes[0])\n",
    "# # axes[0].set(title='Laser Audio Spectogram')\n",
    "# # axes[0].label_outer()\n",
    "\n",
    "\n",
    "# img_gen = librosa.display.specshow(S_db_gen, x_axis='time', y_axis='log', sr=sr, ax=axes[1])\n",
    "# # axes[1].set(title='Genuine Audio Spectogram')\n",
    "# # axes[1].label_outer()\n",
    "\n",
    "# fig.colorbar(img_laser, ax=axes, format=\"%+2.f dB\")\n",
    "\n",
    "# plt.savefig(\"Spectogram_Comparison\", dpi=300)"
   ]
  },
  {
   "cell_type": "markdown",
   "id": "19bfa833",
   "metadata": {
    "pycharm": {
     "name": "#%% md\n"
    }
   },
   "source": [
    "## Laser"
   ]
  },
  {
   "cell_type": "code",
   "execution_count": 31,
   "id": "9f0214ec",
   "metadata": {
    "pycharm": {
     "name": "#%%\n"
    }
   },
   "outputs": [],
   "source": [
    "%%capture\n",
    "# compute coefficients for both laser and then compute variance, skewness and kurtosis\n",
    "\n",
    "laser_sigma_feat = []\n",
    "laser_skew_feat = []\n",
    "laser_kurt_feat = []\n",
    "\n",
    "for lf in laser_files:\n",
    "    audio_data, sr = librosa.load(lf, res_type='kaiser_fast')\n",
    "    \n",
    "#     audio_data = librosa.util.normalize(audio_data)\n",
    "    \n",
    "#     stft = librosa.stft(audio_data, n_fft=256)\n",
    "#     S_db = librosa.amplitude_to_db(np.abs(stft), ref=np.max)\n",
    "    coeffs = pywt.wavedec(audio_data, db1, mode='constant', level=5)\n",
    "    \n",
    "    \n",
    "    sigma_feat = []\n",
    "    skew_feat = []\n",
    "    kurt_feat = []\n",
    "    \n",
    "    for cf in coeffs:\n",
    "        \n",
    "#         cf = cf - np.mean(cf)\n",
    "        \n",
    "        sigma_feat.append(np.var(cf, ddof=1))\n",
    "        skew_feat.append(skew(cf))\n",
    "        kurt_feat.append(kurtosis(cf))\n",
    "        \n",
    "    laser_sigma_feat.append(sigma_feat)\n",
    "    laser_skew_feat.append(skew_feat)\n",
    "    laser_kurt_feat.append(kurt_feat)    \n",
    "    \n",
    "laser_sigma_feat = np.array(laser_sigma_feat)\n",
    "laser_skew_feat = np.array(laser_skew_feat)\n",
    "laser_kurt_feat = np.array(laser_kurt_feat)"
   ]
  },
  {
   "cell_type": "code",
   "execution_count": 32,
   "id": "2676c53b",
   "metadata": {
    "pycharm": {
     "name": "#%%\n"
    }
   },
   "outputs": [
    {
     "name": "stdout",
     "output_type": "stream",
     "text": [
      "(50, 6)\n",
      "(50, 6)\n",
      "(50, 6)\n"
     ]
    }
   ],
   "source": [
    "print(laser_sigma_feat.shape)\n",
    "print(laser_skew_feat.shape)\n",
    "print(laser_kurt_feat.shape)"
   ]
  },
  {
   "cell_type": "markdown",
   "id": "b92ab95f",
   "metadata": {
    "pycharm": {
     "name": "#%% md\n"
    }
   },
   "source": [
    "## Original"
   ]
  },
  {
   "cell_type": "code",
   "execution_count": 33,
   "id": "ac7aa2f8",
   "metadata": {
    "pycharm": {
     "name": "#%%\n"
    }
   },
   "outputs": [],
   "source": [
    "# compute coefficients for both laser and then compute variance, skewness and kurtosis\n",
    "\n",
    "orig_sigma_feat = []\n",
    "orig_skew_feat = []\n",
    "orig_kurt_feat = []\n",
    "\n",
    "for of in orig_files:\n",
    "    audio_data, sr = librosa.load(of, res_type='kaiser_fast')\n",
    "#     audio_data = librosa.util.normalize(audio_data)\n",
    "    \n",
    "#     stft = librosa.stft(audio_data, n_fft=256)\n",
    "#     S_db = librosa.amplitude_to_db(np.abs(stft), ref=np.max)\n",
    "    coeffs = pywt.wavedec(audio_data, db1, mode='constant', level=5)\n",
    "    \n",
    "    \n",
    "    sigma_feat = []\n",
    "    skew_feat = []\n",
    "    kurt_feat = []\n",
    "    \n",
    "    for cf in coeffs:\n",
    "        \n",
    "#         cf = cf - np.mean(cf)\n",
    "        \n",
    "        sigma_feat.append(np.var(cf, ddof=1))\n",
    "        skew_feat.append(skew(cf))\n",
    "        kurt_feat.append(kurtosis(cf))\n",
    "        \n",
    "    orig_sigma_feat.append(sigma_feat)\n",
    "    orig_skew_feat.append(skew_feat)\n",
    "    orig_kurt_feat.append(kurt_feat)    \n",
    "    \n",
    "orig_sigma_feat = np.array(orig_sigma_feat)\n",
    "orig_skew_feat = np.array(orig_skew_feat)\n",
    "orig_kurt_feat = np.array(orig_kurt_feat)"
   ]
  },
  {
   "cell_type": "code",
   "execution_count": 34,
   "id": "7f4febf1",
   "metadata": {},
   "outputs": [
    {
     "name": "stdout",
     "output_type": "stream",
     "text": [
      "(50, 6)\n",
      "(50, 6)\n",
      "(50, 6)\n"
     ]
    }
   ],
   "source": [
    "print(orig_sigma_feat.shape)\n",
    "print(orig_skew_feat.shape)\n",
    "print(orig_kurt_feat.shape)"
   ]
  },
  {
   "cell_type": "code",
   "execution_count": 35,
   "id": "770e9032",
   "metadata": {
    "pycharm": {
     "name": "#%%\n"
    }
   },
   "outputs": [],
   "source": [
    "# cluster plotting function for sigma, skew and kurtosis\n",
    "\n",
    "def plot_clusters_skk(band_num):\n",
    "    \n",
    "#     plt.figure(figsize=(12,6))\n",
    "    \n",
    "    fig, ax = plt.subplots(1, 3, figsize=(18,6))\n",
    "    \n",
    "    \n",
    "#     sigma vs skew\n",
    "    ax[0].yaxis.set_major_formatter(FormatStrFormatter('%.2f'))\n",
    "    ax[0].xaxis.set_major_formatter(FormatStrFormatter('%.2f'))\n",
    "    ax[0].scatter(orig_sigma_feat[:,band_num], orig_skew_feat[:,band_num], marker='o', label=\"Original\")\n",
    "    ax[0].scatter(laser_sigma_feat[:,band_num], laser_skew_feat[:,band_num], marker='x', label=\"Laser\")\n",
    "    ax[0].set_xlabel(\"log-variance\")\n",
    "    ax[0].set_ylabel(\"skew\")\n",
    "#     plt.legend()\n",
    "    \n",
    "#     skew vs kurtosis\n",
    "    ax[1].yaxis.set_major_formatter(FormatStrFormatter('%.2f'))\n",
    "    ax[1].xaxis.set_major_formatter(FormatStrFormatter('%.2f'))\n",
    "    ax[1].scatter(orig_skew_feat[:,band_num], orig_kurt_feat[:,band_num], marker='o', label=\"Original\")\n",
    "    ax[1].scatter(laser_skew_feat[:,band_num], laser_kurt_feat[:,band_num], marker='x', label=\"Laser\")\n",
    "    ax[1].set_xlabel(\"skew\")\n",
    "    ax[1].set_ylabel(\"kurtosis\")\n",
    "#     plt.legend()Spectogram_Comparison\n",
    "     \n",
    "#     kurtosis vs sigma\n",
    "    ax[2].yaxis.set_major_formatter(FormatStrFormatter('%.2f'))\n",
    "    ax[2].xaxis.set_major_formatter(FormatStrFormatter('%.2f'))\n",
    "    ax[2].scatter(orig_kurt_feat[:,band_num], orig_sigma_feat[:,band_num], marker='o', label=\"Original\")\n",
    "    ax[2].scatter(laser_kurt_feat[:,band_num], laser_sigma_feat[:,band_num], marker='x', label=\"Laser\")\n",
    "    ax[2].set_xlabel(\"kurtosis\")\n",
    "    ax[2].set_ylabel(\"log-variance\")\n",
    "#     plt.legend()\n",
    "    \n",
    "    handles, labels = ax[2].get_legend_handles_labels()\n",
    "    fig.legend(handles, labels, loc='upper center', prop={'size': 15})\n",
    "    \n",
    "#     plt.suptitle(\"Laser vs Original for {}th Band\".format(band_num))\n",
    "    \n",
    "#     fig = plt.figure(figsize=(12,6))\n",
    "# #     plt.figure(figsize=(20,6))\n",
    "#     ax = fig.add_subplot(projection='3d')\n",
    "#     ax.scatter(orig_sigma_feat[:,band_num], orig_skew_feat[:,band_num], orig_kurt_feat[:,band_num], marker='o', label=\"Original\")\n",
    "#     ax.scatter(laser_sigma_feat[:,band_num], laser_skew_feat[:,band_num], laser_kurt_feat[:,band_num], marker='x', label=\"Laser\")\n",
    "#     ax.set_xlabel('variance')\n",
    "#     ax.set_ylabel('skew')\n",
    "#     ax.set_zlabel('kurtosis')\n",
    "#     ax.legend()"
   ]
  },
  {
   "cell_type": "code",
   "execution_count": 36,
   "id": "bb3525e5",
   "metadata": {
    "pycharm": {
     "name": "#%%\n"
    }
   },
   "outputs": [
    {
     "data": {
      "application/vnd.jupyter.widget-view+json": {
       "model_id": "54e5d685e875427eab62268fa552ba17",
       "version_major": 2,
       "version_minor": 0
      },
      "text/plain": [
       "Canvas(toolbar=Toolbar(toolitems=[('Home', 'Reset original view', 'home', 'home'), ('Back', 'Back to previous …"
      ]
     },
     "metadata": {},
     "output_type": "display_data"
    }
   ],
   "source": [
    "aprox_detail_coeff = 0 \n",
    "plot_clusters_skk(aprox_detail_coeff)\n",
    "\n",
    "plt.savefig(\"Approx_band_analysis\", dpi=300)"
   ]
  },
  {
   "cell_type": "code",
   "execution_count": 37,
   "id": "53ec19a5",
   "metadata": {
    "pycharm": {
     "name": "#%%\n"
    }
   },
   "outputs": [
    {
     "data": {
      "application/vnd.jupyter.widget-view+json": {
       "model_id": "0829a10886484da19b9286e66b8c82fc",
       "version_major": 2,
       "version_minor": 0
      },
      "text/plain": [
       "Canvas(toolbar=Toolbar(toolitems=[('Home', 'Reset original view', 'home', 'home'), ('Back', 'Back to previous …"
      ]
     },
     "metadata": {},
     "output_type": "display_data"
    }
   ],
   "source": [
    "aprox_detail_coeff = 1 \n",
    "plot_clusters_skk(aprox_detail_coeff)"
   ]
  },
  {
   "cell_type": "code",
   "execution_count": 38,
   "id": "9f72f09b",
   "metadata": {
    "pycharm": {
     "name": "#%%\n"
    }
   },
   "outputs": [
    {
     "data": {
      "application/vnd.jupyter.widget-view+json": {
       "model_id": "b3c62f4e9b6d48f799cc329339a6f010",
       "version_major": 2,
       "version_minor": 0
      },
      "text/plain": [
       "Canvas(toolbar=Toolbar(toolitems=[('Home', 'Reset original view', 'home', 'home'), ('Back', 'Back to previous …"
      ]
     },
     "metadata": {},
     "output_type": "display_data"
    }
   ],
   "source": [
    "aprox_detail_coeff = 2 \n",
    "plot_clusters_skk(aprox_detail_coeff)"
   ]
  },
  {
   "cell_type": "code",
   "execution_count": 39,
   "id": "ee0ae127",
   "metadata": {
    "pycharm": {
     "name": "#%%\n"
    }
   },
   "outputs": [
    {
     "data": {
      "application/vnd.jupyter.widget-view+json": {
       "model_id": "0ddf633ea07142a0a5bef13269918e47",
       "version_major": 2,
       "version_minor": 0
      },
      "text/plain": [
       "Canvas(toolbar=Toolbar(toolitems=[('Home', 'Reset original view', 'home', 'home'), ('Back', 'Back to previous …"
      ]
     },
     "metadata": {},
     "output_type": "display_data"
    }
   ],
   "source": [
    "aprox_detail_coeff = 3 \n",
    "plot_clusters_skk(aprox_detail_coeff)"
   ]
  },
  {
   "cell_type": "code",
   "execution_count": 40,
   "id": "64db7c11",
   "metadata": {
    "pycharm": {
     "name": "#%%\n"
    }
   },
   "outputs": [
    {
     "data": {
      "application/vnd.jupyter.widget-view+json": {
       "model_id": "d4af0530af9c4738ba00780f81b7dabf",
       "version_major": 2,
       "version_minor": 0
      },
      "text/plain": [
       "Canvas(toolbar=Toolbar(toolitems=[('Home', 'Reset original view', 'home', 'home'), ('Back', 'Back to previous …"
      ]
     },
     "metadata": {},
     "output_type": "display_data"
    }
   ],
   "source": [
    "aprox_detail_coeff = 4 \n",
    "plot_clusters_skk(aprox_detail_coeff)"
   ]
  },
  {
   "cell_type": "code",
   "execution_count": 41,
   "id": "f99f8b79",
   "metadata": {
    "pycharm": {
     "name": "#%%\n"
    }
   },
   "outputs": [
    {
     "data": {
      "application/vnd.jupyter.widget-view+json": {
       "model_id": "1c837d135ad940f3a96c481599c1148e",
       "version_major": 2,
       "version_minor": 0
      },
      "text/plain": [
       "Canvas(toolbar=Toolbar(toolitems=[('Home', 'Reset original view', 'home', 'home'), ('Back', 'Back to previous …"
      ]
     },
     "metadata": {},
     "output_type": "display_data"
    }
   ],
   "source": [
    "aprox_detail_coeff = 5 \n",
    "plot_clusters_skk(aprox_detail_coeff)\n",
    "\n",
    "plt.savefig(\"Detail_band_analysis\", dpi=300)"
   ]
  },
  {
   "cell_type": "markdown",
   "id": "2128547c",
   "metadata": {
    "pycharm": {
     "name": "#%% md\n"
    }
   },
   "source": [
    "## SVM with Linear Kernel"
   ]
  },
  {
   "cell_type": "code",
   "execution_count": 42,
   "id": "33400032",
   "metadata": {
    "pycharm": {
     "name": "#%%\n"
    }
   },
   "outputs": [],
   "source": [
    "import sklearn\n",
    "\n",
    "from sklearn.svm import LinearSVC\n",
    "from sklearn.pipeline import make_pipeline\n",
    "from sklearn.preprocessing import StandardScaler\n",
    "from sklearn.svm import SVC\n",
    "\n",
    "from sklearn.model_selection import train_test_split\n",
    "from sklearn.metrics import accuracy_score\n",
    "from sklearn.metrics import confusion_matrix, ConfusionMatrixDisplay\n",
    "from sklearn.metrics import plot_confusion_matrix"
   ]
  },
  {
   "cell_type": "code",
   "execution_count": 43,
   "id": "79317ac5",
   "metadata": {
    "pycharm": {
     "name": "#%%\n"
    }
   },
   "outputs": [
    {
     "name": "stdout",
     "output_type": "stream",
     "text": [
      "['laser' 'laser' 'laser' 'laser' 'laser' 'laser' 'laser' 'laser' 'laser'\n",
      " 'laser' 'laser' 'laser' 'laser' 'laser' 'laser' 'laser' 'laser' 'laser'\n",
      " 'laser' 'laser' 'laser' 'laser' 'laser' 'laser' 'laser' 'laser' 'laser'\n",
      " 'laser' 'laser' 'laser' 'laser' 'laser' 'laser' 'laser' 'laser' 'laser'\n",
      " 'laser' 'laser' 'laser' 'laser' 'laser' 'laser' 'laser' 'laser' 'laser'\n",
      " 'laser' 'laser' 'laser' 'laser' 'laser']\n",
      "(50,)\n"
     ]
    },
    {
     "data": {
      "text/plain": [
       "(50, 18)"
      ]
     },
     "execution_count": 43,
     "metadata": {},
     "output_type": "execute_result"
    }
   ],
   "source": [
    "X_laser = np.concatenate((laser_sigma_feat, laser_skew_feat, laser_kurt_feat), axis=1)\n",
    "laser_label = np.array(['laser']*X_laser.shape[0])\n",
    "print(laser_label)\n",
    "print(laser_label.shape)\n",
    "X_laser.shape"
   ]
  },
  {
   "cell_type": "code",
   "execution_count": 44,
   "id": "b5686d9d",
   "metadata": {
    "pycharm": {
     "name": "#%%\n"
    }
   },
   "outputs": [
    {
     "name": "stdout",
     "output_type": "stream",
     "text": [
      "['original' 'original' 'original' 'original' 'original' 'original'\n",
      " 'original' 'original' 'original' 'original' 'original' 'original'\n",
      " 'original' 'original' 'original' 'original' 'original' 'original'\n",
      " 'original' 'original' 'original' 'original' 'original' 'original'\n",
      " 'original' 'original' 'original' 'original' 'original' 'original'\n",
      " 'original' 'original' 'original' 'original' 'original' 'original'\n",
      " 'original' 'original' 'original' 'original' 'original' 'original'\n",
      " 'original' 'original' 'original' 'original' 'original' 'original'\n",
      " 'original' 'original']\n",
      "(50,)\n"
     ]
    },
    {
     "data": {
      "text/plain": [
       "(50, 18)"
      ]
     },
     "execution_count": 44,
     "metadata": {},
     "output_type": "execute_result"
    }
   ],
   "source": [
    "X_orig = np.concatenate((orig_sigma_feat, orig_skew_feat, orig_kurt_feat), axis=1)\n",
    "orig_label = np.array(['original']*X_orig.shape[0])\n",
    "print(orig_label)\n",
    "print(orig_label.shape)\n",
    "X_orig.shape"
   ]
  },
  {
   "cell_type": "code",
   "execution_count": 45,
   "id": "4d1bf1ec",
   "metadata": {
    "pycharm": {
     "name": "#%%\n"
    }
   },
   "outputs": [],
   "source": [
    "clf = make_pipeline(StandardScaler(), LinearSVC())"
   ]
  },
  {
   "cell_type": "code",
   "execution_count": 46,
   "id": "3a95d558",
   "metadata": {
    "pycharm": {
     "name": "#%%\n"
    }
   },
   "outputs": [
    {
     "data": {
      "text/plain": [
       "(100, 18)"
      ]
     },
     "execution_count": 46,
     "metadata": {},
     "output_type": "execute_result"
    }
   ],
   "source": [
    "X = np.concatenate((X_laser, X_orig))\n",
    "X.shape"
   ]
  },
  {
   "cell_type": "code",
   "execution_count": 47,
   "id": "59fea0c4",
   "metadata": {
    "pycharm": {
     "name": "#%%\n"
    }
   },
   "outputs": [
    {
     "data": {
      "text/plain": [
       "(100,)"
      ]
     },
     "execution_count": 47,
     "metadata": {},
     "output_type": "execute_result"
    }
   ],
   "source": [
    "y = np.concatenate((laser_label, orig_label))\n",
    "y.shape"
   ]
  },
  {
   "cell_type": "code",
   "execution_count": 48,
   "id": "c30bbbcd",
   "metadata": {
    "pycharm": {
     "name": "#%%\n"
    }
   },
   "outputs": [],
   "source": [
    "scaler = StandardScaler().fit(X)\n",
    "X = scaler.transform(X)"
   ]
  },
  {
   "cell_type": "code",
   "execution_count": 49,
   "id": "58ed1683",
   "metadata": {
    "pycharm": {
     "name": "#%%\n"
    }
   },
   "outputs": [],
   "source": [
    "X_train, X_test, y_train, y_test = train_test_split(X, y, test_size=0.33, random_state=42)"
   ]
  },
  {
   "cell_type": "code",
   "execution_count": 50,
   "id": "3639d4f0",
   "metadata": {
    "pycharm": {
     "name": "#%%\n"
    }
   },
   "outputs": [
    {
     "data": {
      "text/plain": [
       "(67, 18)"
      ]
     },
     "execution_count": 50,
     "metadata": {},
     "output_type": "execute_result"
    }
   ],
   "source": [
    "X_train.shape"
   ]
  },
  {
   "cell_type": "code",
   "execution_count": 51,
   "id": "fb37945d",
   "metadata": {
    "pycharm": {
     "name": "#%%\n"
    }
   },
   "outputs": [
    {
     "data": {
      "text/plain": [
       "Pipeline(steps=[('standardscaler', StandardScaler()),\n",
       "                ('linearsvc', LinearSVC())])"
      ]
     },
     "execution_count": 51,
     "metadata": {},
     "output_type": "execute_result"
    }
   ],
   "source": [
    "clf.fit(X_train, y_train)"
   ]
  },
  {
   "cell_type": "code",
   "execution_count": 52,
   "id": "04ded034",
   "metadata": {
    "pycharm": {
     "name": "#%%\n"
    }
   },
   "outputs": [],
   "source": [
    "y_pred = clf.predict(X_test)"
   ]
  },
  {
   "cell_type": "code",
   "execution_count": 53,
   "id": "c3bd59cb",
   "metadata": {
    "pycharm": {
     "name": "#%%\n"
    }
   },
   "outputs": [
    {
     "name": "stdout",
     "output_type": "stream",
     "text": [
      "accuracy =  1.0\n"
     ]
    }
   ],
   "source": [
    "print(\"accuracy = \", accuracy_score(y_test, y_pred))"
   ]
  },
  {
   "cell_type": "code",
   "execution_count": 54,
   "id": "bef4ef56",
   "metadata": {},
   "outputs": [],
   "source": [
    "# save the model to disk\n",
    "\n",
    "model_dir = 'models/'\n",
    "if not os.path.exists(model_dir):\n",
    "    \n",
    "    os.makedirs(model_dir)\n",
    "    print(\"The new directory is created!\")\n",
    "    \n",
    "filename = model_dir + 'svm_model_10_speaker_norm.sav'\n",
    "pickle.dump(clf, open(filename, 'wb'))"
   ]
  },
  {
   "cell_type": "markdown",
   "id": "2fb48c5f",
   "metadata": {
    "pycharm": {
     "name": "#%% md\n"
    }
   },
   "source": [
    "## with Log sigma"
   ]
  },
  {
   "cell_type": "code",
   "execution_count": 31,
   "id": "b12d9422",
   "metadata": {
    "pycharm": {
     "name": "#%%\n"
    }
   },
   "outputs": [],
   "source": [
    "import math"
   ]
  },
  {
   "cell_type": "code",
   "execution_count": 32,
   "id": "afae9637",
   "metadata": {
    "pycharm": {
     "name": "#%%\n"
    }
   },
   "outputs": [],
   "source": [
    "%%capture\n",
    "# compute coefficients for both laser and then compute variance, skewness and kurtosis\n",
    "\n",
    "laser_sigma_feat = []\n",
    "laser_skew_feat = []\n",
    "laser_kurt_feat = []\n",
    "\n",
    "for lf in laser_files:\n",
    "    audio_data, sr = librosa.load(lf, res_type='kaiser_fast')\n",
    "#     audio_data = librosa.util.normalize(audio_data)\n",
    "#     stft = librosa.stft(audio_data, n_fft=256)\n",
    "#     S_db = librosa.amplitude_to_db(np.abs(stft), ref=np.max)\n",
    "    coeffs = pywt.wavedec(audio_data, db1, mode='constant', level=5)\n",
    "    \n",
    "    \n",
    "    sigma_feat = []\n",
    "    skew_feat = []\n",
    "    kurt_feat = []\n",
    "    \n",
    "    for cf in coeffs:\n",
    "        \n",
    "#         cf = cf\n",
    "        \n",
    "        sigma_feat.append(np.log(np.var(cf)))\n",
    "        skew_feat.append(skew(cf))\n",
    "        kurt_feat.append(kurtosis(cf))\n",
    "        \n",
    "    laser_sigma_feat.append(sigma_feat)\n",
    "    laser_skew_feat.append(skew_feat)\n",
    "    laser_kurt_feat.append(kurt_feat)    \n",
    "    \n",
    "laser_sigma_feat = np.array(laser_sigma_feat)\n",
    "laser_skew_feat = np.array(laser_skew_feat)\n",
    "laser_kurt_feat = np.array(laser_kurt_feat)"
   ]
  },
  {
   "cell_type": "code",
   "execution_count": 33,
   "id": "82aff7c4",
   "metadata": {
    "pycharm": {
     "name": "#%%\n"
    }
   },
   "outputs": [
    {
     "name": "stdout",
     "output_type": "stream",
     "text": [
      "(50, 6)\n",
      "(50, 6)\n",
      "(50, 6)\n"
     ]
    }
   ],
   "source": [
    "print(laser_sigma_feat.shape)\n",
    "print(laser_skew_feat.shape)\n",
    "print(laser_kurt_feat.shape)"
   ]
  },
  {
   "cell_type": "code",
   "execution_count": 35,
   "id": "db3ac79e",
   "metadata": {
    "pycharm": {
     "name": "#%%\n"
    }
   },
   "outputs": [],
   "source": [
    "%%capture\n",
    "# compute coefficients for both laser and then compute variance, skewness and kurtosis\n",
    "\n",
    "orig_sigma_feat = []\n",
    "orig_skew_feat = []\n",
    "orig_kurt_feat = []\n",
    "\n",
    "for of in orig_files:\n",
    "    audio_data, sr = librosa.load(of, res_type='kaiser_fast')\n",
    "#     audio_data = librosa.util.normalize(audio_data)\n",
    "#     stft = librosa.stft(audio_data, n_fft=256)\n",
    "#     S_db = librosa.amplitude_to_db(np.abs(stft), ref=np.max)\n",
    "    coeffs = pywt.wavedec(audio_data, db1, mode='constant', level=5)\n",
    "    \n",
    "    \n",
    "    sigma_feat = []\n",
    "    skew_feat = []\n",
    "    kurt_feat = []\n",
    "    \n",
    "    for cf in coeffs:\n",
    "        \n",
    "#         cf = cf\n",
    "        \n",
    "        sigma_feat.append(np.log(np.var(cf)))\n",
    "        skew_feat.append(skew(cf))\n",
    "        kurt_feat.append(kurtosis(cf))\n",
    "        \n",
    "    orig_sigma_feat.append(sigma_feat)\n",
    "    orig_skew_feat.append(skew_feat)\n",
    "    orig_kurt_feat.append(kurt_feat)    \n",
    "    \n",
    "orig_sigma_feat = np.array(orig_sigma_feat)\n",
    "orig_skew_feat = np.array(orig_skew_feat)\n",
    "orig_kurt_feat = np.array(orig_kurt_feat)"
   ]
  },
  {
   "cell_type": "code",
   "execution_count": 36,
   "id": "7f9547f2",
   "metadata": {
    "pycharm": {
     "name": "#%%\n"
    }
   },
   "outputs": [
    {
     "data": {
      "application/vnd.jupyter.widget-view+json": {
       "model_id": "96126d1216084715aec3c0aed6c49e05",
       "version_major": 2,
       "version_minor": 0
      },
      "text/plain": [
       "Canvas(toolbar=Toolbar(toolitems=[('Home', 'Reset original view', 'home', 'home'), ('Back', 'Back to previous …"
      ]
     },
     "metadata": {},
     "output_type": "display_data"
    }
   ],
   "source": [
    "aprox_detail_coeff = 0 \n",
    "plot_clusters_skk(aprox_detail_coeff)\n",
    "\n",
    "plt.savefig(\"Approx_band_analysis_logvar\", dpi=300)"
   ]
  },
  {
   "cell_type": "code",
   "execution_count": 37,
   "id": "ee81c4ce",
   "metadata": {
    "pycharm": {
     "name": "#%%\n"
    }
   },
   "outputs": [
    {
     "data": {
      "application/vnd.jupyter.widget-view+json": {
       "model_id": "0159fe40b6034f30ac81b754336cc312",
       "version_major": 2,
       "version_minor": 0
      },
      "text/plain": [
       "Canvas(toolbar=Toolbar(toolitems=[('Home', 'Reset original view', 'home', 'home'), ('Back', 'Back to previous …"
      ]
     },
     "metadata": {},
     "output_type": "display_data"
    }
   ],
   "source": [
    "aprox_detail_coeff = 1 \n",
    "plot_clusters_skk(aprox_detail_coeff)"
   ]
  },
  {
   "cell_type": "code",
   "execution_count": 38,
   "id": "7d3b8a34",
   "metadata": {
    "pycharm": {
     "name": "#%%\n"
    }
   },
   "outputs": [
    {
     "data": {
      "application/vnd.jupyter.widget-view+json": {
       "model_id": "900dcbd75438458abefef3128c51fe65",
       "version_major": 2,
       "version_minor": 0
      },
      "text/plain": [
       "Canvas(toolbar=Toolbar(toolitems=[('Home', 'Reset original view', 'home', 'home'), ('Back', 'Back to previous …"
      ]
     },
     "metadata": {},
     "output_type": "display_data"
    }
   ],
   "source": [
    "aprox_detail_coeff = 2 \n",
    "plot_clusters_skk(aprox_detail_coeff)"
   ]
  },
  {
   "cell_type": "code",
   "execution_count": 39,
   "id": "177a531d",
   "metadata": {
    "pycharm": {
     "name": "#%%\n"
    }
   },
   "outputs": [
    {
     "data": {
      "application/vnd.jupyter.widget-view+json": {
       "model_id": "b76ba9c703d44ba883fefcb0d33b76b1",
       "version_major": 2,
       "version_minor": 0
      },
      "text/plain": [
       "Canvas(toolbar=Toolbar(toolitems=[('Home', 'Reset original view', 'home', 'home'), ('Back', 'Back to previous …"
      ]
     },
     "metadata": {},
     "output_type": "display_data"
    }
   ],
   "source": [
    "aprox_detail_coeff = 3 \n",
    "plot_clusters_skk(aprox_detail_coeff)"
   ]
  },
  {
   "cell_type": "code",
   "execution_count": 40,
   "id": "12b00898",
   "metadata": {
    "pycharm": {
     "name": "#%%\n"
    }
   },
   "outputs": [
    {
     "data": {
      "application/vnd.jupyter.widget-view+json": {
       "model_id": "fbd98ecb37144b439c4a9374b1bf476e",
       "version_major": 2,
       "version_minor": 0
      },
      "text/plain": [
       "Canvas(toolbar=Toolbar(toolitems=[('Home', 'Reset original view', 'home', 'home'), ('Back', 'Back to previous …"
      ]
     },
     "metadata": {},
     "output_type": "display_data"
    }
   ],
   "source": [
    "aprox_detail_coeff = 4 \n",
    "plot_clusters_skk(aprox_detail_coeff)"
   ]
  },
  {
   "cell_type": "code",
   "execution_count": 41,
   "id": "9ef7a423",
   "metadata": {
    "pycharm": {
     "name": "#%%\n"
    }
   },
   "outputs": [
    {
     "data": {
      "application/vnd.jupyter.widget-view+json": {
       "model_id": "d051a67cd0c541b3b4dba268633c3d56",
       "version_major": 2,
       "version_minor": 0
      },
      "text/plain": [
       "Canvas(toolbar=Toolbar(toolitems=[('Home', 'Reset original view', 'home', 'home'), ('Back', 'Back to previous …"
      ]
     },
     "metadata": {},
     "output_type": "display_data"
    }
   ],
   "source": [
    "aprox_detail_coeff = 5 \n",
    "plot_clusters_skk(aprox_detail_coeff)\n",
    "\n",
    "plt.savefig(\"Detail_band_analysis_logvar\", dpi=300)"
   ]
  },
  {
   "cell_type": "markdown",
   "id": "08d4f6b0",
   "metadata": {
    "pycharm": {
     "name": "#%% md\n"
    }
   },
   "source": [
    "## log-SVM with Linear Kernel"
   ]
  },
  {
   "cell_type": "code",
   "execution_count": 42,
   "id": "758e0f6c",
   "metadata": {
    "pycharm": {
     "name": "#%%\n"
    }
   },
   "outputs": [],
   "source": [
    "import sklearn\n",
    "\n",
    "from sklearn.svm import LinearSVC\n",
    "from sklearn.pipeline import make_pipeline\n",
    "from sklearn.preprocessing import StandardScaler\n",
    "from sklearn.svm import SVC\n",
    "\n",
    "from sklearn.model_selection import train_test_split\n",
    "from sklearn.metrics import accuracy_score\n",
    "from sklearn.metrics import confusion_matrix, ConfusionMatrixDisplay\n",
    "from sklearn.metrics import plot_confusion_matrix"
   ]
  },
  {
   "cell_type": "code",
   "execution_count": 43,
   "id": "44c77586",
   "metadata": {
    "pycharm": {
     "name": "#%%\n"
    }
   },
   "outputs": [
    {
     "name": "stdout",
     "output_type": "stream",
     "text": [
      "['laser' 'laser' 'laser' 'laser' 'laser' 'laser' 'laser' 'laser' 'laser'\n",
      " 'laser' 'laser' 'laser' 'laser' 'laser' 'laser' 'laser' 'laser' 'laser'\n",
      " 'laser' 'laser' 'laser' 'laser' 'laser' 'laser' 'laser' 'laser' 'laser'\n",
      " 'laser' 'laser' 'laser' 'laser' 'laser' 'laser' 'laser' 'laser' 'laser'\n",
      " 'laser' 'laser' 'laser' 'laser' 'laser' 'laser' 'laser' 'laser' 'laser'\n",
      " 'laser' 'laser' 'laser' 'laser' 'laser']\n",
      "(50,)\n"
     ]
    },
    {
     "data": {
      "text/plain": [
       "(50, 18)"
      ]
     },
     "execution_count": 43,
     "metadata": {},
     "output_type": "execute_result"
    }
   ],
   "source": [
    "X_laser = np.concatenate((laser_sigma_feat, laser_skew_feat, laser_kurt_feat), axis=1)\n",
    "laser_label = np.array(['laser']*X_laser.shape[0])\n",
    "print(laser_label)\n",
    "print(laser_label.shape)\n",
    "X_laser.shape"
   ]
  },
  {
   "cell_type": "code",
   "execution_count": 44,
   "id": "b080cce6",
   "metadata": {
    "pycharm": {
     "name": "#%%\n"
    }
   },
   "outputs": [
    {
     "name": "stdout",
     "output_type": "stream",
     "text": [
      "['original' 'original' 'original' 'original' 'original' 'original'\n",
      " 'original' 'original' 'original' 'original' 'original' 'original'\n",
      " 'original' 'original' 'original' 'original' 'original' 'original'\n",
      " 'original' 'original' 'original' 'original' 'original' 'original'\n",
      " 'original' 'original' 'original' 'original' 'original' 'original'\n",
      " 'original' 'original' 'original' 'original' 'original' 'original'\n",
      " 'original' 'original' 'original' 'original' 'original' 'original'\n",
      " 'original' 'original' 'original' 'original' 'original' 'original'\n",
      " 'original' 'original']\n",
      "(50,)\n"
     ]
    },
    {
     "data": {
      "text/plain": [
       "(50, 18)"
      ]
     },
     "execution_count": 44,
     "metadata": {},
     "output_type": "execute_result"
    }
   ],
   "source": [
    "X_orig = np.concatenate((orig_sigma_feat, orig_skew_feat, orig_kurt_feat), axis=1)\n",
    "orig_label = np.array(['original']*X_orig.shape[0])\n",
    "print(orig_label)\n",
    "print(orig_label.shape)\n",
    "X_orig.shape"
   ]
  },
  {
   "cell_type": "code",
   "execution_count": 45,
   "id": "f8dd09f8",
   "metadata": {
    "pycharm": {
     "name": "#%%\n"
    }
   },
   "outputs": [],
   "source": [
    "clf = make_pipeline(StandardScaler(), LinearSVC())"
   ]
  },
  {
   "cell_type": "code",
   "execution_count": 46,
   "id": "3c580596",
   "metadata": {
    "pycharm": {
     "name": "#%%\n"
    }
   },
   "outputs": [
    {
     "data": {
      "text/plain": [
       "(100, 18)"
      ]
     },
     "execution_count": 46,
     "metadata": {},
     "output_type": "execute_result"
    }
   ],
   "source": [
    "X = np.concatenate((X_laser, X_orig))\n",
    "X.shape"
   ]
  },
  {
   "cell_type": "code",
   "execution_count": 47,
   "id": "cde7b492",
   "metadata": {
    "pycharm": {
     "name": "#%%\n"
    }
   },
   "outputs": [
    {
     "data": {
      "text/plain": [
       "(100,)"
      ]
     },
     "execution_count": 47,
     "metadata": {},
     "output_type": "execute_result"
    }
   ],
   "source": [
    "y = np.concatenate((laser_label, orig_label))\n",
    "y.shape"
   ]
  },
  {
   "cell_type": "code",
   "execution_count": 48,
   "id": "5cc130d6",
   "metadata": {
    "pycharm": {
     "name": "#%%\n"
    }
   },
   "outputs": [],
   "source": [
    "X_train, X_test, y_train, y_test = train_test_split(X, y, test_size=0.30, random_state=42)"
   ]
  },
  {
   "cell_type": "code",
   "execution_count": 49,
   "id": "f16b3b9f",
   "metadata": {
    "pycharm": {
     "name": "#%%\n"
    }
   },
   "outputs": [
    {
     "data": {
      "text/plain": [
       "Pipeline(steps=[('standardscaler', StandardScaler()),\n",
       "                ('linearsvc', LinearSVC())])"
      ]
     },
     "execution_count": 49,
     "metadata": {},
     "output_type": "execute_result"
    }
   ],
   "source": [
    "clf.fit(X_train, y_train)"
   ]
  },
  {
   "cell_type": "code",
   "execution_count": 50,
   "id": "51096ae9",
   "metadata": {
    "pycharm": {
     "name": "#%%\n"
    }
   },
   "outputs": [],
   "source": [
    "y_pred = clf.predict(X_test)"
   ]
  },
  {
   "cell_type": "code",
   "execution_count": 51,
   "id": "4ecb128e",
   "metadata": {
    "pycharm": {
     "name": "#%%\n"
    }
   },
   "outputs": [
    {
     "name": "stdout",
     "output_type": "stream",
     "text": [
      "accuracy =  1.0\n"
     ]
    }
   ],
   "source": [
    "print(\"accuracy = \", accuracy_score(y_test, y_pred))"
   ]
  },
  {
   "cell_type": "code",
   "execution_count": 52,
   "id": "d7762b3e",
   "metadata": {
    "pycharm": {
     "name": "#%%\n"
    }
   },
   "outputs": [],
   "source": [
    "cm = confusion_matrix(y_test, y_pred)"
   ]
  },
  {
   "cell_type": "code",
   "execution_count": 53,
   "id": "89e036ff",
   "metadata": {
    "pycharm": {
     "name": "#%%\n"
    }
   },
   "outputs": [
    {
     "data": {
      "application/vnd.jupyter.widget-view+json": {
       "model_id": "aeeaeaeb86fb4c55b35648a767a49cba",
       "version_major": 2,
       "version_minor": 0
      },
      "text/plain": [
       "Canvas(toolbar=Toolbar(toolitems=[('Home', 'Reset original view', 'home', 'home'), ('Back', 'Back to previous …"
      ]
     },
     "metadata": {},
     "output_type": "display_data"
    }
   ],
   "source": [
    "disp = ConfusionMatrixDisplay(confusion_matrix=cm, display_labels=clf.classes_)\n",
    "disp.plot()\n",
    "\n",
    "plt.savefig(\"ConfusionMatrix\", dpi=300)"
   ]
  },
  {
   "cell_type": "code",
   "execution_count": 54,
   "id": "ca02b429",
   "metadata": {},
   "outputs": [],
   "source": [
    "# save the model to disk\n",
    "\n",
    "model_dir = 'models/'\n",
    "if not os.path.exists(model_dir):\n",
    "    \n",
    "    os.makedirs(model_dir)\n",
    "    print(\"The new directory is created!\")\n",
    "    \n",
    "filename = model_dir + 'svm_model_log_sigma_10_speaker.sav'\n",
    "pickle.dump(clf, open(filename, 'wb'))"
   ]
  },
  {
   "cell_type": "markdown",
   "id": "0240b210",
   "metadata": {
    "pycharm": {
     "name": "#%% md\n"
    }
   },
   "source": [
    "## What if we only use variance as feature"
   ]
  },
  {
   "cell_type": "code",
   "execution_count": null,
   "id": "d18abb4a",
   "metadata": {
    "pycharm": {
     "name": "#%%\n"
    }
   },
   "outputs": [],
   "source": [
    "# X_laser = np.concatenate((laser_sigma_feat, laser_skew_feat, laser_kurt_feat), axis=1)\n",
    "X_laser = laser_sigma_feat\n",
    "laser_label = np.array(['laser']*X_laser.shape[0])\n",
    "print(laser_label)\n",
    "print(laser_label.shape)\n",
    "X_laser.shape"
   ]
  },
  {
   "cell_type": "code",
   "execution_count": null,
   "id": "fee666ba",
   "metadata": {
    "pycharm": {
     "name": "#%%\n"
    }
   },
   "outputs": [],
   "source": [
    "# X_orig = np.concatenate((orig_sigma_feat, orig_skew_feat, orig_kurt_feat), axis=1)\n",
    "X_orig = orig_sigma_feat\n",
    "orig_label = np.array(['original']*X_orig.shape[0])\n",
    "print(orig_label)\n",
    "print(orig_label.shape)\n",
    "X_orig.shape"
   ]
  },
  {
   "cell_type": "code",
   "execution_count": null,
   "id": "61fde449",
   "metadata": {
    "pycharm": {
     "name": "#%%\n"
    }
   },
   "outputs": [],
   "source": [
    "clf = make_pipeline(StandardScaler(), LinearSVC())"
   ]
  },
  {
   "cell_type": "code",
   "execution_count": null,
   "id": "383855ab",
   "metadata": {
    "pycharm": {
     "name": "#%%\n"
    }
   },
   "outputs": [],
   "source": [
    "X = np.concatenate((X_laser, X_orig))\n",
    "X.shape"
   ]
  },
  {
   "cell_type": "code",
   "execution_count": null,
   "id": "b5bdbea3",
   "metadata": {
    "pycharm": {
     "name": "#%%\n"
    }
   },
   "outputs": [],
   "source": [
    "X_train, X_test, y_train, y_test = train_test_split(X, y, test_size=0.33, random_state=42)"
   ]
  },
  {
   "cell_type": "code",
   "execution_count": null,
   "id": "ddc13ca6",
   "metadata": {
    "pycharm": {
     "name": "#%%\n"
    }
   },
   "outputs": [],
   "source": [
    "clf.fit(X_train, y_train)"
   ]
  },
  {
   "cell_type": "code",
   "execution_count": null,
   "id": "99a5eb56",
   "metadata": {
    "pycharm": {
     "name": "#%%\n"
    }
   },
   "outputs": [],
   "source": [
    "y_pred = clf.predict(X_test)"
   ]
  },
  {
   "cell_type": "code",
   "execution_count": null,
   "id": "fcfcd512",
   "metadata": {
    "pycharm": {
     "name": "#%%\n"
    }
   },
   "outputs": [],
   "source": [
    "print(\"accuracy = \", accuracy_score(y_test, y_pred))"
   ]
  },
  {
   "cell_type": "code",
   "execution_count": null,
   "id": "833e3a51",
   "metadata": {
    "pycharm": {
     "name": "#%%\n"
    }
   },
   "outputs": [],
   "source": [
    "cm = confusion_matrix(y_test, y_pred)\n",
    "\n",
    "disp = ConfusionMatrixDisplay(confusion_matrix=cm, display_labels=clf.classes_)\n",
    "disp.plot()\n",
    "\n",
    "plt.savefig(\"ConfusionMatrix_variance\", dpi=300)"
   ]
  },
  {
   "cell_type": "markdown",
   "id": "a565d597",
   "metadata": {
    "pycharm": {
     "name": "#%% md\n"
    }
   },
   "source": [
    "## What if we just use first approximation band ?"
   ]
  },
  {
   "cell_type": "code",
   "execution_count": null,
   "id": "616bdf1b",
   "metadata": {
    "pycharm": {
     "name": "#%%\n"
    }
   },
   "outputs": [],
   "source": [
    "%%capture\n",
    "# compute coefficients for both laser and then compute variance, skewness and kurtosis\n",
    "\n",
    "laser_sigma_feat = []\n",
    "laser_skew_feat = []\n",
    "laser_kurt_feat = []\n",
    "\n",
    "for lf in laser_files:\n",
    "    audio_data, sr = librosa.load(lf, res_type='kaiser_fast')\n",
    "#     stft = librosa.stft(audio_data, n_fft=256)\n",
    "#     S_db = librosa.amplitude_to_db(np.abs(stft), ref=np.max)\n",
    "    coeffs = pywt.wavedec(audio_data, db1, mode='constant', level=5)\n",
    "    \n",
    "    \n",
    "#     sigma_feat = []\n",
    "#     skew_feat = []\n",
    "#     kurt_feat = []\n",
    "    \n",
    "    sigma_feat = np.log(np.var(coeffs[0]))\n",
    "    \n",
    "#     skew_feat.append(skew(cf))\n",
    "#     kurt_feat.append(kurtosis(cf))\n",
    "        \n",
    "    laser_sigma_feat.append(sigma_feat)\n",
    "    laser_skew_feat.append(skew(coeffs[0]))\n",
    "    laser_kurt_feat.append(kurtosis(coeffs[0]))    \n",
    "    \n",
    "# laser_sigma_feat = np.array(laser_sigma_feat)\n",
    "# laser_skew_feat = np.array(laser_skew_feat)\n",
    "# laser_kurt_feat = np.array(laser_kurt_feat)"
   ]
  },
  {
   "cell_type": "code",
   "execution_count": null,
   "id": "0e145533",
   "metadata": {
    "pycharm": {
     "name": "#%%\n"
    }
   },
   "outputs": [],
   "source": [
    "# print(laser_sigma_feat.shape)\n",
    "print(laser_sigma_feat)"
   ]
  },
  {
   "cell_type": "code",
   "execution_count": null,
   "id": "13a758bc",
   "metadata": {
    "pycharm": {
     "name": "#%%\n"
    }
   },
   "outputs": [],
   "source": [
    "%%capture\n",
    "# compute coefficients for both laser and then compute variance, skewness and kurtosis\n",
    "\n",
    "orig_sigma_feat = []\n",
    "orig_skew_feat = []\n",
    "orig_kurt_feat = []\n",
    "\n",
    "for of in orig_files:\n",
    "    audio_data, sr = librosa.load(of, res_type='kaiser_fast')\n",
    "#     stft = librosa.stft(audio_data, n_fft=256)\n",
    "#     S_db = librosa.amplitude_to_db(np.abs(stft), ref=np.max)\n",
    "    coeffs = pywt.wavedec(audio_data, db1, mode='constant', level=5)\n",
    "    \n",
    "    sigma_feat = np.log(np.var(coeffs[0]))\n",
    "        \n",
    "    orig_sigma_feat.append(sigma_feat)\n",
    "    orig_skew_feat.append(skew(coeffs[0]))\n",
    "    orig_kurt_feat.append(kurtosis(coeffs[0]))    \n",
    "    \n",
    "# orig_sigma_feat = np.array(orig_sigma_feat)\n",
    "# orig_skew_feat = np.array(orig_skew_feat)\n",
    "# orig_kurt_feat = np.array(orig_kurt_feat)"
   ]
  },
  {
   "cell_type": "code",
   "execution_count": null,
   "id": "6889379a",
   "metadata": {
    "pycharm": {
     "name": "#%%\n"
    }
   },
   "outputs": [],
   "source": [
    "X_laser = [laser_sigma_feat]\n",
    "X_laser.append(laser_skew_feat)\n",
    "X_laser.append(laser_kurt_feat)\n",
    "\n",
    "X_laser = np.array(X_laser).transpose()\n",
    "\n",
    "# print(X_laser)\n",
    "# X_laser = np.array(X_laser.append(laser_kurt_feat))\n",
    "# X_laser = laser_sigma_feat.append(laser_skew_feat).append(laser_kurt_feat)\n",
    "# X_laser = np.array(X_laser)\n",
    "# X_laser = np.concatenate((laser_sigma_feat, laser_skew_feat, laser_kurt_feat), axis=0)\n",
    "# X_laser = np.array([[laser_sigma_feat], [laser_skew_feat], [laser_kurt_feat]])\n",
    "\n",
    "laser_label = np.array(['laser']*X_laser.shape[0])\n",
    "print(laser_label)\n",
    "print(laser_label.shape)\n",
    "X_laser.shape\n",
    "# X_laser = laser_sigma_feat\n",
    "# laser_label = np.array(['laser']*X_laser.shape[0])\n",
    "# print(laser_label)\n",
    "# print(laser_label.shape)\n",
    "# X_laser.shape"
   ]
  },
  {
   "cell_type": "code",
   "execution_count": null,
   "id": "79588169",
   "metadata": {
    "pycharm": {
     "name": "#%%\n"
    }
   },
   "outputs": [],
   "source": [
    "X_orig = [orig_sigma_feat]\n",
    "X_orig.append(orig_skew_feat)\n",
    "X_orig.append(orig_kurt_feat)\n",
    "\n",
    "X_orig = np.array(X_orig).transpose()\n",
    "\n",
    "# print(X_orig)\n",
    "\n",
    "# X_orig = orig_sigma_feat\n",
    "orig_label = np.array(['original']*X_orig.shape[0])\n",
    "print(orig_label)\n",
    "print(orig_label.shape)\n",
    "X_orig.shape"
   ]
  },
  {
   "cell_type": "code",
   "execution_count": null,
   "id": "4ca814f0",
   "metadata": {
    "pycharm": {
     "name": "#%%\n"
    }
   },
   "outputs": [],
   "source": [
    "# print(X_laser)"
   ]
  },
  {
   "cell_type": "code",
   "execution_count": null,
   "id": "72314a4c",
   "metadata": {
    "pycharm": {
     "name": "#%%\n"
    }
   },
   "outputs": [],
   "source": [
    "# print(X_orig)"
   ]
  },
  {
   "cell_type": "code",
   "execution_count": null,
   "id": "075de491",
   "metadata": {
    "pycharm": {
     "name": "#%%\n"
    }
   },
   "outputs": [],
   "source": [
    "clf = make_pipeline(StandardScaler(), LinearSVC())"
   ]
  },
  {
   "cell_type": "code",
   "execution_count": null,
   "id": "8dfa9560",
   "metadata": {
    "pycharm": {
     "name": "#%%\n"
    }
   },
   "outputs": [],
   "source": [
    "X = np.concatenate((X_laser, X_orig))\n",
    "X.shape\n",
    "print(X)"
   ]
  },
  {
   "cell_type": "code",
   "execution_count": null,
   "id": "58aaf79e",
   "metadata": {
    "pycharm": {
     "name": "#%%\n"
    }
   },
   "outputs": [],
   "source": [
    "y = np.concatenate((laser_label, orig_label))\n",
    "y.shape"
   ]
  },
  {
   "cell_type": "code",
   "execution_count": null,
   "id": "491744fb",
   "metadata": {
    "pycharm": {
     "name": "#%%\n"
    }
   },
   "outputs": [],
   "source": [
    "X_train, X_test, y_train, y_test = train_test_split(X, y, test_size=0.33, random_state=42)"
   ]
  },
  {
   "cell_type": "code",
   "execution_count": null,
   "id": "80525144",
   "metadata": {
    "pycharm": {
     "name": "#%%\n"
    }
   },
   "outputs": [],
   "source": [
    "clf.fit(X_train, y_train)"
   ]
  },
  {
   "cell_type": "code",
   "execution_count": null,
   "id": "683c5bbd",
   "metadata": {
    "pycharm": {
     "name": "#%%\n"
    }
   },
   "outputs": [],
   "source": [
    "y_pred = clf.predict(X_test)"
   ]
  },
  {
   "cell_type": "code",
   "execution_count": null,
   "id": "d4d3e7a5",
   "metadata": {
    "pycharm": {
     "name": "#%%\n"
    }
   },
   "outputs": [],
   "source": [
    "print(\"accuracy = \", accuracy_score(y_test, y_pred))"
   ]
  },
  {
   "cell_type": "markdown",
   "id": "eb4a5a0f",
   "metadata": {
    "pycharm": {
     "name": "#%%\n"
    }
   },
   "source": [
    "## What if we just use variance of first approximation band ?"
   ]
  },
  {
   "cell_type": "code",
   "execution_count": null,
   "id": "d9c81745",
   "metadata": {},
   "outputs": [],
   "source": [
    "%%capture\n",
    "# compute coefficients for both laser and then compute variance, skewness and kurtosis\n",
    "\n",
    "laser_sigma_feat = []\n",
    "# laser_skew_feat = []\n",
    "# laser_kurt_feat = []\n",
    "\n",
    "for lf in laser_files:\n",
    "    audio_data, sr = librosa.load(lf, res_type='kaiser_fast')\n",
    "#     stft = librosa.stft(audio_data, n_fft=256)\n",
    "#     S_db = librosa.amplitude_to_db(np.abs(stft), ref=np.max)\n",
    "    coeffs = pywt.wavedec(audio_data, db1, mode='constant', level=5)\n",
    "    \n",
    "    \n",
    "#     sigma_feat = []\n",
    "#     skew_feat = []\n",
    "#     kurt_feat = []\n",
    "    \n",
    "    sigma_feat = np.log(np.var(coeffs[0]))\n",
    "    \n",
    "#     skew_feat.append(skew(cf))\n",
    "#     kurt_feat.append(kurtosis(cf))\n",
    "        \n",
    "    laser_sigma_feat.append(sigma_feat)\n",
    "#     laser_skew_feat.append(skew(coeffs[0]))\n",
    "#     laser_kurt_feat.append(kurtosis(coeffs[0]))    \n",
    "    \n",
    "# laser_sigma_feat = np.array(laser_sigma_feat)\n",
    "# laser_skew_feat = np.array(laser_skew_feat)\n",
    "# laser_kurt_feat = np.array(laser_kurt_feat)"
   ]
  },
  {
   "cell_type": "code",
   "execution_count": null,
   "id": "4cdb9ae7",
   "metadata": {},
   "outputs": [],
   "source": [
    "%%capture\n",
    "# compute coefficients for both laser and then compute variance, skewness and kurtosis\n",
    "\n",
    "orig_sigma_feat = []\n",
    "# orig_skew_feat = []\n",
    "# orig_kurt_feat = []\n",
    "\n",
    "for of in orig_files:\n",
    "    audio_data, sr = librosa.load(of, res_type='kaiser_fast')\n",
    "#     stft = librosa.stft(audio_data, n_fft=256)\n",
    "#     S_db = librosa.amplitude_to_db(np.abs(stft), ref=np.max)\n",
    "    coeffs = pywt.wavedec(audio_data, db1, mode='constant', level=5)\n",
    "    \n",
    "    sigma_feat = np.log(np.var(coeffs[0]))\n",
    "        \n",
    "    orig_sigma_feat.append(sigma_feat)\n",
    "#     orig_skew_feat.append(skew(coeffs[0]))\n",
    "#     orig_kurt_feat.append(kurtosis(coeffs[0]))    \n",
    "    \n",
    "# orig_sigma_feat = np.array(orig_sigma_feat)\n",
    "# orig_skew_feat = np.array(orig_skew_feat)\n",
    "# orig_kurt_feat = np.array(orig_kurt_feat)"
   ]
  },
  {
   "cell_type": "code",
   "execution_count": null,
   "id": "e546820d",
   "metadata": {},
   "outputs": [],
   "source": [
    "X_laser = [laser_sigma_feat]\n",
    "# X_laser.append(laser_skew_feat)\n",
    "# X_laser.append(laser_kurt_feat)\n",
    "\n",
    "X_laser = np.array(X_laser).transpose()\n",
    "\n",
    "# print(X_laser)\n",
    "# X_laser = np.array(X_laser.append(laser_kurt_feat))\n",
    "# X_laser = laser_sigma_feat.append(laser_skew_feat).append(laser_kurt_feat)\n",
    "# X_laser = np.array(X_laser)\n",
    "# X_laser = np.concatenate((laser_sigma_feat, laser_skew_feat, laser_kurt_feat), axis=0)\n",
    "# X_laser = np.array([[laser_sigma_feat], [laser_skew_feat], [laser_kurt_feat]])\n",
    "\n",
    "laser_label = np.array(['laser']*X_laser.shape[0])\n",
    "print(laser_label)\n",
    "print(laser_label.shape)\n",
    "X_laser.shape\n",
    "# X_laser = laser_sigma_feat\n",
    "# laser_label = np.array(['laser']*X_laser.shape[0])\n",
    "# print(laser_label)\n",
    "# print(laser_label.shape)\n",
    "# X_laser.shape"
   ]
  },
  {
   "cell_type": "code",
   "execution_count": null,
   "id": "54cfb55a",
   "metadata": {},
   "outputs": [],
   "source": [
    "X_orig = [orig_sigma_feat]\n",
    "# X_orig.append(orig_skew_feat)\n",
    "# X_orig.append(orig_kurt_feat)\n",
    "\n",
    "X_orig = np.array(X_orig).transpose()\n",
    "\n",
    "# print(X_orig)\n",
    "\n",
    "# X_orig = orig_sigma_feat\n",
    "orig_label = np.array(['original']*X_orig.shape[0])\n",
    "print(orig_label)\n",
    "print(orig_label.shape)\n",
    "X_orig.shape"
   ]
  },
  {
   "cell_type": "code",
   "execution_count": null,
   "id": "55575b52",
   "metadata": {},
   "outputs": [],
   "source": [
    "clf = make_pipeline(StandardScaler(), LinearSVC())"
   ]
  },
  {
   "cell_type": "code",
   "execution_count": null,
   "id": "0cb7abeb",
   "metadata": {},
   "outputs": [],
   "source": [
    "X = np.concatenate((X_laser, X_orig))\n",
    "X.shape\n",
    "# print(X)"
   ]
  },
  {
   "cell_type": "code",
   "execution_count": null,
   "id": "2f0f0898",
   "metadata": {},
   "outputs": [],
   "source": [
    "y = np.concatenate((laser_label, orig_label))\n",
    "y.shape"
   ]
  },
  {
   "cell_type": "code",
   "execution_count": null,
   "id": "1be9f715",
   "metadata": {},
   "outputs": [],
   "source": [
    "X_train, X_test, y_train, y_test = train_test_split(X, y, test_size=0.30, random_state=42)"
   ]
  },
  {
   "cell_type": "code",
   "execution_count": null,
   "id": "9a14f051",
   "metadata": {},
   "outputs": [],
   "source": [
    "clf.fit(X_train, y_train)"
   ]
  },
  {
   "cell_type": "code",
   "execution_count": null,
   "id": "6b5d929e",
   "metadata": {},
   "outputs": [],
   "source": [
    "y_pred = clf.predict(X_test)"
   ]
  },
  {
   "cell_type": "code",
   "execution_count": null,
   "id": "e0ecb281",
   "metadata": {},
   "outputs": [],
   "source": [
    "print(\"accuracy = \", accuracy_score(y_test, y_pred))"
   ]
  },
  {
   "cell_type": "code",
   "execution_count": null,
   "id": "53e0d5b4",
   "metadata": {},
   "outputs": [],
   "source": [
    "cm = confusion_matrix(y_test, y_pred)\n",
    "\n",
    "disp = ConfusionMatrixDisplay(confusion_matrix=cm, display_labels=clf.classes_)\n",
    "disp.plot()\n",
    "\n",
    "plt.savefig(\"ConfusionMatrix_variance_CA5\", dpi=300)"
   ]
  },
  {
   "cell_type": "code",
   "execution_count": null,
   "id": "6ad83821",
   "metadata": {},
   "outputs": [],
   "source": []
  },
  {
   "cell_type": "code",
   "execution_count": null,
   "id": "6a4137ce",
   "metadata": {},
   "outputs": [],
   "source": []
  },
  {
   "cell_type": "code",
   "execution_count": null,
   "id": "8b289c1b",
   "metadata": {},
   "outputs": [],
   "source": []
  }
 ],
 "metadata": {
  "kernelspec": {
   "display_name": "laser_injection",
   "language": "python",
   "name": "laser_injection"
  },
  "language_info": {
   "codemirror_mode": {
    "name": "ipython",
    "version": 3
   },
   "file_extension": ".py",
   "mimetype": "text/x-python",
   "name": "python",
   "nbconvert_exporter": "python",
   "pygments_lexer": "ipython3",
   "version": "3.8.10"
  }
 },
 "nbformat": 4,
 "nbformat_minor": 5
}
