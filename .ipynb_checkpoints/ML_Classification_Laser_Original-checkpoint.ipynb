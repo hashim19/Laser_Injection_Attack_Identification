{
 "cells": [
  {
   "cell_type": "code",
   "execution_count": 65,
   "id": "dc9bc2fd",
   "metadata": {},
   "outputs": [],
   "source": [
    "import os\n",
    "import pandas as pd\n",
    "import librosa\n",
    "import librosa.display\n",
    "import glob \n",
    "import numpy as np\n",
    "import matplotlib.pyplot as plt\n",
    "from matplotlib import cm\n",
    "import seaborn as sns\n",
    "from fitter import Fitter, get_common_distributions, get_distributions\n",
    "\n",
    "# from sklearn.preprocessing import StandardScaler\n",
    "import sklearn\n",
    "\n",
    "from sklearn.svm import LinearSVC\n",
    "from sklearn.pipeline import make_pipeline\n",
    "from sklearn.preprocessing import StandardScaler\n",
    "\n",
    "from sklearn.model_selection import train_test_split\n",
    "from sklearn.metrics import accuracy_score\n",
    "from sklearn.metrics import confusion_matrix\n",
    "\n",
    "from utils import plot_projections"
   ]
  },
  {
   "cell_type": "code",
   "execution_count": 2,
   "id": "ec55da5c",
   "metadata": {},
   "outputs": [
    {
     "name": "stdout",
     "output_type": "stream",
     "text": [
      "70\n"
     ]
    }
   ],
   "source": [
    "laser_dir = '/home/hashim/PHD/audio_data/Laser_Original/Laser_cleaned/'\n",
    "laser_files = list(glob.glob(os.path.join(laser_dir, '*.mp3')))\n",
    "laser_files.sort()\n",
    "# print(laser_files)\n",
    "print(len(laser_files))"
   ]
  },
  {
   "cell_type": "code",
   "execution_count": 3,
   "id": "d07a51f6",
   "metadata": {},
   "outputs": [
    {
     "name": "stdout",
     "output_type": "stream",
     "text": [
      "48\n"
     ]
    }
   ],
   "source": [
    "orig_dir = '/home/hashim/PHD/audio_data/Laser_Original/Original_cleaned/'\n",
    "orig_files = list(glob.glob(os.path.join(orig_dir, '*.mp3')))\n",
    "orig_files.sort()\n",
    "# print(orig_files)\n",
    "print(len(orig_files))"
   ]
  },
  {
   "cell_type": "code",
   "execution_count": 50,
   "id": "c97c8d94",
   "metadata": {},
   "outputs": [],
   "source": [
    "%%capture\n",
    "# compute spectograms for both laser and original\n",
    "laser_spec = []\n",
    "\n",
    "# laser_mu_feat = []\n",
    "# laser_sigma_feat = []\n",
    "# laser_beta_feat = []\n",
    "X_laser = []\n",
    "laser_label = []\n",
    "\n",
    "for lf in laser_files:\n",
    "    audio_data, sr = librosa.load(lf, res_type='kaiser_fast')\n",
    "    stft = librosa.stft(audio_data, n_fft=256)\n",
    "    S_db = librosa.amplitude_to_db(np.abs(stft), ref=np.max)\n",
    "    \n",
    "#     mu_feat = []\n",
    "#     sigma_feat = []\n",
    "#     beta_feat = []\n",
    "    laser_feat = []\n",
    "    for row in S_db:\n",
    "        \n",
    "        f = Fitter(row, distributions=[\"gennorm\"])\n",
    "\n",
    "        f.fit()\n",
    "#         print(f.get_best(method = 'sumsquare_error'))\n",
    "\n",
    "        f_param = f.fitted_param[\"gennorm\"]\n",
    "    \n",
    "#         print(f_param)\n",
    "#         print(f.summary())\n",
    "\n",
    "#         mu_feat.append(f_param[1])\n",
    "#         sigma_feat.append(f_param[2])\n",
    "#         beta_feat.append(f_param[0])\n",
    "        laser_feat.extend([f_param[1], f_param[2], f_param[0]])\n",
    "        \n",
    "#     laser_mu_feat.append(mu_feat)\n",
    "#     laser_sigma_feat.append(sigma_feat)\n",
    "#     laser_beta_feat.append(beta_feat)\n",
    "    X_laser.append(laser_feat)\n",
    "    laser_label.append('laser')\n",
    "    \n",
    "# laser_mu_feat = np.array(laser_mu_feat)\n",
    "# laser_sigma_feat = np.array(laser_sigma_feat)\n",
    "# laser_beta_feat = np.array(laser_beta_feat)\n",
    "\n",
    "X_laser = np.array(X_laser)\n",
    "laser_label = np.array(laser_label)\n"
   ]
  },
  {
   "cell_type": "code",
   "execution_count": 51,
   "id": "72aad040",
   "metadata": {},
   "outputs": [
    {
     "name": "stdout",
     "output_type": "stream",
     "text": [
      "(70, 387)\n",
      "(70,)\n"
     ]
    }
   ],
   "source": [
    "# print(S_db.shape)\n",
    "# print(laser_mu_feat.shape)\n",
    "# print(laser_sigma_feat.shape)\n",
    "# print(laser_beta_feat.shape)\n",
    "print(X_laser.shape)\n",
    "print(laser_label.shape)"
   ]
  },
  {
   "cell_type": "code",
   "execution_count": 52,
   "id": "672c403f",
   "metadata": {},
   "outputs": [],
   "source": [
    "%%capture\n",
    "orig_spec = []\n",
    "\n",
    "# orig_mu_feat = []\n",
    "# orig_sigma_feat = []\n",
    "# orig_beta_feat = []\n",
    "X_orig = []\n",
    "orig_label = []\n",
    "for of in orig_files:\n",
    "    audio_data, sr = librosa.load(of, res_type='kaiser_fast')\n",
    "    stft = librosa.stft(audio_data, n_fft=256)\n",
    "    S_db = librosa.amplitude_to_db(np.abs(stft), ref=np.max)\n",
    "    \n",
    "#     mu_feat = []\n",
    "#     sigma_feat = []\n",
    "#     beta_feat = []\n",
    "    orig_feat = []\n",
    "    for row in S_db:\n",
    "        \n",
    "        f = Fitter(row, distributions=[\"gennorm\"])\n",
    "\n",
    "        f.fit()\n",
    "#         print(f.get_best(method = 'sumsquare_error'))\n",
    "\n",
    "        f_param = f.fitted_param[\"gennorm\"]\n",
    "\n",
    "#         mu_feat.append(f_param[1])\n",
    "#         sigma_feat.append(f_param[2])\n",
    "#         beta_feat.append(f_param[0])\n",
    "        orig_feat.extend([f_param[1], f_param[2], f_param[0]])\n",
    "        \n",
    "#     orig_mu_feat.append(mu_feat)\n",
    "#     orig_sigma_feat.append(sigma_feat)\n",
    "#     orig_beta_feat.append(beta_feat)\n",
    "    X_orig.append(orig_feat)\n",
    "    orig_label.append('original')\n",
    "    \n",
    "# orig_mu_feat = np.array(orig_mu_feat)\n",
    "# orig_sigma_feat = np.array(orig_sigma_feat)\n",
    "# orig_beta_feat = np.array(orig_beta_feat)\n",
    "\n",
    "X_orig = np.array(X_orig)\n",
    "orig_label = np.array(orig_label)\n"
   ]
  },
  {
   "cell_type": "code",
   "execution_count": 53,
   "id": "623027ea",
   "metadata": {},
   "outputs": [
    {
     "name": "stdout",
     "output_type": "stream",
     "text": [
      "(48, 387)\n",
      "(48,)\n"
     ]
    }
   ],
   "source": [
    "# print(orig_mu_feat.shape)\n",
    "# print(orig_sigma_feat.shape)\n",
    "# print(orig_beta_feat.shape)\n",
    "\n",
    "print(X_orig.shape)\n",
    "print(orig_label.shape)"
   ]
  },
  {
   "cell_type": "code",
   "execution_count": 54,
   "id": "9ca5fc4b",
   "metadata": {},
   "outputs": [],
   "source": [
    "# X_orig = np.reshape(X_orig, (48, 129, 3))\n",
    "# X_orig.shape"
   ]
  },
  {
   "cell_type": "code",
   "execution_count": 55,
   "id": "e00e9441",
   "metadata": {},
   "outputs": [],
   "source": [
    "# X_laser = np.reshape(X_laser, (70, 129, 3))\n",
    "# X_laser.shape"
   ]
  },
  {
   "cell_type": "code",
   "execution_count": 56,
   "id": "87abf72d",
   "metadata": {},
   "outputs": [],
   "source": [
    "clf = make_pipeline(StandardScaler(), LinearSVC())"
   ]
  },
  {
   "cell_type": "code",
   "execution_count": 57,
   "id": "6a2c7269",
   "metadata": {},
   "outputs": [
    {
     "data": {
      "text/plain": [
       "(118, 387)"
      ]
     },
     "execution_count": 57,
     "metadata": {},
     "output_type": "execute_result"
    }
   ],
   "source": [
    "X = np.concatenate((X_laser, X_orig))\n",
    "X.shape"
   ]
  },
  {
   "cell_type": "code",
   "execution_count": 58,
   "id": "6de40180",
   "metadata": {},
   "outputs": [
    {
     "data": {
      "text/plain": [
       "(118,)"
      ]
     },
     "execution_count": 58,
     "metadata": {},
     "output_type": "execute_result"
    }
   ],
   "source": [
    "y = np.concatenate((laser_label, orig_label))\n",
    "y.shape"
   ]
  },
  {
   "cell_type": "code",
   "execution_count": 59,
   "id": "944d9fa9",
   "metadata": {},
   "outputs": [],
   "source": [
    "X_train, X_test, y_train, y_test = train_test_split(X, y, test_size=0.33, random_state=42)"
   ]
  },
  {
   "cell_type": "code",
   "execution_count": 60,
   "id": "fcfad5f1",
   "metadata": {},
   "outputs": [
    {
     "data": {
      "text/plain": [
       "(79, 387)"
      ]
     },
     "execution_count": 60,
     "metadata": {},
     "output_type": "execute_result"
    }
   ],
   "source": [
    "X_train.shape"
   ]
  },
  {
   "cell_type": "code",
   "execution_count": 61,
   "id": "98aecccb",
   "metadata": {},
   "outputs": [
    {
     "data": {
      "text/plain": [
       "(79,)"
      ]
     },
     "execution_count": 61,
     "metadata": {},
     "output_type": "execute_result"
    }
   ],
   "source": [
    "y_train.shape"
   ]
  },
  {
   "cell_type": "code",
   "execution_count": 62,
   "id": "0e5e0591",
   "metadata": {},
   "outputs": [
    {
     "data": {
      "text/plain": [
       "Pipeline(steps=[('standardscaler', StandardScaler()),\n",
       "                ('linearsvc', LinearSVC())])"
      ]
     },
     "execution_count": 62,
     "metadata": {},
     "output_type": "execute_result"
    }
   ],
   "source": [
    "clf.fit(X_train, y_train)"
   ]
  },
  {
   "cell_type": "code",
   "execution_count": 63,
   "id": "a74aea52",
   "metadata": {},
   "outputs": [],
   "source": [
    "y_pred = clf.predict(X_test)"
   ]
  },
  {
   "cell_type": "code",
   "execution_count": 64,
   "id": "e4e6d0c5",
   "metadata": {},
   "outputs": [
    {
     "name": "stdout",
     "output_type": "stream",
     "text": [
      "accuracy =  0.8717948717948718\n"
     ]
    }
   ],
   "source": [
    "print(\"accuracy = \", accuracy_score(y_test, y_pred))"
   ]
  },
  {
   "cell_type": "code",
   "execution_count": null,
   "id": "c8d05328",
   "metadata": {},
   "outputs": [],
   "source": [
    "confusion_matrix(y_test, y_pred, labels=[\"ant\", \"bird\", \"cat\"])"
   ]
  }
 ],
 "metadata": {
  "kernelspec": {
   "display_name": "laser_injection",
   "language": "python",
   "name": "laser_injection"
  },
  "language_info": {
   "codemirror_mode": {
    "name": "ipython",
    "version": 3
   },
   "file_extension": ".py",
   "mimetype": "text/x-python",
   "name": "python",
   "nbconvert_exporter": "python",
   "pygments_lexer": "ipython3",
   "version": "3.8.10"
  }
 },
 "nbformat": 4,
 "nbformat_minor": 5
}
