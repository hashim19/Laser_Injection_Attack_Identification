{
 "cells": [
  {
   "cell_type": "code",
   "execution_count": 47,
   "id": "6285949d",
   "metadata": {},
   "outputs": [],
   "source": [
    "import pywt\n",
    "import os\n",
    "import pandas as pd\n",
    "import librosa\n",
    "import librosa.display\n",
    "import glob \n",
    "import numpy as np\n",
    "import matplotlib.pyplot as plt\n",
    "from matplotlib import cm\n",
    "import seaborn as sns\n",
    "from fitter import Fitter, get_common_distributions, get_distributions, HistFit\n",
    "from distfit import distfit\n",
    "from matplotlib.ticker import FormatStrFormatter\n",
    "\n",
    "from sklearn.preprocessing import StandardScaler\n",
    "import sklearn\n",
    "\n",
    "from utils import plot_projections\n",
    "\n",
    "from scipy.stats import kurtosis, skew\n",
    "from scipy import stats\n",
    "\n",
    "import random\n",
    "\n",
    "%matplotlib widget"
   ]
  },
  {
   "cell_type": "code",
   "execution_count": 2,
   "id": "4dff7396",
   "metadata": {},
   "outputs": [
    {
     "name": "stdout",
     "output_type": "stream",
     "text": [
      "['/home/hashim/PHD/audio_data/AllAudioSamples/Laser/speaker10_001.wav', '/home/hashim/PHD/audio_data/AllAudioSamples/Laser/speaker10_002.wav', '/home/hashim/PHD/audio_data/AllAudioSamples/Laser/speaker10_003.wav', '/home/hashim/PHD/audio_data/AllAudioSamples/Laser/speaker10_004.wav', '/home/hashim/PHD/audio_data/AllAudioSamples/Laser/speaker10_005.wav', '/home/hashim/PHD/audio_data/AllAudioSamples/Laser/speaker1_001.wav', '/home/hashim/PHD/audio_data/AllAudioSamples/Laser/speaker1_002.wav', '/home/hashim/PHD/audio_data/AllAudioSamples/Laser/speaker1_003.wav', '/home/hashim/PHD/audio_data/AllAudioSamples/Laser/speaker1_004.wav', '/home/hashim/PHD/audio_data/AllAudioSamples/Laser/speaker1_005.wav', '/home/hashim/PHD/audio_data/AllAudioSamples/Laser/speaker2_001.wav', '/home/hashim/PHD/audio_data/AllAudioSamples/Laser/speaker2_002.wav', '/home/hashim/PHD/audio_data/AllAudioSamples/Laser/speaker2_003.wav', '/home/hashim/PHD/audio_data/AllAudioSamples/Laser/speaker2_004.wav', '/home/hashim/PHD/audio_data/AllAudioSamples/Laser/speaker2_005.wav', '/home/hashim/PHD/audio_data/AllAudioSamples/Laser/speaker3_001.wav', '/home/hashim/PHD/audio_data/AllAudioSamples/Laser/speaker3_002.wav', '/home/hashim/PHD/audio_data/AllAudioSamples/Laser/speaker3_003.wav', '/home/hashim/PHD/audio_data/AllAudioSamples/Laser/speaker3_004.wav', '/home/hashim/PHD/audio_data/AllAudioSamples/Laser/speaker3_005.wav', '/home/hashim/PHD/audio_data/AllAudioSamples/Laser/speaker4_001.wav', '/home/hashim/PHD/audio_data/AllAudioSamples/Laser/speaker4_002.wav', '/home/hashim/PHD/audio_data/AllAudioSamples/Laser/speaker4_003.wav', '/home/hashim/PHD/audio_data/AllAudioSamples/Laser/speaker4_004.wav', '/home/hashim/PHD/audio_data/AllAudioSamples/Laser/speaker4_005.wav', '/home/hashim/PHD/audio_data/AllAudioSamples/Laser/speaker5_001.wav', '/home/hashim/PHD/audio_data/AllAudioSamples/Laser/speaker5_002.wav', '/home/hashim/PHD/audio_data/AllAudioSamples/Laser/speaker5_003.wav', '/home/hashim/PHD/audio_data/AllAudioSamples/Laser/speaker5_004.wav', '/home/hashim/PHD/audio_data/AllAudioSamples/Laser/speaker5_005.wav', '/home/hashim/PHD/audio_data/AllAudioSamples/Laser/speaker6_001.wav', '/home/hashim/PHD/audio_data/AllAudioSamples/Laser/speaker6_002.wav', '/home/hashim/PHD/audio_data/AllAudioSamples/Laser/speaker6_003.wav', '/home/hashim/PHD/audio_data/AllAudioSamples/Laser/speaker6_004.wav', '/home/hashim/PHD/audio_data/AllAudioSamples/Laser/speaker6_005.wav', '/home/hashim/PHD/audio_data/AllAudioSamples/Laser/speaker7_001.wav', '/home/hashim/PHD/audio_data/AllAudioSamples/Laser/speaker7_002.wav', '/home/hashim/PHD/audio_data/AllAudioSamples/Laser/speaker7_003.wav', '/home/hashim/PHD/audio_data/AllAudioSamples/Laser/speaker7_004.wav', '/home/hashim/PHD/audio_data/AllAudioSamples/Laser/speaker7_005.wav', '/home/hashim/PHD/audio_data/AllAudioSamples/Laser/speaker8_001.wav', '/home/hashim/PHD/audio_data/AllAudioSamples/Laser/speaker8_002.wav', '/home/hashim/PHD/audio_data/AllAudioSamples/Laser/speaker8_003.wav', '/home/hashim/PHD/audio_data/AllAudioSamples/Laser/speaker8_004.wav', '/home/hashim/PHD/audio_data/AllAudioSamples/Laser/speaker8_005.wav', '/home/hashim/PHD/audio_data/AllAudioSamples/Laser/speaker9_001.wav', '/home/hashim/PHD/audio_data/AllAudioSamples/Laser/speaker9_002.wav', '/home/hashim/PHD/audio_data/AllAudioSamples/Laser/speaker9_003.wav', '/home/hashim/PHD/audio_data/AllAudioSamples/Laser/speaker9_004.wav', '/home/hashim/PHD/audio_data/AllAudioSamples/Laser/speaker9_005.wav']\n",
      "50\n"
     ]
    }
   ],
   "source": [
    "laser_dir = '/home/hashim/PHD/audio_data/AllAudioSamples/Laser/'\n",
    "laser_files = list(glob.glob(os.path.join(laser_dir, '*.wav')))\n",
    "laser_files.sort()\n",
    "print(laser_files)\n",
    "print(len(laser_files))"
   ]
  },
  {
   "cell_type": "code",
   "execution_count": 3,
   "id": "330d3ce0",
   "metadata": {},
   "outputs": [
    {
     "name": "stdout",
     "output_type": "stream",
     "text": [
      "['/home/hashim/PHD/audio_data/AllAudioSamples/Original/speaker10_001.wav', '/home/hashim/PHD/audio_data/AllAudioSamples/Original/speaker10_002.wav', '/home/hashim/PHD/audio_data/AllAudioSamples/Original/speaker10_003.wav', '/home/hashim/PHD/audio_data/AllAudioSamples/Original/speaker10_004.wav', '/home/hashim/PHD/audio_data/AllAudioSamples/Original/speaker10_005.wav', '/home/hashim/PHD/audio_data/AllAudioSamples/Original/speaker1_001.wav', '/home/hashim/PHD/audio_data/AllAudioSamples/Original/speaker1_002.wav', '/home/hashim/PHD/audio_data/AllAudioSamples/Original/speaker1_003.wav', '/home/hashim/PHD/audio_data/AllAudioSamples/Original/speaker1_004.wav', '/home/hashim/PHD/audio_data/AllAudioSamples/Original/speaker1_005.wav', '/home/hashim/PHD/audio_data/AllAudioSamples/Original/speaker2_001.wav', '/home/hashim/PHD/audio_data/AllAudioSamples/Original/speaker2_002.wav', '/home/hashim/PHD/audio_data/AllAudioSamples/Original/speaker2_003.wav', '/home/hashim/PHD/audio_data/AllAudioSamples/Original/speaker2_004.wav', '/home/hashim/PHD/audio_data/AllAudioSamples/Original/speaker2_005.wav', '/home/hashim/PHD/audio_data/AllAudioSamples/Original/speaker3_001.wav', '/home/hashim/PHD/audio_data/AllAudioSamples/Original/speaker3_002.wav', '/home/hashim/PHD/audio_data/AllAudioSamples/Original/speaker3_003.wav', '/home/hashim/PHD/audio_data/AllAudioSamples/Original/speaker3_004.wav', '/home/hashim/PHD/audio_data/AllAudioSamples/Original/speaker3_005.wav', '/home/hashim/PHD/audio_data/AllAudioSamples/Original/speaker4_001.wav', '/home/hashim/PHD/audio_data/AllAudioSamples/Original/speaker4_002.wav', '/home/hashim/PHD/audio_data/AllAudioSamples/Original/speaker4_003.wav', '/home/hashim/PHD/audio_data/AllAudioSamples/Original/speaker4_004.wav', '/home/hashim/PHD/audio_data/AllAudioSamples/Original/speaker4_005.wav', '/home/hashim/PHD/audio_data/AllAudioSamples/Original/speaker5_001.wav', '/home/hashim/PHD/audio_data/AllAudioSamples/Original/speaker5_002.wav', '/home/hashim/PHD/audio_data/AllAudioSamples/Original/speaker5_003.wav', '/home/hashim/PHD/audio_data/AllAudioSamples/Original/speaker5_004.wav', '/home/hashim/PHD/audio_data/AllAudioSamples/Original/speaker5_005.wav', '/home/hashim/PHD/audio_data/AllAudioSamples/Original/speaker6_001.wav', '/home/hashim/PHD/audio_data/AllAudioSamples/Original/speaker6_002.wav', '/home/hashim/PHD/audio_data/AllAudioSamples/Original/speaker6_003.wav', '/home/hashim/PHD/audio_data/AllAudioSamples/Original/speaker6_004.wav', '/home/hashim/PHD/audio_data/AllAudioSamples/Original/speaker6_005.wav', '/home/hashim/PHD/audio_data/AllAudioSamples/Original/speaker7_001.wav', '/home/hashim/PHD/audio_data/AllAudioSamples/Original/speaker7_002.wav', '/home/hashim/PHD/audio_data/AllAudioSamples/Original/speaker7_003.wav', '/home/hashim/PHD/audio_data/AllAudioSamples/Original/speaker7_004.wav', '/home/hashim/PHD/audio_data/AllAudioSamples/Original/speaker7_005.wav', '/home/hashim/PHD/audio_data/AllAudioSamples/Original/speaker8_001.wav', '/home/hashim/PHD/audio_data/AllAudioSamples/Original/speaker8_002.wav', '/home/hashim/PHD/audio_data/AllAudioSamples/Original/speaker8_003.wav', '/home/hashim/PHD/audio_data/AllAudioSamples/Original/speaker8_004.wav', '/home/hashim/PHD/audio_data/AllAudioSamples/Original/speaker8_005.wav', '/home/hashim/PHD/audio_data/AllAudioSamples/Original/speaker9_001.wav', '/home/hashim/PHD/audio_data/AllAudioSamples/Original/speaker9_002.wav', '/home/hashim/PHD/audio_data/AllAudioSamples/Original/speaker9_003.wav', '/home/hashim/PHD/audio_data/AllAudioSamples/Original/speaker9_004.wav', '/home/hashim/PHD/audio_data/AllAudioSamples/Original/speaker9_005.wav']\n",
      "50\n"
     ]
    }
   ],
   "source": [
    "orig_dir = '/home/hashim/PHD/audio_data/AllAudioSamples/Original/'\n",
    "orig_files = list(glob.glob(os.path.join(orig_dir, '*wav')))\n",
    "orig_files.sort()\n",
    "print(orig_files)\n",
    "print(len(orig_files))"
   ]
  },
  {
   "cell_type": "code",
   "execution_count": 4,
   "id": "1eaaa8e3",
   "metadata": {},
   "outputs": [],
   "source": [
    "db1 = pywt.Wavelet('db1')"
   ]
  },
  {
   "cell_type": "code",
   "execution_count": 5,
   "id": "c45f4576",
   "metadata": {},
   "outputs": [],
   "source": [
    "sample_id = 10"
   ]
  },
  {
   "cell_type": "markdown",
   "id": "5ea3357c",
   "metadata": {},
   "source": [
    "## Computing Coefficients"
   ]
  },
  {
   "cell_type": "code",
   "execution_count": 41,
   "id": "ef98a613",
   "metadata": {},
   "outputs": [],
   "source": [
    "laser_sample = laser_files[sample_id]\n",
    "gen_sample = orig_files[sample_id]\n",
    "\n",
    "laser_audio, sr = librosa.load(laser_sample, res_type='kaiser_fast')\n",
    "gen_audio, sr = librosa.load(gen_sample, res_type='kaiser_fast')\n",
    "\n",
    "laser_coeffs = pywt.wavedec(laser_audio, db1, mode='constant', level=5)\n",
    "gen_coeffs = pywt.wavedec(gen_audio, db1, mode='constant', level=5)"
   ]
  },
  {
   "cell_type": "code",
   "execution_count": 7,
   "id": "8ca8329f",
   "metadata": {},
   "outputs": [],
   "source": [
    "laser_coeffs = [l.tolist() for l in laser_coeffs]\n",
    "gen_coeffs = [l.tolist() for l in gen_coeffs]"
   ]
  },
  {
   "cell_type": "markdown",
   "id": "fcc827d7",
   "metadata": {},
   "source": [
    "### Coeff 0"
   ]
  },
  {
   "cell_type": "code",
   "execution_count": 44,
   "id": "929b755d",
   "metadata": {},
   "outputs": [
    {
     "data": {
      "application/vnd.jupyter.widget-view+json": {
       "model_id": "bd3499a58e9a441d96bb276ce9254b7a",
       "version_major": 2,
       "version_minor": 0
      },
      "text/plain": [
       "Canvas(toolbar=Toolbar(toolitems=[('Home', 'Reset original view', 'home', 'home'), ('Back', 'Back to previous …"
      ]
     },
     "metadata": {},
     "output_type": "display_data"
    },
    {
     "name": "stdout",
     "output_type": "stream",
     "text": [
      "[distfit] >fit..\n",
      "[distfit] >transform..\n",
      "[distfit] >[norm      ] [0.00 sec] [RSS: 4133.95] [loc=-0.000 scale=0.011]\n",
      "[distfit] >[expon     ] [0.00 sec] [RSS: 14979.5] [loc=-0.072 scale=0.072]\n",
      "[distfit] >[pareto    ] [0.06 sec] [RSS: 15423.9] [loc=-2196.089 scale=2196.017]\n",
      "[distfit] >[dweibull  ] [0.05 sec] [RSS: 3627.09] [loc=-0.000 scale=0.006]\n",
      "[distfit] >[t         ] [0.02 sec] [RSS: 71.0948] [loc=-0.000 scale=0.005]\n",
      "[distfit] >[genextreme] [0.04 sec] [RSS: 6042.43] [loc=-0.000 scale=0.013]\n",
      "[distfit] >[gamma     ] [0.04 sec] [RSS: 4153.93] [loc=-0.424 scale=0.000]\n",
      "[distfit] >[lognorm   ] [0.07 sec] [RSS: 4120.11] [loc=-0.953 scale=0.953]\n",
      "[distfit] >[beta      ] [0.02 sec] [RSS: 4132.77] [loc=-2.222 scale=12.151]\n",
      "[distfit] >[uniform   ] [0.00 sec] [RSS: 13423.9] [loc=-0.072 scale=0.130]\n",
      "[distfit] >[loggamma  ] [0.04 sec] [RSS: 4158.13] [loc=-3.379 scale=0.458]\n",
      "[distfit] >Compute confidence interval [parametric]\n",
      "[distfit] >plot..\n",
      "[distfit] >fit..\n",
      "[distfit] >transform..\n",
      "[distfit] >[norm      ] [0.00 sec] [RSS: 594.958] [loc=-0.000 scale=0.005]\n",
      "[distfit] >[expon     ] [0.00 sec] [RSS: 58325.4] [loc=-0.024 scale=0.024]\n",
      "[distfit] >[pareto    ] [0.03 sec] [RSS: 59655.5] [loc=-0.106 scale=0.082]\n",
      "[distfit] >[dweibull  ] [0.00 sec] [RSS: 450.102] [loc=-0.000 scale=0.004]\n",
      "[distfit] >[t         ] [0.01 sec] [RSS: 1689.95] [loc=-0.000 scale=0.003]\n",
      "[distfit] >[genextreme] [0.05 sec] [RSS: 4425.11] [loc=-0.000 scale=0.005]\n",
      "[distfit] >[gamma     ] [0.04 sec] [RSS: 570.302] [loc=-0.157 scale=0.000]\n",
      "[distfit] >[lognorm   ] [0.08 sec] [RSS: 566.735] [loc=-0.271 scale=0.270]\n",
      "[distfit] >[beta      ] [0.07 sec] [RSS: 571.666] [loc=-0.207 scale=4.501]\n",
      "[distfit] >[uniform   ] [0.00 sec] [RSS: 45966.5] [loc=-0.024 scale=0.045]\n",
      "[distfit] >[loggamma  ] [0.04 sec] [RSS: 667.795] [loc=-1.072 scale=0.153]\n",
      "[distfit] >Compute confidence interval [parametric]\n",
      "[distfit] >plot..\n"
     ]
    }
   ],
   "source": [
    "%matplotlib widget\n",
    "# fig, ax = plt.subplots(2, 1, figsize=(9,6))\n",
    "fig, ax = plt.subplots(figsize=(9,5))\n",
    "\n",
    "save_fig = False\n",
    "\n",
    "# fig = plt.figure(figsize=(9,5))\n",
    "# fig.add_axes()\n",
    "# print(fig.axes)\n",
    "\n",
    "n_bins = 150\n",
    "\n",
    "#####  distfit example  ######\n",
    "\n",
    "# gen_hist, x_gen = np.histogram(gen_coeffs[0], bins=n_bins, density=True)\n",
    "# laser_hist, x_laser = np.histogram(laser_coeffs[0], bins=n_bins, density=True)\n",
    "\n",
    "# plt.hist(gen_coeffs[0], n_bins, label = 'acoustic induced audio')\n",
    "# plt.hist(laser_coeffs[0], n_bins, label = 'laser induced audio')\n",
    "\n",
    "# # plt.bar(x_gen, gen_hist, label = 'acoustic induced audio')\n",
    "# # plt.bar(x_laser, laser_hist, label = 'acoustic induced audio')\n",
    "\n",
    "# Initialize\n",
    "gen_dist = distfit()\n",
    "gen_res = gen_dist.fit_transform(gen_coeffs[0])\n",
    "gen_dist.plot(ax = ax)\n",
    "\n",
    "las_dist = distfit()\n",
    "las_res = las_dist.fit_transform(laser_coeffs[0])\n",
    "las_dist.plot(ax=ax)\n",
    "\n",
    "# plt.legend(loc='upper right')\n",
    "\n",
    "# plt.axvline(np.mean(gen_coeffs[0]), color='r', linestyle='dashed', linewidth=1)\n",
    "\n",
    "# plt.title('Laser-induced vs Acoustic-induced Audio Distribution for Approximation Coefficient, CA5')\n",
    "\n",
    "\n",
    "######  Using Fitter  ######\n",
    "\n",
    "# gen = Fitter(gen_coeffs[0], distributions= get_common_distributions(), bins=n_bins)\n",
    "# gen.fit()\n",
    "\n",
    "# # gen._density = False\n",
    "# # print(gen._density)\n",
    "\n",
    "# gen.plot_pdf(Nbest=1)\n",
    "# # gen_df = gen.summary(Nbest=1)\n",
    "\n",
    "# # print(gen_df)\n",
    "\n",
    "# laser = Fitter(laser_coeffs[0], distributions= get_common_distributions(), bins=n_bins)\n",
    "# laser.fit()\n",
    "\n",
    "# laser.plot_pdf(Nbest=1)\n",
    "\n",
    "# laser_df = laser.summary(Nbest=1)\n",
    "\n",
    "\n",
    "# hf_gen = HistFit(gen_coeffs[0], bins=n_bins)\n",
    "# hf_laser = HistFit(laser_coeffs[0], bins=n_bins)\n",
    "\n",
    "# hf_gen.fit(error_rate=0.03, Nfit=20)\n",
    "# hf_laser.fit(error_rate=0.03, Nfit=20)\n",
    "\n",
    "\n",
    "\n",
    "if save_fig:\n",
    "    if not os.path.exists('Distribution/'):\n",
    "        os.makedirs('Distribution/')\n",
    "        \n",
    "    r_int = random.randint(0,10)\n",
    "    plt.savefig('Distribution/' + 'Distri_' + str(r_int) + '.png')\n",
    "\n",
    "# ax[0].hist(laser_coeffs[0], bins='auto')\n",
    "# ax[0].set(title='Laser Audio Distribution for Coeff 1')\n",
    "# ax[0].label_outer()\n",
    "\n",
    "# ax[1].hist(gen_coeffs[0], bins='auto')\n",
    "# ax[0].set(title='Genuine Audio Distribution for Coeff 1')\n",
    "# ax[0].label_outer()"
   ]
  },
  {
   "cell_type": "code",
   "execution_count": 30,
   "id": "8b90121e",
   "metadata": {},
   "outputs": [
    {
     "data": {
      "text/html": [
       "\n",
       "            <div style=\"float: left; border: 1px solid black; width:500px\">\n",
       "              <div id=\"2be810fb-67dc-4e7c-b575-ccb6648abcbf\" style=\"background-color:blue; width:0%\">&nbsp;</div>\n",
       "            </div>\n",
       "            <label id=\"27459e4c-8124-41d5-bf2c-339f5ae8c193\" style=\"padding-left: 10px;\" text = \"\"/>\n",
       "            "
      ],
      "text/plain": [
       "<IPython.core.display.HTML object>"
      ]
     },
     "metadata": {},
     "output_type": "display_data"
    },
    {
     "data": {
      "application/vnd.jupyter.widget-view+json": {
       "model_id": "41006b6276bd433681bb8a1d7f3509ef",
       "version_major": 2,
       "version_minor": 0
      },
      "text/plain": [
       "Canvas(toolbar=Toolbar(toolitems=[('Home', 'Reset original view', 'home', 'home'), ('Back', 'Back to previous …"
      ]
     },
     "metadata": {},
     "output_type": "display_data"
    },
    {
     "data": {
      "text/html": [
       "<div>\n",
       "<style scoped>\n",
       "    .dataframe tbody tr th:only-of-type {\n",
       "        vertical-align: middle;\n",
       "    }\n",
       "\n",
       "    .dataframe tbody tr th {\n",
       "        vertical-align: top;\n",
       "    }\n",
       "\n",
       "    .dataframe thead th {\n",
       "        text-align: right;\n",
       "    }\n",
       "</style>\n",
       "<table border=\"1\" class=\"dataframe\">\n",
       "  <thead>\n",
       "    <tr style=\"text-align: right;\">\n",
       "      <th></th>\n",
       "      <th>sumsquare_error</th>\n",
       "      <th>aic</th>\n",
       "      <th>bic</th>\n",
       "      <th>kl_div</th>\n",
       "    </tr>\n",
       "  </thead>\n",
       "  <tbody>\n",
       "    <tr>\n",
       "      <th>cauchy</th>\n",
       "      <td>1173.464068</td>\n",
       "      <td>-159.412291</td>\n",
       "      <td>-2316.923459</td>\n",
       "      <td>inf</td>\n",
       "    </tr>\n",
       "    <tr>\n",
       "      <th>rayleigh</th>\n",
       "      <td>6269.921900</td>\n",
       "      <td>inf</td>\n",
       "      <td>2283.157923</td>\n",
       "      <td>inf</td>\n",
       "    </tr>\n",
       "    <tr>\n",
       "      <th>lognorm</th>\n",
       "      <td>13046.010460</td>\n",
       "      <td>678.377713</td>\n",
       "      <td>4302.387678</td>\n",
       "      <td>inf</td>\n",
       "    </tr>\n",
       "    <tr>\n",
       "      <th>norm</th>\n",
       "      <td>13086.790692</td>\n",
       "      <td>635.305241</td>\n",
       "      <td>4303.037293</td>\n",
       "      <td>inf</td>\n",
       "    </tr>\n",
       "    <tr>\n",
       "      <th>gamma</th>\n",
       "      <td>13149.234939</td>\n",
       "      <td>685.984498</td>\n",
       "      <td>4324.021578</td>\n",
       "      <td>inf</td>\n",
       "    </tr>\n",
       "  </tbody>\n",
       "</table>\n",
       "</div>"
      ],
      "text/plain": [
       "          sumsquare_error         aic          bic  kl_div\n",
       "cauchy        1173.464068 -159.412291 -2316.923459     inf\n",
       "rayleigh      6269.921900         inf  2283.157923     inf\n",
       "lognorm      13046.010460  678.377713  4302.387678     inf\n",
       "norm         13086.790692  635.305241  4303.037293     inf\n",
       "gamma        13149.234939  685.984498  4324.021578     inf"
      ]
     },
     "execution_count": 30,
     "metadata": {},
     "output_type": "execute_result"
    }
   ],
   "source": [
    "%matplotlib widget\n",
    "f = Fitter(gen_coeffs[0], distributions= get_common_distributions(), bins=n_bins, density=False)\n",
    "# f._density = False\n",
    "f.fit()\n",
    "f.summary()"
   ]
  },
  {
   "cell_type": "code",
   "execution_count": null,
   "id": "31ef56d4",
   "metadata": {},
   "outputs": [],
   "source": []
  },
  {
   "cell_type": "markdown",
   "id": "734154dd",
   "metadata": {},
   "source": [
    "### Coeff 1"
   ]
  },
  {
   "cell_type": "code",
   "execution_count": 34,
   "id": "7b7f4acd",
   "metadata": {},
   "outputs": [
    {
     "data": {
      "text/html": [
       "\n",
       "            <div style=\"float: left; border: 1px solid black; width:500px\">\n",
       "              <div id=\"1db84a54-dd35-46f2-9e83-a3682c18fe35\" style=\"background-color:blue; width:0%\">&nbsp;</div>\n",
       "            </div>\n",
       "            <label id=\"95c81d1b-1731-4f10-828c-8b6978b08463\" style=\"padding-left: 10px;\" text = \"\"/>\n",
       "            "
      ],
      "text/plain": [
       "<IPython.core.display.HTML object>"
      ]
     },
     "metadata": {},
     "output_type": "display_data"
    },
    {
     "data": {
      "application/vnd.jupyter.widget-view+json": {
       "model_id": "82b7b50c5c8c46f19d8d454033214b86",
       "version_major": 2,
       "version_minor": 0
      },
      "text/plain": [
       "Canvas(toolbar=Toolbar(toolitems=[('Home', 'Reset original view', 'home', 'home'), ('Back', 'Back to previous …"
      ]
     },
     "metadata": {},
     "output_type": "display_data"
    },
    {
     "data": {
      "text/html": [
       "\n",
       "            <div style=\"float: left; border: 1px solid black; width:500px\">\n",
       "              <div id=\"bc0ab2ec-28c9-4790-b492-6fb7beaf9531\" style=\"background-color:blue; width:0%\">&nbsp;</div>\n",
       "            </div>\n",
       "            <label id=\"cc5edb4f-ad5a-439c-8517-856c2c04b5c9\" style=\"padding-left: 10px;\" text = \"\"/>\n",
       "            "
      ],
      "text/plain": [
       "<IPython.core.display.HTML object>"
      ]
     },
     "metadata": {},
     "output_type": "display_data"
    }
   ],
   "source": [
    "%matplotlib widget\n",
    "# plt.figure(figsize=(9,5))\n",
    "\n",
    "n_bins = 150\n",
    "\n",
    "# plt.hist(gen_coeffs[1], n_bins, label = 'acoustic induced audio')\n",
    "# plt.hist(laser_coeffs[1], n_bins, label = 'laser induced audio')\n",
    "# plt.legend(loc='upper right')\n",
    "\n",
    "# plt.title('Laser-induced vs Acoustic-induced Audio Distribution for Approximation Coefficient')\n",
    "\n",
    "gen = Fitter(gen_coeffs[1], distributions= get_common_distributions(), bins=n_bins)\n",
    "gen.fit()\n",
    "gen.plot_pdf(Nbest=1)\n",
    "\n",
    "laser = Fitter(laser_coeffs[1], distributions= get_common_distributions(), bins=n_bins)\n",
    "laser.fit()\n",
    "\n",
    "laser.plot_pdf(Nbest=1)"
   ]
  },
  {
   "cell_type": "markdown",
   "id": "cc3dbb47",
   "metadata": {},
   "source": [
    "### Coeff 2"
   ]
  },
  {
   "cell_type": "code",
   "execution_count": 35,
   "id": "d3223fca",
   "metadata": {},
   "outputs": [
    {
     "data": {
      "text/html": [
       "\n",
       "            <div style=\"float: left; border: 1px solid black; width:500px\">\n",
       "              <div id=\"12d6a52c-bf21-441e-842b-2c098b639ef7\" style=\"background-color:blue; width:0%\">&nbsp;</div>\n",
       "            </div>\n",
       "            <label id=\"3c12b911-7fc2-4e3f-b18a-99eda76e1fc5\" style=\"padding-left: 10px;\" text = \"\"/>\n",
       "            "
      ],
      "text/plain": [
       "<IPython.core.display.HTML object>"
      ]
     },
     "metadata": {},
     "output_type": "display_data"
    },
    {
     "data": {
      "application/vnd.jupyter.widget-view+json": {
       "model_id": "a26ce376ab9147f4ac438adf3483451c",
       "version_major": 2,
       "version_minor": 0
      },
      "text/plain": [
       "Canvas(toolbar=Toolbar(toolitems=[('Home', 'Reset original view', 'home', 'home'), ('Back', 'Back to previous …"
      ]
     },
     "metadata": {},
     "output_type": "display_data"
    },
    {
     "data": {
      "text/html": [
       "\n",
       "            <div style=\"float: left; border: 1px solid black; width:500px\">\n",
       "              <div id=\"515f816d-55e2-401d-a1e2-4a8b30ee05ae\" style=\"background-color:blue; width:0%\">&nbsp;</div>\n",
       "            </div>\n",
       "            <label id=\"1285a57d-69f6-4e88-b1bd-25b4c190dc6b\" style=\"padding-left: 10px;\" text = \"\"/>\n",
       "            "
      ],
      "text/plain": [
       "<IPython.core.display.HTML object>"
      ]
     },
     "metadata": {},
     "output_type": "display_data"
    }
   ],
   "source": [
    "%matplotlib widget\n",
    "\n",
    "n_bins = 150\n",
    "\n",
    "gen = Fitter(gen_coeffs[2], distributions= get_common_distributions(), bins=n_bins)\n",
    "gen.fit()\n",
    "gen.plot_pdf(Nbest=1)\n",
    "\n",
    "laser = Fitter(laser_coeffs[2], distributions= get_common_distributions(), bins=n_bins)\n",
    "laser.fit()\n",
    "\n",
    "laser.plot_pdf(Nbest=1)\n",
    "\n",
    "# plt.figure(figsize=(9,5))\n",
    "\n",
    "# n_bins = 150\n",
    "\n",
    "# plt.hist(gen_coeffs[2], n_bins, label = 'acoustic induced audio')\n",
    "# plt.hist(laser_coeffs[2], n_bins, label = 'laser induced audio')\n",
    "# plt.legend(loc='upper right')\n",
    "\n",
    "# plt.title('Laser vs Genuine Audio Distribution for Approximation Coefficient')"
   ]
  },
  {
   "cell_type": "markdown",
   "id": "1f0d1fbb",
   "metadata": {},
   "source": [
    "### Coeff 3"
   ]
  },
  {
   "cell_type": "code",
   "execution_count": 36,
   "id": "66979cc3",
   "metadata": {},
   "outputs": [
    {
     "data": {
      "text/html": [
       "\n",
       "            <div style=\"float: left; border: 1px solid black; width:500px\">\n",
       "              <div id=\"299d00b3-fab2-4450-8218-4d1a498a75de\" style=\"background-color:blue; width:0%\">&nbsp;</div>\n",
       "            </div>\n",
       "            <label id=\"bc2b7bef-4a4d-4196-8c15-531b7a46ff56\" style=\"padding-left: 10px;\" text = \"\"/>\n",
       "            "
      ],
      "text/plain": [
       "<IPython.core.display.HTML object>"
      ]
     },
     "metadata": {},
     "output_type": "display_data"
    },
    {
     "data": {
      "application/vnd.jupyter.widget-view+json": {
       "model_id": "18d41959477143f2968fc7fe1efb6be9",
       "version_major": 2,
       "version_minor": 0
      },
      "text/plain": [
       "Canvas(toolbar=Toolbar(toolitems=[('Home', 'Reset original view', 'home', 'home'), ('Back', 'Back to previous …"
      ]
     },
     "metadata": {},
     "output_type": "display_data"
    },
    {
     "data": {
      "text/html": [
       "\n",
       "            <div style=\"float: left; border: 1px solid black; width:500px\">\n",
       "              <div id=\"41c63e3b-b0ea-4696-8f9b-bd670aac46e9\" style=\"background-color:blue; width:0%\">&nbsp;</div>\n",
       "            </div>\n",
       "            <label id=\"35921ce4-4f51-45ca-a86c-c3e83a0277f4\" style=\"padding-left: 10px;\" text = \"\"/>\n",
       "            "
      ],
      "text/plain": [
       "<IPython.core.display.HTML object>"
      ]
     },
     "metadata": {},
     "output_type": "display_data"
    }
   ],
   "source": [
    "%matplotlib widget\n",
    "\n",
    "n_bins = 150\n",
    "\n",
    "gen = Fitter(gen_coeffs[3], distributions= get_common_distributions(), bins=n_bins)\n",
    "gen.fit()\n",
    "gen.plot_pdf(Nbest=1)\n",
    "\n",
    "laser = Fitter(laser_coeffs[3], distributions= get_common_distributions(), bins=n_bins)\n",
    "laser.fit()\n",
    "\n",
    "laser.plot_pdf(Nbest=1)\n",
    "\n",
    "\n",
    "# plt.figure(figsize=(9,5))\n",
    "\n",
    "# n_bins = 150\n",
    "\n",
    "# plt.hist(gen_coeffs[3], n_bins, label = 'acoustic induced audio')\n",
    "# plt.hist(laser_coeffs[3], n_bins, label = 'laser induced audio')\n",
    "# plt.legend(loc='upper right')\n",
    "\n",
    "# plt.title('Laser vs Genuine Audio Distribution for Approximation Coefficient')"
   ]
  },
  {
   "cell_type": "markdown",
   "id": "3b69bcd2",
   "metadata": {},
   "source": [
    "### Coeff 4"
   ]
  },
  {
   "cell_type": "code",
   "execution_count": 37,
   "id": "801b1dbe",
   "metadata": {},
   "outputs": [
    {
     "data": {
      "text/html": [
       "\n",
       "            <div style=\"float: left; border: 1px solid black; width:500px\">\n",
       "              <div id=\"fc33d95f-66db-42c7-b85c-78317d598d75\" style=\"background-color:blue; width:0%\">&nbsp;</div>\n",
       "            </div>\n",
       "            <label id=\"31606281-f308-4b0c-9d00-2f7f5921f5c6\" style=\"padding-left: 10px;\" text = \"\"/>\n",
       "            "
      ],
      "text/plain": [
       "<IPython.core.display.HTML object>"
      ]
     },
     "metadata": {},
     "output_type": "display_data"
    },
    {
     "data": {
      "application/vnd.jupyter.widget-view+json": {
       "model_id": "fb34be2bf5c8460a836a8a20ba49b7b8",
       "version_major": 2,
       "version_minor": 0
      },
      "text/plain": [
       "Canvas(toolbar=Toolbar(toolitems=[('Home', 'Reset original view', 'home', 'home'), ('Back', 'Back to previous …"
      ]
     },
     "metadata": {},
     "output_type": "display_data"
    },
    {
     "data": {
      "text/html": [
       "\n",
       "            <div style=\"float: left; border: 1px solid black; width:500px\">\n",
       "              <div id=\"637f2359-f8ba-4642-b7b5-0d4f722bd9bf\" style=\"background-color:blue; width:0%\">&nbsp;</div>\n",
       "            </div>\n",
       "            <label id=\"9b06dd43-216c-4d59-9759-20a90b926089\" style=\"padding-left: 10px;\" text = \"\"/>\n",
       "            "
      ],
      "text/plain": [
       "<IPython.core.display.HTML object>"
      ]
     },
     "metadata": {},
     "output_type": "display_data"
    }
   ],
   "source": [
    "%matplotlib widget\n",
    "\n",
    "n_bins = 150\n",
    "\n",
    "gen = Fitter(gen_coeffs[4], distributions= get_common_distributions(), bins=n_bins)\n",
    "gen.fit()\n",
    "gen.plot_pdf(Nbest=1)\n",
    "\n",
    "laser = Fitter(laser_coeffs[4], distributions= get_common_distributions(), bins=n_bins)\n",
    "laser.fit()\n",
    "\n",
    "laser.plot_pdf(Nbest=1)\n",
    "\n",
    "\n",
    "# plt.figure(figsize=(9,5))\n",
    "\n",
    "# n_bins = 150\n",
    "\n",
    "# plt.hist(gen_coeffs[4], n_bins, label = 'acoustic induced audio')\n",
    "# plt.hist(laser_coeffs[4], n_bins, label = 'laser induced audio')\n",
    "# plt.legend(loc='upper right')\n",
    "\n",
    "# plt.title('Laser vs Genuine Audio Distribution for Approximation Coefficient')"
   ]
  },
  {
   "cell_type": "markdown",
   "id": "eb68296a",
   "metadata": {},
   "source": [
    "### Coeff 5"
   ]
  },
  {
   "cell_type": "code",
   "execution_count": 38,
   "id": "cd8b3392",
   "metadata": {},
   "outputs": [
    {
     "data": {
      "text/html": [
       "\n",
       "            <div style=\"float: left; border: 1px solid black; width:500px\">\n",
       "              <div id=\"9c3e0116-4936-4547-82ef-1d364d05f65f\" style=\"background-color:blue; width:0%\">&nbsp;</div>\n",
       "            </div>\n",
       "            <label id=\"c09025fe-88c9-4ace-8bae-149a4e20db00\" style=\"padding-left: 10px;\" text = \"\"/>\n",
       "            "
      ],
      "text/plain": [
       "<IPython.core.display.HTML object>"
      ]
     },
     "metadata": {},
     "output_type": "display_data"
    },
    {
     "data": {
      "application/vnd.jupyter.widget-view+json": {
       "model_id": "cfaf2571cf774d3698ba474ce74552d5",
       "version_major": 2,
       "version_minor": 0
      },
      "text/plain": [
       "Canvas(toolbar=Toolbar(toolitems=[('Home', 'Reset original view', 'home', 'home'), ('Back', 'Back to previous …"
      ]
     },
     "metadata": {},
     "output_type": "display_data"
    },
    {
     "data": {
      "text/html": [
       "\n",
       "            <div style=\"float: left; border: 1px solid black; width:500px\">\n",
       "              <div id=\"9fe1c836-a15d-4b13-83b1-fe55158ac515\" style=\"background-color:blue; width:0%\">&nbsp;</div>\n",
       "            </div>\n",
       "            <label id=\"1b3163ec-e4f8-44f1-a662-f809b3d25373\" style=\"padding-left: 10px;\" text = \"\"/>\n",
       "            "
      ],
      "text/plain": [
       "<IPython.core.display.HTML object>"
      ]
     },
     "metadata": {},
     "output_type": "display_data"
    }
   ],
   "source": [
    "%matplotlib widget\n",
    "\n",
    "n_bins = 150\n",
    "\n",
    "gen = Fitter(gen_coeffs[5], distributions= get_common_distributions(), bins=n_bins)\n",
    "gen.fit()\n",
    "gen.plot_pdf(Nbest=1)\n",
    "\n",
    "laser = Fitter(laser_coeffs[5], distributions= get_common_distributions(), bins=n_bins)\n",
    "laser.fit()\n",
    "\n",
    "laser.plot_pdf(Nbest=1)\n",
    "\n",
    "\n",
    "# plt.figure(figsize=(9,5))\n",
    "\n",
    "# n_bins = 150\n",
    "\n",
    "# plt.hist(gen_coeffs[5], n_bins, label = 'acoustic induced audio')\n",
    "# plt.hist(laser_coeffs[5], n_bins, label = 'laser induced audio')\n",
    "# plt.legend(loc='upper right')\n",
    "\n",
    "# plt.title('Laser vs Genuine Audio Distribution for Approximation Coefficient')"
   ]
  },
  {
   "cell_type": "markdown",
   "id": "d23f3e16",
   "metadata": {},
   "source": [
    "## Creating a subplot of all the figures"
   ]
  },
  {
   "cell_type": "code",
   "execution_count": 39,
   "id": "b7078a7a",
   "metadata": {},
   "outputs": [],
   "source": [
    "from matplotlib.ticker import FormatStrFormatter"
   ]
  },
  {
   "cell_type": "code",
   "execution_count": 16,
   "id": "0f72526c",
   "metadata": {},
   "outputs": [
    {
     "data": {
      "application/vnd.jupyter.widget-view+json": {
       "model_id": "f31bea82eb38493bbb224763e34da14e",
       "version_major": 2,
       "version_minor": 0
      },
      "text/plain": [
       "Canvas(toolbar=Toolbar(toolitems=[('Home', 'Reset original view', 'home', 'home'), ('Back', 'Back to previous …"
      ]
     },
     "metadata": {},
     "output_type": "display_data"
    }
   ],
   "source": [
    "fig, axes = plt.subplots(2, 3, figsize=(12,8))\n",
    "\n",
    "n_bins = 150\n",
    "\n",
    "save_fig = False\n",
    "\n",
    "for ax, c in zip(axes.flatten(), range(6)):\n",
    "    \n",
    "    ax.hist(gen_coeffs[c], n_bins, label = 'acoustic induced audio')\n",
    "    ax.hist(laser_coeffs[c], n_bins, label = 'laser induced audio')\n",
    "#     ax.legend(loc='upper right')\n",
    "\n",
    "    ax.axvline(np.mean(gen_coeffs[c]), color='r', linestyle='dashed', linewidth=1)\n",
    "    \n",
    "    ax.xaxis.set_major_formatter(FormatStrFormatter('%.2f'))\n",
    "#     ax.yaxis.set_major_formatter(FormatStrFormatter('%.2f'))\n",
    "    \n",
    "    ax.set_title('Coefficient {}'.format(c), fontsize = 10)\n",
    "    \n",
    "    if c == 2:\n",
    "        ax.legend(loc='upper right', prop={'size': 7})\n",
    "    \n",
    "# handles, labels = ax.get_legend_handles_labels()\n",
    "# fig.legend(handles, labels, loc='upper center', prop={'size': 8})\n",
    "\n",
    "if save_fig:\n",
    "    if not os.path.exists('Distribution/'):\n",
    "        os.makedirs('Distribution/')\n",
    "        \n",
    "#     r_int = random.randint(0,10)\n",
    "    plt.savefig('Distribution/' + 'Distri_all_coeff.png')\n"
   ]
  },
  {
   "cell_type": "code",
   "execution_count": 17,
   "id": "89098466",
   "metadata": {},
   "outputs": [],
   "source": [
    "import scipy.stats\n",
    "data = [scipy.stats.norm.rvs(2,3.4) for x in  range(10000)]"
   ]
  },
  {
   "cell_type": "code",
   "execution_count": 18,
   "id": "b2ebf608",
   "metadata": {},
   "outputs": [
    {
     "data": {
      "application/vnd.jupyter.widget-view+json": {
       "model_id": "ffbc0a743919474ba7b1ff5d448f8811",
       "version_major": 2,
       "version_minor": 0
      },
      "text/plain": [
       "Canvas(toolbar=Toolbar(toolitems=[('Home', 'Reset original view', 'home', 'home'), ('Back', 'Back to previous …"
      ]
     },
     "metadata": {},
     "output_type": "display_data"
    },
    {
     "data": {
      "application/vnd.jupyter.widget-view+json": {
       "model_id": "b0c8151ee8604fc79e83e7a53b1f0e44",
       "version_major": 2,
       "version_minor": 0
      },
      "text/plain": [
       "Canvas(toolbar=Toolbar(toolitems=[('Home', 'Reset original view', 'home', 'home'), ('Back', 'Back to previous …"
      ]
     },
     "metadata": {},
     "output_type": "display_data"
    },
    {
     "data": {
      "text/plain": [
       "(2.1216735889895344, 3.2942838481441727, 0.9646322062567059)"
      ]
     },
     "execution_count": 18,
     "metadata": {},
     "output_type": "execute_result"
    }
   ],
   "source": [
    "%matplotlib widget\n",
    "hf = HistFit(data, bins=30)\n",
    "hf.fit(error_rate=0.03, Nfit=20 )"
   ]
  },
  {
   "cell_type": "code",
   "execution_count": 19,
   "id": "448fac30",
   "metadata": {},
   "outputs": [],
   "source": [
    "distributions = []"
   ]
  },
  {
   "cell_type": "code",
   "execution_count": 50,
   "id": "74d4c996",
   "metadata": {},
   "outputs": [
    {
     "name": "stdout",
     "output_type": "stream",
     "text": [
      "cauchy: statistic=0.02461226488386034, pvalue=0.0707128492168847\n",
      "gamma: statistic=0.13579382589714437, pvalue=1.3096360745778292e-44\n",
      "lognorm: statistic=0.1363253461698456, pvalue=5.878793009896358e-45\n",
      "norm: statistic=0.13786233602674003, pvalue=5.696469220812121e-46\n",
      "chi2: statistic=0.1414414257193, pvalue=2.2403023367569e-48\n",
      "rayleigh: statistic=0.1625084886265462, pvalue=8.270793765056682e-64\n",
      "exponpow: statistic=0.23628090397989202, pvalue=2.6850639014392305e-135\n",
      "expon: statistic=0.48534950951771905, pvalue=0.0\n",
      "powerlaw: statistic=0.43670187813654393, pvalue=0.0\n",
      "uniform: statistic=0.37910598835658504, pvalue=0.0\n"
     ]
    }
   ],
   "source": [
    "# list_of_dists = ['alpha','anglit','arcsine','beta','betaprime','bradford','burr','burr12','cauchy','chi','chi2','cosine','dgamma','dweibull','erlang','expon','exponnorm','exponweib','exponpow','f','fatiguelife','fisk','foldcauchy','foldnorm','frechet_r','frechet_l','genlogistic','genpareto','gennorm','genexpon','genextreme','gausshyper','gamma','gengamma','genhalflogistic','gilbrat','gompertz','gumbel_r','gumbel_l','halfcauchy','halflogistic','halfnorm','halfgennorm','hypsecant','invgamma','invgauss','invweibull','johnsonsb','johnsonsu','kstwobign','laplace','levy','levy_l','logistic','loggamma','loglaplace','lognorm','lomax','maxwell','mielke','nakagami','ncx2','ncf','nct','norm','pareto','pearson3','powerlaw','powerlognorm','powernorm','rdist','reciprocal','rayleigh','rice','recipinvgauss','semicircular','t','triang','truncexpon','truncnorm','tukeylambda','uniform','vonmises','vonmises_line','wald','weibull_min','weibull_max']\n",
    "\n",
    "list_of_dists = get_common_distributions()\n",
    "\n",
    "# %%capture --no-stdout\n",
    "\n",
    "results = []\n",
    "for i in list_of_dists:\n",
    "    dist = getattr(stats, i)\n",
    "    param = dist.fit(gen_coeffs[0])\n",
    "    a = stats.kstest(gen_coeffs[0], i, args=param)\n",
    "    results.append((i,a[0],a[1]))\n",
    "    \n",
    "    \n",
    "results.sort(key=lambda x:float(x[2]), reverse=True)\n",
    "for j in results:\n",
    "    print(\"{}: statistic={}, pvalue={}\".format(j[0], j[1], j[2]))"
   ]
  },
  {
   "cell_type": "code",
   "execution_count": 49,
   "id": "45b1dde9",
   "metadata": {},
   "outputs": [
    {
     "data": {
      "text/plain": [
       "['cauchy',\n",
       " 'chi2',\n",
       " 'expon',\n",
       " 'exponpow',\n",
       " 'gamma',\n",
       " 'lognorm',\n",
       " 'norm',\n",
       " 'powerlaw',\n",
       " 'rayleigh',\n",
       " 'uniform']"
      ]
     },
     "execution_count": 49,
     "metadata": {},
     "output_type": "execute_result"
    }
   ],
   "source": [
    "get_common_distributions()"
   ]
  },
  {
   "cell_type": "code",
   "execution_count": 51,
   "id": "dbd80a85",
   "metadata": {},
   "outputs": [
    {
     "data": {
      "text/plain": [
       "[('cauchy', 0.02461226488386034, 0.0707128492168847),\n",
       " ('gamma', 0.13579382589714437, 1.3096360745778292e-44),\n",
       " ('lognorm', 0.1363253461698456, 5.878793009896358e-45),\n",
       " ('norm', 0.13786233602674003, 5.696469220812121e-46),\n",
       " ('chi2', 0.1414414257193, 2.2403023367569e-48),\n",
       " ('rayleigh', 0.1625084886265462, 8.270793765056682e-64),\n",
       " ('exponpow', 0.23628090397989202, 2.6850639014392305e-135),\n",
       " ('expon', 0.48534950951771905, 0.0),\n",
       " ('powerlaw', 0.43670187813654393, 0.0),\n",
       " ('uniform', 0.37910598835658504, 0.0)]"
      ]
     },
     "execution_count": 51,
     "metadata": {},
     "output_type": "execute_result"
    }
   ],
   "source": [
    "results"
   ]
  },
  {
   "cell_type": "code",
   "execution_count": 54,
   "id": "4fd2d9ea",
   "metadata": {},
   "outputs": [
    {
     "data": {
      "text/plain": [
       "<scipy.stats._continuous_distns.cauchy_gen at 0x7ff9c915d5b0>"
      ]
     },
     "execution_count": 54,
     "metadata": {},
     "output_type": "execute_result"
    }
   ],
   "source": [
    "distline = getattr(stats, results[0][0])\n",
    "distline"
   ]
  },
  {
   "cell_type": "code",
   "execution_count": 56,
   "id": "0b236424",
   "metadata": {},
   "outputs": [],
   "source": [
    "distribution = getattr(stats, results[0][0])\n",
    "# Get sane start and end points of distribution\n",
    "start = distribution.ppf(0.01)\n",
    "end = distribution.ppf(0.99)\n",
    "\n",
    "# Build PDF and turn into pandas Series\n",
    "x = np.linspace(start, end, len(gen_coeffs[0]))\n",
    "y = distribution.pdf(x)\n",
    "pdf = pd.Series(y, x)"
   ]
  },
  {
   "cell_type": "code",
   "execution_count": 61,
   "id": "99e2b49c",
   "metadata": {},
   "outputs": [
    {
     "data": {
      "application/vnd.jupyter.widget-view+json": {
       "model_id": "41be786a10974c47a0ddfba696dba080",
       "version_major": 2,
       "version_minor": 0
      },
      "text/plain": [
       "Canvas(toolbar=Toolbar(toolitems=[('Home', 'Reset original view', 'home', 'home'), ('Back', 'Back to previous …"
      ]
     },
     "metadata": {},
     "output_type": "display_data"
    },
    {
     "data": {
      "text/plain": [
       "<AxesSubplot:>"
      ]
     },
     "execution_count": 61,
     "metadata": {},
     "output_type": "execute_result"
    }
   ],
   "source": [
    "%matplotlib widget\n",
    "pdf.plot(kind='line', label=results[0][0], legend=True, lw=2)"
   ]
  },
  {
   "cell_type": "code",
   "execution_count": 59,
   "id": "0f0ae5d6",
   "metadata": {},
   "outputs": [
    {
     "name": "stdout",
     "output_type": "stream",
     "text": [
      "cauchy\n"
     ]
    }
   ],
   "source": [
    "print(results[0][0])"
   ]
  },
  {
   "cell_type": "code",
   "execution_count": 63,
   "id": "c07b3168",
   "metadata": {},
   "outputs": [
    {
     "name": "stdout",
     "output_type": "stream",
     "text": [
      "lognorm: statistic=0.02143324376188549, pvalue=0.14199020972912568\n",
      "norm: statistic=0.022531569070215696, pvalue=0.10762944961829679\n",
      "gamma: statistic=0.023899284858867165, pvalue=0.07475389852332681\n",
      "cauchy: statistic=0.06832708632384767, pvalue=4.574409238985916e-12\n",
      "exponpow: statistic=0.12412430773187091, pvalue=6.643146037844272e-39\n",
      "rayleigh: statistic=0.18854363970061278, pvalue=1.3786416067051407e-89\n",
      "uniform: statistic=0.32286811028999174, pvalue=4.263822982685804e-266\n",
      "chi2: statistic=0.609859888452221, pvalue=0.0\n",
      "expon: statistic=0.45190888585525857, pvalue=0.0\n",
      "powerlaw: statistic=0.3755938015045559, pvalue=0.0\n"
     ]
    }
   ],
   "source": [
    "results = []\n",
    "for i in list_of_dists:\n",
    "    dist = getattr(stats, i)\n",
    "    param = dist.fit(laser_coeffs[0])\n",
    "    a = stats.kstest(laser_coeffs[0], i, args=param)\n",
    "    results.append((i,a[0],a[1]))\n",
    "    \n",
    "    \n",
    "results.sort(key=lambda x:float(x[2]), reverse=True)\n",
    "for j in results:\n",
    "    print(\"{}: statistic={}, pvalue={}\".format(j[0], j[1], j[2]))"
   ]
  },
  {
   "cell_type": "code",
   "execution_count": null,
   "id": "617ec5ae",
   "metadata": {},
   "outputs": [],
   "source": []
  },
  {
   "cell_type": "code",
   "execution_count": 72,
   "id": "35a33213",
   "metadata": {},
   "outputs": [
    {
     "name": "stdout",
     "output_type": "stream",
     "text": [
      "<scipy.stats._continuous_distns.lognorm_gen object at 0x7ff9c9134d00>\n",
      "(0.02143324376188549, 0.14199020972912568)\n",
      "0.02143324376188549\n",
      "0.14199020972912568\n"
     ]
    },
    {
     "ename": "TypeError",
     "evalue": "_parse_args() missing 1 required positional argument: 's'",
     "output_type": "error",
     "traceback": [
      "\u001b[0;31m---------------------------------------------------------------------------\u001b[0m",
      "\u001b[0;31mTypeError\u001b[0m                                 Traceback (most recent call last)",
      "\u001b[0;32m/tmp/ipykernel_5218/4247964609.py\u001b[0m in \u001b[0;36m<module>\u001b[0;34m\u001b[0m\n\u001b[1;32m     11\u001b[0m \u001b[0;34m\u001b[0m\u001b[0m\n\u001b[1;32m     12\u001b[0m \u001b[0;31m# Get sane start and end points of distribution\u001b[0m\u001b[0;34m\u001b[0m\u001b[0;34m\u001b[0m\u001b[0;34m\u001b[0m\u001b[0m\n\u001b[0;32m---> 13\u001b[0;31m \u001b[0mstart\u001b[0m \u001b[0;34m=\u001b[0m \u001b[0mdistribution\u001b[0m\u001b[0;34m.\u001b[0m\u001b[0mppf\u001b[0m\u001b[0;34m(\u001b[0m\u001b[0;36m0.0000001\u001b[0m\u001b[0;34m,\u001b[0m \u001b[0mloc\u001b[0m\u001b[0;34m=\u001b[0m\u001b[0mloc\u001b[0m\u001b[0;34m,\u001b[0m \u001b[0mscale\u001b[0m\u001b[0;34m=\u001b[0m\u001b[0mscale\u001b[0m\u001b[0;34m)\u001b[0m\u001b[0;34m\u001b[0m\u001b[0;34m\u001b[0m\u001b[0m\n\u001b[0m\u001b[1;32m     14\u001b[0m \u001b[0mend\u001b[0m \u001b[0;34m=\u001b[0m \u001b[0mdistribution\u001b[0m\u001b[0;34m.\u001b[0m\u001b[0mppf\u001b[0m\u001b[0;34m(\u001b[0m\u001b[0;36m0.9999999\u001b[0m\u001b[0;34m,\u001b[0m \u001b[0mloc\u001b[0m\u001b[0;34m=\u001b[0m\u001b[0mloc\u001b[0m\u001b[0;34m,\u001b[0m \u001b[0mscale\u001b[0m\u001b[0;34m=\u001b[0m\u001b[0mscale\u001b[0m\u001b[0;34m)\u001b[0m\u001b[0;34m\u001b[0m\u001b[0;34m\u001b[0m\u001b[0m\n\u001b[1;32m     15\u001b[0m \u001b[0;34m\u001b[0m\u001b[0m\n",
      "\u001b[0;32m~/pyenvs/laser_injection/lib/python3.8/site-packages/scipy/stats/_distn_infrastructure.py\u001b[0m in \u001b[0;36mppf\u001b[0;34m(self, q, *args, **kwds)\u001b[0m\n\u001b[1;32m   2085\u001b[0m \u001b[0;34m\u001b[0m\u001b[0m\n\u001b[1;32m   2086\u001b[0m         \"\"\"\n\u001b[0;32m-> 2087\u001b[0;31m         \u001b[0margs\u001b[0m\u001b[0;34m,\u001b[0m \u001b[0mloc\u001b[0m\u001b[0;34m,\u001b[0m \u001b[0mscale\u001b[0m \u001b[0;34m=\u001b[0m \u001b[0mself\u001b[0m\u001b[0;34m.\u001b[0m\u001b[0m_parse_args\u001b[0m\u001b[0;34m(\u001b[0m\u001b[0;34m*\u001b[0m\u001b[0margs\u001b[0m\u001b[0;34m,\u001b[0m \u001b[0;34m**\u001b[0m\u001b[0mkwds\u001b[0m\u001b[0;34m)\u001b[0m\u001b[0;34m\u001b[0m\u001b[0;34m\u001b[0m\u001b[0m\n\u001b[0m\u001b[1;32m   2088\u001b[0m         \u001b[0mq\u001b[0m\u001b[0;34m,\u001b[0m \u001b[0mloc\u001b[0m\u001b[0;34m,\u001b[0m \u001b[0mscale\u001b[0m \u001b[0;34m=\u001b[0m \u001b[0mmap\u001b[0m\u001b[0;34m(\u001b[0m\u001b[0masarray\u001b[0m\u001b[0;34m,\u001b[0m \u001b[0;34m(\u001b[0m\u001b[0mq\u001b[0m\u001b[0;34m,\u001b[0m \u001b[0mloc\u001b[0m\u001b[0;34m,\u001b[0m \u001b[0mscale\u001b[0m\u001b[0;34m)\u001b[0m\u001b[0;34m)\u001b[0m\u001b[0;34m\u001b[0m\u001b[0;34m\u001b[0m\u001b[0m\n\u001b[1;32m   2089\u001b[0m         \u001b[0margs\u001b[0m \u001b[0;34m=\u001b[0m \u001b[0mtuple\u001b[0m\u001b[0;34m(\u001b[0m\u001b[0mmap\u001b[0m\u001b[0;34m(\u001b[0m\u001b[0masarray\u001b[0m\u001b[0;34m,\u001b[0m \u001b[0margs\u001b[0m\u001b[0;34m)\u001b[0m\u001b[0;34m)\u001b[0m\u001b[0;34m\u001b[0m\u001b[0;34m\u001b[0m\u001b[0m\n",
      "\u001b[0;31mTypeError\u001b[0m: _parse_args() missing 1 required positional argument: 's'"
     ]
    }
   ],
   "source": [
    "distribution = getattr(stats, results[0][0])\n",
    "print(distribution)\n",
    "\n",
    "arg = results[0][-2:]\n",
    "loc = results[0][-2]\n",
    "scale = results[0][-1]\n",
    "\n",
    "# print(arg)\n",
    "# print(loc)\n",
    "# print(scale)\n",
    "    \n",
    "# Get sane start and end points of distribution\n",
    "start = distribution.ppf(0.0000001, loc=loc, scale=scale) \n",
    "end = distribution.ppf(0.9999999, loc=loc, scale=scale) \n",
    "\n",
    "# Build PDF and turn into pandas Series\n",
    "x = np.linspace(start, end, len(gen_coeffs[0]))\n",
    "y = distribution.pdf(x)\n",
    "pdf = pd.Series(y, x)"
   ]
  },
  {
   "cell_type": "code",
   "execution_count": null,
   "id": "e820c14a",
   "metadata": {},
   "outputs": [],
   "source": []
  }
 ],
 "metadata": {
  "kernelspec": {
   "display_name": "laser_injection",
   "language": "python",
   "name": "laser_injection"
  },
  "language_info": {
   "codemirror_mode": {
    "name": "ipython",
    "version": 3
   },
   "file_extension": ".py",
   "mimetype": "text/x-python",
   "name": "python",
   "nbconvert_exporter": "python",
   "pygments_lexer": "ipython3",
   "version": "3.8.10"
  }
 },
 "nbformat": 4,
 "nbformat_minor": 5
}
