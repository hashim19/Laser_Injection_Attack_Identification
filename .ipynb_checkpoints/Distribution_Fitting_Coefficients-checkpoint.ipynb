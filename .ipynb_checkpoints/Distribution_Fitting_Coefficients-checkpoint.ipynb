{
 "cells": [
  {
   "cell_type": "code",
   "execution_count": 1,
   "id": "d93e51e4",
   "metadata": {},
   "outputs": [],
   "source": [
    "import pywt\n",
    "import os\n",
    "import pandas as pd\n",
    "import librosa\n",
    "import librosa.display\n",
    "import glob \n",
    "import numpy as np\n",
    "import matplotlib.pyplot as plt\n",
    "from matplotlib import cm\n",
    "import seaborn as sns\n",
    "from fitter import Fitter, get_common_distributions, get_distributions, HistFit\n",
    "from distfit import distfit\n",
    "from matplotlib.ticker import FormatStrFormatter\n",
    "\n",
    "from sklearn.preprocessing import StandardScaler\n",
    "import sklearn\n",
    "\n",
    "from utils import plot_projections\n",
    "\n",
    "from scipy.stats import kurtosis, skew\n",
    "from scipy import stats\n",
    "\n",
    "import random\n",
    "\n",
    "%matplotlib widget"
   ]
  },
  {
   "cell_type": "code",
   "execution_count": 2,
   "id": "279976fe",
   "metadata": {},
   "outputs": [
    {
     "name": "stdout",
     "output_type": "stream",
     "text": [
      "['/home/hashim/PHD/audio_data/AllAudioSamples/Laser/speaker10_001.wav', '/home/hashim/PHD/audio_data/AllAudioSamples/Laser/speaker10_002.wav', '/home/hashim/PHD/audio_data/AllAudioSamples/Laser/speaker10_003.wav', '/home/hashim/PHD/audio_data/AllAudioSamples/Laser/speaker10_004.wav', '/home/hashim/PHD/audio_data/AllAudioSamples/Laser/speaker10_005.wav', '/home/hashim/PHD/audio_data/AllAudioSamples/Laser/speaker1_001.wav', '/home/hashim/PHD/audio_data/AllAudioSamples/Laser/speaker1_002.wav', '/home/hashim/PHD/audio_data/AllAudioSamples/Laser/speaker1_003.wav', '/home/hashim/PHD/audio_data/AllAudioSamples/Laser/speaker1_004.wav', '/home/hashim/PHD/audio_data/AllAudioSamples/Laser/speaker1_005.wav', '/home/hashim/PHD/audio_data/AllAudioSamples/Laser/speaker2_001.wav', '/home/hashim/PHD/audio_data/AllAudioSamples/Laser/speaker2_002.wav', '/home/hashim/PHD/audio_data/AllAudioSamples/Laser/speaker2_003.wav', '/home/hashim/PHD/audio_data/AllAudioSamples/Laser/speaker2_004.wav', '/home/hashim/PHD/audio_data/AllAudioSamples/Laser/speaker2_005.wav', '/home/hashim/PHD/audio_data/AllAudioSamples/Laser/speaker3_001.wav', '/home/hashim/PHD/audio_data/AllAudioSamples/Laser/speaker3_002.wav', '/home/hashim/PHD/audio_data/AllAudioSamples/Laser/speaker3_003.wav', '/home/hashim/PHD/audio_data/AllAudioSamples/Laser/speaker3_004.wav', '/home/hashim/PHD/audio_data/AllAudioSamples/Laser/speaker3_005.wav', '/home/hashim/PHD/audio_data/AllAudioSamples/Laser/speaker4_001.wav', '/home/hashim/PHD/audio_data/AllAudioSamples/Laser/speaker4_002.wav', '/home/hashim/PHD/audio_data/AllAudioSamples/Laser/speaker4_003.wav', '/home/hashim/PHD/audio_data/AllAudioSamples/Laser/speaker4_004.wav', '/home/hashim/PHD/audio_data/AllAudioSamples/Laser/speaker4_005.wav', '/home/hashim/PHD/audio_data/AllAudioSamples/Laser/speaker5_001.wav', '/home/hashim/PHD/audio_data/AllAudioSamples/Laser/speaker5_002.wav', '/home/hashim/PHD/audio_data/AllAudioSamples/Laser/speaker5_003.wav', '/home/hashim/PHD/audio_data/AllAudioSamples/Laser/speaker5_004.wav', '/home/hashim/PHD/audio_data/AllAudioSamples/Laser/speaker5_005.wav', '/home/hashim/PHD/audio_data/AllAudioSamples/Laser/speaker6_001.wav', '/home/hashim/PHD/audio_data/AllAudioSamples/Laser/speaker6_002.wav', '/home/hashim/PHD/audio_data/AllAudioSamples/Laser/speaker6_003.wav', '/home/hashim/PHD/audio_data/AllAudioSamples/Laser/speaker6_004.wav', '/home/hashim/PHD/audio_data/AllAudioSamples/Laser/speaker6_005.wav', '/home/hashim/PHD/audio_data/AllAudioSamples/Laser/speaker7_001.wav', '/home/hashim/PHD/audio_data/AllAudioSamples/Laser/speaker7_002.wav', '/home/hashim/PHD/audio_data/AllAudioSamples/Laser/speaker7_003.wav', '/home/hashim/PHD/audio_data/AllAudioSamples/Laser/speaker7_004.wav', '/home/hashim/PHD/audio_data/AllAudioSamples/Laser/speaker7_005.wav', '/home/hashim/PHD/audio_data/AllAudioSamples/Laser/speaker8_001.wav', '/home/hashim/PHD/audio_data/AllAudioSamples/Laser/speaker8_002.wav', '/home/hashim/PHD/audio_data/AllAudioSamples/Laser/speaker8_003.wav', '/home/hashim/PHD/audio_data/AllAudioSamples/Laser/speaker8_004.wav', '/home/hashim/PHD/audio_data/AllAudioSamples/Laser/speaker8_005.wav', '/home/hashim/PHD/audio_data/AllAudioSamples/Laser/speaker9_001.wav', '/home/hashim/PHD/audio_data/AllAudioSamples/Laser/speaker9_002.wav', '/home/hashim/PHD/audio_data/AllAudioSamples/Laser/speaker9_003.wav', '/home/hashim/PHD/audio_data/AllAudioSamples/Laser/speaker9_004.wav', '/home/hashim/PHD/audio_data/AllAudioSamples/Laser/speaker9_005.wav']\n",
      "50\n"
     ]
    }
   ],
   "source": [
    "laser_dir = '/home/hashim/PHD/audio_data/AllAudioSamples/Laser/'\n",
    "laser_files = list(glob.glob(os.path.join(laser_dir, '*.wav')))\n",
    "laser_files.sort()\n",
    "print(laser_files)\n",
    "print(len(laser_files))"
   ]
  },
  {
   "cell_type": "code",
   "execution_count": 3,
   "id": "a840ef28",
   "metadata": {},
   "outputs": [
    {
     "name": "stdout",
     "output_type": "stream",
     "text": [
      "['/home/hashim/PHD/audio_data/AllAudioSamples/Original/speaker10_001.wav', '/home/hashim/PHD/audio_data/AllAudioSamples/Original/speaker10_002.wav', '/home/hashim/PHD/audio_data/AllAudioSamples/Original/speaker10_003.wav', '/home/hashim/PHD/audio_data/AllAudioSamples/Original/speaker10_004.wav', '/home/hashim/PHD/audio_data/AllAudioSamples/Original/speaker10_005.wav', '/home/hashim/PHD/audio_data/AllAudioSamples/Original/speaker1_001.wav', '/home/hashim/PHD/audio_data/AllAudioSamples/Original/speaker1_002.wav', '/home/hashim/PHD/audio_data/AllAudioSamples/Original/speaker1_003.wav', '/home/hashim/PHD/audio_data/AllAudioSamples/Original/speaker1_004.wav', '/home/hashim/PHD/audio_data/AllAudioSamples/Original/speaker1_005.wav', '/home/hashim/PHD/audio_data/AllAudioSamples/Original/speaker2_001.wav', '/home/hashim/PHD/audio_data/AllAudioSamples/Original/speaker2_002.wav', '/home/hashim/PHD/audio_data/AllAudioSamples/Original/speaker2_003.wav', '/home/hashim/PHD/audio_data/AllAudioSamples/Original/speaker2_004.wav', '/home/hashim/PHD/audio_data/AllAudioSamples/Original/speaker2_005.wav', '/home/hashim/PHD/audio_data/AllAudioSamples/Original/speaker3_001.wav', '/home/hashim/PHD/audio_data/AllAudioSamples/Original/speaker3_002.wav', '/home/hashim/PHD/audio_data/AllAudioSamples/Original/speaker3_003.wav', '/home/hashim/PHD/audio_data/AllAudioSamples/Original/speaker3_004.wav', '/home/hashim/PHD/audio_data/AllAudioSamples/Original/speaker3_005.wav', '/home/hashim/PHD/audio_data/AllAudioSamples/Original/speaker4_001.wav', '/home/hashim/PHD/audio_data/AllAudioSamples/Original/speaker4_002.wav', '/home/hashim/PHD/audio_data/AllAudioSamples/Original/speaker4_003.wav', '/home/hashim/PHD/audio_data/AllAudioSamples/Original/speaker4_004.wav', '/home/hashim/PHD/audio_data/AllAudioSamples/Original/speaker4_005.wav', '/home/hashim/PHD/audio_data/AllAudioSamples/Original/speaker5_001.wav', '/home/hashim/PHD/audio_data/AllAudioSamples/Original/speaker5_002.wav', '/home/hashim/PHD/audio_data/AllAudioSamples/Original/speaker5_003.wav', '/home/hashim/PHD/audio_data/AllAudioSamples/Original/speaker5_004.wav', '/home/hashim/PHD/audio_data/AllAudioSamples/Original/speaker5_005.wav', '/home/hashim/PHD/audio_data/AllAudioSamples/Original/speaker6_001.wav', '/home/hashim/PHD/audio_data/AllAudioSamples/Original/speaker6_002.wav', '/home/hashim/PHD/audio_data/AllAudioSamples/Original/speaker6_003.wav', '/home/hashim/PHD/audio_data/AllAudioSamples/Original/speaker6_004.wav', '/home/hashim/PHD/audio_data/AllAudioSamples/Original/speaker6_005.wav', '/home/hashim/PHD/audio_data/AllAudioSamples/Original/speaker7_001.wav', '/home/hashim/PHD/audio_data/AllAudioSamples/Original/speaker7_002.wav', '/home/hashim/PHD/audio_data/AllAudioSamples/Original/speaker7_003.wav', '/home/hashim/PHD/audio_data/AllAudioSamples/Original/speaker7_004.wav', '/home/hashim/PHD/audio_data/AllAudioSamples/Original/speaker7_005.wav', '/home/hashim/PHD/audio_data/AllAudioSamples/Original/speaker8_001.wav', '/home/hashim/PHD/audio_data/AllAudioSamples/Original/speaker8_002.wav', '/home/hashim/PHD/audio_data/AllAudioSamples/Original/speaker8_003.wav', '/home/hashim/PHD/audio_data/AllAudioSamples/Original/speaker8_004.wav', '/home/hashim/PHD/audio_data/AllAudioSamples/Original/speaker8_005.wav', '/home/hashim/PHD/audio_data/AllAudioSamples/Original/speaker9_001.wav', '/home/hashim/PHD/audio_data/AllAudioSamples/Original/speaker9_002.wav', '/home/hashim/PHD/audio_data/AllAudioSamples/Original/speaker9_003.wav', '/home/hashim/PHD/audio_data/AllAudioSamples/Original/speaker9_004.wav', '/home/hashim/PHD/audio_data/AllAudioSamples/Original/speaker9_005.wav']\n",
      "50\n"
     ]
    }
   ],
   "source": [
    "orig_dir = '/home/hashim/PHD/audio_data/AllAudioSamples/Original/'\n",
    "orig_files = list(glob.glob(os.path.join(orig_dir, '*wav')))\n",
    "orig_files.sort()\n",
    "print(orig_files)\n",
    "print(len(orig_files))"
   ]
  },
  {
   "cell_type": "markdown",
   "id": "58cd2765",
   "metadata": {},
   "source": [
    "## Computing Coefficients"
   ]
  },
  {
   "cell_type": "code",
   "execution_count": 4,
   "id": "ad58144a",
   "metadata": {},
   "outputs": [],
   "source": [
    "sample_id = 10\n",
    "db1 = pywt.Wavelet('db1')"
   ]
  },
  {
   "cell_type": "code",
   "execution_count": 5,
   "id": "8a03cd97",
   "metadata": {},
   "outputs": [],
   "source": [
    "laser_sample = laser_files[sample_id]\n",
    "gen_sample = orig_files[sample_id]\n",
    "\n",
    "laser_audio, sr = librosa.load(laser_sample, res_type='kaiser_fast')\n",
    "gen_audio, sr = librosa.load(gen_sample, res_type='kaiser_fast')\n",
    "\n",
    "laser_coeffs = pywt.wavedec(laser_audio, db1, mode='constant', level=5)\n",
    "gen_coeffs = pywt.wavedec(gen_audio, db1, mode='constant', level=5)"
   ]
  },
  {
   "cell_type": "code",
   "execution_count": 6,
   "id": "d936c73c",
   "metadata": {},
   "outputs": [],
   "source": [
    "n_bins = 150"
   ]
  },
  {
   "cell_type": "code",
   "execution_count": 7,
   "id": "683be1db",
   "metadata": {},
   "outputs": [],
   "source": [
    "def best_fit_distribution(list_of_dists):\n",
    "    \n",
    "    results = []\n",
    "    for i in list_of_dists:\n",
    "        dist = getattr(stats, i)\n",
    "        param = dist.fit(gen_coeffs[0])\n",
    "        a = stats.kstest(gen_coeffs[0], i, args=param)\n",
    "        results.append((i,a[0],a[1]))\n",
    "\n",
    "\n",
    "    results.sort(key=lambda x:float(x[2]), reverse=True)\n",
    "    for j in results:\n",
    "        print(\"{}: statistic={}, pvalue={}\".format(j[0], j[1], j[2]))\n",
    "        \n",
    "    return results[0]"
   ]
  },
  {
   "cell_type": "code",
   "execution_count": 8,
   "id": "639cb62d",
   "metadata": {},
   "outputs": [
    {
     "name": "stdout",
     "output_type": "stream",
     "text": [
      "cauchy: statistic=0.02461226488386034, pvalue=0.0707128492168847\n",
      "gamma: statistic=0.13579382589714437, pvalue=1.3096360745778292e-44\n",
      "lognorm: statistic=0.1363253461698456, pvalue=5.878793009896358e-45\n",
      "norm: statistic=0.13786233602674003, pvalue=5.696469220812121e-46\n",
      "chi2: statistic=0.1414414257193, pvalue=2.2403023367569e-48\n",
      "rayleigh: statistic=0.1625084886265462, pvalue=8.270793765056682e-64\n",
      "exponpow: statistic=0.23628090397989202, pvalue=2.6850639014392305e-135\n",
      "expon: statistic=0.48534950951771905, pvalue=0.0\n",
      "powerlaw: statistic=0.43670187813654393, pvalue=0.0\n",
      "uniform: statistic=0.37910598835658504, pvalue=0.0\n",
      "('cauchy', 0.02461226488386034, 0.0707128492168847)\n"
     ]
    }
   ],
   "source": [
    "list_of_dists = get_common_distributions()\n",
    "\n",
    "best_fit_dist = best_fit_distribution(list_of_dists)\n",
    "\n",
    "print(best_fit_dist)"
   ]
  },
  {
   "cell_type": "code",
   "execution_count": 9,
   "id": "768d41dd",
   "metadata": {},
   "outputs": [
    {
     "name": "stdout",
     "output_type": "stream",
     "text": [
      "[distfit] >fit..\n",
      "[distfit] >transform..\n",
      "[distfit] >[alpha          ] [0.05 sec] [RSS: 4171.28] [loc=-0.410 scale=14.710]\n",
      "[distfit] >[anglit         ] [0.01 sec] [RSS: 16360.6] [loc=1.051 scale=0.000]\n",
      "[distfit] >[arcsine        ] [0.02 sec] [RSS: 15992.2] [loc=-0.072 scale=0.130]\n",
      "[distfit] >[beta           ] [0.02 sec] [RSS: 4132.77] [loc=-2.222 scale=12.151]\n",
      "[distfit] >[betaprime      ] [0.04 sec] [RSS: 13899.5] [loc=-0.072 scale=0.045]\n",
      "[distfit] >[bradford       ] [0.03 sec] [RSS: 13427.3] [loc=-0.072 scale=0.131]\n",
      "[distfit] >[burr           ] [0.21 sec] [RSS: 7058.28] [loc=-19.022 scale=18.894]\n",
      "[distfit] >[cauchy         ] [0.00 sec] [RSS: 286.8] [loc=-0.000 scale=0.004]\n",
      "[distfit] >[chi            ] [0.04 sec] [RSS: 4145.73] [loc=-0.271 scale=0.016]\n",
      "[distfit] >[chi2           ] [0.04 sec] [RSS: 4456.07] [loc=-0.138 scale=0.001]\n",
      "[distfit] >[cosine         ] [0.01 sec] [RSS: 16360.6] [loc=4.585 scale=0.000]\n",
      "[distfit] >[dgamma         ] [0.02 sec] [RSS: 4504.99] [loc=-0.000 scale=0.008]\n",
      "[distfit] >[dweibull       ] [0.07 sec] [RSS: 3627.09] [loc=-0.000 scale=0.006]\n",
      "[distfit] >[erlang         ] [0.05 sec] [RSS: 4153.93] [loc=-0.423 scale=0.000]\n",
      "[distfit] >[expon          ] [0.00 sec] [RSS: 14979.5] [loc=-0.072 scale=0.072]\n",
      "[distfit] >[exponnorm      ] [0.01 sec] [RSS: 3700.36] [loc=-0.006 scale=0.009]\n",
      "[distfit] >[exponweib      ] [0.19 sec] [RSS: 4330.93] [loc=-511691.392 scale=511691.340]\n",
      "[distfit] >[exponpow       ] [0.08 sec] [RSS: 8232.78] [loc=-0.072 scale=0.088]\n",
      "[distfit] >[f              ] [0.08 sec] [RSS: 4132.44] [loc=-2.504 scale=2.504]\n",
      "[distfit] >[fatiguelife    ] [0.06 sec] [RSS: 4136.73] [loc=-1.494 scale=1.494]\n",
      "[distfit] >[fisk           ] [0.09 sec] [RSS: 1898.21] [loc=-1.298 scale=1.298]\n",
      "[distfit] >[foldcauchy     ] [0.04 sec] [RSS: 284.201] [loc=-0.072 scale=0.004]\n",
      "[distfit] >[foldnorm       ] [0.01 sec] [RSS: 14664.9] [loc=-0.175 scale=0.184]\n",
      "[distfit] >[genlogistic    ] [0.01 sec] [RSS: 1846.02] [loc=0.001 scale=0.005]\n",
      "[distfit] >[genpareto      ] [0.08 sec] [RSS: 13444.2] [loc=-0.072 scale=0.104]\n",
      "[distfit] >[gennorm        ] [0.02 sec] [RSS: 1307.96] [loc=-0.000 scale=0.003]\n",
      "[distfit] >[genexpon       ] [0.85 sec] [RSS: 12585] [loc=-0.072 scale=0.065]\n",
      "[distfit] >[genextreme     ] [0.04 sec] [RSS: 6042.43] [loc=-0.000 scale=0.013]\n",
      "[distfit] >[gausshyper     ] [0.20 sec] [RSS: 7219.19] [loc=-0.075 scale=0.735]\n",
      "[distfit] >[gamma          ] [0.04 sec] [RSS: 4153.93] [loc=-0.424 scale=0.000]\n",
      "[distfit] >[gengamma       ] [0.08 sec] [RSS: 4202.41] [loc=-0.203 scale=0.035]\n",
      "[distfit] >[genhalflogistic] [0.07 sec] [RSS: 12455.6] [loc=-0.072 scale=0.083]\n",
      "[distfit] >[gilbrat        ] [0.01 sec] [RSS: 13915.1] [loc=-0.072 scale=0.071]\n",
      "[distfit] >[gompertz       ] [0.06 sec] [RSS: 14561.9] [loc=-0.072 scale=0.184]\n",
      "[distfit] >[gumbel_r       ] [0.00 sec] [RSS: 7055.53] [loc=-0.006 scale=0.015]\n",
      "[distfit] >[gumbel_l       ] [0.00 sec] [RSS: 7110.33] [loc=0.006 scale=0.015]\n",
      "[distfit] >[halfcauchy     ] [0.01 sec] [RSS: 14554.5] [loc=-0.072 scale=0.071]\n",
      "[distfit] >[halflogistic   ] [0.01 sec] [RSS: 14243.7] [loc=-0.072 scale=0.047]\n",
      "[distfit] >[halfnorm       ] [0.01 sec] [RSS: 14137.3] [loc=-0.072 scale=0.073]\n",
      "[distfit] >[halfgennorm    ] [0.07 sec] [RSS: 14097.4] [loc=-0.072 scale=0.103]\n",
      "[distfit] >[hypsecant      ] [0.00 sec] [RSS: 1220.91] [loc=-0.000 scale=0.006]\n",
      "[distfit] >[invgamma       ] [0.04 sec] [RSS: 4308.62] [loc=-0.276 scale=155.191]\n",
      "[distfit] >[invgauss       ] [0.04 sec] [RSS: 4448.93] [loc=-0.145 scale=21.623]\n",
      "[distfit] >[invweibull     ] [0.08 sec] [RSS: 7047.99] [loc=-219.953 scale=219.947]\n",
      "[distfit] >[johnsonsb      ] [0.15 sec] [RSS: 4136.24] [loc=-1128758.134 scale=1934831.882]\n",
      "[distfit] >[johnsonsu      ] [0.16 sec] [RSS: 109.798] [loc=-0.000 scale=0.004]\n",
      "[distfit] >[laplace        ] [0.00 sec] [RSS: 583.963] [loc=-0.000 scale=0.007]\n",
      "[distfit] >[levy           ] [0.00 sec] [RSS: 14568] [loc=-0.073 scale=0.069]\n",
      "[distfit] >[logistic       ] [0.00 sec] [RSS: 1899.32] [loc=-0.000 scale=0.005]\n",
      "[distfit] >[loggamma       ] [0.04 sec] [RSS: 4158.13] [loc=-3.379 scale=0.458]\n",
      "[distfit] >[loglaplace     ] [0.06 sec] [RSS: 3479.4] [loc=-6218127.225 scale=6218127.225]\n",
      "[distfit] >[lognorm        ] [0.08 sec] [RSS: 4120.11] [loc=-0.953 scale=0.953]\n",
      "[distfit] >[lomax          ] [0.01 sec] [RSS: 15255.6] [loc=-0.072 scale=0.132]\n",
      "[distfit] >[maxwell        ] [0.00 sec] [RSS: 10788] [loc=-0.072 scale=0.042]\n",
      "[distfit] >[mielke         ] [0.09 sec] [RSS: 15943.9] [loc=-0.072 scale=0.863]\n",
      "[distfit] >[nakagami       ] [0.05 sec] [RSS: 4130.23] [loc=-0.876 scale=0.876]\n",
      "[distfit] >[norm           ] [0.00 sec] [RSS: 4133.95] [loc=-0.000 scale=0.011]\n",
      "[distfit] >[pareto         ] [0.06 sec] [RSS: 15423.9] [loc=-2196.089 scale=2196.017]\n",
      "[distfit] >[pearson3       ] [0.03 sec] [RSS: 4131.49] [loc=-0.000 scale=0.011]\n",
      "[distfit] >[powerlaw       ] [0.03 sec] [RSS: 13266] [loc=-0.072 scale=0.131]\n",
      "[distfit] >[powerlognorm   ] [0.32 sec] [RSS: 4063.44] [loc=-0.332 scale=0.340]\n",
      "[distfit] >[powernorm      ] [0.07 sec] [RSS: 4109.2] [loc=0.003 scale=0.012]\n",
      "[distfit] >[rdist          ] [0.03 sec] [RSS: 16360.6] [loc=1.105 scale=0.000]\n",
      "[distfit] >[reciprocal     ] [0.03 sec] [RSS: 330178] [loc=0.002 scale=0.002]\n",
      "[distfit] >[rayleigh       ] [0.00 sec] [RSS: 1903.05] [loc=-0.012 scale=0.011]\n",
      "[distfit] >[rice           ] [0.10 sec] [RSS: 4135.16] [loc=-0.734 scale=0.011]\n",
      "[distfit] >[recipinvgauss  ] [1.34 sec] [RSS: 4264.88] [loc=-0.188 scale=0.001]\n",
      "[distfit] >[semicircular   ] [0.01 sec] [RSS: 16360.6] [loc=1.373 scale=0.000]\n",
      "[distfit] >[t              ] [0.02 sec] [RSS: 71.0948] [loc=-0.000 scale=0.005]\n",
      "[distfit] >[triang         ] [0.08 sec] [RSS: 9811.73] [loc=-0.072 scale=0.131]\n",
      "[distfit] >[truncexpon     ] [0.04 sec] [RSS: 13817.7] [loc=-0.072 scale=0.196]\n",
      "[distfit] >[truncnorm      ] [0.05 sec] [RSS: 355572] [loc=0.002 scale=0.002]\n",
      "[distfit] >[tukeylambda    ] [1.04 sec] [RSS: 108.279] [loc=-0.000 scale=0.002]\n",
      "[distfit] >[uniform        ] [0.00 sec] [RSS: 13423.9] [loc=-0.072 scale=0.130]\n",
      "[distfit] >[vonmises       ] [0.45 sec] [RSS: 4.75378e+62] [loc=-0.000 scale=0.000]\n",
      "[distfit] >[vonmises_line  ] [0.31 sec] [RSS: 16360.6] [loc=3.689 scale=0.000]\n",
      "[distfit] >[wald           ] [0.00 sec] [RSS: 13474.3] [loc=-0.073 scale=0.114]\n",
      "[distfit] >[weibull_min    ] [0.06 sec] [RSS: 11799.5] [loc=-31083801.464 scale=31083801.465]\n",
      "[distfit] >[weibull_max    ] [0.02 sec] [RSS: 5387.76] [loc=0.062 scale=0.066]\n",
      "[distfit] >[wrapcauchy     ] [0.00 sec] [RSS: nan] [loc=-0.085 scale=0.025]\n",
      "[distfit] >Compute confidence interval [parametric]\n"
     ]
    }
   ],
   "source": [
    "gen_dist = distfit(distr='full')\n",
    "gen_res = gen_dist.fit_transform(gen_coeffs[0])"
   ]
  },
  {
   "cell_type": "code",
   "execution_count": 10,
   "id": "91c9032a",
   "metadata": {},
   "outputs": [
    {
     "data": {
      "text/plain": [
       "{'model': {'distr': <scipy.stats._continuous_distns.t_gen at 0x7fe4f780d610>,\n",
       "  'stats': 'RSS',\n",
       "  'params': (1.647161795407747, -0.00021116846163733927, 0.004603974227620496),\n",
       "  'name': 't',\n",
       "  'model': <scipy.stats._distn_infrastructure.rv_frozen at 0x7fe4b487cf40>,\n",
       "  'score': 71.09483973811665,\n",
       "  'loc': -0.00021116846163733927,\n",
       "  'scale': 0.004603974227620496,\n",
       "  'arg': (1.647161795407747,),\n",
       "  'CII_min_alpha': -0.015840017082139637,\n",
       "  'CII_max_alpha': 0.015417680158864947},\n",
       " 'summary':           distr                                              score  LLE  \\\n",
       " 0             t                                           71.09484  NaN   \n",
       " 1   tukeylambda                                         108.278622  NaN   \n",
       " 2     johnsonsu                                          109.79817  NaN   \n",
       " 3    foldcauchy                                         284.200826  NaN   \n",
       " 4        cauchy                                         286.799988  NaN   \n",
       " ..          ...                                                ...  ...   \n",
       " 75        rdist                                        16360.61495  NaN   \n",
       " 76   reciprocal                                      330177.862999  NaN   \n",
       " 77    truncnorm                                      355571.997497  NaN   \n",
       " 78     vonmises  4753781559950613603102903055286232268422136356...  NaN   \n",
       " 79   wrapcauchy                                                NaN  NaN   \n",
       " \n",
       "          loc     scale                                          arg  \n",
       " 0  -0.000211  0.004604                         (1.647161795407747,)  \n",
       " 1  -0.000476  0.002362                      (-0.48207618054103274,)  \n",
       " 2   -0.00026  0.004009  (-0.011651470299741833, 0.7834860744581906)  \n",
       " 3  -0.071863  0.003767                         (19.01906062543309,)  \n",
       " 4  -0.000205  0.003764                                           ()  \n",
       " ..       ...       ...                                          ...  \n",
       " 75   1.10453       0.0                         (1.305344425209101,)  \n",
       " 76  0.002265  0.002379     (0.8931490026924565, 1.6057246952390467)  \n",
       " 77  0.002262  0.002381     (0.8935180568525001, 1.6053280460421018)  \n",
       " 78 -0.000144       0.0                        (1.4958436480321966,)  \n",
       " 79 -0.084911   0.02492                                       (1.0,)  \n",
       " \n",
       " [80 rows x 6 columns],\n",
       " 'histdata': (array([ 0.13959639,  0.        ,  0.        ,  0.        ,  0.        ,\n",
       "          0.27919279,  0.27919279,  0.        ,  0.27919279,  0.27919279,\n",
       "          0.27919279,  0.55838558,  0.83757837,  2.09394592,  0.41878918,\n",
       "          1.39596394,  2.65233149,  1.39596394,  2.65233149,  3.21071707,\n",
       "          4.60668101,  3.90869904,  7.25901251,  8.79457284, 17.44954929,\n",
       "         37.55143008, 61.7016063 , 73.28810703, 59.88685318, 35.31788777,\n",
       "         16.19318174,  7.53820529,  5.30466299,  5.44425938,  4.74627741,\n",
       "          3.07112068,  2.5127351 ,  1.95434952,  2.65233149,  1.39596394,\n",
       "          1.67515673,  0.55838558,  0.55838558,  0.97717476,  0.55838558,\n",
       "          0.55838558,  0.13959639,  0.13959639,  0.27919279,  0.41878918]),\n",
       "  array([-7.05575785e-02, -6.79479213e-02, -6.53382642e-02, -6.27286071e-02,\n",
       "         -6.01189500e-02, -5.75092928e-02, -5.48996357e-02, -5.22899786e-02,\n",
       "         -4.96803215e-02, -4.70706644e-02, -4.44610072e-02, -4.18513501e-02,\n",
       "         -3.92416930e-02, -3.66320359e-02, -3.40223787e-02, -3.14127216e-02,\n",
       "         -2.88030645e-02, -2.61934074e-02, -2.35837502e-02, -2.09740931e-02,\n",
       "         -1.83644360e-02, -1.57547789e-02, -1.31451217e-02, -1.05354646e-02,\n",
       "         -7.92580750e-03, -5.31615037e-03, -2.70649325e-03, -9.68361273e-05,\n",
       "          2.51282100e-03,  5.12247812e-03,  7.73213524e-03,  1.03417924e-02,\n",
       "          1.29514495e-02,  1.55611066e-02,  1.81707637e-02,  2.07804209e-02,\n",
       "          2.33900780e-02,  2.59997351e-02,  2.86093922e-02,  3.12190494e-02,\n",
       "          3.38287065e-02,  3.64383636e-02,  3.90480207e-02,  4.16576779e-02,\n",
       "          4.42673350e-02,  4.68769921e-02,  4.94866492e-02,  5.20963063e-02,\n",
       "          5.47059635e-02,  5.73156206e-02])),\n",
       " 'size': 2745,\n",
       " 'alpha': 0.05,\n",
       " 'stats': 'RSS',\n",
       " 'bins': 50,\n",
       " 'bound': 'both',\n",
       " 'distr': 'full',\n",
       " 'method': 'parametric',\n",
       " 'multtest': 'fdr_bh',\n",
       " 'n_perm': 10000,\n",
       " 'smooth': None,\n",
       " 'weighted': True,\n",
       " 'f': 1.5}"
      ]
     },
     "execution_count": 10,
     "metadata": {},
     "output_type": "execute_result"
    }
   ],
   "source": [
    "gen_res"
   ]
  },
  {
   "cell_type": "code",
   "execution_count": 11,
   "id": "fa2bd30d",
   "metadata": {},
   "outputs": [],
   "source": [
    "def plot_distribution(data, model = {}, title='', figsize=(10, 8), xlim=None, ylim=None, fig=None, ax=None, plot_hist=False, lw=2, c='blue'):\n",
    "    \n",
    "    # Store output and function parameters\n",
    "    Param = {}\n",
    "    Param['title'] = title\n",
    "    Param['figsize'] = figsize\n",
    "    Param['xlim'] = xlim\n",
    "    Param['ylim'] = ylim\n",
    "\n",
    "    # Make figure\n",
    "    best_dist = model['distr']\n",
    "    best_fit_name = model['name']\n",
    "    best_fit_param = model['params']\n",
    "    arg = model['params'][:-2]\n",
    "    loc = model['params'][-2]\n",
    "    scale = model['params'][-1]\n",
    "    distline = getattr(stats, model['name'])\n",
    "\n",
    "    # Get pdf boundaries\n",
    "    getmin = distline.ppf(0.0000001, *arg, loc=loc, scale=scale) if arg else distline.ppf(0.0000001, loc=loc, scale=scale)\n",
    "    getmax = distline.ppf(0.9999999, *arg, loc=loc, scale=scale) if arg else distline.ppf(0.9999999, loc=loc, scale=scale)\n",
    "\n",
    "    # Take maximum/minimum based on empirical data to avoid long theoretical distribution tails\n",
    "    y, b = np.histogram(data, bins=n_bins, density=True)\n",
    "    getmax = np.minimum(getmax, np.max(b))\n",
    "    getmin = np.maximum(getmin, np.min(b))\n",
    "\n",
    "    # Build pdf and turn into pandas Series\n",
    "    x = np.linspace(getmin, getmax, len(data))\n",
    "    y = distline.pdf(x, loc=loc, scale=scale, *arg)\n",
    "\n",
    "    if ax is None:\n",
    "        fig, ax = plt.subplots(figsize=figsize)\n",
    "    \n",
    "    if plot_hist:\n",
    "        # Plot empirical data\n",
    "        ax.hist(data, n_bins, density = True)\n",
    "    \n",
    "    # Plot pdf\n",
    "    ax.plot(x, y, linewidth=lw, label=best_fit_name, color=c)\n",
    "    \n",
    "    ax.legend()\n",
    "    ax.grid(True)\n",
    "    \n",
    "    return (fig, ax)"
   ]
  },
  {
   "cell_type": "code",
   "execution_count": 12,
   "id": "44b54c25",
   "metadata": {},
   "outputs": [
    {
     "data": {
      "application/vnd.jupyter.widget-view+json": {
       "model_id": "c9936c092a7b40c59eccc2fb57d234a3",
       "version_major": 2,
       "version_minor": 0
      },
      "text/plain": [
       "Canvas(toolbar=Toolbar(toolitems=[('Home', 'Reset original view', 'home', 'home'), ('Back', 'Back to previous …"
      ]
     },
     "metadata": {},
     "output_type": "display_data"
    },
    {
     "data": {
      "text/plain": [
       "(<Figure size 1000x800 with 1 Axes>, <AxesSubplot:>)"
      ]
     },
     "execution_count": 12,
     "metadata": {},
     "output_type": "execute_result"
    }
   ],
   "source": [
    "plot_distribution(gen_coeffs[0], model = gen_res['model'], plot_hist=False, c = 'black')"
   ]
  },
  {
   "cell_type": "markdown",
   "id": "3026782a",
   "metadata": {},
   "source": [
    "## Coeff 0 "
   ]
  },
  {
   "cell_type": "code",
   "execution_count": 14,
   "id": "1789408e",
   "metadata": {},
   "outputs": [
    {
     "data": {
      "application/vnd.jupyter.widget-view+json": {
       "model_id": "4fbd87f4e79c468bb4e606b69f46d5e8",
       "version_major": 2,
       "version_minor": 0
      },
      "text/plain": [
       "Canvas(toolbar=Toolbar(toolitems=[('Home', 'Reset original view', 'home', 'home'), ('Back', 'Back to previous …"
      ]
     },
     "metadata": {},
     "output_type": "display_data"
    },
    {
     "data": {
      "text/plain": [
       "(None, <AxesSubplot:>)"
      ]
     },
     "execution_count": 14,
     "metadata": {},
     "output_type": "execute_result"
    }
   ],
   "source": [
    "fig, ax = plt.subplots(figsize=(9,5))\n",
    "\n",
    "gen_dist = distfit(distr='full')\n",
    "# gen_dist = distfit()\n",
    "gen_res = gen_dist.fit_transform(gen_coeffs[0], verbose=1)\n",
    "\n",
    "laser_dist = distfit(distr='full')\n",
    "# laser_dist = distfit()\n",
    "laser_res = laser_dist.fit_transform(laser_coeffs[0], verbose=1)\n",
    "\n",
    "plot_distribution(gen_coeffs[0], model = gen_res['model'], plot_hist=False, c = 'blue', ax=ax)\n",
    "plot_distribution(laser_coeffs[0], model = laser_res['model'], plot_hist=False, c = 'orange', ax=ax)"
   ]
  },
  {
   "cell_type": "markdown",
   "id": "4d1fe58e",
   "metadata": {},
   "source": [
    "### Subplot containing all coefficients for full size of distributions"
   ]
  },
  {
   "cell_type": "code",
   "execution_count": 18,
   "id": "4f00e3d3",
   "metadata": {},
   "outputs": [
    {
     "data": {
      "application/vnd.jupyter.widget-view+json": {
       "model_id": "c63c2f85ac2f4dd292dbc59968439871",
       "version_major": 2,
       "version_minor": 0
      },
      "text/plain": [
       "Canvas(toolbar=Toolbar(toolitems=[('Home', 'Reset original view', 'home', 'home'), ('Back', 'Back to previous …"
      ]
     },
     "metadata": {},
     "output_type": "display_data"
    }
   ],
   "source": [
    "fig, axes = plt.subplots(2, 3, figsize=(12,8))\n",
    "\n",
    "n_bins = 150\n",
    "\n",
    "save_fig = True\n",
    "\n",
    "gen_dist = distfit(distr='full')\n",
    "laser_dist = distfit(distr='full')\n",
    "\n",
    "for ax, c in zip(axes.flatten(), range(6)):\n",
    "    \n",
    "    # gen_dist = distfit()\n",
    "    gen_res = gen_dist.fit_transform(gen_coeffs[c], verbose=1)\n",
    "    \n",
    "    # laser_dist = distfit()\n",
    "    laser_res = laser_dist.fit_transform(laser_coeffs[c], verbose=1)\n",
    "\n",
    "    plot_distribution(gen_coeffs[c], model = gen_res['model'], plot_hist=False, c = 'blue', ax=ax)\n",
    "    plot_distribution(laser_coeffs[c], model = laser_res['model'], plot_hist=False, c = 'orange', ax=ax)\n",
    "    \n",
    "#     ax.hist(gen_coeffs[c], n_bins, label = 'acoustic induced audio')\n",
    "#     ax.hist(laser_coeffs[c], n_bins, label = 'laser induced audio')\n",
    "# #     ax.legend(loc='upper right')\n",
    "\n",
    "#     ax.axvline(np.mean(gen_coeffs[c]), color='r', linestyle='dashed', linewidth=1)\n",
    "    \n",
    "#     ax.xaxis.set_major_formatter(FormatStrFormatter('%.2f'))\n",
    "# #     ax.yaxis.set_major_formatter(FormatStrFormatter('%.2f'))\n",
    "    \n",
    "#     ax.set_title('Coefficient {}'.format(c), fontsize = 10)\n",
    "    \n",
    "#     if c == 2:\n",
    "#         ax.legend(loc='upper right', prop={'size': 7})\n",
    "    \n",
    "# handles, labels = ax.get_legend_handles_labels()\n",
    "# fig.legend(handles, labels, loc='upper center', prop={'size': 8})\n",
    "\n",
    "if save_fig:\n",
    "    if not os.path.exists('Distribution/'):False\n",
    "        os.makedirs('Distribution/')\n",
    "        \n",
    "#     r_int = random.randint(0,10)\n",
    "    plt.savefig('Distribution/' + 'Distri_all_coeff_all_distribution.png')\n"
   ]
  },
  {
   "cell_type": "markdown",
   "id": "39f55c65",
   "metadata": {},
   "source": [
    "### Subplot containing all coefficients for most common distributions"
   ]
  },
  {
   "cell_type": "code",
   "execution_count": 26,
   "id": "a2a4eb41",
   "metadata": {},
   "outputs": [
    {
     "data": {
      "application/vnd.jupyter.widget-view+json": {
       "model_id": "1a7241eeef6641d2b305a4b7d95beda0",
       "version_major": 2,
       "version_minor": 0
      },
      "text/plain": [
       "Canvas(toolbar=Toolbar(toolitems=[('Home', 'Reset original view', 'home', 'home'), ('Back', 'Back to previous …"
      ]
     },
     "metadata": {},
     "output_type": "display_data"
    }
   ],
   "source": [
    "fig, axes = plt.subplots(2, 3, figsize=(12,8))\n",
    "\n",
    "n_bins = 150\n",
    "\n",
    "save_fig = True\n",
    "\n",
    "gen_dist = distfit(distr=list_of_dists)\n",
    "laser_dist = distfit(distr=list_of_dists)\n",
    "\n",
    "for ax, c in zip(axes.flatten(), range(6)):\n",
    "    \n",
    "    # gen_dist = distfit()\n",
    "    gen_res = gen_dist.fit_transform(gen_coeffs[c], verbose=1)\n",
    "    \n",
    "    # laser_dist = distfit()\n",
    "    laser_res = laser_dist.fit_transform(laser_coeffs[c], verbose=1)\n",
    "\n",
    "    plot_distribution(gen_coeffs[c], model = gen_res['model'], plot_hist=False, c = 'blue', ax=ax)\n",
    "    plot_distribution(laser_coeffs[c], model = laser_res['model'], plot_hist=False, c = 'orange', ax=ax)\n",
    "    \n",
    "#     ax.hist(gen_coeffs[c], n_bins, label = 'acoustic induced audio')\n",
    "#     ax.hist(laser_coeffs[c], n_bins, label = 'laser induced audio')\n",
    "# #     ax.legend(loc='upper right')\n",
    "\n",
    "#     ax.axvline(np.mean(gen_coeffs[c]), color='r', linestyle='dashed', linewidth=1)\n",
    "    \n",
    "#     ax.xaxis.set_major_formatter(FormatStrFormatter('%.2f'))\n",
    "#     ax.yaxis.set_major_formatter(FormatStrFormatter('%.2f'))\n",
    "    \n",
    "    ax.set_title('Coefficient {}'.format(c), fontsize = 10)\n",
    "    \n",
    "#     if c == 2:\n",
    "#         ax.legend(loc='upper right', prop={'size': 7})\n",
    "    \n",
    "# handles, labels = ax.get_legend_handles_labels()\n",
    "# fig.legend(handles, labels, loc='upper center', prop={'size': 8})\n",
    "\n",
    "fig.suptitle('Laser-induced vs Acoustic-induced Audio Distributions for Detail and Approximation Coefficients')\n",
    "fig.legend(['acoustic induced audio', 'laser induced audio'])\n",
    "\n",
    "if save_fig:\n",
    "    if not os.path.exists('Distribution/'):\n",
    "        os.makedirs('Distribution/')\n",
    "#     r_int = random.randint(0,10)\n",
    "    plt.savefig('Distribution/' + 'Distri_all_coeff_most_common_distribution.png')\n"
   ]
  },
  {
   "cell_type": "code",
   "execution_count": null,
   "id": "9736f5ea",
   "metadata": {},
   "outputs": [],
   "source": []
  },
  {
   "cell_type": "code",
   "execution_count": null,
   "id": "022ffb7b",
   "metadata": {},
   "outputs": [],
   "source": []
  },
  {
   "cell_type": "code",
   "execution_count": null,
   "id": "9ceaec82",
   "metadata": {},
   "outputs": [],
   "source": []
  },
  {
   "cell_type": "code",
   "execution_count": null,
   "id": "97a1b2ce",
   "metadata": {},
   "outputs": [],
   "source": []
  },
  {
   "cell_type": "code",
   "execution_count": null,
   "id": "b49ff360",
   "metadata": {},
   "outputs": [],
   "source": []
  }
 ],
 "metadata": {
  "kernelspec": {
   "display_name": "laser_injection",
   "language": "python",
   "name": "laser_injection"
  },
  "language_info": {
   "codemirror_mode": {
    "name": "ipython",
    "version": 3
   },
   "file_extension": ".py",
   "mimetype": "text/x-python",
   "name": "python",
   "nbconvert_exporter": "python",
   "pygments_lexer": "ipython3",
   "version": "3.8.10"
  }
 },
 "nbformat": 4,
 "nbformat_minor": 5
}
