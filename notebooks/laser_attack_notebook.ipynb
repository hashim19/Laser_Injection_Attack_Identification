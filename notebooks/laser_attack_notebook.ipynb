{
 "cells": [
  {
   "cell_type": "code",
   "execution_count": 1,
   "id": "lesser-outside",
   "metadata": {},
   "outputs": [],
   "source": [
    "import os\n",
    "import pandas as pd\n",
    "import librosa\n",
    "import librosa.display\n",
    "import glob \n",
    "import numpy as np\n",
    "import matplotlib.pyplot as plt\n",
    "from matplotlib import cm\n",
    "import seaborn as sns\n",
    "from fitter import Fitter, get_common_distributions, get_distributions\n",
    "\n",
    "from sklearn.preprocessing import StandardScaler\n",
    "import sklearn\n",
    "\n",
    "from utils import plot_projections\n",
    "\n",
    "%matplotlib widget"
   ]
  },
  {
   "cell_type": "code",
   "execution_count": 2,
   "id": "developmental-cruise",
   "metadata": {},
   "outputs": [
    {
     "name": "stdout",
     "output_type": "stream",
     "text": [
      "['/home/hashim/PHD/audio_data/Laser_Original_New/Laser/laser_000.mp3', '/home/hashim/PHD/audio_data/Laser_Original_New/Laser/laser_001.mp3', '/home/hashim/PHD/audio_data/Laser_Original_New/Laser/laser_002.mp3', '/home/hashim/PHD/audio_data/Laser_Original_New/Laser/laser_003.mp3', '/home/hashim/PHD/audio_data/Laser_Original_New/Laser/laser_004.mp3', '/home/hashim/PHD/audio_data/Laser_Original_New/Laser/laser_005.mp3', '/home/hashim/PHD/audio_data/Laser_Original_New/Laser/laser_007.mp3', '/home/hashim/PHD/audio_data/Laser_Original_New/Laser/laser_008.mp3', '/home/hashim/PHD/audio_data/Laser_Original_New/Laser/laser_009.mp3', '/home/hashim/PHD/audio_data/Laser_Original_New/Laser/laser_010.mp3', '/home/hashim/PHD/audio_data/Laser_Original_New/Laser_cleaned/laser_000_000.mp3', '/home/hashim/PHD/audio_data/Laser_Original_New/Laser_cleaned/laser_000_001.mp3', '/home/hashim/PHD/audio_data/Laser_Original_New/Laser_cleaned/laser_000_002.mp3', '/home/hashim/PHD/audio_data/Laser_Original_New/Laser_cleaned/laser_000_003.mp3', '/home/hashim/PHD/audio_data/Laser_Original_New/Laser_cleaned/laser_000_004.mp3', '/home/hashim/PHD/audio_data/Laser_Original_New/Laser_cleaned/laser_000_005.mp3', '/home/hashim/PHD/audio_data/Laser_Original_New/Laser_cleaned/laser_000_006.mp3', '/home/hashim/PHD/audio_data/Laser_Original_New/Laser_cleaned/laser_000_007.mp3', '/home/hashim/PHD/audio_data/Laser_Original_New/Laser_cleaned/laser_001_000.mp3', '/home/hashim/PHD/audio_data/Laser_Original_New/Laser_cleaned/laser_001_001.mp3', '/home/hashim/PHD/audio_data/Laser_Original_New/Laser_cleaned/laser_001_002.mp3', '/home/hashim/PHD/audio_data/Laser_Original_New/Laser_cleaned/laser_001_003.mp3', '/home/hashim/PHD/audio_data/Laser_Original_New/Laser_cleaned/laser_001_004.mp3', '/home/hashim/PHD/audio_data/Laser_Original_New/Laser_cleaned/laser_001_005.mp3', '/home/hashim/PHD/audio_data/Laser_Original_New/Laser_cleaned/laser_001_006.mp3', '/home/hashim/PHD/audio_data/Laser_Original_New/Laser_cleaned/laser_001_007.mp3', '/home/hashim/PHD/audio_data/Laser_Original_New/Laser_cleaned/laser_001_008.mp3', '/home/hashim/PHD/audio_data/Laser_Original_New/Laser_cleaned/laser_002_000.mp3', '/home/hashim/PHD/audio_data/Laser_Original_New/Laser_cleaned/laser_002_001.mp3', '/home/hashim/PHD/audio_data/Laser_Original_New/Laser_cleaned/laser_002_002.mp3', '/home/hashim/PHD/audio_data/Laser_Original_New/Laser_cleaned/laser_002_003.mp3', '/home/hashim/PHD/audio_data/Laser_Original_New/Laser_cleaned/laser_002_005.mp3', '/home/hashim/PHD/audio_data/Laser_Original_New/Laser_cleaned/laser_002_007.mp3', '/home/hashim/PHD/audio_data/Laser_Original_New/Laser_cleaned/laser_002_009.mp3', '/home/hashim/PHD/audio_data/Laser_Original_New/Laser_cleaned/laser_003_000.mp3', '/home/hashim/PHD/audio_data/Laser_Original_New/Laser_cleaned/laser_003_001.mp3', '/home/hashim/PHD/audio_data/Laser_Original_New/Laser_cleaned/laser_003_002.mp3', '/home/hashim/PHD/audio_data/Laser_Original_New/Laser_cleaned/laser_003_003.mp3', '/home/hashim/PHD/audio_data/Laser_Original_New/Laser_cleaned/laser_003_004.mp3', '/home/hashim/PHD/audio_data/Laser_Original_New/Laser_cleaned/laser_003_005.mp3', '/home/hashim/PHD/audio_data/Laser_Original_New/Laser_cleaned/laser_004_000.mp3', '/home/hashim/PHD/audio_data/Laser_Original_New/Laser_cleaned/laser_004_001.mp3', '/home/hashim/PHD/audio_data/Laser_Original_New/Laser_cleaned/laser_004_002.mp3', '/home/hashim/PHD/audio_data/Laser_Original_New/Laser_cleaned/laser_004_003.mp3', '/home/hashim/PHD/audio_data/Laser_Original_New/Laser_cleaned/laser_004_004.mp3', '/home/hashim/PHD/audio_data/Laser_Original_New/Laser_cleaned/laser_004_005.mp3', '/home/hashim/PHD/audio_data/Laser_Original_New/Laser_cleaned/laser_004_006.mp3', '/home/hashim/PHD/audio_data/Laser_Original_New/Laser_cleaned/laser_004_007.mp3', '/home/hashim/PHD/audio_data/Laser_Original_New/Laser_cleaned/laser_004_009.mp3', '/home/hashim/PHD/audio_data/Laser_Original_New/Laser_cleaned/laser_005_000.mp3', '/home/hashim/PHD/audio_data/Laser_Original_New/Laser_cleaned/laser_005_001.mp3', '/home/hashim/PHD/audio_data/Laser_Original_New/Laser_cleaned/laser_005_002.mp3', '/home/hashim/PHD/audio_data/Laser_Original_New/Laser_cleaned/laser_005_003.mp3', '/home/hashim/PHD/audio_data/Laser_Original_New/Laser_cleaned/laser_005_004.mp3', '/home/hashim/PHD/audio_data/Laser_Original_New/Laser_cleaned/laser_007_000.mp3', '/home/hashim/PHD/audio_data/Laser_Original_New/Laser_cleaned/laser_007_001.mp3', '/home/hashim/PHD/audio_data/Laser_Original_New/Laser_cleaned/laser_007_002.mp3', '/home/hashim/PHD/audio_data/Laser_Original_New/Laser_cleaned/laser_007_003.mp3', '/home/hashim/PHD/audio_data/Laser_Original_New/Laser_cleaned/laser_007_004.mp3', '/home/hashim/PHD/audio_data/Laser_Original_New/Laser_cleaned/laser_007_005.mp3', '/home/hashim/PHD/audio_data/Laser_Original_New/Laser_cleaned/laser_007_007.mp3', '/home/hashim/PHD/audio_data/Laser_Original_New/Laser_cleaned/laser_007_008.mp3', '/home/hashim/PHD/audio_data/Laser_Original_New/Laser_cleaned/laser_007_009.mp3', '/home/hashim/PHD/audio_data/Laser_Original_New/Laser_cleaned/laser_008_000.mp3', '/home/hashim/PHD/audio_data/Laser_Original_New/Laser_cleaned/laser_008_001.mp3', '/home/hashim/PHD/audio_data/Laser_Original_New/Laser_cleaned/laser_008_002.mp3', '/home/hashim/PHD/audio_data/Laser_Original_New/Laser_cleaned/laser_008_003.mp3', '/home/hashim/PHD/audio_data/Laser_Original_New/Laser_cleaned/laser_008_004.mp3', '/home/hashim/PHD/audio_data/Laser_Original_New/Laser_cleaned/laser_009_000.mp3', '/home/hashim/PHD/audio_data/Laser_Original_New/Laser_cleaned/laser_009_001.mp3', '/home/hashim/PHD/audio_data/Laser_Original_New/Laser_cleaned/laser_009_002.mp3', '/home/hashim/PHD/audio_data/Laser_Original_New/Laser_cleaned/laser_009_003.mp3', '/home/hashim/PHD/audio_data/Laser_Original_New/Laser_cleaned/laser_009_004.mp3', '/home/hashim/PHD/audio_data/Laser_Original_New/Laser_cleaned/laser_009_005.mp3', '/home/hashim/PHD/audio_data/Laser_Original_New/Laser_cleaned/laser_010_001.mp3', '/home/hashim/PHD/audio_data/Laser_Original_New/Laser_cleaned/laser_010_002.mp3', '/home/hashim/PHD/audio_data/Laser_Original_New/Laser_cleaned/laser_010_003.mp3', '/home/hashim/PHD/audio_data/Laser_Original_New/Laser_cleaned/laser_010_004.mp3', '/home/hashim/PHD/audio_data/Laser_Original_New/Laser_cleaned/laser_010_005.mp3', '/home/hashim/PHD/audio_data/Laser_Original_New/Laser_cleaned/laser_010_006.mp3', '/home/hashim/PHD/audio_data/Laser_Original_New/Laser_cleaned/laser_010_007.mp3', '/home/hashim/PHD/audio_data/Laser_Original_New/Laser_cleaned/laser_010_008.mp3', '/home/hashim/PHD/audio_data/Laser_Original_New/Original/original_000.mp3', '/home/hashim/PHD/audio_data/Laser_Original_New/Original/original_001.mp3', '/home/hashim/PHD/audio_data/Laser_Original_New/Original/original_002.mp3', '/home/hashim/PHD/audio_data/Laser_Original_New/Original/original_003.mp3', '/home/hashim/PHD/audio_data/Laser_Original_New/Original/original_004.mp3', '/home/hashim/PHD/audio_data/Laser_Original_New/Original/original_005.mp3', '/home/hashim/PHD/audio_data/Laser_Original_New/Original/original_006.mp3', '/home/hashim/PHD/audio_data/Laser_Original_New/Original/original_007.mp3', '/home/hashim/PHD/audio_data/Laser_Original_New/Original/original_008.mp3', '/home/hashim/PHD/audio_data/Laser_Original_New/Original/original_009.mp3', '/home/hashim/PHD/audio_data/Laser_Original_New/Original_cleaned/original_000_000.mp3', '/home/hashim/PHD/audio_data/Laser_Original_New/Original_cleaned/original_000_001.mp3', '/home/hashim/PHD/audio_data/Laser_Original_New/Original_cleaned/original_000_002.mp3', '/home/hashim/PHD/audio_data/Laser_Original_New/Original_cleaned/original_000_003.mp3', '/home/hashim/PHD/audio_data/Laser_Original_New/Original_cleaned/original_000_004.mp3', '/home/hashim/PHD/audio_data/Laser_Original_New/Original_cleaned/original_000_005.mp3', '/home/hashim/PHD/audio_data/Laser_Original_New/Original_cleaned/original_000_006.mp3', '/home/hashim/PHD/audio_data/Laser_Original_New/Original_cleaned/original_000_007.mp3', '/home/hashim/PHD/audio_data/Laser_Original_New/Original_cleaned/original_001_000.mp3', '/home/hashim/PHD/audio_data/Laser_Original_New/Original_cleaned/original_001_001.mp3', '/home/hashim/PHD/audio_data/Laser_Original_New/Original_cleaned/original_001_002.mp3', '/home/hashim/PHD/audio_data/Laser_Original_New/Original_cleaned/original_001_003.mp3', '/home/hashim/PHD/audio_data/Laser_Original_New/Original_cleaned/original_001_004.mp3', '/home/hashim/PHD/audio_data/Laser_Original_New/Original_cleaned/original_001_005.mp3', '/home/hashim/PHD/audio_data/Laser_Original_New/Original_cleaned/original_002_000.mp3', '/home/hashim/PHD/audio_data/Laser_Original_New/Original_cleaned/original_002_001.mp3', '/home/hashim/PHD/audio_data/Laser_Original_New/Original_cleaned/original_002_002.mp3', '/home/hashim/PHD/audio_data/Laser_Original_New/Original_cleaned/original_002_003.mp3', '/home/hashim/PHD/audio_data/Laser_Original_New/Original_cleaned/original_002_004.mp3', '/home/hashim/PHD/audio_data/Laser_Original_New/Original_cleaned/original_002_005.mp3', '/home/hashim/PHD/audio_data/Laser_Original_New/Original_cleaned/original_002_006.mp3', '/home/hashim/PHD/audio_data/Laser_Original_New/Original_cleaned/original_002_007.mp3', '/home/hashim/PHD/audio_data/Laser_Original_New/Original_cleaned/original_002_008.mp3', '/home/hashim/PHD/audio_data/Laser_Original_New/Original_cleaned/original_002_009.mp3', '/home/hashim/PHD/audio_data/Laser_Original_New/Original_cleaned/original_003_000.mp3', '/home/hashim/PHD/audio_data/Laser_Original_New/Original_cleaned/original_003_001.mp3', '/home/hashim/PHD/audio_data/Laser_Original_New/Original_cleaned/original_003_002.mp3', '/home/hashim/PHD/audio_data/Laser_Original_New/Original_cleaned/original_003_003.mp3', '/home/hashim/PHD/audio_data/Laser_Original_New/Original_cleaned/original_003_004.mp3', '/home/hashim/PHD/audio_data/Laser_Original_New/Original_cleaned/original_003_005.mp3', '/home/hashim/PHD/audio_data/Laser_Original_New/Original_cleaned/original_004_000.mp3', '/home/hashim/PHD/audio_data/Laser_Original_New/Original_cleaned/original_004_001.mp3', '/home/hashim/PHD/audio_data/Laser_Original_New/Original_cleaned/original_004_002.mp3', '/home/hashim/PHD/audio_data/Laser_Original_New/Original_cleaned/original_004_003.mp3', '/home/hashim/PHD/audio_data/Laser_Original_New/Original_cleaned/original_004_004.mp3', '/home/hashim/PHD/audio_data/Laser_Original_New/Original_cleaned/original_004_005.mp3', '/home/hashim/PHD/audio_data/Laser_Original_New/Original_cleaned/original_004_006.mp3', '/home/hashim/PHD/audio_data/Laser_Original_New/Original_cleaned/original_004_007.mp3', '/home/hashim/PHD/audio_data/Laser_Original_New/Original_cleaned/original_004_008.mp3', '/home/hashim/PHD/audio_data/Laser_Original_New/Original_cleaned/original_004_009.mp3', '/home/hashim/PHD/audio_data/Laser_Original_New/Original_cleaned/original_005_000.mp3', '/home/hashim/PHD/audio_data/Laser_Original_New/Original_cleaned/original_005_001.mp3', '/home/hashim/PHD/audio_data/Laser_Original_New/Original_cleaned/original_005_002.mp3', '/home/hashim/PHD/audio_data/Laser_Original_New/Original_cleaned/original_005_003.mp3', '/home/hashim/PHD/audio_data/Laser_Original_New/Original_cleaned/original_005_004.mp3', '/home/hashim/PHD/audio_data/Laser_Original_New/Original_cleaned/original_006_000.mp3', '/home/hashim/PHD/audio_data/Laser_Original_New/Original_cleaned/original_006_001.mp3', '/home/hashim/PHD/audio_data/Laser_Original_New/Original_cleaned/original_006_002.mp3', '/home/hashim/PHD/audio_data/Laser_Original_New/Original_cleaned/original_006_003.mp3', '/home/hashim/PHD/audio_data/Laser_Original_New/Original_cleaned/original_006_004.mp3', '/home/hashim/PHD/audio_data/Laser_Original_New/Original_cleaned/original_006_005.mp3', '/home/hashim/PHD/audio_data/Laser_Original_New/Original_cleaned/original_006_006.mp3', '/home/hashim/PHD/audio_data/Laser_Original_New/Original_cleaned/original_006_007.mp3', '/home/hashim/PHD/audio_data/Laser_Original_New/Original_cleaned/original_006_008.mp3', '/home/hashim/PHD/audio_data/Laser_Original_New/Original_cleaned/original_006_009.mp3', '/home/hashim/PHD/audio_data/Laser_Original_New/Original_cleaned/original_007_000.mp3', '/home/hashim/PHD/audio_data/Laser_Original_New/Original_cleaned/original_007_001.mp3', '/home/hashim/PHD/audio_data/Laser_Original_New/Original_cleaned/original_007_002.mp3', '/home/hashim/PHD/audio_data/Laser_Original_New/Original_cleaned/original_007_003.mp3', '/home/hashim/PHD/audio_data/Laser_Original_New/Original_cleaned/original_008_000.mp3', '/home/hashim/PHD/audio_data/Laser_Original_New/Original_cleaned/original_008_001.mp3', '/home/hashim/PHD/audio_data/Laser_Original_New/Original_cleaned/original_008_002.mp3', '/home/hashim/PHD/audio_data/Laser_Original_New/Original_cleaned/original_008_003.mp3', '/home/hashim/PHD/audio_data/Laser_Original_New/Original_cleaned/original_008_004.mp3', '/home/hashim/PHD/audio_data/Laser_Original_New/Original_cleaned/original_009_000.mp3', '/home/hashim/PHD/audio_data/Laser_Original_New/Original_cleaned/original_009_001.mp3', '/home/hashim/PHD/audio_data/Laser_Original_New/Original_cleaned/original_009_002.mp3', '/home/hashim/PHD/audio_data/Laser_Original_New/Original_cleaned/original_009_003.mp3', '/home/hashim/PHD/audio_data/Laser_Original_New/Original_cleaned/original_009_004.mp3', '/home/hashim/PHD/audio_data/Laser_Original_New/Original_cleaned/original_009_005.mp3', '/home/hashim/PHD/audio_data/Laser_Original_New/Original_cleaned/original_009_006.mp3', '/home/hashim/PHD/audio_data/Laser_Original_New/Original_cleaned/original_009_007.mp3', '/home/hashim/PHD/audio_data/Laser_Original_New/Original_cleaned/original_009_008.mp3', '/home/hashim/PHD/audio_data/Laser_Original_New/Original_cleaned/original_009_009.mp3']\n",
      "166\n"
     ]
    }
   ],
   "source": [
    "audio_dir = '/home/hashim/PHD/audio_data/Laser_Original_New/'\n",
    "\n",
    "wav_files = list(glob.glob(os.path.join(audio_dir, '**/*.mp3')))\n",
    "wav_files.sort()\n",
    "print(wav_files)\n",
    "print(len(wav_files))"
   ]
  },
  {
   "cell_type": "code",
   "execution_count": 3,
   "id": "pregnant-vacation",
   "metadata": {},
   "outputs": [
    {
     "name": "stdout",
     "output_type": "stream",
     "text": [
      "['/home/hashim/PHD/audio_data/Laser_Original_New/Laser/laser_000.mp3', '/home/hashim/PHD/audio_data/Laser_Original_New/Laser/laser_001.mp3', '/home/hashim/PHD/audio_data/Laser_Original_New/Laser/laser_002.mp3', '/home/hashim/PHD/audio_data/Laser_Original_New/Laser/laser_003.mp3', '/home/hashim/PHD/audio_data/Laser_Original_New/Laser/laser_004.mp3', '/home/hashim/PHD/audio_data/Laser_Original_New/Laser/laser_005.mp3', '/home/hashim/PHD/audio_data/Laser_Original_New/Laser/laser_007.mp3', '/home/hashim/PHD/audio_data/Laser_Original_New/Laser/laser_008.mp3', '/home/hashim/PHD/audio_data/Laser_Original_New/Laser/laser_009.mp3', '/home/hashim/PHD/audio_data/Laser_Original_New/Laser/laser_010.mp3']\n",
      "10\n"
     ]
    }
   ],
   "source": [
    "laser_dir = '/home/hashim/PHD/audio_data/Laser_Original_New/Laser/'\n",
    "laser_files = list(glob.glob(os.path.join(laser_dir, '*.mp3')))\n",
    "laser_files.sort()\n",
    "print(laser_files)\n",
    "print(len(laser_files))"
   ]
  },
  {
   "cell_type": "code",
   "execution_count": 4,
   "id": "coated-gross",
   "metadata": {},
   "outputs": [
    {
     "name": "stdout",
     "output_type": "stream",
     "text": [
      "['/home/hashim/PHD/audio_data/Laser_Original_New/Original/original_000.mp3', '/home/hashim/PHD/audio_data/Laser_Original_New/Original/original_001.mp3', '/home/hashim/PHD/audio_data/Laser_Original_New/Original/original_002.mp3', '/home/hashim/PHD/audio_data/Laser_Original_New/Original/original_003.mp3', '/home/hashim/PHD/audio_data/Laser_Original_New/Original/original_004.mp3', '/home/hashim/PHD/audio_data/Laser_Original_New/Original/original_005.mp3', '/home/hashim/PHD/audio_data/Laser_Original_New/Original/original_006.mp3', '/home/hashim/PHD/audio_data/Laser_Original_New/Original/original_007.mp3', '/home/hashim/PHD/audio_data/Laser_Original_New/Original/original_008.mp3', '/home/hashim/PHD/audio_data/Laser_Original_New/Original/original_009.mp3']\n",
      "10\n"
     ]
    }
   ],
   "source": [
    "orig_dir = '/home/hashim/PHD/audio_data/Laser_Original_New/Original/'\n",
    "orig_files = list(glob.glob(os.path.join(orig_dir, '*.mp3')))\n",
    "orig_files.sort()\n",
    "print(orig_files)\n",
    "print(len(orig_files))"
   ]
  },
  {
   "cell_type": "code",
   "execution_count": 5,
   "id": "6f749ff9",
   "metadata": {},
   "outputs": [
    {
     "name": "stdout",
     "output_type": "stream",
     "text": [
      "10\n"
     ]
    },
    {
     "data": {
      "text/plain": [
       "10"
      ]
     },
     "execution_count": 5,
     "metadata": {},
     "output_type": "execute_result"
    }
   ],
   "source": [
    "print(len(laser_files))\n",
    "len(orig_files)"
   ]
  },
  {
   "cell_type": "code",
   "execution_count": 6,
   "id": "16afd887",
   "metadata": {},
   "outputs": [
    {
     "data": {
      "application/vnd.jupyter.widget-view+json": {
       "model_id": "8141f3f17652419d9b3deb9ad03039d3",
       "version_major": 2,
       "version_minor": 0
      },
      "text/plain": [
       "Canvas(toolbar=Toolbar(toolitems=[('Home', 'Reset original view', 'home', 'home'), ('Back', 'Back to previous …"
      ]
     },
     "metadata": {},
     "output_type": "display_data"
    }
   ],
   "source": [
    "# laser spectograms\n",
    "nrows = int(len(laser_files)/2)\n",
    "fig, axes = plt.subplots(nrows, 2, figsize=(12,16))\n",
    "\n",
    "# print(axes)\n",
    "ax = axes.flatten()\n",
    "i = 0\n",
    "for lf in laser_files:\n",
    "    audio_data, sr = librosa.load(lf, res_type='kaiser_fast')\n",
    "    stft = librosa.stft(audio_data, n_fft=256)\n",
    "    S_db = librosa.amplitude_to_db(np.abs(stft), ref=np.max)\n",
    "    \n",
    "    img = librosa.display.specshow(S_db, x_axis='time', y_axis='log', sr=sr, ax=ax[i])\n",
    "#     librosa.display.specshow(S_db, x_axis='time', y_axis='log', sr=sr, ax=ax[i])\n",
    "    i+=1\n",
    "# plt.title('Mel-frequency spectrogram')\n",
    "fig.colorbar(img, ax=ax, format='%+2.0f dB')\n",
    "plt.show()"
   ]
  },
  {
   "cell_type": "code",
   "execution_count": 7,
   "id": "14143e9f",
   "metadata": {},
   "outputs": [
    {
     "data": {
      "application/vnd.jupyter.widget-view+json": {
       "model_id": "dd856ab859d04c83a6c7fcb5463d274a",
       "version_major": 2,
       "version_minor": 0
      },
      "text/plain": [
       "Canvas(toolbar=Toolbar(toolitems=[('Home', 'Reset original view', 'home', 'home'), ('Back', 'Back to previous …"
      ]
     },
     "metadata": {},
     "output_type": "display_data"
    }
   ],
   "source": [
    "# Original spectograms\n",
    "nrows = int(len(orig_files)/2)\n",
    "fig, axes = plt.subplots(nrows, 2, figsize=(12,16))\n",
    "\n",
    "# print(axes)\n",
    "ax = axes.flatten()\n",
    "i = 0\n",
    "for of in orig_files:\n",
    "    audio_data, sr = librosa.load(of, res_type='kaiser_fast')\n",
    "    stft = librosa.stft(audio_data, n_fft=256)\n",
    "    S_db = librosa.amplitude_to_db(np.abs(stft), ref=np.max)\n",
    "    \n",
    "    img = librosa.display.specshow(S_db, x_axis='time', y_axis='log', sr=sr, ax=ax[i])\n",
    "#     librosa.display.specshow(S_db, x_axis='time', y_axis='log', sr=sr, ax=ax[i])\n",
    "    i+=1\n",
    "# plt.title('Mel-frequency spectrogram')\n",
    "fig.colorbar(img, ax=ax, format='%+2.0f dB')\n",
    "plt.show()"
   ]
  },
  {
   "cell_type": "code",
   "execution_count": null,
   "id": "0ba2e54e",
   "metadata": {},
   "outputs": [],
   "source": []
  },
  {
   "cell_type": "code",
   "execution_count": null,
   "id": "4793fc50",
   "metadata": {},
   "outputs": [],
   "source": []
  },
  {
   "cell_type": "code",
   "execution_count": 15,
   "id": "tender-aviation",
   "metadata": {},
   "outputs": [],
   "source": [
    "%%capture\n",
    "# compute spectograms for both laser and original\n",
    "laser_spec = []\n",
    "\n",
    "laser_mu_feat = []\n",
    "laser_sigma_feat = []\n",
    "laser_beta_feat = []\n",
    "for lf in laser_files:\n",
    "    audio_data, sr = librosa.load(lf, res_type='kaiser_fast')\n",
    "    stft = librosa.stft(audio_data, n_fft=256)\n",
    "    S_db = librosa.amplitude_to_db(np.abs(stft), ref=np.max)\n",
    "    \n",
    "    mu_feat = []\n",
    "    sigma_feat = []\n",
    "    beta_feat = []\n",
    "    for row in S_db:\n",
    "        \n",
    "        f = Fitter(row, distributions=[\"gennorm\"])\n",
    "\n",
    "        f.fit()\n",
    "#         print(f.get_best(method = 'sumsquare_error'))\n",
    "\n",
    "        f_param = f.fitted_param[\"gennorm\"]\n",
    "    \n",
    "#         print(f_param)\n",
    "#         print(f.summary())\n",
    "\n",
    "        mu_feat.append(f_param[1])\n",
    "        sigma_feat.append(f_param[2])\n",
    "        beta_feat.append(f_param[0])\n",
    "        \n",
    "    laser_mu_feat.append(mu_feat)\n",
    "    laser_sigma_feat.append(sigma_feat)\n",
    "    laser_beta_feat.append(beta_feat)    \n",
    "    \n",
    "laser_mu_feat = np.array(laser_mu_feat)\n",
    "laser_sigma_feat = np.array(laser_sigma_feat)\n",
    "laser_beta_feat = np.array(laser_beta_feat)\n",
    "\n",
    "#     laser_spec.append(S_db)\n",
    "\n",
    "# laser_spec = np.array(laser_spec)\n",
    "# laser_spec"
   ]
  },
  {
   "cell_type": "code",
   "execution_count": 16,
   "id": "entertaining-union",
   "metadata": {},
   "outputs": [
    {
     "name": "stdout",
     "output_type": "stream",
     "text": [
      "(129, 8607)\n",
      "(10, 129)\n",
      "(10, 129)\n",
      "(10, 129)\n"
     ]
    }
   ],
   "source": [
    "print(S_db.shape)\n",
    "print(laser_mu_feat.shape)\n",
    "print(laser_sigma_feat.shape)\n",
    "print(laser_beta_feat.shape)"
   ]
  },
  {
   "cell_type": "code",
   "execution_count": null,
   "id": "advanced-stevens",
   "metadata": {},
   "outputs": [],
   "source": []
  },
  {
   "cell_type": "code",
   "execution_count": 17,
   "id": "executive-calculator",
   "metadata": {},
   "outputs": [],
   "source": [
    "%%capture\n",
    "orig_spec = []\n",
    "\n",
    "orig_mu_feat = []\n",
    "orig_sigma_feat = []\n",
    "orig_beta_feat = []\n",
    "for of in orig_files:\n",
    "    audio_data, sr = librosa.load(of, res_type='kaiser_fast')\n",
    "    stft = librosa.stft(audio_data, n_fft=256)\n",
    "    S_db = librosa.amplitude_to_db(np.abs(stft), ref=np.max)\n",
    "    \n",
    "    mu_feat = []\n",
    "    sigma_feat = []\n",
    "    beta_feat = []\n",
    "    for row in S_db:\n",
    "        \n",
    "        f = Fitter(row, distributions=[\"gennorm\"])\n",
    "\n",
    "        f.fit()\n",
    "#         print(f.get_best(method = 'sumsquare_error'))\n",
    "\n",
    "        f_param = f.fitted_param[\"gennorm\"]\n",
    "\n",
    "        mu_feat.append(f_param[1])\n",
    "        sigma_feat.append(f_param[2])\n",
    "        beta_feat.append(f_param[0])\n",
    "        \n",
    "    orig_mu_feat.append(mu_feat)\n",
    "    orig_sigma_feat.append(sigma_feat)\n",
    "    orig_beta_feat.append(beta_feat)\n",
    "    \n",
    "orig_mu_feat = np.array(orig_mu_feat)\n",
    "orig_sigma_feat = np.array(orig_sigma_feat)\n",
    "orig_beta_feat = np.array(orig_beta_feat)\n",
    "\n",
    "#     orig_spec.append(S_db)\n",
    "\n",
    "# orig_spec = np.array(orig_spec)\n",
    "# orig_spec"
   ]
  },
  {
   "cell_type": "code",
   "execution_count": 18,
   "id": "individual-green",
   "metadata": {},
   "outputs": [
    {
     "name": "stdout",
     "output_type": "stream",
     "text": [
      "(10, 129)\n",
      "(10, 129)\n",
      "(10, 129)\n"
     ]
    }
   ],
   "source": [
    "print(orig_mu_feat.shape)\n",
    "print(orig_sigma_feat.shape)\n",
    "print(orig_beta_feat.shape)"
   ]
  },
  {
   "cell_type": "code",
   "execution_count": 19,
   "id": "greater-earthquake",
   "metadata": {},
   "outputs": [],
   "source": [
    "def plot_clusters(band_num):\n",
    "    \n",
    "    plt.figure(figsize=(10,3))\n",
    "    \n",
    "#     mean vs sigma\n",
    "    plt.subplot(1, 3, 1)\n",
    "    plt.scatter(orig_mu_feat[:,band_num], orig_sigma_feat[:,band_num], marker='o', label=\"Original\")\n",
    "    plt.scatter(laser_mu_feat[:,band_num], laser_sigma_feat[:,band_num], marker='x', label=\"Laser\")\n",
    "    plt.xlabel(\"Mean\")\n",
    "    plt.ylabel(\"Variance\")\n",
    "    plt.legend()\n",
    "    \n",
    "#     sigma vs beta\n",
    "    plt.subplot(1, 3, 2)\n",
    "    plt.scatter(orig_beta_feat[:,band_num], orig_sigma_feat[:,band_num], marker='o', label=\"Original\")\n",
    "    plt.scatter(laser_beta_feat[:,band_num], laser_sigma_feat[:,band_num], marker='x', label=\"Laser\")\n",
    "    plt.xlabel(\"Beta\")\n",
    "    plt.ylabel(\"Variance\")\n",
    "    plt.legend()\n",
    "     \n",
    "#     beta vs mean\n",
    "    plt.subplot(1, 3, 3)\n",
    "    plt.scatter(orig_mu_feat[:,band_num], orig_beta_feat[:,band_num], marker='o', label=\"Original\")\n",
    "    plt.scatter(laser_mu_feat[:,band_num], laser_beta_feat[:,band_num], marker='x', label=\"Laser\")\n",
    "    plt.xlabel(\"Mean\")\n",
    "    plt.ylabel(\"Beta\")\n",
    "    plt.legend()\n",
    "    \n",
    "    plt.suptitle(\"Laser vs Original for {}th Band\".format(band_num))\n",
    "    \n",
    "    fig = plt.figure(figsize=(10,3))\n",
    "#     plt.figure(figsize=(20,6))\n",
    "    ax = fig.add_subplot(projection='3d')\n",
    "    ax.scatter(orig_mu_feat[:,band_num], orig_sigma_feat[:,band_num], orig_beta_feat[:,band_num], marker='o', label=\"Original\")\n",
    "    ax.scatter(laser_mu_feat[:,band_num], laser_sigma_feat[:,band_num], laser_beta_feat[:,band_num], marker='x', label=\"Laser\")\n",
    "    ax.set_xlabel('Mean')\n",
    "    ax.set_ylabel('Variance')\n",
    "    ax.set_zlabel('Beta')\n",
    "    ax.legend()"
   ]
  },
  {
   "cell_type": "code",
   "execution_count": 20,
   "id": "ethical-projector",
   "metadata": {},
   "outputs": [
    {
     "data": {
      "application/vnd.jupyter.widget-view+json": {
       "model_id": "f208cde1248e422d8050812e4d4d392c",
       "version_major": 2,
       "version_minor": 0
      },
      "text/plain": [
       "Canvas(toolbar=Toolbar(toolitems=[('Home', 'Reset original view', 'home', 'home'), ('Back', 'Back to previous …"
      ]
     },
     "metadata": {},
     "output_type": "display_data"
    },
    {
     "data": {
      "application/vnd.jupyter.widget-view+json": {
       "model_id": "9738760f98e04d888ac71677f6cc53a8",
       "version_major": 2,
       "version_minor": 0
      },
      "text/plain": [
       "Canvas(toolbar=Toolbar(toolitems=[('Home', 'Reset original view', 'home', 'home'), ('Back', 'Back to previous …"
      ]
     },
     "metadata": {},
     "output_type": "display_data"
    }
   ],
   "source": [
    "Band_num = 10 \n",
    "plot_clusters(Band_num)"
   ]
  },
  {
   "cell_type": "code",
   "execution_count": 21,
   "id": "happy-accordance",
   "metadata": {},
   "outputs": [
    {
     "data": {
      "application/vnd.jupyter.widget-view+json": {
       "model_id": "83626faa156f42e2bef414a2bf59f184",
       "version_major": 2,
       "version_minor": 0
      },
      "text/plain": [
       "Canvas(toolbar=Toolbar(toolitems=[('Home', 'Reset original view', 'home', 'home'), ('Back', 'Back to previous …"
      ]
     },
     "metadata": {},
     "output_type": "display_data"
    },
    {
     "data": {
      "application/vnd.jupyter.widget-view+json": {
       "model_id": "00577d9c5e4e4d4da2014ac30d2a8efd",
       "version_major": 2,
       "version_minor": 0
      },
      "text/plain": [
       "Canvas(toolbar=Toolbar(toolitems=[('Home', 'Reset original view', 'home', 'home'), ('Back', 'Back to previous …"
      ]
     },
     "metadata": {},
     "output_type": "display_data"
    }
   ],
   "source": [
    "Band_num = 20\n",
    "plot_clusters(Band_num)"
   ]
  },
  {
   "cell_type": "code",
   "execution_count": 22,
   "id": "exotic-preservation",
   "metadata": {},
   "outputs": [
    {
     "data": {
      "application/vnd.jupyter.widget-view+json": {
       "model_id": "a071d74d10254caebb8e1fc2c57fbf07",
       "version_major": 2,
       "version_minor": 0
      },
      "text/plain": [
       "Canvas(toolbar=Toolbar(toolitems=[('Home', 'Reset original view', 'home', 'home'), ('Back', 'Back to previous …"
      ]
     },
     "metadata": {},
     "output_type": "display_data"
    },
    {
     "data": {
      "application/vnd.jupyter.widget-view+json": {
       "model_id": "a300b2768ba44004aa931574f3f9f3fb",
       "version_major": 2,
       "version_minor": 0
      },
      "text/plain": [
       "Canvas(toolbar=Toolbar(toolitems=[('Home', 'Reset original view', 'home', 'home'), ('Back', 'Back to previous …"
      ]
     },
     "metadata": {},
     "output_type": "display_data"
    }
   ],
   "source": [
    "Band_num = 30\n",
    "plot_clusters(Band_num)"
   ]
  },
  {
   "cell_type": "code",
   "execution_count": 23,
   "id": "young-factory",
   "metadata": {},
   "outputs": [
    {
     "data": {
      "application/vnd.jupyter.widget-view+json": {
       "model_id": "a6bfb7a7d2eb4e80998e171a612b2a31",
       "version_major": 2,
       "version_minor": 0
      },
      "text/plain": [
       "Canvas(toolbar=Toolbar(toolitems=[('Home', 'Reset original view', 'home', 'home'), ('Back', 'Back to previous …"
      ]
     },
     "metadata": {},
     "output_type": "display_data"
    },
    {
     "data": {
      "application/vnd.jupyter.widget-view+json": {
       "model_id": "d7134544dda84be2a4bce4c2b8f063c1",
       "version_major": 2,
       "version_minor": 0
      },
      "text/plain": [
       "Canvas(toolbar=Toolbar(toolitems=[('Home', 'Reset original view', 'home', 'home'), ('Back', 'Back to previous …"
      ]
     },
     "metadata": {},
     "output_type": "display_data"
    }
   ],
   "source": [
    "Band_num = 30\n",
    "plot_clusters(Band_num)"
   ]
  },
  {
   "cell_type": "code",
   "execution_count": 24,
   "id": "personal-eight",
   "metadata": {},
   "outputs": [
    {
     "data": {
      "application/vnd.jupyter.widget-view+json": {
       "model_id": "04514349ae4648a9beb63b6f66b00ce5",
       "version_major": 2,
       "version_minor": 0
      },
      "text/plain": [
       "Canvas(toolbar=Toolbar(toolitems=[('Home', 'Reset original view', 'home', 'home'), ('Back', 'Back to previous …"
      ]
     },
     "metadata": {},
     "output_type": "display_data"
    },
    {
     "data": {
      "application/vnd.jupyter.widget-view+json": {
       "model_id": "59a9a08b2f6f49e0b203159dcaefe696",
       "version_major": 2,
       "version_minor": 0
      },
      "text/plain": [
       "Canvas(toolbar=Toolbar(toolitems=[('Home', 'Reset original view', 'home', 'home'), ('Back', 'Back to previous …"
      ]
     },
     "metadata": {},
     "output_type": "display_data"
    }
   ],
   "source": [
    "Band_num = 40\n",
    "plot_clusters(Band_num)"
   ]
  },
  {
   "cell_type": "code",
   "execution_count": 25,
   "id": "pleasant-today",
   "metadata": {},
   "outputs": [
    {
     "data": {
      "application/vnd.jupyter.widget-view+json": {
       "model_id": "65b2ba49b9c64f41bb425c9b925be55d",
       "version_major": 2,
       "version_minor": 0
      },
      "text/plain": [
       "Canvas(toolbar=Toolbar(toolitems=[('Home', 'Reset original view', 'home', 'home'), ('Back', 'Back to previous …"
      ]
     },
     "metadata": {},
     "output_type": "display_data"
    },
    {
     "data": {
      "application/vnd.jupyter.widget-view+json": {
       "model_id": "c440d5a432aa44b9982265e98797d4b0",
       "version_major": 2,
       "version_minor": 0
      },
      "text/plain": [
       "Canvas(toolbar=Toolbar(toolitems=[('Home', 'Reset original view', 'home', 'home'), ('Back', 'Back to previous …"
      ]
     },
     "metadata": {},
     "output_type": "display_data"
    }
   ],
   "source": [
    "Band_num = 50\n",
    "plot_clusters(Band_num)"
   ]
  },
  {
   "cell_type": "code",
   "execution_count": 26,
   "id": "thermal-draft",
   "metadata": {},
   "outputs": [
    {
     "data": {
      "application/vnd.jupyter.widget-view+json": {
       "model_id": "17fae0e9c9e74c049a2baa88f9a2e8b1",
       "version_major": 2,
       "version_minor": 0
      },
      "text/plain": [
       "Canvas(toolbar=Toolbar(toolitems=[('Home', 'Reset original view', 'home', 'home'), ('Back', 'Back to previous …"
      ]
     },
     "metadata": {},
     "output_type": "display_data"
    },
    {
     "data": {
      "application/vnd.jupyter.widget-view+json": {
       "model_id": "84cde9d1b6bd44fe9b60587785035429",
       "version_major": 2,
       "version_minor": 0
      },
      "text/plain": [
       "Canvas(toolbar=Toolbar(toolitems=[('Home', 'Reset original view', 'home', 'home'), ('Back', 'Back to previous …"
      ]
     },
     "metadata": {},
     "output_type": "display_data"
    }
   ],
   "source": [
    "Band_num = 60\n",
    "plot_clusters(Band_num)"
   ]
  },
  {
   "cell_type": "code",
   "execution_count": 27,
   "id": "christian-dealing",
   "metadata": {},
   "outputs": [
    {
     "data": {
      "application/vnd.jupyter.widget-view+json": {
       "model_id": "e4198ed9911a42c2b8bd7140884273e9",
       "version_major": 2,
       "version_minor": 0
      },
      "text/plain": [
       "Canvas(toolbar=Toolbar(toolitems=[('Home', 'Reset original view', 'home', 'home'), ('Back', 'Back to previous …"
      ]
     },
     "metadata": {},
     "output_type": "display_data"
    },
    {
     "data": {
      "application/vnd.jupyter.widget-view+json": {
       "model_id": "6a0490dae4f34fcaaf49dc52d264c123",
       "version_major": 2,
       "version_minor": 0
      },
      "text/plain": [
       "Canvas(toolbar=Toolbar(toolitems=[('Home', 'Reset original view', 'home', 'home'), ('Back', 'Back to previous …"
      ]
     },
     "metadata": {},
     "output_type": "display_data"
    }
   ],
   "source": [
    "Band_num = 70\n",
    "plot_clusters(Band_num)"
   ]
  },
  {
   "cell_type": "code",
   "execution_count": 28,
   "id": "another-mercury",
   "metadata": {},
   "outputs": [
    {
     "data": {
      "application/vnd.jupyter.widget-view+json": {
       "model_id": "849331562cbf4ae7a1831e8048f9e784",
       "version_major": 2,
       "version_minor": 0
      },
      "text/plain": [
       "Canvas(toolbar=Toolbar(toolitems=[('Home', 'Reset original view', 'home', 'home'), ('Back', 'Back to previous …"
      ]
     },
     "metadata": {},
     "output_type": "display_data"
    },
    {
     "data": {
      "application/vnd.jupyter.widget-view+json": {
       "model_id": "327ed3739a654e138d190b8c34c72437",
       "version_major": 2,
       "version_minor": 0
      },
      "text/plain": [
       "Canvas(toolbar=Toolbar(toolitems=[('Home', 'Reset original view', 'home', 'home'), ('Back', 'Back to previous …"
      ]
     },
     "metadata": {},
     "output_type": "display_data"
    }
   ],
   "source": [
    "Band_num = 80\n",
    "plot_clusters(Band_num)"
   ]
  },
  {
   "cell_type": "code",
   "execution_count": 29,
   "id": "peaceful-place",
   "metadata": {},
   "outputs": [
    {
     "data": {
      "application/vnd.jupyter.widget-view+json": {
       "model_id": "0e9654c99bd447b3a55b1fee252e2ab5",
       "version_major": 2,
       "version_minor": 0
      },
      "text/plain": [
       "Canvas(toolbar=Toolbar(toolitems=[('Home', 'Reset original view', 'home', 'home'), ('Back', 'Back to previous …"
      ]
     },
     "metadata": {},
     "output_type": "display_data"
    },
    {
     "data": {
      "application/vnd.jupyter.widget-view+json": {
       "model_id": "0b76a83653e5473e98bb8b0a54e1acd5",
       "version_major": 2,
       "version_minor": 0
      },
      "text/plain": [
       "Canvas(toolbar=Toolbar(toolitems=[('Home', 'Reset original view', 'home', 'home'), ('Back', 'Back to previous …"
      ]
     },
     "metadata": {},
     "output_type": "display_data"
    }
   ],
   "source": [
    "Band_num = 90\n",
    "plot_clusters(Band_num)"
   ]
  },
  {
   "cell_type": "code",
   "execution_count": 30,
   "id": "manufactured-failing",
   "metadata": {},
   "outputs": [
    {
     "data": {
      "application/vnd.jupyter.widget-view+json": {
       "model_id": "5d31705e1fbd4e75be00efcc460565c7",
       "version_major": 2,
       "version_minor": 0
      },
      "text/plain": [
       "Canvas(toolbar=Toolbar(toolitems=[('Home', 'Reset original view', 'home', 'home'), ('Back', 'Back to previous …"
      ]
     },
     "metadata": {},
     "output_type": "display_data"
    },
    {
     "data": {
      "application/vnd.jupyter.widget-view+json": {
       "model_id": "74b76215a8bd4ae9824f1ee7ce27ada1",
       "version_major": 2,
       "version_minor": 0
      },
      "text/plain": [
       "Canvas(toolbar=Toolbar(toolitems=[('Home', 'Reset original view', 'home', 'home'), ('Back', 'Back to previous …"
      ]
     },
     "metadata": {},
     "output_type": "display_data"
    }
   ],
   "source": [
    "Band_num = 100\n",
    "plot_clusters(Band_num)"
   ]
  },
  {
   "cell_type": "code",
   "execution_count": 31,
   "id": "express-garbage",
   "metadata": {},
   "outputs": [
    {
     "data": {
      "application/vnd.jupyter.widget-view+json": {
       "model_id": "e50ed8b7d91549fd9859025fa9788947",
       "version_major": 2,
       "version_minor": 0
      },
      "text/plain": [
       "Canvas(toolbar=Toolbar(toolitems=[('Home', 'Reset original view', 'home', 'home'), ('Back', 'Back to previous …"
      ]
     },
     "metadata": {},
     "output_type": "display_data"
    },
    {
     "data": {
      "application/vnd.jupyter.widget-view+json": {
       "model_id": "35f772f20ea54c80936b73c5f2412744",
       "version_major": 2,
       "version_minor": 0
      },
      "text/plain": [
       "Canvas(toolbar=Toolbar(toolitems=[('Home', 'Reset original view', 'home', 'home'), ('Back', 'Back to previous …"
      ]
     },
     "metadata": {},
     "output_type": "display_data"
    }
   ],
   "source": [
    "Band_num = 110\n",
    "plot_clusters(Band_num)"
   ]
  },
  {
   "cell_type": "code",
   "execution_count": 32,
   "id": "alpine-arizona",
   "metadata": {},
   "outputs": [
    {
     "data": {
      "application/vnd.jupyter.widget-view+json": {
       "model_id": "88cd5715889b4815862aa254bfbe7aae",
       "version_major": 2,
       "version_minor": 0
      },
      "text/plain": [
       "Canvas(toolbar=Toolbar(toolitems=[('Home', 'Reset original view', 'home', 'home'), ('Back', 'Back to previous …"
      ]
     },
     "metadata": {},
     "output_type": "display_data"
    },
    {
     "data": {
      "application/vnd.jupyter.widget-view+json": {
       "model_id": "db6d326faf5b43d58bf6c99ebd936cee",
       "version_major": 2,
       "version_minor": 0
      },
      "text/plain": [
       "Canvas(toolbar=Toolbar(toolitems=[('Home', 'Reset original view', 'home', 'home'), ('Back', 'Back to previous …"
      ]
     },
     "metadata": {},
     "output_type": "display_data"
    }
   ],
   "source": [
    "Band_num = 120\n",
    "plot_clusters(Band_num)"
   ]
  },
  {
   "cell_type": "code",
   "execution_count": 33,
   "id": "narrative-summary",
   "metadata": {},
   "outputs": [
    {
     "data": {
      "application/vnd.jupyter.widget-view+json": {
       "model_id": "f7e68bdde3f24d808f0142d3ac5207c4",
       "version_major": 2,
       "version_minor": 0
      },
      "text/plain": [
       "Canvas(toolbar=Toolbar(toolitems=[('Home', 'Reset original view', 'home', 'home'), ('Back', 'Back to previous …"
      ]
     },
     "metadata": {},
     "output_type": "display_data"
    },
    {
     "data": {
      "application/vnd.jupyter.widget-view+json": {
       "model_id": "4a1d7f171b234bf3a2a075ea5a62123d",
       "version_major": 2,
       "version_minor": 0
      },
      "text/plain": [
       "Canvas(toolbar=Toolbar(toolitems=[('Home', 'Reset original view', 'home', 'home'), ('Back', 'Back to previous …"
      ]
     },
     "metadata": {},
     "output_type": "display_data"
    }
   ],
   "source": [
    "Band_num = 125\n",
    "plot_clusters(Band_num)"
   ]
  },
  {
   "cell_type": "markdown",
   "id": "24f2f080",
   "metadata": {},
   "source": [
    "#######################  Below Results are for the VAD audios  #######################"
   ]
  },
  {
   "cell_type": "code",
   "execution_count": 34,
   "id": "bound-chair",
   "metadata": {},
   "outputs": [
    {
     "name": "stdout",
     "output_type": "stream",
     "text": [
      "72\n"
     ]
    }
   ],
   "source": [
    "laser_dir = '/home/hashim/PHD/audio_data/Laser_Original_New/Laser_cleaned/'\n",
    "laser_files = list(glob.glob(os.path.join(laser_dir, '*.mp3')))\n",
    "laser_files.sort()\n",
    "# print(laser_files)\n",
    "print(len(laser_files))"
   ]
  },
  {
   "cell_type": "code",
   "execution_count": 35,
   "id": "congressional-mortality",
   "metadata": {},
   "outputs": [
    {
     "name": "stdout",
     "output_type": "stream",
     "text": [
      "74\n"
     ]
    }
   ],
   "source": [
    "orig_dir = '/home/hashim/PHD/audio_data/Laser_Original_New/Original_cleaned/'\n",
    "orig_files = list(glob.glob(os.path.join(orig_dir, '*.mp3')))\n",
    "orig_files.sort()\n",
    "# print(orig_files)\n",
    "print(len(orig_files))"
   ]
  },
  {
   "cell_type": "code",
   "execution_count": 36,
   "id": "psychological-basis",
   "metadata": {},
   "outputs": [
    {
     "data": {
      "application/vnd.jupyter.widget-view+json": {
       "model_id": "1913151eac5643c9b62c218d79507b7d",
       "version_major": 2,
       "version_minor": 0
      },
      "text/plain": [
       "Canvas(toolbar=Toolbar(toolitems=[('Home', 'Reset original view', 'home', 'home'), ('Back', 'Back to previous …"
      ]
     },
     "metadata": {},
     "output_type": "display_data"
    }
   ],
   "source": [
    "# laser spectograms\n",
    "nrows = int(len(laser_files)/2)\n",
    "fig, axes = plt.subplots(nrows, 2, figsize=(12,72))\n",
    "\n",
    "# print(axes)\n",
    "ax = axes.flatten()\n",
    "i = 0\n",
    "for lf in laser_files:\n",
    "    audio_data, sr = librosa.load(lf, res_type='kaiser_fast')\n",
    "    stft = librosa.stft(audio_data, n_fft=256)\n",
    "    S_db = librosa.amplitude_to_db(np.abs(stft), ref=np.max)\n",
    "    \n",
    "    img = librosa.display.specshow(S_db, x_axis='time', y_axis='log', sr=sr, ax=ax[i])\n",
    "#     librosa.display.specshow(S_db, x_axis='time', y_axis='log', sr=sr, ax=ax[i])\n",
    "    i+=1\n",
    "# plt.title('Mel-frequency spectrogram')\n",
    "fig.colorbar(img, ax=ax, format='%+2.0f dB')\n",
    "plt.show()"
   ]
  },
  {
   "cell_type": "code",
   "execution_count": 37,
   "id": "d1478599",
   "metadata": {},
   "outputs": [
    {
     "data": {
      "application/vnd.jupyter.widget-view+json": {
       "model_id": "d26e16a90b4f4fa696e525789def66e6",
       "version_major": 2,
       "version_minor": 0
      },
      "text/plain": [
       "Canvas(toolbar=Toolbar(toolitems=[('Home', 'Reset original view', 'home', 'home'), ('Back', 'Back to previous …"
      ]
     },
     "metadata": {},
     "output_type": "display_data"
    }
   ],
   "source": [
    "# Original spectograms\n",
    "nrows = int(len(orig_files)/2)\n",
    "fig, axes = plt.subplots(nrows, 2, figsize=(12,72))\n",
    "\n",
    "# print(axes)\n",
    "ax = axes.flatten()\n",
    "i = 0\n",
    "for of in orig_files:\n",
    "    audio_data, sr = librosa.load(of, res_type='kaiser_fast')\n",
    "    stft = librosa.stft(audio_data, n_fft=256)\n",
    "    S_db = librosa.amplitude_to_db(np.abs(stft), ref=np.max)\n",
    "    \n",
    "    img = librosa.display.specshow(S_db, x_axis='time', y_axis='log', sr=sr, ax=ax[i])\n",
    "#     librosa.display.specshow(S_db, x_axis='time', y_axis='log', sr=sr, ax=ax[i])\n",
    "    i+=1\n",
    "# plt.title('Mel-frequency spectrogram')\n",
    "fig.colorbar(img, ax=ax, format='%+2.0f dB')\n",
    "plt.show()"
   ]
  },
  {
   "cell_type": "code",
   "execution_count": 38,
   "id": "7f665abb",
   "metadata": {},
   "outputs": [],
   "source": [
    "%%capture\n",
    "# compute spectograms for both laser and original\n",
    "laser_spec = []\n",
    "\n",
    "laser_mu_feat = []\n",
    "laser_sigma_feat = []\n",
    "laser_beta_feat = []\n",
    "for lf in laser_files:\n",
    "    audio_data, sr = librosa.load(lf, res_type='kaiser_fast')\n",
    "    stft = librosa.stft(audio_data, n_fft=256)\n",
    "    S_db = librosa.amplitude_to_db(np.abs(stft), ref=np.max)\n",
    "    \n",
    "    mu_feat = []\n",
    "    sigma_feat = []\n",
    "    beta_feat = []\n",
    "    for row in S_db:\n",
    "        \n",
    "        f = Fitter(row, distributions=[\"gennorm\"])\n",
    "\n",
    "        f.fit()\n",
    "#         print(f.get_best(method = 'sumsquare_error'))\n",
    "\n",
    "        f_param = f.fitted_param[\"gennorm\"]\n",
    "    \n",
    "#         print(f_param)\n",
    "#         print(f.summary())\n",
    "\n",
    "        mu_feat.append(f_param[1])\n",
    "        sigma_feat.append(f_param[2])\n",
    "        beta_feat.append(f_param[0])\n",
    "        \n",
    "    laser_mu_feat.append(mu_feat)\n",
    "    laser_sigma_feat.append(sigma_feat)\n",
    "    laser_beta_feat.append(beta_feat)    \n",
    "    \n",
    "laser_mu_feat = np.array(laser_mu_feat)\n",
    "laser_sigma_feat = np.array(laser_sigma_feat)\n",
    "laser_beta_feat = np.array(laser_beta_feat)\n"
   ]
  },
  {
   "cell_type": "code",
   "execution_count": 39,
   "id": "bbd39def",
   "metadata": {},
   "outputs": [
    {
     "name": "stdout",
     "output_type": "stream",
     "text": [
      "(129, 414)\n",
      "(72, 129)\n",
      "(72, 129)\n",
      "(72, 129)\n"
     ]
    }
   ],
   "source": [
    "print(S_db.shape)\n",
    "print(laser_mu_feat.shape)\n",
    "print(laser_sigma_feat.shape)\n",
    "print(laser_beta_feat.shape)"
   ]
  },
  {
   "cell_type": "code",
   "execution_count": 40,
   "id": "5d914845",
   "metadata": {},
   "outputs": [],
   "source": [
    "%%capture\n",
    "orig_spec = []\n",
    "\n",
    "orig_mu_feat = []\n",
    "orig_sigma_feat = []\n",
    "orig_beta_feat = []\n",
    "for of in orig_files:\n",
    "    audio_data, sr = librosa.load(of, res_type='kaiser_fast')\n",
    "    stft = librosa.stft(audio_data, n_fft=256)\n",
    "    S_db = librosa.amplitude_to_db(np.abs(stft), ref=np.max)\n",
    "    \n",
    "    mu_feat = []\n",
    "    sigma_feat = []\n",
    "    beta_feat = []\n",
    "    for row in S_db:\n",
    "        \n",
    "        f = Fitter(row, distributions=[\"gennorm\"])\n",
    "\n",
    "        f.fit()\n",
    "#         print(f.get_best(method = 'sumsquare_error'))\n",
    "\n",
    "        f_param = f.fitted_param[\"gennorm\"]\n",
    "\n",
    "        mu_feat.append(f_param[1])\n",
    "        sigma_feat.append(f_param[2])\n",
    "        beta_feat.append(f_param[0])\n",
    "        \n",
    "    orig_mu_feat.append(mu_feat)\n",
    "    orig_sigma_feat.append(sigma_feat)\n",
    "    orig_beta_feat.append(beta_feat)\n",
    "    \n",
    "orig_mu_feat = np.array(orig_mu_feat)\n",
    "orig_sigma_feat = np.array(orig_sigma_feat)\n",
    "orig_beta_feat = np.array(orig_beta_feat)\n"
   ]
  },
  {
   "cell_type": "code",
   "execution_count": 41,
   "id": "8b204fbb",
   "metadata": {},
   "outputs": [
    {
     "name": "stdout",
     "output_type": "stream",
     "text": [
      "(74, 129)\n",
      "(74, 129)\n",
      "(74, 129)\n"
     ]
    }
   ],
   "source": [
    "print(orig_mu_feat.shape)\n",
    "print(orig_sigma_feat.shape)\n",
    "print(orig_beta_feat.shape)"
   ]
  },
  {
   "cell_type": "code",
   "execution_count": 42,
   "id": "3ca805e7",
   "metadata": {},
   "outputs": [
    {
     "data": {
      "application/vnd.jupyter.widget-view+json": {
       "model_id": "003e0d0281774d15b9d53d6143ea20b2",
       "version_major": 2,
       "version_minor": 0
      },
      "text/plain": [
       "Canvas(toolbar=Toolbar(toolitems=[('Home', 'Reset original view', 'home', 'home'), ('Back', 'Back to previous …"
      ]
     },
     "metadata": {},
     "output_type": "display_data"
    },
    {
     "data": {
      "application/vnd.jupyter.widget-view+json": {
       "model_id": "fcf1e07eeebf4734b8a483f4c7767fc6",
       "version_major": 2,
       "version_minor": 0
      },
      "text/plain": [
       "Canvas(toolbar=Toolbar(toolitems=[('Home', 'Reset original view', 'home', 'home'), ('Back', 'Back to previous …"
      ]
     },
     "metadata": {},
     "output_type": "display_data"
    }
   ],
   "source": [
    "Band_num = 10 \n",
    "plot_clusters(Band_num)"
   ]
  },
  {
   "cell_type": "code",
   "execution_count": 43,
   "id": "940daa4c",
   "metadata": {},
   "outputs": [
    {
     "data": {
      "application/vnd.jupyter.widget-view+json": {
       "model_id": "b2cbe0ff758d47e1babd2beb2a03d81f",
       "version_major": 2,
       "version_minor": 0
      },
      "text/plain": [
       "Canvas(toolbar=Toolbar(toolitems=[('Home', 'Reset original view', 'home', 'home'), ('Back', 'Back to previous …"
      ]
     },
     "metadata": {},
     "output_type": "display_data"
    },
    {
     "data": {
      "application/vnd.jupyter.widget-view+json": {
       "model_id": "af29a511190846a08033e12f5a7ad735",
       "version_major": 2,
       "version_minor": 0
      },
      "text/plain": [
       "Canvas(toolbar=Toolbar(toolitems=[('Home', 'Reset original view', 'home', 'home'), ('Back', 'Back to previous …"
      ]
     },
     "metadata": {},
     "output_type": "display_data"
    }
   ],
   "source": [
    "Band_num = 20 \n",
    "plot_clusters(Band_num)"
   ]
  },
  {
   "cell_type": "code",
   "execution_count": 44,
   "id": "78ac6f0c",
   "metadata": {},
   "outputs": [
    {
     "data": {
      "application/vnd.jupyter.widget-view+json": {
       "model_id": "717da725a66a490d9fa30e0c3aa8ba3b",
       "version_major": 2,
       "version_minor": 0
      },
      "text/plain": [
       "Canvas(toolbar=Toolbar(toolitems=[('Home', 'Reset original view', 'home', 'home'), ('Back', 'Back to previous …"
      ]
     },
     "metadata": {},
     "output_type": "display_data"
    },
    {
     "data": {
      "application/vnd.jupyter.widget-view+json": {
       "model_id": "7648c3d4faeb43f990c1c45d78f6ac4d",
       "version_major": 2,
       "version_minor": 0
      },
      "text/plain": [
       "Canvas(toolbar=Toolbar(toolitems=[('Home', 'Reset original view', 'home', 'home'), ('Back', 'Back to previous …"
      ]
     },
     "metadata": {},
     "output_type": "display_data"
    }
   ],
   "source": [
    "Band_num = 30 \n",
    "plot_clusters(Band_num)"
   ]
  },
  {
   "cell_type": "code",
   "execution_count": 45,
   "id": "b6abdd68",
   "metadata": {},
   "outputs": [
    {
     "data": {
      "application/vnd.jupyter.widget-view+json": {
       "model_id": "62c8336873cd401e92584baa6923ce34",
       "version_major": 2,
       "version_minor": 0
      },
      "text/plain": [
       "Canvas(toolbar=Toolbar(toolitems=[('Home', 'Reset original view', 'home', 'home'), ('Back', 'Back to previous …"
      ]
     },
     "metadata": {},
     "output_type": "display_data"
    },
    {
     "data": {
      "application/vnd.jupyter.widget-view+json": {
       "model_id": "1f22cbfe3ca943008bad65853bfb2848",
       "version_major": 2,
       "version_minor": 0
      },
      "text/plain": [
       "Canvas(toolbar=Toolbar(toolitems=[('Home', 'Reset original view', 'home', 'home'), ('Back', 'Back to previous …"
      ]
     },
     "metadata": {},
     "output_type": "display_data"
    }
   ],
   "source": [
    "Band_num = 40 \n",
    "plot_clusters(Band_num)"
   ]
  },
  {
   "cell_type": "code",
   "execution_count": 46,
   "id": "6448e8ad",
   "metadata": {},
   "outputs": [
    {
     "data": {
      "application/vnd.jupyter.widget-view+json": {
       "model_id": "c022184bb9be4454a6e7136c5e9a9da7",
       "version_major": 2,
       "version_minor": 0
      },
      "text/plain": [
       "Canvas(toolbar=Toolbar(toolitems=[('Home', 'Reset original view', 'home', 'home'), ('Back', 'Back to previous …"
      ]
     },
     "metadata": {},
     "output_type": "display_data"
    },
    {
     "data": {
      "application/vnd.jupyter.widget-view+json": {
       "model_id": "c2398679ab7b43c78e85c82a42042814",
       "version_major": 2,
       "version_minor": 0
      },
      "text/plain": [
       "Canvas(toolbar=Toolbar(toolitems=[('Home', 'Reset original view', 'home', 'home'), ('Back', 'Back to previous …"
      ]
     },
     "metadata": {},
     "output_type": "display_data"
    }
   ],
   "source": [
    "Band_num = 50 \n",
    "plot_clusters(Band_num)"
   ]
  },
  {
   "cell_type": "code",
   "execution_count": 47,
   "id": "25e0acea",
   "metadata": {},
   "outputs": [
    {
     "data": {
      "application/vnd.jupyter.widget-view+json": {
       "model_id": "3f5e5c1a80674cc2b026cebe60c02b89",
       "version_major": 2,
       "version_minor": 0
      },
      "text/plain": [
       "Canvas(toolbar=Toolbar(toolitems=[('Home', 'Reset original view', 'home', 'home'), ('Back', 'Back to previous …"
      ]
     },
     "metadata": {},
     "output_type": "display_data"
    },
    {
     "data": {
      "application/vnd.jupyter.widget-view+json": {
       "model_id": "29a36028243b45ff99791041ab1a475e",
       "version_major": 2,
       "version_minor": 0
      },
      "text/plain": [
       "Canvas(toolbar=Toolbar(toolitems=[('Home', 'Reset original view', 'home', 'home'), ('Back', 'Back to previous …"
      ]
     },
     "metadata": {},
     "output_type": "display_data"
    }
   ],
   "source": [
    "Band_num = 60 \n",
    "plot_clusters(Band_num)"
   ]
  },
  {
   "cell_type": "code",
   "execution_count": 48,
   "id": "2f72a869",
   "metadata": {},
   "outputs": [
    {
     "data": {
      "application/vnd.jupyter.widget-view+json": {
       "model_id": "8b0e88e03b6d4315b5d1eec1f28130e3",
       "version_major": 2,
       "version_minor": 0
      },
      "text/plain": [
       "Canvas(toolbar=Toolbar(toolitems=[('Home', 'Reset original view', 'home', 'home'), ('Back', 'Back to previous …"
      ]
     },
     "metadata": {},
     "output_type": "display_data"
    },
    {
     "data": {
      "application/vnd.jupyter.widget-view+json": {
       "model_id": "77ba0e27f7d34420bb50cb9450f69854",
       "version_major": 2,
       "version_minor": 0
      },
      "text/plain": [
       "Canvas(toolbar=Toolbar(toolitems=[('Home', 'Reset original view', 'home', 'home'), ('Back', 'Back to previous …"
      ]
     },
     "metadata": {},
     "output_type": "display_data"
    }
   ],
   "source": [
    "Band_num = 70 \n",
    "plot_clusters(Band_num)"
   ]
  },
  {
   "cell_type": "code",
   "execution_count": 49,
   "id": "470e3ca7",
   "metadata": {},
   "outputs": [
    {
     "data": {
      "application/vnd.jupyter.widget-view+json": {
       "model_id": "8c4696af722e4a6da085f5051f022168",
       "version_major": 2,
       "version_minor": 0
      },
      "text/plain": [
       "Canvas(toolbar=Toolbar(toolitems=[('Home', 'Reset original view', 'home', 'home'), ('Back', 'Back to previous …"
      ]
     },
     "metadata": {},
     "output_type": "display_data"
    },
    {
     "data": {
      "application/vnd.jupyter.widget-view+json": {
       "model_id": "9e95ea9c16874c819f0be6db9cf445ef",
       "version_major": 2,
       "version_minor": 0
      },
      "text/plain": [
       "Canvas(toolbar=Toolbar(toolitems=[('Home', 'Reset original view', 'home', 'home'), ('Back', 'Back to previous …"
      ]
     },
     "metadata": {},
     "output_type": "display_data"
    }
   ],
   "source": [
    "Band_num = 80 \n",
    "plot_clusters(Band_num)"
   ]
  },
  {
   "cell_type": "code",
   "execution_count": 50,
   "id": "9fd3449d",
   "metadata": {},
   "outputs": [
    {
     "data": {
      "application/vnd.jupyter.widget-view+json": {
       "model_id": "740419ae08174547b3a1c80307d87f10",
       "version_major": 2,
       "version_minor": 0
      },
      "text/plain": [
       "Canvas(toolbar=Toolbar(toolitems=[('Home', 'Reset original view', 'home', 'home'), ('Back', 'Back to previous …"
      ]
     },
     "metadata": {},
     "output_type": "display_data"
    },
    {
     "data": {
      "application/vnd.jupyter.widget-view+json": {
       "model_id": "aa2474a27fc7450e98411abab813c4d9",
       "version_major": 2,
       "version_minor": 0
      },
      "text/plain": [
       "Canvas(toolbar=Toolbar(toolitems=[('Home', 'Reset original view', 'home', 'home'), ('Back', 'Back to previous …"
      ]
     },
     "metadata": {},
     "output_type": "display_data"
    }
   ],
   "source": [
    "Band_num = 90 \n",
    "plot_clusters(Band_num)"
   ]
  },
  {
   "cell_type": "code",
   "execution_count": 51,
   "id": "090fb89d",
   "metadata": {},
   "outputs": [
    {
     "data": {
      "application/vnd.jupyter.widget-view+json": {
       "model_id": "80a9daa718a641c0a9b53102472efb9c",
       "version_major": 2,
       "version_minor": 0
      },
      "text/plain": [
       "Canvas(toolbar=Toolbar(toolitems=[('Home', 'Reset original view', 'home', 'home'), ('Back', 'Back to previous …"
      ]
     },
     "metadata": {},
     "output_type": "display_data"
    },
    {
     "data": {
      "application/vnd.jupyter.widget-view+json": {
       "model_id": "da5bdf14ca334ed0af293e410db4880c",
       "version_major": 2,
       "version_minor": 0
      },
      "text/plain": [
       "Canvas(toolbar=Toolbar(toolitems=[('Home', 'Reset original view', 'home', 'home'), ('Back', 'Back to previous …"
      ]
     },
     "metadata": {},
     "output_type": "display_data"
    }
   ],
   "source": [
    "Band_num = 100 \n",
    "plot_clusters(Band_num)"
   ]
  },
  {
   "cell_type": "code",
   "execution_count": 52,
   "id": "089a43d4",
   "metadata": {},
   "outputs": [
    {
     "data": {
      "application/vnd.jupyter.widget-view+json": {
       "model_id": "ccb9a5bcafda4a9eb7214fcfa872aa6c",
       "version_major": 2,
       "version_minor": 0
      },
      "text/plain": [
       "Canvas(toolbar=Toolbar(toolitems=[('Home', 'Reset original view', 'home', 'home'), ('Back', 'Back to previous …"
      ]
     },
     "metadata": {},
     "output_type": "display_data"
    },
    {
     "data": {
      "application/vnd.jupyter.widget-view+json": {
       "model_id": "cea51c989fa643c1a5d86ab1837f84c5",
       "version_major": 2,
       "version_minor": 0
      },
      "text/plain": [
       "Canvas(toolbar=Toolbar(toolitems=[('Home', 'Reset original view', 'home', 'home'), ('Back', 'Back to previous …"
      ]
     },
     "metadata": {},
     "output_type": "display_data"
    }
   ],
   "source": [
    "Band_num = 110 \n",
    "plot_clusters(Band_num)"
   ]
  },
  {
   "cell_type": "code",
   "execution_count": null,
   "id": "72163a29",
   "metadata": {},
   "outputs": [],
   "source": []
  }
 ],
 "metadata": {
  "kernelspec": {
   "display_name": "laser_injection",
   "language": "python",
   "name": "laser_injection"
  },
  "language_info": {
   "codemirror_mode": {
    "name": "ipython",
    "version": 3
   },
   "file_extension": ".py",
   "mimetype": "text/x-python",
   "name": "python",
   "nbconvert_exporter": "python",
   "pygments_lexer": "ipython3",
   "version": "3.8.10"
  }
 },
 "nbformat": 4,
 "nbformat_minor": 5
}
