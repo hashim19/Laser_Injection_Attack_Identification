{
 "cells": [
  {
   "cell_type": "code",
   "execution_count": 1,
   "id": "660e2c06",
   "metadata": {},
   "outputs": [],
   "source": [
    "import pywt\n",
    "import os\n",
    "import pandas as pd\n",
    "import librosa\n",
    "import librosa.display\n",
    "import glob \n",
    "import numpy as np\n",
    "import matplotlib.pyplot as plt\n",
    "from matplotlib import cm\n",
    "import seaborn as sns\n",
    "from fitter import Fitter, get_common_distributions, get_distributions\n",
    "\n",
    "from sklearn.preprocessing import StandardScaler\n",
    "import sklearn\n",
    "\n",
    "from utils import plot_projections\n",
    "\n",
    "from scipy.stats import kurtosis, skew\n",
    "\n",
    "%matplotlib widget"
   ]
  },
  {
   "cell_type": "code",
   "execution_count": 2,
   "id": "25e6f4f1",
   "metadata": {},
   "outputs": [
    {
     "name": "stdout",
     "output_type": "stream",
     "text": [
      "['/home/hashim/PHD/audio_data/Kareem/Laser/laser_000.mp3', '/home/hashim/PHD/audio_data/Kareem/Laser/laser_001.mp3', '/home/hashim/PHD/audio_data/Kareem/Laser/laser_002.mp3', '/home/hashim/PHD/audio_data/Kareem/Laser/laser_003.mp3', '/home/hashim/PHD/audio_data/Kareem/Laser/laser_004.mp3', '/home/hashim/PHD/audio_data/Kareem/Laser/laser_005.mp3', '/home/hashim/PHD/audio_data/Kareem/Laser/laser_006.mp3', '/home/hashim/PHD/audio_data/Kareem/Laser/laser_007.mp3', '/home/hashim/PHD/audio_data/Kareem/Laser/laser_008.mp3', '/home/hashim/PHD/audio_data/Kareem/Laser/laser_009.mp3', '/home/hashim/PHD/audio_data/Kareem/Laser/laser_010.mp3', '/home/hashim/PHD/audio_data/Kareem/Laser/laser_011.mp3', '/home/hashim/PHD/audio_data/Kareem/Laser/laser_012.mp3', '/home/hashim/PHD/audio_data/Kareem/Laser/laser_013.mp3', '/home/hashim/PHD/audio_data/Kareem/Laser/laser_014.mp3', '/home/hashim/PHD/audio_data/Kareem/Laser/laser_015.mp3', '/home/hashim/PHD/audio_data/Kareem/Laser/laser_016.mp3', '/home/hashim/PHD/audio_data/Kareem/Laser/laser_017.mp3', '/home/hashim/PHD/audio_data/Kareem/Laser/laser_018.mp3', '/home/hashim/PHD/audio_data/Kareem/Laser/laser_019.mp3', '/home/hashim/PHD/audio_data/Kareem/Laser/laser_020.mp3', '/home/hashim/PHD/audio_data/Kareem/Laser/laser_021.mp3', '/home/hashim/PHD/audio_data/Kareem/Laser/laser_022.mp3', '/home/hashim/PHD/audio_data/Kareem/Laser/laser_023.mp3', '/home/hashim/PHD/audio_data/Kareem/Laser/laser_024.mp3', '/home/hashim/PHD/audio_data/Kareem/Laser/laser_025.mp3', '/home/hashim/PHD/audio_data/Kareem/Laser/laser_026.mp3', '/home/hashim/PHD/audio_data/Kareem/Laser/laser_027.mp3']\n",
      "28\n"
     ]
    }
   ],
   "source": [
    "laser_dir = '/home/hashim/PHD/audio_data/Kareem/Laser/'\n",
    "laser_files = list(glob.glob(os.path.join(laser_dir, '*.mp3')))\n",
    "laser_files.sort()\n",
    "print(laser_files)\n",
    "print(len(laser_files))"
   ]
  },
  {
   "cell_type": "code",
   "execution_count": 3,
   "id": "d302b131",
   "metadata": {},
   "outputs": [
    {
     "name": "stdout",
     "output_type": "stream",
     "text": [
      "['/home/hashim/PHD/audio_data/Kareem/Original/original_000.mp3', '/home/hashim/PHD/audio_data/Kareem/Original/original_001.mp3', '/home/hashim/PHD/audio_data/Kareem/Original/original_002.mp3', '/home/hashim/PHD/audio_data/Kareem/Original/original_003.mp3', '/home/hashim/PHD/audio_data/Kareem/Original/original_004.mp3', '/home/hashim/PHD/audio_data/Kareem/Original/original_005.mp3', '/home/hashim/PHD/audio_data/Kareem/Original/original_006.mp3', '/home/hashim/PHD/audio_data/Kareem/Original/original_007.mp3', '/home/hashim/PHD/audio_data/Kareem/Original/original_008.mp3', '/home/hashim/PHD/audio_data/Kareem/Original/original_009.mp3', '/home/hashim/PHD/audio_data/Kareem/Original/original_010.mp3', '/home/hashim/PHD/audio_data/Kareem/Original/original_011.mp3', '/home/hashim/PHD/audio_data/Kareem/Original/original_012.mp3', '/home/hashim/PHD/audio_data/Kareem/Original/original_013.mp3', '/home/hashim/PHD/audio_data/Kareem/Original/original_014.mp3', '/home/hashim/PHD/audio_data/Kareem/Original/original_015.mp3', '/home/hashim/PHD/audio_data/Kareem/Original/original_016.mp3', '/home/hashim/PHD/audio_data/Kareem/Original/original_017.mp3', '/home/hashim/PHD/audio_data/Kareem/Original/original_018.mp3', '/home/hashim/PHD/audio_data/Kareem/Original/original_019.mp3', '/home/hashim/PHD/audio_data/Kareem/Original/original_020.mp3', '/home/hashim/PHD/audio_data/Kareem/Original/original_021.mp3', '/home/hashim/PHD/audio_data/Kareem/Original/original_022.mp3', '/home/hashim/PHD/audio_data/Kareem/Original/original_023.mp3', '/home/hashim/PHD/audio_data/Kareem/Original/original_024.mp3', '/home/hashim/PHD/audio_data/Kareem/Original/original_025.mp3', '/home/hashim/PHD/audio_data/Kareem/Original/original_026.mp3', '/home/hashim/PHD/audio_data/Kareem/Original/original_027.mp3']\n",
      "28\n"
     ]
    }
   ],
   "source": [
    "orig_dir = '/home/hashim/PHD/audio_data/Kareem/Original/'\n",
    "orig_files = list(glob.glob(os.path.join(orig_dir, '*.mp3')))\n",
    "orig_files.sort()\n",
    "print(orig_files)\n",
    "print(len(orig_files))"
   ]
  },
  {
   "cell_type": "code",
   "execution_count": 4,
   "id": "aa5233c2",
   "metadata": {},
   "outputs": [],
   "source": [
    "db1 = pywt.Wavelet('db1')"
   ]
  },
  {
   "cell_type": "markdown",
   "id": "336cac38",
   "metadata": {},
   "source": [
    "## Laser"
   ]
  },
  {
   "cell_type": "code",
   "execution_count": 5,
   "id": "6c6491e3",
   "metadata": {},
   "outputs": [],
   "source": [
    "%%capture\n",
    "# compute coefficients for both laser and then compute variance, skewness and kurtosis\n",
    "\n",
    "laser_sigma_feat = []\n",
    "laser_skew_feat = []\n",
    "laser_kurt_feat = []\n",
    "\n",
    "for lf in laser_files:\n",
    "    audio_data, sr = librosa.load(lf, res_type='kaiser_fast')\n",
    "    \n",
    "#     stft = librosa.stft(audio_data, n_fft=256)\n",
    "#     S_db = librosa.amplitude_to_db(np.abs(stft), ref=np.max)\n",
    "    coeffs = pywt.wavedec(audio_data, db1, mode='constant', level=5)\n",
    "    \n",
    "    \n",
    "    sigma_feat = []\n",
    "    skew_feat = []\n",
    "    kurt_feat = []\n",
    "    \n",
    "    for cf in coeffs:\n",
    "        \n",
    "#         cf = cf - np.mean(cf)\n",
    "        \n",
    "        sigma_feat.append(np.var(cf))\n",
    "        skew_feat.append(skew(cf))\n",
    "        kurt_feat.append(kurtosis(cf))\n",
    "        \n",
    "    laser_sigma_feat.append(sigma_feat)\n",
    "    laser_skew_feat.append(skew_feat)\n",
    "    laser_kurt_feat.append(kurt_feat)    \n",
    "    \n",
    "laser_sigma_feat = np.array(laser_sigma_feat)\n",
    "laser_skew_feat = np.array(laser_skew_feat)\n",
    "laser_kurt_feat = np.array(laser_kurt_feat)"
   ]
  },
  {
   "cell_type": "code",
   "execution_count": 6,
   "id": "4838987d",
   "metadata": {},
   "outputs": [
    {
     "name": "stdout",
     "output_type": "stream",
     "text": [
      "(28, 6)\n",
      "(28, 6)\n",
      "(28, 6)\n"
     ]
    }
   ],
   "source": [
    "print(laser_sigma_feat.shape)\n",
    "print(laser_skew_feat.shape)\n",
    "print(laser_kurt_feat.shape)"
   ]
  },
  {
   "cell_type": "markdown",
   "id": "a2e9268b",
   "metadata": {},
   "source": [
    "## Original"
   ]
  },
  {
   "cell_type": "code",
   "execution_count": 7,
   "id": "0b2e47ba",
   "metadata": {},
   "outputs": [],
   "source": [
    "# compute coefficients for both laser and then compute variance, skewness and kurtosis\n",
    "\n",
    "orig_sigma_feat = []\n",
    "orig_skew_feat = []\n",
    "orig_kurt_feat = []\n",
    "\n",
    "for of in orig_files:\n",
    "    audio_data, sr = librosa.load(of, res_type='kaiser_fast')\n",
    "#     stft = librosa.stft(audio_data, n_fft=256)\n",
    "#     S_db = librosa.amplitude_to_db(np.abs(stft), ref=np.max)\n",
    "    coeffs = pywt.wavedec(audio_data, db1, mode='constant', level=5)\n",
    "    \n",
    "    \n",
    "    sigma_feat = []\n",
    "    skew_feat = []\n",
    "    kurt_feat = []\n",
    "    \n",
    "    for cf in coeffs:\n",
    "        \n",
    "#         cf = cf - np.mean(cf)\n",
    "        \n",
    "        sigma_feat.append(np.var(cf))\n",
    "        skew_feat.append(skew(cf))\n",
    "        kurt_feat.append(kurtosis(cf))\n",
    "        \n",
    "    orig_sigma_feat.append(sigma_feat)\n",
    "    orig_skew_feat.append(skew_feat)\n",
    "    orig_kurt_feat.append(kurt_feat)    \n",
    "    \n",
    "orig_sigma_feat = np.array(orig_sigma_feat)\n",
    "orig_skew_feat = np.array(orig_skew_feat)\n",
    "orig_kurt_feat = np.array(orig_kurt_feat)"
   ]
  },
  {
   "cell_type": "code",
   "execution_count": 8,
   "id": "001cb2aa",
   "metadata": {},
   "outputs": [],
   "source": [
    "# cluster plotting function for sigma, skew and kurtosis\n",
    "\n",
    "def plot_clusters_skk(band_num):\n",
    "    \n",
    "    plt.figure(figsize=(10,3))\n",
    "    \n",
    "#     sigma vs skew\n",
    "    plt.subplot(1, 3, 1)\n",
    "    plt.scatter(orig_sigma_feat[:,band_num], orig_skew_feat[:,band_num], marker='o', label=\"Original\")\n",
    "    plt.scatter(laser_sigma_feat[:,band_num], laser_skew_feat[:,band_num], marker='x', label=\"Laser\")\n",
    "    plt.xlabel(\"variance\")\n",
    "    plt.ylabel(\"skew\")\n",
    "    plt.legend()\n",
    "    \n",
    "#     skew vs kurtosis\n",
    "    plt.subplot(1, 3, 2)\n",
    "    plt.scatter(orig_skew_feat[:,band_num], orig_kurt_feat[:,band_num], marker='o', label=\"Original\")\n",
    "    plt.scatter(laser_skew_feat[:,band_num], laser_kurt_feat[:,band_num], marker='x', label=\"Laser\")\n",
    "    plt.xlabel(\"skew\")\n",
    "    plt.ylabel(\"kurtosis\")\n",
    "    plt.legend()\n",
    "     \n",
    "#     kurtosis vs sigma\n",
    "    plt.subplot(1, 3, 3)\n",
    "    plt.scatter(orig_kurt_feat[:,band_num], orig_sigma_feat[:,band_num], marker='o', label=\"Original\")\n",
    "    plt.scatter(laser_kurt_feat[:,band_num], laser_sigma_feat[:,band_num], marker='x', label=\"Laser\")\n",
    "    plt.xlabel(\"kurtosis\")\n",
    "    plt.ylabel(\"variance\")\n",
    "    plt.legend()\n",
    "    \n",
    "    plt.suptitle(\"Laser vs Original for {}th Band\".format(band_num))\n",
    "    \n",
    "    fig = plt.figure(figsize=(12,6))\n",
    "#     plt.figure(figsize=(20,6))\n",
    "    ax = fig.add_subplot(projection='3d')\n",
    "    ax.scatter(orig_sigma_feat[:,band_num], orig_skew_feat[:,band_num], orig_kurt_feat[:,band_num], marker='o', label=\"Original\")\n",
    "    ax.scatter(laser_sigma_feat[:,band_num], laser_skew_feat[:,band_num], laser_kurt_feat[:,band_num], marker='x', label=\"Laser\")\n",
    "    ax.set_xlabel('variance')\n",
    "    ax.set_ylabel('skew')\n",
    "    ax.set_zlabel('kurtosis')\n",
    "    ax.legend()"
   ]
  },
  {
   "cell_type": "code",
   "execution_count": 9,
   "id": "3d268ae3",
   "metadata": {},
   "outputs": [
    {
     "data": {
      "application/vnd.jupyter.widget-view+json": {
       "model_id": "04ecb355e93146c1a2059b7a781de862",
       "version_major": 2,
       "version_minor": 0
      },
      "text/plain": [
       "Canvas(toolbar=Toolbar(toolitems=[('Home', 'Reset original view', 'home', 'home'), ('Back', 'Back to previous …"
      ]
     },
     "metadata": {},
     "output_type": "display_data"
    },
    {
     "data": {
      "application/vnd.jupyter.widget-view+json": {
       "model_id": "9669752ce1db4ac28abe414e65ef0787",
       "version_major": 2,
       "version_minor": 0
      },
      "text/plain": [
       "Canvas(toolbar=Toolbar(toolitems=[('Home', 'Reset original view', 'home', 'home'), ('Back', 'Back to previous …"
      ]
     },
     "metadata": {},
     "output_type": "display_data"
    }
   ],
   "source": [
    "aprox_detail_coeff = 0 \n",
    "plot_clusters_skk(aprox_detail_coeff)"
   ]
  },
  {
   "cell_type": "code",
   "execution_count": 10,
   "id": "d90ce693",
   "metadata": {},
   "outputs": [
    {
     "data": {
      "application/vnd.jupyter.widget-view+json": {
       "model_id": "c23b989f49954822bf35e712c1197327",
       "version_major": 2,
       "version_minor": 0
      },
      "text/plain": [
       "Canvas(toolbar=Toolbar(toolitems=[('Home', 'Reset original view', 'home', 'home'), ('Back', 'Back to previous …"
      ]
     },
     "metadata": {},
     "output_type": "display_data"
    },
    {
     "data": {
      "application/vnd.jupyter.widget-view+json": {
       "model_id": "111ec6405edd4369825b6e3adc82d05a",
       "version_major": 2,
       "version_minor": 0
      },
      "text/plain": [
       "Canvas(toolbar=Toolbar(toolitems=[('Home', 'Reset original view', 'home', 'home'), ('Back', 'Back to previous …"
      ]
     },
     "metadata": {},
     "output_type": "display_data"
    }
   ],
   "source": [
    "aprox_detail_coeff = 1 \n",
    "plot_clusters_skk(aprox_detail_coeff)"
   ]
  },
  {
   "cell_type": "code",
   "execution_count": 11,
   "id": "22b6102e",
   "metadata": {},
   "outputs": [
    {
     "data": {
      "application/vnd.jupyter.widget-view+json": {
       "model_id": "3e7e807926954eae9f74a44788b95714",
       "version_major": 2,
       "version_minor": 0
      },
      "text/plain": [
       "Canvas(toolbar=Toolbar(toolitems=[('Home', 'Reset original view', 'home', 'home'), ('Back', 'Back to previous …"
      ]
     },
     "metadata": {},
     "output_type": "display_data"
    },
    {
     "data": {
      "application/vnd.jupyter.widget-view+json": {
       "model_id": "a8c5d8984a3e49a88be4d354c29e1d23",
       "version_major": 2,
       "version_minor": 0
      },
      "text/plain": [
       "Canvas(toolbar=Toolbar(toolitems=[('Home', 'Reset original view', 'home', 'home'), ('Back', 'Back to previous …"
      ]
     },
     "metadata": {},
     "output_type": "display_data"
    }
   ],
   "source": [
    "aprox_detail_coeff = 2 \n",
    "plot_clusters_skk(aprox_detail_coeff)"
   ]
  },
  {
   "cell_type": "code",
   "execution_count": 12,
   "id": "a38d3c0c",
   "metadata": {},
   "outputs": [
    {
     "data": {
      "application/vnd.jupyter.widget-view+json": {
       "model_id": "0b41bca1e4f64b3cbf423c68429ab94b",
       "version_major": 2,
       "version_minor": 0
      },
      "text/plain": [
       "Canvas(toolbar=Toolbar(toolitems=[('Home', 'Reset original view', 'home', 'home'), ('Back', 'Back to previous …"
      ]
     },
     "metadata": {},
     "output_type": "display_data"
    },
    {
     "data": {
      "application/vnd.jupyter.widget-view+json": {
       "model_id": "81201ad9f42b475494a94cac4e0b3147",
       "version_major": 2,
       "version_minor": 0
      },
      "text/plain": [
       "Canvas(toolbar=Toolbar(toolitems=[('Home', 'Reset original view', 'home', 'home'), ('Back', 'Back to previous …"
      ]
     },
     "metadata": {},
     "output_type": "display_data"
    }
   ],
   "source": [
    "aprox_detail_coeff = 3 \n",
    "plot_clusters_skk(aprox_detail_coeff)"
   ]
  },
  {
   "cell_type": "code",
   "execution_count": 13,
   "id": "295c526c",
   "metadata": {},
   "outputs": [
    {
     "data": {
      "application/vnd.jupyter.widget-view+json": {
       "model_id": "029a209987f54218b7bce42febed6e56",
       "version_major": 2,
       "version_minor": 0
      },
      "text/plain": [
       "Canvas(toolbar=Toolbar(toolitems=[('Home', 'Reset original view', 'home', 'home'), ('Back', 'Back to previous …"
      ]
     },
     "metadata": {},
     "output_type": "display_data"
    },
    {
     "data": {
      "application/vnd.jupyter.widget-view+json": {
       "model_id": "1c60e88feb604c34aee8c63932a99d19",
       "version_major": 2,
       "version_minor": 0
      },
      "text/plain": [
       "Canvas(toolbar=Toolbar(toolitems=[('Home', 'Reset original view', 'home', 'home'), ('Back', 'Back to previous …"
      ]
     },
     "metadata": {},
     "output_type": "display_data"
    }
   ],
   "source": [
    "aprox_detail_coeff = 4 \n",
    "plot_clusters_skk(aprox_detail_coeff)"
   ]
  },
  {
   "cell_type": "code",
   "execution_count": 14,
   "id": "04e48382",
   "metadata": {},
   "outputs": [
    {
     "data": {
      "application/vnd.jupyter.widget-view+json": {
       "model_id": "61b198116eab4cd0a8d7c82673906d98",
       "version_major": 2,
       "version_minor": 0
      },
      "text/plain": [
       "Canvas(toolbar=Toolbar(toolitems=[('Home', 'Reset original view', 'home', 'home'), ('Back', 'Back to previous …"
      ]
     },
     "metadata": {},
     "output_type": "display_data"
    },
    {
     "data": {
      "application/vnd.jupyter.widget-view+json": {
       "model_id": "681211dc4e5447b6a5b7a000844f037e",
       "version_major": 2,
       "version_minor": 0
      },
      "text/plain": [
       "Canvas(toolbar=Toolbar(toolitems=[('Home', 'Reset original view', 'home', 'home'), ('Back', 'Back to previous …"
      ]
     },
     "metadata": {},
     "output_type": "display_data"
    }
   ],
   "source": [
    "aprox_detail_coeff = 5 \n",
    "plot_clusters_skk(aprox_detail_coeff)"
   ]
  },
  {
   "cell_type": "markdown",
   "id": "c9ae0a81",
   "metadata": {},
   "source": [
    "# SVM with Linear Kernel"
   ]
  },
  {
   "cell_type": "code",
   "execution_count": 28,
   "id": "fa384a5e",
   "metadata": {},
   "outputs": [],
   "source": [
    "import sklearn\n",
    "\n",
    "from sklearn.svm import LinearSVC\n",
    "from sklearn.pipeline import make_pipeline\n",
    "from sklearn.preprocessing import StandardScaler\n",
    "from sklearn.svm import SVC\n",
    "\n",
    "from sklearn.model_selection import train_test_split\n",
    "from sklearn.metrics import accuracy_score\n",
    "from sklearn.metrics import confusion_matrix, ConfusionMatrixDisplay\n",
    "from sklearn.metrics import plot_confusion_matrix"
   ]
  },
  {
   "cell_type": "code",
   "execution_count": 29,
   "id": "603cd6aa",
   "metadata": {},
   "outputs": [
    {
     "name": "stdout",
     "output_type": "stream",
     "text": [
      "['laser' 'laser' 'laser' 'laser' 'laser' 'laser' 'laser' 'laser' 'laser'\n",
      " 'laser' 'laser' 'laser' 'laser' 'laser' 'laser' 'laser' 'laser' 'laser'\n",
      " 'laser' 'laser' 'laser' 'laser' 'laser' 'laser' 'laser' 'laser' 'laser'\n",
      " 'laser']\n",
      "(28,)\n"
     ]
    },
    {
     "data": {
      "text/plain": [
       "(28, 18)"
      ]
     },
     "execution_count": 29,
     "metadata": {},
     "output_type": "execute_result"
    }
   ],
   "source": [
    "X_laser = np.concatenate((laser_sigma_feat, laser_skew_feat, laser_kurt_feat), axis=1)\n",
    "laser_label = np.array(['laser']*X_laser.shape[0])\n",
    "print(laser_label)\n",
    "print(laser_label.shape)\n",
    "X_laser.shape"
   ]
  },
  {
   "cell_type": "code",
   "execution_count": 30,
   "id": "f9013e86",
   "metadata": {},
   "outputs": [
    {
     "name": "stdout",
     "output_type": "stream",
     "text": [
      "['original' 'original' 'original' 'original' 'original' 'original'\n",
      " 'original' 'original' 'original' 'original' 'original' 'original'\n",
      " 'original' 'original' 'original' 'original' 'original' 'original'\n",
      " 'original' 'original' 'original' 'original' 'original' 'original'\n",
      " 'original' 'original' 'original' 'original']\n",
      "(28,)\n"
     ]
    },
    {
     "data": {
      "text/plain": [
       "(28, 18)"
      ]
     },
     "execution_count": 30,
     "metadata": {},
     "output_type": "execute_result"
    }
   ],
   "source": [
    "X_orig = np.concatenate((orig_sigma_feat, orig_skew_feat, orig_kurt_feat), axis=1)\n",
    "orig_label = np.array(['original']*X_orig.shape[0])\n",
    "print(orig_label)\n",
    "print(orig_label.shape)\n",
    "X_orig.shape"
   ]
  },
  {
   "cell_type": "code",
   "execution_count": 31,
   "id": "e2d3c2c8",
   "metadata": {},
   "outputs": [],
   "source": [
    "clf = make_pipeline(StandardScaler(), LinearSVC())"
   ]
  },
  {
   "cell_type": "code",
   "execution_count": 32,
   "id": "bb26e766",
   "metadata": {},
   "outputs": [
    {
     "data": {
      "text/plain": [
       "(56, 18)"
      ]
     },
     "execution_count": 32,
     "metadata": {},
     "output_type": "execute_result"
    }
   ],
   "source": [
    "X = np.concatenate((X_laser, X_orig))\n",
    "X.shape"
   ]
  },
  {
   "cell_type": "code",
   "execution_count": 33,
   "id": "d5cf3df6",
   "metadata": {},
   "outputs": [
    {
     "data": {
      "text/plain": [
       "(56,)"
      ]
     },
     "execution_count": 33,
     "metadata": {},
     "output_type": "execute_result"
    }
   ],
   "source": [
    "y = np.concatenate((laser_label, orig_label))\n",
    "y.shape"
   ]
  },
  {
   "cell_type": "code",
   "execution_count": 34,
   "id": "6106f675",
   "metadata": {},
   "outputs": [],
   "source": [
    "scaler = StandardScaler().fit(X)\n",
    "X = scaler.transform(X)"
   ]
  },
  {
   "cell_type": "code",
   "execution_count": 35,
   "id": "2fff0ca6",
   "metadata": {},
   "outputs": [],
   "source": [
    "X_train, X_test, y_train, y_test = train_test_split(X, y, test_size=0.33, random_state=42)"
   ]
  },
  {
   "cell_type": "code",
   "execution_count": 36,
   "id": "ab25232a",
   "metadata": {},
   "outputs": [
    {
     "data": {
      "text/plain": [
       "(37, 18)"
      ]
     },
     "execution_count": 36,
     "metadata": {},
     "output_type": "execute_result"
    }
   ],
   "source": [
    "X_train.shape"
   ]
  },
  {
   "cell_type": "code",
   "execution_count": 37,
   "id": "0bf5b80c",
   "metadata": {},
   "outputs": [
    {
     "data": {
      "text/plain": [
       "Pipeline(steps=[('standardscaler', StandardScaler()),\n",
       "                ('linearsvc', LinearSVC())])"
      ]
     },
     "execution_count": 37,
     "metadata": {},
     "output_type": "execute_result"
    }
   ],
   "source": [
    "clf.fit(X_train, y_train)"
   ]
  },
  {
   "cell_type": "code",
   "execution_count": 38,
   "id": "5829841f",
   "metadata": {},
   "outputs": [],
   "source": [
    "y_pred = clf.predict(X_test)"
   ]
  },
  {
   "cell_type": "code",
   "execution_count": 39,
   "id": "3b39afbb",
   "metadata": {},
   "outputs": [
    {
     "name": "stdout",
     "output_type": "stream",
     "text": [
      "accuracy =  1.0\n"
     ]
    }
   ],
   "source": [
    "print(\"accuracy = \", accuracy_score(y_test, y_pred))"
   ]
  },
  {
   "cell_type": "code",
   "execution_count": 40,
   "id": "ba1aa73b",
   "metadata": {},
   "outputs": [],
   "source": [
    "cm = confusion_matrix(y_test, y_pred)"
   ]
  },
  {
   "cell_type": "code",
   "execution_count": 41,
   "id": "85a5824e",
   "metadata": {},
   "outputs": [
    {
     "data": {
      "application/vnd.jupyter.widget-view+json": {
       "model_id": "686efc5403bd4986adbc23f10e4b7550",
       "version_major": 2,
       "version_minor": 0
      },
      "text/plain": [
       "Canvas(toolbar=Toolbar(toolitems=[('Home', 'Reset original view', 'home', 'home'), ('Back', 'Back to previous …"
      ]
     },
     "metadata": {},
     "output_type": "display_data"
    },
    {
     "data": {
      "text/plain": [
       "<sklearn.metrics._plot.confusion_matrix.ConfusionMatrixDisplay at 0x7fe122f235e0>"
      ]
     },
     "execution_count": 41,
     "metadata": {},
     "output_type": "execute_result"
    }
   ],
   "source": [
    "disp = ConfusionMatrixDisplay(confusion_matrix=cm, display_labels=clf.classes_)\n",
    "disp.plot()"
   ]
  },
  {
   "cell_type": "markdown",
   "id": "6b4853e1",
   "metadata": {},
   "source": [
    "# with Log sigma"
   ]
  },
  {
   "cell_type": "code",
   "execution_count": 42,
   "id": "d54c2246",
   "metadata": {},
   "outputs": [],
   "source": [
    "import math"
   ]
  },
  {
   "cell_type": "code",
   "execution_count": 43,
   "id": "bf1e28b4",
   "metadata": {},
   "outputs": [],
   "source": [
    "%%capture\n",
    "# compute coefficients for both laser and then compute variance, skewness and kurtosis\n",
    "\n",
    "laser_sigma_feat = []\n",
    "laser_skew_feat = []\n",
    "laser_kurt_feat = []\n",
    "\n",
    "for lf in laser_files:\n",
    "    audio_data, sr = librosa.load(lf, res_type='kaiser_fast')\n",
    "#     stft = librosa.stft(audio_data, n_fft=256)\n",
    "#     S_db = librosa.amplitude_to_db(np.abs(stft), ref=np.max)\n",
    "    coeffs = pywt.wavedec(audio_data, db1, mode='constant', level=5)\n",
    "    \n",
    "    \n",
    "    sigma_feat = []\n",
    "    skew_feat = []\n",
    "    kurt_feat = []\n",
    "    \n",
    "    for cf in coeffs:\n",
    "        \n",
    "#         cf = cf\n",
    "        \n",
    "        sigma_feat.append(np.log(np.var(cf)))\n",
    "        skew_feat.append(skew(cf))\n",
    "        kurt_feat.append(kurtosis(cf))\n",
    "        \n",
    "    laser_sigma_feat.append(sigma_feat)\n",
    "    laser_skew_feat.append(skew_feat)\n",
    "    laser_kurt_feat.append(kurt_feat)    \n",
    "    \n",
    "laser_sigma_feat = np.array(laser_sigma_feat)\n",
    "laser_skew_feat = np.array(laser_skew_feat)\n",
    "laser_kurt_feat = np.array(laser_kurt_feat)"
   ]
  },
  {
   "cell_type": "code",
   "execution_count": 44,
   "id": "53ae4d6d",
   "metadata": {},
   "outputs": [
    {
     "name": "stdout",
     "output_type": "stream",
     "text": [
      "(28, 6)\n",
      "(28, 6)\n",
      "(28, 6)\n"
     ]
    }
   ],
   "source": [
    "print(laser_sigma_feat.shape)\n",
    "print(laser_skew_feat.shape)\n",
    "print(laser_kurt_feat.shape)"
   ]
  },
  {
   "cell_type": "code",
   "execution_count": 45,
   "id": "74f23a2a",
   "metadata": {},
   "outputs": [],
   "source": [
    "%%capture\n",
    "# compute coefficients for both laser and then compute variance, skewness and kurtosis\n",
    "\n",
    "orig_sigma_feat = []\n",
    "orig_skew_feat = []\n",
    "orig_kurt_feat = []\n",
    "\n",
    "for of in orig_files:\n",
    "    audio_data, sr = librosa.load(of, res_type='kaiser_fast')\n",
    "#     stft = librosa.stft(audio_data, n_fft=256)\n",
    "#     S_db = librosa.amplitude_to_db(np.abs(stft), ref=np.max)\n",
    "    coeffs = pywt.wavedec(audio_data, db1, mode='constant', level=5)\n",
    "    \n",
    "    \n",
    "    sigma_feat = []\n",
    "    skew_feat = []\n",
    "    kurt_feat = []\n",
    "    \n",
    "    for cf in coeffs:\n",
    "        \n",
    "#         cf = cf\n",
    "        \n",
    "        sigma_feat.append(np.log(np.var(cf)))\n",
    "        skew_feat.append(skew(cf))\n",
    "        kurt_feat.append(kurtosis(cf))\n",
    "        \n",
    "    orig_sigma_feat.append(sigma_feat)\n",
    "    orig_skew_feat.append(skew_feat)\n",
    "    orig_kurt_feat.append(kurt_feat)    \n",
    "    \n",
    "orig_sigma_feat = np.array(orig_sigma_feat)\n",
    "orig_skew_feat = np.array(orig_skew_feat)\n",
    "orig_kurt_feat = np.array(orig_kurt_feat)"
   ]
  },
  {
   "cell_type": "code",
   "execution_count": 46,
   "id": "eeacc2e8",
   "metadata": {},
   "outputs": [
    {
     "data": {
      "application/vnd.jupyter.widget-view+json": {
       "model_id": "d51569b29e1a46b1a087e827bcce6b77",
       "version_major": 2,
       "version_minor": 0
      },
      "text/plain": [
       "Canvas(toolbar=Toolbar(toolitems=[('Home', 'Reset original view', 'home', 'home'), ('Back', 'Back to previous …"
      ]
     },
     "metadata": {},
     "output_type": "display_data"
    },
    {
     "data": {
      "application/vnd.jupyter.widget-view+json": {
       "model_id": "c9e78e9b72f0480593e52d4db113fc0e",
       "version_major": 2,
       "version_minor": 0
      },
      "text/plain": [
       "Canvas(toolbar=Toolbar(toolitems=[('Home', 'Reset original view', 'home', 'home'), ('Back', 'Back to previous …"
      ]
     },
     "metadata": {},
     "output_type": "display_data"
    }
   ],
   "source": [
    "aprox_detail_coeff = 0 \n",
    "plot_clusters_skk(aprox_detail_coeff)"
   ]
  },
  {
   "cell_type": "code",
   "execution_count": 47,
   "id": "73e344ce",
   "metadata": {},
   "outputs": [
    {
     "data": {
      "application/vnd.jupyter.widget-view+json": {
       "model_id": "ef5b187574224d47b5298579ae3675a0",
       "version_major": 2,
       "version_minor": 0
      },
      "text/plain": [
       "Canvas(toolbar=Toolbar(toolitems=[('Home', 'Reset original view', 'home', 'home'), ('Back', 'Back to previous …"
      ]
     },
     "metadata": {},
     "output_type": "display_data"
    },
    {
     "data": {
      "application/vnd.jupyter.widget-view+json": {
       "model_id": "127d7a179dde4b80b59baacc74aa7f7f",
       "version_major": 2,
       "version_minor": 0
      },
      "text/plain": [
       "Canvas(toolbar=Toolbar(toolitems=[('Home', 'Reset original view', 'home', 'home'), ('Back', 'Back to previous …"
      ]
     },
     "metadata": {},
     "output_type": "display_data"
    }
   ],
   "source": [
    "aprox_detail_coeff = 1 \n",
    "plot_clusters_skk(aprox_detail_coeff)"
   ]
  },
  {
   "cell_type": "code",
   "execution_count": 48,
   "id": "0848d7f5",
   "metadata": {},
   "outputs": [
    {
     "data": {
      "application/vnd.jupyter.widget-view+json": {
       "model_id": "cd95549363bb442b8f4bbbb7480954d8",
       "version_major": 2,
       "version_minor": 0
      },
      "text/plain": [
       "Canvas(toolbar=Toolbar(toolitems=[('Home', 'Reset original view', 'home', 'home'), ('Back', 'Back to previous …"
      ]
     },
     "metadata": {},
     "output_type": "display_data"
    },
    {
     "data": {
      "application/vnd.jupyter.widget-view+json": {
       "model_id": "4fc569e89b10410ea5b2ebf627f52843",
       "version_major": 2,
       "version_minor": 0
      },
      "text/plain": [
       "Canvas(toolbar=Toolbar(toolitems=[('Home', 'Reset original view', 'home', 'home'), ('Back', 'Back to previous …"
      ]
     },
     "metadata": {},
     "output_type": "display_data"
    }
   ],
   "source": [
    "aprox_detail_coeff = 2 \n",
    "plot_clusters_skk(aprox_detail_coeff)"
   ]
  },
  {
   "cell_type": "code",
   "execution_count": 49,
   "id": "5fae5997",
   "metadata": {},
   "outputs": [
    {
     "data": {
      "application/vnd.jupyter.widget-view+json": {
       "model_id": "8531aeab8b3c455c891b1641af137cab",
       "version_major": 2,
       "version_minor": 0
      },
      "text/plain": [
       "Canvas(toolbar=Toolbar(toolitems=[('Home', 'Reset original view', 'home', 'home'), ('Back', 'Back to previous …"
      ]
     },
     "metadata": {},
     "output_type": "display_data"
    },
    {
     "name": "stderr",
     "output_type": "stream",
     "text": [
      "/tmp/ipykernel_7828/2478823229.py:33: RuntimeWarning: More than 20 figures have been opened. Figures created through the pyplot interface (`matplotlib.pyplot.figure`) are retained until explicitly closed and may consume too much memory. (To control this warning, see the rcParam `figure.max_open_warning`).\n",
      "  fig = plt.figure(figsize=(12,6))\n"
     ]
    },
    {
     "data": {
      "application/vnd.jupyter.widget-view+json": {
       "model_id": "2b07e188841a43529117bfef0ea01526",
       "version_major": 2,
       "version_minor": 0
      },
      "text/plain": [
       "Canvas(toolbar=Toolbar(toolitems=[('Home', 'Reset original view', 'home', 'home'), ('Back', 'Back to previous …"
      ]
     },
     "metadata": {},
     "output_type": "display_data"
    }
   ],
   "source": [
    "aprox_detail_coeff = 3 \n",
    "plot_clusters_skk(aprox_detail_coeff)"
   ]
  },
  {
   "cell_type": "code",
   "execution_count": 50,
   "id": "ac12fb99",
   "metadata": {},
   "outputs": [
    {
     "data": {
      "application/vnd.jupyter.widget-view+json": {
       "model_id": "fe359091af01436ab0c944b511f530ec",
       "version_major": 2,
       "version_minor": 0
      },
      "text/plain": [
       "Canvas(toolbar=Toolbar(toolitems=[('Home', 'Reset original view', 'home', 'home'), ('Back', 'Back to previous …"
      ]
     },
     "metadata": {},
     "output_type": "display_data"
    },
    {
     "data": {
      "application/vnd.jupyter.widget-view+json": {
       "model_id": "09c07e4b342b4191bf92c39e501ee0fc",
       "version_major": 2,
       "version_minor": 0
      },
      "text/plain": [
       "Canvas(toolbar=Toolbar(toolitems=[('Home', 'Reset original view', 'home', 'home'), ('Back', 'Back to previous …"
      ]
     },
     "metadata": {},
     "output_type": "display_data"
    }
   ],
   "source": [
    "aprox_detail_coeff = 4 \n",
    "plot_clusters_skk(aprox_detail_coeff)"
   ]
  },
  {
   "cell_type": "code",
   "execution_count": 51,
   "id": "d892084c",
   "metadata": {},
   "outputs": [
    {
     "data": {
      "application/vnd.jupyter.widget-view+json": {
       "model_id": "d6ea166d08d44bcdb68363646bdab3ba",
       "version_major": 2,
       "version_minor": 0
      },
      "text/plain": [
       "Canvas(toolbar=Toolbar(toolitems=[('Home', 'Reset original view', 'home', 'home'), ('Back', 'Back to previous …"
      ]
     },
     "metadata": {},
     "output_type": "display_data"
    },
    {
     "data": {
      "application/vnd.jupyter.widget-view+json": {
       "model_id": "6764eceae9ca4c7a8418e1afce6254bf",
       "version_major": 2,
       "version_minor": 0
      },
      "text/plain": [
       "Canvas(toolbar=Toolbar(toolitems=[('Home', 'Reset original view', 'home', 'home'), ('Back', 'Back to previous …"
      ]
     },
     "metadata": {},
     "output_type": "display_data"
    }
   ],
   "source": [
    "aprox_detail_coeff = 5 \n",
    "plot_clusters_skk(aprox_detail_coeff)"
   ]
  },
  {
   "cell_type": "code",
   "execution_count": null,
   "id": "679c4fbb",
   "metadata": {},
   "outputs": [],
   "source": []
  },
  {
   "cell_type": "code",
   "execution_count": null,
   "id": "71dc44cd",
   "metadata": {},
   "outputs": [],
   "source": []
  }
 ],
 "metadata": {
  "kernelspec": {
   "display_name": "laser_injection",
   "language": "python",
   "name": "laser_injection"
  },
  "language_info": {
   "codemirror_mode": {
    "name": "ipython",
    "version": 3
   },
   "file_extension": ".py",
   "mimetype": "text/x-python",
   "name": "python",
   "nbconvert_exporter": "python",
   "pygments_lexer": "ipython3",
   "version": "3.8.10"
  }
 },
 "nbformat": 4,
 "nbformat_minor": 5
}
