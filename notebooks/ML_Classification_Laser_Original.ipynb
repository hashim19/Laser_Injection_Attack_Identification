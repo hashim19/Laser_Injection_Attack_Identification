{
 "cells": [
  {
   "cell_type": "code",
   "execution_count": 1,
   "id": "99f29a92",
   "metadata": {},
   "outputs": [],
   "source": [
    "import os\n",
    "import pandas as pd\n",
    "import librosa\n",
    "import librosa.display\n",
    "import glob \n",
    "import numpy as np\n",
    "import matplotlib.pyplot as plt\n",
    "from matplotlib import cm\n",
    "import seaborn as sns\n",
    "from fitter import Fitter, get_common_distributions, get_distributions\n",
    "\n",
    "# from sklearn.preprocessing import StandardScaler\n",
    "import sklearn\n",
    "\n",
    "from sklearn.svm import LinearSVC\n",
    "from sklearn.pipeline import make_pipeline\n",
    "from sklearn.preprocessing import StandardScaler\n",
    "from sklearn.svm import SVC\n",
    "\n",
    "from sklearn.model_selection import train_test_split\n",
    "from sklearn.metrics import accuracy_score\n",
    "from sklearn.metrics import confusion_matrix, ConfusionMatrixDisplay\n",
    "from sklearn.metrics import plot_confusion_matrix\n",
    "\n",
    "from utils import plot_projections"
   ]
  },
  {
   "cell_type": "code",
   "execution_count": 2,
   "id": "b0bba122",
   "metadata": {},
   "outputs": [
    {
     "name": "stdout",
     "output_type": "stream",
     "text": [
      "72\n"
     ]
    }
   ],
   "source": [
    "laser_dir = '/home/hashim/PHD/audio_data/Laser_Original_New/Laser_cleaned/'\n",
    "laser_files = list(glob.glob(os.path.join(laser_dir, '*.mp3')))\n",
    "laser_files.sort()\n",
    "# print(laser_files)\n",
    "print(len(laser_files))"
   ]
  },
  {
   "cell_type": "code",
   "execution_count": 3,
   "id": "fd8ec850",
   "metadata": {},
   "outputs": [
    {
     "name": "stdout",
     "output_type": "stream",
     "text": [
      "74\n"
     ]
    }
   ],
   "source": [
    "orig_dir = '/home/hashim/PHD/audio_data/Laser_Original_New/Original_cleaned/'\n",
    "orig_files = list(glob.glob(os.path.join(orig_dir, '*.mp3')))\n",
    "orig_files.sort()\n",
    "# print(orig_files)\n",
    "print(len(orig_files))"
   ]
  },
  {
   "cell_type": "code",
   "execution_count": 4,
   "id": "9cf751be",
   "metadata": {},
   "outputs": [],
   "source": [
    "%%capture\n",
    "# compute spectograms for both laser and original\n",
    "laser_spec = []\n",
    "\n",
    "# laser_mu_feat = []\n",
    "# laser_sigma_feat = []\n",
    "# laser_beta_feat = []\n",
    "X_laser = []\n",
    "laser_label = []\n",
    "\n",
    "for lf in laser_files:\n",
    "    audio_data, sr = librosa.load(lf, res_type='kaiser_fast')\n",
    "    stft = librosa.stft(audio_data, n_fft=256)\n",
    "    S_db = librosa.amplitude_to_db(np.abs(stft), ref=np.max)\n",
    "    \n",
    "#     mu_feat = []\n",
    "#     sigma_feat = []\n",
    "#     beta_feat = []\n",
    "    laser_feat = []\n",
    "    for row in S_db:\n",
    "        \n",
    "        f = Fitter(row, distributions=[\"gennorm\"])\n",
    "\n",
    "        f.fit()\n",
    "#         print(f.get_best(method = 'sumsquare_error'))\n",
    "\n",
    "        f_param = f.fitted_param[\"gennorm\"]\n",
    "    \n",
    "#         print(f_param)\n",
    "#         print(f.summary())\n",
    "\n",
    "#         mu_feat.append(f_param[1])\n",
    "#         sigma_feat.append(f_param[2])\n",
    "#         beta_feat.append(f_param[0])\n",
    "        laser_feat.extend([f_param[1], f_param[2], f_param[0]])\n",
    "        \n",
    "#     laser_mu_feat.append(mu_feat)\n",
    "#     laser_sigma_feat.append(sigma_feat)\n",
    "#     laser_beta_feat.append(beta_feat)\n",
    "    X_laser.append(laser_feat)\n",
    "    laser_label.append('laser')\n",
    "    \n",
    "# laser_mu_feat = np.array(laser_mu_feat)\n",
    "# laser_sigma_feat = np.array(laser_sigma_feat)\n",
    "# laser_beta_feat = np.array(laser_beta_feat)\n",
    "\n",
    "X_laser = np.array(X_laser)\n",
    "laser_label = np.array(laser_label)\n"
   ]
  },
  {
   "cell_type": "code",
   "execution_count": 5,
   "id": "77874122",
   "metadata": {},
   "outputs": [
    {
     "name": "stdout",
     "output_type": "stream",
     "text": [
      "(72, 387)\n",
      "(72,)\n"
     ]
    }
   ],
   "source": [
    "# print(S_db.shape)\n",
    "# print(laser_mu_feat.shape)\n",
    "# print(laser_sigma_feat.shape)\n",
    "# print(laser_beta_feat.shape)\n",
    "print(X_laser.shape)\n",
    "print(laser_label.shape)"
   ]
  },
  {
   "cell_type": "code",
   "execution_count": 6,
   "id": "31189f5d",
   "metadata": {},
   "outputs": [],
   "source": [
    "%%capture\n",
    "orig_spec = []\n",
    "\n",
    "# orig_mu_feat = []\n",
    "# orig_sigma_feat = []\n",
    "# orig_beta_feat = []\n",
    "X_orig = []\n",
    "orig_label = []\n",
    "for of in orig_files:\n",
    "    audio_data, sr = librosa.load(of, res_type='kaiser_fast')\n",
    "    stft = librosa.stft(audio_data, n_fft=256)\n",
    "    S_db = librosa.amplitude_to_db(np.abs(stft), ref=np.max)\n",
    "    \n",
    "#     mu_feat = []\n",
    "#     sigma_feat = []\n",
    "#     beta_feat = []\n",
    "    orig_feat = []\n",
    "    for row in S_db:\n",
    "        \n",
    "        f = Fitter(row, distributions=[\"gennorm\"])\n",
    "\n",
    "        f.fit()\n",
    "#         print(f.get_best(method = 'sumsquare_error'))\n",
    "\n",
    "        f_param = f.fitted_param[\"gennorm\"]\n",
    "\n",
    "#         mu_feat.append(f_param[1])\n",
    "#         sigma_feat.append(f_param[2])\n",
    "#         beta_feat.append(f_param[0])\n",
    "        orig_feat.extend([f_param[1], f_param[2], f_param[0]])\n",
    "        \n",
    "#     orig_mu_feat.append(mu_feat)\n",
    "#     orig_sigma_feat.append(sigma_feat)\n",
    "#     orig_beta_feat.append(beta_feat)\n",
    "    X_orig.append(orig_feat)\n",
    "    orig_label.append('original')\n",
    "    \n",
    "# orig_mu_feat = np.array(orig_mu_feat)\n",
    "# orig_sigma_feat = np.array(orig_sigma_feat)\n",
    "# orig_beta_feat = np.array(orig_beta_feat)\n",
    "\n",
    "X_orig = np.array(X_orig)\n",
    "orig_label = np.array(orig_label)\n"
   ]
  },
  {
   "cell_type": "code",
   "execution_count": 7,
   "id": "fce90394",
   "metadata": {},
   "outputs": [
    {
     "name": "stdout",
     "output_type": "stream",
     "text": [
      "(74, 387)\n",
      "(74,)\n"
     ]
    }
   ],
   "source": [
    "# print(orig_mu_feat.shape)\n",
    "# print(orig_sigma_feat.shape)\n",
    "# print(orig_beta_feat.shape)\n",
    "\n",
    "print(X_orig.shape)\n",
    "print(orig_label.shape)"
   ]
  },
  {
   "cell_type": "code",
   "execution_count": 8,
   "id": "6242e4b5",
   "metadata": {},
   "outputs": [],
   "source": [
    "# X_orig = np.reshape(X_orig, (48, 129, 3))\n",
    "# X_orig.shape"
   ]
  },
  {
   "cell_type": "code",
   "execution_count": 9,
   "id": "aa0ebc78",
   "metadata": {},
   "outputs": [],
   "source": [
    "# X_laser = np.reshape(X_laser, (70, 129, 3))\n",
    "# X_laser.shape"
   ]
  },
  {
   "cell_type": "markdown",
   "id": "cff36770",
   "metadata": {},
   "source": [
    "# SVM with Linear Kernel"
   ]
  },
  {
   "cell_type": "code",
   "execution_count": 10,
   "id": "4665ff82",
   "metadata": {},
   "outputs": [],
   "source": [
    "clf = make_pipeline(StandardScaler(), LinearSVC())"
   ]
  },
  {
   "cell_type": "code",
   "execution_count": 11,
   "id": "48761039",
   "metadata": {},
   "outputs": [
    {
     "data": {
      "text/plain": [
       "(146, 387)"
      ]
     },
     "execution_count": 11,
     "metadata": {},
     "output_type": "execute_result"
    }
   ],
   "source": [
    "X = np.concatenate((X_laser, X_orig))\n",
    "X.shape"
   ]
  },
  {
   "cell_type": "code",
   "execution_count": 12,
   "id": "96c61cd8",
   "metadata": {},
   "outputs": [
    {
     "data": {
      "text/plain": [
       "(146,)"
      ]
     },
     "execution_count": 12,
     "metadata": {},
     "output_type": "execute_result"
    }
   ],
   "source": [
    "y = np.concatenate((laser_label, orig_label))\n",
    "y.shape"
   ]
  },
  {
   "cell_type": "code",
   "execution_count": 13,
   "id": "2e4d1f29",
   "metadata": {},
   "outputs": [],
   "source": [
    "X_train, X_test, y_train, y_test = train_test_split(X, y, test_size=0.33, random_state=42)"
   ]
  },
  {
   "cell_type": "code",
   "execution_count": 14,
   "id": "4f3215d3",
   "metadata": {},
   "outputs": [
    {
     "data": {
      "text/plain": [
       "(97, 387)"
      ]
     },
     "execution_count": 14,
     "metadata": {},
     "output_type": "execute_result"
    }
   ],
   "source": [
    "X_train.shape"
   ]
  },
  {
   "cell_type": "code",
   "execution_count": 15,
   "id": "247ff70e",
   "metadata": {},
   "outputs": [
    {
     "data": {
      "text/plain": [
       "(97,)"
      ]
     },
     "execution_count": 15,
     "metadata": {},
     "output_type": "execute_result"
    }
   ],
   "source": [
    "y_train.shape"
   ]
  },
  {
   "cell_type": "code",
   "execution_count": 16,
   "id": "4ebde3b7",
   "metadata": {},
   "outputs": [
    {
     "data": {
      "text/plain": [
       "Pipeline(steps=[('standardscaler', StandardScaler()),\n",
       "                ('linearsvc', LinearSVC())])"
      ]
     },
     "execution_count": 16,
     "metadata": {},
     "output_type": "execute_result"
    }
   ],
   "source": [
    "clf.fit(X_train, y_train)"
   ]
  },
  {
   "cell_type": "code",
   "execution_count": 17,
   "id": "0e2439a0",
   "metadata": {},
   "outputs": [],
   "source": [
    "y_pred = clf.predict(X_test)"
   ]
  },
  {
   "cell_type": "code",
   "execution_count": 18,
   "id": "3fa0f80b",
   "metadata": {},
   "outputs": [
    {
     "name": "stdout",
     "output_type": "stream",
     "text": [
      "accuracy =  0.8571428571428571\n"
     ]
    }
   ],
   "source": [
    "print(\"accuracy = \", accuracy_score(y_test, y_pred))"
   ]
  },
  {
   "cell_type": "code",
   "execution_count": 19,
   "id": "63b2d4fc",
   "metadata": {},
   "outputs": [],
   "source": [
    "cm = confusion_matrix(y_test, y_pred)"
   ]
  },
  {
   "cell_type": "code",
   "execution_count": 20,
   "id": "15c1547c",
   "metadata": {},
   "outputs": [],
   "source": [
    "tn, fp, fn, tp = confusion_matrix(y_test, y_pred).ravel()"
   ]
  },
  {
   "cell_type": "code",
   "execution_count": 21,
   "id": "7f098092",
   "metadata": {},
   "outputs": [
    {
     "data": {
      "text/plain": [
       "(24, 2, 5, 18)"
      ]
     },
     "execution_count": 21,
     "metadata": {},
     "output_type": "execute_result"
    }
   ],
   "source": [
    "(tn, fp, fn, tp)"
   ]
  },
  {
   "cell_type": "code",
   "execution_count": 22,
   "id": "6c96f978",
   "metadata": {},
   "outputs": [
    {
     "data": {
      "text/plain": [
       "<sklearn.metrics._plot.confusion_matrix.ConfusionMatrixDisplay at 0x7f055432dc10>"
      ]
     },
     "execution_count": 22,
     "metadata": {},
     "output_type": "execute_result"
    },
    {
     "data": {
      "image/png": "[encoded data removed]",
      "text/plain": [
       "<Figure size 432x288 with 2 Axes>"
      ]
     },
     "metadata": {
      "needs_background": "light"
     },
     "output_type": "display_data"
    }
   ],
   "source": [
    "disp = ConfusionMatrixDisplay(confusion_matrix=cm, display_labels=clf.classes_)\n",
    "disp.plot()"
   ]
  },
  {
   "cell_type": "markdown",
   "id": "9d3f487e",
   "metadata": {},
   "source": [
    "# svm with non-linear kernal"
   ]
  },
  {
   "cell_type": "code",
   "execution_count": 23,
   "id": "1f16d60a",
   "metadata": {},
   "outputs": [],
   "source": [
    "clf_svc = make_pipeline(StandardScaler(), SVC(gamma='auto'))"
   ]
  },
  {
   "cell_type": "code",
   "execution_count": 24,
   "id": "f6b8b2d3",
   "metadata": {},
   "outputs": [
    {
     "data": {
      "text/plain": [
       "Pipeline(steps=[('standardscaler', StandardScaler()),\n",
       "                ('svc', SVC(gamma='auto'))])"
      ]
     },
     "execution_count": 24,
     "metadata": {},
     "output_type": "execute_result"
    }
   ],
   "source": [
    "clf_svc.fit(X_train, y_train)"
   ]
  },
  {
   "cell_type": "code",
   "execution_count": 25,
   "id": "d3fae9fc",
   "metadata": {},
   "outputs": [],
   "source": [
    "y_pred_svc = clf_svc.predict(X_test)"
   ]
  },
  {
   "cell_type": "code",
   "execution_count": 26,
   "id": "d28b67bd",
   "metadata": {},
   "outputs": [],
   "source": [
    "cm_svc = confusion_matrix(y_test, y_pred_svc)"
   ]
  },
  {
   "cell_type": "code",
   "execution_count": 27,
   "id": "bc3725b1",
   "metadata": {},
   "outputs": [],
   "source": [
    "tn, fp, fn, tp = cm_svc.ravel()"
   ]
  },
  {
   "cell_type": "code",
   "execution_count": 28,
   "id": "33e2b9f2",
   "metadata": {},
   "outputs": [
    {
     "data": {
      "text/plain": [
       "(16, 10, 0, 23)"
      ]
     },
     "execution_count": 28,
     "metadata": {},
     "output_type": "execute_result"
    }
   ],
   "source": [
    "(tn, fp, fn, tp)"
   ]
  },
  {
   "cell_type": "code",
   "execution_count": 29,
   "id": "b9fefe71",
   "metadata": {},
   "outputs": [
    {
     "data": {
      "text/plain": [
       "<sklearn.metrics._plot.confusion_matrix.ConfusionMatrixDisplay at 0x7f052172a5b0>"
      ]
     },
     "execution_count": 29,
     "metadata": {},
     "output_type": "execute_result"
    },
    {
     "data": {
      "image/png": "[encoded data removed]",
      "text/plain": [
       "<Figure size 432x288 with 2 Axes>"
      ]
     },
     "metadata": {
      "needs_background": "light"
     },
     "output_type": "display_data"
    }
   ],
   "source": [
    "disp = ConfusionMatrixDisplay(confusion_matrix=cm_svc, display_labels=clf_svc.classes_)\n",
    "disp.plot()"
   ]
  },
  {
   "cell_type": "code",
   "execution_count": null,
   "id": "bc21a46a",
   "metadata": {},
   "outputs": [],
   "source": []
  }
 ],
 "metadata": {
  "kernelspec": {
   "display_name": "laser_injection",
   "language": "python",
   "name": "laser_injection"
  },
  "language_info": {
   "codemirror_mode": {
    "name": "ipython",
    "version": 3
   },
   "file_extension": ".py",
   "mimetype": "text/x-python",
   "name": "python",
   "nbconvert_exporter": "python",
   "pygments_lexer": "ipython3",
   "version": "3.8.10"
  }
 },
 "nbformat": 4,
 "nbformat_minor": 5
}
