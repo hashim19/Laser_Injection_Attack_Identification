{
 "cells": [
  {
   "cell_type": "code",
   "execution_count": 16,
   "id": "da6c8908",
   "metadata": {},
   "outputs": [],
   "source": [
    "import numpy as np\n",
    "import math"
   ]
  },
  {
   "cell_type": "code",
   "execution_count": 50,
   "id": "6e8cd6e3",
   "metadata": {},
   "outputs": [],
   "source": [
    "def bonus(score, percent_correct):\n",
    "    \n",
    "    out = round((100-score)*0.5*percent_correct + 2, 1)\n",
    "    \n",
    "    print(\"bonus = \", out)\n",
    "    \n",
    "    print(\"New score = \", out + score)"
   ]
  },
  {
   "cell_type": "code",
   "execution_count": 57,
   "id": "6fefe085",
   "metadata": {},
   "outputs": [
    {
     "name": "stdout",
     "output_type": "stream",
     "text": [
      "bonus =  7.5\n",
      "New score =  96.5\n"
     ]
    }
   ],
   "source": [
    "bonus(89, 1)"
   ]
  },
  {
   "cell_type": "code",
   "execution_count": 1,
   "id": "ee7b4159",
   "metadata": {},
   "outputs": [],
   "source": [
    "def Qbonus(score, percent_correct):\n",
    "    \n",
    "    out = round((35-score)*0.5*percent_correct + 2, 1)\n",
    "    \n",
    "    print(\"bonus = \", out)\n",
    "    \n",
    "    print(\"New score = \", out + score)"
   ]
  },
  {
   "cell_type": "code",
   "execution_count": 30,
   "id": "knowing-small",
   "metadata": {},
   "outputs": [
    {
     "name": "stdout",
     "output_type": "stream",
     "text": [
      "bonus =  9.8\n",
      "New score =  29.3\n"
     ]
    }
   ],
   "source": [
    "Qbonus(19.5, 1)"
   ]
  },
  {
   "cell_type": "code",
   "execution_count": null,
   "id": "musical-correspondence",
   "metadata": {},
   "outputs": [],
   "source": []
  }
 ],
 "metadata": {
  "kernelspec": {
   "display_name": "laser_injection",
   "language": "python",
   "name": "laser_injection"
  },
  "language_info": {
   "codemirror_mode": {
    "name": "ipython",
    "version": 3
   },
   "file_extension": ".py",
   "mimetype": "text/x-python",
   "name": "python",
   "nbconvert_exporter": "python",
   "pygments_lexer": "ipython3",
   "version": "3.8.10"
  }
 },
 "nbformat": 4,
 "nbformat_minor": 5
}
