{
 "cells": [
  {
   "cell_type": "code",
   "execution_count": 1,
   "id": "e5c24a8c",
   "metadata": {},
   "outputs": [],
   "source": [
    "import pywt\n",
    "import os\n",
    "import pandas as pd\n",
    "import librosa\n",
    "import librosa.display\n",
    "import glob \n",
    "import numpy as np\n",
    "import matplotlib.pyplot as plt\n",
    "from matplotlib import cm\n",
    "import seaborn as sns\n",
    "from fitter import Fitter, get_common_distributions, get_distributions\n",
    "\n",
    "from sklearn.preprocessing import StandardScaler\n",
    "import sklearn\n",
    "\n",
    "from utils import plot_projections\n",
    "\n",
    "%matplotlib widget"
   ]
  },
  {
   "cell_type": "code",
   "execution_count": 2,
   "id": "61c67cfe",
   "metadata": {},
   "outputs": [],
   "source": [
    "# cluster plotting function\n",
    "\n",
    "def plot_clusters(band_num):\n",
    "    \n",
    "    plt.figure(figsize=(10,3))\n",
    "    \n",
    "#     mean vs sigma\n",
    "    plt.subplot(1, 3, 1)\n",
    "    plt.scatter(orig_mu_feat[:,band_num], orig_sigma_feat[:,band_num], marker='o', label=\"Original\")\n",
    "    plt.scatter(laser_mu_feat[:,band_num], laser_sigma_feat[:,band_num], marker='x', label=\"Laser\")\n",
    "    plt.xlabel(\"Mean\")\n",
    "    plt.ylabel(\"Variance\")\n",
    "    plt.legend()\n",
    "    \n",
    "#     sigma vs beta\n",
    "    plt.subplot(1, 3, 2)\n",
    "    plt.scatter(orig_beta_feat[:,band_num], orig_sigma_feat[:,band_num], marker='o', label=\"Original\")\n",
    "    plt.scatter(laser_beta_feat[:,band_num], laser_sigma_feat[:,band_num], marker='x', label=\"Laser\")\n",
    "    plt.xlabel(\"Beta\")\n",
    "    plt.ylabel(\"Variance\")\n",
    "    plt.legend()\n",
    "     \n",
    "#     beta vs mean\n",
    "    plt.subplot(1, 3, 3)\n",
    "    plt.scatter(orig_mu_feat[:,band_num], orig_beta_feat[:,band_num], marker='o', label=\"Original\")\n",
    "    plt.scatter(laser_mu_feat[:,band_num], laser_beta_feat[:,band_num], marker='x', label=\"Laser\")\n",
    "    plt.xlabel(\"Mean\")\n",
    "    plt.ylabel(\"Beta\")\n",
    "    plt.legend()\n",
    "    \n",
    "    plt.suptitle(\"Laser vs Original for {}th Band\".format(band_num))\n",
    "    \n",
    "    fig = plt.figure(figsize=(12,6))\n",
    "#     plt.figure(figsize=(20,6))\n",
    "    ax = fig.add_subplot(projection='3d')\n",
    "    ax.scatter(orig_mu_feat[:,band_num], orig_sigma_feat[:,band_num], orig_beta_feat[:,band_num], marker='o', label=\"Original\")\n",
    "    ax.scatter(laser_mu_feat[:,band_num], laser_sigma_feat[:,band_num], laser_beta_feat[:,band_num], marker='x', label=\"Laser\")\n",
    "    ax.set_xlabel('Mean')\n",
    "    ax.set_ylabel('Variance')\n",
    "    ax.set_zlabel('Beta')\n",
    "    ax.legend()"
   ]
  },
  {
   "cell_type": "code",
   "execution_count": 3,
   "id": "a1c678d4",
   "metadata": {},
   "outputs": [
    {
     "name": "stdout",
     "output_type": "stream",
     "text": [
      "['/home/hashim/PHD/audio_data/Laser_Original_New/Laser/laser_000.mp3', '/home/hashim/PHD/audio_data/Laser_Original_New/Laser/laser_001.mp3', '/home/hashim/PHD/audio_data/Laser_Original_New/Laser/laser_002.mp3', '/home/hashim/PHD/audio_data/Laser_Original_New/Laser/laser_003.mp3', '/home/hashim/PHD/audio_data/Laser_Original_New/Laser/laser_004.mp3', '/home/hashim/PHD/audio_data/Laser_Original_New/Laser/laser_005.mp3', '/home/hashim/PHD/audio_data/Laser_Original_New/Laser/laser_007.mp3', '/home/hashim/PHD/audio_data/Laser_Original_New/Laser/laser_008.mp3', '/home/hashim/PHD/audio_data/Laser_Original_New/Laser/laser_009.mp3', '/home/hashim/PHD/audio_data/Laser_Original_New/Laser/laser_010.mp3']\n",
      "10\n"
     ]
    }
   ],
   "source": [
    "laser_dir = '/home/hashim/PHD/audio_data/Laser_Original_New/Laser/'\n",
    "laser_files = list(glob.glob(os.path.join(laser_dir, '*.mp3')))\n",
    "laser_files.sort()\n",
    "print(laser_files)\n",
    "print(len(laser_files))"
   ]
  },
  {
   "cell_type": "code",
   "execution_count": 4,
   "id": "ce21876c",
   "metadata": {},
   "outputs": [
    {
     "name": "stdout",
     "output_type": "stream",
     "text": [
      "['/home/hashim/PHD/audio_data/Laser_Original_New/Original/original_000.mp3', '/home/hashim/PHD/audio_data/Laser_Original_New/Original/original_001.mp3', '/home/hashim/PHD/audio_data/Laser_Original_New/Original/original_002.mp3', '/home/hashim/PHD/audio_data/Laser_Original_New/Original/original_003.mp3', '/home/hashim/PHD/audio_data/Laser_Original_New/Original/original_004.mp3', '/home/hashim/PHD/audio_data/Laser_Original_New/Original/original_005.mp3', '/home/hashim/PHD/audio_data/Laser_Original_New/Original/original_006.mp3', '/home/hashim/PHD/audio_data/Laser_Original_New/Original/original_007.mp3', '/home/hashim/PHD/audio_data/Laser_Original_New/Original/original_008.mp3', '/home/hashim/PHD/audio_data/Laser_Original_New/Original/original_009.mp3']\n",
      "10\n"
     ]
    }
   ],
   "source": [
    "orig_dir = '/home/hashim/PHD/audio_data/Laser_Original_New/Original/'\n",
    "orig_files = list(glob.glob(os.path.join(orig_dir, '*.mp3')))\n",
    "orig_files.sort()\n",
    "print(orig_files)\n",
    "print(len(orig_files))"
   ]
  },
  {
   "cell_type": "markdown",
   "id": "d2be3dc0",
   "metadata": {},
   "source": [
    "# Wavelet Packet Analysis starts from here"
   ]
  },
  {
   "cell_type": "code",
   "execution_count": 5,
   "id": "d41dbf6a",
   "metadata": {},
   "outputs": [],
   "source": [
    "%%capture\n",
    "# compute coefficients for both laser and original\n",
    "laser_spec = []\n",
    "\n",
    "laser_mu_feat = []\n",
    "laser_sigma_feat = []\n",
    "laser_beta_feat = []\n",
    "\n",
    "for lf in laser_files:\n",
    "    audio_data, sr = librosa.load(lf, res_type='kaiser_fast')\n",
    "#     stft = librosa.stft(audio_data, n_fft=256)\n",
    "#     S_db = librosa.amplitude_to_db(np.abs(stft), ref=np.max)\n",
    "#     coeffs = pywt.wavedec(audio_data, db1, mode='constant', level=5)\n",
    "\n",
    "    wp = pywt.WaveletPacket(data=audio_data, wavelet='db1', mode='symmetric', maxlevel=5)\n",
    "\n",
    "    keys = [node.path for node in wp.get_level(5, 'freq')]\n",
    "    \n",
    "    \n",
    "    mu_feat = []\n",
    "    sigma_feat = []\n",
    "    beta_feat = []\n",
    "    for k in keys:\n",
    "        \n",
    "        cf = wp[k].data\n",
    "        \n",
    "        f = Fitter(cf, distributions=[\"gennorm\"])\n",
    "\n",
    "        f.fit()\n",
    "#         print(f.get_best(method = 'sumsquare_error'))\n",
    "\n",
    "        f_param = f.fitted_param[\"gennorm\"]\n",
    "    \n",
    "#         print(f_param)\n",
    "#         print(f.summary())\n",
    "\n",
    "        mu_feat.append(f_param[1])\n",
    "        sigma_feat.append(f_param[2])\n",
    "        beta_feat.append(f_param[0])\n",
    "        \n",
    "    laser_mu_feat.append(mu_feat)\n",
    "    laser_sigma_feat.append(sigma_feat)\n",
    "    laser_beta_feat.append(beta_feat)    \n",
    "    \n",
    "laser_mu_feat = np.array(laser_mu_feat)\n",
    "laser_sigma_feat = np.array(laser_sigma_feat)\n",
    "laser_beta_feat = np.array(laser_beta_feat)\n",
    "\n",
    "#     laser_spec.append(S_db)\n",
    "\n",
    "# laser_spec = np.array(laser_spec)\n",
    "# laser_spec"
   ]
  },
  {
   "cell_type": "code",
   "execution_count": 6,
   "id": "ea686dba",
   "metadata": {},
   "outputs": [
    {
     "name": "stdout",
     "output_type": "stream",
     "text": [
      "(10, 32)\n",
      "(10, 32)\n",
      "(10, 32)\n"
     ]
    }
   ],
   "source": [
    "print(laser_mu_feat.shape)\n",
    "print(laser_sigma_feat.shape)\n",
    "print(laser_beta_feat.shape)"
   ]
  },
  {
   "cell_type": "code",
   "execution_count": 7,
   "id": "8fb7dcf0",
   "metadata": {},
   "outputs": [],
   "source": [
    "%%capture\n",
    "orig_spec = []\n",
    "\n",
    "orig_mu_feat = []\n",
    "orig_sigma_feat = []\n",
    "orig_beta_feat = []\n",
    "for of in orig_files:\n",
    "    audio_data, sr = librosa.load(of, res_type='kaiser_fast')\n",
    "#     stft = librosa.stft(audio_data, n_fft=256)\n",
    "#     S_db = librosa.amplitude_to_db(np.abs(stft), ref=np.max)\n",
    "#     coeffs = pywt.wavedec(audio_data, db1, mode='constant', level=5)\n",
    "    \n",
    "    wp = pywt.WaveletPacket(data=audio_data, wavelet='db1', mode='symmetric', maxlevel=5)\n",
    "\n",
    "    keys = [node.path for node in wp.get_level(5, 'freq')]\n",
    "    \n",
    "\n",
    "    mu_feat = []\n",
    "    sigma_feat = []\n",
    "    beta_feat = []\n",
    "    for k in keys:\n",
    "        \n",
    "        cf = wp[k].data\n",
    "        \n",
    "        f = Fitter(cf, distributions=[\"gennorm\"])\n",
    "\n",
    "        f.fit()\n",
    "#         print(f.get_best(method = 'sumsquare_error'))\n",
    "\n",
    "        f_param = f.fitted_param[\"gennorm\"]\n",
    "\n",
    "        mu_feat.append(f_param[1])\n",
    "        sigma_feat.append(f_param[2])\n",
    "        beta_feat.append(f_param[0])\n",
    "        \n",
    "    orig_mu_feat.append(mu_feat)\n",
    "    orig_sigma_feat.append(sigma_feat)\n",
    "    orig_beta_feat.append(beta_feat)\n",
    "    \n",
    "orig_mu_feat = np.array(orig_mu_feat)\n",
    "orig_sigma_feat = np.array(orig_sigma_feat)\n",
    "orig_beta_feat = np.array(orig_beta_feat)\n"
   ]
  },
  {
   "cell_type": "code",
   "execution_count": 8,
   "id": "310d9555",
   "metadata": {},
   "outputs": [
    {
     "name": "stdout",
     "output_type": "stream",
     "text": [
      "(10, 32)\n",
      "(10, 32)\n",
      "(10, 32)\n"
     ]
    }
   ],
   "source": [
    "print(orig_mu_feat.shape)\n",
    "print(orig_sigma_feat.shape)\n",
    "print(orig_beta_feat.shape)"
   ]
  },
  {
   "cell_type": "code",
   "execution_count": 9,
   "id": "01c6e6fb",
   "metadata": {},
   "outputs": [
    {
     "data": {
      "application/vnd.jupyter.widget-view+json": {
       "model_id": "61a88332288a4023b7d124c3b2be2211",
       "version_major": 2,
       "version_minor": 0
      },
      "text/plain": [
       "Canvas(toolbar=Toolbar(toolitems=[('Home', 'Reset original view', 'home', 'home'), ('Back', 'Back to previous …"
      ]
     },
     "metadata": {},
     "output_type": "display_data"
    },
    {
     "data": {
      "application/vnd.jupyter.widget-view+json": {
       "model_id": "05a3c7a67602477db2a9d7fe8101f2a1",
       "version_major": 2,
       "version_minor": 0
      },
      "text/plain": [
       "Canvas(toolbar=Toolbar(toolitems=[('Home', 'Reset original view', 'home', 'home'), ('Back', 'Back to previous …"
      ]
     },
     "metadata": {},
     "output_type": "display_data"
    }
   ],
   "source": [
    "aprox_detail_coeff = 0 \n",
    "plot_clusters(aprox_detail_coeff)"
   ]
  },
  {
   "cell_type": "code",
   "execution_count": 10,
   "id": "d695db1e",
   "metadata": {},
   "outputs": [
    {
     "data": {
      "application/vnd.jupyter.widget-view+json": {
       "model_id": "3f6bf0c8f1ed41d0b2d6b97defdd678e",
       "version_major": 2,
       "version_minor": 0
      },
      "text/plain": [
       "Canvas(toolbar=Toolbar(toolitems=[('Home', 'Reset original view', 'home', 'home'), ('Back', 'Back to previous …"
      ]
     },
     "metadata": {},
     "output_type": "display_data"
    },
    {
     "data": {
      "application/vnd.jupyter.widget-view+json": {
       "model_id": "f92d20f515d4453fac3cbee9ebcafc0c",
       "version_major": 2,
       "version_minor": 0
      },
      "text/plain": [
       "Canvas(toolbar=Toolbar(toolitems=[('Home', 'Reset original view', 'home', 'home'), ('Back', 'Back to previous …"
      ]
     },
     "metadata": {},
     "output_type": "display_data"
    }
   ],
   "source": [
    "aprox_detail_coeff = 1 \n",
    "plot_clusters(aprox_detail_coeff)"
   ]
  },
  {
   "cell_type": "code",
   "execution_count": 11,
   "id": "0e1cad6b",
   "metadata": {},
   "outputs": [
    {
     "data": {
      "application/vnd.jupyter.widget-view+json": {
       "model_id": "443302a41d5848e8a88500111b2847b7",
       "version_major": 2,
       "version_minor": 0
      },
      "text/plain": [
       "Canvas(toolbar=Toolbar(toolitems=[('Home', 'Reset original view', 'home', 'home'), ('Back', 'Back to previous …"
      ]
     },
     "metadata": {},
     "output_type": "display_data"
    },
    {
     "data": {
      "application/vnd.jupyter.widget-view+json": {
       "model_id": "3359448e7e5744d3b7948bc2b5fa9633",
       "version_major": 2,
       "version_minor": 0
      },
      "text/plain": [
       "Canvas(toolbar=Toolbar(toolitems=[('Home', 'Reset original view', 'home', 'home'), ('Back', 'Back to previous …"
      ]
     },
     "metadata": {},
     "output_type": "display_data"
    }
   ],
   "source": [
    "aprox_detail_coeff = 2 \n",
    "plot_clusters(aprox_detail_coeff)"
   ]
  },
  {
   "cell_type": "code",
   "execution_count": 12,
   "id": "2eade83d",
   "metadata": {},
   "outputs": [
    {
     "data": {
      "application/vnd.jupyter.widget-view+json": {
       "model_id": "52daf7d7184c40e4ae92925c5fbee773",
       "version_major": 2,
       "version_minor": 0
      },
      "text/plain": [
       "Canvas(toolbar=Toolbar(toolitems=[('Home', 'Reset original view', 'home', 'home'), ('Back', 'Back to previous …"
      ]
     },
     "metadata": {},
     "output_type": "display_data"
    },
    {
     "data": {
      "application/vnd.jupyter.widget-view+json": {
       "model_id": "7cbf15c71e3c43928657152fa1f838fd",
       "version_major": 2,
       "version_minor": 0
      },
      "text/plain": [
       "Canvas(toolbar=Toolbar(toolitems=[('Home', 'Reset original view', 'home', 'home'), ('Back', 'Back to previous …"
      ]
     },
     "metadata": {},
     "output_type": "display_data"
    }
   ],
   "source": [
    "aprox_detail_coeff = 3 \n",
    "plot_clusters(aprox_detail_coeff)"
   ]
  },
  {
   "cell_type": "code",
   "execution_count": 13,
   "id": "53ffc58a",
   "metadata": {},
   "outputs": [
    {
     "data": {
      "application/vnd.jupyter.widget-view+json": {
       "model_id": "9fa085c3a9d14d4787b7b19102d1c3be",
       "version_major": 2,
       "version_minor": 0
      },
      "text/plain": [
       "Canvas(toolbar=Toolbar(toolitems=[('Home', 'Reset original view', 'home', 'home'), ('Back', 'Back to previous …"
      ]
     },
     "metadata": {},
     "output_type": "display_data"
    },
    {
     "data": {
      "application/vnd.jupyter.widget-view+json": {
       "model_id": "1086c0037a034c719fd28888bc11099c",
       "version_major": 2,
       "version_minor": 0
      },
      "text/plain": [
       "Canvas(toolbar=Toolbar(toolitems=[('Home', 'Reset original view', 'home', 'home'), ('Back', 'Back to previous …"
      ]
     },
     "metadata": {},
     "output_type": "display_data"
    }
   ],
   "source": [
    "aprox_detail_coeff = 4 \n",
    "plot_clusters(aprox_detail_coeff)"
   ]
  },
  {
   "cell_type": "code",
   "execution_count": 14,
   "id": "6f53feb8",
   "metadata": {},
   "outputs": [
    {
     "data": {
      "application/vnd.jupyter.widget-view+json": {
       "model_id": "2d3519b60ebc4bd896da22bca025c130",
       "version_major": 2,
       "version_minor": 0
      },
      "text/plain": [
       "Canvas(toolbar=Toolbar(toolitems=[('Home', 'Reset original view', 'home', 'home'), ('Back', 'Back to previous …"
      ]
     },
     "metadata": {},
     "output_type": "display_data"
    },
    {
     "data": {
      "application/vnd.jupyter.widget-view+json": {
       "model_id": "989aaf754848472885791c73d4e3bee8",
       "version_major": 2,
       "version_minor": 0
      },
      "text/plain": [
       "Canvas(toolbar=Toolbar(toolitems=[('Home', 'Reset original view', 'home', 'home'), ('Back', 'Back to previous …"
      ]
     },
     "metadata": {},
     "output_type": "display_data"
    }
   ],
   "source": [
    "aprox_detail_coeff = 5 \n",
    "plot_clusters(aprox_detail_coeff)"
   ]
  },
  {
   "cell_type": "code",
   "execution_count": 15,
   "id": "8604c57b",
   "metadata": {},
   "outputs": [
    {
     "data": {
      "application/vnd.jupyter.widget-view+json": {
       "model_id": "fe1f532e01ff46a2ac9cc4a2ae556e2b",
       "version_major": 2,
       "version_minor": 0
      },
      "text/plain": [
       "Canvas(toolbar=Toolbar(toolitems=[('Home', 'Reset original view', 'home', 'home'), ('Back', 'Back to previous …"
      ]
     },
     "metadata": {},
     "output_type": "display_data"
    },
    {
     "data": {
      "application/vnd.jupyter.widget-view+json": {
       "model_id": "74aaf26e02e84d6eb84cd4ce27a75dc3",
       "version_major": 2,
       "version_minor": 0
      },
      "text/plain": [
       "Canvas(toolbar=Toolbar(toolitems=[('Home', 'Reset original view', 'home', 'home'), ('Back', 'Back to previous …"
      ]
     },
     "metadata": {},
     "output_type": "display_data"
    }
   ],
   "source": [
    "aprox_detail_coeff = 6 \n",
    "plot_clusters(aprox_detail_coeff)"
   ]
  },
  {
   "cell_type": "code",
   "execution_count": 16,
   "id": "9e560bb0",
   "metadata": {},
   "outputs": [
    {
     "data": {
      "application/vnd.jupyter.widget-view+json": {
       "model_id": "12f7bcf1a2a84a488a9729cc5a539637",
       "version_major": 2,
       "version_minor": 0
      },
      "text/plain": [
       "Canvas(toolbar=Toolbar(toolitems=[('Home', 'Reset original view', 'home', 'home'), ('Back', 'Back to previous …"
      ]
     },
     "metadata": {},
     "output_type": "display_data"
    },
    {
     "data": {
      "application/vnd.jupyter.widget-view+json": {
       "model_id": "2cfe7f07715648da8aab8909bc713582",
       "version_major": 2,
       "version_minor": 0
      },
      "text/plain": [
       "Canvas(toolbar=Toolbar(toolitems=[('Home', 'Reset original view', 'home', 'home'), ('Back', 'Back to previous …"
      ]
     },
     "metadata": {},
     "output_type": "display_data"
    }
   ],
   "source": [
    "aprox_detail_coeff = 7 \n",
    "plot_clusters(aprox_detail_coeff)"
   ]
  },
  {
   "cell_type": "code",
   "execution_count": 17,
   "id": "7df1b466",
   "metadata": {},
   "outputs": [
    {
     "data": {
      "application/vnd.jupyter.widget-view+json": {
       "model_id": "e056f55921eb4416b6631717cd6e5b29",
       "version_major": 2,
       "version_minor": 0
      },
      "text/plain": [
       "Canvas(toolbar=Toolbar(toolitems=[('Home', 'Reset original view', 'home', 'home'), ('Back', 'Back to previous …"
      ]
     },
     "metadata": {},
     "output_type": "display_data"
    },
    {
     "data": {
      "application/vnd.jupyter.widget-view+json": {
       "model_id": "5c8119f96a174027a49a8adffe928b0d",
       "version_major": 2,
       "version_minor": 0
      },
      "text/plain": [
       "Canvas(toolbar=Toolbar(toolitems=[('Home', 'Reset original view', 'home', 'home'), ('Back', 'Back to previous …"
      ]
     },
     "metadata": {},
     "output_type": "display_data"
    }
   ],
   "source": [
    "aprox_detail_coeff = 8 \n",
    "plot_clusters(aprox_detail_coeff)"
   ]
  },
  {
   "cell_type": "code",
   "execution_count": 18,
   "id": "4dc87311",
   "metadata": {},
   "outputs": [
    {
     "data": {
      "application/vnd.jupyter.widget-view+json": {
       "model_id": "d5bbb4c85b72404a92e469640bc1b829",
       "version_major": 2,
       "version_minor": 0
      },
      "text/plain": [
       "Canvas(toolbar=Toolbar(toolitems=[('Home', 'Reset original view', 'home', 'home'), ('Back', 'Back to previous …"
      ]
     },
     "metadata": {},
     "output_type": "display_data"
    },
    {
     "data": {
      "application/vnd.jupyter.widget-view+json": {
       "model_id": "28065a25d28747b8af42e4b3fb87b9f1",
       "version_major": 2,
       "version_minor": 0
      },
      "text/plain": [
       "Canvas(toolbar=Toolbar(toolitems=[('Home', 'Reset original view', 'home', 'home'), ('Back', 'Back to previous …"
      ]
     },
     "metadata": {},
     "output_type": "display_data"
    }
   ],
   "source": [
    "aprox_detail_coeff = 9 \n",
    "plot_clusters(aprox_detail_coeff)"
   ]
  },
  {
   "cell_type": "code",
   "execution_count": null,
   "id": "c03535bb",
   "metadata": {},
   "outputs": [],
   "source": [
    "aprox_detail_coeff = 10 \n",
    "plot_clusters(aprox_detail_coeff)"
   ]
  },
  {
   "cell_type": "code",
   "execution_count": null,
   "id": "ec071b56",
   "metadata": {},
   "outputs": [],
   "source": [
    "aprox_detail_coeff = 11 \n",
    "plot_clusters(aprox_detail_coeff)"
   ]
  },
  {
   "cell_type": "code",
   "execution_count": null,
   "id": "9dc33890",
   "metadata": {},
   "outputs": [],
   "source": [
    "aprox_detail_coeff = 12 \n",
    "plot_clusters(aprox_detail_coeff)"
   ]
  },
  {
   "cell_type": "code",
   "execution_count": null,
   "id": "134003b6",
   "metadata": {},
   "outputs": [],
   "source": [
    "aprox_detail_coeff = 15 \n",
    "plot_clusters(aprox_detail_coeff)"
   ]
  },
  {
   "cell_type": "code",
   "execution_count": 23,
   "id": "d5ee4394",
   "metadata": {},
   "outputs": [
    {
     "data": {
      "application/vnd.jupyter.widget-view+json": {
       "model_id": "f3c55f7d68e84cc8bc996374f147b141",
       "version_major": 2,
       "version_minor": 0
      },
      "text/plain": [
       "Canvas(toolbar=Toolbar(toolitems=[('Home', 'Reset original view', 'home', 'home'), ('Back', 'Back to previous …"
      ]
     },
     "metadata": {},
     "output_type": "display_data"
    },
    {
     "data": {
      "application/vnd.jupyter.widget-view+json": {
       "model_id": "edc6b5ae9e5b4e3fa23ae478683294ea",
       "version_major": 2,
       "version_minor": 0
      },
      "text/plain": [
       "Canvas(toolbar=Toolbar(toolitems=[('Home', 'Reset original view', 'home', 'home'), ('Back', 'Back to previous …"
      ]
     },
     "metadata": {},
     "output_type": "display_data"
    }
   ],
   "source": [
    "aprox_detail_coeff = 18 \n",
    "plot_clusters(aprox_detail_coeff)"
   ]
  },
  {
   "cell_type": "code",
   "execution_count": 24,
   "id": "b1a59a11",
   "metadata": {},
   "outputs": [
    {
     "data": {
      "application/vnd.jupyter.widget-view+json": {
       "model_id": "d826c8cc49164c3ba5c3b6ae25885212",
       "version_major": 2,
       "version_minor": 0
      },
      "text/plain": [
       "Canvas(toolbar=Toolbar(toolitems=[('Home', 'Reset original view', 'home', 'home'), ('Back', 'Back to previous …"
      ]
     },
     "metadata": {},
     "output_type": "display_data"
    },
    {
     "data": {
      "application/vnd.jupyter.widget-view+json": {
       "model_id": "f4d7f3bd629e46889664af277807ca3f",
       "version_major": 2,
       "version_minor": 0
      },
      "text/plain": [
       "Canvas(toolbar=Toolbar(toolitems=[('Home', 'Reset original view', 'home', 'home'), ('Back', 'Back to previous …"
      ]
     },
     "metadata": {},
     "output_type": "display_data"
    }
   ],
   "source": [
    "aprox_detail_coeff = 21 \n",
    "plot_clusters(aprox_detail_coeff)"
   ]
  },
  {
   "cell_type": "code",
   "execution_count": 25,
   "id": "9649b4d7",
   "metadata": {},
   "outputs": [
    {
     "data": {
      "application/vnd.jupyter.widget-view+json": {
       "model_id": "efecabaa31184904ba0d394ce6302ffc",
       "version_major": 2,
       "version_minor": 0
      },
      "text/plain": [
       "Canvas(toolbar=Toolbar(toolitems=[('Home', 'Reset original view', 'home', 'home'), ('Back', 'Back to previous …"
      ]
     },
     "metadata": {},
     "output_type": "display_data"
    },
    {
     "data": {
      "application/vnd.jupyter.widget-view+json": {
       "model_id": "0fcba2da21de458dbea79384b615ffc7",
       "version_major": 2,
       "version_minor": 0
      },
      "text/plain": [
       "Canvas(toolbar=Toolbar(toolitems=[('Home', 'Reset original view', 'home', 'home'), ('Back', 'Back to previous …"
      ]
     },
     "metadata": {},
     "output_type": "display_data"
    }
   ],
   "source": [
    "aprox_detail_coeff = 25 \n",
    "plot_clusters(aprox_detail_coeff)"
   ]
  },
  {
   "cell_type": "code",
   "execution_count": 26,
   "id": "29bc2a8a",
   "metadata": {},
   "outputs": [
    {
     "data": {
      "application/vnd.jupyter.widget-view+json": {
       "model_id": "39da201f4669415b8336274c741880ca",
       "version_major": 2,
       "version_minor": 0
      },
      "text/plain": [
       "Canvas(toolbar=Toolbar(toolitems=[('Home', 'Reset original view', 'home', 'home'), ('Back', 'Back to previous …"
      ]
     },
     "metadata": {},
     "output_type": "display_data"
    },
    {
     "data": {
      "application/vnd.jupyter.widget-view+json": {
       "model_id": "731f0ebab1c5419d9c4938b365f812e6",
       "version_major": 2,
       "version_minor": 0
      },
      "text/plain": [
       "Canvas(toolbar=Toolbar(toolitems=[('Home', 'Reset original view', 'home', 'home'), ('Back', 'Back to previous …"
      ]
     },
     "metadata": {},
     "output_type": "display_data"
    }
   ],
   "source": [
    "aprox_detail_coeff = 27 \n",
    "plot_clusters(aprox_detail_coeff)"
   ]
  },
  {
   "cell_type": "code",
   "execution_count": 27,
   "id": "35b71430",
   "metadata": {},
   "outputs": [
    {
     "data": {
      "application/vnd.jupyter.widget-view+json": {
       "model_id": "af7f48de313b4d6ea387b79277a1a0b7",
       "version_major": 2,
       "version_minor": 0
      },
      "text/plain": [
       "Canvas(toolbar=Toolbar(toolitems=[('Home', 'Reset original view', 'home', 'home'), ('Back', 'Back to previous …"
      ]
     },
     "metadata": {},
     "output_type": "display_data"
    },
    {
     "data": {
      "application/vnd.jupyter.widget-view+json": {
       "model_id": "ba1b72b7bac9498586809115c5ef7f0b",
       "version_major": 2,
       "version_minor": 0
      },
      "text/plain": [
       "Canvas(toolbar=Toolbar(toolitems=[('Home', 'Reset original view', 'home', 'home'), ('Back', 'Back to previous …"
      ]
     },
     "metadata": {},
     "output_type": "display_data"
    }
   ],
   "source": [
    "aprox_detail_coeff = 30 \n",
    "plot_clusters(aprox_detail_coeff)"
   ]
  },
  {
   "cell_type": "markdown",
   "id": "d0ceccac",
   "metadata": {},
   "source": [
    "#  Below Results are for the VAD audios "
   ]
  },
  {
   "cell_type": "code",
   "execution_count": 28,
   "id": "e864205e",
   "metadata": {},
   "outputs": [
    {
     "name": "stdout",
     "output_type": "stream",
     "text": [
      "72\n"
     ]
    }
   ],
   "source": [
    "laser_dir = '/home/hashim/PHD/audio_data/Laser_Original_New/Laser_cleaned/'\n",
    "laser_files_vad = list(glob.glob(os.path.join(laser_dir, '*.mp3')))\n",
    "laser_files_vad.sort()\n",
    "# print(laser_files)\n",
    "print(len(laser_files_vad))"
   ]
  },
  {
   "cell_type": "code",
   "execution_count": 29,
   "id": "8fe905e9",
   "metadata": {},
   "outputs": [
    {
     "name": "stdout",
     "output_type": "stream",
     "text": [
      "74\n"
     ]
    }
   ],
   "source": [
    "orig_dir = '/home/hashim/PHD/audio_data/Laser_Original_New/Original_cleaned/'\n",
    "orig_files_vad = list(glob.glob(os.path.join(orig_dir, '*.mp3')))\n",
    "orig_files_vad.sort()\n",
    "# print(orig_files)\n",
    "print(len(orig_files_vad))"
   ]
  },
  {
   "cell_type": "code",
   "execution_count": 30,
   "id": "fb5eed3b",
   "metadata": {},
   "outputs": [],
   "source": [
    "%%capture\n",
    "# compute spectograms for both laser and original\n",
    "laser_spec = []\n",
    "\n",
    "laser_mu_feat = []\n",
    "laser_sigma_feat = []\n",
    "laser_beta_feat = []\n",
    "\n",
    "for lf in laser_files_vad:\n",
    "    audio_data, sr = librosa.load(lf, res_type='kaiser_fast')\n",
    "#     stft = librosa.stft(audio_data, n_fft=256)\n",
    "#     S_db = librosa.amplitude_to_db(np.abs(stft), ref=np.max)\n",
    "#     coeffs = pywt.wavedec(audio_data, db1, mode='constant', level=5)\n",
    "\n",
    "    wp = pywt.WaveletPacket(data=audio_data, wavelet='db1', mode='symmetric', maxlevel=5)\n",
    "\n",
    "    keys = [node.path for node in wp.get_level(5, 'freq')]\n",
    "    \n",
    "    \n",
    "    mu_feat = []\n",
    "    sigma_feat = []\n",
    "    beta_feat = []\n",
    "    for k in keys:\n",
    "        \n",
    "        cf = wp[k].data\n",
    "        \n",
    "        f = Fitter(cf, distributions=[\"gennorm\"])\n",
    "\n",
    "        f.fit()\n",
    "#         print(f.get_best(method = 'sumsquare_error'))\n",
    "\n",
    "        f_param = f.fitted_param[\"gennorm\"]\n",
    "    \n",
    "#         print(f_param)\n",
    "#         print(f.summary())\n",
    "\n",
    "        mu_feat.append(f_param[1])\n",
    "        sigma_feat.append(f_param[2])\n",
    "        beta_feat.append(f_param[0])\n",
    "        \n",
    "    laser_mu_feat.append(mu_feat)\n",
    "    laser_sigma_feat.append(sigma_feat)\n",
    "    laser_beta_feat.append(beta_feat)    \n",
    "    \n",
    "laser_mu_feat = np.array(laser_mu_feat)\n",
    "laser_sigma_feat = np.array(laser_sigma_feat)\n",
    "laser_beta_feat = np.array(laser_beta_feat)"
   ]
  },
  {
   "cell_type": "code",
   "execution_count": 31,
   "id": "fa819ebf",
   "metadata": {},
   "outputs": [],
   "source": [
    "%%capture\n",
    "orig_spec = []\n",
    "\n",
    "orig_mu_feat = []\n",
    "orig_sigma_feat = []\n",
    "orig_beta_feat = []\n",
    "for of in orig_files_vad:\n",
    "    audio_data, sr = librosa.load(of, res_type='kaiser_fast')\n",
    "#     stft = librosa.stft(audio_data, n_fft=256)\n",
    "#     S_db = librosa.amplitude_to_db(np.abs(stft), ref=np.max)\n",
    "#     coeffs = pywt.wavedec(audio_data, db1, mode='constant', level=5)\n",
    "    \n",
    "    wp = pywt.WaveletPacket(data=audio_data, wavelet='db1', mode='symmetric', maxlevel=5)\n",
    "\n",
    "    keys = [node.path for node in wp.get_level(5, 'freq')]\n",
    "    \n",
    "\n",
    "    mu_feat = []\n",
    "    sigma_feat = []\n",
    "    beta_feat = []\n",
    "    for k in keys:\n",
    "        \n",
    "        cf = wp[k].data\n",
    "        \n",
    "        f = Fitter(cf, distributions=[\"gennorm\"])\n",
    "\n",
    "        f.fit()\n",
    "#         print(f.get_best(method = 'sumsquare_error'))\n",
    "\n",
    "        f_param = f.fitted_param[\"gennorm\"]\n",
    "\n",
    "        mu_feat.append(f_param[1])\n",
    "        sigma_feat.append(f_param[2])\n",
    "        beta_feat.append(f_param[0])\n",
    "        \n",
    "    orig_mu_feat.append(mu_feat)\n",
    "    orig_sigma_feat.append(sigma_feat)\n",
    "    orig_beta_feat.append(beta_feat)\n",
    "    \n",
    "orig_mu_feat = np.array(orig_mu_feat)\n",
    "orig_sigma_feat = np.array(orig_sigma_feat)\n",
    "orig_beta_feat = np.array(orig_beta_feat)\n"
   ]
  },
  {
   "cell_type": "code",
   "execution_count": 32,
   "id": "9fe41b77",
   "metadata": {},
   "outputs": [
    {
     "data": {
      "application/vnd.jupyter.widget-view+json": {
       "model_id": "f66bfc86962b40c085cba540487858eb",
       "version_major": 2,
       "version_minor": 0
      },
      "text/plain": [
       "Canvas(toolbar=Toolbar(toolitems=[('Home', 'Reset original view', 'home', 'home'), ('Back', 'Back to previous …"
      ]
     },
     "metadata": {},
     "output_type": "display_data"
    },
    {
     "data": {
      "application/vnd.jupyter.widget-view+json": {
       "model_id": "826aa42d04b44661b3ac6e253100dc95",
       "version_major": 2,
       "version_minor": 0
      },
      "text/plain": [
       "Canvas(toolbar=Toolbar(toolitems=[('Home', 'Reset original view', 'home', 'home'), ('Back', 'Back to previous …"
      ]
     },
     "metadata": {},
     "output_type": "display_data"
    }
   ],
   "source": [
    "aprox_detail_coeff = 0 \n",
    "plot_clusters(aprox_detail_coeff)"
   ]
  },
  {
   "cell_type": "code",
   "execution_count": 33,
   "id": "0485e5f2",
   "metadata": {},
   "outputs": [
    {
     "data": {
      "application/vnd.jupyter.widget-view+json": {
       "model_id": "3513fbb75636455cab60396561c2abb7",
       "version_major": 2,
       "version_minor": 0
      },
      "text/plain": [
       "Canvas(toolbar=Toolbar(toolitems=[('Home', 'Reset original view', 'home', 'home'), ('Back', 'Back to previous …"
      ]
     },
     "metadata": {},
     "output_type": "display_data"
    },
    {
     "data": {
      "application/vnd.jupyter.widget-view+json": {
       "model_id": "6bc1c2fb78d547a580079653d29abf82",
       "version_major": 2,
       "version_minor": 0
      },
      "text/plain": [
       "Canvas(toolbar=Toolbar(toolitems=[('Home', 'Reset original view', 'home', 'home'), ('Back', 'Back to previous …"
      ]
     },
     "metadata": {},
     "output_type": "display_data"
    }
   ],
   "source": [
    "aprox_detail_coeff = 2 \n",
    "plot_clusters(aprox_detail_coeff)"
   ]
  },
  {
   "cell_type": "code",
   "execution_count": 34,
   "id": "6c3f6fe3",
   "metadata": {},
   "outputs": [
    {
     "data": {
      "application/vnd.jupyter.widget-view+json": {
       "model_id": "e49d5ebf8df042a1b9bf539cbce5267b",
       "version_major": 2,
       "version_minor": 0
      },
      "text/plain": [
       "Canvas(toolbar=Toolbar(toolitems=[('Home', 'Reset original view', 'home', 'home'), ('Back', 'Back to previous …"
      ]
     },
     "metadata": {},
     "output_type": "display_data"
    },
    {
     "data": {
      "application/vnd.jupyter.widget-view+json": {
       "model_id": "b051ae7da0024a6499be5816c14cbef4",
       "version_major": 2,
       "version_minor": 0
      },
      "text/plain": [
       "Canvas(toolbar=Toolbar(toolitems=[('Home', 'Reset original view', 'home', 'home'), ('Back', 'Back to previous …"
      ]
     },
     "metadata": {},
     "output_type": "display_data"
    }
   ],
   "source": [
    "aprox_detail_coeff = 3 \n",
    "plot_clusters(aprox_detail_coeff)"
   ]
  },
  {
   "cell_type": "code",
   "execution_count": 35,
   "id": "e04bb064",
   "metadata": {},
   "outputs": [
    {
     "data": {
      "application/vnd.jupyter.widget-view+json": {
       "model_id": "6069fe98456d4db1aef725034c8a8162",
       "version_major": 2,
       "version_minor": 0
      },
      "text/plain": [
       "Canvas(toolbar=Toolbar(toolitems=[('Home', 'Reset original view', 'home', 'home'), ('Back', 'Back to previous …"
      ]
     },
     "metadata": {},
     "output_type": "display_data"
    },
    {
     "data": {
      "application/vnd.jupyter.widget-view+json": {
       "model_id": "b6fbcdeaf7eb4998a0cfa20b413d01d7",
       "version_major": 2,
       "version_minor": 0
      },
      "text/plain": [
       "Canvas(toolbar=Toolbar(toolitems=[('Home', 'Reset original view', 'home', 'home'), ('Back', 'Back to previous …"
      ]
     },
     "metadata": {},
     "output_type": "display_data"
    }
   ],
   "source": [
    "aprox_detail_coeff = 6 \n",
    "plot_clusters(aprox_detail_coeff)"
   ]
  },
  {
   "cell_type": "code",
   "execution_count": 36,
   "id": "5dae9dc3",
   "metadata": {},
   "outputs": [
    {
     "data": {
      "application/vnd.jupyter.widget-view+json": {
       "model_id": "8231e367cd9f43f2a8db64b27d31287f",
       "version_major": 2,
       "version_minor": 0
      },
      "text/plain": [
       "Canvas(toolbar=Toolbar(toolitems=[('Home', 'Reset original view', 'home', 'home'), ('Back', 'Back to previous …"
      ]
     },
     "metadata": {},
     "output_type": "display_data"
    },
    {
     "data": {
      "application/vnd.jupyter.widget-view+json": {
       "model_id": "bd59042d87b7428f8735f5ebf0e131b8",
       "version_major": 2,
       "version_minor": 0
      },
      "text/plain": [
       "Canvas(toolbar=Toolbar(toolitems=[('Home', 'Reset original view', 'home', 'home'), ('Back', 'Back to previous …"
      ]
     },
     "metadata": {},
     "output_type": "display_data"
    }
   ],
   "source": [
    "aprox_detail_coeff = 9 \n",
    "plot_clusters(aprox_detail_coeff)"
   ]
  },
  {
   "cell_type": "code",
   "execution_count": 37,
   "id": "0e69a1c7",
   "metadata": {},
   "outputs": [
    {
     "data": {
      "application/vnd.jupyter.widget-view+json": {
       "model_id": "5d5eed29527f482f874422dbfae3c639",
       "version_major": 2,
       "version_minor": 0
      },
      "text/plain": [
       "Canvas(toolbar=Toolbar(toolitems=[('Home', 'Reset original view', 'home', 'home'), ('Back', 'Back to previous …"
      ]
     },
     "metadata": {},
     "output_type": "display_data"
    },
    {
     "data": {
      "application/vnd.jupyter.widget-view+json": {
       "model_id": "06aa14c88b624c8b9e28639db18c81e2",
       "version_major": 2,
       "version_minor": 0
      },
      "text/plain": [
       "Canvas(toolbar=Toolbar(toolitems=[('Home', 'Reset original view', 'home', 'home'), ('Back', 'Back to previous …"
      ]
     },
     "metadata": {},
     "output_type": "display_data"
    }
   ],
   "source": [
    "aprox_detail_coeff = 14 \n",
    "plot_clusters(aprox_detail_coeff)"
   ]
  },
  {
   "cell_type": "code",
   "execution_count": 38,
   "id": "9ac8aad4",
   "metadata": {},
   "outputs": [
    {
     "data": {
      "application/vnd.jupyter.widget-view+json": {
       "model_id": "25665b4e60a74a31a498e416f546c320",
       "version_major": 2,
       "version_minor": 0
      },
      "text/plain": [
       "Canvas(toolbar=Toolbar(toolitems=[('Home', 'Reset original view', 'home', 'home'), ('Back', 'Back to previous …"
      ]
     },
     "metadata": {},
     "output_type": "display_data"
    },
    {
     "data": {
      "application/vnd.jupyter.widget-view+json": {
       "model_id": "237708cf7eb143e182880dc7ccecb899",
       "version_major": 2,
       "version_minor": 0
      },
      "text/plain": [
       "Canvas(toolbar=Toolbar(toolitems=[('Home', 'Reset original view', 'home', 'home'), ('Back', 'Back to previous …"
      ]
     },
     "metadata": {},
     "output_type": "display_data"
    }
   ],
   "source": [
    "aprox_detail_coeff = 17 \n",
    "plot_clusters(aprox_detail_coeff)"
   ]
  },
  {
   "cell_type": "code",
   "execution_count": 39,
   "id": "1ac6c00f",
   "metadata": {},
   "outputs": [
    {
     "data": {
      "application/vnd.jupyter.widget-view+json": {
       "model_id": "9361086c00a346ca859918fd275f2626",
       "version_major": 2,
       "version_minor": 0
      },
      "text/plain": [
       "Canvas(toolbar=Toolbar(toolitems=[('Home', 'Reset original view', 'home', 'home'), ('Back', 'Back to previous …"
      ]
     },
     "metadata": {},
     "output_type": "display_data"
    },
    {
     "data": {
      "application/vnd.jupyter.widget-view+json": {
       "model_id": "25aacb4f02d94f80bf29bc8470b109fa",
       "version_major": 2,
       "version_minor": 0
      },
      "text/plain": [
       "Canvas(toolbar=Toolbar(toolitems=[('Home', 'Reset original view', 'home', 'home'), ('Back', 'Back to previous …"
      ]
     },
     "metadata": {},
     "output_type": "display_data"
    }
   ],
   "source": [
    "aprox_detail_coeff = 24 \n",
    "plot_clusters(aprox_detail_coeff)"
   ]
  },
  {
   "cell_type": "code",
   "execution_count": 40,
   "id": "9ccc4290",
   "metadata": {},
   "outputs": [
    {
     "data": {
      "application/vnd.jupyter.widget-view+json": {
       "model_id": "c963a25422644cc58b2d7bce49f085ea",
       "version_major": 2,
       "version_minor": 0
      },
      "text/plain": [
       "Canvas(toolbar=Toolbar(toolitems=[('Home', 'Reset original view', 'home', 'home'), ('Back', 'Back to previous …"
      ]
     },
     "metadata": {},
     "output_type": "display_data"
    },
    {
     "data": {
      "application/vnd.jupyter.widget-view+json": {
       "model_id": "c3a511ab098047d9a48f3be31247e405",
       "version_major": 2,
       "version_minor": 0
      },
      "text/plain": [
       "Canvas(toolbar=Toolbar(toolitems=[('Home', 'Reset original view', 'home', 'home'), ('Back', 'Back to previous …"
      ]
     },
     "metadata": {},
     "output_type": "display_data"
    }
   ],
   "source": [
    "aprox_detail_coeff = 27 \n",
    "plot_clusters(aprox_detail_coeff)"
   ]
  },
  {
   "cell_type": "code",
   "execution_count": 41,
   "id": "d6de98ec",
   "metadata": {},
   "outputs": [
    {
     "data": {
      "application/vnd.jupyter.widget-view+json": {
       "model_id": "ad2f3c77c995447da8cf40ce78f2f9d0",
       "version_major": 2,
       "version_minor": 0
      },
      "text/plain": [
       "Canvas(toolbar=Toolbar(toolitems=[('Home', 'Reset original view', 'home', 'home'), ('Back', 'Back to previous …"
      ]
     },
     "metadata": {},
     "output_type": "display_data"
    },
    {
     "data": {
      "application/vnd.jupyter.widget-view+json": {
       "model_id": "1905e979d9474809bb9d426ed25609c2",
       "version_major": 2,
       "version_minor": 0
      },
      "text/plain": [
       "Canvas(toolbar=Toolbar(toolitems=[('Home', 'Reset original view', 'home', 'home'), ('Back', 'Back to previous …"
      ]
     },
     "metadata": {},
     "output_type": "display_data"
    }
   ],
   "source": [
    "aprox_detail_coeff = 31 \n",
    "plot_clusters(aprox_detail_coeff)"
   ]
  },
  {
   "cell_type": "markdown",
   "id": "095f9211",
   "metadata": {},
   "source": [
    "# aaaaa Laser"
   ]
  },
  {
   "cell_type": "code",
   "execution_count": 42,
   "id": "6c201c20",
   "metadata": {},
   "outputs": [
    {
     "data": {
      "application/vnd.jupyter.widget-view+json": {
       "model_id": "9bb99dee103d4dcdbcfb1202cf894a4f",
       "version_major": 2,
       "version_minor": 0
      },
      "text/plain": [
       "Canvas(toolbar=Toolbar(toolitems=[('Home', 'Reset original view', 'home', 'home'), ('Back', 'Back to previous …"
      ]
     },
     "metadata": {},
     "output_type": "display_data"
    }
   ],
   "source": [
    "# laser histograms of approximation coefficients\n",
    "nrows = int(len(laser_files_vad)/2)\n",
    "fig, axes = plt.subplots(nrows, 2, figsize=(12,20))\n",
    "\n",
    "ax = axes.flatten()\n",
    "i = 0\n",
    "for lf in laser_files_vad:\n",
    "    audio_data, sr = librosa.load(lf, res_type='kaiser_fast')\n",
    "#     coeffs = pywt.wavedec(audio_data, db1, mode='constant', level=5)\n",
    "\n",
    "    wp = pywt.WaveletPacket(data=audio_data, wavelet='db1', mode='symmetric', maxlevel=5)\n",
    "\n",
    "    keys = [node.path for node in wp.get_level(5, 'freq')]\n",
    "    \n",
    "    ax[i].hist(wp[keys[0]].data, bins='auto')\n",
    "#     ax[i+1].hist(coeffs[-1], bins='auto')\n",
    "        \n",
    "    i+=1"
   ]
  },
  {
   "cell_type": "markdown",
   "id": "bed110b4",
   "metadata": {},
   "source": [
    "# aaaaa Original"
   ]
  },
  {
   "cell_type": "code",
   "execution_count": 43,
   "id": "0ee14196",
   "metadata": {},
   "outputs": [
    {
     "data": {
      "application/vnd.jupyter.widget-view+json": {
       "model_id": "5820103236a6486abb409a9d0a806ac4",
       "version_major": 2,
       "version_minor": 0
      },
      "text/plain": [
       "Canvas(toolbar=Toolbar(toolitems=[('Home', 'Reset original view', 'home', 'home'), ('Back', 'Back to previous …"
      ]
     },
     "metadata": {},
     "output_type": "display_data"
    }
   ],
   "source": [
    "# Original histograms of Approximation coefficients\n",
    "nrows = int(len(orig_files_vad)/2)\n",
    "fig, axes = plt.subplots(nrows, 2, figsize=(12,20))\n",
    "\n",
    "ax = axes.flatten()\n",
    "i = 0\n",
    "for of in orig_files_vad:\n",
    "    audio_data, sr = librosa.load(of, res_type='kaiser_fast')\n",
    "    wp = pywt.WaveletPacket(data=audio_data, wavelet='db1', mode='symmetric', maxlevel=5)\n",
    "\n",
    "    keys = [node.path for node in wp.get_level(5, 'freq')]\n",
    "    \n",
    "    ax[i].hist(wp[keys[0]].data, bins='auto')\n",
    "        \n",
    "    i+=1"
   ]
  },
  {
   "cell_type": "markdown",
   "id": "01ffaa35",
   "metadata": {},
   "source": [
    "# aaaad Laser"
   ]
  },
  {
   "cell_type": "code",
   "execution_count": 128,
   "id": "adc69eb1",
   "metadata": {},
   "outputs": [
    {
     "data": {
      "application/vnd.jupyter.widget-view+json": {
       "model_id": "cd3088363ed94119b747986cb79b42e0",
       "version_major": 2,
       "version_minor": 0
      },
      "text/plain": [
       "Canvas(toolbar=Toolbar(toolitems=[('Home', 'Reset original view', 'home', 'home'), ('Back', 'Back to previous …"
      ]
     },
     "metadata": {},
     "output_type": "display_data"
    }
   ],
   "source": [
    "# laser histograms of approximation coefficients\n",
    "nrows = int(len(laser_files_vad)/2)\n",
    "fig, axes = plt.subplots(nrows, 2, figsize=(12,20))\n",
    "\n",
    "ax = axes.flatten()\n",
    "i = 0\n",
    "for lf in laser_files_vad:\n",
    "    audio_data, sr = librosa.load(lf, res_type='kaiser_fast')\n",
    "#     coeffs = pywt.wavedec(audio_data, db1, mode='constant', level=5)\n",
    "\n",
    "    wp = pywt.WaveletPacket(data=audio_data, wavelet='db1', mode='symmetric', maxlevel=5)\n",
    "\n",
    "    keys = [node.path for node in wp.get_level(5, 'freq')]\n",
    "    \n",
    "    ax[i].hist(wp[keys[1]].data, bins='auto')\n",
    "#     ax[i+1].hist(coeffs[-1], bins='auto')\n",
    "        \n",
    "    i+=1"
   ]
  },
  {
   "cell_type": "markdown",
   "id": "001c93ad",
   "metadata": {},
   "source": [
    "# aaaad Original\n"
   ]
  },
  {
   "cell_type": "code",
   "execution_count": 129,
   "id": "02f3bb5d",
   "metadata": {},
   "outputs": [
    {
     "data": {
      "application/vnd.jupyter.widget-view+json": {
       "model_id": "08c1d628cdef4da58237b80d8e8fa6aa",
       "version_major": 2,
       "version_minor": 0
      },
      "text/plain": [
       "Canvas(toolbar=Toolbar(toolitems=[('Home', 'Reset original view', 'home', 'home'), ('Back', 'Back to previous …"
      ]
     },
     "metadata": {},
     "output_type": "display_data"
    }
   ],
   "source": [
    "# Original histograms of Approximation coefficients\n",
    "nrows = int(len(orig_files_vad)/2)\n",
    "fig, axes = plt.subplots(nrows, 2, figsize=(12,20))\n",
    "\n",
    "ax = axes.flatten()\n",
    "i = 0\n",
    "for of in orig_files_vad:\n",
    "    audio_data, sr = librosa.load(of, res_type='kaiser_fast')\n",
    "    wp = pywt.WaveletPacket(data=audio_data, wavelet='db1', mode='symmetric', maxlevel=5)\n",
    "\n",
    "    keys = [node.path for node in wp.get_level(5, 'freq')]\n",
    "    \n",
    "    ax[i].hist(wp[keys[1]].data, bins='auto')\n",
    "        \n",
    "    i+=1"
   ]
  },
  {
   "cell_type": "markdown",
   "id": "5c58c1e9",
   "metadata": {},
   "source": [
    "# aaada Laser"
   ]
  },
  {
   "cell_type": "code",
   "execution_count": 130,
   "id": "711c6cfa",
   "metadata": {},
   "outputs": [
    {
     "data": {
      "application/vnd.jupyter.widget-view+json": {
       "model_id": "8e44794b800841798d0d894313a19fb1",
       "version_major": 2,
       "version_minor": 0
      },
      "text/plain": [
       "Canvas(toolbar=Toolbar(toolitems=[('Home', 'Reset original view', 'home', 'home'), ('Back', 'Back to previous …"
      ]
     },
     "metadata": {},
     "output_type": "display_data"
    }
   ],
   "source": [
    "# laser histograms of approximation coefficients\n",
    "nrows = int(len(laser_files_vad)/2)\n",
    "fig, axes = plt.subplots(nrows, 2, figsize=(12,20))\n",
    "\n",
    "ax = axes.flatten()\n",
    "i = 0\n",
    "for lf in laser_files_vad:\n",
    "    audio_data, sr = librosa.load(lf, res_type='kaiser_fast')\n",
    "#     coeffs = pywt.wavedec(audio_data, db1, mode='constant', level=5)\n",
    "\n",
    "    wp = pywt.WaveletPacket(data=audio_data, wavelet='db1', mode='symmetric', maxlevel=5)\n",
    "\n",
    "    keys = [node.path for node in wp.get_level(5, 'freq')]\n",
    "    \n",
    "    ax[i].hist(wp[keys[2]].data, bins='auto')\n",
    "#     ax[i+1].hist(coeffs[-1], bins='auto')\n",
    "        \n",
    "    i+=1"
   ]
  },
  {
   "cell_type": "markdown",
   "id": "9b039866",
   "metadata": {},
   "source": [
    "# aaada Original"
   ]
  },
  {
   "cell_type": "code",
   "execution_count": 131,
   "id": "1be73e3a",
   "metadata": {},
   "outputs": [
    {
     "data": {
      "application/vnd.jupyter.widget-view+json": {
       "model_id": "9b8c0b341ab04ce2b59c94ccfb0ef8ce",
       "version_major": 2,
       "version_minor": 0
      },
      "text/plain": [
       "Canvas(toolbar=Toolbar(toolitems=[('Home', 'Reset original view', 'home', 'home'), ('Back', 'Back to previous …"
      ]
     },
     "metadata": {},
     "output_type": "display_data"
    }
   ],
   "source": [
    "# Original histograms of Approximation coefficients\n",
    "nrows = int(len(orig_files_vad)/2)\n",
    "fig, axes = plt.subplots(nrows, 2, figsize=(12,20))\n",
    "\n",
    "ax = axes.flatten()\n",
    "i = 0\n",
    "for of in orig_files_vad:\n",
    "    audio_data, sr = librosa.load(of, res_type='kaiser_fast')\n",
    "    wp = pywt.WaveletPacket(data=audio_data, wavelet='db1', mode='symmetric', maxlevel=5)\n",
    "\n",
    "    keys = [node.path for node in wp.get_level(5, 'freq')]\n",
    "    \n",
    "    ax[i].hist(wp[keys[2]].data, bins='auto')\n",
    "        \n",
    "    i+=1"
   ]
  },
  {
   "cell_type": "markdown",
   "id": "471c7683",
   "metadata": {},
   "source": [
    "# aaadd Laser "
   ]
  },
  {
   "cell_type": "code",
   "execution_count": 132,
   "id": "5932296b",
   "metadata": {},
   "outputs": [
    {
     "data": {
      "application/vnd.jupyter.widget-view+json": {
       "model_id": "e9c9e17c07544ecba984fb497b45a2a2",
       "version_major": 2,
       "version_minor": 0
      },
      "text/plain": [
       "Canvas(toolbar=Toolbar(toolitems=[('Home', 'Reset original view', 'home', 'home'), ('Back', 'Back to previous …"
      ]
     },
     "metadata": {},
     "output_type": "display_data"
    }
   ],
   "source": [
    "# laser histograms of approximation coefficients\n",
    "nrows = int(len(laser_files_vad)/2)\n",
    "fig, axes = plt.subplots(nrows, 2, figsize=(12,20))\n",
    "\n",
    "ax = axes.flatten()\n",
    "i = 0\n",
    "for lf in laser_files_vad:\n",
    "    audio_data, sr = librosa.load(lf, res_type='kaiser_fast')\n",
    "#     coeffs = pywt.wavedec(audio_data, db1, mode='constant', level=5)\n",
    "\n",
    "    wp = pywt.WaveletPacket(data=audio_data, wavelet='db1', mode='symmetric', maxlevel=5)\n",
    "\n",
    "    keys = [node.path for node in wp.get_level(5, 'freq')]\n",
    "    \n",
    "    ax[i].hist(wp[keys[3]].data, bins='auto')\n",
    "#     ax[i+1].hist(coeffs[-1], bins='auto')\n",
    "        \n",
    "    i+=1"
   ]
  },
  {
   "cell_type": "markdown",
   "id": "761e5aef",
   "metadata": {},
   "source": [
    "# aaadd Original"
   ]
  },
  {
   "cell_type": "code",
   "execution_count": 133,
   "id": "4e75d0e9",
   "metadata": {},
   "outputs": [
    {
     "data": {
      "application/vnd.jupyter.widget-view+json": {
       "model_id": "91d7c0c064af49d3a951790b35423549",
       "version_major": 2,
       "version_minor": 0
      },
      "text/plain": [
       "Canvas(toolbar=Toolbar(toolitems=[('Home', 'Reset original view', 'home', 'home'), ('Back', 'Back to previous …"
      ]
     },
     "metadata": {},
     "output_type": "display_data"
    }
   ],
   "source": [
    "# Original histograms of Approximation coefficients\n",
    "nrows = int(len(orig_files_vad)/2)\n",
    "fig, axes = plt.subplots(nrows, 2, figsize=(12,20))\n",
    "\n",
    "ax = axes.flatten()\n",
    "i = 0\n",
    "for of in orig_files_vad:\n",
    "    audio_data, sr = librosa.load(of, res_type='kaiser_fast')\n",
    "    wp = pywt.WaveletPacket(data=audio_data, wavelet='db1', mode='symmetric', maxlevel=5)\n",
    "\n",
    "    keys = [node.path for node in wp.get_level(5, 'freq')]\n",
    "    \n",
    "    ax[i].hist(wp[keys[3]].data, bins='auto')\n",
    "        \n",
    "    i+=1"
   ]
  },
  {
   "cell_type": "code",
   "execution_count": null,
   "id": "63640fd8",
   "metadata": {},
   "outputs": [],
   "source": []
  }
 ],
 "metadata": {
  "kernelspec": {
   "display_name": "laser_injection",
   "language": "python",
   "name": "laser_injection"
  },
  "language_info": {
   "codemirror_mode": {
    "name": "ipython",
    "version": 3
   },
   "file_extension": ".py",
   "mimetype": "text/x-python",
   "name": "python",
   "nbconvert_exporter": "python",
   "pygments_lexer": "ipython3",
   "version": "3.8.10"
  }
 },
 "nbformat": 4,
 "nbformat_minor": 5
}
