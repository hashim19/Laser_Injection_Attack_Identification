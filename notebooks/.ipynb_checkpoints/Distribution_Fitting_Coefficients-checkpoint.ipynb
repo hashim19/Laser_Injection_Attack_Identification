{
 "cells": [
  {
   "cell_type": "code",
   "execution_count": 1,
   "id": "d93e51e4",
   "metadata": {},
   "outputs": [],
   "source": [
    "import pywt\n",
    "import os\n",
    "import pandas as pd\n",
    "import librosa\n",
    "import librosa.display\n",
    "import glob \n",
    "import numpy as np\n",
    "import matplotlib.pyplot as plt\n",
    "from matplotlib import cm\n",
    "import seaborn as sns\n",
    "from fitter import Fitter, get_common_distributions, get_distributions, HistFit\n",
    "from distfit import distfit\n",
    "from matplotlib.ticker import FormatStrFormatter\n",
    "\n",
    "from sklearn.preprocessing import StandardScaler\n",
    "import sklearn\n",
    "\n",
    "# from utils import plot_projections\n",
    "\n",
    "from scipy.stats import kurtosis, skew\n",
    "from scipy import stats\n",
    "\n",
    "import random\n",
    "\n",
    "%matplotlib widget"
   ]
  },
  {
   "cell_type": "code",
   "execution_count": 2,
   "id": "279976fe",
   "metadata": {},
   "outputs": [
    {
     "name": "stdout",
     "output_type": "stream",
     "text": [
      "['/home/hashim/PHD/audio_data/AllAudioSamples/Laser/speaker10_001.wav', '/home/hashim/PHD/audio_data/AllAudioSamples/Laser/speaker10_002.wav', '/home/hashim/PHD/audio_data/AllAudioSamples/Laser/speaker10_003.wav', '/home/hashim/PHD/audio_data/AllAudioSamples/Laser/speaker10_004.wav', '/home/hashim/PHD/audio_data/AllAudioSamples/Laser/speaker10_005.wav', '/home/hashim/PHD/audio_data/AllAudioSamples/Laser/speaker1_001.wav', '/home/hashim/PHD/audio_data/AllAudioSamples/Laser/speaker1_002.wav', '/home/hashim/PHD/audio_data/AllAudioSamples/Laser/speaker1_003.wav', '/home/hashim/PHD/audio_data/AllAudioSamples/Laser/speaker1_004.wav', '/home/hashim/PHD/audio_data/AllAudioSamples/Laser/speaker1_005.wav', '/home/hashim/PHD/audio_data/AllAudioSamples/Laser/speaker2_001.wav', '/home/hashim/PHD/audio_data/AllAudioSamples/Laser/speaker2_002.wav', '/home/hashim/PHD/audio_data/AllAudioSamples/Laser/speaker2_003.wav', '/home/hashim/PHD/audio_data/AllAudioSamples/Laser/speaker2_004.wav', '/home/hashim/PHD/audio_data/AllAudioSamples/Laser/speaker2_005.wav', '/home/hashim/PHD/audio_data/AllAudioSamples/Laser/speaker3_001.wav', '/home/hashim/PHD/audio_data/AllAudioSamples/Laser/speaker3_002.wav', '/home/hashim/PHD/audio_data/AllAudioSamples/Laser/speaker3_003.wav', '/home/hashim/PHD/audio_data/AllAudioSamples/Laser/speaker3_004.wav', '/home/hashim/PHD/audio_data/AllAudioSamples/Laser/speaker3_005.wav', '/home/hashim/PHD/audio_data/AllAudioSamples/Laser/speaker4_001.wav', '/home/hashim/PHD/audio_data/AllAudioSamples/Laser/speaker4_002.wav', '/home/hashim/PHD/audio_data/AllAudioSamples/Laser/speaker4_003.wav', '/home/hashim/PHD/audio_data/AllAudioSamples/Laser/speaker4_004.wav', '/home/hashim/PHD/audio_data/AllAudioSamples/Laser/speaker4_005.wav', '/home/hashim/PHD/audio_data/AllAudioSamples/Laser/speaker5_001.wav', '/home/hashim/PHD/audio_data/AllAudioSamples/Laser/speaker5_002.wav', '/home/hashim/PHD/audio_data/AllAudioSamples/Laser/speaker5_003.wav', '/home/hashim/PHD/audio_data/AllAudioSamples/Laser/speaker5_004.wav', '/home/hashim/PHD/audio_data/AllAudioSamples/Laser/speaker5_005.wav', '/home/hashim/PHD/audio_data/AllAudioSamples/Laser/speaker6_001.wav', '/home/hashim/PHD/audio_data/AllAudioSamples/Laser/speaker6_002.wav', '/home/hashim/PHD/audio_data/AllAudioSamples/Laser/speaker6_003.wav', '/home/hashim/PHD/audio_data/AllAudioSamples/Laser/speaker6_004.wav', '/home/hashim/PHD/audio_data/AllAudioSamples/Laser/speaker6_005.wav', '/home/hashim/PHD/audio_data/AllAudioSamples/Laser/speaker7_001.wav', '/home/hashim/PHD/audio_data/AllAudioSamples/Laser/speaker7_002.wav', '/home/hashim/PHD/audio_data/AllAudioSamples/Laser/speaker7_003.wav', '/home/hashim/PHD/audio_data/AllAudioSamples/Laser/speaker7_004.wav', '/home/hashim/PHD/audio_data/AllAudioSamples/Laser/speaker7_005.wav', '/home/hashim/PHD/audio_data/AllAudioSamples/Laser/speaker8_001.wav', '/home/hashim/PHD/audio_data/AllAudioSamples/Laser/speaker8_002.wav', '/home/hashim/PHD/audio_data/AllAudioSamples/Laser/speaker8_003.wav', '/home/hashim/PHD/audio_data/AllAudioSamples/Laser/speaker8_004.wav', '/home/hashim/PHD/audio_data/AllAudioSamples/Laser/speaker8_005.wav', '/home/hashim/PHD/audio_data/AllAudioSamples/Laser/speaker9_001.wav', '/home/hashim/PHD/audio_data/AllAudioSamples/Laser/speaker9_002.wav', '/home/hashim/PHD/audio_data/AllAudioSamples/Laser/speaker9_003.wav', '/home/hashim/PHD/audio_data/AllAudioSamples/Laser/speaker9_004.wav', '/home/hashim/PHD/audio_data/AllAudioSamples/Laser/speaker9_005.wav']\n",
      "50\n"
     ]
    }
   ],
   "source": [
    "laser_dir = '/home/hashim/PHD/audio_data/AllAudioSamples/Laser/'\n",
    "laser_files = list(glob.glob(os.path.join(laser_dir, '*.wav')))\n",
    "laser_files.sort()\n",
    "print(laser_files)\n",
    "print(len(laser_files))"
   ]
  },
  {
   "cell_type": "code",
   "execution_count": 3,
   "id": "a840ef28",
   "metadata": {},
   "outputs": [
    {
     "name": "stdout",
     "output_type": "stream",
     "text": [
      "['/home/hashim/PHD/audio_data/AllAudioSamples/Original/speaker10_001.wav', '/home/hashim/PHD/audio_data/AllAudioSamples/Original/speaker10_002.wav', '/home/hashim/PHD/audio_data/AllAudioSamples/Original/speaker10_003.wav', '/home/hashim/PHD/audio_data/AllAudioSamples/Original/speaker10_004.wav', '/home/hashim/PHD/audio_data/AllAudioSamples/Original/speaker10_005.wav', '/home/hashim/PHD/audio_data/AllAudioSamples/Original/speaker1_001.wav', '/home/hashim/PHD/audio_data/AllAudioSamples/Original/speaker1_002.wav', '/home/hashim/PHD/audio_data/AllAudioSamples/Original/speaker1_003.wav', '/home/hashim/PHD/audio_data/AllAudioSamples/Original/speaker1_004.wav', '/home/hashim/PHD/audio_data/AllAudioSamples/Original/speaker1_005.wav', '/home/hashim/PHD/audio_data/AllAudioSamples/Original/speaker2_001.wav', '/home/hashim/PHD/audio_data/AllAudioSamples/Original/speaker2_002.wav', '/home/hashim/PHD/audio_data/AllAudioSamples/Original/speaker2_003.wav', '/home/hashim/PHD/audio_data/AllAudioSamples/Original/speaker2_004.wav', '/home/hashim/PHD/audio_data/AllAudioSamples/Original/speaker2_005.wav', '/home/hashim/PHD/audio_data/AllAudioSamples/Original/speaker3_001.wav', '/home/hashim/PHD/audio_data/AllAudioSamples/Original/speaker3_002.wav', '/home/hashim/PHD/audio_data/AllAudioSamples/Original/speaker3_003.wav', '/home/hashim/PHD/audio_data/AllAudioSamples/Original/speaker3_004.wav', '/home/hashim/PHD/audio_data/AllAudioSamples/Original/speaker3_005.wav', '/home/hashim/PHD/audio_data/AllAudioSamples/Original/speaker4_001.wav', '/home/hashim/PHD/audio_data/AllAudioSamples/Original/speaker4_002.wav', '/home/hashim/PHD/audio_data/AllAudioSamples/Original/speaker4_003.wav', '/home/hashim/PHD/audio_data/AllAudioSamples/Original/speaker4_004.wav', '/home/hashim/PHD/audio_data/AllAudioSamples/Original/speaker4_005.wav', '/home/hashim/PHD/audio_data/AllAudioSamples/Original/speaker5_001.wav', '/home/hashim/PHD/audio_data/AllAudioSamples/Original/speaker5_002.wav', '/home/hashim/PHD/audio_data/AllAudioSamples/Original/speaker5_003.wav', '/home/hashim/PHD/audio_data/AllAudioSamples/Original/speaker5_004.wav', '/home/hashim/PHD/audio_data/AllAudioSamples/Original/speaker5_005.wav', '/home/hashim/PHD/audio_data/AllAudioSamples/Original/speaker6_001.wav', '/home/hashim/PHD/audio_data/AllAudioSamples/Original/speaker6_002.wav', '/home/hashim/PHD/audio_data/AllAudioSamples/Original/speaker6_003.wav', '/home/hashim/PHD/audio_data/AllAudioSamples/Original/speaker6_004.wav', '/home/hashim/PHD/audio_data/AllAudioSamples/Original/speaker6_005.wav', '/home/hashim/PHD/audio_data/AllAudioSamples/Original/speaker7_001.wav', '/home/hashim/PHD/audio_data/AllAudioSamples/Original/speaker7_002.wav', '/home/hashim/PHD/audio_data/AllAudioSamples/Original/speaker7_003.wav', '/home/hashim/PHD/audio_data/AllAudioSamples/Original/speaker7_004.wav', '/home/hashim/PHD/audio_data/AllAudioSamples/Original/speaker7_005.wav', '/home/hashim/PHD/audio_data/AllAudioSamples/Original/speaker8_001.wav', '/home/hashim/PHD/audio_data/AllAudioSamples/Original/speaker8_002.wav', '/home/hashim/PHD/audio_data/AllAudioSamples/Original/speaker8_003.wav', '/home/hashim/PHD/audio_data/AllAudioSamples/Original/speaker8_004.wav', '/home/hashim/PHD/audio_data/AllAudioSamples/Original/speaker8_005.wav', '/home/hashim/PHD/audio_data/AllAudioSamples/Original/speaker9_001.wav', '/home/hashim/PHD/audio_data/AllAudioSamples/Original/speaker9_002.wav', '/home/hashim/PHD/audio_data/AllAudioSamples/Original/speaker9_003.wav', '/home/hashim/PHD/audio_data/AllAudioSamples/Original/speaker9_004.wav', '/home/hashim/PHD/audio_data/AllAudioSamples/Original/speaker9_005.wav']\n",
      "50\n"
     ]
    }
   ],
   "source": [
    "orig_dir = '/home/hashim/PHD/audio_data/AllAudioSamples/Original/'\n",
    "orig_files = list(glob.glob(os.path.join(orig_dir, '*wav')))\n",
    "orig_files.sort()\n",
    "print(orig_files)\n",
    "print(len(orig_files))"
   ]
  },
  {
   "cell_type": "markdown",
   "id": "58cd2765",
   "metadata": {},
   "source": [
    "## Computing Coefficients"
   ]
  },
  {
   "cell_type": "code",
   "execution_count": 4,
   "id": "ad58144a",
   "metadata": {},
   "outputs": [],
   "source": [
    "sample_id = 13\n",
    "db1 = pywt.Wavelet('db1')"
   ]
  },
  {
   "cell_type": "code",
   "execution_count": 5,
   "id": "8a03cd97",
   "metadata": {},
   "outputs": [],
   "source": [
    "laser_sample = laser_files[sample_id]\n",
    "gen_sample = orig_files[sample_id]\n",
    "\n",
    "laser_audio, sr = librosa.load(laser_sample, res_type='kaiser_fast')\n",
    "laser_audio = librosa.util.normalize(laser_audio)\n",
    "\n",
    "gen_audio, sr = librosa.load(gen_sample, res_type='kaiser_fast')\n",
    "gen_audio = librosa.util.normalize(gen_audio)\n",
    "\n",
    "laser_coeffs = pywt.wavedec(laser_audio, db1, mode='constant', level=5)\n",
    "gen_coeffs = pywt.wavedec(gen_audio, db1, mode='constant', level=5)"
   ]
  },
  {
   "cell_type": "code",
   "execution_count": 6,
   "id": "d936c73c",
   "metadata": {},
   "outputs": [],
   "source": [
    "n_bins = 150"
   ]
  },
  {
   "cell_type": "code",
   "execution_count": 7,
   "id": "683be1db",
   "metadata": {},
   "outputs": [],
   "source": [
    "def best_fit_distribution(list_of_dists):\n",
    "    \n",
    "    results = []\n",
    "    for i in list_of_dists:\n",
    "        dist = getattr(stats, i)\n",
    "        param = dist.fit(gen_coeffs[0])\n",
    "        a = stats.kstest(gen_coeffs[0], i, args=param)\n",
    "        results.append((i,a[0],a[1]))\n",
    "\n",
    "\n",
    "    results.sort(key=lambda x:float(x[2]), reverse=True)\n",
    "    for j in results:\n",
    "        print(\"{}: statistic={}, pvalue={}\".format(j[0], j[1], j[2]))\n",
    "        \n",
    "    return results[0]"
   ]
  },
  {
   "cell_type": "code",
   "execution_count": 8,
   "id": "639cb62d",
   "metadata": {},
   "outputs": [
    {
     "name": "stdout",
     "output_type": "stream",
     "text": [
      "cauchy: statistic=0.024151481071911687, pvalue=0.07383286353491003\n",
      "lognorm: statistic=0.13876528253148168, pvalue=9.900587315694766e-48\n",
      "gamma: statistic=0.1397096600618595, pvalue=2.2233954908588417e-48\n",
      "norm: statistic=0.14121486953784246, pvalue=2.013320600149787e-49\n",
      "chi2: statistic=0.16435490806804967, pvalue=6.79037142763455e-67\n",
      "exponpow: statistic=0.23592564056267623, pvalue=2.890300166901935e-138\n",
      "powerlaw: statistic=nan, pvalue=nan\n",
      "uniform: statistic=0.33368879594782525, pvalue=7.890558594481638e-280\n",
      "expon: statistic=0.48159677567687964, pvalue=0.0\n",
      "rayleigh: statistic=0.40532276103707887, pvalue=0.0\n",
      "('cauchy', 0.024151481071911687, 0.07383286353491003)\n"
     ]
    }
   ],
   "source": [
    "list_of_dists = get_common_distributions()\n",
    "\n",
    "best_fit_dist = best_fit_distribution(list_of_dists)\n",
    "\n",
    "print(best_fit_dist)"
   ]
  },
  {
   "cell_type": "code",
   "execution_count": 9,
   "id": "768d41dd",
   "metadata": {},
   "outputs": [],
   "source": [
    "# gen_dist = distfit(distr='full')\n",
    "# gen_res = gen_dist.fit_transform(gen_coeffs[0])"
   ]
  },
  {
   "cell_type": "code",
   "execution_count": 10,
   "id": "91c9032a",
   "metadata": {},
   "outputs": [],
   "source": [
    "# gen_res"
   ]
  },
  {
   "cell_type": "code",
   "execution_count": 11,
   "id": "fa2bd30d",
   "metadata": {},
   "outputs": [],
   "source": [
    "def plot_distribution(data, model = {}, title='', figsize=(10, 8), xlim=None, ylim=None, fig=None, ax=None, plot_hist=False, lw=2, c='blue'):\n",
    "    \n",
    "    # Store output and function parameters\n",
    "    Param = {}\n",
    "    Param['title'] = title\n",
    "    Param['figsize'] = figsize\n",
    "    Param['xlim'] = xlim\n",
    "    Param['ylim'] = ylim\n",
    "\n",
    "    # Make figure\n",
    "    best_dist = model['distr']\n",
    "    best_fit_name = model['name']\n",
    "    best_fit_param = model['params']\n",
    "    arg = model['params'][:-2]\n",
    "    loc = model['params'][-2]\n",
    "    scale = model['params'][-1]\n",
    "    distline = getattr(stats, model['name'])\n",
    "\n",
    "    # Get pdf boundaries\n",
    "    getmin = distline.ppf(0.0000001, *arg, loc=loc, scale=scale) if arg else distline.ppf(0.0000001, loc=loc, scale=scale)\n",
    "    getmax = distline.ppf(0.9999999, *arg, loc=loc, scale=scale) if arg else distline.ppf(0.9999999, loc=loc, scale=scale)\n",
    "\n",
    "    # Take maximum/minimum based on empirical data to avoid long theoretical distribution tails\n",
    "    y, b = np.histogram(data, bins=n_bins, density=True)\n",
    "    getmax = np.minimum(getmax, np.max(b))\n",
    "    getmin = np.maximum(getmin, np.min(b))\n",
    "\n",
    "    # Build pdf and turn into pandas Series\n",
    "    x = np.linspace(getmin, getmax, len(data))\n",
    "    y = distline.pdf(x, loc=loc, scale=scale, *arg)\n",
    "\n",
    "    if ax is None:\n",
    "        fig, ax = plt.subplots(figsize=figsize)\n",
    "    \n",
    "    if plot_hist:\n",
    "        # Plot empirical data\n",
    "        ax.hist(data, n_bins, density = True)\n",
    "    \n",
    "    # Plot pdf\n",
    "    ax.plot(x, y, linewidth=lw, label=best_fit_name, color=c)\n",
    "    \n",
    "    ax.legend()\n",
    "    ax.grid(True)\n",
    "    \n",
    "    return (fig, ax)"
   ]
  },
  {
   "cell_type": "code",
   "execution_count": 12,
   "id": "44b54c25",
   "metadata": {},
   "outputs": [],
   "source": [
    "# plot_distribution(gen_coeffs[0], model = gen_res['model'], plot_hist=False, c = 'black')"
   ]
  },
  {
   "cell_type": "markdown",
   "id": "3026782a",
   "metadata": {},
   "source": [
    "## Coeff 0 "
   ]
  },
  {
   "cell_type": "code",
   "execution_count": 13,
   "id": "1789408e",
   "metadata": {},
   "outputs": [
    {
     "data": {
      "application/vnd.jupyter.widget-view+json": {
       "model_id": "2a2f055af0e446d5a0e791320fc96386",
       "version_major": 2,
       "version_minor": 0
      },
      "text/plain": [
       "Canvas(toolbar=Toolbar(toolitems=[('Home', 'Reset original view', 'home', 'home'), ('Back', 'Back to previous …"
      ]
     },
     "metadata": {},
     "output_type": "display_data"
    },
    {
     "data": {
      "text/plain": [
       "(None, <AxesSubplot:>)"
      ]
     },
     "execution_count": 13,
     "metadata": {},
     "output_type": "execute_result"
    }
   ],
   "source": [
    "fig, ax = plt.subplots(figsize=(9,5))\n",
    "\n",
    "gen_dist = distfit(distr='full')\n",
    "# gen_dist = distfit()\n",
    "gen_res = gen_dist.fit_transform(gen_coeffs[0], verbose=1)\n",
    "\n",
    "laser_dist = distfit(distr='full')\n",
    "# laser_dist = distfit()\n",
    "laser_res = laser_dist.fit_transform(laser_coeffs[0], verbose=1)\n",
    "\n",
    "plot_distribution(gen_coeffs[0], model = gen_res['model'], plot_hist=False, c = 'blue', ax=ax)\n",
    "plot_distribution(laser_coeffs[0], model = laser_res['model'], plot_hist=False, c = 'orange', ax=ax)"
   ]
  },
  {
   "cell_type": "markdown",
   "id": "4d1fe58e",
   "metadata": {},
   "source": [
    "### Subplot containing all coefficients for full size of distributions"
   ]
  },
  {
   "cell_type": "code",
   "execution_count": 16,
   "id": "4f00e3d3",
   "metadata": {},
   "outputs": [
    {
     "data": {
      "application/vnd.jupyter.widget-view+json": {
       "model_id": "125c0584891d44908b43a3755ef50453",
       "version_major": 2,
       "version_minor": 0
      },
      "text/plain": [
       "Canvas(toolbar=Toolbar(toolitems=[('Home', 'Reset original view', 'home', 'home'), ('Back', 'Back to previous …"
      ]
     },
     "metadata": {},
     "output_type": "display_data"
    }
   ],
   "source": [
    "fig, axes = plt.subplots(2, 3, figsize=(12,8))\n",
    "\n",
    "n_bins = 150\n",
    "\n",
    "save_fig = False\n",
    "\n",
    "gen_dist = distfit(distr='full')\n",
    "laser_dist = distfit(distr='full')\n",
    "\n",
    "for ax, c in zip(axes.flatten(), range(6)):\n",
    "    \n",
    "    # gen_dist = distfit()\n",
    "    gen_res = gen_dist.fit_transform(gen_coeffs[c], verbose=1)\n",
    "    \n",
    "    # laser_dist = distfit()\n",
    "    laser_res = laser_dist.fit_transform(laser_coeffs[c], verbose=1)\n",
    "\n",
    "    plot_distribution(gen_coeffs[c], model = gen_res['model'], plot_hist=False, c = 'blue', ax=ax)\n",
    "    plot_distribution(laser_coeffs[c], model = laser_res['model'], plot_hist=False, c = 'orange', ax=ax)\n",
    "    \n",
    "#     ax.hist(gen_coeffs[c], n_bins, label = 'acoustic induced audio')\n",
    "#     ax.hist(laser_coeffs[c], n_bins, label = 'laser induced audio')\n",
    "# #     ax.legend(loc='upper right')\n",
    "\n",
    "#     ax.axvline(np.mean(gen_coeffs[c]), color='r', linestyle='dashed', linewidth=1)\n",
    "    \n",
    "#     ax.xaxis.set_major_formatter(FormatStrFormatter('%.2f'))\n",
    "# #     ax.yaxis.set_major_formatter(FormatStrFormatter('%.2f'))\n",
    "    \n",
    "#     ax.set_title('Coefficient {}'.format(c), fontsize = 10)\n",
    "    \n",
    "#     if c == 2:\n",
    "#         ax.legend(loc='upper right', prop={'size': 7})\n",
    "    \n",
    "# handles, labels = ax.get_legend_handles_labels()\n",
    "# fig.legend(handles, labels, loc='upper center', prop={'size': 8})\n",
    "\n",
    "if save_fig:\n",
    "    if not os.path.exists('Distribution/'):\n",
    "        os.makedirs('Distribution/')\n",
    "        \n",
    "#     r_int = random.randint(0,10)\n",
    "    plt.savefig('Distribution/' + 'Distri_all_coeff_all_distribution.png')\n"
   ]
  },
  {
   "cell_type": "markdown",
   "id": "58e27586",
   "metadata": {},
   "source": [
    "### Subplot containing all coefficients for most common distributions"
   ]
  },
  {
   "cell_type": "code",
   "execution_count": 15,
   "id": "a2a4eb41",
   "metadata": {},
   "outputs": [
    {
     "data": {
      "application/vnd.jupyter.widget-view+json": {
       "model_id": "9215ba58e05948d79d5d65fbf7e63998",
       "version_major": 2,
       "version_minor": 0
      },
      "text/plain": [
       "Canvas(toolbar=Toolbar(toolitems=[('Home', 'Reset original view', 'home', 'home'), ('Back', 'Back to previous …"
      ]
     },
     "metadata": {},
     "output_type": "display_data"
    },
    {
     "name": "stdout",
     "output_type": "stream",
     "text": [
      "['cauchy', 'chi2', 'expon', 'exponpow', 'gamma', 'lognorm', 'norm', 'powerlaw', 'rayleigh', 'uniform']\n"
     ]
    },
    {
     "name": "stderr",
     "output_type": "stream",
     "text": [
      "The PostScript backend does not support transparency; partially transparent artists will be rendered opaque.\n",
      "The PostScript backend does not support transparency; partially transparent artists will be rendered opaque.\n",
      "The PostScript backend does not support transparency; partially transparent artists will be rendered opaque.\n",
      "The PostScript backend does not support transparency; partially transparent artists will be rendered opaque.\n",
      "The PostScript backend does not support transparency; partially transparent artists will be rendered opaque.\n",
      "The PostScript backend does not support transparency; partially transparent artists will be rendered opaque.\n"
     ]
    }
   ],
   "source": [
    "SMALL_SIZE = 10\n",
    "MEDIUM_SIZE = 20\n",
    "BIGGER_SIZE = 25\n",
    "\n",
    "plt.rc('xtick', labelsize=MEDIUM_SIZE)    # fontsize of the tick labels\n",
    "plt.rc('ytick', labelsize=MEDIUM_SIZE)    # fontsize of the tick labels\n",
    "plt.rc('axes', labelsize=MEDIUM_SIZE)    # fontsize of the x and y labels\n",
    "plt.rc('legend', fontsize=BIGGER_SIZE)    # legend fontsize\n",
    "\n",
    "\n",
    "# fig, axes = plt.subplots(2, 3, figsize=(15,9))\n",
    "fig, axes = plt.subplots(1, 2, figsize=(20,9))\n",
    "\n",
    "n_bins = 150\n",
    "\n",
    "save_fig = True\n",
    "\n",
    "print(list_of_dists)\n",
    "\n",
    "gen_dist = distfit(distr=list_of_dists)\n",
    "laser_dist = distfit(distr=list_of_dists)\n",
    "\n",
    "for ax, c in zip(axes.flatten(), range(2)):\n",
    "    \n",
    "    # gen_dist = distfit()\n",
    "    gen_res = gen_dist.fit_transform(gen_coeffs[c], verbose=1)\n",
    "    \n",
    "#     print(\"acoustic-induced audio = \", gen_dist.summary)\n",
    "    \n",
    "    # laser_dist = distfit()\n",
    "    laser_res = laser_dist.fit_transform(laser_coeffs[c], verbose=1)\n",
    "    \n",
    "#     print(\"laser-induced audio = \", gen_dist.summary)\n",
    "\n",
    "    plot_distribution(gen_coeffs[c], model = gen_res['model'], plot_hist=False, c = 'blue', ax=ax)\n",
    "    plot_distribution(laser_coeffs[c], model = laser_res['model'], plot_hist=False, c = 'orange', ax=ax)\n",
    "    \n",
    "#     ax.hist(gen_coeffs[c], n_bins, label = 'acoustic induced audio')\n",
    "#     ax.hist(laser_coeffs[c], n_bins, label = 'laser induced audio')\n",
    "# #     ax.legend(loc='upper right')\n",
    "\n",
    "#     ax.axvline(np.mean(gen_coeffs[c]), color='r', linestyle='dashed', linewidth=1)\n",
    "    \n",
    "#     ax.xaxis.set_major_formatter(FormatStrFormatter('%.2f'))\n",
    "#     ax.yaxis.set_major_formatter(FormatStrFormatter('%.2f'))\n",
    "    \n",
    "    if c == 0:\n",
    "        ax.set_title('CA{}'.format(5-c), fontsize = MEDIUM_SIZE)\n",
    "    else:\n",
    "        ax.set_title('CD{}'.format(5-c+1), fontsize = MEDIUM_SIZE)\n",
    "    \n",
    "#     if c == 2:\n",
    "#         ax.legend(loc='upper right', prop={'size': 7})\n",
    "    \n",
    "# handles, labels = ax.get_legend_handles_labels()\n",
    "# fig.legend(handles, labels, loc='upper center', prop={'size': 8})\n",
    "\n",
    "fig.legend(['acoustic induced audio', 'laser induced audio'], loc = 'center')\n",
    "# fig.suptitle('Laser-induced vs Acoustic-induced Audio Distributions for Detail and Approximation Coefficients')\n",
    "\n",
    "if save_fig:\n",
    "    if not os.path.exists('Distribution/'):\n",
    "        os.makedirs('Distribution/')\n",
    "#     r_int = random.randint(0,10)\n",
    "    plt.savefig('Distribution/' + 'CA5_CD5.eps', format='eps', bbox_inches='tight')\n"
   ]
  },
  {
   "cell_type": "code",
   "execution_count": null,
   "id": "9736f5ea",
   "metadata": {},
   "outputs": [],
   "source": []
  },
  {
   "cell_type": "code",
   "execution_count": null,
   "id": "65610f9c",
   "metadata": {},
   "outputs": [],
   "source": []
  },
  {
   "cell_type": "code",
   "execution_count": null,
   "id": "95683dcf",
   "metadata": {},
   "outputs": [],
   "source": []
  },
  {
   "cell_type": "code",
   "execution_count": null,
   "id": "eec44c2f",
   "metadata": {},
   "outputs": [],
   "source": []
  },
  {
   "cell_type": "code",
   "execution_count": null,
   "id": "e6aefa76",
   "metadata": {},
   "outputs": [],
   "source": []
  }
 ],
 "metadata": {
  "kernelspec": {
   "display_name": "laser_injection",
   "language": "python",
   "name": "laser_injection"
  },
  "language_info": {
   "codemirror_mode": {
    "name": "ipython",
    "version": 3
   },
   "file_extension": ".py",
   "mimetype": "text/x-python",
   "name": "python",
   "nbconvert_exporter": "python",
   "pygments_lexer": "ipython3",
   "version": "3.8.10"
  }
 },
 "nbformat": 4,
 "nbformat_minor": 5
}
