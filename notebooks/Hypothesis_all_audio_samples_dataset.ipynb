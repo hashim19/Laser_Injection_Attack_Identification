{
 "cells": [
  {
   "cell_type": "code",
   "execution_count": 1,
   "id": "16484f1b",
   "metadata": {},
   "outputs": [],
   "source": [
    "import pywt\n",
    "import os\n",
    "import pandas as pd\n",
    "import librosa\n",
    "import librosa.display\n",
    "import glob \n",
    "import numpy as np\n",
    "import matplotlib.pyplot as plt\n",
    "from matplotlib import cm\n",
    "import seaborn as sns\n",
    "from fitter import Fitter, get_common_distributions, get_distributions\n",
    "from matplotlib.ticker import FormatStrFormatter\n",
    "\n",
    "from sklearn.preprocessing import StandardScaler\n",
    "import sklearn\n",
    "\n",
    "from utils import plot_projections\n",
    "\n",
    "from scipy.stats import kurtosis, skew\n",
    "import librosa.display as ld\n",
    "\n",
    "\n",
    "%matplotlib widget"
   ]
  },
  {
   "cell_type": "code",
   "execution_count": 4,
   "id": "90f384a2",
   "metadata": {},
   "outputs": [
    {
     "name": "stdout",
     "output_type": "stream",
     "text": [
      "50\n"
     ]
    }
   ],
   "source": [
    "laser_dir = '/home/hashim/PHD/audio_data/AllAudioSamples/Laser/'\n",
    "laser_files = list(glob.glob(os.path.join(laser_dir, '*.wav')))\n",
    "laser_files.sort()\n",
    "# print(laser_files)\n",
    "print(len(laser_files))"
   ]
  },
  {
   "cell_type": "code",
   "execution_count": 5,
   "id": "6d9b44b7",
   "metadata": {},
   "outputs": [
    {
     "name": "stdout",
     "output_type": "stream",
     "text": [
      "50\n"
     ]
    }
   ],
   "source": [
    "orig_dir = '/home/hashim/PHD/audio_data/AllAudioSamples/Original/'\n",
    "orig_files = list(glob.glob(os.path.join(orig_dir, '*.wav')))\n",
    "orig_files.sort()\n",
    "# print(orig_files)\n",
    "print(len(orig_files))"
   ]
  },
  {
   "cell_type": "code",
   "execution_count": 6,
   "id": "885e5324",
   "metadata": {},
   "outputs": [],
   "source": [
    "sample_id = 13"
   ]
  },
  {
   "cell_type": "code",
   "execution_count": 7,
   "id": "b79ab05a",
   "metadata": {},
   "outputs": [
    {
     "name": "stdout",
     "output_type": "stream",
     "text": [
      "22050\n",
      "22050\n"
     ]
    }
   ],
   "source": [
    "# time domain\n",
    "laser_sample = laser_files[sample_id]\n",
    "gen_sample = orig_files[sample_id]\n",
    "\n",
    "laser_audio, sr = librosa.load(laser_sample, res_type='kaiser_fast')\n",
    "laser_audio = librosa.util.normalize(laser_audio)\n",
    "print(sr)\n",
    "gen_audio, sr = librosa.load(gen_sample, res_type='kaiser_fast')\n",
    "gen_audio = librosa.util.normalize(gen_audio)\n",
    "print(sr)"
   ]
  },
  {
   "cell_type": "code",
   "execution_count": 8,
   "id": "46fef693",
   "metadata": {},
   "outputs": [
    {
     "data": {
      "application/vnd.jupyter.widget-view+json": {
       "model_id": "c92a7d002dd14997a3bde689fc39d5de",
       "version_major": 2,
       "version_minor": 0
      },
      "text/plain": [
       "Canvas(toolbar=Toolbar(toolitems=[('Home', 'Reset original view', 'home', 'home'), ('Back', 'Back to previous …"
      ]
     },
     "metadata": {},
     "output_type": "display_data"
    }
   ],
   "source": [
    "fig, ax = plt.subplots(2,1, figsize=(8,10))\n",
    "\n",
    "ax[0].set(title='Wave Form of Laser Audio')\n",
    "ld.waveplot(laser_audio, sr=sr, ax=ax[0])\n",
    "# ax[0].set_xlim([0, 4])\n",
    "# ax[0].set_ylim([-1, 1])\n",
    "# ax[0].set_ylim([-0.03, 0.03])\n",
    "ax[0].grid()\n",
    "\n",
    "ax[1].set(title='Wave Form of Original Audio')\n",
    "ld.waveplot(gen_audio, sr=sr, ax=ax[1])\n",
    "# ax[1].set_xlim([0, 4])\n",
    "# ax[1].set_ylim([-1, 1])\n",
    "# ax[1].set_ylim([-0.03, 0.03])\n",
    "ax[1].grid()"
   ]
  },
  {
   "cell_type": "markdown",
   "id": "99a126c3",
   "metadata": {},
   "source": [
    "## Aligning the two audios\n"
   ]
  },
  {
   "cell_type": "code",
   "execution_count": 9,
   "id": "a7bb3a6f",
   "metadata": {},
   "outputs": [
    {
     "data": {
      "application/vnd.jupyter.widget-view+json": {
       "model_id": "fc594034bf6a407a89d04a568409b287",
       "version_major": 2,
       "version_minor": 0
      },
      "text/plain": [
       "Canvas(toolbar=Toolbar(toolitems=[('Home', 'Reset original view', 'home', 'home'), ('Back', 'Back to previous …"
      ]
     },
     "metadata": {},
     "output_type": "display_data"
    }
   ],
   "source": [
    "n_fft = 44100\n",
    "hop_size = 22050\n",
    "\n",
    "laser_chroma = librosa.feature.chroma_stft(y=laser_audio, sr=sr, tuning=0, norm=2,\n",
    "                                         hop_length=hop_size, n_fft=n_fft)\n",
    "original_chroma = librosa.feature.chroma_stft(y=gen_audio, sr=sr, tuning=0, norm=2,\n",
    "                                         hop_length=hop_size, n_fft=n_fft)\n",
    "\n",
    "plt.figure(figsize=(16, 8))\n",
    "plt.subplot(2, 1, 1)\n",
    "plt.title('Chroma Representation of $X_1$')\n",
    "librosa.display.specshow(laser_chroma, x_axis='time',\n",
    "                         y_axis='chroma', cmap='gray_r', hop_length=hop_size)\n",
    "plt.colorbar()\n",
    "plt.subplot(2, 1, 2)\n",
    "plt.title('Chroma Representation of $X_2$')\n",
    "librosa.display.specshow(original_chroma, x_axis='time',\n",
    "                         y_axis='chroma', cmap='gray_r', hop_length=hop_size)\n",
    "plt.colorbar()\n",
    "plt.tight_layout()"
   ]
  },
  {
   "cell_type": "code",
   "execution_count": 10,
   "id": "d2c5f881",
   "metadata": {},
   "outputs": [
    {
     "data": {
      "application/vnd.jupyter.widget-view+json": {
       "model_id": "5c991a342b13425c82809461d0d62419",
       "version_major": 2,
       "version_minor": 0
      },
      "text/plain": [
       "Canvas(toolbar=Toolbar(toolitems=[('Home', 'Reset original view', 'home', 'home'), ('Back', 'Back to previous …"
      ]
     },
     "metadata": {},
     "output_type": "display_data"
    },
    {
     "data": {
      "text/plain": [
       "<function matplotlib.pyplot.colorbar(mappable=None, cax=None, ax=None, **kw)>"
      ]
     },
     "execution_count": 10,
     "metadata": {},
     "output_type": "execute_result"
    }
   ],
   "source": [
    "D, wp = librosa.sequence.dtw(X=laser_chroma, Y=original_chroma, metric='cosine')\n",
    "wp_s = np.asarray(wp) * hop_size / sr\n",
    "\n",
    "fig = plt.figure(figsize=(10, 10))\n",
    "ax = fig.add_subplot(111)\n",
    "librosa.display.specshow(D, x_axis='time', y_axis='time',\n",
    "                         cmap='gray_r', hop_length=hop_size)\n",
    "imax = ax.imshow(D, cmap=plt.get_cmap('gray_r'),\n",
    "                 origin='lower', interpolation='nearest', aspect='auto')\n",
    "ax.plot(wp_s[:, 1], wp_s[:, 0], marker='o', color='r')\n",
    "plt.title('Warping Path on Acc. Cost Matrix $D$')\n",
    "plt.colorbar"
   ]
  },
  {
   "cell_type": "code",
   "execution_count": 11,
   "id": "bcaefeee",
   "metadata": {},
   "outputs": [
    {
     "data": {
      "application/vnd.jupyter.widget-view+json": {
       "model_id": "7d4ca8ac0ff8405cbcb8e61b0970695a",
       "version_major": 2,
       "version_minor": 0
      },
      "text/plain": [
       "Canvas(toolbar=Toolbar(toolitems=[('Home', 'Reset original view', 'home', 'home'), ('Back', 'Back to previous …"
      ]
     },
     "metadata": {},
     "output_type": "display_data"
    }
   ],
   "source": [
    "fig, ax = plt.subplots(2,1, figsize=(8,10))\n",
    "\n",
    "ax[0].set(title='Wave Form of Laser Audio')\n",
    "ld.waveplot(laser_audio, sr=sr, ax=ax[0])\n",
    "ax[0].set_xlim([1, 1.2])\n",
    "ax[0].set_ylim([-1, 1])\n",
    "ax[0].grid()\n",
    "\n",
    "ax[1].set(title='Wave Form of Original Audio')\n",
    "ld.waveplot(gen_audio, sr=sr, ax=ax[1])\n",
    "ax[1].set_xlim([1, 1.2])\n",
    "ax[1].set_ylim([-1, 1])\n",
    "ax[1].grid()"
   ]
  },
  {
   "cell_type": "code",
   "execution_count": 12,
   "id": "a393a4a2",
   "metadata": {},
   "outputs": [],
   "source": [
    "stft_laser = librosa.stft(laser_audio, n_fft=256)\n",
    "S_db_laser = librosa.amplitude_to_db(np.abs(stft_laser), ref=np.max)\n",
    "\n",
    "stft_gen = librosa.stft(gen_audio, n_fft=256)\n",
    "S_db_gen = librosa.amplitude_to_db(np.abs(stft_gen), ref=np.max)"
   ]
  },
  {
   "cell_type": "code",
   "execution_count": 13,
   "id": "34da9c85",
   "metadata": {},
   "outputs": [
    {
     "data": {
      "application/vnd.jupyter.widget-view+json": {
       "model_id": "4d30dccb887f45e9b617abf9df8f9d84",
       "version_major": 2,
       "version_minor": 0
      },
      "text/plain": [
       "Canvas(toolbar=Toolbar(toolitems=[('Home', 'Reset original view', 'home', 'home'), ('Back', 'Back to previous …"
      ]
     },
     "metadata": {},
     "output_type": "display_data"
    },
    {
     "data": {
      "text/plain": [
       "<matplotlib.colorbar.Colorbar at 0x7f14c11e35e0>"
      ]
     },
     "execution_count": 13,
     "metadata": {},
     "output_type": "execute_result"
    }
   ],
   "source": [
    "fig, axes = plt.subplots(2, 1, figsize=(9,6))\n",
    "# ax = axes.flatten()\n",
    "\n",
    "img_laser = librosa.display.specshow(S_db_laser, x_axis='time', y_axis='log', sr=sr, ax=axes[0])\n",
    "axes[0].set(title='Laser Audio Spectogram')\n",
    "axes[0].label_outer()\n",
    "\n",
    "\n",
    "img_gen = librosa.display.specshow(S_db_gen, x_axis='time', y_axis='log', sr=sr, ax=axes[1])\n",
    "axes[1].set(title='Genuine Audio Spectogram')\n",
    "axes[1].label_outer()\n",
    "\n",
    "fig.colorbar(img_laser, ax=axes, format=\"%+2.f dB\")"
   ]
  },
  {
   "cell_type": "markdown",
   "id": "5a1cfcd5",
   "metadata": {},
   "source": [
    "### Zoomed In"
   ]
  },
  {
   "cell_type": "code",
   "execution_count": 15,
   "id": "c8997ad5",
   "metadata": {},
   "outputs": [
    {
     "data": {
      "application/vnd.jupyter.widget-view+json": {
       "model_id": "3653c7a7f16c4260ba0ad4d909bf4984",
       "version_major": 2,
       "version_minor": 0
      },
      "text/plain": [
       "Canvas(toolbar=Toolbar(toolitems=[('Home', 'Reset original view', 'home', 'home'), ('Back', 'Back to previous …"
      ]
     },
     "metadata": {},
     "output_type": "display_data"
    },
    {
     "data": {
      "text/plain": [
       "<matplotlib.colorbar.Colorbar at 0x7f14beb65a90>"
      ]
     },
     "execution_count": 15,
     "metadata": {},
     "output_type": "execute_result"
    }
   ],
   "source": [
    "fig, axes = plt.subplots(2, 1, figsize=(9,6))\n",
    "# ax = axes.flatten()\n",
    "\n",
    "img_laser = librosa.display.specshow(S_db_laser, x_axis='time', y_axis='log', sr=sr, ax=axes[0])\n",
    "axes[0].set(title='Laser Audio Spectogram')\n",
    "axes[0].label_outer()\n",
    "axes[0].set_xlim([5, 13])\n",
    "# ax[0].set_ylim([-1, 1])\n",
    "# ax[0].grid()\n",
    "\n",
    "img_gen = librosa.display.specshow(S_db_gen, x_axis='time', y_axis='log', sr=sr, ax=axes[1])\n",
    "axes[1].set(title='Genuine Audio Spectogram')\n",
    "axes[1].label_outer()\n",
    "axes[1].set_xlim([5, 13])\n",
    "# ax[0].set_ylim([-1, 1])\n",
    "# ax[0].grid()\n",
    "\n",
    "fig.colorbar(img_laser, ax=axes, format=\"%+2.f dB\")"
   ]
  },
  {
   "cell_type": "markdown",
   "id": "32ede728",
   "metadata": {},
   "source": [
    "# Distrubtion of Low Frequency Regions"
   ]
  },
  {
   "cell_type": "code",
   "execution_count": 13,
   "id": "39ac09d0",
   "metadata": {},
   "outputs": [
    {
     "data": {
      "text/plain": [
       "(129,)"
      ]
     },
     "execution_count": 13,
     "metadata": {},
     "output_type": "execute_result"
    }
   ],
   "source": [
    "S_db_laser.shape\n",
    "S_db_laser[:,0].shape"
   ]
  },
  {
   "cell_type": "markdown",
   "id": "295b2356",
   "metadata": {},
   "source": [
    "### Coeff 0"
   ]
  },
  {
   "cell_type": "code",
   "execution_count": 14,
   "id": "3ffce8c5",
   "metadata": {},
   "outputs": [
    {
     "data": {
      "application/vnd.jupyter.widget-view+json": {
       "model_id": "334cc9ab95aa4c24aaaa8ac8e69be21b",
       "version_major": 2,
       "version_minor": 0
      },
      "text/plain": [
       "Canvas(toolbar=Toolbar(toolitems=[('Home', 'Reset original view', 'home', 'home'), ('Back', 'Back to previous …"
      ]
     },
     "metadata": {},
     "output_type": "display_data"
    }
   ],
   "source": [
    "fig, ax = plt.subplots(2, 1, figsize=(9,6))\n",
    "\n",
    "ax[0].hist(S_db_laser[:,0], bins='auto')\n",
    "ax[0].set(title='Laser Audio Distribution for Coeff 0')\n",
    "ax[0].label_outer()\n",
    "\n",
    "ax[1].hist(S_db_gen[:,0], bins='auto')\n",
    "ax[0].set(title='Genuine Audio Distribution for Coeff 0')\n",
    "ax[0].label_outer()"
   ]
  },
  {
   "cell_type": "markdown",
   "id": "252041a4",
   "metadata": {},
   "source": [
    "### Coeff 1"
   ]
  },
  {
   "cell_type": "code",
   "execution_count": 15,
   "id": "0c3aa34d",
   "metadata": {},
   "outputs": [
    {
     "data": {
      "application/vnd.jupyter.widget-view+json": {
       "model_id": "6995e6fbe0b04dffb3b9b58b0a977b45",
       "version_major": 2,
       "version_minor": 0
      },
      "text/plain": [
       "Canvas(toolbar=Toolbar(toolitems=[('Home', 'Reset original view', 'home', 'home'), ('Back', 'Back to previous …"
      ]
     },
     "metadata": {},
     "output_type": "display_data"
    }
   ],
   "source": [
    "fig, ax = plt.subplots(2, 1, figsize=(9,6))\n",
    "\n",
    "ax[0].hist(S_db_laser[:,1], bins='auto')\n",
    "ax[0].set(title='Laser Audio Distribution for Coeff 1')\n",
    "ax[0].label_outer()\n",
    "\n",
    "ax[1].hist(S_db_gen[:,1], bins='auto')\n",
    "ax[0].set(title='Genuine Audio Distribution for Coeff 1')\n",
    "ax[0].label_outer()"
   ]
  },
  {
   "cell_type": "markdown",
   "id": "2d1f8d20",
   "metadata": {},
   "source": [
    "### Coeff 2\n"
   ]
  },
  {
   "cell_type": "code",
   "execution_count": 16,
   "id": "7fa0a5c3",
   "metadata": {},
   "outputs": [
    {
     "data": {
      "application/vnd.jupyter.widget-view+json": {
       "model_id": "bb02e90cd2974d869939268876270f46",
       "version_major": 2,
       "version_minor": 0
      },
      "text/plain": [
       "Canvas(toolbar=Toolbar(toolitems=[('Home', 'Reset original view', 'home', 'home'), ('Back', 'Back to previous …"
      ]
     },
     "metadata": {},
     "output_type": "display_data"
    }
   ],
   "source": [
    "fig, ax = plt.subplots(2, 1, figsize=(9,6))\n",
    "\n",
    "ax[0].hist(S_db_laser[:,2], bins='auto')\n",
    "ax[0].set(title='Laser Audio Distribution for Coeff 2')\n",
    "ax[0].label_outer()\n",
    "\n",
    "ax[1].hist(S_db_gen[:,2], bins='auto')\n",
    "ax[0].set(title='Genuine Audio Distribution for Coeff 2')\n",
    "ax[0].label_outer()"
   ]
  },
  {
   "cell_type": "markdown",
   "id": "27b02aeb",
   "metadata": {},
   "source": [
    "### Coeff 3"
   ]
  },
  {
   "cell_type": "code",
   "execution_count": 17,
   "id": "6cc64fa8",
   "metadata": {},
   "outputs": [
    {
     "data": {
      "application/vnd.jupyter.widget-view+json": {
       "model_id": "94384481d9694f6b8c7019df8887d360",
       "version_major": 2,
       "version_minor": 0
      },
      "text/plain": [
       "Canvas(toolbar=Toolbar(toolitems=[('Home', 'Reset original view', 'home', 'home'), ('Back', 'Back to previous …"
      ]
     },
     "metadata": {},
     "output_type": "display_data"
    }
   ],
   "source": [
    "fig, ax = plt.subplots(2, 1, figsize=(9,6))\n",
    "\n",
    "ax[0].hist(S_db_laser[:,3], bins='auto')\n",
    "ax[0].set(title='Laser Audio Distribution for Coeff 3')\n",
    "ax[0].label_outer()\n",
    "\n",
    "ax[1].hist(S_db_gen[:,3], bins='auto')\n",
    "ax[0].set(title='Genuine Audio Distribution for Coeff 3')\n",
    "ax[0].label_outer()"
   ]
  },
  {
   "cell_type": "markdown",
   "id": "4cec5d49",
   "metadata": {},
   "source": [
    "### Coeff 4"
   ]
  },
  {
   "cell_type": "code",
   "execution_count": 18,
   "id": "8959cca7",
   "metadata": {},
   "outputs": [
    {
     "data": {
      "application/vnd.jupyter.widget-view+json": {
       "model_id": "6daa3eb6b84e406fa21c259e8fa8bfc3",
       "version_major": 2,
       "version_minor": 0
      },
      "text/plain": [
       "Canvas(toolbar=Toolbar(toolitems=[('Home', 'Reset original view', 'home', 'home'), ('Back', 'Back to previous …"
      ]
     },
     "metadata": {},
     "output_type": "display_data"
    }
   ],
   "source": [
    "fig, ax = plt.subplots(2, 1, figsize=(9,6))\n",
    "\n",
    "ax[0].hist(S_db_laser[:,4], bins='auto')\n",
    "ax[0].set(title='Laser Audio Distribution for Coeff 3')\n",
    "ax[0].label_outer()\n",
    "\n",
    "ax[1].hist(S_db_gen[:,4], bins='auto')\n",
    "ax[0].set(title='Genuine Audio Distribution for Coeff 3')\n",
    "ax[0].label_outer()"
   ]
  },
  {
   "cell_type": "code",
   "execution_count": null,
   "id": "1449deef",
   "metadata": {},
   "outputs": [],
   "source": []
  }
 ],
 "metadata": {
  "kernelspec": {
   "display_name": "laser_injection",
   "language": "python",
   "name": "laser_injection"
  },
  "language_info": {
   "codemirror_mode": {
    "name": "ipython",
    "version": 3
   },
   "file_extension": ".py",
   "mimetype": "text/x-python",
   "name": "python",
   "nbconvert_exporter": "python",
   "pygments_lexer": "ipython3",
   "version": "3.8.10"
  }
 },
 "nbformat": 4,
 "nbformat_minor": 5
}
