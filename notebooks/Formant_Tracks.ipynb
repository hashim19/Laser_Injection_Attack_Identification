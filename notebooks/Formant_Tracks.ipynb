{
 "cells": [
  {
   "cell_type": "code",
   "execution_count": 12,
   "id": "ff56d4c3",
   "metadata": {},
   "outputs": [],
   "source": [
    "import pywt\n",
    "import os\n",
    "import pandas as pd\n",
    "import librosa\n",
    "import librosa.display\n",
    "import glob \n",
    "import numpy as np\n",
    "import matplotlib.pyplot as plt\n",
    "from matplotlib import cm\n",
    "import seaborn as sns\n",
    "from fitter import Fitter, get_common_distributions, get_distributions\n",
    "import random\n",
    "\n",
    "from sklearn.preprocessing import StandardScaler\n",
    "import sklearn\n",
    "\n",
    "from utils import plot_projections\n",
    "\n",
    "from scipy.stats import kurtosis, skew\n",
    "\n",
    "#parselmouth\n",
    "import parselmouth \n",
    "import statistics\n",
    "from parselmouth.praat import call\n",
    "from scipy.stats.mstats import zscore\n",
    "from sklearn.decomposition import PCA\n",
    "from sklearn.preprocessing import StandardScaler\n",
    "\n",
    "%matplotlib widget"
   ]
  },
  {
   "cell_type": "code",
   "execution_count": 7,
   "id": "4df1cd13",
   "metadata": {},
   "outputs": [
    {
     "name": "stdout",
     "output_type": "stream",
     "text": [
      "['/home/hashim/PHD/audio_data/AllAudioSamples/Laser/laser001 (2).wav', '/home/hashim/PHD/audio_data/AllAudioSamples/Laser/laser001.wav', '/home/hashim/PHD/audio_data/AllAudioSamples/Laser/laser002 (2).wav', '/home/hashim/PHD/audio_data/AllAudioSamples/Laser/laser002.wav', '/home/hashim/PHD/audio_data/AllAudioSamples/Laser/laser003 (2).wav', '/home/hashim/PHD/audio_data/AllAudioSamples/Laser/laser003.wav', '/home/hashim/PHD/audio_data/AllAudioSamples/Laser/laser004 (2).wav', '/home/hashim/PHD/audio_data/AllAudioSamples/Laser/laser004.wav', '/home/hashim/PHD/audio_data/AllAudioSamples/Laser/laser005 (2).wav', '/home/hashim/PHD/audio_data/AllAudioSamples/Laser/laser005.wav', '/home/hashim/PHD/audio_data/AllAudioSamples/Laser/laser006 (2).wav', '/home/hashim/PHD/audio_data/AllAudioSamples/Laser/laser006.wav', '/home/hashim/PHD/audio_data/AllAudioSamples/Laser/laser007 (2).wav', '/home/hashim/PHD/audio_data/AllAudioSamples/Laser/laser007.wav', '/home/hashim/PHD/audio_data/AllAudioSamples/Laser/laser008 (2).wav', '/home/hashim/PHD/audio_data/AllAudioSamples/Laser/laser008.wav', '/home/hashim/PHD/audio_data/AllAudioSamples/Laser/laser009 (2).wav', '/home/hashim/PHD/audio_data/AllAudioSamples/Laser/laser009.wav', '/home/hashim/PHD/audio_data/AllAudioSamples/Laser/laser010 (2).wav', '/home/hashim/PHD/audio_data/AllAudioSamples/Laser/laser010.wav', '/home/hashim/PHD/audio_data/AllAudioSamples/Laser/laser011 (2).wav', '/home/hashim/PHD/audio_data/AllAudioSamples/Laser/laser011.wav', '/home/hashim/PHD/audio_data/AllAudioSamples/Laser/laser012 (2).wav', '/home/hashim/PHD/audio_data/AllAudioSamples/Laser/laser012.wav', '/home/hashim/PHD/audio_data/AllAudioSamples/Laser/laser013 (2).wav', '/home/hashim/PHD/audio_data/AllAudioSamples/Laser/laser013.wav', '/home/hashim/PHD/audio_data/AllAudioSamples/Laser/laser014 (2).wav', '/home/hashim/PHD/audio_data/AllAudioSamples/Laser/laser014.wav', '/home/hashim/PHD/audio_data/AllAudioSamples/Laser/laser015 (2).wav', '/home/hashim/PHD/audio_data/AllAudioSamples/Laser/laser015.wav', '/home/hashim/PHD/audio_data/AllAudioSamples/Laser/laser016 (2).wav', '/home/hashim/PHD/audio_data/AllAudioSamples/Laser/laser016.wav', '/home/hashim/PHD/audio_data/AllAudioSamples/Laser/laser017 (2).wav', '/home/hashim/PHD/audio_data/AllAudioSamples/Laser/laser017.wav', '/home/hashim/PHD/audio_data/AllAudioSamples/Laser/laser018 (2).wav', '/home/hashim/PHD/audio_data/AllAudioSamples/Laser/laser018.wav', '/home/hashim/PHD/audio_data/AllAudioSamples/Laser/laser019 (2).wav', '/home/hashim/PHD/audio_data/AllAudioSamples/Laser/laser019.wav', '/home/hashim/PHD/audio_data/AllAudioSamples/Laser/laser020 (2).wav', '/home/hashim/PHD/audio_data/AllAudioSamples/Laser/laser020.wav', '/home/hashim/PHD/audio_data/AllAudioSamples/Laser/output_channel1.1 (2).wav', '/home/hashim/PHD/audio_data/AllAudioSamples/Laser/output_channel1.1 (3).wav', '/home/hashim/PHD/audio_data/AllAudioSamples/Laser/output_channel1.1 (4).wav', '/home/hashim/PHD/audio_data/AllAudioSamples/Laser/output_channel1.1.wav', '/home/hashim/PHD/audio_data/AllAudioSamples/Laser/output_channel1.2 (2).wav', '/home/hashim/PHD/audio_data/AllAudioSamples/Laser/output_channel1.2 (3).wav', '/home/hashim/PHD/audio_data/AllAudioSamples/Laser/output_channel1.2 (4).wav', '/home/hashim/PHD/audio_data/AllAudioSamples/Laser/output_channel1.2.wav', '/home/hashim/PHD/audio_data/AllAudioSamples/Laser/output_channel1.3 (2).wav', '/home/hashim/PHD/audio_data/AllAudioSamples/Laser/output_channel1.3 (3).wav', '/home/hashim/PHD/audio_data/AllAudioSamples/Laser/output_channel1.3 (4).wav', '/home/hashim/PHD/audio_data/AllAudioSamples/Laser/output_channel1.3.wav', '/home/hashim/PHD/audio_data/AllAudioSamples/Laser/output_channel1.4 (2).wav', '/home/hashim/PHD/audio_data/AllAudioSamples/Laser/output_channel1.4 (3).wav', '/home/hashim/PHD/audio_data/AllAudioSamples/Laser/output_channel1.4 (4).wav', '/home/hashim/PHD/audio_data/AllAudioSamples/Laser/output_channel1.4.wav', '/home/hashim/PHD/audio_data/AllAudioSamples/Laser/output_channel1.5 (2).wav', '/home/hashim/PHD/audio_data/AllAudioSamples/Laser/output_channel1.5 (3).wav', '/home/hashim/PHD/audio_data/AllAudioSamples/Laser/output_channel1.5 (4).wav', '/home/hashim/PHD/audio_data/AllAudioSamples/Laser/output_channel1.5.wav', '/home/hashim/PHD/audio_data/AllAudioSamples/Laser/output_channel2.1 (2).wav', '/home/hashim/PHD/audio_data/AllAudioSamples/Laser/output_channel2.1 (3).wav', '/home/hashim/PHD/audio_data/AllAudioSamples/Laser/output_channel2.1 (4).wav', '/home/hashim/PHD/audio_data/AllAudioSamples/Laser/output_channel2.1.wav', '/home/hashim/PHD/audio_data/AllAudioSamples/Laser/output_channel2.2 (2).wav', '/home/hashim/PHD/audio_data/AllAudioSamples/Laser/output_channel2.2 (3).wav', '/home/hashim/PHD/audio_data/AllAudioSamples/Laser/output_channel2.2 (4).wav', '/home/hashim/PHD/audio_data/AllAudioSamples/Laser/output_channel2.2.wav', '/home/hashim/PHD/audio_data/AllAudioSamples/Laser/output_channel2.3 (2).wav', '/home/hashim/PHD/audio_data/AllAudioSamples/Laser/output_channel2.3 (3).wav', '/home/hashim/PHD/audio_data/AllAudioSamples/Laser/output_channel2.3 (4).wav', '/home/hashim/PHD/audio_data/AllAudioSamples/Laser/output_channel2.3.wav', '/home/hashim/PHD/audio_data/AllAudioSamples/Laser/output_channel2.4 (2).wav', '/home/hashim/PHD/audio_data/AllAudioSamples/Laser/output_channel2.4 (3).wav', '/home/hashim/PHD/audio_data/AllAudioSamples/Laser/output_channel2.4 (4).wav', '/home/hashim/PHD/audio_data/AllAudioSamples/Laser/output_channel2.4.wav', '/home/hashim/PHD/audio_data/AllAudioSamples/Laser/output_channel2.5 (2).wav', '/home/hashim/PHD/audio_data/AllAudioSamples/Laser/output_channel2.5 (3).wav', '/home/hashim/PHD/audio_data/AllAudioSamples/Laser/output_channel2.5 (4).wav', '/home/hashim/PHD/audio_data/AllAudioSamples/Laser/output_channel2.5.wav']\n",
      "80\n"
     ]
    }
   ],
   "source": [
    "laser_dir = '/home/hashim/PHD/audio_data/AllAudioSamples/Laser/'\n",
    "laser_files = list(glob.glob(os.path.join(laser_dir, '*.wav')))\n",
    "laser_files.sort()\n",
    "print(laser_files)\n",
    "print(len(laser_files))"
   ]
  },
  {
   "cell_type": "code",
   "execution_count": 8,
   "id": "012f355b",
   "metadata": {},
   "outputs": [
    {
     "name": "stdout",
     "output_type": "stream",
     "text": [
      "['/home/hashim/PHD/audio_data/AllAudioSamples/Original/original001 (2).wav', '/home/hashim/PHD/audio_data/AllAudioSamples/Original/original001.wav', '/home/hashim/PHD/audio_data/AllAudioSamples/Original/original002 (2).wav', '/home/hashim/PHD/audio_data/AllAudioSamples/Original/original002.wav', '/home/hashim/PHD/audio_data/AllAudioSamples/Original/original003 (2).wav', '/home/hashim/PHD/audio_data/AllAudioSamples/Original/original003.wav', '/home/hashim/PHD/audio_data/AllAudioSamples/Original/original004 (2).wav', '/home/hashim/PHD/audio_data/AllAudioSamples/Original/original004.wav', '/home/hashim/PHD/audio_data/AllAudioSamples/Original/original005 (2).wav', '/home/hashim/PHD/audio_data/AllAudioSamples/Original/original005.wav', '/home/hashim/PHD/audio_data/AllAudioSamples/Original/original006 (2).wav', '/home/hashim/PHD/audio_data/AllAudioSamples/Original/original006.wav', '/home/hashim/PHD/audio_data/AllAudioSamples/Original/original007 (2).wav', '/home/hashim/PHD/audio_data/AllAudioSamples/Original/original007.wav', '/home/hashim/PHD/audio_data/AllAudioSamples/Original/original008 (2).wav', '/home/hashim/PHD/audio_data/AllAudioSamples/Original/original008.wav', '/home/hashim/PHD/audio_data/AllAudioSamples/Original/original009 (2).wav', '/home/hashim/PHD/audio_data/AllAudioSamples/Original/original009.wav', '/home/hashim/PHD/audio_data/AllAudioSamples/Original/original010 (2).wav', '/home/hashim/PHD/audio_data/AllAudioSamples/Original/original010.wav', '/home/hashim/PHD/audio_data/AllAudioSamples/Original/original011 (2).wav', '/home/hashim/PHD/audio_data/AllAudioSamples/Original/original011.wav', '/home/hashim/PHD/audio_data/AllAudioSamples/Original/original012 (2).wav', '/home/hashim/PHD/audio_data/AllAudioSamples/Original/original012.wav', '/home/hashim/PHD/audio_data/AllAudioSamples/Original/original013 (2).wav', '/home/hashim/PHD/audio_data/AllAudioSamples/Original/original013.wav', '/home/hashim/PHD/audio_data/AllAudioSamples/Original/original014 (2).wav', '/home/hashim/PHD/audio_data/AllAudioSamples/Original/original014.wav', '/home/hashim/PHD/audio_data/AllAudioSamples/Original/original015 (2).wav', '/home/hashim/PHD/audio_data/AllAudioSamples/Original/original015.wav', '/home/hashim/PHD/audio_data/AllAudioSamples/Original/original016 (2).wav', '/home/hashim/PHD/audio_data/AllAudioSamples/Original/original016.wav', '/home/hashim/PHD/audio_data/AllAudioSamples/Original/original017 (2).wav', '/home/hashim/PHD/audio_data/AllAudioSamples/Original/original017.wav', '/home/hashim/PHD/audio_data/AllAudioSamples/Original/original018 (2).wav', '/home/hashim/PHD/audio_data/AllAudioSamples/Original/original018.wav', '/home/hashim/PHD/audio_data/AllAudioSamples/Original/original019 (2).wav', '/home/hashim/PHD/audio_data/AllAudioSamples/Original/original019.wav', '/home/hashim/PHD/audio_data/AllAudioSamples/Original/original020 (2).wav', '/home/hashim/PHD/audio_data/AllAudioSamples/Original/original020.wav', '/home/hashim/PHD/audio_data/AllAudioSamples/Original/output_channel1.1 (2).wav', '/home/hashim/PHD/audio_data/AllAudioSamples/Original/output_channel1.1 (3).wav', '/home/hashim/PHD/audio_data/AllAudioSamples/Original/output_channel1.1 (4).wav', '/home/hashim/PHD/audio_data/AllAudioSamples/Original/output_channel1.1.wav', '/home/hashim/PHD/audio_data/AllAudioSamples/Original/output_channel1.2 (2).wav', '/home/hashim/PHD/audio_data/AllAudioSamples/Original/output_channel1.2 (3).wav', '/home/hashim/PHD/audio_data/AllAudioSamples/Original/output_channel1.2 (4).wav', '/home/hashim/PHD/audio_data/AllAudioSamples/Original/output_channel1.2.wav', '/home/hashim/PHD/audio_data/AllAudioSamples/Original/output_channel1.3 (2).wav', '/home/hashim/PHD/audio_data/AllAudioSamples/Original/output_channel1.3 (3).wav', '/home/hashim/PHD/audio_data/AllAudioSamples/Original/output_channel1.3 (4).wav', '/home/hashim/PHD/audio_data/AllAudioSamples/Original/output_channel1.3.wav', '/home/hashim/PHD/audio_data/AllAudioSamples/Original/output_channel1.4 (2).wav', '/home/hashim/PHD/audio_data/AllAudioSamples/Original/output_channel1.4 (3).wav', '/home/hashim/PHD/audio_data/AllAudioSamples/Original/output_channel1.4 (4).wav', '/home/hashim/PHD/audio_data/AllAudioSamples/Original/output_channel1.4.wav', '/home/hashim/PHD/audio_data/AllAudioSamples/Original/output_channel1.5 (2).wav', '/home/hashim/PHD/audio_data/AllAudioSamples/Original/output_channel1.5 (3).wav', '/home/hashim/PHD/audio_data/AllAudioSamples/Original/output_channel1.5 (4).wav', '/home/hashim/PHD/audio_data/AllAudioSamples/Original/output_channel1.5.wav', '/home/hashim/PHD/audio_data/AllAudioSamples/Original/output_channel2.1 (2).wav', '/home/hashim/PHD/audio_data/AllAudioSamples/Original/output_channel2.1 (3).wav', '/home/hashim/PHD/audio_data/AllAudioSamples/Original/output_channel2.1 (4).wav', '/home/hashim/PHD/audio_data/AllAudioSamples/Original/output_channel2.1.wav', '/home/hashim/PHD/audio_data/AllAudioSamples/Original/output_channel2.2 (2).wav', '/home/hashim/PHD/audio_data/AllAudioSamples/Original/output_channel2.2 (3).wav', '/home/hashim/PHD/audio_data/AllAudioSamples/Original/output_channel2.2 (4).wav', '/home/hashim/PHD/audio_data/AllAudioSamples/Original/output_channel2.2.wav', '/home/hashim/PHD/audio_data/AllAudioSamples/Original/output_channel2.3 (2).wav', '/home/hashim/PHD/audio_data/AllAudioSamples/Original/output_channel2.3 (3).wav', '/home/hashim/PHD/audio_data/AllAudioSamples/Original/output_channel2.3 (4).wav', '/home/hashim/PHD/audio_data/AllAudioSamples/Original/output_channel2.3.wav', '/home/hashim/PHD/audio_data/AllAudioSamples/Original/output_channel2.4 (2).wav', '/home/hashim/PHD/audio_data/AllAudioSamples/Original/output_channel2.4 (3).wav', '/home/hashim/PHD/audio_data/AllAudioSamples/Original/output_channel2.4 (4).wav', '/home/hashim/PHD/audio_data/AllAudioSamples/Original/output_channel2.4.wav', '/home/hashim/PHD/audio_data/AllAudioSamples/Original/output_channel2.5 (2).wav', '/home/hashim/PHD/audio_data/AllAudioSamples/Original/output_channel2.5 (3).wav', '/home/hashim/PHD/audio_data/AllAudioSamples/Original/output_channel2.5 (4).wav', '/home/hashim/PHD/audio_data/AllAudioSamples/Original/output_channel2.5.wav']\n",
      "80\n"
     ]
    }
   ],
   "source": [
    "orig_dir = '/home/hashim/PHD/audio_data/AllAudioSamples/Original/'\n",
    "orig_files = list(glob.glob(os.path.join(orig_dir, '*wav')))\n",
    "orig_files.sort()\n",
    "print(orig_files)\n",
    "print(len(orig_files))"
   ]
  },
  {
   "cell_type": "code",
   "execution_count": 9,
   "id": "715ff3a6",
   "metadata": {},
   "outputs": [
    {
     "data": {
      "text/plain": [
       "56"
      ]
     },
     "execution_count": 9,
     "metadata": {},
     "output_type": "execute_result"
    }
   ],
   "source": [
    "# generate a random integer between 0 and minimum of length of original and laser files. \n",
    "\n",
    "audio_idx = random.randint(0, min(len(laser_files), len(orig_files)))\n",
    "audio_idx"
   ]
  },
  {
   "cell_type": "code",
   "execution_count": 10,
   "id": "e7145e01",
   "metadata": {},
   "outputs": [],
   "source": [
    "laser_audio, sr = librosa.load(laser_files[audio_idx], res_type='kaiser_fast')\n",
    "auth_audio, sr = librosa.load(orig_files[audio_idx], res_type='kaiser_fast')"
   ]
  },
  {
   "cell_type": "code",
   "execution_count": 13,
   "id": "8665a824",
   "metadata": {},
   "outputs": [],
   "source": [
    "# This function measures formants using Formant Position formula\n",
    "def measureFormants(sound, wave_file, f0min,f0max):\n",
    "    sound = parselmouth.Sound(sound) # read the sound\n",
    "    pitch = call(sound, \"To Pitch (cc)\", 0, f0min, 15, 'no', 0.03, 0.45, 0.01, 0.35, 0.14, f0max)\n",
    "    pointProcess = call(sound, \"To PointProcess (periodic, cc)\", f0min, f0max)\n",
    "    \n",
    "    formants = call(sound, \"To Formant (burg)\", 0.0025, 5, 5000, 0.025, 50)\n",
    "    numPoints = call(pointProcess, \"Get number of points\")\n",
    "\n",
    "    f1_list = []\n",
    "    f2_list = []\n",
    "    f3_list = []\n",
    "    f4_list = []\n",
    "    \n",
    "    # Measure formants only at glottal pulses\n",
    "    for point in range(0, numPoints):\n",
    "        point += 1\n",
    "        t = call(pointProcess, \"Get time from index\", point)\n",
    "        f1 = call(formants, \"Get value at time\", 1, t, 'Hertz', 'Linear')\n",
    "        f2 = call(formants, \"Get value at time\", 2, t, 'Hertz', 'Linear')\n",
    "        f3 = call(formants, \"Get value at time\", 3, t, 'Hertz', 'Linear')\n",
    "        f4 = call(formants, \"Get value at time\", 4, t, 'Hertz', 'Linear')\n",
    "        f1_list.append(f1)\n",
    "        f2_list.append(f2)\n",
    "        f3_list.append(f3)\n",
    "        f4_list.append(f4)\n",
    "    \n",
    "    f1_list = [f1 for f1 in f1_list if str(f1) != 'nan']\n",
    "    f2_list = [f2 for f2 in f2_list if str(f2) != 'nan']\n",
    "    f3_list = [f3 for f3 in f3_list if str(f3) != 'nan']\n",
    "    f4_list = [f4 for f4 in f4_list if str(f4) != 'nan']\n",
    "    \n",
    "    # calculate mean formants across pulses\n",
    "    f1_mean = statistics.mean(f1_list)\n",
    "    f2_mean = statistics.mean(f2_list)\n",
    "    f3_mean = statistics.mean(f3_list)\n",
    "    f4_mean = statistics.mean(f4_list)\n",
    "    \n",
    "    # calculate median formants across pulses, this is what is used in all subsequent calcualtions\n",
    "    # you can use mean if you want, just edit the code in the boxes below to replace median with mean\n",
    "    f1_median = statistics.median(f1_list)\n",
    "    f2_median = statistics.median(f2_list)\n",
    "    f3_median = statistics.median(f3_list)\n",
    "    f4_median = statistics.median(f4_list)\n",
    "    \n",
    "    return f1_mean, f2_mean, f3_mean, f4_mean, f1_median, f2_median, f3_median, f4_median\n"
   ]
  },
  {
   "cell_type": "code",
   "execution_count": 15,
   "id": "de65ff1a",
   "metadata": {},
   "outputs": [],
   "source": [
    "sound_laser = parselmouth.Sound(laser_files[audio_idx])\n",
    "sound_auth = parselmouth.Sound(orig_files[audio_idx])"
   ]
  },
  {
   "cell_type": "code",
   "execution_count": 17,
   "id": "4496ba27",
   "metadata": {},
   "outputs": [],
   "source": [
    "(f1_mean_laser, f2_mean_laser, f3_mean_laser, f4_mean_laser, f1_median_laser, f2_median_laser, f3_median_laser, f4_median_laser) = measureFormants(\n",
    "        sound, laser_files[audio_idx], 75, 300)"
   ]
  },
  {
   "cell_type": "code",
   "execution_count": 18,
   "id": "1693b428",
   "metadata": {},
   "outputs": [
    {
     "data": {
      "text/plain": [
       "556.629743313827"
      ]
     },
     "execution_count": 18,
     "metadata": {},
     "output_type": "execute_result"
    }
   ],
   "source": [
    "f1_mean_laser"
   ]
  },
  {
   "cell_type": "code",
   "execution_count": null,
   "id": "2ac6586f",
   "metadata": {},
   "outputs": [],
   "source": []
  }
 ],
 "metadata": {
  "kernelspec": {
   "display_name": "laser_injection",
   "language": "python",
   "name": "laser_injection"
  },
  "language_info": {
   "codemirror_mode": {
    "name": "ipython",
    "version": 3
   },
   "file_extension": ".py",
   "mimetype": "text/x-python",
   "name": "python",
   "nbconvert_exporter": "python",
   "pygments_lexer": "ipython3",
   "version": "3.8.10"
  }
 },
 "nbformat": 4,
 "nbformat_minor": 5
}
