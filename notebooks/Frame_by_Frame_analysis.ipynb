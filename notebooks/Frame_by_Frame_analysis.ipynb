{
 "cells": [
  {
   "cell_type": "code",
   "execution_count": 31,
   "id": "a00e5272",
   "metadata": {},
   "outputs": [],
   "source": [
    "import pywt\n",
    "import os\n",
    "import pandas as pd\n",
    "import librosa\n",
    "import librosa.display\n",
    "import glob \n",
    "import numpy as np\n",
    "import matplotlib.pyplot as plt\n",
    "from matplotlib import cm\n",
    "import seaborn as sns\n",
    "from fitter import Fitter, get_common_distributions, get_distributions\n",
    "from matplotlib.ticker import FormatStrFormatter\n",
    "from pydub import AudioSegment, effects  \n",
    "import pickle\n",
    "import collections\n",
    "import re\n",
    "\n",
    "from sklearn.preprocessing import StandardScaler\n",
    "import sklearn\n",
    "\n",
    "from utils import plot_projections\n",
    "\n",
    "from scipy.stats import kurtosis, skew\n",
    "\n",
    "%matplotlib widget"
   ]
  },
  {
   "cell_type": "code",
   "execution_count": 24,
   "id": "c3e16bdc",
   "metadata": {},
   "outputs": [],
   "source": [
    "def extract_speaker_num(f):\n",
    "    \n",
    "    substr = f.split('/')[7].split('_')\n",
    "    \n",
    "    speaker_str = re.split('(\\d+)', substr[0])\n",
    "    \n",
    "#     print(substr[1].split('.')[0])\n",
    "    \n",
    "#     print(speaker_str + substr[1].split('.')[0])\n",
    "    \n",
    "    return int(speaker_str[1] + str(substr[1].split('.')[0]))"
   ]
  },
  {
   "cell_type": "code",
   "execution_count": 25,
   "id": "2c259791",
   "metadata": {},
   "outputs": [
    {
     "data": {
      "text/plain": [
       "10001"
      ]
     },
     "execution_count": 25,
     "metadata": {},
     "output_type": "execute_result"
    }
   ],
   "source": [
    "extract_speaker_num('/home/hashim/PHD/audio_data/AllAudioSamples/Laser_Male_Female/speaker10_001.wav')"
   ]
  },
  {
   "cell_type": "code",
   "execution_count": 26,
   "id": "4f62cc7c",
   "metadata": {},
   "outputs": [
    {
     "name": "stdout",
     "output_type": "stream",
     "text": [
      "['/home/hashim/PHD/audio_data/AllAudioSamples/Laser_Male_Female/speaker1_001.wav', '/home/hashim/PHD/audio_data/AllAudioSamples/Laser_Male_Female/speaker1_002.wav', '/home/hashim/PHD/audio_data/AllAudioSamples/Laser_Male_Female/speaker1_003.wav', '/home/hashim/PHD/audio_data/AllAudioSamples/Laser_Male_Female/speaker1_004.wav', '/home/hashim/PHD/audio_data/AllAudioSamples/Laser_Male_Female/speaker1_005.wav', '/home/hashim/PHD/audio_data/AllAudioSamples/Laser_Male_Female/speaker2_001.wav', '/home/hashim/PHD/audio_data/AllAudioSamples/Laser_Male_Female/speaker2_002.wav', '/home/hashim/PHD/audio_data/AllAudioSamples/Laser_Male_Female/speaker2_003.wav', '/home/hashim/PHD/audio_data/AllAudioSamples/Laser_Male_Female/speaker2_004.wav', '/home/hashim/PHD/audio_data/AllAudioSamples/Laser_Male_Female/speaker2_005.wav', '/home/hashim/PHD/audio_data/AllAudioSamples/Laser_Male_Female/speaker3_001.wav', '/home/hashim/PHD/audio_data/AllAudioSamples/Laser_Male_Female/speaker3_002.wav', '/home/hashim/PHD/audio_data/AllAudioSamples/Laser_Male_Female/speaker3_003.wav', '/home/hashim/PHD/audio_data/AllAudioSamples/Laser_Male_Female/speaker3_004.wav', '/home/hashim/PHD/audio_data/AllAudioSamples/Laser_Male_Female/speaker3_005.wav', '/home/hashim/PHD/audio_data/AllAudioSamples/Laser_Male_Female/speaker4_001.wav', '/home/hashim/PHD/audio_data/AllAudioSamples/Laser_Male_Female/speaker4_002.wav', '/home/hashim/PHD/audio_data/AllAudioSamples/Laser_Male_Female/speaker4_003.wav', '/home/hashim/PHD/audio_data/AllAudioSamples/Laser_Male_Female/speaker4_004.wav', '/home/hashim/PHD/audio_data/AllAudioSamples/Laser_Male_Female/speaker4_005.wav', '/home/hashim/PHD/audio_data/AllAudioSamples/Laser_Male_Female/speaker5_001.wav', '/home/hashim/PHD/audio_data/AllAudioSamples/Laser_Male_Female/speaker5_002.wav', '/home/hashim/PHD/audio_data/AllAudioSamples/Laser_Male_Female/speaker5_003.wav', '/home/hashim/PHD/audio_data/AllAudioSamples/Laser_Male_Female/speaker5_004.wav', '/home/hashim/PHD/audio_data/AllAudioSamples/Laser_Male_Female/speaker5_005.wav', '/home/hashim/PHD/audio_data/AllAudioSamples/Laser_Male_Female/speaker6_001.wav', '/home/hashim/PHD/audio_data/AllAudioSamples/Laser_Male_Female/speaker6_002.wav', '/home/hashim/PHD/audio_data/AllAudioSamples/Laser_Male_Female/speaker6_003.wav', '/home/hashim/PHD/audio_data/AllAudioSamples/Laser_Male_Female/speaker6_004.wav', '/home/hashim/PHD/audio_data/AllAudioSamples/Laser_Male_Female/speaker6_005.wav', '/home/hashim/PHD/audio_data/AllAudioSamples/Laser_Male_Female/speaker7_001.wav', '/home/hashim/PHD/audio_data/AllAudioSamples/Laser_Male_Female/speaker7_002.wav', '/home/hashim/PHD/audio_data/AllAudioSamples/Laser_Male_Female/speaker7_003.wav', '/home/hashim/PHD/audio_data/AllAudioSamples/Laser_Male_Female/speaker7_004.wav', '/home/hashim/PHD/audio_data/AllAudioSamples/Laser_Male_Female/speaker7_005.wav', '/home/hashim/PHD/audio_data/AllAudioSamples/Laser_Male_Female/speaker8_001.wav', '/home/hashim/PHD/audio_data/AllAudioSamples/Laser_Male_Female/speaker8_002.wav', '/home/hashim/PHD/audio_data/AllAudioSamples/Laser_Male_Female/speaker8_003.wav', '/home/hashim/PHD/audio_data/AllAudioSamples/Laser_Male_Female/speaker8_004.wav', '/home/hashim/PHD/audio_data/AllAudioSamples/Laser_Male_Female/speaker8_005.wav', '/home/hashim/PHD/audio_data/AllAudioSamples/Laser_Male_Female/speaker9_001.wav', '/home/hashim/PHD/audio_data/AllAudioSamples/Laser_Male_Female/speaker9_002.wav', '/home/hashim/PHD/audio_data/AllAudioSamples/Laser_Male_Female/speaker9_003.wav', '/home/hashim/PHD/audio_data/AllAudioSamples/Laser_Male_Female/speaker9_004.wav', '/home/hashim/PHD/audio_data/AllAudioSamples/Laser_Male_Female/speaker9_005.wav', '/home/hashim/PHD/audio_data/AllAudioSamples/Laser_Male_Female/speaker10_001.wav', '/home/hashim/PHD/audio_data/AllAudioSamples/Laser_Male_Female/speaker10_002.wav', '/home/hashim/PHD/audio_data/AllAudioSamples/Laser_Male_Female/speaker10_003.wav', '/home/hashim/PHD/audio_data/AllAudioSamples/Laser_Male_Female/speaker10_004.wav', '/home/hashim/PHD/audio_data/AllAudioSamples/Laser_Male_Female/speaker10_005.wav', '/home/hashim/PHD/audio_data/AllAudioSamples/Laser_Male_Female/speaker11_001.wav', '/home/hashim/PHD/audio_data/AllAudioSamples/Laser_Male_Female/speaker11_002.wav', '/home/hashim/PHD/audio_data/AllAudioSamples/Laser_Male_Female/speaker11_003.wav', '/home/hashim/PHD/audio_data/AllAudioSamples/Laser_Male_Female/speaker11_004.wav', '/home/hashim/PHD/audio_data/AllAudioSamples/Laser_Male_Female/speaker11_005.wav', '/home/hashim/PHD/audio_data/AllAudioSamples/Laser_Male_Female/speaker12_001.wav', '/home/hashim/PHD/audio_data/AllAudioSamples/Laser_Male_Female/speaker12_002.wav', '/home/hashim/PHD/audio_data/AllAudioSamples/Laser_Male_Female/speaker12_003.wav', '/home/hashim/PHD/audio_data/AllAudioSamples/Laser_Male_Female/speaker12_004.wav', '/home/hashim/PHD/audio_data/AllAudioSamples/Laser_Male_Female/speaker12_005.wav', '/home/hashim/PHD/audio_data/AllAudioSamples/Laser_Male_Female/speaker13_001.wav', '/home/hashim/PHD/audio_data/AllAudioSamples/Laser_Male_Female/speaker13_002.wav', '/home/hashim/PHD/audio_data/AllAudioSamples/Laser_Male_Female/speaker13_003.wav', '/home/hashim/PHD/audio_data/AllAudioSamples/Laser_Male_Female/speaker13_004.wav', '/home/hashim/PHD/audio_data/AllAudioSamples/Laser_Male_Female/speaker13_005.wav', '/home/hashim/PHD/audio_data/AllAudioSamples/Laser_Male_Female/speaker14_001.wav', '/home/hashim/PHD/audio_data/AllAudioSamples/Laser_Male_Female/speaker14_002.wav', '/home/hashim/PHD/audio_data/AllAudioSamples/Laser_Male_Female/speaker14_003.wav', '/home/hashim/PHD/audio_data/AllAudioSamples/Laser_Male_Female/speaker14_004.wav', '/home/hashim/PHD/audio_data/AllAudioSamples/Laser_Male_Female/speaker14_005.wav', '/home/hashim/PHD/audio_data/AllAudioSamples/Laser_Male_Female/speaker15_001.wav', '/home/hashim/PHD/audio_data/AllAudioSamples/Laser_Male_Female/speaker15_002.wav', '/home/hashim/PHD/audio_data/AllAudioSamples/Laser_Male_Female/speaker15_003.wav', '/home/hashim/PHD/audio_data/AllAudioSamples/Laser_Male_Female/speaker15_004.wav', '/home/hashim/PHD/audio_data/AllAudioSamples/Laser_Male_Female/speaker15_005.wav', '/home/hashim/PHD/audio_data/AllAudioSamples/Laser_Male_Female/speaker16_001.wav', '/home/hashim/PHD/audio_data/AllAudioSamples/Laser_Male_Female/speaker16_002.wav', '/home/hashim/PHD/audio_data/AllAudioSamples/Laser_Male_Female/speaker16_003.wav', '/home/hashim/PHD/audio_data/AllAudioSamples/Laser_Male_Female/speaker16_004.wav', '/home/hashim/PHD/audio_data/AllAudioSamples/Laser_Male_Female/speaker16_005.wav', '/home/hashim/PHD/audio_data/AllAudioSamples/Laser_Male_Female/speaker17_001.wav', '/home/hashim/PHD/audio_data/AllAudioSamples/Laser_Male_Female/speaker17_002.wav', '/home/hashim/PHD/audio_data/AllAudioSamples/Laser_Male_Female/speaker17_003.wav', '/home/hashim/PHD/audio_data/AllAudioSamples/Laser_Male_Female/speaker17_004.wav', '/home/hashim/PHD/audio_data/AllAudioSamples/Laser_Male_Female/speaker17_005.wav', '/home/hashim/PHD/audio_data/AllAudioSamples/Laser_Male_Female/speaker18_001.wav', '/home/hashim/PHD/audio_data/AllAudioSamples/Laser_Male_Female/speaker18_002.wav', '/home/hashim/PHD/audio_data/AllAudioSamples/Laser_Male_Female/speaker18_003.wav', '/home/hashim/PHD/audio_data/AllAudioSamples/Laser_Male_Female/speaker18_004.wav', '/home/hashim/PHD/audio_data/AllAudioSamples/Laser_Male_Female/speaker18_005.wav', '/home/hashim/PHD/audio_data/AllAudioSamples/Laser_Male_Female/speaker19_001.wav', '/home/hashim/PHD/audio_data/AllAudioSamples/Laser_Male_Female/speaker19_002.wav', '/home/hashim/PHD/audio_data/AllAudioSamples/Laser_Male_Female/speaker19_003.wav', '/home/hashim/PHD/audio_data/AllAudioSamples/Laser_Male_Female/speaker19_004.wav', '/home/hashim/PHD/audio_data/AllAudioSamples/Laser_Male_Female/speaker19_005.wav']\n",
      "95\n"
     ]
    }
   ],
   "source": [
    "laser_dir = '/home/hashim/PHD/audio_data/AllAudioSamples/Laser_Male_Female/'\n",
    "laser_files = list(glob.glob(os.path.join(laser_dir, '*.wav')))\n",
    "laser_files.sort(key=extract_speaker_num)\n",
    "print(laser_files)\n",
    "print(len(laser_files))"
   ]
  },
  {
   "cell_type": "code",
   "execution_count": 27,
   "id": "f9a0dbff",
   "metadata": {},
   "outputs": [
    {
     "name": "stdout",
     "output_type": "stream",
     "text": [
      "['/home/hashim/PHD/audio_data/AllAudioSamples/Original_Male_Female/speaker1_001.wav', '/home/hashim/PHD/audio_data/AllAudioSamples/Original_Male_Female/speaker1_002.wav', '/home/hashim/PHD/audio_data/AllAudioSamples/Original_Male_Female/speaker1_003.wav', '/home/hashim/PHD/audio_data/AllAudioSamples/Original_Male_Female/speaker1_004.wav', '/home/hashim/PHD/audio_data/AllAudioSamples/Original_Male_Female/speaker1_005.wav', '/home/hashim/PHD/audio_data/AllAudioSamples/Original_Male_Female/speaker2_001.wav', '/home/hashim/PHD/audio_data/AllAudioSamples/Original_Male_Female/speaker2_002.wav', '/home/hashim/PHD/audio_data/AllAudioSamples/Original_Male_Female/speaker2_003.wav', '/home/hashim/PHD/audio_data/AllAudioSamples/Original_Male_Female/speaker2_004.wav', '/home/hashim/PHD/audio_data/AllAudioSamples/Original_Male_Female/speaker2_005.wav', '/home/hashim/PHD/audio_data/AllAudioSamples/Original_Male_Female/speaker3_001.wav', '/home/hashim/PHD/audio_data/AllAudioSamples/Original_Male_Female/speaker3_002.wav', '/home/hashim/PHD/audio_data/AllAudioSamples/Original_Male_Female/speaker3_003.wav', '/home/hashim/PHD/audio_data/AllAudioSamples/Original_Male_Female/speaker3_004.wav', '/home/hashim/PHD/audio_data/AllAudioSamples/Original_Male_Female/speaker3_005.wav', '/home/hashim/PHD/audio_data/AllAudioSamples/Original_Male_Female/speaker4_001.wav', '/home/hashim/PHD/audio_data/AllAudioSamples/Original_Male_Female/speaker4_002.wav', '/home/hashim/PHD/audio_data/AllAudioSamples/Original_Male_Female/speaker4_003.wav', '/home/hashim/PHD/audio_data/AllAudioSamples/Original_Male_Female/speaker4_004.wav', '/home/hashim/PHD/audio_data/AllAudioSamples/Original_Male_Female/speaker4_005.wav', '/home/hashim/PHD/audio_data/AllAudioSamples/Original_Male_Female/speaker5_001.wav', '/home/hashim/PHD/audio_data/AllAudioSamples/Original_Male_Female/speaker5_002.wav', '/home/hashim/PHD/audio_data/AllAudioSamples/Original_Male_Female/speaker5_003.wav', '/home/hashim/PHD/audio_data/AllAudioSamples/Original_Male_Female/speaker5_004.wav', '/home/hashim/PHD/audio_data/AllAudioSamples/Original_Male_Female/speaker5_005.wav', '/home/hashim/PHD/audio_data/AllAudioSamples/Original_Male_Female/speaker6_001.wav', '/home/hashim/PHD/audio_data/AllAudioSamples/Original_Male_Female/speaker6_002.wav', '/home/hashim/PHD/audio_data/AllAudioSamples/Original_Male_Female/speaker6_003.wav', '/home/hashim/PHD/audio_data/AllAudioSamples/Original_Male_Female/speaker6_004.wav', '/home/hashim/PHD/audio_data/AllAudioSamples/Original_Male_Female/speaker6_005.wav', '/home/hashim/PHD/audio_data/AllAudioSamples/Original_Male_Female/speaker7_001.wav', '/home/hashim/PHD/audio_data/AllAudioSamples/Original_Male_Female/speaker7_002.wav', '/home/hashim/PHD/audio_data/AllAudioSamples/Original_Male_Female/speaker7_003.wav', '/home/hashim/PHD/audio_data/AllAudioSamples/Original_Male_Female/speaker7_004.wav', '/home/hashim/PHD/audio_data/AllAudioSamples/Original_Male_Female/speaker7_005.wav', '/home/hashim/PHD/audio_data/AllAudioSamples/Original_Male_Female/speaker8_001.wav', '/home/hashim/PHD/audio_data/AllAudioSamples/Original_Male_Female/speaker8_002.wav', '/home/hashim/PHD/audio_data/AllAudioSamples/Original_Male_Female/speaker8_003.wav', '/home/hashim/PHD/audio_data/AllAudioSamples/Original_Male_Female/speaker8_004.wav', '/home/hashim/PHD/audio_data/AllAudioSamples/Original_Male_Female/speaker8_005.wav', '/home/hashim/PHD/audio_data/AllAudioSamples/Original_Male_Female/speaker9_001.wav', '/home/hashim/PHD/audio_data/AllAudioSamples/Original_Male_Female/speaker9_002.wav', '/home/hashim/PHD/audio_data/AllAudioSamples/Original_Male_Female/speaker9_003.wav', '/home/hashim/PHD/audio_data/AllAudioSamples/Original_Male_Female/speaker9_004.wav', '/home/hashim/PHD/audio_data/AllAudioSamples/Original_Male_Female/speaker9_005.wav', '/home/hashim/PHD/audio_data/AllAudioSamples/Original_Male_Female/speaker10_001.wav', '/home/hashim/PHD/audio_data/AllAudioSamples/Original_Male_Female/speaker10_002.wav', '/home/hashim/PHD/audio_data/AllAudioSamples/Original_Male_Female/speaker10_003.wav', '/home/hashim/PHD/audio_data/AllAudioSamples/Original_Male_Female/speaker10_004.wav', '/home/hashim/PHD/audio_data/AllAudioSamples/Original_Male_Female/speaker10_005.wav', '/home/hashim/PHD/audio_data/AllAudioSamples/Original_Male_Female/speaker11_001.wav', '/home/hashim/PHD/audio_data/AllAudioSamples/Original_Male_Female/speaker11_002.wav', '/home/hashim/PHD/audio_data/AllAudioSamples/Original_Male_Female/speaker11_003.wav', '/home/hashim/PHD/audio_data/AllAudioSamples/Original_Male_Female/speaker11_004.wav', '/home/hashim/PHD/audio_data/AllAudioSamples/Original_Male_Female/speaker11_005.wav', '/home/hashim/PHD/audio_data/AllAudioSamples/Original_Male_Female/speaker12_001.wav', '/home/hashim/PHD/audio_data/AllAudioSamples/Original_Male_Female/speaker12_002.wav', '/home/hashim/PHD/audio_data/AllAudioSamples/Original_Male_Female/speaker12_003.wav', '/home/hashim/PHD/audio_data/AllAudioSamples/Original_Male_Female/speaker12_004.wav', '/home/hashim/PHD/audio_data/AllAudioSamples/Original_Male_Female/speaker12_005.wav', '/home/hashim/PHD/audio_data/AllAudioSamples/Original_Male_Female/speaker13_001.wav', '/home/hashim/PHD/audio_data/AllAudioSamples/Original_Male_Female/speaker13_002.wav', '/home/hashim/PHD/audio_data/AllAudioSamples/Original_Male_Female/speaker13_003.wav', '/home/hashim/PHD/audio_data/AllAudioSamples/Original_Male_Female/speaker13_004.wav', '/home/hashim/PHD/audio_data/AllAudioSamples/Original_Male_Female/speaker13_005.wav', '/home/hashim/PHD/audio_data/AllAudioSamples/Original_Male_Female/speaker14_001.wav', '/home/hashim/PHD/audio_data/AllAudioSamples/Original_Male_Female/speaker14_002.wav', '/home/hashim/PHD/audio_data/AllAudioSamples/Original_Male_Female/speaker14_003.wav', '/home/hashim/PHD/audio_data/AllAudioSamples/Original_Male_Female/speaker14_004.wav', '/home/hashim/PHD/audio_data/AllAudioSamples/Original_Male_Female/speaker14_005.wav', '/home/hashim/PHD/audio_data/AllAudioSamples/Original_Male_Female/speaker15_001.wav', '/home/hashim/PHD/audio_data/AllAudioSamples/Original_Male_Female/speaker15_002.wav', '/home/hashim/PHD/audio_data/AllAudioSamples/Original_Male_Female/speaker15_003.wav', '/home/hashim/PHD/audio_data/AllAudioSamples/Original_Male_Female/speaker15_004.wav', '/home/hashim/PHD/audio_data/AllAudioSamples/Original_Male_Female/speaker15_005.wav', '/home/hashim/PHD/audio_data/AllAudioSamples/Original_Male_Female/speaker16_001.wav', '/home/hashim/PHD/audio_data/AllAudioSamples/Original_Male_Female/speaker16_002.wav', '/home/hashim/PHD/audio_data/AllAudioSamples/Original_Male_Female/speaker16_003.wav', '/home/hashim/PHD/audio_data/AllAudioSamples/Original_Male_Female/speaker16_004.wav', '/home/hashim/PHD/audio_data/AllAudioSamples/Original_Male_Female/speaker16_005.wav', '/home/hashim/PHD/audio_data/AllAudioSamples/Original_Male_Female/speaker17_001.wav', '/home/hashim/PHD/audio_data/AllAudioSamples/Original_Male_Female/speaker17_002.wav', '/home/hashim/PHD/audio_data/AllAudioSamples/Original_Male_Female/speaker17_003.wav', '/home/hashim/PHD/audio_data/AllAudioSamples/Original_Male_Female/speaker17_004.wav', '/home/hashim/PHD/audio_data/AllAudioSamples/Original_Male_Female/speaker17_005.wav', '/home/hashim/PHD/audio_data/AllAudioSamples/Original_Male_Female/speaker18_001.wav', '/home/hashim/PHD/audio_data/AllAudioSamples/Original_Male_Female/speaker18_002.wav', '/home/hashim/PHD/audio_data/AllAudioSamples/Original_Male_Female/speaker18_003.wav', '/home/hashim/PHD/audio_data/AllAudioSamples/Original_Male_Female/speaker18_004.wav', '/home/hashim/PHD/audio_data/AllAudioSamples/Original_Male_Female/speaker18_005.wav', '/home/hashim/PHD/audio_data/AllAudioSamples/Original_Male_Female/speaker19_001.wav', '/home/hashim/PHD/audio_data/AllAudioSamples/Original_Male_Female/speaker19_002.wav', '/home/hashim/PHD/audio_data/AllAudioSamples/Original_Male_Female/speaker19_003.wav', '/home/hashim/PHD/audio_data/AllAudioSamples/Original_Male_Female/speaker19_004.wav', '/home/hashim/PHD/audio_data/AllAudioSamples/Original_Male_Female/speaker19_005.wav']\n",
      "95\n"
     ]
    }
   ],
   "source": [
    "orig_dir = '/home/hashim/PHD/audio_data/AllAudioSamples/Original_Male_Female/'\n",
    "orig_files = list(glob.glob(os.path.join(orig_dir, '*wav')))\n",
    "orig_files.sort(key=extract_speaker_num)\n",
    "print(orig_files)\n",
    "print(len(orig_files))"
   ]
  },
  {
   "cell_type": "code",
   "execution_count": 28,
   "id": "50bc7e4d",
   "metadata": {},
   "outputs": [],
   "source": [
    "sample_id = 10\n",
    "laser_sample = laser_files[sample_id]\n",
    "gen_sample = orig_files[sample_id]"
   ]
  },
  {
   "cell_type": "code",
   "execution_count": 29,
   "id": "88e47574",
   "metadata": {},
   "outputs": [],
   "source": [
    "audio_data, sr = librosa.load(laser_sample, res_type='kaiser_fast')"
   ]
  },
  {
   "cell_type": "code",
   "execution_count": 30,
   "id": "70f207bc",
   "metadata": {},
   "outputs": [
    {
     "name": "stdout",
     "output_type": "stream",
     "text": [
      "100725\n"
     ]
    },
    {
     "data": {
      "text/plain": [
       "array([ 0.00026551,  0.00042113,  0.00012006, ..., -0.00093125,\n",
       "       -0.00022951,  0.        ], dtype=float32)"
      ]
     },
     "execution_count": 30,
     "metadata": {},
     "output_type": "execute_result"
    }
   ],
   "source": [
    "print(len(audio_data))\n",
    "audio_data"
   ]
  },
  {
   "cell_type": "code",
   "execution_count": 32,
   "id": "800d30f8",
   "metadata": {},
   "outputs": [
    {
     "name": "stdout",
     "output_type": "stream",
     "text": [
      "/home/hashim/PHD/audio_data/AllAudioSamples/combined_male_female_speaker/original_laser_speaker1_001.wav\n",
      "/home/hashim/PHD/audio_data/AllAudioSamples/combined_male_female_speaker/original_laser_speaker1_002.wav\n",
      "/home/hashim/PHD/audio_data/AllAudioSamples/combined_male_female_speaker/original_laser_speaker1_003.wav\n",
      "/home/hashim/PHD/audio_data/AllAudioSamples/combined_male_female_speaker/original_laser_speaker1_004.wav\n",
      "/home/hashim/PHD/audio_data/AllAudioSamples/combined_male_female_speaker/original_laser_speaker1_005.wav\n",
      "/home/hashim/PHD/audio_data/AllAudioSamples/combined_male_female_speaker/original_laser_speaker2_001.wav\n",
      "/home/hashim/PHD/audio_data/AllAudioSamples/combined_male_female_speaker/original_laser_speaker2_002.wav\n",
      "/home/hashim/PHD/audio_data/AllAudioSamples/combined_male_female_speaker/original_laser_speaker2_003.wav\n",
      "/home/hashim/PHD/audio_data/AllAudioSamples/combined_male_female_speaker/original_laser_speaker2_004.wav\n",
      "/home/hashim/PHD/audio_data/AllAudioSamples/combined_male_female_speaker/original_laser_speaker2_005.wav\n",
      "/home/hashim/PHD/audio_data/AllAudioSamples/combined_male_female_speaker/original_laser_speaker3_001.wav\n",
      "/home/hashim/PHD/audio_data/AllAudioSamples/combined_male_female_speaker/original_laser_speaker3_002.wav\n",
      "/home/hashim/PHD/audio_data/AllAudioSamples/combined_male_female_speaker/original_laser_speaker3_003.wav\n",
      "/home/hashim/PHD/audio_data/AllAudioSamples/combined_male_female_speaker/original_laser_speaker3_004.wav\n",
      "/home/hashim/PHD/audio_data/AllAudioSamples/combined_male_female_speaker/original_laser_speaker3_005.wav\n",
      "/home/hashim/PHD/audio_data/AllAudioSamples/combined_male_female_speaker/original_laser_speaker4_001.wav\n",
      "/home/hashim/PHD/audio_data/AllAudioSamples/combined_male_female_speaker/original_laser_speaker4_002.wav\n",
      "/home/hashim/PHD/audio_data/AllAudioSamples/combined_male_female_speaker/original_laser_speaker4_003.wav\n",
      "/home/hashim/PHD/audio_data/AllAudioSamples/combined_male_female_speaker/original_laser_speaker4_004.wav\n",
      "/home/hashim/PHD/audio_data/AllAudioSamples/combined_male_female_speaker/original_laser_speaker4_005.wav\n",
      "/home/hashim/PHD/audio_data/AllAudioSamples/combined_male_female_speaker/original_laser_speaker5_001.wav\n",
      "/home/hashim/PHD/audio_data/AllAudioSamples/combined_male_female_speaker/original_laser_speaker5_002.wav\n",
      "/home/hashim/PHD/audio_data/AllAudioSamples/combined_male_female_speaker/original_laser_speaker5_003.wav\n",
      "/home/hashim/PHD/audio_data/AllAudioSamples/combined_male_female_speaker/original_laser_speaker5_004.wav\n",
      "/home/hashim/PHD/audio_data/AllAudioSamples/combined_male_female_speaker/original_laser_speaker5_005.wav\n",
      "/home/hashim/PHD/audio_data/AllAudioSamples/combined_male_female_speaker/original_laser_speaker6_001.wav\n",
      "/home/hashim/PHD/audio_data/AllAudioSamples/combined_male_female_speaker/original_laser_speaker6_002.wav\n",
      "/home/hashim/PHD/audio_data/AllAudioSamples/combined_male_female_speaker/original_laser_speaker6_003.wav\n",
      "/home/hashim/PHD/audio_data/AllAudioSamples/combined_male_female_speaker/original_laser_speaker6_004.wav\n",
      "/home/hashim/PHD/audio_data/AllAudioSamples/combined_male_female_speaker/original_laser_speaker6_005.wav\n",
      "/home/hashim/PHD/audio_data/AllAudioSamples/combined_male_female_speaker/original_laser_speaker7_001.wav\n",
      "/home/hashim/PHD/audio_data/AllAudioSamples/combined_male_female_speaker/original_laser_speaker7_002.wav\n",
      "/home/hashim/PHD/audio_data/AllAudioSamples/combined_male_female_speaker/original_laser_speaker7_003.wav\n",
      "/home/hashim/PHD/audio_data/AllAudioSamples/combined_male_female_speaker/original_laser_speaker7_004.wav\n",
      "/home/hashim/PHD/audio_data/AllAudioSamples/combined_male_female_speaker/original_laser_speaker7_005.wav\n",
      "/home/hashim/PHD/audio_data/AllAudioSamples/combined_male_female_speaker/original_laser_speaker8_001.wav\n",
      "/home/hashim/PHD/audio_data/AllAudioSamples/combined_male_female_speaker/original_laser_speaker8_002.wav\n",
      "/home/hashim/PHD/audio_data/AllAudioSamples/combined_male_female_speaker/original_laser_speaker8_003.wav\n",
      "/home/hashim/PHD/audio_data/AllAudioSamples/combined_male_female_speaker/original_laser_speaker8_004.wav\n",
      "/home/hashim/PHD/audio_data/AllAudioSamples/combined_male_female_speaker/original_laser_speaker8_005.wav\n",
      "/home/hashim/PHD/audio_data/AllAudioSamples/combined_male_female_speaker/original_laser_speaker9_001.wav\n",
      "/home/hashim/PHD/audio_data/AllAudioSamples/combined_male_female_speaker/original_laser_speaker9_002.wav\n",
      "/home/hashim/PHD/audio_data/AllAudioSamples/combined_male_female_speaker/original_laser_speaker9_003.wav\n",
      "/home/hashim/PHD/audio_data/AllAudioSamples/combined_male_female_speaker/original_laser_speaker9_004.wav\n",
      "/home/hashim/PHD/audio_data/AllAudioSamples/combined_male_female_speaker/original_laser_speaker9_005.wav\n",
      "/home/hashim/PHD/audio_data/AllAudioSamples/combined_male_female_speaker/original_laser_speaker10_001.wav\n",
      "/home/hashim/PHD/audio_data/AllAudioSamples/combined_male_female_speaker/original_laser_speaker10_002.wav\n",
      "/home/hashim/PHD/audio_data/AllAudioSamples/combined_male_female_speaker/original_laser_speaker10_003.wav\n",
      "/home/hashim/PHD/audio_data/AllAudioSamples/combined_male_female_speaker/original_laser_speaker10_004.wav\n",
      "/home/hashim/PHD/audio_data/AllAudioSamples/combined_male_female_speaker/original_laser_speaker10_005.wav\n",
      "/home/hashim/PHD/audio_data/AllAudioSamples/combined_male_female_speaker/original_laser_speaker11_001.wav\n",
      "/home/hashim/PHD/audio_data/AllAudioSamples/combined_male_female_speaker/original_laser_speaker11_002.wav\n",
      "/home/hashim/PHD/audio_data/AllAudioSamples/combined_male_female_speaker/original_laser_speaker11_003.wav\n",
      "/home/hashim/PHD/audio_data/AllAudioSamples/combined_male_female_speaker/original_laser_speaker11_004.wav\n",
      "/home/hashim/PHD/audio_data/AllAudioSamples/combined_male_female_speaker/original_laser_speaker11_005.wav\n",
      "/home/hashim/PHD/audio_data/AllAudioSamples/combined_male_female_speaker/original_laser_speaker12_001.wav\n",
      "/home/hashim/PHD/audio_data/AllAudioSamples/combined_male_female_speaker/original_laser_speaker12_002.wav\n",
      "/home/hashim/PHD/audio_data/AllAudioSamples/combined_male_female_speaker/original_laser_speaker12_003.wav\n",
      "/home/hashim/PHD/audio_data/AllAudioSamples/combined_male_female_speaker/original_laser_speaker12_004.wav\n",
      "/home/hashim/PHD/audio_data/AllAudioSamples/combined_male_female_speaker/original_laser_speaker12_005.wav\n",
      "/home/hashim/PHD/audio_data/AllAudioSamples/combined_male_female_speaker/original_laser_speaker13_001.wav\n",
      "/home/hashim/PHD/audio_data/AllAudioSamples/combined_male_female_speaker/original_laser_speaker13_002.wav\n",
      "/home/hashim/PHD/audio_data/AllAudioSamples/combined_male_female_speaker/original_laser_speaker13_003.wav\n",
      "/home/hashim/PHD/audio_data/AllAudioSamples/combined_male_female_speaker/original_laser_speaker13_004.wav\n",
      "/home/hashim/PHD/audio_data/AllAudioSamples/combined_male_female_speaker/original_laser_speaker13_005.wav\n",
      "/home/hashim/PHD/audio_data/AllAudioSamples/combined_male_female_speaker/original_laser_speaker14_001.wav\n",
      "/home/hashim/PHD/audio_data/AllAudioSamples/combined_male_female_speaker/original_laser_speaker14_002.wav\n",
      "/home/hashim/PHD/audio_data/AllAudioSamples/combined_male_female_speaker/original_laser_speaker14_003.wav\n",
      "/home/hashim/PHD/audio_data/AllAudioSamples/combined_male_female_speaker/original_laser_speaker14_004.wav\n",
      "/home/hashim/PHD/audio_data/AllAudioSamples/combined_male_female_speaker/original_laser_speaker14_005.wav\n",
      "/home/hashim/PHD/audio_data/AllAudioSamples/combined_male_female_speaker/original_laser_speaker15_001.wav\n",
      "/home/hashim/PHD/audio_data/AllAudioSamples/combined_male_female_speaker/original_laser_speaker15_002.wav\n",
      "/home/hashim/PHD/audio_data/AllAudioSamples/combined_male_female_speaker/original_laser_speaker15_003.wav\n",
      "/home/hashim/PHD/audio_data/AllAudioSamples/combined_male_female_speaker/original_laser_speaker15_004.wav\n",
      "/home/hashim/PHD/audio_data/AllAudioSamples/combined_male_female_speaker/original_laser_speaker15_005.wav\n",
      "/home/hashim/PHD/audio_data/AllAudioSamples/combined_male_female_speaker/original_laser_speaker16_001.wav\n",
      "/home/hashim/PHD/audio_data/AllAudioSamples/combined_male_female_speaker/original_laser_speaker16_002.wav\n",
      "/home/hashim/PHD/audio_data/AllAudioSamples/combined_male_female_speaker/original_laser_speaker16_003.wav\n",
      "/home/hashim/PHD/audio_data/AllAudioSamples/combined_male_female_speaker/original_laser_speaker16_004.wav\n",
      "/home/hashim/PHD/audio_data/AllAudioSamples/combined_male_female_speaker/original_laser_speaker16_005.wav\n",
      "/home/hashim/PHD/audio_data/AllAudioSamples/combined_male_female_speaker/original_laser_speaker17_001.wav\n",
      "/home/hashim/PHD/audio_data/AllAudioSamples/combined_male_female_speaker/original_laser_speaker17_002.wav\n",
      "/home/hashim/PHD/audio_data/AllAudioSamples/combined_male_female_speaker/original_laser_speaker17_003.wav\n",
      "/home/hashim/PHD/audio_data/AllAudioSamples/combined_male_female_speaker/original_laser_speaker17_004.wav\n",
      "/home/hashim/PHD/audio_data/AllAudioSamples/combined_male_female_speaker/original_laser_speaker17_005.wav\n",
      "/home/hashim/PHD/audio_data/AllAudioSamples/combined_male_female_speaker/original_laser_speaker18_001.wav\n",
      "/home/hashim/PHD/audio_data/AllAudioSamples/combined_male_female_speaker/original_laser_speaker18_002.wav\n",
      "/home/hashim/PHD/audio_data/AllAudioSamples/combined_male_female_speaker/original_laser_speaker18_003.wav\n",
      "/home/hashim/PHD/audio_data/AllAudioSamples/combined_male_female_speaker/original_laser_speaker18_004.wav\n",
      "/home/hashim/PHD/audio_data/AllAudioSamples/combined_male_female_speaker/original_laser_speaker18_005.wav\n",
      "/home/hashim/PHD/audio_data/AllAudioSamples/combined_male_female_speaker/original_laser_speaker19_001.wav\n",
      "/home/hashim/PHD/audio_data/AllAudioSamples/combined_male_female_speaker/original_laser_speaker19_002.wav\n",
      "/home/hashim/PHD/audio_data/AllAudioSamples/combined_male_female_speaker/original_laser_speaker19_003.wav\n",
      "/home/hashim/PHD/audio_data/AllAudioSamples/combined_male_female_speaker/original_laser_speaker19_004.wav\n",
      "/home/hashim/PHD/audio_data/AllAudioSamples/combined_male_female_speaker/original_laser_speaker19_005.wav\n"
     ]
    }
   ],
   "source": [
    "# stitching the laser and original audios and saving them\n",
    "\n",
    "out_folder = 'combined_male_female_speaker/'\n",
    "\n",
    "out_dir = '/home/hashim/PHD/audio_data/AllAudioSamples/' + out_folder\n",
    "\n",
    "if not os.path.exists(out_dir):\n",
    "    \n",
    "    os.makedirs(out_dir)\n",
    "    print(\"The new directory is created!\")\n",
    "    \n",
    "for i in range(len(laser_files)):\n",
    "    \n",
    "    original_audio = effects.normalize(AudioSegment.from_file(orig_files[i], format=\"wav\"))\n",
    "    laser_audio = effects.normalize(AudioSegment.from_file(laser_files[i], format=\"wav\"))\n",
    "\n",
    "    combined_audio = original_audio[:2000] + laser_audio[2000:]\n",
    "    \n",
    "    out_file = out_dir + 'original_laser_' + os.path.basename(os.path.normpath(orig_files[i]))\n",
    "    \n",
    "    print(out_file)\n",
    "\n",
    "    file_handle = combined_audio.export(out_file, format=\"wav\")"
   ]
  },
  {
   "cell_type": "code",
   "execution_count": null,
   "id": "1131016a",
   "metadata": {},
   "outputs": [],
   "source": [
    "model_dir = 'models/'\n",
    "model_filename = 'svm_model.sav'"
   ]
  },
  {
   "cell_type": "code",
   "execution_count": null,
   "id": "92e2301f",
   "metadata": {},
   "outputs": [],
   "source": [
    "# loading combined file paths\n",
    "\n",
    "comb_dir = '/home/hashim/PHD/audio_data/AllAudioSamples/combined/'\n",
    "comb_files = list(glob.glob(os.path.join(comb_dir, '*wav')))\n",
    "comb_files.sort()\n",
    "print(comb_files)\n",
    "print(len(comb_files))"
   ]
  },
  {
   "cell_type": "code",
   "execution_count": null,
   "id": "a5496f77",
   "metadata": {},
   "outputs": [],
   "source": [
    "db1 = pywt.Wavelet('db1')"
   ]
  },
  {
   "cell_type": "markdown",
   "id": "f990c83e",
   "metadata": {},
   "source": [
    "## Computing Features From the Combined Audios"
   ]
  },
  {
   "cell_type": "code",
   "execution_count": null,
   "id": "e5b2ccb3",
   "metadata": {},
   "outputs": [],
   "source": [
    "%%capture\n",
    "# compute coefficients for both laser and then compute variance, skewness and kurtosis\n",
    "\n",
    "comb_sigma_feat = []\n",
    "comb_skew_feat = []\n",
    "comb_kurt_feat = []\n",
    "\n",
    "for combf in comb_files:\n",
    "    audio_data, sr = librosa.load(combf, res_type='kaiser_fast')\n",
    "#     stft = librosa.stft(audio_data, n_fft=256)\n",
    "#     S_db = librosa.amplitude_to_db(np.abs(stft), ref=np.max)\n",
    "    coeffs = pywt.wavedec(audio_data, db1, mode='constant', level=5)\n",
    "    \n",
    "    \n",
    "    sigma_feat = []\n",
    "    skew_feat = []\n",
    "    kurt_feat = []\n",
    "    \n",
    "    for cf in coeffs:\n",
    "        \n",
    "#         cf = cf - np.mean(cf)\n",
    "        \n",
    "        sigma_feat.append(np.var(cf, ddof=1))\n",
    "        skew_feat.append(skew(cf))\n",
    "        kurt_feat.append(kurtosis(cf))\n",
    "        \n",
    "    comb_sigma_feat.append(sigma_feat)\n",
    "    comb_skew_feat.append(skew_feat)\n",
    "    comb_kurt_feat.append(kurt_feat)    \n",
    "    \n",
    "comb_sigma_feat = np.array(comb_sigma_feat)\n",
    "comb_skew_feat = np.array(comb_skew_feat)\n",
    "comb_kurt_feat = np.array(comb_kurt_feat)"
   ]
  },
  {
   "cell_type": "code",
   "execution_count": null,
   "id": "5afd7a3f",
   "metadata": {},
   "outputs": [],
   "source": [
    "print(comb_sigma_feat.shape)\n",
    "print(comb_skew_feat.shape)\n",
    "print(comb_kurt_feat.shape)"
   ]
  },
  {
   "cell_type": "markdown",
   "id": "fa97d3f2",
   "metadata": {},
   "source": [
    "## Prediction Using already trained model"
   ]
  },
  {
   "cell_type": "code",
   "execution_count": null,
   "id": "d76fc8c2",
   "metadata": {},
   "outputs": [],
   "source": [
    "import sklearn\n",
    "\n",
    "from sklearn.svm import LinearSVC\n",
    "from sklearn.pipeline import make_pipeline\n",
    "from sklearn.preprocessing import StandardScaler\n",
    "from sklearn.svm import SVC\n",
    "\n",
    "from sklearn.model_selection import train_test_split\n",
    "from sklearn.metrics import accuracy_score\n",
    "from sklearn.metrics import confusion_matrix, ConfusionMatrixDisplay\n",
    "from sklearn.metrics import plot_confusion_matrix"
   ]
  },
  {
   "cell_type": "code",
   "execution_count": null,
   "id": "2de4f3a0",
   "metadata": {},
   "outputs": [],
   "source": [
    "X_comb = np.concatenate((comb_sigma_feat, comb_sigma_feat, comb_kurt_feat), axis=1)\n",
    "comb_label = np.array(['laser']*X_comb.shape[0])\n",
    "print(comb_label)\n",
    "print(comb_label.shape)\n",
    "X_comb.shape"
   ]
  },
  {
   "cell_type": "code",
   "execution_count": null,
   "id": "1034032a",
   "metadata": {},
   "outputs": [],
   "source": [
    "scaler = StandardScaler().fit(X_comb)\n",
    "X_comb = scaler.transform(X_comb)"
   ]
  },
  {
   "cell_type": "code",
   "execution_count": null,
   "id": "488118ac",
   "metadata": {},
   "outputs": [],
   "source": [
    "# loading the saved model\n",
    "model_svm = pickle.load(open(model_dir + model_filename, 'rb'))"
   ]
  },
  {
   "cell_type": "code",
   "execution_count": null,
   "id": "3007a168",
   "metadata": {},
   "outputs": [],
   "source": [
    "y_pred_comb = model_svm.predict(X_comb)"
   ]
  },
  {
   "cell_type": "code",
   "execution_count": null,
   "id": "6687a05e",
   "metadata": {},
   "outputs": [],
   "source": [
    "y_pred_comb"
   ]
  },
  {
   "cell_type": "code",
   "execution_count": null,
   "id": "25c0dd72",
   "metadata": {},
   "outputs": [],
   "source": [
    "cm = confusion_matrix(comb_label, y_pred_comb)"
   ]
  },
  {
   "cell_type": "code",
   "execution_count": null,
   "id": "0688cb9c",
   "metadata": {},
   "outputs": [],
   "source": [
    "disp = ConfusionMatrixDisplay(confusion_matrix=cm, display_labels=model_svm.classes_)\n",
    "disp.plot()\n",
    "\n",
    "# plt.savefig(\"ConfusionMatrix\", dpi=300)"
   ]
  },
  {
   "cell_type": "code",
   "execution_count": null,
   "id": "ff3d0cdb",
   "metadata": {},
   "outputs": [],
   "source": [
    "model_svm.classes_"
   ]
  },
  {
   "cell_type": "code",
   "execution_count": null,
   "id": "f2ab51ab",
   "metadata": {},
   "outputs": [],
   "source": [
    "print(\"accuracy = \", accuracy_score(comb_label, y_pred_comb))"
   ]
  },
  {
   "cell_type": "markdown",
   "id": "a8f1596f",
   "metadata": {},
   "source": [
    "## Frame by Frame Analysis"
   ]
  },
  {
   "cell_type": "code",
   "execution_count": null,
   "id": "b04b6070",
   "metadata": {},
   "outputs": [],
   "source": [
    "frame_len = 1"
   ]
  },
  {
   "cell_type": "code",
   "execution_count": null,
   "id": "104a212d",
   "metadata": {},
   "outputs": [],
   "source": [
    "def audiosegment_to_librosawav(audiosegment):    \n",
    "    channel_sounds = audiosegment.split_to_mono()\n",
    "    samples = [s.get_array_of_samples() for s in channel_sounds]\n",
    "\n",
    "    fp_arr = np.array(samples).T.astype(np.float32)\n",
    "    fp_arr /= np.iinfo(samples[0].typecode).max\n",
    "    fp_arr = fp_arr.reshape(-1)\n",
    "\n",
    "    return fp_arr"
   ]
  },
  {
   "cell_type": "code",
   "execution_count": null,
   "id": "4402c7a2",
   "metadata": {},
   "outputs": [],
   "source": [
    "comb_true_labels = []\n",
    "    \n",
    "# comb_sigma_feat = np.array([])\n",
    "# comb_skew_feat = np.array([])\n",
    "# comb_kurt_feat = np.array([])\n",
    "\n",
    "combf_dict = collections.defaultdict(dict)\n",
    "\n",
    "\n",
    "for i, combf in enumerate(comb_files):\n",
    "    \n",
    "    comb_audio = AudioSegment.from_file(combf, format=\"wav\")\n",
    "    \n",
    "    # split comb audio in 1-second slices\n",
    "    comb_slices_1sec = comb_audio[::1000]\n",
    "    \n",
    "#     samples = comb_audio.get_array_of_samples()\n",
    "\n",
    "    true_labels = []\n",
    "    \n",
    "    sigma_feat_slice = []\n",
    "    skew_feat_slice = []\n",
    "    kurt_feat_slice = []\n",
    "\n",
    "    for j, comb_slice in enumerate(comb_slices_1sec):\n",
    "        \n",
    "        # converting to numpy float32 array\n",
    "#         channel_sounds = comb_slice.split_to_mono()\n",
    "#         samples = [s.get_array_of_samples() for s in channel_sounds]\n",
    "        \n",
    "#         fp_arr = np.array(samples).T.astype(np.float32)\n",
    "#         fp_arr /= np.iinfo(samples[0].typecode).max\n",
    "        \n",
    "        fp_arr = audiosegment_to_librosawav(comb_slice)\n",
    "        \n",
    "        coeffs = pywt.wavedec(fp_arr, db1, mode='constant', level=5)\n",
    "        \n",
    "        sigma_feat = []\n",
    "        skew_feat = []\n",
    "        kurt_feat = []\n",
    "\n",
    "        for cf in coeffs:\n",
    "\n",
    "            sigma_feat.append(np.var(cf, ddof=1))\n",
    "            skew_feat.append(skew(cf))\n",
    "            kurt_feat.append(kurtosis(cf))\n",
    "\n",
    "        sigma_feat_slice.append(sigma_feat)\n",
    "        skew_feat_slice.append(skew_feat)\n",
    "        kurt_feat_slice.append(kurt_feat) \n",
    "\n",
    "#         comb_sigma_feat[i][j] = sigma_feat\n",
    "#         comb_skew_feat[i][j] = skew_feat\n",
    "#         comb_kurt_feat[i][j] = kurt_feat\n",
    "        \n",
    "        if j < 2:\n",
    "            true_labels.append('original')\n",
    "        else:\n",
    "            true_labels.append('laser')\n",
    "            \n",
    "#         if j == 1:\n",
    "#             true_labels.append('laser')\n",
    "#         else:\n",
    "#             true_labels.append('original')\n",
    "                \n",
    "#         i+=1\n",
    "#         print(j)\n",
    "    \n",
    "#     comb_true_labels.append(true_labels)\n",
    "#     comb_sigma_feat.append(sigma_feat_slice)\n",
    "#     comb_skew_feat.append(skew_feat_slice)\n",
    "#     comb_kurt_feat.append(kurt_feat_slice)\n",
    "\n",
    "    \n",
    "    sigma_feat_slice = np.squeeze(np.array(sigma_feat_slice))\n",
    "    skew_feat_slice = np.squeeze(np.array(skew_feat_slice))\n",
    "    kurt_feat_slice = np.squeeze(np.array(kurt_feat_slice))\n",
    "    \n",
    "    print(sigma_feat_slice.shape)\n",
    "    print(skew_feat_slice.shape)\n",
    "    print(kurt_feat_slice.shape)\n",
    "\n",
    "    combf_dict[i]['feat'] = np.concatenate((sigma_feat_slice, skew_feat_slice, kurt_feat_slice), axis=1)\n",
    "    combf_dict[i]['labels'] = true_labels\n",
    "    \n",
    "# comb_sigma_feat = np.array(comb_sigma_feat)\n",
    "# comb_skew_feat = np.array(comb_skew_feat)\n",
    "# comb_kurt_feat = np.array(comb_kurt_feat)"
   ]
  },
  {
   "cell_type": "code",
   "execution_count": null,
   "id": "447bb10b",
   "metadata": {},
   "outputs": [],
   "source": [
    "combf_dict"
   ]
  },
  {
   "cell_type": "code",
   "execution_count": null,
   "id": "3c4f7aed",
   "metadata": {},
   "outputs": [],
   "source": [
    "# accuracy rate (frame error rate)\n",
    "\n",
    "# frame size using is multiple of the actual original audio\n",
    "\n",
    "# typical utterance is 10 ms for humans (multiples of that)\n",
    "\n",
    "# too samll window gives better time resolution but will be more computationally expensive but\n",
    "\n",
    "# framze size increases, computatilaly better but lower accuracy, border frames are bound to be uncertain untill unless your analysis window is multiple of the injected audio (by stroke of luck)\n",
    "\n",
    "# use overlapping windows"
   ]
  },
  {
   "cell_type": "markdown",
   "id": "e897d7eb",
   "metadata": {},
   "source": [
    "## Predicting the labels on each file"
   ]
  },
  {
   "cell_type": "code",
   "execution_count": null,
   "id": "21da6945",
   "metadata": {},
   "outputs": [],
   "source": [
    "combf_keys = combf_dict.keys()\n",
    "combf_keys"
   ]
  },
  {
   "cell_type": "code",
   "execution_count": null,
   "id": "9cddb6f4",
   "metadata": {},
   "outputs": [],
   "source": [
    "# fig, axes = plt.subplots(nrows=25, ncols=2, figsize=(8, 80))\n",
    "\n",
    "pred_label_dict = dict()\n",
    "\n",
    "accuracy_dict = dict()\n",
    "\n",
    "for key in combf_dict:\n",
    "    \n",
    "    X_comb = combf_dict[key]['feat']\n",
    "    comb_labels = combf_dict[key]['labels']\n",
    "    \n",
    "    scaler = StandardScaler().fit(X_comb)\n",
    "    X_comb = scaler.transform(X_comb)\n",
    "    \n",
    "    pred_labels = model_svm.predict(X_comb)\n",
    "    \n",
    "    accuracy_dict[key] = accuracy_score(comb_labels, pred_labels)\n",
    "    \n",
    "#     print(\"True Labels = \", comb_labels)\n",
    "#     print(\"Predicted Labels = \", pred_labels)\n",
    "\n",
    "#     plot_confusion_matrix(model_svm, X_comb, comb_labels, ax=ax, display_labels=['laser', 'original'])\n",
    "\n",
    "#     cm = confusion_matrix(comb_labels, pred_labels)\n",
    "#     disp = ConfusionMatrixDisplay(confusion_matrix=cm, display_labels=model_svm.classes_)\n",
    "#     disp.plot(ax=ax)\n",
    "\n",
    "# plt.tight_layout()  \n",
    "# plt.show()"
   ]
  },
  {
   "cell_type": "code",
   "execution_count": null,
   "id": "ece578c0",
   "metadata": {},
   "outputs": [],
   "source": [
    "accuracy_dict\n",
    "\n",
    "avg_accuracy = sum(accuracy_dict.values())/len(accuracy_dict)\n",
    "avg_accuracy"
   ]
  },
  {
   "cell_type": "code",
   "execution_count": null,
   "id": "fd18f8a5",
   "metadata": {},
   "outputs": [],
   "source": [
    "accuracy_dict"
   ]
  },
  {
   "cell_type": "code",
   "execution_count": null,
   "id": "073cc284",
   "metadata": {},
   "outputs": [],
   "source": [
    "# dig deep into a single frame \n",
    "# if a certain frame is totally original and labelled as laser and vice versa\n",
    "\n",
    "# why those frames are predicted wrong\n",
    "\n",
    "# Highlight the border frames\n",
    "\n",
    "# if we take out the border frames, what will be accuracy then\n",
    "\n",
    "# probablisitic decision instead of a binary decision (future)\n",
    "\n",
    "# Do 50% sliding\n",
    "\n",
    "# Theoretical in the paper(tw -> advance window, ti -> injection window)\n",
    "\n",
    "# motivation behind 1 sec window is that our experimental investigation says that 'Hey Google' is a 1 sec utterance for most of the speakers."
   ]
  },
  {
   "cell_type": "markdown",
   "id": "56a94cc8",
   "metadata": {},
   "source": [
    "## Frame by Frame Analysis Using LogVar "
   ]
  },
  {
   "cell_type": "code",
   "execution_count": null,
   "id": "b1f3f74b",
   "metadata": {},
   "outputs": [],
   "source": [
    "comb_true_labels = []\n",
    "    \n",
    "# comb_sigma_feat = np.array([])\n",
    "# comb_skew_feat = np.array([])\n",
    "# comb_kurt_feat = np.array([])\n",
    "\n",
    "combf_dict = collections.defaultdict(dict)\n",
    "\n",
    "\n",
    "for i, combf in enumerate(comb_files):\n",
    "    \n",
    "    comb_audio = AudioSegment.from_file(combf, format=\"wav\")\n",
    "    \n",
    "    # split comb audio in 1-second slices\n",
    "    comb_slices_1sec = comb_audio[::1000]\n",
    "    \n",
    "#     samples = comb_audio.get_array_of_samples()\n",
    "\n",
    "    true_labels = []\n",
    "    \n",
    "    sigma_feat_slice = []\n",
    "    skew_feat_slice = []\n",
    "    kurt_feat_slice = []\n",
    "\n",
    "    for j, comb_slice in enumerate(comb_slices_1sec):\n",
    "        \n",
    "        # converting to numpy float32 array\n",
    "#         channel_sounds = comb_slice.split_to_mono()\n",
    "#         samples = [s.get_array_of_samples() for s in channel_sounds]\n",
    "        \n",
    "#         fp_arr = np.array(samples).T.astype(np.float32)\n",
    "#         fp_arr /= np.iinfo(samples[0].typecode).max\n",
    "        \n",
    "        fp_arr = audiosegment_to_librosawav(comb_slice)\n",
    "        \n",
    "        coeffs = pywt.wavedec(fp_arr, db1, mode='constant', level=5)\n",
    "        \n",
    "        sigma_feat = []\n",
    "        skew_feat = []\n",
    "        kurt_feat = []\n",
    "\n",
    "        for cf in coeffs:\n",
    "\n",
    "            sigma_feat.append(np.log(np.var(cf)))\n",
    "            skew_feat.append(skew(cf))\n",
    "            kurt_feat.append(kurtosis(cf))\n",
    "\n",
    "        sigma_feat_slice.append(sigma_feat)\n",
    "        skew_feat_slice.append(skew_feat)\n",
    "        kurt_feat_slice.append(kurt_feat) \n",
    "\n",
    "#         comb_sigma_feat[i][j] = sigma_feat\n",
    "#         comb_skew_feat[i][j] = skew_feat\n",
    "#         comb_kurt_feat[i][j] = kurt_feat\n",
    "        \n",
    "        if j < 2:\n",
    "            true_labels.append('original')\n",
    "        else:\n",
    "            true_labels.append('laser')\n",
    "            \n",
    "#         if j == 1:\n",
    "#             true_labels.append('laser')\n",
    "#         else:\n",
    "#             true_labels.append('original')\n",
    "                \n",
    "#         i+=1\n",
    "#         print(j)\n",
    "    \n",
    "#     comb_true_labels.append(true_labels)\n",
    "#     comb_sigma_feat.append(sigma_feat_slice)\n",
    "#     comb_skew_feat.append(skew_feat_slice)\n",
    "#     comb_kurt_feat.append(kurt_feat_slice)\n",
    "\n",
    "    \n",
    "    sigma_feat_slice = np.squeeze(np.array(sigma_feat_slice))\n",
    "    skew_feat_slice = np.squeeze(np.array(skew_feat_slice))\n",
    "    kurt_feat_slice = np.squeeze(np.array(kurt_feat_slice))\n",
    "    \n",
    "#     print(sigma_feat_slice.shape)\n",
    "#     print(skew_feat_slice.shape)\n",
    "#     print(kurt_feat_slice.shape)\n",
    "\n",
    "    combf_dict[i]['feat'] = np.concatenate((sigma_feat_slice, skew_feat_slice, kurt_feat_slice), axis=1)\n",
    "    combf_dict[i]['labels'] = true_labels\n",
    "    \n",
    "# comb_sigma_feat = np.array(comb_sigma_feat)\n",
    "# comb_skew_feat = np.array(comb_skew_feat)\n",
    "# comb_kurt_feat = np.array(comb_kurt_feat)"
   ]
  },
  {
   "cell_type": "markdown",
   "id": "7dede390",
   "metadata": {},
   "source": [
    "## Predicting the labels on each file for Log Var data"
   ]
  },
  {
   "cell_type": "code",
   "execution_count": null,
   "id": "f0a8f79e",
   "metadata": {},
   "outputs": [],
   "source": [
    "model_dir = 'models/'\n",
    "model_filename = 'svm_model_log_sigma.sav'"
   ]
  },
  {
   "cell_type": "code",
   "execution_count": null,
   "id": "0514dbf2",
   "metadata": {},
   "outputs": [],
   "source": [
    "# loading the saved log var model\n",
    "model_svm_logvar = pickle.load(open(model_dir + model_filename, 'rb'))"
   ]
  },
  {
   "cell_type": "code",
   "execution_count": null,
   "id": "507d0aa4",
   "metadata": {},
   "outputs": [],
   "source": [
    "fig, axes = plt.subplots(nrows=25, ncols=2, figsize=(8, 80))\n",
    "\n",
    "pred_label_dict = dict()\n",
    "\n",
    "accuracy_dict = dict()\n",
    "\n",
    "for key, ax in zip(combf_dict, axes.flatten()):\n",
    "    \n",
    "    X_comb = combf_dict[key]['feat']\n",
    "    comb_labels = combf_dict[key]['labels']\n",
    "    \n",
    "#     scaler = StandardScaler().fit(X_comb)\n",
    "#     X_comb = scaler.transform(X_comb)\n",
    "    \n",
    "    pred_labels = model_svm_logvar.predict(X_comb)\n",
    "    \n",
    "    accuracy_dict[key] = accuracy_score(comb_labels, pred_labels)\n",
    "\n",
    "    cm = confusion_matrix(comb_labels, pred_labels)\n",
    "    disp = ConfusionMatrixDisplay(confusion_matrix=cm, display_labels=model_svm.classes_)\n",
    "    disp.plot(ax=ax)"
   ]
  },
  {
   "cell_type": "code",
   "execution_count": null,
   "id": "27e35670",
   "metadata": {},
   "outputs": [],
   "source": [
    "accuracy_dict\n",
    "\n",
    "avg_accuracy = sum(accuracy_dict.values())/len(accuracy_dict)\n",
    "avg_accuracy"
   ]
  },
  {
   "cell_type": "code",
   "execution_count": null,
   "id": "c6498357",
   "metadata": {},
   "outputs": [],
   "source": []
  },
  {
   "cell_type": "code",
   "execution_count": null,
   "id": "4e97d1b6",
   "metadata": {},
   "outputs": [],
   "source": []
  },
  {
   "cell_type": "code",
   "execution_count": null,
   "id": "b266018e",
   "metadata": {},
   "outputs": [],
   "source": []
  },
  {
   "cell_type": "code",
   "execution_count": null,
   "id": "0343d378",
   "metadata": {},
   "outputs": [],
   "source": []
  },
  {
   "cell_type": "code",
   "execution_count": null,
   "id": "48ecc687",
   "metadata": {},
   "outputs": [],
   "source": []
  }
 ],
 "metadata": {
  "kernelspec": {
   "display_name": "laser_injection",
   "language": "python",
   "name": "laser_injection"
  },
  "language_info": {
   "codemirror_mode": {
    "name": "ipython",
    "version": 3
   },
   "file_extension": ".py",
   "mimetype": "text/x-python",
   "name": "python",
   "nbconvert_exporter": "python",
   "pygments_lexer": "ipython3",
   "version": "3.8.10"
  }
 },
 "nbformat": 4,
 "nbformat_minor": 5
}
