{
 "cells": [
  {
   "cell_type": "code",
   "execution_count": 2,
   "id": "6285949d",
   "metadata": {},
   "outputs": [],
   "source": [
    "import pywt\n",
    "import os\n",
    "import pandas as pd\n",
    "import librosa\n",
    "import librosa.display\n",
    "import glob \n",
    "import numpy as np\n",
    "import matplotlib.pyplot as plt\n",
    "from matplotlib import cm\n",
    "import seaborn as sns\n",
    "from fitter import Fitter, get_common_distributions, get_distributions, HistFit\n",
    "from distfit import distfit\n",
    "from matplotlib.ticker import FormatStrFormatter\n",
    "\n",
    "from sklearn.preprocessing import StandardScaler\n",
    "import sklearn\n",
    "\n",
    "# from utils import plot_projections\n",
    "\n",
    "from scipy.stats import kurtosis, skew\n",
    "from scipy import stats\n",
    "\n",
    "import random\n",
    "\n",
    "%matplotlib widget"
   ]
  },
  {
   "cell_type": "code",
   "execution_count": 3,
   "id": "4dff7396",
   "metadata": {},
   "outputs": [
    {
     "name": "stdout",
     "output_type": "stream",
     "text": [
      "['/home/hashim/PHD/audio_data/AllAudioSamples/Laser/speaker10_001.wav', '/home/hashim/PHD/audio_data/AllAudioSamples/Laser/speaker10_002.wav', '/home/hashim/PHD/audio_data/AllAudioSamples/Laser/speaker10_003.wav', '/home/hashim/PHD/audio_data/AllAudioSamples/Laser/speaker10_004.wav', '/home/hashim/PHD/audio_data/AllAudioSamples/Laser/speaker10_005.wav', '/home/hashim/PHD/audio_data/AllAudioSamples/Laser/speaker1_001.wav', '/home/hashim/PHD/audio_data/AllAudioSamples/Laser/speaker1_002.wav', '/home/hashim/PHD/audio_data/AllAudioSamples/Laser/speaker1_003.wav', '/home/hashim/PHD/audio_data/AllAudioSamples/Laser/speaker1_004.wav', '/home/hashim/PHD/audio_data/AllAudioSamples/Laser/speaker1_005.wav', '/home/hashim/PHD/audio_data/AllAudioSamples/Laser/speaker2_001.wav', '/home/hashim/PHD/audio_data/AllAudioSamples/Laser/speaker2_002.wav', '/home/hashim/PHD/audio_data/AllAudioSamples/Laser/speaker2_003.wav', '/home/hashim/PHD/audio_data/AllAudioSamples/Laser/speaker2_004.wav', '/home/hashim/PHD/audio_data/AllAudioSamples/Laser/speaker2_005.wav', '/home/hashim/PHD/audio_data/AllAudioSamples/Laser/speaker3_001.wav', '/home/hashim/PHD/audio_data/AllAudioSamples/Laser/speaker3_002.wav', '/home/hashim/PHD/audio_data/AllAudioSamples/Laser/speaker3_003.wav', '/home/hashim/PHD/audio_data/AllAudioSamples/Laser/speaker3_004.wav', '/home/hashim/PHD/audio_data/AllAudioSamples/Laser/speaker3_005.wav', '/home/hashim/PHD/audio_data/AllAudioSamples/Laser/speaker4_001.wav', '/home/hashim/PHD/audio_data/AllAudioSamples/Laser/speaker4_002.wav', '/home/hashim/PHD/audio_data/AllAudioSamples/Laser/speaker4_003.wav', '/home/hashim/PHD/audio_data/AllAudioSamples/Laser/speaker4_004.wav', '/home/hashim/PHD/audio_data/AllAudioSamples/Laser/speaker4_005.wav', '/home/hashim/PHD/audio_data/AllAudioSamples/Laser/speaker5_001.wav', '/home/hashim/PHD/audio_data/AllAudioSamples/Laser/speaker5_002.wav', '/home/hashim/PHD/audio_data/AllAudioSamples/Laser/speaker5_003.wav', '/home/hashim/PHD/audio_data/AllAudioSamples/Laser/speaker5_004.wav', '/home/hashim/PHD/audio_data/AllAudioSamples/Laser/speaker5_005.wav', '/home/hashim/PHD/audio_data/AllAudioSamples/Laser/speaker6_001.wav', '/home/hashim/PHD/audio_data/AllAudioSamples/Laser/speaker6_002.wav', '/home/hashim/PHD/audio_data/AllAudioSamples/Laser/speaker6_003.wav', '/home/hashim/PHD/audio_data/AllAudioSamples/Laser/speaker6_004.wav', '/home/hashim/PHD/audio_data/AllAudioSamples/Laser/speaker6_005.wav', '/home/hashim/PHD/audio_data/AllAudioSamples/Laser/speaker7_001.wav', '/home/hashim/PHD/audio_data/AllAudioSamples/Laser/speaker7_002.wav', '/home/hashim/PHD/audio_data/AllAudioSamples/Laser/speaker7_003.wav', '/home/hashim/PHD/audio_data/AllAudioSamples/Laser/speaker7_004.wav', '/home/hashim/PHD/audio_data/AllAudioSamples/Laser/speaker7_005.wav', '/home/hashim/PHD/audio_data/AllAudioSamples/Laser/speaker8_001.wav', '/home/hashim/PHD/audio_data/AllAudioSamples/Laser/speaker8_002.wav', '/home/hashim/PHD/audio_data/AllAudioSamples/Laser/speaker8_003.wav', '/home/hashim/PHD/audio_data/AllAudioSamples/Laser/speaker8_004.wav', '/home/hashim/PHD/audio_data/AllAudioSamples/Laser/speaker8_005.wav', '/home/hashim/PHD/audio_data/AllAudioSamples/Laser/speaker9_001.wav', '/home/hashim/PHD/audio_data/AllAudioSamples/Laser/speaker9_002.wav', '/home/hashim/PHD/audio_data/AllAudioSamples/Laser/speaker9_003.wav', '/home/hashim/PHD/audio_data/AllAudioSamples/Laser/speaker9_004.wav', '/home/hashim/PHD/audio_data/AllAudioSamples/Laser/speaker9_005.wav']\n",
      "50\n"
     ]
    }
   ],
   "source": [
    "laser_dir = '/home/hashim/PHD/audio_data/AllAudioSamples/Laser/'\n",
    "laser_files = list(glob.glob(os.path.join(laser_dir, '*.wav')))\n",
    "laser_files.sort()\n",
    "print(laser_files)\n",
    "print(len(laser_files))"
   ]
  },
  {
   "cell_type": "code",
   "execution_count": 4,
   "id": "330d3ce0",
   "metadata": {},
   "outputs": [
    {
     "name": "stdout",
     "output_type": "stream",
     "text": [
      "['/home/hashim/PHD/audio_data/AllAudioSamples/Original/speaker10_001.wav', '/home/hashim/PHD/audio_data/AllAudioSamples/Original/speaker10_002.wav', '/home/hashim/PHD/audio_data/AllAudioSamples/Original/speaker10_003.wav', '/home/hashim/PHD/audio_data/AllAudioSamples/Original/speaker10_004.wav', '/home/hashim/PHD/audio_data/AllAudioSamples/Original/speaker10_005.wav', '/home/hashim/PHD/audio_data/AllAudioSamples/Original/speaker1_001.wav', '/home/hashim/PHD/audio_data/AllAudioSamples/Original/speaker1_002.wav', '/home/hashim/PHD/audio_data/AllAudioSamples/Original/speaker1_003.wav', '/home/hashim/PHD/audio_data/AllAudioSamples/Original/speaker1_004.wav', '/home/hashim/PHD/audio_data/AllAudioSamples/Original/speaker1_005.wav', '/home/hashim/PHD/audio_data/AllAudioSamples/Original/speaker2_001.wav', '/home/hashim/PHD/audio_data/AllAudioSamples/Original/speaker2_002.wav', '/home/hashim/PHD/audio_data/AllAudioSamples/Original/speaker2_003.wav', '/home/hashim/PHD/audio_data/AllAudioSamples/Original/speaker2_004.wav', '/home/hashim/PHD/audio_data/AllAudioSamples/Original/speaker2_005.wav', '/home/hashim/PHD/audio_data/AllAudioSamples/Original/speaker3_001.wav', '/home/hashim/PHD/audio_data/AllAudioSamples/Original/speaker3_002.wav', '/home/hashim/PHD/audio_data/AllAudioSamples/Original/speaker3_003.wav', '/home/hashim/PHD/audio_data/AllAudioSamples/Original/speaker3_004.wav', '/home/hashim/PHD/audio_data/AllAudioSamples/Original/speaker3_005.wav', '/home/hashim/PHD/audio_data/AllAudioSamples/Original/speaker4_001.wav', '/home/hashim/PHD/audio_data/AllAudioSamples/Original/speaker4_002.wav', '/home/hashim/PHD/audio_data/AllAudioSamples/Original/speaker4_003.wav', '/home/hashim/PHD/audio_data/AllAudioSamples/Original/speaker4_004.wav', '/home/hashim/PHD/audio_data/AllAudioSamples/Original/speaker4_005.wav', '/home/hashim/PHD/audio_data/AllAudioSamples/Original/speaker5_001.wav', '/home/hashim/PHD/audio_data/AllAudioSamples/Original/speaker5_002.wav', '/home/hashim/PHD/audio_data/AllAudioSamples/Original/speaker5_003.wav', '/home/hashim/PHD/audio_data/AllAudioSamples/Original/speaker5_004.wav', '/home/hashim/PHD/audio_data/AllAudioSamples/Original/speaker5_005.wav', '/home/hashim/PHD/audio_data/AllAudioSamples/Original/speaker6_001.wav', '/home/hashim/PHD/audio_data/AllAudioSamples/Original/speaker6_002.wav', '/home/hashim/PHD/audio_data/AllAudioSamples/Original/speaker6_003.wav', '/home/hashim/PHD/audio_data/AllAudioSamples/Original/speaker6_004.wav', '/home/hashim/PHD/audio_data/AllAudioSamples/Original/speaker6_005.wav', '/home/hashim/PHD/audio_data/AllAudioSamples/Original/speaker7_001.wav', '/home/hashim/PHD/audio_data/AllAudioSamples/Original/speaker7_002.wav', '/home/hashim/PHD/audio_data/AllAudioSamples/Original/speaker7_003.wav', '/home/hashim/PHD/audio_data/AllAudioSamples/Original/speaker7_004.wav', '/home/hashim/PHD/audio_data/AllAudioSamples/Original/speaker7_005.wav', '/home/hashim/PHD/audio_data/AllAudioSamples/Original/speaker8_001.wav', '/home/hashim/PHD/audio_data/AllAudioSamples/Original/speaker8_002.wav', '/home/hashim/PHD/audio_data/AllAudioSamples/Original/speaker8_003.wav', '/home/hashim/PHD/audio_data/AllAudioSamples/Original/speaker8_004.wav', '/home/hashim/PHD/audio_data/AllAudioSamples/Original/speaker8_005.wav', '/home/hashim/PHD/audio_data/AllAudioSamples/Original/speaker9_001.wav', '/home/hashim/PHD/audio_data/AllAudioSamples/Original/speaker9_002.wav', '/home/hashim/PHD/audio_data/AllAudioSamples/Original/speaker9_003.wav', '/home/hashim/PHD/audio_data/AllAudioSamples/Original/speaker9_004.wav', '/home/hashim/PHD/audio_data/AllAudioSamples/Original/speaker9_005.wav']\n",
      "50\n"
     ]
    }
   ],
   "source": [
    "orig_dir = '/home/hashim/PHD/audio_data/AllAudioSamples/Original/'\n",
    "orig_files = list(glob.glob(os.path.join(orig_dir, '*wav')))\n",
    "orig_files.sort()\n",
    "print(orig_files)\n",
    "print(len(orig_files))"
   ]
  },
  {
   "cell_type": "code",
   "execution_count": 5,
   "id": "1eaaa8e3",
   "metadata": {},
   "outputs": [],
   "source": [
    "db1 = pywt.Wavelet('db1')"
   ]
  },
  {
   "cell_type": "code",
   "execution_count": 6,
   "id": "c45f4576",
   "metadata": {},
   "outputs": [],
   "source": [
    "sample_id = 10"
   ]
  },
  {
   "cell_type": "markdown",
   "id": "5ea3357c",
   "metadata": {},
   "source": [
    "## Computing Coefficients"
   ]
  },
  {
   "cell_type": "code",
   "execution_count": 7,
   "id": "ef98a613",
   "metadata": {},
   "outputs": [],
   "source": [
    "laser_sample = laser_files[sample_id]\n",
    "gen_sample = orig_files[sample_id]\n",
    "\n",
    "laser_audio, sr = librosa.load(laser_sample, res_type='kaiser_fast')\n",
    "gen_audio, sr = librosa.load(gen_sample, res_type='kaiser_fast')\n",
    "\n",
    "laser_coeffs = pywt.wavedec(laser_audio, db1, mode='constant', level=5)\n",
    "gen_coeffs = pywt.wavedec(gen_audio, db1, mode='constant', level=5)"
   ]
  },
  {
   "cell_type": "code",
   "execution_count": 8,
   "id": "8ca8329f",
   "metadata": {},
   "outputs": [],
   "source": [
    "laser_coeffs = [l.tolist() for l in laser_coeffs]\n",
    "gen_coeffs = [l.tolist() for l in gen_coeffs]"
   ]
  },
  {
   "cell_type": "markdown",
   "id": "fcc827d7",
   "metadata": {},
   "source": [
    "### Coeff 0"
   ]
  },
  {
   "cell_type": "code",
   "execution_count": 9,
   "id": "929b755d",
   "metadata": {},
   "outputs": [
    {
     "data": {
      "application/vnd.jupyter.widget-view+json": {
       "model_id": "f83c36078b004333ad966e5e33669276",
       "version_major": 2,
       "version_minor": 0
      },
      "text/plain": [
       "Canvas(toolbar=Toolbar(toolitems=[('Home', 'Reset original view', 'home', 'home'), ('Back', 'Back to previous …"
      ]
     },
     "metadata": {},
     "output_type": "display_data"
    },
    {
     "name": "stdout",
     "output_type": "stream",
     "text": [
      "[distfit] >fit..\n",
      "[distfit] >transform..\n"
     ]
    },
    {
     "ename": "AttributeError",
     "evalue": "'list' object has no attribute 'dtype'",
     "output_type": "error",
     "traceback": [
      "\u001b[0;31m---------------------------------------------------------------------------\u001b[0m",
      "\u001b[0;31mAttributeError\u001b[0m                            Traceback (most recent call last)",
      "\u001b[0;32m/tmp/ipykernel_67097/3236439952.py\u001b[0m in \u001b[0;36m<module>\u001b[0;34m\u001b[0m\n\u001b[1;32m     24\u001b[0m \u001b[0;31m# Initialize\u001b[0m\u001b[0;34m\u001b[0m\u001b[0;34m\u001b[0m\u001b[0;34m\u001b[0m\u001b[0m\n\u001b[1;32m     25\u001b[0m \u001b[0mgen_dist\u001b[0m \u001b[0;34m=\u001b[0m \u001b[0mdistfit\u001b[0m\u001b[0;34m(\u001b[0m\u001b[0;34m)\u001b[0m\u001b[0;34m\u001b[0m\u001b[0;34m\u001b[0m\u001b[0m\n\u001b[0;32m---> 26\u001b[0;31m \u001b[0mgen_res\u001b[0m \u001b[0;34m=\u001b[0m \u001b[0mgen_dist\u001b[0m\u001b[0;34m.\u001b[0m\u001b[0mfit_transform\u001b[0m\u001b[0;34m(\u001b[0m\u001b[0mgen_coeffs\u001b[0m\u001b[0;34m[\u001b[0m\u001b[0;36m0\u001b[0m\u001b[0;34m]\u001b[0m\u001b[0;34m)\u001b[0m\u001b[0;34m\u001b[0m\u001b[0;34m\u001b[0m\u001b[0m\n\u001b[0m\u001b[1;32m     27\u001b[0m \u001b[0mgen_dist\u001b[0m\u001b[0;34m.\u001b[0m\u001b[0mplot\u001b[0m\u001b[0;34m(\u001b[0m\u001b[0max\u001b[0m \u001b[0;34m=\u001b[0m \u001b[0max\u001b[0m\u001b[0;34m)\u001b[0m\u001b[0;34m\u001b[0m\u001b[0;34m\u001b[0m\u001b[0m\n\u001b[1;32m     28\u001b[0m \u001b[0;34m\u001b[0m\u001b[0m\n",
      "\u001b[0;32m~/pyenvs/laser_injection/lib/python3.8/site-packages/distfit/distfit.py\u001b[0m in \u001b[0;36mfit_transform\u001b[0;34m(self, X, verbose)\u001b[0m\n\u001b[1;32m    275\u001b[0m         \u001b[0mself\u001b[0m\u001b[0;34m.\u001b[0m\u001b[0mfit\u001b[0m\u001b[0;34m(\u001b[0m\u001b[0mverbose\u001b[0m\u001b[0;34m=\u001b[0m\u001b[0mverbose\u001b[0m\u001b[0;34m)\u001b[0m\u001b[0;34m\u001b[0m\u001b[0;34m\u001b[0m\u001b[0m\n\u001b[1;32m    276\u001b[0m         \u001b[0;31m# Transform X based on functions\u001b[0m\u001b[0;34m\u001b[0m\u001b[0;34m\u001b[0m\u001b[0;34m\u001b[0m\u001b[0m\n\u001b[0;32m--> 277\u001b[0;31m         \u001b[0mself\u001b[0m\u001b[0;34m.\u001b[0m\u001b[0mtransform\u001b[0m\u001b[0;34m(\u001b[0m\u001b[0mX\u001b[0m\u001b[0;34m,\u001b[0m \u001b[0mverbose\u001b[0m\u001b[0;34m=\u001b[0m\u001b[0mverbose\u001b[0m\u001b[0;34m)\u001b[0m\u001b[0;34m\u001b[0m\u001b[0;34m\u001b[0m\u001b[0m\n\u001b[0m\u001b[1;32m    278\u001b[0m         \u001b[0;31m# Store\u001b[0m\u001b[0;34m\u001b[0m\u001b[0;34m\u001b[0m\u001b[0;34m\u001b[0m\u001b[0m\n\u001b[1;32m    279\u001b[0m         results = _store(self.alpha,\n",
      "\u001b[0;32m~/pyenvs/laser_injection/lib/python3.8/site-packages/distfit/distfit.py\u001b[0m in \u001b[0;36mtransform\u001b[0;34m(self, X, verbose)\u001b[0m\n\u001b[1;32m    203\u001b[0m         \u001b[0;32mif\u001b[0m \u001b[0mverbose\u001b[0m\u001b[0;34m>=\u001b[0m\u001b[0;36m3\u001b[0m\u001b[0;34m:\u001b[0m \u001b[0mprint\u001b[0m\u001b[0;34m(\u001b[0m\u001b[0;34m'[distfit] >transform..'\u001b[0m\u001b[0;34m)\u001b[0m\u001b[0;34m\u001b[0m\u001b[0;34m\u001b[0m\u001b[0m\n\u001b[1;32m    204\u001b[0m         \u001b[0;31m# Format the X\u001b[0m\u001b[0;34m\u001b[0m\u001b[0;34m\u001b[0m\u001b[0;34m\u001b[0m\u001b[0m\n\u001b[0;32m--> 205\u001b[0;31m         \u001b[0mX\u001b[0m \u001b[0;34m=\u001b[0m \u001b[0m_format_data\u001b[0m\u001b[0;34m(\u001b[0m\u001b[0mX\u001b[0m\u001b[0;34m)\u001b[0m\u001b[0;34m\u001b[0m\u001b[0;34m\u001b[0m\u001b[0m\n\u001b[0m\u001b[1;32m    206\u001b[0m         \u001b[0mself\u001b[0m\u001b[0;34m.\u001b[0m\u001b[0msize\u001b[0m \u001b[0;34m=\u001b[0m \u001b[0mlen\u001b[0m\u001b[0;34m(\u001b[0m\u001b[0mX\u001b[0m\u001b[0;34m)\u001b[0m\u001b[0;34m\u001b[0m\u001b[0;34m\u001b[0m\u001b[0m\n\u001b[1;32m    207\u001b[0m \u001b[0;34m\u001b[0m\u001b[0m\n",
      "\u001b[0;32m~/pyenvs/laser_injection/lib/python3.8/site-packages/distfit/distfit.py\u001b[0m in \u001b[0;36m_format_data\u001b[0;34m(data)\u001b[0m\n\u001b[1;32m    816\u001b[0m \u001b[0;32mdef\u001b[0m \u001b[0m_format_data\u001b[0m\u001b[0;34m(\u001b[0m\u001b[0mdata\u001b[0m\u001b[0;34m)\u001b[0m\u001b[0;34m:\u001b[0m\u001b[0;34m\u001b[0m\u001b[0;34m\u001b[0m\u001b[0m\n\u001b[1;32m    817\u001b[0m     \u001b[0;31m# Convert pandas to numpy\u001b[0m\u001b[0;34m\u001b[0m\u001b[0;34m\u001b[0m\u001b[0;34m\u001b[0m\u001b[0m\n\u001b[0;32m--> 818\u001b[0;31m     \u001b[0;32mif\u001b[0m \u001b[0mstr\u001b[0m\u001b[0;34m(\u001b[0m\u001b[0mdata\u001b[0m\u001b[0;34m.\u001b[0m\u001b[0mdtype\u001b[0m\u001b[0;34m)\u001b[0m\u001b[0;34m==\u001b[0m\u001b[0;34m'O'\u001b[0m\u001b[0;34m:\u001b[0m \u001b[0mdata\u001b[0m\u001b[0;34m=\u001b[0m\u001b[0mdata\u001b[0m\u001b[0;34m.\u001b[0m\u001b[0mastype\u001b[0m\u001b[0;34m(\u001b[0m\u001b[0mfloat\u001b[0m\u001b[0;34m)\u001b[0m\u001b[0;34m\u001b[0m\u001b[0;34m\u001b[0m\u001b[0m\n\u001b[0m\u001b[1;32m    819\u001b[0m     \u001b[0;32mif\u001b[0m \u001b[0;34m'pandas'\u001b[0m \u001b[0;32min\u001b[0m \u001b[0mstr\u001b[0m\u001b[0;34m(\u001b[0m\u001b[0mtype\u001b[0m\u001b[0;34m(\u001b[0m\u001b[0mdata\u001b[0m\u001b[0;34m)\u001b[0m\u001b[0;34m)\u001b[0m\u001b[0;34m:\u001b[0m \u001b[0mdata\u001b[0m \u001b[0;34m=\u001b[0m \u001b[0mdata\u001b[0m\u001b[0;34m.\u001b[0m\u001b[0mvalues\u001b[0m\u001b[0;34m\u001b[0m\u001b[0;34m\u001b[0m\u001b[0m\n\u001b[1;32m    820\u001b[0m     \u001b[0;31m# Make sure its a vector\u001b[0m\u001b[0;34m\u001b[0m\u001b[0;34m\u001b[0m\u001b[0;34m\u001b[0m\u001b[0m\n",
      "\u001b[0;31mAttributeError\u001b[0m: 'list' object has no attribute 'dtype'"
     ]
    }
   ],
   "source": [
    "%matplotlib widget\n",
    "# fig, ax = plt.subplots(2, 1, figsize=(9,6))\n",
    "fig, ax = plt.subplots(figsize=(9,5))\n",
    "\n",
    "save_fig = False\n",
    "\n",
    "# fig = plt.figure(figsize=(9,5))\n",
    "# fig.add_axes()\n",
    "# print(fig.axes)\n",
    "\n",
    "n_bins = 150\n",
    "\n",
    "#####  distfit example  ######\n",
    "\n",
    "# gen_hist, x_gen = np.histogram(gen_coeffs[0], bins=n_bins, density=True)\n",
    "# laser_hist, x_laser = np.histogram(laser_coeffs[0], bins=n_bins, density=True)\n",
    "\n",
    "# plt.hist(gen_coeffs[0], n_bins, label = 'acoustic induced audio')\n",
    "# plt.hist(laser_coeffs[0], n_bins, label = 'laser induced audio')\n",
    "\n",
    "# # plt.bar(x_gen, gen_hist, label = 'acoustic induced audio')\n",
    "# # plt.bar(x_laser, laser_hist, label = 'acoustic induced audio')\n",
    "\n",
    "# Initialize\n",
    "gen_dist = distfit()\n",
    "gen_res = gen_dist.fit_transform(gen_coeffs[0])\n",
    "gen_dist.plot(ax = ax)\n",
    "\n",
    "las_dist = distfit()\n",
    "las_res = las_dist.fit_transform(laser_coeffs[0])\n",
    "las_dist.plot(ax=ax)\n",
    "\n",
    "# plt.legend(loc='upper right')\n",
    "\n",
    "# plt.axvline(np.mean(gen_coeffs[0]), color='r', linestyle='dashed', linewidth=1)\n",
    "\n",
    "# plt.title('Laser-induced vs Acoustic-induced Audio Distribution for Approximation Coefficient, CA5')\n",
    "\n",
    "\n",
    "######  Using Fitter  ######\n",
    "\n",
    "# gen = Fitter(gen_coeffs[0], distributions= get_common_distributions(), bins=n_bins)\n",
    "# gen.fit()\n",
    "\n",
    "# # gen._density = False\n",
    "# # print(gen._density)\n",
    "\n",
    "# gen.plot_pdf(Nbest=1)\n",
    "# # gen_df = gen.summary(Nbest=1)\n",
    "\n",
    "# # print(gen_df)\n",
    "\n",
    "# laser = Fitter(laser_coeffs[0], distributions= get_common_distributions(), bins=n_bins)\n",
    "# laser.fit()\n",
    "\n",
    "# laser.plot_pdf(Nbest=1)\n",
    "\n",
    "# laser_df = laser.summary(Nbest=1)\n",
    "\n",
    "\n",
    "# hf_gen = HistFit(gen_coeffs[0], bins=n_bins)\n",
    "# hf_laser = HistFit(laser_coeffs[0], bins=n_bins)\n",
    "\n",
    "# hf_gen.fit(error_rate=0.03, Nfit=20)\n",
    "# hf_laser.fit(error_rate=0.03, Nfit=20)\n",
    "\n",
    "\n",
    "\n",
    "if save_fig:\n",
    "    if not os.path.exists('Distribution/'):\n",
    "        os.makedirs('Distribution/')\n",
    "        \n",
    "    r_int = random.randint(0,10)\n",
    "    plt.savefig('Distribution/' + 'Distri_' + str(r_int) + '.png')\n",
    "\n",
    "# ax[0].hist(laser_coeffs[0], bins='auto')\n",
    "# ax[0].set(title='Laser Audio Distribution for Coeff 1')\n",
    "# ax[0].label_outer()\n",
    "\n",
    "# ax[1].hist(gen_coeffs[0], bins='auto')\n",
    "# ax[0].set(title='Genuine Audio Distribution for Coeff 1')\n",
    "# ax[0].label_outer()"
   ]
  },
  {
   "cell_type": "code",
   "execution_count": 10,
   "id": "8b90121e",
   "metadata": {},
   "outputs": [
    {
     "data": {
      "text/html": [
       "\n",
       "            <div style=\"float: left; border: 1px solid black; width:500px\">\n",
       "              <div id=\"63bfcc69-9a3b-415b-9122-2b0d8af336ca\" style=\"background-color:blue; width:0%\">&nbsp;</div>\n",
       "            </div>\n",
       "            <label id=\"f480483c-75a5-45be-adb2-dfc30cdfeb57\" style=\"padding-left: 10px;\" text = \"\"/>\n",
       "            "
      ],
      "text/plain": [
       "<IPython.core.display.HTML object>"
      ]
     },
     "metadata": {},
     "output_type": "display_data"
    },
    {
     "data": {
      "application/vnd.jupyter.widget-view+json": {
       "model_id": "7eb0cd7ab6a34ab2876c8911240aeddb",
       "version_major": 2,
       "version_minor": 0
      },
      "text/plain": [
       "Canvas(toolbar=Toolbar(toolitems=[('Home', 'Reset original view', 'home', 'home'), ('Back', 'Back to previous …"
      ]
     },
     "metadata": {},
     "output_type": "display_data"
    },
    {
     "data": {
      "text/html": [
       "<div>\n",
       "<style scoped>\n",
       "    .dataframe tbody tr th:only-of-type {\n",
       "        vertical-align: middle;\n",
       "    }\n",
       "\n",
       "    .dataframe tbody tr th {\n",
       "        vertical-align: top;\n",
       "    }\n",
       "\n",
       "    .dataframe thead th {\n",
       "        text-align: right;\n",
       "    }\n",
       "</style>\n",
       "<table border=\"1\" class=\"dataframe\">\n",
       "  <thead>\n",
       "    <tr style=\"text-align: right;\">\n",
       "      <th></th>\n",
       "      <th>sumsquare_error</th>\n",
       "      <th>aic</th>\n",
       "      <th>bic</th>\n",
       "      <th>kl_div</th>\n",
       "    </tr>\n",
       "  </thead>\n",
       "  <tbody>\n",
       "    <tr>\n",
       "      <th>cauchy</th>\n",
       "      <td>1173.464068</td>\n",
       "      <td>-159.412291</td>\n",
       "      <td>-2316.923459</td>\n",
       "      <td>inf</td>\n",
       "    </tr>\n",
       "    <tr>\n",
       "      <th>lognorm</th>\n",
       "      <td>13046.010460</td>\n",
       "      <td>678.377713</td>\n",
       "      <td>4302.387678</td>\n",
       "      <td>inf</td>\n",
       "    </tr>\n",
       "    <tr>\n",
       "      <th>norm</th>\n",
       "      <td>13086.790692</td>\n",
       "      <td>635.305241</td>\n",
       "      <td>4303.037293</td>\n",
       "      <td>inf</td>\n",
       "    </tr>\n",
       "    <tr>\n",
       "      <th>gamma</th>\n",
       "      <td>13149.234939</td>\n",
       "      <td>685.984498</td>\n",
       "      <td>4324.021578</td>\n",
       "      <td>inf</td>\n",
       "    </tr>\n",
       "    <tr>\n",
       "      <th>chi2</th>\n",
       "      <td>13949.580698</td>\n",
       "      <td>798.327384</td>\n",
       "      <td>4486.212299</td>\n",
       "      <td>inf</td>\n",
       "    </tr>\n",
       "  </tbody>\n",
       "</table>\n",
       "</div>"
      ],
      "text/plain": [
       "         sumsquare_error         aic          bic  kl_div\n",
       "cauchy       1173.464068 -159.412291 -2316.923459     inf\n",
       "lognorm     13046.010460  678.377713  4302.387678     inf\n",
       "norm        13086.790692  635.305241  4303.037293     inf\n",
       "gamma       13149.234939  685.984498  4324.021578     inf\n",
       "chi2        13949.580698  798.327384  4486.212299     inf"
      ]
     },
     "execution_count": 10,
     "metadata": {},
     "output_type": "execute_result"
    }
   ],
   "source": [
    "%matplotlib widget\n",
    "f = Fitter(gen_coeffs[0], distributions= get_common_distributions(), bins=n_bins, density=False)\n",
    "# f._density = False\n",
    "f.fit()\n",
    "f.summary()"
   ]
  },
  {
   "cell_type": "markdown",
   "id": "fbc606e8",
   "metadata": {},
   "source": [
    "### Coeff 0"
   ]
  },
  {
   "cell_type": "code",
   "execution_count": 31,
   "id": "8dc9a073",
   "metadata": {},
   "outputs": [
    {
     "data": {
      "text/html": [
       "\n",
       "            <div style=\"float: left; border: 1px solid black; width:500px\">\n",
       "              <div id=\"c95c591f-fd48-4b8b-a0a0-817b205b2c83\" style=\"background-color:blue; width:0%\">&nbsp;</div>\n",
       "            </div>\n",
       "            <label id=\"d8eba934-8c35-442b-8b40-c1ccd02d6b3a\" style=\"padding-left: 10px;\" text = \"\"/>\n",
       "            "
      ],
      "text/plain": [
       "<IPython.core.display.HTML object>"
      ]
     },
     "metadata": {},
     "output_type": "display_data"
    },
    {
     "data": {
      "application/vnd.jupyter.widget-view+json": {
       "model_id": "36ac73aab7524aaf9c2f2d9509b5d6f3",
       "version_major": 2,
       "version_minor": 0
      },
      "text/plain": [
       "Canvas(toolbar=Toolbar(toolitems=[('Home', 'Reset original view', 'home', 'home'), ('Back', 'Back to previous …"
      ]
     },
     "metadata": {},
     "output_type": "display_data"
    },
    {
     "data": {
      "text/html": [
       "\n",
       "            <div style=\"float: left; border: 1px solid black; width:500px\">\n",
       "              <div id=\"fe6e6f69-34c3-4422-8968-e070c3e22e55\" style=\"background-color:blue; width:0%\">&nbsp;</div>\n",
       "            </div>\n",
       "            <label id=\"6f0cdf1a-b1ab-49be-a383-21989a530f05\" style=\"padding-left: 10px;\" text = \"\"/>\n",
       "            "
      ],
      "text/plain": [
       "<IPython.core.display.HTML object>"
      ]
     },
     "metadata": {},
     "output_type": "display_data"
    }
   ],
   "source": [
    "%matplotlib widget\n",
    "# plt.figure(figsize=(9,5))\n",
    "\n",
    "n_bins = 150\n",
    "\n",
    "# plt.hist(gen_coeffs[1], n_bins, label = 'acoustic induced audio')\n",
    "# plt.hist(laser_coeffs[1], n_bins, label = 'laser induced audio')\n",
    "# plt.legend(loc='upper right')\n",
    "\n",
    "# plt.title('Laser-induced vs Acoustic-induced Audio Distribution for Approximation Coefficient')\n",
    "\n",
    "gen = Fitter(gen_coeffs[0], distributions= get_common_distributions(), bins=n_bins)\n",
    "gen.fit()\n",
    "gen.plot_pdf(Nbest=1)\n",
    "\n",
    "laser = Fitter(laser_coeffs[0], distributions= get_common_distributions(), bins=n_bins)\n",
    "laser.fit()\n",
    "\n",
    "laser.plot_pdf(Nbest=1)"
   ]
  },
  {
   "cell_type": "markdown",
   "id": "734154dd",
   "metadata": {},
   "source": [
    "### Coeff 1"
   ]
  },
  {
   "cell_type": "code",
   "execution_count": 11,
   "id": "7b7f4acd",
   "metadata": {},
   "outputs": [
    {
     "data": {
      "text/html": [
       "\n",
       "            <div style=\"float: left; border: 1px solid black; width:500px\">\n",
       "              <div id=\"4040a479-06d5-433d-89d3-c98ce9dea623\" style=\"background-color:blue; width:0%\">&nbsp;</div>\n",
       "            </div>\n",
       "            <label id=\"f9dc7eff-7515-4d67-aa6d-ebc83e4b572a\" style=\"padding-left: 10px;\" text = \"\"/>\n",
       "            "
      ],
      "text/plain": [
       "<IPython.core.display.HTML object>"
      ]
     },
     "metadata": {},
     "output_type": "display_data"
    },
    {
     "data": {
      "application/vnd.jupyter.widget-view+json": {
       "model_id": "bbd59a0ac849403aae206e97d4f462e8",
       "version_major": 2,
       "version_minor": 0
      },
      "text/plain": [
       "Canvas(toolbar=Toolbar(toolitems=[('Home', 'Reset original view', 'home', 'home'), ('Back', 'Back to previous …"
      ]
     },
     "metadata": {},
     "output_type": "display_data"
    },
    {
     "data": {
      "text/html": [
       "\n",
       "            <div style=\"float: left; border: 1px solid black; width:500px\">\n",
       "              <div id=\"dec2562c-22aa-4f26-940d-9310ca2c00a9\" style=\"background-color:blue; width:0%\">&nbsp;</div>\n",
       "            </div>\n",
       "            <label id=\"bfb53d9f-8825-4b7d-89e8-6befc9183384\" style=\"padding-left: 10px;\" text = \"\"/>\n",
       "            "
      ],
      "text/plain": [
       "<IPython.core.display.HTML object>"
      ]
     },
     "metadata": {},
     "output_type": "display_data"
    }
   ],
   "source": [
    "%matplotlib widget\n",
    "# plt.figure(figsize=(9,5))\n",
    "\n",
    "n_bins = 150\n",
    "\n",
    "# plt.hist(gen_coeffs[1], n_bins, label = 'acoustic induced audio')\n",
    "# plt.hist(laser_coeffs[1], n_bins, label = 'laser induced audio')\n",
    "# plt.legend(loc='upper right')\n",
    "\n",
    "# plt.title('Laser-induced vs Acoustic-induced Audio Distribution for Approximation Coefficient')\n",
    "\n",
    "gen = Fitter(gen_coeffs[1], distributions= get_common_distributions(), bins=n_bins)\n",
    "gen.fit()\n",
    "gen.plot_pdf(Nbest=1)\n",
    "\n",
    "laser = Fitter(laser_coeffs[1], distributions= get_common_distributions(), bins=n_bins)\n",
    "laser.fit()\n",
    "\n",
    "laser.plot_pdf(Nbest=1)"
   ]
  },
  {
   "cell_type": "markdown",
   "id": "cc3dbb47",
   "metadata": {},
   "source": [
    "### Coeff 2"
   ]
  },
  {
   "cell_type": "code",
   "execution_count": 12,
   "id": "d3223fca",
   "metadata": {},
   "outputs": [
    {
     "data": {
      "text/html": [
       "\n",
       "            <div style=\"float: left; border: 1px solid black; width:500px\">\n",
       "              <div id=\"c871c2bc-2d9d-4d93-9eb1-9c0be9bfeaff\" style=\"background-color:blue; width:0%\">&nbsp;</div>\n",
       "            </div>\n",
       "            <label id=\"fd0b7741-db45-4b41-8962-6a39224527d1\" style=\"padding-left: 10px;\" text = \"\"/>\n",
       "            "
      ],
      "text/plain": [
       "<IPython.core.display.HTML object>"
      ]
     },
     "metadata": {},
     "output_type": "display_data"
    },
    {
     "data": {
      "application/vnd.jupyter.widget-view+json": {
       "model_id": "20b9fc18034b462f827a14c159c97182",
       "version_major": 2,
       "version_minor": 0
      },
      "text/plain": [
       "Canvas(toolbar=Toolbar(toolitems=[('Home', 'Reset original view', 'home', 'home'), ('Back', 'Back to previous …"
      ]
     },
     "metadata": {},
     "output_type": "display_data"
    },
    {
     "data": {
      "text/html": [
       "\n",
       "            <div style=\"float: left; border: 1px solid black; width:500px\">\n",
       "              <div id=\"cdd8cc48-554e-4dc0-9841-0410fb9e0022\" style=\"background-color:blue; width:0%\">&nbsp;</div>\n",
       "            </div>\n",
       "            <label id=\"a2d72a11-54a6-4aaa-a86a-ceb8e308f85c\" style=\"padding-left: 10px;\" text = \"\"/>\n",
       "            "
      ],
      "text/plain": [
       "<IPython.core.display.HTML object>"
      ]
     },
     "metadata": {},
     "output_type": "display_data"
    }
   ],
   "source": [
    "%matplotlib widget\n",
    "\n",
    "n_bins = 150\n",
    "\n",
    "gen = Fitter(gen_coeffs[2], distributions= get_common_distributions(), bins=n_bins)\n",
    "gen.fit()\n",
    "gen.plot_pdf(Nbest=1)\n",
    "\n",
    "laser = Fitter(laser_coeffs[2], distributions= get_common_distributions(), bins=n_bins)\n",
    "laser.fit()\n",
    "\n",
    "laser.plot_pdf(Nbest=1)\n",
    "\n",
    "# plt.figure(figsize=(9,5))\n",
    "\n",
    "# n_bins = 150\n",
    "\n",
    "# plt.hist(gen_coeffs[2], n_bins, label = 'acoustic induced audio')\n",
    "# plt.hist(laser_coeffs[2], n_bins, label = 'laser induced audio')\n",
    "# plt.legend(loc='upper right')\n",
    "\n",
    "# plt.title('Laser vs Genuine Audio Distribution for Approximation Coefficient')"
   ]
  },
  {
   "cell_type": "markdown",
   "id": "1f0d1fbb",
   "metadata": {},
   "source": [
    "### Coeff 3"
   ]
  },
  {
   "cell_type": "code",
   "execution_count": 13,
   "id": "66979cc3",
   "metadata": {},
   "outputs": [
    {
     "data": {
      "text/html": [
       "\n",
       "            <div style=\"float: left; border: 1px solid black; width:500px\">\n",
       "              <div id=\"14ca6927-88dc-470c-9c17-88700ffc27da\" style=\"background-color:blue; width:0%\">&nbsp;</div>\n",
       "            </div>\n",
       "            <label id=\"6187b467-ca9f-4690-9b3d-e48434e7043a\" style=\"padding-left: 10px;\" text = \"\"/>\n",
       "            "
      ],
      "text/plain": [
       "<IPython.core.display.HTML object>"
      ]
     },
     "metadata": {},
     "output_type": "display_data"
    },
    {
     "data": {
      "application/vnd.jupyter.widget-view+json": {
       "model_id": "75461b589d4d4199a50f6cf93eaef1c9",
       "version_major": 2,
       "version_minor": 0
      },
      "text/plain": [
       "Canvas(toolbar=Toolbar(toolitems=[('Home', 'Reset original view', 'home', 'home'), ('Back', 'Back to previous …"
      ]
     },
     "metadata": {},
     "output_type": "display_data"
    },
    {
     "data": {
      "text/html": [
       "\n",
       "            <div style=\"float: left; border: 1px solid black; width:500px\">\n",
       "              <div id=\"60145b66-89b1-42b6-9335-254f1ad167a7\" style=\"background-color:blue; width:0%\">&nbsp;</div>\n",
       "            </div>\n",
       "            <label id=\"95257108-2158-41fa-bcbe-773cbe9ddee7\" style=\"padding-left: 10px;\" text = \"\"/>\n",
       "            "
      ],
      "text/plain": [
       "<IPython.core.display.HTML object>"
      ]
     },
     "metadata": {},
     "output_type": "display_data"
    }
   ],
   "source": [
    "%matplotlib widget\n",
    "\n",
    "n_bins = 150\n",
    "\n",
    "gen = Fitter(gen_coeffs[3], distributions= get_common_distributions(), bins=n_bins)\n",
    "gen.fit()\n",
    "gen.plot_pdf(Nbest=1)\n",
    "\n",
    "laser = Fitter(laser_coeffs[3], distributions= get_common_distributions(), bins=n_bins)\n",
    "laser.fit()\n",
    "\n",
    "laser.plot_pdf(Nbest=1)\n",
    "\n",
    "\n",
    "# plt.figure(figsize=(9,5))\n",
    "\n",
    "# n_bins = 150\n",
    "\n",
    "# plt.hist(gen_coeffs[3], n_bins, label = 'acoustic induced audio')\n",
    "# plt.hist(laser_coeffs[3], n_bins, label = 'laser induced audio')\n",
    "# plt.legend(loc='upper right')\n",
    "\n",
    "# plt.title('Laser vs Genuine Audio Distribution for Approximation Coefficient')"
   ]
  },
  {
   "cell_type": "markdown",
   "id": "3b69bcd2",
   "metadata": {},
   "source": [
    "### Coeff 4"
   ]
  },
  {
   "cell_type": "code",
   "execution_count": 14,
   "id": "801b1dbe",
   "metadata": {},
   "outputs": [
    {
     "data": {
      "text/html": [
       "\n",
       "            <div style=\"float: left; border: 1px solid black; width:500px\">\n",
       "              <div id=\"55e430c3-3c08-45f0-aa54-df93fe08d8dd\" style=\"background-color:blue; width:0%\">&nbsp;</div>\n",
       "            </div>\n",
       "            <label id=\"1b87dcea-1080-40c8-b80d-fe9a68301a53\" style=\"padding-left: 10px;\" text = \"\"/>\n",
       "            "
      ],
      "text/plain": [
       "<IPython.core.display.HTML object>"
      ]
     },
     "metadata": {},
     "output_type": "display_data"
    },
    {
     "data": {
      "application/vnd.jupyter.widget-view+json": {
       "model_id": "22751392157e4f498947a2fb316069fa",
       "version_major": 2,
       "version_minor": 0
      },
      "text/plain": [
       "Canvas(toolbar=Toolbar(toolitems=[('Home', 'Reset original view', 'home', 'home'), ('Back', 'Back to previous …"
      ]
     },
     "metadata": {},
     "output_type": "display_data"
    },
    {
     "data": {
      "text/html": [
       "\n",
       "            <div style=\"float: left; border: 1px solid black; width:500px\">\n",
       "              <div id=\"27afc00f-f112-4788-839a-b0c91f4cbe38\" style=\"background-color:blue; width:0%\">&nbsp;</div>\n",
       "            </div>\n",
       "            <label id=\"a1d0dc9e-42d8-44c1-bcf5-da9f66135423\" style=\"padding-left: 10px;\" text = \"\"/>\n",
       "            "
      ],
      "text/plain": [
       "<IPython.core.display.HTML object>"
      ]
     },
     "metadata": {},
     "output_type": "display_data"
    }
   ],
   "source": [
    "%matplotlib widget\n",
    "\n",
    "n_bins = 150\n",
    "\n",
    "gen = Fitter(gen_coeffs[4], distributions= get_common_distributions(), bins=n_bins)\n",
    "gen.fit()\n",
    "gen.plot_pdf(Nbest=1)\n",
    "\n",
    "laser = Fitter(laser_coeffs[4], distributions= get_common_distributions(), bins=n_bins)\n",
    "laser.fit()\n",
    "\n",
    "laser.plot_pdf(Nbest=1)\n",
    "\n",
    "\n",
    "# plt.figure(figsize=(9,5))\n",
    "\n",
    "# n_bins = 150\n",
    "\n",
    "# plt.hist(gen_coeffs[4], n_bins, label = 'acoustic induced audio')\n",
    "# plt.hist(laser_coeffs[4], n_bins, label = 'laser induced audio')\n",
    "# plt.legend(loc='upper right')\n",
    "\n",
    "# plt.title('Laser vs Genuine Audio Distribution for Approximation Coefficient')"
   ]
  },
  {
   "cell_type": "markdown",
   "id": "eb68296a",
   "metadata": {},
   "source": [
    "### Coeff 5"
   ]
  },
  {
   "cell_type": "code",
   "execution_count": 15,
   "id": "cd8b3392",
   "metadata": {},
   "outputs": [
    {
     "data": {
      "text/html": [
       "\n",
       "            <div style=\"float: left; border: 1px solid black; width:500px\">\n",
       "              <div id=\"b30e331c-013d-4f2a-847b-423df81c33e4\" style=\"background-color:blue; width:0%\">&nbsp;</div>\n",
       "            </div>\n",
       "            <label id=\"58a48cab-49dc-4e31-898a-247b0c52c96e\" style=\"padding-left: 10px;\" text = \"\"/>\n",
       "            "
      ],
      "text/plain": [
       "<IPython.core.display.HTML object>"
      ]
     },
     "metadata": {},
     "output_type": "display_data"
    },
    {
     "data": {
      "application/vnd.jupyter.widget-view+json": {
       "model_id": "920bcf44088a42e6b192e58087a40190",
       "version_major": 2,
       "version_minor": 0
      },
      "text/plain": [
       "Canvas(toolbar=Toolbar(toolitems=[('Home', 'Reset original view', 'home', 'home'), ('Back', 'Back to previous …"
      ]
     },
     "metadata": {},
     "output_type": "display_data"
    },
    {
     "data": {
      "text/html": [
       "\n",
       "            <div style=\"float: left; border: 1px solid black; width:500px\">\n",
       "              <div id=\"b3ed10cc-91f5-43fb-a7c2-c7b0a0ce5607\" style=\"background-color:blue; width:0%\">&nbsp;</div>\n",
       "            </div>\n",
       "            <label id=\"47191304-02dc-4c5c-953f-9ccb5ca6fe7d\" style=\"padding-left: 10px;\" text = \"\"/>\n",
       "            "
      ],
      "text/plain": [
       "<IPython.core.display.HTML object>"
      ]
     },
     "metadata": {},
     "output_type": "display_data"
    }
   ],
   "source": [
    "%matplotlib widget\n",
    "\n",
    "n_bins = 150\n",
    "\n",
    "gen = Fitter(gen_coeffs[5], distributions= get_common_distributions(), bins=n_bins)\n",
    "gen.fit()\n",
    "gen.plot_pdf(Nbest=1)\n",
    "\n",
    "laser = Fitter(laser_coeffs[5], distributions= get_common_distributions(), bins=n_bins)\n",
    "laser.fit()\n",
    "\n",
    "laser.plot_pdf(Nbest=1)\n",
    "\n",
    "\n",
    "# plt.figure(figsize=(9,5))\n",
    "\n",
    "# n_bins = 150\n",
    "\n",
    "# plt.hist(gen_coeffs[5], n_bins, label = 'acoustic induced audio')\n",
    "# plt.hist(laser_coeffs[5], n_bins, label = 'laser induced audio')\n",
    "# plt.legend(loc='upper right')\n",
    "\n",
    "# plt.title('Laser vs Genuine Audio Distribution for Approximation Coefficient')"
   ]
  },
  {
   "cell_type": "markdown",
   "id": "d23f3e16",
   "metadata": {},
   "source": [
    "## Creating a subplot of all the figures"
   ]
  },
  {
   "cell_type": "code",
   "execution_count": 16,
   "id": "b7078a7a",
   "metadata": {},
   "outputs": [],
   "source": [
    "from matplotlib.ticker import FormatStrFormatter"
   ]
  },
  {
   "cell_type": "code",
   "execution_count": 17,
   "id": "0f72526c",
   "metadata": {},
   "outputs": [
    {
     "data": {
      "application/vnd.jupyter.widget-view+json": {
       "model_id": "57152b017d4b46e6b5956ffa0384b535",
       "version_major": 2,
       "version_minor": 0
      },
      "text/plain": [
       "Canvas(toolbar=Toolbar(toolitems=[('Home', 'Reset original view', 'home', 'home'), ('Back', 'Back to previous …"
      ]
     },
     "metadata": {},
     "output_type": "display_data"
    }
   ],
   "source": [
    "fig, axes = plt.subplots(2, 3, figsize=(12,8))\n",
    "\n",
    "n_bins = 150\n",
    "\n",
    "save_fig = False\n",
    "\n",
    "for ax, c in zip(axes.flatten(), range(6)):\n",
    "    \n",
    "    ax.hist(gen_coeffs[c], n_bins, label = 'acoustic induced audio')\n",
    "    ax.hist(laser_coeffs[c], n_bins, label = 'laser induced audio')\n",
    "#     ax.legend(loc='upper right')\n",
    "\n",
    "    ax.axvline(np.mean(gen_coeffs[c]), color='r', linestyle='dashed', linewidth=1)\n",
    "    \n",
    "    ax.xaxis.set_major_formatter(FormatStrFormatter('%.2f'))\n",
    "#     ax.yaxis.set_major_formatter(FormatStrFormatter('%.2f'))\n",
    "    \n",
    "    ax.set_title('Coefficient {}'.format(c), fontsize = 10)\n",
    "    \n",
    "    if c == 2:\n",
    "        ax.legend(loc='upper right', prop={'size': 7})\n",
    "    \n",
    "# handles, labels = ax.get_legend_handles_labels()\n",
    "# fig.legend(handles, labels, loc='upper center', prop={'size': 8})\n",
    "\n",
    "if save_fig:\n",
    "    if not os.path.exists('Distribution/'):\n",
    "        os.makedirs('Distribution/')\n",
    "        \n",
    "#     r_int = random.randint(0,10)\n",
    "    plt.savefig('Distribution/' + 'Distri_all_coeff.png')\n"
   ]
  },
  {
   "cell_type": "code",
   "execution_count": 18,
   "id": "89098466",
   "metadata": {},
   "outputs": [],
   "source": [
    "import scipy.stats\n",
    "data = [scipy.stats.norm.rvs(2,3.4) for x in  range(10000)]"
   ]
  },
  {
   "cell_type": "code",
   "execution_count": 19,
   "id": "b2ebf608",
   "metadata": {},
   "outputs": [
    {
     "data": {
      "application/vnd.jupyter.widget-view+json": {
       "model_id": "0ee283c1480e4a82aaac36acd636af30",
       "version_major": 2,
       "version_minor": 0
      },
      "text/plain": [
       "Canvas(toolbar=Toolbar(toolitems=[('Home', 'Reset original view', 'home', 'home'), ('Back', 'Back to previous …"
      ]
     },
     "metadata": {},
     "output_type": "display_data"
    },
    {
     "data": {
      "application/vnd.jupyter.widget-view+json": {
       "model_id": "1261f2634254462da12bc2f6448fc6a7",
       "version_major": 2,
       "version_minor": 0
      },
      "text/plain": [
       "Canvas(toolbar=Toolbar(toolitems=[('Home', 'Reset original view', 'home', 'home'), ('Back', 'Back to previous …"
      ]
     },
     "metadata": {},
     "output_type": "display_data"
    },
    {
     "data": {
      "text/plain": [
       "(1.9952976407729075, 3.3450024087314025, 1.010760098937088)"
      ]
     },
     "execution_count": 19,
     "metadata": {},
     "output_type": "execute_result"
    }
   ],
   "source": [
    "%matplotlib widget\n",
    "hf = HistFit(data, bins=30)\n",
    "hf.fit(error_rate=0.03, Nfit=20 )"
   ]
  },
  {
   "cell_type": "code",
   "execution_count": 20,
   "id": "448fac30",
   "metadata": {},
   "outputs": [],
   "source": [
    "distributions = []"
   ]
  },
  {
   "cell_type": "code",
   "execution_count": 21,
   "id": "6a9c2b75",
   "metadata": {},
   "outputs": [
    {
     "name": "stdout",
     "output_type": "stream",
     "text": [
      "cauchy: statistic=0.024628480797279834, pvalue=0.07040276640547416\n",
      "gamma: statistic=0.13575650336543, pvalue=1.3852402378400071e-44\n",
      "lognorm: statistic=0.13664927096413004, pvalue=3.6025721389221655e-45\n",
      "norm: statistic=0.13786233232224976, pvalue=5.69650145006471e-46\n",
      "chi2: statistic=0.15262358422872, pvalue=2.6959084051550467e-56\n",
      "exponpow: statistic=0.23624877571063999, pvalue=2.924816858825488e-135\n",
      "expon: statistic=0.4853494992487406, pvalue=0.0\n",
      "powerlaw: statistic=0.43830131828223107, pvalue=0.0\n",
      "rayleigh: statistic=0.42033490343107327, pvalue=0.0\n",
      "uniform: statistic=0.37910600272433653, pvalue=0.0\n"
     ]
    }
   ],
   "source": [
    "# list_of_dists = ['alpha','anglit','arcsine','beta','betaprime','bradford','burr','burr12','cauchy','chi','chi2','cosine','dgamma','dweibull','erlang','expon','exponnorm','exponweib','exponpow','f','fatiguelife','fisk','foldcauchy','foldnorm','frechet_r','frechet_l','genlogistic','genpareto','gennorm','genexpon','genextreme','gausshyper','gamma','gengamma','genhalflogistic','gilbrat','gompertz','gumbel_r','gumbel_l','halfcauchy','halflogistic','halfnorm','halfgennorm','hypsecant','invgamma','invgauss','invweibull','johnsonsb','johnsonsu','kstwobign','laplace','levy','levy_l','logistic','loggamma','loglaplace','lognorm','lomax','maxwell','mielke','nakagami','ncx2','ncf','nct','norm','pareto','pearson3','powerlaw','powerlognorm','powernorm','rdist','reciprocal','rayleigh','rice','recipinvgauss','semicircular','t','triang','truncexpon','truncnorm','tukeylambda','uniform','vonmises','vonmises_line','wald','weibull_min','weibull_max']\n",
    "\n",
    "list_of_dists = get_common_distributions()\n",
    "\n",
    "# %%capture --no-stdout\n",
    "\n",
    "results = []\n",
    "for i in list_of_dists:\n",
    "    dist = getattr(stats, i)\n",
    "    param = dist.fit(gen_coeffs[0])\n",
    "    a = stats.kstest(gen_coeffs[0], i, args=param)\n",
    "    results.append((i,a[0],a[1]))\n",
    "    \n",
    "    \n",
    "results.sort(key=lambda x:float(x[2]), reverse=True)\n",
    "for j in results:\n",
    "    print(\"{}: statistic={}, pvalue={}\".format(j[0], j[1], j[2]))"
   ]
  },
  {
   "cell_type": "code",
   "execution_count": 22,
   "id": "c529f84f",
   "metadata": {},
   "outputs": [
    {
     "data": {
      "text/plain": [
       "['cauchy',\n",
       " 'chi2',\n",
       " 'expon',\n",
       " 'exponpow',\n",
       " 'gamma',\n",
       " 'lognorm',\n",
       " 'norm',\n",
       " 'powerlaw',\n",
       " 'rayleigh',\n",
       " 'uniform']"
      ]
     },
     "execution_count": 22,
     "metadata": {},
     "output_type": "execute_result"
    }
   ],
   "source": [
    "get_common_distributions()"
   ]
  },
  {
   "cell_type": "code",
   "execution_count": 23,
   "id": "2974ff4a",
   "metadata": {},
   "outputs": [
    {
     "data": {
      "text/plain": [
       "[('cauchy', 0.024628480797279834, 0.07040276640547416),\n",
       " ('gamma', 0.13575650336543, 1.3852402378400071e-44),\n",
       " ('lognorm', 0.13664927096413004, 3.6025721389221655e-45),\n",
       " ('norm', 0.13786233232224976, 5.69650145006471e-46),\n",
       " ('chi2', 0.15262358422872, 2.6959084051550467e-56),\n",
       " ('exponpow', 0.23624877571063999, 2.924816858825488e-135),\n",
       " ('expon', 0.4853494992487406, 0.0),\n",
       " ('powerlaw', 0.43830131828223107, 0.0),\n",
       " ('rayleigh', 0.42033490343107327, 0.0),\n",
       " ('uniform', 0.37910600272433653, 0.0)]"
      ]
     },
     "execution_count": 23,
     "metadata": {},
     "output_type": "execute_result"
    }
   ],
   "source": [
    "results"
   ]
  },
  {
   "cell_type": "code",
   "execution_count": 24,
   "id": "368aa01b",
   "metadata": {},
   "outputs": [
    {
     "data": {
      "text/plain": [
       "<scipy.stats._continuous_distns.cauchy_gen at 0x7f5cc1c65dc0>"
      ]
     },
     "execution_count": 24,
     "metadata": {},
     "output_type": "execute_result"
    }
   ],
   "source": [
    "distribution = getattr(stats, results[0][0])\n",
    "distribution"
   ]
  },
  {
   "cell_type": "code",
   "execution_count": 25,
   "id": "e1313e63",
   "metadata": {},
   "outputs": [
    {
     "name": "stdout",
     "output_type": "stream",
     "text": [
      "(0.024628480797279834, 0.07040276640547416)\n"
     ]
    }
   ],
   "source": [
    "arg = results[0][-2:]\n",
    "loc = results[0][-2]\n",
    "scale = results[0][-1]\n",
    "\n",
    "print(arg)\n",
    "# print(loc)\n",
    "# print(scale)\n",
    "    \n",
    "# Get sane start and end points of distribution\n",
    "start = distribution.ppf(0.0000001, *arg) \n",
    "end = distribution.ppf(0.9999999, *arg) \n",
    "\n",
    "# Build PDF and turn into pandas Series\n",
    "x = np.linspace(start, end, len(gen_coeffs[0]))\n",
    "y = distribution.pdf(x, *arg)\n",
    "pdf = pd.Series(y, x)"
   ]
  },
  {
   "cell_type": "code",
   "execution_count": 26,
   "id": "e205de54",
   "metadata": {},
   "outputs": [
    {
     "data": {
      "application/vnd.jupyter.widget-view+json": {
       "model_id": "abb6d0434008466fbfb6c57b7493f30a",
       "version_major": 2,
       "version_minor": 0
      },
      "text/plain": [
       "Canvas(toolbar=Toolbar(toolitems=[('Home', 'Reset original view', 'home', 'home'), ('Back', 'Back to previous …"
      ]
     },
     "metadata": {},
     "output_type": "display_data"
    },
    {
     "data": {
      "text/plain": [
       "<AxesSubplot:>"
      ]
     },
     "execution_count": 26,
     "metadata": {},
     "output_type": "execute_result"
    }
   ],
   "source": [
    "%matplotlib widget\n",
    "pdf.plot(kind='line', label=results[0][0], legend=True, lw=2)"
   ]
  },
  {
   "cell_type": "code",
   "execution_count": 27,
   "id": "16b63a8a",
   "metadata": {},
   "outputs": [
    {
     "name": "stdout",
     "output_type": "stream",
     "text": [
      "cauchy\n"
     ]
    }
   ],
   "source": [
    "print(results[0][0])"
   ]
  },
  {
   "cell_type": "code",
   "execution_count": 28,
   "id": "40d8cafa",
   "metadata": {},
   "outputs": [
    {
     "name": "stdout",
     "output_type": "stream",
     "text": [
      "lognorm: statistic=0.021219159954916633, pvalue=0.14962492606407862\n",
      "gamma: statistic=0.021326720883262484, pvalue=0.14574881268888107\n",
      "norm: statistic=0.022531579266917734, pvalue=0.10762916579651283\n",
      "cauchy: statistic=0.06829727788923136, pvalue=4.6826477985842315e-12\n",
      "exponpow: statistic=0.11024706046748722, pvalue=9.203300585190037e-31\n",
      "uniform: statistic=0.32286809557007634, pvalue=4.264066827005874e-266\n",
      "rayleigh: statistic=0.33264096625237793, pvalue=7.308049625740415e-283\n",
      "chi2: statistic=0.6016154918003386, pvalue=0.0\n",
      "expon: statistic=0.45190888117906014, pvalue=0.0\n",
      "powerlaw: statistic=0.37553552204905927, pvalue=0.0\n"
     ]
    }
   ],
   "source": [
    "results = []\n",
    "for i in list_of_dists:\n",
    "    dist = getattr(stats, i)\n",
    "    param = dist.fit(laser_coeffs[0])\n",
    "    a = stats.kstest(laser_coeffs[0], i, args=param)\n",
    "    results.append((i,a[0],a[1]))\n",
    "    \n",
    "    \n",
    "results.sort(key=lambda x:float(x[2]), reverse=True)\n",
    "for j in results:\n",
    "    print(\"{}: statistic={}, pvalue={}\".format(j[0], j[1], j[2]))"
   ]
  },
  {
   "cell_type": "code",
   "execution_count": null,
   "id": "4f6ba19c",
   "metadata": {},
   "outputs": [],
   "source": []
  },
  {
   "cell_type": "code",
   "execution_count": 29,
   "id": "a63cbf9c",
   "metadata": {},
   "outputs": [
    {
     "name": "stdout",
     "output_type": "stream",
     "text": [
      "<scipy.stats._continuous_distns.lognorm_gen object at 0x7f5cc1c41eb0>\n",
      "(0.021219159954916633, 0.14962492606407862)\n"
     ]
    }
   ],
   "source": [
    "distribution = getattr(stats, results[0][0])\n",
    "print(distribution)\n",
    "\n",
    "arg = results[0][-2:]\n",
    "loc = results[0][-2]\n",
    "scale = results[0][-1]\n",
    "\n",
    "print(arg)\n",
    "# print(loc)\n",
    "# print(scale)\n",
    "    \n",
    "# Get sane start and end points of distribution\n",
    "start = distribution.ppf(0.0000001, *arg) \n",
    "end = distribution.ppf(0.9999999, *arg) \n",
    "\n",
    "# Build PDF and turn into pandas Series\n",
    "x = np.linspace(start, end, len(gen_coeffs[0]))\n",
    "y = distribution.pdf(x, *arg)\n",
    "pdf = pd.Series(y, x)"
   ]
  },
  {
   "cell_type": "code",
   "execution_count": 30,
   "id": "d4c70561",
   "metadata": {},
   "outputs": [
    {
     "data": {
      "application/vnd.jupyter.widget-view+json": {
       "model_id": "191ef3d526ab40ae8e7f56abdc42e0bb",
       "version_major": 2,
       "version_minor": 0
      },
      "text/plain": [
       "Canvas(toolbar=Toolbar(toolitems=[('Home', 'Reset original view', 'home', 'home'), ('Back', 'Back to previous …"
      ]
     },
     "metadata": {},
     "output_type": "display_data"
    },
    {
     "data": {
      "text/plain": [
       "<AxesSubplot:>"
      ]
     },
     "execution_count": 30,
     "metadata": {},
     "output_type": "execute_result"
    }
   ],
   "source": [
    "%matplotlib widget\n",
    "pdf.plot(kind='line', label=results[0][0], legend=True, lw=2)"
   ]
  },
  {
   "cell_type": "code",
   "execution_count": null,
   "id": "24ae9d8a",
   "metadata": {},
   "outputs": [],
   "source": []
  },
  {
   "cell_type": "code",
   "execution_count": null,
   "id": "b17b5eae",
   "metadata": {},
   "outputs": [],
   "source": []
  },
  {
   "cell_type": "code",
   "execution_count": null,
   "id": "86ff24d7",
   "metadata": {},
   "outputs": [],
   "source": []
  }
 ],
 "metadata": {
  "kernelspec": {
   "display_name": "laser_injection",
   "language": "python",
   "name": "laser_injection"
  },
  "language_info": {
   "codemirror_mode": {
    "name": "ipython",
    "version": 3
   },
   "file_extension": ".py",
   "mimetype": "text/x-python",
   "name": "python",
   "nbconvert_exporter": "python",
   "pygments_lexer": "ipython3",
   "version": "3.8.10"
  }
 },
 "nbformat": 4,
 "nbformat_minor": 5
}
