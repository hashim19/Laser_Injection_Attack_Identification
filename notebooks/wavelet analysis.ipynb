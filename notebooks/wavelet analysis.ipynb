{
 "cells": [
  {
   "cell_type": "code",
   "execution_count": 1,
   "id": "34f5b9e7",
   "metadata": {},
   "outputs": [],
   "source": [
    "import pywt\n",
    "import os\n",
    "import pandas as pd\n",
    "import librosa\n",
    "import librosa.display\n",
    "import glob \n",
    "import numpy as np\n",
    "import matplotlib.pyplot as plt\n",
    "from matplotlib import cm\n",
    "import seaborn as sns\n",
    "from fitter import Fitter, get_common_distributions, get_distributions\n",
    "\n",
    "from sklearn.preprocessing import StandardScaler\n",
    "import sklearn\n",
    "\n",
    "from utils import plot_projections\n",
    "\n",
    "%matplotlib widget"
   ]
  },
  {
   "cell_type": "code",
   "execution_count": 2,
   "id": "4613d8eb",
   "metadata": {},
   "outputs": [],
   "source": [
    "# cluster plotting function\n",
    "\n",
    "def plot_clusters(band_num):\n",
    "    \n",
    "    plt.figure(figsize=(10,3))\n",
    "    \n",
    "#     mean vs sigma\n",
    "    plt.subplot(1, 3, 1)\n",
    "    plt.scatter(orig_mu_feat[:,band_num], orig_sigma_feat[:,band_num], marker='o', label=\"Original\")\n",
    "    plt.scatter(laser_mu_feat[:,band_num], laser_sigma_feat[:,band_num], marker='x', label=\"Laser\")\n",
    "    plt.xlabel(\"Mean\")\n",
    "    plt.ylabel(\"Variance\")\n",
    "    plt.legend()\n",
    "    \n",
    "#     sigma vs beta\n",
    "    plt.subplot(1, 3, 2)\n",
    "    plt.scatter(orig_beta_feat[:,band_num], orig_sigma_feat[:,band_num], marker='o', label=\"Original\")\n",
    "    plt.scatter(laser_beta_feat[:,band_num], laser_sigma_feat[:,band_num], marker='x', label=\"Laser\")\n",
    "    plt.xlabel(\"Beta\")\n",
    "    plt.ylabel(\"Variance\")\n",
    "    plt.legend()\n",
    "     \n",
    "#     beta vs mean\n",
    "    plt.subplot(1, 3, 3)\n",
    "    plt.scatter(orig_mu_feat[:,band_num], orig_beta_feat[:,band_num], marker='o', label=\"Original\")\n",
    "    plt.scatter(laser_mu_feat[:,band_num], laser_beta_feat[:,band_num], marker='x', label=\"Laser\")\n",
    "    plt.xlabel(\"Mean\")\n",
    "    plt.ylabel(\"Beta\")\n",
    "    plt.legend()\n",
    "    \n",
    "    plt.suptitle(\"Laser vs Original for {}th Band\".format(band_num))\n",
    "    \n",
    "    fig = plt.figure(figsize=(10,3))\n",
    "#     plt.figure(figsize=(20,6))\n",
    "    ax = fig.add_subplot(projection='3d')\n",
    "    ax.scatter(orig_mu_feat[:,band_num], orig_sigma_feat[:,band_num], orig_beta_feat[:,band_num], marker='o', label=\"Original\")\n",
    "    ax.scatter(laser_mu_feat[:,band_num], laser_sigma_feat[:,band_num], laser_beta_feat[:,band_num], marker='x', label=\"Laser\")\n",
    "    ax.set_xlabel('Mean')\n",
    "    ax.set_ylabel('Variance')\n",
    "    ax.set_zlabel('Beta')\n",
    "    ax.legend()"
   ]
  },
  {
   "cell_type": "code",
   "execution_count": 3,
   "id": "2f728c59",
   "metadata": {},
   "outputs": [
    {
     "data": {
      "text/plain": [
       "['Haar',\n",
       " 'Daubechies',\n",
       " 'Symlets',\n",
       " 'Coiflets',\n",
       " 'Biorthogonal',\n",
       " 'Reverse biorthogonal',\n",
       " 'Discrete Meyer (FIR Approximation)',\n",
       " 'Gaussian',\n",
       " 'Mexican hat wavelet',\n",
       " 'Morlet wavelet',\n",
       " 'Complex Gaussian wavelets',\n",
       " 'Shannon wavelets',\n",
       " 'Frequency B-Spline wavelets',\n",
       " 'Complex Morlet wavelets']"
      ]
     },
     "execution_count": 3,
     "metadata": {},
     "output_type": "execute_result"
    }
   ],
   "source": [
    "pywt.families(short=False)"
   ]
  },
  {
   "cell_type": "code",
   "execution_count": 4,
   "id": "bd1b9238",
   "metadata": {},
   "outputs": [
    {
     "name": "stdout",
     "output_type": "stream",
     "text": [
      "['/home/hashim/PHD/audio_data/Laser_Original_New/Laser/laser_000.mp3', '/home/hashim/PHD/audio_data/Laser_Original_New/Laser/laser_001.mp3', '/home/hashim/PHD/audio_data/Laser_Original_New/Laser/laser_002.mp3', '/home/hashim/PHD/audio_data/Laser_Original_New/Laser/laser_003.mp3', '/home/hashim/PHD/audio_data/Laser_Original_New/Laser/laser_004.mp3', '/home/hashim/PHD/audio_data/Laser_Original_New/Laser/laser_005.mp3', '/home/hashim/PHD/audio_data/Laser_Original_New/Laser/laser_007.mp3', '/home/hashim/PHD/audio_data/Laser_Original_New/Laser/laser_008.mp3', '/home/hashim/PHD/audio_data/Laser_Original_New/Laser/laser_009.mp3', '/home/hashim/PHD/audio_data/Laser_Original_New/Laser/laser_010.mp3']\n",
      "10\n"
     ]
    }
   ],
   "source": [
    "laser_dir = '/home/hashim/PHD/audio_data/Laser_Original_New/Laser/'\n",
    "laser_files = list(glob.glob(os.path.join(laser_dir, '*.mp3')))\n",
    "laser_files.sort()\n",
    "print(laser_files)\n",
    "print(len(laser_files))"
   ]
  },
  {
   "cell_type": "code",
   "execution_count": 5,
   "id": "b7196eb4",
   "metadata": {},
   "outputs": [
    {
     "name": "stdout",
     "output_type": "stream",
     "text": [
      "['/home/hashim/PHD/audio_data/Laser_Original_New/Original/original_000.mp3', '/home/hashim/PHD/audio_data/Laser_Original_New/Original/original_001.mp3', '/home/hashim/PHD/audio_data/Laser_Original_New/Original/original_002.mp3', '/home/hashim/PHD/audio_data/Laser_Original_New/Original/original_003.mp3', '/home/hashim/PHD/audio_data/Laser_Original_New/Original/original_004.mp3', '/home/hashim/PHD/audio_data/Laser_Original_New/Original/original_005.mp3', '/home/hashim/PHD/audio_data/Laser_Original_New/Original/original_006.mp3', '/home/hashim/PHD/audio_data/Laser_Original_New/Original/original_007.mp3', '/home/hashim/PHD/audio_data/Laser_Original_New/Original/original_008.mp3', '/home/hashim/PHD/audio_data/Laser_Original_New/Original/original_009.mp3']\n",
      "10\n"
     ]
    }
   ],
   "source": [
    "orig_dir = '/home/hashim/PHD/audio_data/Laser_Original_New/Original/'\n",
    "orig_files = list(glob.glob(os.path.join(orig_dir, '*.mp3')))\n",
    "orig_files.sort()\n",
    "print(orig_files)\n",
    "print(len(orig_files))"
   ]
  },
  {
   "cell_type": "code",
   "execution_count": 6,
   "id": "49068b24",
   "metadata": {},
   "outputs": [
    {
     "data": {
      "text/plain": [
       "550839"
      ]
     },
     "execution_count": 6,
     "metadata": {},
     "output_type": "execute_result"
    }
   ],
   "source": [
    "audio_data, sr = librosa.load(orig_files[0], res_type='kaiser_fast')\n",
    "len(audio_data)"
   ]
  },
  {
   "cell_type": "code",
   "execution_count": 7,
   "id": "317eb492",
   "metadata": {},
   "outputs": [
    {
     "data": {
      "text/plain": [
       "array([-7.9890615e-06, -1.6427866e-05, -1.5079420e-05, ...,\n",
       "       -7.6267117e-04, -8.6591946e-04,  0.0000000e+00], dtype=float32)"
      ]
     },
     "execution_count": 7,
     "metadata": {},
     "output_type": "execute_result"
    }
   ],
   "source": [
    "audio_data"
   ]
  },
  {
   "cell_type": "code",
   "execution_count": 8,
   "id": "263ab40e",
   "metadata": {},
   "outputs": [],
   "source": [
    "wp = pywt.WaveletPacket(data=audio_data, wavelet='db1', mode='symmetric', maxlevel=5)"
   ]
  },
  {
   "cell_type": "code",
   "execution_count": 9,
   "id": "028a17e6",
   "metadata": {},
   "outputs": [
    {
     "name": "stdout",
     "output_type": "stream",
     "text": [
      "550839\n"
     ]
    }
   ],
   "source": [
    "wp.data\n",
    "print(len(wp.data))"
   ]
  },
  {
   "cell_type": "code",
   "execution_count": 10,
   "id": "3f98c131",
   "metadata": {},
   "outputs": [
    {
     "data": {
      "text/plain": [
       "<pywt._wavelet_packets.WaveletPacket at 0x7fbbf90f07f0>"
      ]
     },
     "execution_count": 10,
     "metadata": {},
     "output_type": "execute_result"
    }
   ],
   "source": [
    "wp"
   ]
  },
  {
   "cell_type": "code",
   "execution_count": 11,
   "id": "e44e0ac5",
   "metadata": {},
   "outputs": [
    {
     "name": "stdout",
     "output_type": "stream",
     "text": [
      "5\n"
     ]
    }
   ],
   "source": [
    "print(wp.maxlevel)"
   ]
  },
  {
   "cell_type": "code",
   "execution_count": 12,
   "id": "8edcdbc5",
   "metadata": {},
   "outputs": [
    {
     "name": "stdout",
     "output_type": "stream",
     "text": [
      "275420\n"
     ]
    },
    {
     "data": {
      "text/plain": [
       "array([-1.7265374e-05, -2.3079712e-05, -3.1976459e-05, ...,\n",
       "       -1.4990689e-03, -1.1515875e-03,  0.0000000e+00], dtype=float32)"
      ]
     },
     "execution_count": 12,
     "metadata": {},
     "output_type": "execute_result"
    }
   ],
   "source": [
    "print(len(wp['a'].data))\n",
    "wp['a'].data"
   ]
  },
  {
   "cell_type": "code",
   "execution_count": 13,
   "id": "a71c3df1",
   "metadata": {},
   "outputs": [
    {
     "name": "stdout",
     "output_type": "stream",
     "text": [
      "['a', 'd']\n"
     ]
    }
   ],
   "source": [
    "print([node.path for node in wp.get_level(1, 'freq')])"
   ]
  },
  {
   "cell_type": "code",
   "execution_count": 14,
   "id": "85ed1410",
   "metadata": {},
   "outputs": [
    {
     "name": "stdout",
     "output_type": "stream",
     "text": [
      "['aa', 'ad', 'dd', 'da']\n"
     ]
    }
   ],
   "source": [
    "print([node.path for node in wp.get_level(2, 'freq')])"
   ]
  },
  {
   "cell_type": "code",
   "execution_count": 15,
   "id": "72b187e9",
   "metadata": {},
   "outputs": [
    {
     "name": "stdout",
     "output_type": "stream",
     "text": [
      "['aaa', 'aad', 'add', 'ada', 'dda', 'ddd', 'dad', 'daa']\n"
     ]
    }
   ],
   "source": [
    "print([node.path for node in wp.get_level(3, 'freq')])"
   ]
  },
  {
   "cell_type": "code",
   "execution_count": 16,
   "id": "fb546845",
   "metadata": {},
   "outputs": [
    {
     "name": "stdout",
     "output_type": "stream",
     "text": [
      "['aaaa', 'aaad', 'aadd', 'aada', 'adda', 'addd', 'adad', 'adaa', 'ddaa', 'ddad', 'dddd', 'ddda', 'dada', 'dadd', 'daad', 'daaa']\n"
     ]
    }
   ],
   "source": [
    "print([node.path for node in wp.get_level(4, 'freq')])"
   ]
  },
  {
   "cell_type": "code",
   "execution_count": 17,
   "id": "19b4e336",
   "metadata": {},
   "outputs": [
    {
     "name": "stdout",
     "output_type": "stream",
     "text": [
      "['aaaaa', 'aaaad', 'aaadd', 'aaada', 'aadda', 'aaddd', 'aadad', 'aadaa', 'addaa', 'addad', 'adddd', 'addda', 'adada', 'adadd', 'adaad', 'adaaa', 'ddaaa', 'ddaad', 'ddadd', 'ddada', 'dddda', 'ddddd', 'dddad', 'dddaa', 'dadaa', 'dadad', 'daddd', 'dadda', 'daada', 'daadd', 'daaad', 'daaaa']\n"
     ]
    }
   ],
   "source": [
    "print([node.path for node in wp.get_level(5, 'freq')])"
   ]
  },
  {
   "cell_type": "code",
   "execution_count": null,
   "id": "f3533b3b",
   "metadata": {},
   "outputs": [],
   "source": []
  },
  {
   "cell_type": "code",
   "execution_count": 18,
   "id": "f2960e85",
   "metadata": {},
   "outputs": [],
   "source": [
    "db1 = pywt.Wavelet('db1')"
   ]
  },
  {
   "cell_type": "code",
   "execution_count": 19,
   "id": "880313e8",
   "metadata": {},
   "outputs": [],
   "source": [
    "coeffs = pywt.wavedec(audio_data, db1, mode='constant', level=5)"
   ]
  },
  {
   "cell_type": "code",
   "execution_count": 20,
   "id": "7bddd654",
   "metadata": {},
   "outputs": [
    {
     "name": "stdout",
     "output_type": "stream",
     "text": [
      "(6,)\n"
     ]
    },
    {
     "name": "stderr",
     "output_type": "stream",
     "text": [
      "/home/hashim/pyenvs/laser_injection/lib/python3.8/site-packages/numpy/core/_asarray.py:102: VisibleDeprecationWarning: Creating an ndarray from ragged nested sequences (which is a list-or-tuple of lists-or-tuples-or ndarrays with different lengths or shapes) is deprecated. If you meant to do this, you must specify 'dtype=object' when creating the ndarray.\n",
      "  return array(a, dtype, copy=False, order=order)\n"
     ]
    },
    {
     "data": {
      "text/plain": [
       "[array([-8.442947e-05, -9.586333e-05, -8.271822e-05, ..., -3.198916e-03,\n",
       "        -4.245463e-03, -3.419802e-03], dtype=float32),\n",
       " array([-1.5706100e-06, -3.7424070e-06, -4.5164415e-06, ...,\n",
       "         1.0395040e-03,  8.5276016e-04,  5.5678596e-04], dtype=float32),\n",
       " array([-1.4038218e-05,  2.5063691e-06, -3.2384232e-06, ...,\n",
       "        -5.0764717e-04,  7.9983729e-05,  0.0000000e+00], dtype=float32),\n",
       " array([ 1.25814749e-05, -9.48029992e-07, -3.56083729e-06, ...,\n",
       "        -1.15168106e-04,  2.30781734e-05, -8.36706779e-04], dtype=float32),\n",
       " array([ 4.1113572e-06,  1.0996355e-06, -5.7519628e-07, ...,\n",
       "         6.0782826e-04,  1.2242608e-04, -8.1429532e-04], dtype=float32),\n",
       " array([ 5.9671361e-06,  1.7541925e-06, -7.2170587e-07, ...,\n",
       "         2.1305401e-05,  7.3007541e-05,  0.0000000e+00], dtype=float32)]"
      ]
     },
     "execution_count": 20,
     "metadata": {},
     "output_type": "execute_result"
    }
   ],
   "source": [
    "print(np.shape(coeffs))\n",
    "coeffs"
   ]
  },
  {
   "cell_type": "code",
   "execution_count": 21,
   "id": "38ca101a",
   "metadata": {},
   "outputs": [
    {
     "data": {
      "text/plain": [
       "(17214,)"
      ]
     },
     "execution_count": 21,
     "metadata": {},
     "output_type": "execute_result"
    }
   ],
   "source": [
    "np.shape(coeffs[0])"
   ]
  },
  {
   "cell_type": "code",
   "execution_count": 22,
   "id": "6852d533",
   "metadata": {},
   "outputs": [
    {
     "data": {
      "text/plain": [
       "(17214,)"
      ]
     },
     "execution_count": 22,
     "metadata": {},
     "output_type": "execute_result"
    }
   ],
   "source": [
    "np.shape(coeffs[1])"
   ]
  },
  {
   "cell_type": "code",
   "execution_count": 23,
   "id": "507dced2",
   "metadata": {},
   "outputs": [
    {
     "data": {
      "text/plain": [
       "(34428,)"
      ]
     },
     "execution_count": 23,
     "metadata": {},
     "output_type": "execute_result"
    }
   ],
   "source": [
    "np.shape(coeffs[2])"
   ]
  },
  {
   "cell_type": "code",
   "execution_count": 24,
   "id": "ab90ed21",
   "metadata": {},
   "outputs": [
    {
     "data": {
      "text/plain": [
       "(68855,)"
      ]
     },
     "execution_count": 24,
     "metadata": {},
     "output_type": "execute_result"
    }
   ],
   "source": [
    "np.shape(coeffs[3])"
   ]
  },
  {
   "cell_type": "code",
   "execution_count": 25,
   "id": "842506df",
   "metadata": {},
   "outputs": [
    {
     "data": {
      "text/plain": [
       "(275420,)"
      ]
     },
     "execution_count": 25,
     "metadata": {},
     "output_type": "execute_result"
    }
   ],
   "source": [
    "np.shape(coeffs[-1])"
   ]
  },
  {
   "cell_type": "code",
   "execution_count": 26,
   "id": "53f766b1",
   "metadata": {},
   "outputs": [],
   "source": [
    "x = [3, 7, 1, 1, -2, 5, 4, 6]"
   ]
  },
  {
   "cell_type": "code",
   "execution_count": 27,
   "id": "73a50cf6",
   "metadata": {},
   "outputs": [],
   "source": [
    "# coeffs = pywt.wavedec(x, db1)\n",
    "# coeffs"
   ]
  },
  {
   "cell_type": "markdown",
   "id": "eb2d094a",
   "metadata": {},
   "source": [
    "# Wavelet Analysis starts from here"
   ]
  },
  {
   "cell_type": "code",
   "execution_count": null,
   "id": "49095efa",
   "metadata": {},
   "outputs": [],
   "source": []
  },
  {
   "cell_type": "code",
   "execution_count": 28,
   "id": "a8f94b40",
   "metadata": {},
   "outputs": [],
   "source": [
    "%%capture\n",
    "# compute coefficients for both laser and original\n",
    "laser_spec = []\n",
    "\n",
    "laser_mu_feat = []\n",
    "laser_sigma_feat = []\n",
    "laser_beta_feat = []\n",
    "\n",
    "for lf in laser_files:\n",
    "    audio_data, sr = librosa.load(lf, res_type='kaiser_fast')\n",
    "#     stft = librosa.stft(audio_data, n_fft=256)\n",
    "#     S_db = librosa.amplitude_to_db(np.abs(stft), ref=np.max)\n",
    "    coeffs = pywt.wavedec(audio_data, db1, mode='constant', level=5)\n",
    "    \n",
    "    \n",
    "    mu_feat = []\n",
    "    sigma_feat = []\n",
    "    beta_feat = []\n",
    "    for cf in coeffs:\n",
    "        \n",
    "        f = Fitter(cf, distributions=[\"gennorm\"])\n",
    "\n",
    "        f.fit()\n",
    "#         print(f.get_best(method = 'sumsquare_error'))\n",
    "\n",
    "        f_param = f.fitted_param[\"gennorm\"]\n",
    "    \n",
    "#         print(f_param)\n",
    "#         print(f.summary())\n",
    "\n",
    "        mu_feat.append(f_param[1])\n",
    "        sigma_feat.append(f_param[2])\n",
    "        beta_feat.append(f_param[0])\n",
    "        \n",
    "    laser_mu_feat.append(mu_feat)\n",
    "    laser_sigma_feat.append(sigma_feat)\n",
    "    laser_beta_feat.append(beta_feat)    \n",
    "    \n",
    "laser_mu_feat = np.array(laser_mu_feat)\n",
    "laser_sigma_feat = np.array(laser_sigma_feat)\n",
    "laser_beta_feat = np.array(laser_beta_feat)\n",
    "\n",
    "#     laser_spec.append(S_db)\n",
    "\n",
    "# laser_spec = np.array(laser_spec)\n",
    "# laser_spec"
   ]
  },
  {
   "cell_type": "code",
   "execution_count": 29,
   "id": "984fc786",
   "metadata": {},
   "outputs": [
    {
     "name": "stdout",
     "output_type": "stream",
     "text": [
      "(10, 6)\n",
      "(10, 6)\n",
      "(10, 6)\n"
     ]
    }
   ],
   "source": [
    "print(laser_mu_feat.shape)\n",
    "print(laser_sigma_feat.shape)\n",
    "print(laser_beta_feat.shape)"
   ]
  },
  {
   "cell_type": "code",
   "execution_count": 30,
   "id": "d4c5fc58",
   "metadata": {},
   "outputs": [],
   "source": [
    "%%capture\n",
    "orig_spec = []\n",
    "\n",
    "orig_mu_feat = []\n",
    "orig_sigma_feat = []\n",
    "orig_beta_feat = []\n",
    "for of in orig_files:\n",
    "    audio_data, sr = librosa.load(of, res_type='kaiser_fast')\n",
    "#     stft = librosa.stft(audio_data, n_fft=256)\n",
    "#     S_db = librosa.amplitude_to_db(np.abs(stft), ref=np.max)\n",
    "    coeffs = pywt.wavedec(audio_data, db1, mode='constant', level=5)\n",
    "    \n",
    "\n",
    "    mu_feat = []\n",
    "    sigma_feat = []\n",
    "    beta_feat = []\n",
    "    for cf in coeffs:\n",
    "        \n",
    "        f = Fitter(cf, distributions=[\"gennorm\"])\n",
    "\n",
    "        f.fit()\n",
    "#         print(f.get_best(method = 'sumsquare_error'))\n",
    "\n",
    "        f_param = f.fitted_param[\"gennorm\"]\n",
    "\n",
    "        mu_feat.append(f_param[1])\n",
    "        sigma_feat.append(f_param[2])\n",
    "        beta_feat.append(f_param[0])\n",
    "        \n",
    "    orig_mu_feat.append(mu_feat)\n",
    "    orig_sigma_feat.append(sigma_feat)\n",
    "    orig_beta_feat.append(beta_feat)\n",
    "    \n",
    "orig_mu_feat = np.array(orig_mu_feat)\n",
    "orig_sigma_feat = np.array(orig_sigma_feat)\n",
    "orig_beta_feat = np.array(orig_beta_feat)\n"
   ]
  },
  {
   "cell_type": "code",
   "execution_count": 31,
   "id": "a3023afd",
   "metadata": {},
   "outputs": [
    {
     "name": "stdout",
     "output_type": "stream",
     "text": [
      "(10, 6)\n",
      "(10, 6)\n",
      "(10, 6)\n"
     ]
    }
   ],
   "source": [
    "print(orig_mu_feat.shape)\n",
    "print(orig_sigma_feat.shape)\n",
    "print(orig_beta_feat.shape)"
   ]
  },
  {
   "cell_type": "code",
   "execution_count": 32,
   "id": "e0f398b8",
   "metadata": {},
   "outputs": [
    {
     "data": {
      "application/vnd.jupyter.widget-view+json": {
       "model_id": "8703165c022c410ea03182683110cb7f",
       "version_major": 2,
       "version_minor": 0
      },
      "text/plain": [
       "Canvas(toolbar=Toolbar(toolitems=[('Home', 'Reset original view', 'home', 'home'), ('Back', 'Back to previous …"
      ]
     },
     "metadata": {},
     "output_type": "display_data"
    },
    {
     "data": {
      "application/vnd.jupyter.widget-view+json": {
       "model_id": "5b8a43a5586245c1b7f93e62b36dddf0",
       "version_major": 2,
       "version_minor": 0
      },
      "text/plain": [
       "Canvas(toolbar=Toolbar(toolitems=[('Home', 'Reset original view', 'home', 'home'), ('Back', 'Back to previous …"
      ]
     },
     "metadata": {},
     "output_type": "display_data"
    }
   ],
   "source": [
    "aprox_detail_coeff = 0 \n",
    "plot_clusters(aprox_detail_coeff)"
   ]
  },
  {
   "cell_type": "code",
   "execution_count": 33,
   "id": "ea78c5a6",
   "metadata": {},
   "outputs": [
    {
     "data": {
      "application/vnd.jupyter.widget-view+json": {
       "model_id": "d37b680fc09c4faea01eccd42cabedf6",
       "version_major": 2,
       "version_minor": 0
      },
      "text/plain": [
       "Canvas(toolbar=Toolbar(toolitems=[('Home', 'Reset original view', 'home', 'home'), ('Back', 'Back to previous …"
      ]
     },
     "metadata": {},
     "output_type": "display_data"
    },
    {
     "data": {
      "application/vnd.jupyter.widget-view+json": {
       "model_id": "427195e4f7414cf7bea3af3512dc3c97",
       "version_major": 2,
       "version_minor": 0
      },
      "text/plain": [
       "Canvas(toolbar=Toolbar(toolitems=[('Home', 'Reset original view', 'home', 'home'), ('Back', 'Back to previous …"
      ]
     },
     "metadata": {},
     "output_type": "display_data"
    }
   ],
   "source": [
    "aprox_detail_coeff = 1 \n",
    "plot_clusters(aprox_detail_coeff)"
   ]
  },
  {
   "cell_type": "code",
   "execution_count": 34,
   "id": "da34a88d",
   "metadata": {},
   "outputs": [
    {
     "data": {
      "application/vnd.jupyter.widget-view+json": {
       "model_id": "f1baf155411a49e3a94138b0c8b44813",
       "version_major": 2,
       "version_minor": 0
      },
      "text/plain": [
       "Canvas(toolbar=Toolbar(toolitems=[('Home', 'Reset original view', 'home', 'home'), ('Back', 'Back to previous …"
      ]
     },
     "metadata": {},
     "output_type": "display_data"
    },
    {
     "data": {
      "application/vnd.jupyter.widget-view+json": {
       "model_id": "1b858c6fcd954734ac9abd767b629ce3",
       "version_major": 2,
       "version_minor": 0
      },
      "text/plain": [
       "Canvas(toolbar=Toolbar(toolitems=[('Home', 'Reset original view', 'home', 'home'), ('Back', 'Back to previous …"
      ]
     },
     "metadata": {},
     "output_type": "display_data"
    }
   ],
   "source": [
    "aprox_detail_coeff = 2 \n",
    "plot_clusters(aprox_detail_coeff)"
   ]
  },
  {
   "cell_type": "code",
   "execution_count": 35,
   "id": "80ea5530",
   "metadata": {},
   "outputs": [
    {
     "data": {
      "application/vnd.jupyter.widget-view+json": {
       "model_id": "f89e017ff5c94848a503c8a1e23acb75",
       "version_major": 2,
       "version_minor": 0
      },
      "text/plain": [
       "Canvas(toolbar=Toolbar(toolitems=[('Home', 'Reset original view', 'home', 'home'), ('Back', 'Back to previous …"
      ]
     },
     "metadata": {},
     "output_type": "display_data"
    },
    {
     "data": {
      "application/vnd.jupyter.widget-view+json": {
       "model_id": "1422ddbb534b4ec58f23ea8045e7a954",
       "version_major": 2,
       "version_minor": 0
      },
      "text/plain": [
       "Canvas(toolbar=Toolbar(toolitems=[('Home', 'Reset original view', 'home', 'home'), ('Back', 'Back to previous …"
      ]
     },
     "metadata": {},
     "output_type": "display_data"
    }
   ],
   "source": [
    "aprox_detail_coeff = 3 \n",
    "plot_clusters(aprox_detail_coeff)"
   ]
  },
  {
   "cell_type": "code",
   "execution_count": 36,
   "id": "a2583a77",
   "metadata": {},
   "outputs": [
    {
     "data": {
      "application/vnd.jupyter.widget-view+json": {
       "model_id": "8346c3ff36d84a058f897a1ce1e7271d",
       "version_major": 2,
       "version_minor": 0
      },
      "text/plain": [
       "Canvas(toolbar=Toolbar(toolitems=[('Home', 'Reset original view', 'home', 'home'), ('Back', 'Back to previous …"
      ]
     },
     "metadata": {},
     "output_type": "display_data"
    },
    {
     "data": {
      "application/vnd.jupyter.widget-view+json": {
       "model_id": "5071b6bbd07847f38e76daea876503bc",
       "version_major": 2,
       "version_minor": 0
      },
      "text/plain": [
       "Canvas(toolbar=Toolbar(toolitems=[('Home', 'Reset original view', 'home', 'home'), ('Back', 'Back to previous …"
      ]
     },
     "metadata": {},
     "output_type": "display_data"
    }
   ],
   "source": [
    "aprox_detail_coeff = 4 \n",
    "plot_clusters(aprox_detail_coeff)"
   ]
  },
  {
   "cell_type": "code",
   "execution_count": 37,
   "id": "b7bb814d",
   "metadata": {},
   "outputs": [
    {
     "data": {
      "application/vnd.jupyter.widget-view+json": {
       "model_id": "303d9e76101e495f98ab21d02cb75096",
       "version_major": 2,
       "version_minor": 0
      },
      "text/plain": [
       "Canvas(toolbar=Toolbar(toolitems=[('Home', 'Reset original view', 'home', 'home'), ('Back', 'Back to previous …"
      ]
     },
     "metadata": {},
     "output_type": "display_data"
    },
    {
     "data": {
      "application/vnd.jupyter.widget-view+json": {
       "model_id": "8b1fb0e5120146ef8f47496caf93eedf",
       "version_major": 2,
       "version_minor": 0
      },
      "text/plain": [
       "Canvas(toolbar=Toolbar(toolitems=[('Home', 'Reset original view', 'home', 'home'), ('Back', 'Back to previous …"
      ]
     },
     "metadata": {},
     "output_type": "display_data"
    }
   ],
   "source": [
    "aprox_detail_coeff = 5 \n",
    "plot_clusters(aprox_detail_coeff)"
   ]
  },
  {
   "cell_type": "markdown",
   "id": "8a6fd070",
   "metadata": {},
   "source": [
    "#  Below Results are for the VAD audios "
   ]
  },
  {
   "cell_type": "code",
   "execution_count": 38,
   "id": "295a0a91",
   "metadata": {},
   "outputs": [
    {
     "name": "stdout",
     "output_type": "stream",
     "text": [
      "72\n"
     ]
    }
   ],
   "source": [
    "laser_dir = '/home/hashim/PHD/audio_data/Laser_Original_New/Laser_cleaned/'\n",
    "laser_files = list(glob.glob(os.path.join(laser_dir, '*.mp3')))\n",
    "laser_files.sort()\n",
    "# print(laser_files)\n",
    "print(len(laser_files))"
   ]
  },
  {
   "cell_type": "code",
   "execution_count": 39,
   "id": "787204d3",
   "metadata": {},
   "outputs": [
    {
     "name": "stdout",
     "output_type": "stream",
     "text": [
      "74\n"
     ]
    }
   ],
   "source": [
    "orig_dir = '/home/hashim/PHD/audio_data/Laser_Original_New/Original_cleaned/'\n",
    "orig_files = list(glob.glob(os.path.join(orig_dir, '*.mp3')))\n",
    "orig_files.sort()\n",
    "# print(orig_files)\n",
    "print(len(orig_files))"
   ]
  },
  {
   "cell_type": "code",
   "execution_count": 40,
   "id": "2e1bd78c",
   "metadata": {},
   "outputs": [],
   "source": [
    "%%capture\n",
    "# compute spectograms for both laser and original\n",
    "laser_spec = []\n",
    "\n",
    "laser_mu_feat = []\n",
    "laser_sigma_feat = []\n",
    "laser_beta_feat = []\n",
    "\n",
    "for lf in laser_files:\n",
    "    audio_data, sr = librosa.load(lf, res_type='kaiser_fast')\n",
    "#     stft = librosa.stft(audio_data, n_fft=256)\n",
    "#     S_db = librosa.amplitude_to_db(np.abs(stft), ref=np.max)\n",
    "    coeffs = pywt.wavedec(audio_data, db1, mode='constant', level=5)\n",
    "    \n",
    "    \n",
    "    mu_feat = []\n",
    "    sigma_feat = []\n",
    "    beta_feat = []\n",
    "    for cf in coeffs:\n",
    "        \n",
    "        f = Fitter(cf, distributions=[\"gennorm\"])\n",
    "\n",
    "        f.fit()\n",
    "#         print(f.get_best(method = 'sumsquare_error'))\n",
    "\n",
    "        f_param = f.fitted_param[\"gennorm\"]\n",
    "    \n",
    "#         print(f_param)\n",
    "#         print(f.summary())\n",
    "\n",
    "        mu_feat.append(f_param[1])\n",
    "        sigma_feat.append(f_param[2])\n",
    "        beta_feat.append(f_param[0])\n",
    "        \n",
    "    laser_mu_feat.append(mu_feat)\n",
    "    laser_sigma_feat.append(sigma_feat)\n",
    "    laser_beta_feat.append(beta_feat)    \n",
    "    \n",
    "laser_mu_feat = np.array(laser_mu_feat)\n",
    "laser_sigma_feat = np.array(laser_sigma_feat)\n",
    "laser_beta_feat = np.array(laser_beta_feat)"
   ]
  },
  {
   "cell_type": "code",
   "execution_count": 41,
   "id": "7be2748e",
   "metadata": {},
   "outputs": [
    {
     "name": "stdout",
     "output_type": "stream",
     "text": [
      "(72, 6)\n",
      "(72, 6)\n",
      "(72, 6)\n"
     ]
    }
   ],
   "source": [
    "print(laser_mu_feat.shape)\n",
    "print(laser_sigma_feat.shape)\n",
    "print(laser_beta_feat.shape)"
   ]
  },
  {
   "cell_type": "code",
   "execution_count": 42,
   "id": "496b9463",
   "metadata": {},
   "outputs": [],
   "source": [
    "%%capture\n",
    "orig_spec = []\n",
    "\n",
    "orig_mu_feat = []\n",
    "orig_sigma_feat = []\n",
    "orig_beta_feat = []\n",
    "for of in orig_files:\n",
    "    audio_data, sr = librosa.load(of, res_type='kaiser_fast')\n",
    "#     stft = librosa.stft(audio_data, n_fft=256)\n",
    "#     S_db = librosa.amplitude_to_db(np.abs(stft), ref=np.max)\n",
    "    coeffs = pywt.wavedec(audio_data, db1, mode='constant', level=5)\n",
    "    \n",
    "\n",
    "    mu_feat = []\n",
    "    sigma_feat = []\n",
    "    beta_feat = []\n",
    "    for cf in coeffs:\n",
    "        \n",
    "        f = Fitter(cf, distributions=[\"gennorm\"])\n",
    "\n",
    "        f.fit()\n",
    "#         print(f.get_best(method = 'sumsquare_error'))\n",
    "\n",
    "        f_param = f.fitted_param[\"gennorm\"]\n",
    "\n",
    "        mu_feat.append(f_param[1])\n",
    "        sigma_feat.append(f_param[2])\n",
    "        beta_feat.append(f_param[0])\n",
    "        \n",
    "    orig_mu_feat.append(mu_feat)\n",
    "    orig_sigma_feat.append(sigma_feat)\n",
    "    orig_beta_feat.append(beta_feat)\n",
    "    \n",
    "orig_mu_feat = np.array(orig_mu_feat)\n",
    "orig_sigma_feat = np.array(orig_sigma_feat)\n",
    "orig_beta_feat = np.array(orig_beta_feat)\n"
   ]
  },
  {
   "cell_type": "code",
   "execution_count": 43,
   "id": "bc4b56fa",
   "metadata": {},
   "outputs": [
    {
     "name": "stdout",
     "output_type": "stream",
     "text": [
      "(74, 6)\n",
      "(74, 6)\n",
      "(74, 6)\n"
     ]
    }
   ],
   "source": [
    "print(orig_mu_feat.shape)\n",
    "print(orig_sigma_feat.shape)\n",
    "print(orig_beta_feat.shape)"
   ]
  },
  {
   "cell_type": "code",
   "execution_count": 44,
   "id": "5a915f27",
   "metadata": {},
   "outputs": [
    {
     "data": {
      "application/vnd.jupyter.widget-view+json": {
       "model_id": "47d5497da4264eddb721c84d0182feba",
       "version_major": 2,
       "version_minor": 0
      },
      "text/plain": [
       "Canvas(toolbar=Toolbar(toolitems=[('Home', 'Reset original view', 'home', 'home'), ('Back', 'Back to previous …"
      ]
     },
     "metadata": {},
     "output_type": "display_data"
    },
    {
     "data": {
      "application/vnd.jupyter.widget-view+json": {
       "model_id": "b3533b43b6b1460bb079b1f47d56f062",
       "version_major": 2,
       "version_minor": 0
      },
      "text/plain": [
       "Canvas(toolbar=Toolbar(toolitems=[('Home', 'Reset original view', 'home', 'home'), ('Back', 'Back to previous …"
      ]
     },
     "metadata": {},
     "output_type": "display_data"
    }
   ],
   "source": [
    "aprox_detail_coeff = 0 \n",
    "plot_clusters(aprox_detail_coeff)"
   ]
  },
  {
   "cell_type": "code",
   "execution_count": 45,
   "id": "8d77920a",
   "metadata": {},
   "outputs": [
    {
     "data": {
      "application/vnd.jupyter.widget-view+json": {
       "model_id": "54c51bdb3a244049a4363ebf7ced03e4",
       "version_major": 2,
       "version_minor": 0
      },
      "text/plain": [
       "Canvas(toolbar=Toolbar(toolitems=[('Home', 'Reset original view', 'home', 'home'), ('Back', 'Back to previous …"
      ]
     },
     "metadata": {},
     "output_type": "display_data"
    },
    {
     "data": {
      "application/vnd.jupyter.widget-view+json": {
       "model_id": "e4921ce1ad72420ca50d1cf7a9f75a10",
       "version_major": 2,
       "version_minor": 0
      },
      "text/plain": [
       "Canvas(toolbar=Toolbar(toolitems=[('Home', 'Reset original view', 'home', 'home'), ('Back', 'Back to previous …"
      ]
     },
     "metadata": {},
     "output_type": "display_data"
    }
   ],
   "source": [
    "aprox_detail_coeff = 1 \n",
    "plot_clusters(aprox_detail_coeff)"
   ]
  },
  {
   "cell_type": "code",
   "execution_count": 46,
   "id": "c0cf6384",
   "metadata": {},
   "outputs": [
    {
     "data": {
      "application/vnd.jupyter.widget-view+json": {
       "model_id": "cf541216a5454c7596572fe78cb20415",
       "version_major": 2,
       "version_minor": 0
      },
      "text/plain": [
       "Canvas(toolbar=Toolbar(toolitems=[('Home', 'Reset original view', 'home', 'home'), ('Back', 'Back to previous …"
      ]
     },
     "metadata": {},
     "output_type": "display_data"
    },
    {
     "data": {
      "application/vnd.jupyter.widget-view+json": {
       "model_id": "7035bb5457fe437984ed4586fbf06bb9",
       "version_major": 2,
       "version_minor": 0
      },
      "text/plain": [
       "Canvas(toolbar=Toolbar(toolitems=[('Home', 'Reset original view', 'home', 'home'), ('Back', 'Back to previous …"
      ]
     },
     "metadata": {},
     "output_type": "display_data"
    }
   ],
   "source": [
    "aprox_detail_coeff = 2 \n",
    "plot_clusters(aprox_detail_coeff)"
   ]
  },
  {
   "cell_type": "code",
   "execution_count": 47,
   "id": "63dd3870",
   "metadata": {},
   "outputs": [
    {
     "data": {
      "application/vnd.jupyter.widget-view+json": {
       "model_id": "ad5d1540558d40e4a8606ae3d5b9d67b",
       "version_major": 2,
       "version_minor": 0
      },
      "text/plain": [
       "Canvas(toolbar=Toolbar(toolitems=[('Home', 'Reset original view', 'home', 'home'), ('Back', 'Back to previous …"
      ]
     },
     "metadata": {},
     "output_type": "display_data"
    },
    {
     "data": {
      "application/vnd.jupyter.widget-view+json": {
       "model_id": "140e39ad93694d619c990af35922fd7e",
       "version_major": 2,
       "version_minor": 0
      },
      "text/plain": [
       "Canvas(toolbar=Toolbar(toolitems=[('Home', 'Reset original view', 'home', 'home'), ('Back', 'Back to previous …"
      ]
     },
     "metadata": {},
     "output_type": "display_data"
    }
   ],
   "source": [
    "aprox_detail_coeff = 3 \n",
    "plot_clusters(aprox_detail_coeff)"
   ]
  },
  {
   "cell_type": "code",
   "execution_count": 48,
   "id": "43f00c4f",
   "metadata": {},
   "outputs": [
    {
     "data": {
      "application/vnd.jupyter.widget-view+json": {
       "model_id": "372a14e9b4ef4e7db604e9182b963e29",
       "version_major": 2,
       "version_minor": 0
      },
      "text/plain": [
       "Canvas(toolbar=Toolbar(toolitems=[('Home', 'Reset original view', 'home', 'home'), ('Back', 'Back to previous …"
      ]
     },
     "metadata": {},
     "output_type": "display_data"
    },
    {
     "data": {
      "application/vnd.jupyter.widget-view+json": {
       "model_id": "28e7d0e75cfe4b23a88285f4e7142e6b",
       "version_major": 2,
       "version_minor": 0
      },
      "text/plain": [
       "Canvas(toolbar=Toolbar(toolitems=[('Home', 'Reset original view', 'home', 'home'), ('Back', 'Back to previous …"
      ]
     },
     "metadata": {},
     "output_type": "display_data"
    }
   ],
   "source": [
    "aprox_detail_coeff = 4 \n",
    "plot_clusters(aprox_detail_coeff)"
   ]
  },
  {
   "cell_type": "code",
   "execution_count": 49,
   "id": "c5bd2bcb",
   "metadata": {},
   "outputs": [
    {
     "data": {
      "application/vnd.jupyter.widget-view+json": {
       "model_id": "4f55d332d7ef4ed5858fd1ad389c5934",
       "version_major": 2,
       "version_minor": 0
      },
      "text/plain": [
       "Canvas(toolbar=Toolbar(toolitems=[('Home', 'Reset original view', 'home', 'home'), ('Back', 'Back to previous …"
      ]
     },
     "metadata": {},
     "output_type": "display_data"
    },
    {
     "data": {
      "application/vnd.jupyter.widget-view+json": {
       "model_id": "73e34d60c1364e12b57c7f0bd4122fc6",
       "version_major": 2,
       "version_minor": 0
      },
      "text/plain": [
       "Canvas(toolbar=Toolbar(toolitems=[('Home', 'Reset original view', 'home', 'home'), ('Back', 'Back to previous …"
      ]
     },
     "metadata": {},
     "output_type": "display_data"
    }
   ],
   "source": [
    "aprox_detail_coeff = 5 \n",
    "plot_clusters(aprox_detail_coeff)"
   ]
  },
  {
   "cell_type": "markdown",
   "id": "80e23292",
   "metadata": {},
   "source": [
    "# SVM with Linear Kernel"
   ]
  },
  {
   "cell_type": "code",
   "execution_count": 50,
   "id": "a8ea1fdf",
   "metadata": {},
   "outputs": [],
   "source": [
    "import sklearn\n",
    "\n",
    "from sklearn.svm import LinearSVC\n",
    "from sklearn.pipeline import make_pipeline\n",
    "from sklearn.preprocessing import StandardScaler\n",
    "from sklearn.svm import SVC\n",
    "\n",
    "from sklearn.model_selection import train_test_split\n",
    "from sklearn.metrics import accuracy_score\n",
    "from sklearn.metrics import confusion_matrix, ConfusionMatrixDisplay\n",
    "from sklearn.metrics import plot_confusion_matrix"
   ]
  },
  {
   "cell_type": "code",
   "execution_count": 51,
   "id": "4d5d1a45",
   "metadata": {},
   "outputs": [
    {
     "name": "stdout",
     "output_type": "stream",
     "text": [
      "['laser' 'laser' 'laser' 'laser' 'laser' 'laser' 'laser' 'laser' 'laser'\n",
      " 'laser' 'laser' 'laser' 'laser' 'laser' 'laser' 'laser' 'laser' 'laser'\n",
      " 'laser' 'laser' 'laser' 'laser' 'laser' 'laser' 'laser' 'laser' 'laser'\n",
      " 'laser' 'laser' 'laser' 'laser' 'laser' 'laser' 'laser' 'laser' 'laser'\n",
      " 'laser' 'laser' 'laser' 'laser' 'laser' 'laser' 'laser' 'laser' 'laser'\n",
      " 'laser' 'laser' 'laser' 'laser' 'laser' 'laser' 'laser' 'laser' 'laser'\n",
      " 'laser' 'laser' 'laser' 'laser' 'laser' 'laser' 'laser' 'laser' 'laser'\n",
      " 'laser' 'laser' 'laser' 'laser' 'laser' 'laser' 'laser' 'laser' 'laser']\n",
      "(72,)\n"
     ]
    },
    {
     "data": {
      "text/plain": [
       "(72, 18)"
      ]
     },
     "execution_count": 51,
     "metadata": {},
     "output_type": "execute_result"
    }
   ],
   "source": [
    "X_laser = np.concatenate((laser_mu_feat, laser_sigma_feat, laser_beta_feat), axis=1)\n",
    "laser_label = np.array(['laser']*X_laser.shape[0])\n",
    "print(laser_label)\n",
    "print(laser_label.shape)\n",
    "X_laser.shape"
   ]
  },
  {
   "cell_type": "code",
   "execution_count": 52,
   "id": "a96a73ca",
   "metadata": {},
   "outputs": [
    {
     "name": "stdout",
     "output_type": "stream",
     "text": [
      "['original' 'original' 'original' 'original' 'original' 'original'\n",
      " 'original' 'original' 'original' 'original' 'original' 'original'\n",
      " 'original' 'original' 'original' 'original' 'original' 'original'\n",
      " 'original' 'original' 'original' 'original' 'original' 'original'\n",
      " 'original' 'original' 'original' 'original' 'original' 'original'\n",
      " 'original' 'original' 'original' 'original' 'original' 'original'\n",
      " 'original' 'original' 'original' 'original' 'original' 'original'\n",
      " 'original' 'original' 'original' 'original' 'original' 'original'\n",
      " 'original' 'original' 'original' 'original' 'original' 'original'\n",
      " 'original' 'original' 'original' 'original' 'original' 'original'\n",
      " 'original' 'original' 'original' 'original' 'original' 'original'\n",
      " 'original' 'original' 'original' 'original' 'original' 'original'\n",
      " 'original' 'original']\n",
      "(74,)\n"
     ]
    },
    {
     "data": {
      "text/plain": [
       "(74, 18)"
      ]
     },
     "execution_count": 52,
     "metadata": {},
     "output_type": "execute_result"
    }
   ],
   "source": [
    "X_orig = np.concatenate((orig_mu_feat, orig_sigma_feat, orig_beta_feat), axis=1)\n",
    "orig_label = np.array(['original']*X_orig.shape[0])\n",
    "print(orig_label)\n",
    "print(orig_label.shape)\n",
    "X_orig.shape"
   ]
  },
  {
   "cell_type": "code",
   "execution_count": 53,
   "id": "1313a81f",
   "metadata": {},
   "outputs": [],
   "source": [
    "clf = make_pipeline(StandardScaler(), LinearSVC())"
   ]
  },
  {
   "cell_type": "code",
   "execution_count": 54,
   "id": "01ac2081",
   "metadata": {},
   "outputs": [
    {
     "data": {
      "text/plain": [
       "(146, 18)"
      ]
     },
     "execution_count": 54,
     "metadata": {},
     "output_type": "execute_result"
    }
   ],
   "source": [
    "X = np.concatenate((X_laser, X_orig))\n",
    "X.shape"
   ]
  },
  {
   "cell_type": "code",
   "execution_count": 55,
   "id": "f31f76dc",
   "metadata": {},
   "outputs": [
    {
     "data": {
      "text/plain": [
       "(146,)"
      ]
     },
     "execution_count": 55,
     "metadata": {},
     "output_type": "execute_result"
    }
   ],
   "source": [
    "y = np.concatenate((laser_label, orig_label))\n",
    "y.shape"
   ]
  },
  {
   "cell_type": "code",
   "execution_count": 56,
   "id": "8c4bdbae",
   "metadata": {},
   "outputs": [],
   "source": [
    "X_train, X_test, y_train, y_test = train_test_split(X, y, test_size=0.33, random_state=42)"
   ]
  },
  {
   "cell_type": "code",
   "execution_count": 57,
   "id": "9956b92e",
   "metadata": {},
   "outputs": [
    {
     "data": {
      "text/plain": [
       "(97, 18)"
      ]
     },
     "execution_count": 57,
     "metadata": {},
     "output_type": "execute_result"
    }
   ],
   "source": [
    "X_train.shape"
   ]
  },
  {
   "cell_type": "code",
   "execution_count": 58,
   "id": "1aeafa07",
   "metadata": {},
   "outputs": [
    {
     "data": {
      "text/plain": [
       "(97,)"
      ]
     },
     "execution_count": 58,
     "metadata": {},
     "output_type": "execute_result"
    }
   ],
   "source": [
    "y_train.shape"
   ]
  },
  {
   "cell_type": "code",
   "execution_count": 59,
   "id": "d9e80529",
   "metadata": {},
   "outputs": [
    {
     "data": {
      "text/plain": [
       "Pipeline(steps=[('standardscaler', StandardScaler()),\n",
       "                ('linearsvc', LinearSVC())])"
      ]
     },
     "execution_count": 59,
     "metadata": {},
     "output_type": "execute_result"
    }
   ],
   "source": [
    "clf.fit(X_train, y_train)"
   ]
  },
  {
   "cell_type": "code",
   "execution_count": 60,
   "id": "5c1bdcc4",
   "metadata": {},
   "outputs": [],
   "source": [
    "y_pred = clf.predict(X_test)"
   ]
  },
  {
   "cell_type": "code",
   "execution_count": 61,
   "id": "1eda758f",
   "metadata": {},
   "outputs": [
    {
     "name": "stdout",
     "output_type": "stream",
     "text": [
      "accuracy =  0.9591836734693877\n"
     ]
    }
   ],
   "source": [
    "print(\"accuracy = \", accuracy_score(y_test, y_pred))"
   ]
  },
  {
   "cell_type": "code",
   "execution_count": 62,
   "id": "aab2f1a4",
   "metadata": {},
   "outputs": [],
   "source": [
    "cm = confusion_matrix(y_test, y_pred)"
   ]
  },
  {
   "cell_type": "code",
   "execution_count": 63,
   "id": "deb5e093",
   "metadata": {},
   "outputs": [],
   "source": [
    "tn, fp, fn, tp = confusion_matrix(y_test, y_pred).ravel()"
   ]
  },
  {
   "cell_type": "code",
   "execution_count": 64,
   "id": "a2501bc3",
   "metadata": {},
   "outputs": [
    {
     "data": {
      "text/plain": [
       "(25, 1, 1, 22)"
      ]
     },
     "execution_count": 64,
     "metadata": {},
     "output_type": "execute_result"
    }
   ],
   "source": [
    "(tn, fp, fn, tp)"
   ]
  },
  {
   "cell_type": "code",
   "execution_count": 65,
   "id": "5f825466",
   "metadata": {},
   "outputs": [
    {
     "data": {
      "application/vnd.jupyter.widget-view+json": {
       "model_id": "09b8151ba2444172b21ce6d21a1e333f",
       "version_major": 2,
       "version_minor": 0
      },
      "text/plain": [
       "Canvas(toolbar=Toolbar(toolitems=[('Home', 'Reset original view', 'home', 'home'), ('Back', 'Back to previous …"
      ]
     },
     "metadata": {},
     "output_type": "display_data"
    },
    {
     "data": {
      "text/plain": [
       "<sklearn.metrics._plot.confusion_matrix.ConfusionMatrixDisplay at 0x7f28fe5950d0>"
      ]
     },
     "execution_count": 65,
     "metadata": {},
     "output_type": "execute_result"
    }
   ],
   "source": [
    "disp = ConfusionMatrixDisplay(confusion_matrix=cm, display_labels=clf.classes_)\n",
    "disp.plot()"
   ]
  },
  {
   "cell_type": "markdown",
   "id": "df953945",
   "metadata": {},
   "source": [
    "# svm with non-linear kernal"
   ]
  },
  {
   "cell_type": "code",
   "execution_count": 66,
   "id": "7e961b84",
   "metadata": {},
   "outputs": [],
   "source": [
    "clf_svc = make_pipeline(StandardScaler(), SVC(gamma='auto'))"
   ]
  },
  {
   "cell_type": "code",
   "execution_count": 67,
   "id": "3ec978a3",
   "metadata": {},
   "outputs": [
    {
     "data": {
      "text/plain": [
       "Pipeline(steps=[('standardscaler', StandardScaler()),\n",
       "                ('svc', SVC(gamma='auto'))])"
      ]
     },
     "execution_count": 67,
     "metadata": {},
     "output_type": "execute_result"
    }
   ],
   "source": [
    "clf_svc.fit(X_train, y_train)"
   ]
  },
  {
   "cell_type": "code",
   "execution_count": 68,
   "id": "64a2840d",
   "metadata": {},
   "outputs": [],
   "source": [
    "y_pred_svc = clf_svc.predict(X_test)"
   ]
  },
  {
   "cell_type": "code",
   "execution_count": 69,
   "id": "dd89b940",
   "metadata": {},
   "outputs": [
    {
     "name": "stdout",
     "output_type": "stream",
     "text": [
      "accuracy =  0.9387755102040817\n"
     ]
    }
   ],
   "source": [
    "print(\"accuracy = \", accuracy_score(y_test, y_pred_svc))"
   ]
  },
  {
   "cell_type": "code",
   "execution_count": 70,
   "id": "befe4545",
   "metadata": {},
   "outputs": [],
   "source": [
    "cm_svc = confusion_matrix(y_test, y_pred_svc)"
   ]
  },
  {
   "cell_type": "code",
   "execution_count": 71,
   "id": "3449b91e",
   "metadata": {},
   "outputs": [],
   "source": [
    "tn, fp, fn, tp = cm_svc.ravel()"
   ]
  },
  {
   "cell_type": "code",
   "execution_count": 72,
   "id": "ecf832eb",
   "metadata": {},
   "outputs": [
    {
     "data": {
      "text/plain": [
       "(24, 2, 1, 22)"
      ]
     },
     "execution_count": 72,
     "metadata": {},
     "output_type": "execute_result"
    }
   ],
   "source": [
    "(tn, fp, fn, tp)"
   ]
  },
  {
   "cell_type": "code",
   "execution_count": 73,
   "id": "bffe5b79",
   "metadata": {},
   "outputs": [
    {
     "data": {
      "application/vnd.jupyter.widget-view+json": {
       "model_id": "d34fe9f9bd374bac93d66a7b3be28698",
       "version_major": 2,
       "version_minor": 0
      },
      "text/plain": [
       "Canvas(toolbar=Toolbar(toolitems=[('Home', 'Reset original view', 'home', 'home'), ('Back', 'Back to previous …"
      ]
     },
     "metadata": {},
     "output_type": "display_data"
    },
    {
     "data": {
      "text/plain": [
       "<sklearn.metrics._plot.confusion_matrix.ConfusionMatrixDisplay at 0x7f28fe4abaf0>"
      ]
     },
     "execution_count": 73,
     "metadata": {},
     "output_type": "execute_result"
    }
   ],
   "source": [
    "disp = ConfusionMatrixDisplay(confusion_matrix=cm_svc, display_labels=clf_svc.classes_)\n",
    "disp.plot()"
   ]
  },
  {
   "cell_type": "markdown",
   "id": "8f01df7a",
   "metadata": {},
   "source": [
    "# Histograms of Coefficients"
   ]
  },
  {
   "cell_type": "code",
   "execution_count": 74,
   "id": "e1e9c46b",
   "metadata": {},
   "outputs": [
    {
     "data": {
      "application/vnd.jupyter.widget-view+json": {
       "model_id": "6c029df69eb74ac9a9204d47f2fb592e",
       "version_major": 2,
       "version_minor": 0
      },
      "text/plain": [
       "Canvas(toolbar=Toolbar(toolitems=[('Home', 'Reset original view', 'home', 'home'), ('Back', 'Back to previous …"
      ]
     },
     "metadata": {},
     "output_type": "display_data"
    }
   ],
   "source": [
    "# laser histograms of approximation coefficients\n",
    "nrows = int(len(laser_files)/2)\n",
    "fig, axes = plt.subplots(nrows, 2, figsize=(12,20))\n",
    "\n",
    "ax = axes.flatten()\n",
    "i = 0\n",
    "for lf in laser_files:\n",
    "    audio_data, sr = librosa.load(lf, res_type='kaiser_fast')\n",
    "    coeffs = pywt.wavedec(audio_data, db1, mode='constant', level=5)\n",
    "    \n",
    "    ax[i].hist(coeffs[0], bins='auto')\n",
    "#     ax[i+1].hist(coeffs[-1], bins='auto')\n",
    "        \n",
    "    i+=1"
   ]
  },
  {
   "cell_type": "code",
   "execution_count": 75,
   "id": "7b81ca36",
   "metadata": {},
   "outputs": [
    {
     "data": {
      "application/vnd.jupyter.widget-view+json": {
       "model_id": "439f272fa1574baebe07dd3af65dafa5",
       "version_major": 2,
       "version_minor": 0
      },
      "text/plain": [
       "Canvas(toolbar=Toolbar(toolitems=[('Home', 'Reset original view', 'home', 'home'), ('Back', 'Back to previous …"
      ]
     },
     "metadata": {},
     "output_type": "display_data"
    }
   ],
   "source": [
    "# Original histograms of Approximation coefficients\n",
    "nrows = int(len(orig_files)/2)\n",
    "fig, axes = plt.subplots(nrows, 2, figsize=(12,20))\n",
    "\n",
    "ax = axes.flatten()\n",
    "i = 0\n",
    "for of in orig_files:\n",
    "    audio_data, sr = librosa.load(of, res_type='kaiser_fast')\n",
    "    coeffs = pywt.wavedec(audio_data, db1, mode='constant', level=5)\n",
    "    \n",
    "    ax[i].hist(coeffs[0], bins='auto')\n",
    "#     ax[i+1].hist(coeffs[-1], bins='auto')\n",
    "        \n",
    "    i+=1"
   ]
  },
  {
   "cell_type": "code",
   "execution_count": 76,
   "id": "540aa2a4",
   "metadata": {},
   "outputs": [
    {
     "data": {
      "application/vnd.jupyter.widget-view+json": {
       "model_id": "b1993f39e2cf485abd189965b538fe73",
       "version_major": 2,
       "version_minor": 0
      },
      "text/plain": [
       "Canvas(toolbar=Toolbar(toolitems=[('Home', 'Reset original view', 'home', 'home'), ('Back', 'Back to previous …"
      ]
     },
     "metadata": {},
     "output_type": "display_data"
    }
   ],
   "source": [
    "# laser histograms of Detail coefficients\n",
    "nrows = int(len(laser_files)/2)\n",
    "fig, axes = plt.subplots(nrows, 2, figsize=(12,20))\n",
    "\n",
    "ax = axes.flatten()\n",
    "i = 0\n",
    "for lf in laser_files:\n",
    "    audio_data, sr = librosa.load(lf, res_type='kaiser_fast')\n",
    "    coeffs = pywt.wavedec(audio_data, db1, mode='constant', level=5)\n",
    "    \n",
    "    ax[i].hist(coeffs[1], bins='auto')\n",
    "#     ax[i+1].hist(coeffs[-1], bins='auto')\n",
    "        \n",
    "    i+=1"
   ]
  },
  {
   "cell_type": "code",
   "execution_count": 77,
   "id": "d93f1e9a",
   "metadata": {},
   "outputs": [
    {
     "data": {
      "application/vnd.jupyter.widget-view+json": {
       "model_id": "2f7413c6ebc24706bbce6a08b140fbcc",
       "version_major": 2,
       "version_minor": 0
      },
      "text/plain": [
       "Canvas(toolbar=Toolbar(toolitems=[('Home', 'Reset original view', 'home', 'home'), ('Back', 'Back to previous …"
      ]
     },
     "metadata": {},
     "output_type": "display_data"
    }
   ],
   "source": [
    "# Original histograms of Detail coefficients\n",
    "nrows = int(len(orig_files)/2)\n",
    "fig, axes = plt.subplots(nrows, 2, figsize=(12,20))\n",
    "\n",
    "ax = axes.flatten()\n",
    "i = 0\n",
    "for of in orig_files:\n",
    "    audio_data, sr = librosa.load(of, res_type='kaiser_fast')\n",
    "    coeffs = pywt.wavedec(audio_data, db1, mode='constant', level=5)\n",
    "    \n",
    "    ax[i].hist(coeffs[1], bins='auto')\n",
    "#     ax[i+1].hist(coeffs[-1], bins='auto')\n",
    "        \n",
    "    i+=1"
   ]
  },
  {
   "cell_type": "code",
   "execution_count": 78,
   "id": "023c7361",
   "metadata": {},
   "outputs": [
    {
     "data": {
      "application/vnd.jupyter.widget-view+json": {
       "model_id": "d539e70a42e34d8bb01ed2ae8a4cede6",
       "version_major": 2,
       "version_minor": 0
      },
      "text/plain": [
       "Canvas(toolbar=Toolbar(toolitems=[('Home', 'Reset original view', 'home', 'home'), ('Back', 'Back to previous …"
      ]
     },
     "metadata": {},
     "output_type": "display_data"
    }
   ],
   "source": [
    "# laser histograms of Detail coefficients\n",
    "nrows = int(len(laser_files)/2)\n",
    "fig, axes = plt.subplots(nrows, 2, figsize=(12,20))\n",
    "\n",
    "ax = axes.flatten()\n",
    "i = 0\n",
    "for lf in laser_files:\n",
    "    audio_data, sr = librosa.load(lf, res_type='kaiser_fast')\n",
    "    coeffs = pywt.wavedec(audio_data, db1, mode='constant', level=5)\n",
    "    \n",
    "    ax[i].hist(coeffs[-1], bins='auto')\n",
    "#     ax[i+1].hist(coeffs[-1], bins='auto')\n",
    "        \n",
    "    i+=1"
   ]
  },
  {
   "cell_type": "code",
   "execution_count": 79,
   "id": "2cee9e01",
   "metadata": {},
   "outputs": [
    {
     "data": {
      "application/vnd.jupyter.widget-view+json": {
       "model_id": "1f35e1cb4add4904a16e34f5b777c953",
       "version_major": 2,
       "version_minor": 0
      },
      "text/plain": [
       "Canvas(toolbar=Toolbar(toolitems=[('Home', 'Reset original view', 'home', 'home'), ('Back', 'Back to previous …"
      ]
     },
     "metadata": {},
     "output_type": "display_data"
    }
   ],
   "source": [
    "# Original histograms of Detail coefficients\n",
    "nrows = int(len(orig_files)/2)\n",
    "fig, axes = plt.subplots(nrows, 2, figsize=(12,20))\n",
    "\n",
    "ax = axes.flatten()\n",
    "i = 0\n",
    "for of in orig_files:\n",
    "    audio_data, sr = librosa.load(of, res_type='kaiser_fast')\n",
    "    coeffs = pywt.wavedec(audio_data, db1, mode='constant', level=5)\n",
    "    \n",
    "    ax[i].hist(coeffs[-1], bins='auto')\n",
    "#     ax[i+1].hist(coeffs[-1], bins='auto')\n",
    "        \n",
    "    i+=1"
   ]
  }
 ],
 "metadata": {
  "kernelspec": {
   "display_name": "laser_injection",
   "language": "python",
   "name": "laser_injection"
  },
  "language_info": {
   "codemirror_mode": {
    "name": "ipython",
    "version": 3
   },
   "file_extension": ".py",
   "mimetype": "text/x-python",
   "name": "python",
   "nbconvert_exporter": "python",
   "pygments_lexer": "ipython3",
   "version": "3.8.10"
  }
 },
 "nbformat": 4,
 "nbformat_minor": 5
}
