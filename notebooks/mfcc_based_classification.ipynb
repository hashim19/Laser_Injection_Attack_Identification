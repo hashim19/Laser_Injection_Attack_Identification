{
 "cells": [
  {
   "cell_type": "code",
   "execution_count": 1,
   "id": "f77a70b1",
   "metadata": {},
   "outputs": [],
   "source": [
    "import os\n",
    "import pandas as pd\n",
    "import librosa\n",
    "import librosa.display\n",
    "import glob \n",
    "import numpy as np\n",
    "import matplotlib.pyplot as plt\n",
    "from matplotlib import cm\n",
    "import seaborn as sns\n",
    "from fitter import Fitter, get_common_distributions, get_distributions\n",
    "\n",
    "from sklearn.preprocessing import StandardScaler\n",
    "import sklearn\n",
    "\n",
    "from utils import plot_projections\n",
    "\n",
    "%matplotlib widget"
   ]
  },
  {
   "cell_type": "code",
   "execution_count": 2,
   "id": "44ac53e9",
   "metadata": {},
   "outputs": [
    {
     "name": "stdout",
     "output_type": "stream",
     "text": [
      "['/home/hashim/PHD/audio_data/Laser_Original/Laser/laser_000.mp3', '/home/hashim/PHD/audio_data/Laser_Original/Laser/laser_001.mp3', '/home/hashim/PHD/audio_data/Laser_Original/Laser/laser_002.mp3', '/home/hashim/PHD/audio_data/Laser_Original/Laser/laser_003.mp3', '/home/hashim/PHD/audio_data/Laser_Original/Laser/laser_004.mp3', '/home/hashim/PHD/audio_data/Laser_Original/Laser/laser_005.mp3', '/home/hashim/PHD/audio_data/Laser_Original/Laser/laser_006.mp3', '/home/hashim/PHD/audio_data/Laser_Original/Laser/laser_007.mp3', '/home/hashim/PHD/audio_data/Laser_Original/Laser/laser_008.mp3', '/home/hashim/PHD/audio_data/Laser_Original/Laser/laser_009.mp3', '/home/hashim/PHD/audio_data/Laser_Original/Original/original_000.mp3', '/home/hashim/PHD/audio_data/Laser_Original/Original/original_001.mp3', '/home/hashim/PHD/audio_data/Laser_Original/Original/original_002.mp3', '/home/hashim/PHD/audio_data/Laser_Original/Original/original_003.mp3', '/home/hashim/PHD/audio_data/Laser_Original/Original/original_004.mp3', '/home/hashim/PHD/audio_data/Laser_Original/Original/original_005.mp3', '/home/hashim/PHD/audio_data/Laser_Original/Original/original_006.mp3', '/home/hashim/PHD/audio_data/Laser_Original/Original/original_007.mp3']\n",
      "18\n"
     ]
    }
   ],
   "source": [
    "audio_dir = '/home/hashim/PHD/audio_data/Laser_Original/'\n",
    "\n",
    "wav_files = list(glob.glob(os.path.join(audio_dir, '**/*.mp3')))\n",
    "wav_files.sort()\n",
    "print(wav_files)\n",
    "print(len(wav_files))"
   ]
  },
  {
   "cell_type": "code",
   "execution_count": 3,
   "id": "af8138fa",
   "metadata": {},
   "outputs": [
    {
     "name": "stdout",
     "output_type": "stream",
     "text": [
      "['/home/hashim/PHD/audio_data/Laser_Original/Laser/laser_000.mp3', '/home/hashim/PHD/audio_data/Laser_Original/Laser/laser_001.mp3', '/home/hashim/PHD/audio_data/Laser_Original/Laser/laser_002.mp3', '/home/hashim/PHD/audio_data/Laser_Original/Laser/laser_003.mp3', '/home/hashim/PHD/audio_data/Laser_Original/Laser/laser_004.mp3', '/home/hashim/PHD/audio_data/Laser_Original/Laser/laser_005.mp3', '/home/hashim/PHD/audio_data/Laser_Original/Laser/laser_006.mp3', '/home/hashim/PHD/audio_data/Laser_Original/Laser/laser_007.mp3', '/home/hashim/PHD/audio_data/Laser_Original/Laser/laser_008.mp3', '/home/hashim/PHD/audio_data/Laser_Original/Laser/laser_009.mp3']\n",
      "10\n"
     ]
    }
   ],
   "source": [
    "laser_dir = '/home/hashim/PHD/audio_data/Laser_Original/Laser/'\n",
    "laser_files = list(glob.glob(os.path.join(laser_dir, '*.mp3')))\n",
    "laser_files.sort()\n",
    "print(laser_files)\n",
    "print(len(laser_files))"
   ]
  },
  {
   "cell_type": "code",
   "execution_count": 4,
   "id": "23b2d609",
   "metadata": {},
   "outputs": [
    {
     "name": "stdout",
     "output_type": "stream",
     "text": [
      "['/home/hashim/PHD/audio_data/Laser_Original/Original/original_000.mp3', '/home/hashim/PHD/audio_data/Laser_Original/Original/original_001.mp3', '/home/hashim/PHD/audio_data/Laser_Original/Original/original_002.mp3', '/home/hashim/PHD/audio_data/Laser_Original/Original/original_003.mp3', '/home/hashim/PHD/audio_data/Laser_Original/Original/original_004.mp3', '/home/hashim/PHD/audio_data/Laser_Original/Original/original_005.mp3', '/home/hashim/PHD/audio_data/Laser_Original/Original/original_006.mp3', '/home/hashim/PHD/audio_data/Laser_Original/Original/original_007.mp3']\n",
      "8\n"
     ]
    }
   ],
   "source": [
    "orig_dir = '/home/hashim/PHD/audio_data/Laser_Original/Original/'\n",
    "orig_files = list(glob.glob(os.path.join(orig_dir, '*.mp3')))\n",
    "orig_files.sort()\n",
    "print(orig_files)\n",
    "print(len(orig_files))"
   ]
  },
  {
   "cell_type": "code",
   "execution_count": 15,
   "id": "53c7711e",
   "metadata": {},
   "outputs": [
    {
     "data": {
      "application/vnd.jupyter.widget-view+json": {
       "model_id": "54b1a70f9d4a49c59b3ca68fe91920ca",
       "version_major": 2,
       "version_minor": 0
      },
      "text/plain": [
       "Canvas(toolbar=Toolbar(toolitems=[('Home', 'Reset original view', 'home', 'home'), ('Back', 'Back to previous …"
      ]
     },
     "metadata": {},
     "output_type": "display_data"
    },
    {
     "name": "stderr",
     "output_type": "stream",
     "text": [
      "/home/hashim/pyenvs/laser_injection/lib/python3.8/site-packages/sklearn/preprocessing/_data.py:194: UserWarning: Numerical issues were encountered when centering the data and might not be solved. Dataset may contain too large values. You may need to prescale your features.\n",
      "  warnings.warn(\"Numerical issues were encountered \"\n",
      "/home/hashim/pyenvs/laser_injection/lib/python3.8/site-packages/sklearn/preprocessing/_data.py:211: UserWarning: Numerical issues were encountered when scaling the data and might not be solved. The standard deviation of the data is probably very close to 0. \n",
      "  warnings.warn(\"Numerical issues were encountered \"\n",
      "/home/hashim/pyenvs/laser_injection/lib/python3.8/site-packages/sklearn/preprocessing/_data.py:194: UserWarning: Numerical issues were encountered when centering the data and might not be solved. Dataset may contain too large values. You may need to prescale your features.\n",
      "  warnings.warn(\"Numerical issues were encountered \"\n",
      "/home/hashim/pyenvs/laser_injection/lib/python3.8/site-packages/sklearn/preprocessing/_data.py:211: UserWarning: Numerical issues were encountered when scaling the data and might not be solved. The standard deviation of the data is probably very close to 0. \n",
      "  warnings.warn(\"Numerical issues were encountered \"\n",
      "/home/hashim/pyenvs/laser_injection/lib/python3.8/site-packages/sklearn/preprocessing/_data.py:194: UserWarning: Numerical issues were encountered when centering the data and might not be solved. Dataset may contain too large values. You may need to prescale your features.\n",
      "  warnings.warn(\"Numerical issues were encountered \"\n",
      "/home/hashim/pyenvs/laser_injection/lib/python3.8/site-packages/sklearn/preprocessing/_data.py:211: UserWarning: Numerical issues were encountered when scaling the data and might not be solved. The standard deviation of the data is probably very close to 0. \n",
      "  warnings.warn(\"Numerical issues were encountered \"\n",
      "/home/hashim/pyenvs/laser_injection/lib/python3.8/site-packages/sklearn/preprocessing/_data.py:194: UserWarning: Numerical issues were encountered when centering the data and might not be solved. Dataset may contain too large values. You may need to prescale your features.\n",
      "  warnings.warn(\"Numerical issues were encountered \"\n",
      "/home/hashim/pyenvs/laser_injection/lib/python3.8/site-packages/sklearn/preprocessing/_data.py:211: UserWarning: Numerical issues were encountered when scaling the data and might not be solved. The standard deviation of the data is probably very close to 0. \n",
      "  warnings.warn(\"Numerical issues were encountered \"\n",
      "/home/hashim/pyenvs/laser_injection/lib/python3.8/site-packages/sklearn/preprocessing/_data.py:194: UserWarning: Numerical issues were encountered when centering the data and might not be solved. Dataset may contain too large values. You may need to prescale your features.\n",
      "  warnings.warn(\"Numerical issues were encountered \"\n",
      "/home/hashim/pyenvs/laser_injection/lib/python3.8/site-packages/sklearn/preprocessing/_data.py:211: UserWarning: Numerical issues were encountered when scaling the data and might not be solved. The standard deviation of the data is probably very close to 0. \n",
      "  warnings.warn(\"Numerical issues were encountered \"\n",
      "/home/hashim/pyenvs/laser_injection/lib/python3.8/site-packages/sklearn/preprocessing/_data.py:194: UserWarning: Numerical issues were encountered when centering the data and might not be solved. Dataset may contain too large values. You may need to prescale your features.\n",
      "  warnings.warn(\"Numerical issues were encountered \"\n",
      "/home/hashim/pyenvs/laser_injection/lib/python3.8/site-packages/sklearn/preprocessing/_data.py:211: UserWarning: Numerical issues were encountered when scaling the data and might not be solved. The standard deviation of the data is probably very close to 0. \n",
      "  warnings.warn(\"Numerical issues were encountered \"\n",
      "/home/hashim/pyenvs/laser_injection/lib/python3.8/site-packages/sklearn/preprocessing/_data.py:194: UserWarning: Numerical issues were encountered when centering the data and might not be solved. Dataset may contain too large values. You may need to prescale your features.\n",
      "  warnings.warn(\"Numerical issues were encountered \"\n",
      "/home/hashim/pyenvs/laser_injection/lib/python3.8/site-packages/sklearn/preprocessing/_data.py:211: UserWarning: Numerical issues were encountered when scaling the data and might not be solved. The standard deviation of the data is probably very close to 0. \n",
      "  warnings.warn(\"Numerical issues were encountered \"\n",
      "/home/hashim/pyenvs/laser_injection/lib/python3.8/site-packages/sklearn/preprocessing/_data.py:194: UserWarning: Numerical issues were encountered when centering the data and might not be solved. Dataset may contain too large values. You may need to prescale your features.\n",
      "  warnings.warn(\"Numerical issues were encountered \"\n",
      "/home/hashim/pyenvs/laser_injection/lib/python3.8/site-packages/sklearn/preprocessing/_data.py:211: UserWarning: Numerical issues were encountered when scaling the data and might not be solved. The standard deviation of the data is probably very close to 0. \n",
      "  warnings.warn(\"Numerical issues were encountered \"\n",
      "/home/hashim/pyenvs/laser_injection/lib/python3.8/site-packages/sklearn/preprocessing/_data.py:194: UserWarning: Numerical issues were encountered when centering the data and might not be solved. Dataset may contain too large values. You may need to prescale your features.\n",
      "  warnings.warn(\"Numerical issues were encountered \"\n",
      "/home/hashim/pyenvs/laser_injection/lib/python3.8/site-packages/sklearn/preprocessing/_data.py:211: UserWarning: Numerical issues were encountered when scaling the data and might not be solved. The standard deviation of the data is probably very close to 0. \n",
      "  warnings.warn(\"Numerical issues were encountered \"\n",
      "/home/hashim/pyenvs/laser_injection/lib/python3.8/site-packages/sklearn/preprocessing/_data.py:194: UserWarning: Numerical issues were encountered when centering the data and might not be solved. Dataset may contain too large values. You may need to prescale your features.\n",
      "  warnings.warn(\"Numerical issues were encountered \"\n",
      "/home/hashim/pyenvs/laser_injection/lib/python3.8/site-packages/sklearn/preprocessing/_data.py:211: UserWarning: Numerical issues were encountered when scaling the data and might not be solved. The standard deviation of the data is probably very close to 0. \n",
      "  warnings.warn(\"Numerical issues were encountered \"\n"
     ]
    }
   ],
   "source": [
    "# laser MFCCs\n",
    "nrows = int(len(laser_files)/2)\n",
    "fig, axes = plt.subplots(nrows, 2, figsize=(12,16))\n",
    "\n",
    "# print(axes)\n",
    "ax = axes.flatten()\n",
    "\n",
    "scaler = StandardScaler()\n",
    "\n",
    "i = 0\n",
    "for lf in laser_files:\n",
    "    audio_data, sr = librosa.load(lf, res_type='kaiser_fast')\n",
    "    \n",
    "#     audio_data = librosa.effects.preemphasis(audio_data)\n",
    "    \n",
    "    stft = librosa.stft(audio_data, n_fft=256)\n",
    "    S_db = librosa.amplitude_to_db(np.abs(stft), ref=np.max)\n",
    "    \n",
    "#     rolloff = librosa.feature.spectral_rolloff(y=audio_data, sr=sr)\n",
    "    \n",
    "#     print(rolloff.shape)\n",
    "    \n",
    "    mfcc_data = librosa.feature.mfcc(audio_data, sr=sr)\n",
    "    mfccs = sklearn.preprocessing.scale(mfcc_data, axis=1)\n",
    "#     mfccs = scaler.fit_transform(mfcc_data)\n",
    "    \n",
    "#     print(mfcc_data.shape)\n",
    "    \n",
    "#     cax = ax[i].imshow(mfcc_data, interpolation='nearest', cmap=cm.coolwarm, origin='lower')\n",
    "    \n",
    "    librosa.display.specshow(mfccs, sr=sr, x_axis='time', ax=ax[i])\n",
    "    \n",
    "# ax.set_title('MFCC')\n",
    "#     img = librosa.display.specshow(mfcc_feat, x_axis='time', y_axis='log', sr=sr, ax=ax[i])\n",
    "#     librosa.display.specshow(S_db, x_axis='time', y_axis='log', sr=sr, ax=ax[i])\n",
    "    i+=1\n",
    "# plt.title('Mel-frequency spectrogram')\n",
    "# fig.colorbar(img, ax=ax, format='%+2.0f dB')\n",
    "plt.show()"
   ]
  },
  {
   "cell_type": "code",
   "execution_count": 6,
   "id": "39ebadd8",
   "metadata": {},
   "outputs": [
    {
     "data": {
      "application/vnd.jupyter.widget-view+json": {
       "model_id": "b24b6a257c914686bbd8db9568562515",
       "version_major": 2,
       "version_minor": 0
      },
      "text/plain": [
       "Canvas(toolbar=Toolbar(toolitems=[('Home', 'Reset original view', 'home', 'home'), ('Back', 'Back to previous …"
      ]
     },
     "metadata": {},
     "output_type": "display_data"
    },
    {
     "name": "stderr",
     "output_type": "stream",
     "text": [
      "/home/hashim/pyenvs/laser_injection/lib/python3.8/site-packages/sklearn/preprocessing/_data.py:194: UserWarning: Numerical issues were encountered when centering the data and might not be solved. Dataset may contain too large values. You may need to prescale your features.\n",
      "  warnings.warn(\"Numerical issues were encountered \"\n",
      "/home/hashim/pyenvs/laser_injection/lib/python3.8/site-packages/sklearn/preprocessing/_data.py:211: UserWarning: Numerical issues were encountered when scaling the data and might not be solved. The standard deviation of the data is probably very close to 0. \n",
      "  warnings.warn(\"Numerical issues were encountered \"\n",
      "/home/hashim/pyenvs/laser_injection/lib/python3.8/site-packages/sklearn/preprocessing/_data.py:194: UserWarning: Numerical issues were encountered when centering the data and might not be solved. Dataset may contain too large values. You may need to prescale your features.\n",
      "  warnings.warn(\"Numerical issues were encountered \"\n",
      "/home/hashim/pyenvs/laser_injection/lib/python3.8/site-packages/sklearn/preprocessing/_data.py:211: UserWarning: Numerical issues were encountered when scaling the data and might not be solved. The standard deviation of the data is probably very close to 0. \n",
      "  warnings.warn(\"Numerical issues were encountered \"\n",
      "/home/hashim/pyenvs/laser_injection/lib/python3.8/site-packages/sklearn/preprocessing/_data.py:194: UserWarning: Numerical issues were encountered when centering the data and might not be solved. Dataset may contain too large values. You may need to prescale your features.\n",
      "  warnings.warn(\"Numerical issues were encountered \"\n",
      "/home/hashim/pyenvs/laser_injection/lib/python3.8/site-packages/sklearn/preprocessing/_data.py:211: UserWarning: Numerical issues were encountered when scaling the data and might not be solved. The standard deviation of the data is probably very close to 0. \n",
      "  warnings.warn(\"Numerical issues were encountered \"\n",
      "/home/hashim/pyenvs/laser_injection/lib/python3.8/site-packages/sklearn/preprocessing/_data.py:194: UserWarning: Numerical issues were encountered when centering the data and might not be solved. Dataset may contain too large values. You may need to prescale your features.\n",
      "  warnings.warn(\"Numerical issues were encountered \"\n",
      "/home/hashim/pyenvs/laser_injection/lib/python3.8/site-packages/sklearn/preprocessing/_data.py:211: UserWarning: Numerical issues were encountered when scaling the data and might not be solved. The standard deviation of the data is probably very close to 0. \n",
      "  warnings.warn(\"Numerical issues were encountered \"\n",
      "/home/hashim/pyenvs/laser_injection/lib/python3.8/site-packages/sklearn/preprocessing/_data.py:194: UserWarning: Numerical issues were encountered when centering the data and might not be solved. Dataset may contain too large values. You may need to prescale your features.\n",
      "  warnings.warn(\"Numerical issues were encountered \"\n",
      "/home/hashim/pyenvs/laser_injection/lib/python3.8/site-packages/sklearn/preprocessing/_data.py:211: UserWarning: Numerical issues were encountered when scaling the data and might not be solved. The standard deviation of the data is probably very close to 0. \n",
      "  warnings.warn(\"Numerical issues were encountered \"\n",
      "/home/hashim/pyenvs/laser_injection/lib/python3.8/site-packages/sklearn/preprocessing/_data.py:194: UserWarning: Numerical issues were encountered when centering the data and might not be solved. Dataset may contain too large values. You may need to prescale your features.\n",
      "  warnings.warn(\"Numerical issues were encountered \"\n",
      "/home/hashim/pyenvs/laser_injection/lib/python3.8/site-packages/sklearn/preprocessing/_data.py:211: UserWarning: Numerical issues were encountered when scaling the data and might not be solved. The standard deviation of the data is probably very close to 0. \n",
      "  warnings.warn(\"Numerical issues were encountered \"\n",
      "/home/hashim/pyenvs/laser_injection/lib/python3.8/site-packages/sklearn/preprocessing/_data.py:194: UserWarning: Numerical issues were encountered when centering the data and might not be solved. Dataset may contain too large values. You may need to prescale your features.\n",
      "  warnings.warn(\"Numerical issues were encountered \"\n",
      "/home/hashim/pyenvs/laser_injection/lib/python3.8/site-packages/sklearn/preprocessing/_data.py:211: UserWarning: Numerical issues were encountered when scaling the data and might not be solved. The standard deviation of the data is probably very close to 0. \n",
      "  warnings.warn(\"Numerical issues were encountered \"\n",
      "/home/hashim/pyenvs/laser_injection/lib/python3.8/site-packages/sklearn/preprocessing/_data.py:194: UserWarning: Numerical issues were encountered when centering the data and might not be solved. Dataset may contain too large values. You may need to prescale your features.\n",
      "  warnings.warn(\"Numerical issues were encountered \"\n",
      "/home/hashim/pyenvs/laser_injection/lib/python3.8/site-packages/sklearn/preprocessing/_data.py:211: UserWarning: Numerical issues were encountered when scaling the data and might not be solved. The standard deviation of the data is probably very close to 0. \n",
      "  warnings.warn(\"Numerical issues were encountered \"\n"
     ]
    }
   ],
   "source": [
    "# Original MFCCs\n",
    "nrows = int(len(orig_files)/2)\n",
    "fig, axes = plt.subplots(nrows, 2, figsize=(12,16))\n",
    "\n",
    "# print(axes)\n",
    "ax = axes.flatten()\n",
    "\n",
    "scaler = StandardScaler()\n",
    "\n",
    "i = 0\n",
    "for of in orig_files:\n",
    "    audio_data, sr = librosa.load(lf, res_type='kaiser_fast')\n",
    "    stft = librosa.stft(audio_data, n_fft=256)\n",
    "    S_db = librosa.amplitude_to_db(np.abs(stft), ref=np.max)\n",
    "    \n",
    "#     rolloff = librosa.feature.spectral_rolloff(y=audio_data, sr=sr)\n",
    "    \n",
    "#     print(rolloff.shape)\n",
    "    \n",
    "    mfcc_data = librosa.feature.mfcc(audio_data, sr=sr)\n",
    "    mfccs = sklearn.preprocessing.scale(mfcc_data, axis=1)\n",
    "    \n",
    "#     print(mfcc_data.shape)\n",
    "    \n",
    "#     cax = ax[i].imshow(mfcc_data, interpolation='nearest', cmap=cm.coolwarm, origin='lower')\n",
    "    \n",
    "    librosa.display.specshow(mfccs, sr=sr, x_axis='time', ax=ax[i])\n",
    "    \n",
    "# ax.set_title('MFCC')\n",
    "#     img = librosa.display.specshow(mfcc_feat, x_axis='time', y_axis='log', sr=sr, ax=ax[i])\n",
    "#     librosa.display.specshow(S_db, x_axis='time', y_axis='log', sr=sr, ax=ax[i])\n",
    "    i+=1\n",
    "# plt.title('Mel-frequency spectrogram')\n",
    "# fig.colorbar(img, ax=ax, format='%+2.0f dB')\n",
    "plt.show()"
   ]
  },
  {
   "cell_type": "code",
   "execution_count": null,
   "id": "b5870ca5",
   "metadata": {},
   "outputs": [],
   "source": []
  }
 ],
 "metadata": {
  "kernelspec": {
   "display_name": "laser_injection",
   "language": "python",
   "name": "laser_injection"
  },
  "language_info": {
   "codemirror_mode": {
    "name": "ipython",
    "version": 3
   },
   "file_extension": ".py",
   "mimetype": "text/x-python",
   "name": "python",
   "nbconvert_exporter": "python",
   "pygments_lexer": "ipython3",
   "version": "3.8.10"
  }
 },
 "nbformat": 4,
 "nbformat_minor": 5
}
